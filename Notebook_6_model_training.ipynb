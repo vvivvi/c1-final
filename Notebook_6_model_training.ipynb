{
 "cells": [
  {
   "cell_type": "code",
   "execution_count": 1,
   "metadata": {},
   "outputs": [
    {
     "name": "stdout",
     "output_type": "stream",
     "text": [
      "Using DATA_DIR  /home/vvi/repos/c1-final/datadir\n"
     ]
    },
    {
     "name": "stderr",
     "output_type": "stream",
     "text": [
      "/home/vvi/anaconda3/lib/python3.7/site-packages/sklearn/externals/joblib/__init__.py:15: FutureWarning: sklearn.externals.joblib is deprecated in 0.21 and will be removed in 0.23. Please import this functionality directly from joblib, which can be installed with: pip install joblib. If this warning is raised when loading pickled models, you may need to re-serialize those models with scikit-learn 0.21+.\n",
      "  warnings.warn(msg, category=FutureWarning)\n"
     ]
    }
   ],
   "source": [
    "import sys\n",
    "import os.path\n",
    "import json\n",
    "import numpy as np\n",
    "import pandas as pd \n",
    "import sklearn\n",
    "import scipy.sparse \n",
    "from itertools import product\n",
    "import gc\n",
    "from tqdm import tqdm_notebook\n",
    "import re\n",
    "from catboost import CatBoostRegressor, Pool\n",
    "from utils import load_feature_set, clipped_rmse, HoldOut\n",
    "import pickle\n",
    "from sklearn.externals import joblib\n",
    "\n",
    "IN_COLAB = 'google.colab' in sys.modules\n",
    "\n",
    "if IN_COLAB:\n",
    "  from google.colab import drive\n",
    "  drive.mount('/content/gdrive') \n",
    "  if not os.path.isfile('SETTINGS.json'):\n",
    "       # hard coded data directory in drive is used if SETTINGS.json not present \n",
    "       config={}\n",
    "       config['DATA_DIR'] = '/content/gdrive/My Drive/kaggle-c1'\n",
    "       with open('SETTINGS.json', 'w') as outfile:\n",
    "         json.dump(config, outfile)\n",
    "\n",
    "with open('SETTINGS.json') as config_file:\n",
    "    config = json.load(config_file)\n",
    "\n",
    "DATA_DIR = config['DATA_DIR']\n",
    "\n",
    "print('Using DATA_DIR ', DATA_DIR)\n",
    "\n",
    "DATA_FOLDER = DATA_DIR"
   ]
  },
  {
   "cell_type": "code",
   "execution_count": 2,
   "metadata": {},
   "outputs": [],
   "source": [
    "# read feature selection and hyperparameter search results from disk\n",
    "\n",
    "with open(os.path.join(DATA_FOLDER,'search_path_sfs.pickle'), 'rb') as fp:    \n",
    "            search_path_sfs = pickle.load(fp)\n",
    "        \n",
    "with open(os.path.join(DATA_FOLDER,'best_params_catboost.json')) as fp:        \n",
    "    best_params_catboost = json.load(fp)\n",
    "\n",
    "        \n",
    "with open(os.path.join(DATA_FOLDER,'best_params_rf.json')) as fp:        \n",
    "    best_params_rf = json.load(fp)\n",
    "        "
   ]
  },
  {
   "cell_type": "code",
   "execution_count": 3,
   "metadata": {},
   "outputs": [
    {
     "data": {
      "text/plain": [
       "{'basic_sel9': {'learning_rate': 0.03,\n",
       "  'iterations': 1000,\n",
       "  'depth': 14,\n",
       "  'l2_leaf_reg': 1,\n",
       "  'task_type': 'GPU'},\n",
       " 'basic_sel16': {'learning_rate': 0.5,\n",
       "  'iterations': 300,\n",
       "  'depth': 14,\n",
       "  'l2_leaf_reg': 0.3,\n",
       "  'task_type': 'GPU'},\n",
       " 'basic_sel25': {'learning_rate': 0.3,\n",
       "  'iterations': 300,\n",
       "  'depth': 10,\n",
       "  'l2_leaf_reg': 10,\n",
       "  'task_type': 'GPU'},\n",
       " 'basicv2_sel9': {'learning_rate': 0.3,\n",
       "  'iterations': 300,\n",
       "  'depth': 15,\n",
       "  'l2_leaf_reg': 3,\n",
       "  'task_type': 'GPU'},\n",
       " 'basicv2_sel16': {'learning_rate': 0.1,\n",
       "  'iterations': 300,\n",
       "  'depth': 15,\n",
       "  'l2_leaf_reg': 10,\n",
       "  'task_type': 'GPU'},\n",
       " 'basicv2_sel25': {'learning_rate': 0.03,\n",
       "  'iterations': 1000,\n",
       "  'depth': 12,\n",
       "  'l2_leaf_reg': 3,\n",
       "  'task_type': 'GPU'},\n",
       " 'allfeat_sel9': {'learning_rate': 0.3,\n",
       "  'iterations': 1000,\n",
       "  'depth': 14,\n",
       "  'l2_leaf_reg': 10,\n",
       "  'task_type': 'GPU'},\n",
       " 'allfeat_sel16': {'learning_rate': 0.5,\n",
       "  'iterations': 300,\n",
       "  'depth': 15,\n",
       "  'l2_leaf_reg': 10,\n",
       "  'task_type': 'GPU'},\n",
       " 'allfeat_sel25': {'learning_rate': 0.1,\n",
       "  'iterations': 1000,\n",
       "  'depth': 16,\n",
       "  'l2_leaf_reg': 1,\n",
       "  'task_type': 'GPU'},\n",
       " 'text_sel9': {'learning_rate': 0.3,\n",
       "  'iterations': 1000,\n",
       "  'depth': 16,\n",
       "  'l2_leaf_reg': 3,\n",
       "  'task_type': 'GPU'},\n",
       " 'text_sel16': {'learning_rate': 0.1,\n",
       "  'iterations': 1000,\n",
       "  'depth': 12,\n",
       "  'l2_leaf_reg': 3,\n",
       "  'task_type': 'GPU'},\n",
       " 'text_sel25': {'learning_rate': 0.3,\n",
       "  'iterations': 1000,\n",
       "  'depth': 15,\n",
       "  'l2_leaf_reg': 10,\n",
       "  'task_type': 'GPU'},\n",
       " 'within_sel9': {'learning_rate': 0.3,\n",
       "  'iterations': 100,\n",
       "  'depth': 12,\n",
       "  'l2_leaf_reg': 10,\n",
       "  'task_type': 'GPU'},\n",
       " 'within_sel16': {'learning_rate': 0.1,\n",
       "  'iterations': 300,\n",
       "  'depth': 12,\n",
       "  'l2_leaf_reg': 3,\n",
       "  'task_type': 'GPU'},\n",
       " 'within_sel25': {'learning_rate': 0.03,\n",
       "  'iterations': 1000,\n",
       "  'depth': 12,\n",
       "  'l2_leaf_reg': 10,\n",
       "  'task_type': 'GPU'}}"
      ]
     },
     "execution_count": 3,
     "metadata": {},
     "output_type": "execute_result"
    }
   ],
   "source": [
    "best_params_catboost"
   ]
  },
  {
   "cell_type": "code",
   "execution_count": 3,
   "metadata": {},
   "outputs": [
    {
     "name": "stdout",
     "output_type": "stream",
     "text": [
      "reading from file /home/vvi/repos/c1-final/datadir/feature_set_allfeat.csv\n"
     ]
    }
   ],
   "source": [
    "X_train, y_train, X_trainval, y_trainval, X_val, y_val, X_test, submissionidx2testidx = load_feature_set('allfeat', data_folder=DATA_FOLDER)"
   ]
  },
  {
   "cell_type": "markdown",
   "metadata": {},
   "source": [
    "## CatBoost model training"
   ]
  },
  {
   "cell_type": "code",
   "execution_count": 5,
   "metadata": {},
   "outputs": [
    {
     "name": "stdout",
     "output_type": "stream",
     "text": [
      "784:\tlearn: 0.9328362\ttotal: 2m 18s\tremaining: 37.8s\n",
      "785:\tlearn: 0.9328157\ttotal: 2m 18s\tremaining: 37.6s\n",
      "786:\tlearn: 0.9328159\ttotal: 2m 18s\tremaining: 37.5s\n",
      "787:\tlearn: 0.9328158\ttotal: 2m 18s\tremaining: 37.3s\n",
      "788:\tlearn: 0.9327963\ttotal: 2m 18s\tremaining: 37.1s\n",
      "789:\tlearn: 0.9327964\ttotal: 2m 18s\tremaining: 36.9s\n",
      "790:\tlearn: 0.9327954\ttotal: 2m 19s\tremaining: 36.8s\n",
      "791:\tlearn: 0.9327954\ttotal: 2m 19s\tremaining: 36.6s\n",
      "792:\tlearn: 0.9327730\ttotal: 2m 19s\tremaining: 36.4s\n",
      "793:\tlearn: 0.9327730\ttotal: 2m 19s\tremaining: 36.2s\n",
      "794:\tlearn: 0.9327719\ttotal: 2m 19s\tremaining: 36.1s\n",
      "795:\tlearn: 0.9327719\ttotal: 2m 19s\tremaining: 35.9s\n",
      "796:\tlearn: 0.9327715\ttotal: 2m 20s\tremaining: 35.7s\n",
      "797:\tlearn: 0.9327716\ttotal: 2m 20s\tremaining: 35.5s\n",
      "798:\tlearn: 0.9327715\ttotal: 2m 20s\tremaining: 35.4s\n",
      "799:\tlearn: 0.9327715\ttotal: 2m 20s\tremaining: 35.2s\n",
      "800:\tlearn: 0.9327711\ttotal: 2m 20s\tremaining: 35s\n",
      "801:\tlearn: 0.9327712\ttotal: 2m 20s\tremaining: 34.8s\n",
      "802:\tlearn: 0.9327711\ttotal: 2m 21s\tremaining: 34.7s\n",
      "803:\tlearn: 0.9327689\ttotal: 2m 21s\tremaining: 34.5s\n",
      "804:\tlearn: 0.9327687\ttotal: 2m 21s\tremaining: 34.3s\n",
      "805:\tlearn: 0.9327686\ttotal: 2m 21s\tremaining: 34.1s\n",
      "806:\tlearn: 0.9327685\ttotal: 2m 22s\tremaining: 34s\n",
      "807:\tlearn: 0.9327301\ttotal: 2m 22s\tremaining: 33.8s\n",
      "808:\tlearn: 0.9327291\ttotal: 2m 22s\tremaining: 33.6s\n",
      "809:\tlearn: 0.9327291\ttotal: 2m 22s\tremaining: 33.4s\n",
      "810:\tlearn: 0.9327286\ttotal: 2m 22s\tremaining: 33.3s\n",
      "811:\tlearn: 0.9327170\ttotal: 2m 22s\tremaining: 33.1s\n",
      "812:\tlearn: 0.9327171\ttotal: 2m 23s\tremaining: 32.9s\n",
      "813:\tlearn: 0.9323862\ttotal: 2m 23s\tremaining: 32.7s\n",
      "814:\tlearn: 0.9314962\ttotal: 2m 23s\tremaining: 32.6s\n",
      "815:\tlearn: 0.9314962\ttotal: 2m 23s\tremaining: 32.4s\n",
      "816:\tlearn: 0.9314955\ttotal: 2m 23s\tremaining: 32.2s\n",
      "817:\tlearn: 0.9313879\ttotal: 2m 24s\tremaining: 32.1s\n",
      "818:\tlearn: 0.9313864\ttotal: 2m 24s\tremaining: 31.9s\n",
      "819:\tlearn: 0.9313863\ttotal: 2m 24s\tremaining: 31.7s\n",
      "820:\tlearn: 0.9313861\ttotal: 2m 24s\tremaining: 31.6s\n",
      "821:\tlearn: 0.9313861\ttotal: 2m 24s\tremaining: 31.3s\n",
      "822:\tlearn: 0.9313865\ttotal: 2m 25s\tremaining: 31.2s\n",
      "823:\tlearn: 0.9313865\ttotal: 2m 25s\tremaining: 31s\n",
      "824:\tlearn: 0.9313860\ttotal: 2m 25s\tremaining: 30.8s\n",
      "825:\tlearn: 0.9313861\ttotal: 2m 25s\tremaining: 30.6s\n",
      "826:\tlearn: 0.9313855\ttotal: 2m 25s\tremaining: 30.5s\n",
      "827:\tlearn: 0.9313854\ttotal: 2m 25s\tremaining: 30.3s\n",
      "828:\tlearn: 0.9313858\ttotal: 2m 26s\tremaining: 30.1s\n",
      "829:\tlearn: 0.9313859\ttotal: 2m 26s\tremaining: 29.9s\n",
      "830:\tlearn: 0.9313857\ttotal: 2m 26s\tremaining: 29.8s\n",
      "831:\tlearn: 0.9313857\ttotal: 2m 26s\tremaining: 29.6s\n",
      "832:\tlearn: 0.9313853\ttotal: 2m 26s\tremaining: 29.4s\n",
      "833:\tlearn: 0.9313854\ttotal: 2m 26s\tremaining: 29.2s\n",
      "834:\tlearn: 0.9313853\ttotal: 2m 27s\tremaining: 29.1s\n",
      "835:\tlearn: 0.9313853\ttotal: 2m 27s\tremaining: 28.9s\n",
      "836:\tlearn: 0.9313855\ttotal: 2m 27s\tremaining: 28.7s\n",
      "837:\tlearn: 0.9313711\ttotal: 2m 27s\tremaining: 28.5s\n",
      "838:\tlearn: 0.9313709\ttotal: 2m 27s\tremaining: 28.4s\n",
      "839:\tlearn: 0.9313709\ttotal: 2m 27s\tremaining: 28.2s\n",
      "840:\tlearn: 0.9313708\ttotal: 2m 28s\tremaining: 28s\n",
      "841:\tlearn: 0.9313708\ttotal: 2m 28s\tremaining: 27.8s\n",
      "842:\tlearn: 0.9313705\ttotal: 2m 28s\tremaining: 27.6s\n",
      "843:\tlearn: 0.9313280\ttotal: 2m 28s\tremaining: 27.5s\n",
      "844:\tlearn: 0.9313274\ttotal: 2m 28s\tremaining: 27.3s\n",
      "845:\tlearn: 0.9313190\ttotal: 2m 28s\tremaining: 27.1s\n",
      "846:\tlearn: 0.9313185\ttotal: 2m 29s\tremaining: 27s\n",
      "847:\tlearn: 0.9313185\ttotal: 2m 29s\tremaining: 26.8s\n",
      "848:\tlearn: 0.9313092\ttotal: 2m 29s\tremaining: 26.6s\n",
      "849:\tlearn: 0.9313091\ttotal: 2m 29s\tremaining: 26.4s\n",
      "850:\tlearn: 0.9313036\ttotal: 2m 29s\tremaining: 26.2s\n",
      "851:\tlearn: 0.9313036\ttotal: 2m 29s\tremaining: 26s\n",
      "852:\tlearn: 0.9313034\ttotal: 2m 30s\tremaining: 25.9s\n",
      "853:\tlearn: 0.9313033\ttotal: 2m 30s\tremaining: 25.7s\n",
      "854:\tlearn: 0.9312998\ttotal: 2m 30s\tremaining: 25.5s\n",
      "855:\tlearn: 0.9312998\ttotal: 2m 30s\tremaining: 25.3s\n",
      "856:\tlearn: 0.9312975\ttotal: 2m 30s\tremaining: 25.2s\n",
      "857:\tlearn: 0.9312975\ttotal: 2m 30s\tremaining: 25s\n",
      "858:\tlearn: 0.9312965\ttotal: 2m 31s\tremaining: 24.8s\n",
      "859:\tlearn: 0.9312925\ttotal: 2m 31s\tremaining: 24.6s\n",
      "860:\tlearn: 0.9303191\ttotal: 2m 31s\tremaining: 24.5s\n",
      "861:\tlearn: 0.9303192\ttotal: 2m 31s\tremaining: 24.3s\n",
      "862:\tlearn: 0.9299119\ttotal: 2m 31s\tremaining: 24.1s\n",
      "863:\tlearn: 0.9299121\ttotal: 2m 32s\tremaining: 23.9s\n",
      "864:\tlearn: 0.9288311\ttotal: 2m 32s\tremaining: 23.8s\n",
      "865:\tlearn: 0.9288311\ttotal: 2m 32s\tremaining: 23.6s\n",
      "866:\tlearn: 0.9288243\ttotal: 2m 32s\tremaining: 23.4s\n",
      "867:\tlearn: 0.9287940\ttotal: 2m 32s\tremaining: 23.2s\n",
      "868:\tlearn: 0.9287868\ttotal: 2m 33s\tremaining: 23.1s\n",
      "869:\tlearn: 0.9287837\ttotal: 2m 33s\tremaining: 22.9s\n",
      "870:\tlearn: 0.9287804\ttotal: 2m 33s\tremaining: 22.7s\n",
      "871:\tlearn: 0.9287803\ttotal: 2m 33s\tremaining: 22.5s\n",
      "872:\tlearn: 0.9287781\ttotal: 2m 33s\tremaining: 22.4s\n",
      "873:\tlearn: 0.9287725\ttotal: 2m 33s\tremaining: 22.2s\n",
      "874:\tlearn: 0.9287711\ttotal: 2m 34s\tremaining: 22s\n",
      "875:\tlearn: 0.9287544\ttotal: 2m 34s\tremaining: 21.8s\n",
      "876:\tlearn: 0.9287543\ttotal: 2m 34s\tremaining: 21.7s\n",
      "877:\tlearn: 0.9287543\ttotal: 2m 34s\tremaining: 21.5s\n",
      "878:\tlearn: 0.9287538\ttotal: 2m 34s\tremaining: 21.3s\n",
      "879:\tlearn: 0.9287536\ttotal: 2m 34s\tremaining: 21.1s\n",
      "880:\tlearn: 0.9287538\ttotal: 2m 35s\tremaining: 21s\n",
      "881:\tlearn: 0.9287536\ttotal: 2m 35s\tremaining: 20.8s\n",
      "882:\tlearn: 0.9282436\ttotal: 2m 35s\tremaining: 20.6s\n",
      "883:\tlearn: 0.9282436\ttotal: 2m 35s\tremaining: 20.4s\n",
      "884:\tlearn: 0.9282398\ttotal: 2m 35s\tremaining: 20.3s\n",
      "885:\tlearn: 0.9282397\ttotal: 2m 35s\tremaining: 20.1s\n",
      "886:\tlearn: 0.9282354\ttotal: 2m 36s\tremaining: 19.9s\n",
      "887:\tlearn: 0.9282354\ttotal: 2m 36s\tremaining: 19.7s\n",
      "888:\tlearn: 0.9282345\ttotal: 2m 36s\tremaining: 19.5s\n",
      "889:\tlearn: 0.9278476\ttotal: 2m 36s\tremaining: 19.4s\n",
      "890:\tlearn: 0.9278479\ttotal: 2m 36s\tremaining: 19.2s\n",
      "891:\tlearn: 0.9278437\ttotal: 2m 37s\tremaining: 19s\n",
      "892:\tlearn: 0.9278436\ttotal: 2m 37s\tremaining: 18.8s\n",
      "893:\tlearn: 0.9278414\ttotal: 2m 37s\tremaining: 18.7s\n",
      "894:\tlearn: 0.9278413\ttotal: 2m 37s\tremaining: 18.5s\n",
      "895:\tlearn: 0.9278397\ttotal: 2m 37s\tremaining: 18.3s\n",
      "896:\tlearn: 0.9277800\ttotal: 2m 37s\tremaining: 18.1s\n",
      "897:\tlearn: 0.9277783\ttotal: 2m 38s\tremaining: 18s\n",
      "898:\tlearn: 0.9277624\ttotal: 2m 38s\tremaining: 17.8s\n",
      "899:\tlearn: 0.9269999\ttotal: 2m 38s\tremaining: 17.6s\n",
      "900:\tlearn: 0.9270001\ttotal: 2m 38s\tremaining: 17.4s\n",
      "901:\tlearn: 0.9262882\ttotal: 2m 38s\tremaining: 17.3s\n",
      "902:\tlearn: 0.9262880\ttotal: 2m 38s\tremaining: 17.1s\n",
      "903:\tlearn: 0.9261087\ttotal: 2m 39s\tremaining: 16.9s\n",
      "904:\tlearn: 0.9261089\ttotal: 2m 39s\tremaining: 16.7s\n",
      "905:\tlearn: 0.9253760\ttotal: 2m 39s\tremaining: 16.6s\n",
      "906:\tlearn: 0.9253760\ttotal: 2m 39s\tremaining: 16.4s\n",
      "907:\tlearn: 0.9251484\ttotal: 2m 39s\tremaining: 16.2s\n",
      "908:\tlearn: 0.9251482\ttotal: 2m 40s\tremaining: 16s\n",
      "909:\tlearn: 0.9248747\ttotal: 2m 40s\tremaining: 15.9s\n",
      "910:\tlearn: 0.9248748\ttotal: 2m 40s\tremaining: 15.7s\n",
      "911:\tlearn: 0.9242741\ttotal: 2m 40s\tremaining: 15.5s\n",
      "912:\tlearn: 0.9242741\ttotal: 2m 40s\tremaining: 15.3s\n",
      "913:\tlearn: 0.9237653\ttotal: 2m 41s\tremaining: 15.2s\n",
      "914:\tlearn: 0.9237652\ttotal: 2m 41s\tremaining: 15s\n",
      "915:\tlearn: 0.9233762\ttotal: 2m 41s\tremaining: 14.8s\n",
      "916:\tlearn: 0.9233763\ttotal: 2m 41s\tremaining: 14.6s\n",
      "917:\tlearn: 0.9231239\ttotal: 2m 41s\tremaining: 14.4s\n",
      "918:\tlearn: 0.9231241\ttotal: 2m 41s\tremaining: 14.3s\n",
      "919:\tlearn: 0.9226549\ttotal: 2m 42s\tremaining: 14.1s\n",
      "920:\tlearn: 0.9226548\ttotal: 2m 42s\tremaining: 13.9s\n",
      "921:\tlearn: 0.9224729\ttotal: 2m 42s\tremaining: 13.7s\n",
      "922:\tlearn: 0.9224727\ttotal: 2m 42s\tremaining: 13.6s\n",
      "923:\tlearn: 0.9223708\ttotal: 2m 42s\tremaining: 13.4s\n",
      "924:\tlearn: 0.9223707\ttotal: 2m 42s\tremaining: 13.2s\n",
      "925:\tlearn: 0.9223057\ttotal: 2m 43s\tremaining: 13s\n",
      "926:\tlearn: 0.9223057\ttotal: 2m 43s\tremaining: 12.8s\n",
      "927:\tlearn: 0.9222624\ttotal: 2m 43s\tremaining: 12.7s\n",
      "928:\tlearn: 0.9222626\ttotal: 2m 43s\tremaining: 12.5s\n",
      "929:\tlearn: 0.9222349\ttotal: 2m 43s\tremaining: 12.3s\n",
      "930:\tlearn: 0.9222348\ttotal: 2m 43s\tremaining: 12.1s\n",
      "931:\tlearn: 0.9222183\ttotal: 2m 44s\tremaining: 12s\n",
      "932:\tlearn: 0.9222182\ttotal: 2m 44s\tremaining: 11.8s\n",
      "933:\tlearn: 0.9222058\ttotal: 2m 44s\tremaining: 11.6s\n",
      "934:\tlearn: 0.9222058\ttotal: 2m 44s\tremaining: 11.4s\n",
      "935:\tlearn: 0.9221974\ttotal: 2m 44s\tremaining: 11.3s\n",
      "936:\tlearn: 0.9221975\ttotal: 2m 44s\tremaining: 11.1s\n",
      "937:\tlearn: 0.9221907\ttotal: 2m 45s\tremaining: 10.9s\n",
      "938:\tlearn: 0.9221496\ttotal: 2m 45s\tremaining: 10.7s\n",
      "939:\tlearn: 0.9221445\ttotal: 2m 45s\tremaining: 10.6s\n",
      "940:\tlearn: 0.9221443\ttotal: 2m 45s\tremaining: 10.4s\n",
      "941:\tlearn: 0.9221406\ttotal: 2m 45s\tremaining: 10.2s\n",
      "942:\tlearn: 0.9221407\ttotal: 2m 45s\tremaining: 10s\n",
      "943:\tlearn: 0.9221381\ttotal: 2m 46s\tremaining: 9.86s\n",
      "944:\tlearn: 0.9221381\ttotal: 2m 46s\tremaining: 9.68s\n",
      "945:\tlearn: 0.9221354\ttotal: 2m 46s\tremaining: 9.51s\n",
      "946:\tlearn: 0.9221357\ttotal: 2m 46s\tremaining: 9.32s\n",
      "947:\tlearn: 0.9221337\ttotal: 2m 46s\tremaining: 9.15s\n",
      "948:\tlearn: 0.9220936\ttotal: 2m 46s\tremaining: 8.97s\n",
      "949:\tlearn: 0.9220915\ttotal: 2m 47s\tremaining: 8.8s\n",
      "950:\tlearn: 0.9220914\ttotal: 2m 47s\tremaining: 8.62s\n",
      "951:\tlearn: 0.9220895\ttotal: 2m 47s\tremaining: 8.45s\n",
      "952:\tlearn: 0.9220896\ttotal: 2m 47s\tremaining: 8.27s\n",
      "953:\tlearn: 0.9220884\ttotal: 2m 47s\tremaining: 8.1s\n",
      "954:\tlearn: 0.9220884\ttotal: 2m 48s\tremaining: 7.92s\n",
      "955:\tlearn: 0.9220870\ttotal: 2m 48s\tremaining: 7.75s\n",
      "956:\tlearn: 0.9220869\ttotal: 2m 48s\tremaining: 7.56s\n",
      "957:\tlearn: 0.9211750\ttotal: 2m 48s\tremaining: 7.39s\n",
      "958:\tlearn: 0.9211749\ttotal: 2m 48s\tremaining: 7.21s\n",
      "959:\tlearn: 0.9209003\ttotal: 2m 48s\tremaining: 7.04s\n",
      "960:\tlearn: 0.9209003\ttotal: 2m 49s\tremaining: 6.86s\n",
      "961:\tlearn: 0.9208634\ttotal: 2m 49s\tremaining: 6.69s\n",
      "962:\tlearn: 0.9208634\ttotal: 2m 49s\tremaining: 6.51s\n",
      "963:\tlearn: 0.9208421\ttotal: 2m 49s\tremaining: 6.34s\n",
      "964:\tlearn: 0.9208421\ttotal: 2m 49s\tremaining: 6.16s\n",
      "965:\tlearn: 0.9208302\ttotal: 2m 50s\tremaining: 5.98s\n",
      "966:\tlearn: 0.9208302\ttotal: 2m 50s\tremaining: 5.8s\n",
      "967:\tlearn: 0.9208232\ttotal: 2m 50s\tremaining: 5.63s\n",
      "968:\tlearn: 0.9208233\ttotal: 2m 50s\tremaining: 5.45s\n",
      "969:\tlearn: 0.9208184\ttotal: 2m 50s\tremaining: 5.28s\n",
      "970:\tlearn: 0.9208185\ttotal: 2m 50s\tremaining: 5.1s\n",
      "971:\tlearn: 0.9208153\ttotal: 2m 51s\tremaining: 4.93s\n",
      "972:\tlearn: 0.9208152\ttotal: 2m 51s\tremaining: 4.75s\n",
      "973:\tlearn: 0.9208125\ttotal: 2m 51s\tremaining: 4.57s\n",
      "974:\tlearn: 0.9208126\ttotal: 2m 51s\tremaining: 4.39s\n",
      "975:\tlearn: 0.9208111\ttotal: 2m 51s\tremaining: 4.22s\n",
      "976:\tlearn: 0.9208111\ttotal: 2m 51s\tremaining: 4.04s\n",
      "977:\tlearn: 0.9208097\ttotal: 2m 52s\tremaining: 3.87s\n",
      "978:\tlearn: 0.9208097\ttotal: 2m 52s\tremaining: 3.69s\n",
      "979:\tlearn: 0.9208088\ttotal: 2m 52s\tremaining: 3.52s\n",
      "980:\tlearn: 0.9208056\ttotal: 2m 52s\tremaining: 3.34s\n",
      "981:\tlearn: 0.9208044\ttotal: 2m 52s\tremaining: 3.17s\n",
      "982:\tlearn: 0.9208044\ttotal: 2m 52s\tremaining: 2.99s\n",
      "983:\tlearn: 0.9208031\ttotal: 2m 53s\tremaining: 2.81s\n",
      "984:\tlearn: 0.9208031\ttotal: 2m 53s\tremaining: 2.64s\n",
      "985:\tlearn: 0.9208028\ttotal: 2m 53s\tremaining: 2.46s\n",
      "986:\tlearn: 0.9208028\ttotal: 2m 53s\tremaining: 2.28s\n",
      "987:\tlearn: 0.9208023\ttotal: 2m 53s\tremaining: 2.11s\n",
      "988:\tlearn: 0.9208024\ttotal: 2m 53s\tremaining: 1.93s\n",
      "989:\tlearn: 0.9208020\ttotal: 2m 54s\tremaining: 1.76s\n",
      "990:\tlearn: 0.9207702\ttotal: 2m 54s\tremaining: 1.58s\n",
      "991:\tlearn: 0.9207604\ttotal: 2m 54s\tremaining: 1.41s\n",
      "992:\tlearn: 0.9206859\ttotal: 2m 54s\tremaining: 1.23s\n",
      "993:\tlearn: 0.9206851\ttotal: 2m 54s\tremaining: 1.05s\n",
      "994:\tlearn: 0.9206852\ttotal: 2m 54s\tremaining: 879ms\n",
      "995:\tlearn: 0.9206837\ttotal: 2m 55s\tremaining: 704ms\n",
      "996:\tlearn: 0.9206837\ttotal: 2m 55s\tremaining: 527ms\n",
      "997:\tlearn: 0.9206833\ttotal: 2m 55s\tremaining: 352ms\n",
      "998:\tlearn: 0.9206834\ttotal: 2m 55s\tremaining: 176ms\n",
      "999:\tlearn: 0.9206830\ttotal: 2m 55s\tremaining: 0us\n",
      "generating model_catboost_within_sel9\n",
      "keeping cols  ['target_category_tfidf_bigram_256_within_shop_lag_12', 'target_category_within_shop_lag_4', 'item_category_id', 'target_category_tfidf_bigram_256_within_shop_lag_4', 'target_category_frequent_256_within_shop_lag_4', 'target_category_tfidf_unigram_256_within_shop_lag_5', 'target_category_frequent_256_within_shop_lag_12', 'shop_id', 'target_category_tfidf_bigram_256_within_shop_lag_3']\n",
      "0:\tlearn: 1.1723213\ttotal: 137ms\tremaining: 13.6s\n",
      "1:\tlearn: 1.1566629\ttotal: 273ms\tremaining: 13.4s\n",
      "2:\tlearn: 1.1473271\ttotal: 404ms\tremaining: 13.1s\n",
      "3:\tlearn: 1.1455380\ttotal: 454ms\tremaining: 10.9s\n",
      "4:\tlearn: 1.1380254\ttotal: 581ms\tremaining: 11s\n",
      "5:\tlearn: 1.1358666\ttotal: 712ms\tremaining: 11.1s\n",
      "6:\tlearn: 1.1332577\ttotal: 840ms\tremaining: 11.2s\n",
      "7:\tlearn: 1.1298807\ttotal: 970ms\tremaining: 11.2s\n",
      "8:\tlearn: 1.1284695\ttotal: 1.09s\tremaining: 11.1s\n",
      "9:\tlearn: 1.1269227\ttotal: 1.23s\tremaining: 11.1s\n",
      "10:\tlearn: 1.1259034\ttotal: 1.36s\tremaining: 11s\n",
      "11:\tlearn: 1.1251083\ttotal: 1.49s\tremaining: 10.9s\n",
      "12:\tlearn: 1.1246468\ttotal: 1.61s\tremaining: 10.8s\n",
      "13:\tlearn: 1.1233863\ttotal: 1.75s\tremaining: 10.7s\n",
      "14:\tlearn: 1.1226055\ttotal: 1.88s\tremaining: 10.6s\n",
      "15:\tlearn: 1.1211320\ttotal: 2s\tremaining: 10.5s\n",
      "16:\tlearn: 1.1206191\ttotal: 2.13s\tremaining: 10.4s\n",
      "17:\tlearn: 1.1195959\ttotal: 2.26s\tremaining: 10.3s\n",
      "18:\tlearn: 1.1192857\ttotal: 2.39s\tremaining: 10.2s\n",
      "19:\tlearn: 1.1187995\ttotal: 2.52s\tremaining: 10.1s\n",
      "20:\tlearn: 1.1183157\ttotal: 2.65s\tremaining: 9.96s\n",
      "21:\tlearn: 1.1179327\ttotal: 2.78s\tremaining: 9.85s\n",
      "22:\tlearn: 1.1176962\ttotal: 2.9s\tremaining: 9.72s\n",
      "23:\tlearn: 1.1152150\ttotal: 3.04s\tremaining: 9.63s\n",
      "24:\tlearn: 1.1152156\ttotal: 3.07s\tremaining: 9.22s\n",
      "25:\tlearn: 1.1149513\ttotal: 3.2s\tremaining: 9.1s\n",
      "26:\tlearn: 1.1144074\ttotal: 3.32s\tremaining: 8.98s\n",
      "27:\tlearn: 1.1142211\ttotal: 3.45s\tremaining: 8.87s\n",
      "28:\tlearn: 1.1138447\ttotal: 3.58s\tremaining: 8.76s\n",
      "29:\tlearn: 1.1136562\ttotal: 3.71s\tremaining: 8.65s\n",
      "30:\tlearn: 1.1134153\ttotal: 3.85s\tremaining: 8.58s\n",
      "31:\tlearn: 1.1134099\ttotal: 3.89s\tremaining: 8.27s\n",
      "32:\tlearn: 1.1131880\ttotal: 4.02s\tremaining: 8.16s\n",
      "33:\tlearn: 1.1128653\ttotal: 4.14s\tremaining: 8.05s\n",
      "34:\tlearn: 1.1126702\ttotal: 4.27s\tremaining: 7.93s\n",
      "35:\tlearn: 1.1126701\ttotal: 4.3s\tremaining: 7.65s\n",
      "36:\tlearn: 1.1124180\ttotal: 4.43s\tremaining: 7.55s\n",
      "37:\tlearn: 1.1120770\ttotal: 4.56s\tremaining: 7.44s\n",
      "38:\tlearn: 1.1119486\ttotal: 4.69s\tremaining: 7.34s\n",
      "39:\tlearn: 1.1117383\ttotal: 4.82s\tremaining: 7.23s\n",
      "40:\tlearn: 1.1115749\ttotal: 4.95s\tremaining: 7.12s\n",
      "41:\tlearn: 1.1113650\ttotal: 5.08s\tremaining: 7.01s\n",
      "42:\tlearn: 1.1112222\ttotal: 5.2s\tremaining: 6.9s\n",
      "43:\tlearn: 1.1111024\ttotal: 5.33s\tremaining: 6.78s\n",
      "44:\tlearn: 1.1103608\ttotal: 5.46s\tremaining: 6.67s\n",
      "45:\tlearn: 1.1102679\ttotal: 5.59s\tremaining: 6.56s\n",
      "46:\tlearn: 1.1101161\ttotal: 5.72s\tremaining: 6.45s\n",
      "47:\tlearn: 1.1101149\ttotal: 5.75s\tremaining: 6.23s\n",
      "48:\tlearn: 1.1100033\ttotal: 5.88s\tremaining: 6.12s\n",
      "49:\tlearn: 1.1096560\ttotal: 6.01s\tremaining: 6.01s\n",
      "50:\tlearn: 1.1096493\ttotal: 6.04s\tremaining: 5.81s\n",
      "51:\tlearn: 1.1095560\ttotal: 6.17s\tremaining: 5.7s\n",
      "52:\tlearn: 1.1094242\ttotal: 6.3s\tremaining: 5.58s\n",
      "53:\tlearn: 1.1093426\ttotal: 6.43s\tremaining: 5.47s\n",
      "54:\tlearn: 1.1091795\ttotal: 6.56s\tremaining: 5.37s\n",
      "55:\tlearn: 1.1091788\ttotal: 6.59s\tremaining: 5.18s\n",
      "56:\tlearn: 1.1091212\ttotal: 6.72s\tremaining: 5.07s\n",
      "57:\tlearn: 1.1090555\ttotal: 6.85s\tremaining: 4.96s\n",
      "58:\tlearn: 1.1073492\ttotal: 6.98s\tremaining: 4.85s\n",
      "59:\tlearn: 1.1073494\ttotal: 7.01s\tremaining: 4.67s\n",
      "60:\tlearn: 1.1073029\ttotal: 7.14s\tremaining: 4.57s\n",
      "61:\tlearn: 1.1072018\ttotal: 7.27s\tremaining: 4.46s\n",
      "62:\tlearn: 1.1068112\ttotal: 7.4s\tremaining: 4.35s\n",
      "63:\tlearn: 1.1065110\ttotal: 7.45s\tremaining: 4.19s\n",
      "64:\tlearn: 1.1064699\ttotal: 7.57s\tremaining: 4.08s\n",
      "65:\tlearn: 1.1064421\ttotal: 7.7s\tremaining: 3.97s\n",
      "66:\tlearn: 1.1062283\ttotal: 7.83s\tremaining: 3.86s\n",
      "67:\tlearn: 1.1060424\ttotal: 7.96s\tremaining: 3.75s\n",
      "68:\tlearn: 1.1060425\ttotal: 7.99s\tremaining: 3.59s\n",
      "69:\tlearn: 1.1059591\ttotal: 8.12s\tremaining: 3.48s\n",
      "70:\tlearn: 1.1059058\ttotal: 8.25s\tremaining: 3.37s\n",
      "71:\tlearn: 1.1058754\ttotal: 8.38s\tremaining: 3.26s\n",
      "72:\tlearn: 1.1058541\ttotal: 8.51s\tremaining: 3.15s\n",
      "73:\tlearn: 1.1058546\ttotal: 8.54s\tremaining: 3s\n",
      "74:\tlearn: 1.1057113\ttotal: 8.67s\tremaining: 2.89s\n",
      "75:\tlearn: 1.1054089\ttotal: 8.72s\tremaining: 2.75s\n",
      "76:\tlearn: 1.1053728\ttotal: 8.86s\tremaining: 2.65s\n",
      "77:\tlearn: 1.1052712\ttotal: 8.99s\tremaining: 2.53s\n",
      "78:\tlearn: 1.1051640\ttotal: 9.11s\tremaining: 2.42s\n",
      "79:\tlearn: 1.1050739\ttotal: 9.24s\tremaining: 2.31s\n",
      "80:\tlearn: 1.1050555\ttotal: 9.37s\tremaining: 2.2s\n",
      "81:\tlearn: 1.1049775\ttotal: 9.5s\tremaining: 2.08s\n",
      "82:\tlearn: 1.1049539\ttotal: 9.63s\tremaining: 1.97s\n",
      "83:\tlearn: 1.1047464\ttotal: 9.76s\tremaining: 1.86s\n",
      "84:\tlearn: 1.1046601\ttotal: 9.89s\tremaining: 1.74s\n",
      "85:\tlearn: 1.1045535\ttotal: 10s\tremaining: 1.63s\n",
      "86:\tlearn: 1.1044280\ttotal: 10.2s\tremaining: 1.52s\n",
      "87:\tlearn: 1.1044285\ttotal: 10.2s\tremaining: 1.39s\n",
      "88:\tlearn: 1.1043432\ttotal: 10.3s\tremaining: 1.27s\n",
      "89:\tlearn: 1.1043435\ttotal: 10.3s\tremaining: 1.15s\n",
      "90:\tlearn: 1.1042896\ttotal: 10.5s\tremaining: 1.03s\n",
      "91:\tlearn: 1.1042788\ttotal: 10.6s\tremaining: 922ms\n",
      "92:\tlearn: 1.1042128\ttotal: 10.7s\tremaining: 808ms\n",
      "93:\tlearn: 1.1041963\ttotal: 10.9s\tremaining: 693ms\n",
      "94:\tlearn: 1.1041884\ttotal: 11s\tremaining: 578ms\n",
      "95:\tlearn: 1.1041440\ttotal: 11.1s\tremaining: 463ms\n",
      "96:\tlearn: 1.1040000\ttotal: 11.3s\tremaining: 348ms\n",
      "97:\tlearn: 1.1039997\ttotal: 11.3s\tremaining: 230ms\n",
      "98:\tlearn: 1.1039584\ttotal: 11.4s\tremaining: 115ms\n",
      "99:\tlearn: 1.1039584\ttotal: 11.4s\tremaining: 0us\n",
      "generating model_catboost_within_sel16\n",
      "keeping cols  ['target_category_tfidf_bigram_256_within_shop_lag_12', 'target_category_within_shop_lag_4', 'date_block_num', 'item_category_id', 'target_category_tfidf_unigram_256_within_shop_lag_2', 'target_category_tfidf_bigram_256_within_shop_lag_4', 'target_category_tfidf_unigram_256_within_shop_lag_6', 'target_category_frequent_256_within_shop_lag_4', 'target_category_within_shop_lag_3', 'target_category_tfidf_bigram_256_within_shop_lag_5', 'target_category_tfidf_unigram_256_within_shop_lag_5', 'target_category_frequent_256_within_shop_lag_12', 'shop_id', 'target_category_frequent_256_within_shop_lag_3', 'target_category_tfidf_bigram_256_within_shop_lag_3', 'target_category_tfidf_unigram_256_within_shop_lag_3']\n",
      "0:\tlearn: 1.1874216\ttotal: 141ms\tremaining: 42s\n",
      "1:\tlearn: 1.1791693\ttotal: 276ms\tremaining: 41.2s\n",
      "2:\tlearn: 1.1726993\ttotal: 419ms\tremaining: 41.5s\n",
      "3:\tlearn: 1.1663903\ttotal: 560ms\tremaining: 41.4s\n",
      "4:\tlearn: 1.1618292\ttotal: 705ms\tremaining: 41.6s\n",
      "5:\tlearn: 1.1578150\ttotal: 842ms\tremaining: 41.2s\n",
      "6:\tlearn: 1.1545619\ttotal: 983ms\tremaining: 41.1s\n",
      "7:\tlearn: 1.1509093\ttotal: 1.12s\tremaining: 40.9s\n",
      "8:\tlearn: 1.1504706\ttotal: 1.16s\tremaining: 37.4s\n",
      "9:\tlearn: 1.1470284\ttotal: 1.29s\tremaining: 37.5s\n",
      "10:\tlearn: 1.1441606\ttotal: 1.44s\tremaining: 37.7s\n",
      "11:\tlearn: 1.1417171\ttotal: 1.58s\tremaining: 37.8s\n",
      "12:\tlearn: 1.1414549\ttotal: 1.61s\tremaining: 35.6s\n",
      "13:\tlearn: 1.1389795\ttotal: 1.75s\tremaining: 35.7s\n",
      "14:\tlearn: 1.1372314\ttotal: 1.89s\tremaining: 35.9s\n",
      "15:\tlearn: 1.1357346\ttotal: 2.03s\tremaining: 36s\n",
      "16:\tlearn: 1.1355613\ttotal: 2.06s\tremaining: 34.3s\n",
      "17:\tlearn: 1.1327386\ttotal: 2.2s\tremaining: 34.5s\n",
      "18:\tlearn: 1.1313031\ttotal: 2.34s\tremaining: 34.6s\n",
      "19:\tlearn: 1.1300229\ttotal: 2.48s\tremaining: 34.7s\n",
      "20:\tlearn: 1.1287176\ttotal: 2.62s\tremaining: 34.8s\n",
      "21:\tlearn: 1.1273194\ttotal: 2.76s\tremaining: 34.9s\n",
      "22:\tlearn: 1.1266307\ttotal: 2.89s\tremaining: 34.9s\n",
      "23:\tlearn: 1.1265432\ttotal: 2.93s\tremaining: 33.7s\n",
      "24:\tlearn: 1.1256670\ttotal: 3.07s\tremaining: 33.8s\n",
      "25:\tlearn: 1.1251290\ttotal: 3.21s\tremaining: 33.8s\n",
      "26:\tlearn: 1.1241155\ttotal: 3.37s\tremaining: 34s\n",
      "27:\tlearn: 1.1232728\ttotal: 3.5s\tremaining: 34s\n",
      "28:\tlearn: 1.1229260\ttotal: 3.64s\tremaining: 34s\n",
      "29:\tlearn: 1.1225375\ttotal: 3.77s\tremaining: 34s\n",
      "30:\tlearn: 1.1222248\ttotal: 3.91s\tremaining: 33.9s\n",
      "31:\tlearn: 1.1216732\ttotal: 4.05s\tremaining: 33.9s\n",
      "32:\tlearn: 1.1200724\ttotal: 4.19s\tremaining: 33.9s\n",
      "33:\tlearn: 1.1195782\ttotal: 4.33s\tremaining: 33.8s\n",
      "34:\tlearn: 1.1188111\ttotal: 4.47s\tremaining: 33.8s\n",
      "35:\tlearn: 1.1179225\ttotal: 4.61s\tremaining: 33.8s\n",
      "36:\tlearn: 1.1177200\ttotal: 4.74s\tremaining: 33.7s\n",
      "37:\tlearn: 1.1170116\ttotal: 4.88s\tremaining: 33.7s\n",
      "38:\tlearn: 1.1169796\ttotal: 4.92s\tremaining: 32.9s\n",
      "39:\tlearn: 1.1162726\ttotal: 5.06s\tremaining: 32.9s\n",
      "40:\tlearn: 1.1162460\ttotal: 5.09s\tremaining: 32.2s\n",
      "41:\tlearn: 1.1157940\ttotal: 5.23s\tremaining: 32.1s\n",
      "42:\tlearn: 1.1155528\ttotal: 5.38s\tremaining: 32.2s\n",
      "43:\tlearn: 1.1149680\ttotal: 5.52s\tremaining: 32.1s\n",
      "44:\tlearn: 1.1145854\ttotal: 5.66s\tremaining: 32.1s\n",
      "45:\tlearn: 1.1139407\ttotal: 5.8s\tremaining: 32s\n",
      "46:\tlearn: 1.1137518\ttotal: 5.93s\tremaining: 31.9s\n",
      "47:\tlearn: 1.1133446\ttotal: 6.07s\tremaining: 31.9s\n",
      "48:\tlearn: 1.1130334\ttotal: 6.21s\tremaining: 31.8s\n",
      "49:\tlearn: 1.1122620\ttotal: 6.35s\tremaining: 31.8s\n",
      "50:\tlearn: 1.1122464\ttotal: 6.39s\tremaining: 31.2s\n",
      "51:\tlearn: 1.1118704\ttotal: 6.53s\tremaining: 31.1s\n",
      "52:\tlearn: 1.1118707\ttotal: 6.56s\tremaining: 30.6s\n",
      "53:\tlearn: 1.1115656\ttotal: 6.7s\tremaining: 30.5s\n",
      "54:\tlearn: 1.1111698\ttotal: 6.84s\tremaining: 30.5s\n",
      "55:\tlearn: 1.1108098\ttotal: 6.98s\tremaining: 30.4s\n",
      "56:\tlearn: 1.1100587\ttotal: 7.12s\tremaining: 30.4s\n",
      "57:\tlearn: 1.1096820\ttotal: 7.26s\tremaining: 30.3s\n",
      "58:\tlearn: 1.1094850\ttotal: 7.4s\tremaining: 30.2s\n",
      "59:\tlearn: 1.1087522\ttotal: 7.53s\tremaining: 30.1s\n",
      "60:\tlearn: 1.1082680\ttotal: 7.67s\tremaining: 30.1s\n",
      "61:\tlearn: 1.1077833\ttotal: 7.81s\tremaining: 30s\n",
      "62:\tlearn: 1.1074425\ttotal: 7.95s\tremaining: 29.9s\n",
      "63:\tlearn: 1.1070839\ttotal: 8.09s\tremaining: 29.8s\n",
      "64:\tlearn: 1.1067861\ttotal: 8.23s\tremaining: 29.8s\n",
      "65:\tlearn: 1.1065523\ttotal: 8.36s\tremaining: 29.7s\n",
      "66:\tlearn: 1.1059991\ttotal: 8.5s\tremaining: 29.6s\n",
      "67:\tlearn: 1.1056413\ttotal: 8.64s\tremaining: 29.5s\n",
      "68:\tlearn: 1.1052210\ttotal: 8.78s\tremaining: 29.4s\n",
      "69:\tlearn: 1.1049846\ttotal: 8.92s\tremaining: 29.3s\n",
      "70:\tlearn: 1.1049778\ttotal: 8.96s\tremaining: 28.9s\n",
      "71:\tlearn: 1.1047661\ttotal: 9.1s\tremaining: 28.8s\n",
      "72:\tlearn: 1.1047613\ttotal: 9.13s\tremaining: 28.4s\n",
      "73:\tlearn: 1.1045327\ttotal: 9.27s\tremaining: 28.3s\n",
      "74:\tlearn: 1.1042239\ttotal: 9.42s\tremaining: 28.3s\n",
      "75:\tlearn: 1.1039458\ttotal: 9.55s\tremaining: 28.2s\n",
      "76:\tlearn: 1.1036394\ttotal: 9.69s\tremaining: 28.1s\n",
      "77:\tlearn: 1.1032976\ttotal: 9.83s\tremaining: 28s\n",
      "78:\tlearn: 1.1021826\ttotal: 9.97s\tremaining: 27.9s\n",
      "79:\tlearn: 1.1018879\ttotal: 10.1s\tremaining: 27.8s\n",
      "80:\tlearn: 1.1016900\ttotal: 10.3s\tremaining: 27.7s\n",
      "81:\tlearn: 1.1013268\ttotal: 10.4s\tremaining: 27.6s\n",
      "82:\tlearn: 1.1013225\ttotal: 10.4s\tremaining: 27.3s\n",
      "83:\tlearn: 1.1009220\ttotal: 10.6s\tremaining: 27.2s\n",
      "84:\tlearn: 1.1009184\ttotal: 10.6s\tremaining: 26.8s\n",
      "85:\tlearn: 1.1007007\ttotal: 10.7s\tremaining: 26.7s\n",
      "86:\tlearn: 1.1005569\ttotal: 10.9s\tremaining: 26.6s\n",
      "87:\tlearn: 1.1005547\ttotal: 10.9s\tremaining: 26.3s\n",
      "88:\tlearn: 1.1004595\ttotal: 11.1s\tremaining: 26.2s\n",
      "89:\tlearn: 1.1002213\ttotal: 11.2s\tremaining: 26.1s\n",
      "90:\tlearn: 1.0999628\ttotal: 11.3s\tremaining: 26s\n",
      "91:\tlearn: 1.0999600\ttotal: 11.4s\tremaining: 25.7s\n",
      "92:\tlearn: 1.0998430\ttotal: 11.5s\tremaining: 25.6s\n",
      "93:\tlearn: 1.0998409\ttotal: 11.5s\tremaining: 25.3s\n",
      "94:\tlearn: 1.0996221\ttotal: 11.7s\tremaining: 25.2s\n",
      "95:\tlearn: 1.0994376\ttotal: 11.8s\tremaining: 25.1s\n",
      "96:\tlearn: 1.0992005\ttotal: 12s\tremaining: 25s\n",
      "97:\tlearn: 1.0990238\ttotal: 12.1s\tremaining: 24.9s\n",
      "98:\tlearn: 1.0990216\ttotal: 12.1s\tremaining: 24.6s\n",
      "99:\tlearn: 1.0988399\ttotal: 12.3s\tremaining: 24.6s\n",
      "100:\tlearn: 1.0982522\ttotal: 12.4s\tremaining: 24.5s\n",
      "101:\tlearn: 1.0982519\ttotal: 12.5s\tremaining: 24.2s\n",
      "102:\tlearn: 1.0980477\ttotal: 12.6s\tremaining: 24.1s\n",
      "103:\tlearn: 1.0977267\ttotal: 12.7s\tremaining: 24s\n",
      "104:\tlearn: 1.0972808\ttotal: 12.9s\tremaining: 23.9s\n",
      "105:\tlearn: 1.0972792\ttotal: 12.9s\tremaining: 23.6s\n",
      "106:\tlearn: 1.0969935\ttotal: 13.1s\tremaining: 23.5s\n",
      "107:\tlearn: 1.0967829\ttotal: 13.2s\tremaining: 23.4s\n",
      "108:\tlearn: 1.0967823\ttotal: 13.2s\tremaining: 23.2s\n",
      "109:\tlearn: 1.0965859\ttotal: 13.4s\tremaining: 23.1s\n",
      "110:\tlearn: 1.0964880\ttotal: 13.5s\tremaining: 23s\n",
      "111:\tlearn: 1.0961538\ttotal: 13.6s\tremaining: 22.9s\n",
      "112:\tlearn: 1.0961535\ttotal: 13.7s\tremaining: 22.6s\n",
      "113:\tlearn: 1.0959170\ttotal: 13.8s\tremaining: 22.6s\n",
      "114:\tlearn: 1.0957968\ttotal: 14s\tremaining: 22.5s\n",
      "115:\tlearn: 1.0957242\ttotal: 14.1s\tremaining: 22.4s\n",
      "116:\tlearn: 1.0955274\ttotal: 14.2s\tremaining: 22.3s\n",
      "117:\tlearn: 1.0953446\ttotal: 14.4s\tremaining: 22.2s\n",
      "118:\tlearn: 1.0952073\ttotal: 14.5s\tremaining: 22.1s\n",
      "119:\tlearn: 1.0951206\ttotal: 14.7s\tremaining: 22s\n",
      "120:\tlearn: 1.0950289\ttotal: 14.8s\tremaining: 21.9s\n",
      "121:\tlearn: 1.0947836\ttotal: 15s\tremaining: 21.8s\n",
      "122:\tlearn: 1.0945697\ttotal: 15.1s\tremaining: 21.7s\n",
      "123:\tlearn: 1.0944599\ttotal: 15.2s\tremaining: 21.6s\n",
      "124:\tlearn: 1.0943488\ttotal: 15.4s\tremaining: 21.5s\n",
      "125:\tlearn: 1.0942181\ttotal: 15.5s\tremaining: 21.4s\n",
      "126:\tlearn: 1.0940278\ttotal: 15.7s\tremaining: 21.3s\n",
      "127:\tlearn: 1.0937981\ttotal: 15.8s\tremaining: 21.2s\n",
      "128:\tlearn: 1.0936702\ttotal: 15.9s\tremaining: 21.1s\n",
      "129:\tlearn: 1.0934846\ttotal: 16.1s\tremaining: 21s\n",
      "130:\tlearn: 1.0933217\ttotal: 16.2s\tremaining: 20.9s\n",
      "131:\tlearn: 1.0933205\ttotal: 16.2s\tremaining: 20.7s\n",
      "132:\tlearn: 1.0932576\ttotal: 16.4s\tremaining: 20.6s\n",
      "133:\tlearn: 1.0931323\ttotal: 16.5s\tremaining: 20.5s\n",
      "134:\tlearn: 1.0931320\ttotal: 16.6s\tremaining: 20.3s\n",
      "135:\tlearn: 1.0929486\ttotal: 16.7s\tremaining: 20.2s\n",
      "136:\tlearn: 1.0928090\ttotal: 16.9s\tremaining: 20.1s\n",
      "137:\tlearn: 1.0926718\ttotal: 17s\tremaining: 19.9s\n",
      "138:\tlearn: 1.0925011\ttotal: 17.1s\tremaining: 19.8s\n",
      "139:\tlearn: 1.0924144\ttotal: 17.2s\tremaining: 19.7s\n",
      "140:\tlearn: 1.0923643\ttotal: 17.4s\tremaining: 19.6s\n",
      "141:\tlearn: 1.0922429\ttotal: 17.5s\tremaining: 19.5s\n",
      "142:\tlearn: 1.0921539\ttotal: 17.7s\tremaining: 19.4s\n",
      "143:\tlearn: 1.0919544\ttotal: 17.8s\tremaining: 19.3s\n",
      "144:\tlearn: 1.0918836\ttotal: 17.9s\tremaining: 19.2s\n",
      "145:\tlearn: 1.0918196\ttotal: 18.1s\tremaining: 19.1s\n",
      "146:\tlearn: 1.0916482\ttotal: 18.2s\tremaining: 19s\n",
      "147:\tlearn: 1.0915554\ttotal: 18.3s\tremaining: 18.8s\n",
      "148:\tlearn: 1.0914381\ttotal: 18.5s\tremaining: 18.7s\n",
      "149:\tlearn: 1.0912927\ttotal: 18.6s\tremaining: 18.6s\n",
      "150:\tlearn: 1.0912325\ttotal: 18.8s\tremaining: 18.5s\n",
      "151:\tlearn: 1.0912323\ttotal: 18.8s\tremaining: 18.3s\n",
      "152:\tlearn: 1.0911880\ttotal: 18.9s\tremaining: 18.2s\n",
      "153:\tlearn: 1.0910617\ttotal: 19.1s\tremaining: 18.1s\n",
      "154:\tlearn: 1.0909923\ttotal: 19.2s\tremaining: 18s\n",
      "155:\tlearn: 1.0908222\ttotal: 19.4s\tremaining: 17.9s\n",
      "156:\tlearn: 1.0908226\ttotal: 19.4s\tremaining: 17.7s\n",
      "157:\tlearn: 1.0907927\ttotal: 19.5s\tremaining: 17.5s\n",
      "158:\tlearn: 1.0906894\ttotal: 19.7s\tremaining: 17.4s\n",
      "159:\tlearn: 1.0906897\ttotal: 19.7s\tremaining: 17.2s\n",
      "160:\tlearn: 1.0906429\ttotal: 19.8s\tremaining: 17.1s\n",
      "161:\tlearn: 1.0905553\ttotal: 20s\tremaining: 17s\n",
      "162:\tlearn: 1.0904211\ttotal: 20.1s\tremaining: 16.9s\n",
      "163:\tlearn: 1.0903545\ttotal: 20.3s\tremaining: 16.8s\n",
      "164:\tlearn: 1.0903211\ttotal: 20.4s\tremaining: 16.7s\n",
      "165:\tlearn: 1.0901915\ttotal: 20.5s\tremaining: 16.6s\n",
      "166:\tlearn: 1.0900874\ttotal: 20.7s\tremaining: 16.5s\n",
      "167:\tlearn: 1.0899724\ttotal: 20.8s\tremaining: 16.4s\n",
      "168:\tlearn: 1.0898782\ttotal: 21s\tremaining: 16.2s\n",
      "169:\tlearn: 1.0897819\ttotal: 21.1s\tremaining: 16.1s\n",
      "170:\tlearn: 1.0897030\ttotal: 21.2s\tremaining: 16s\n",
      "171:\tlearn: 1.0896137\ttotal: 21.4s\tremaining: 15.9s\n",
      "172:\tlearn: 1.0895190\ttotal: 21.5s\tremaining: 15.8s\n",
      "173:\tlearn: 1.0894429\ttotal: 21.6s\tremaining: 15.7s\n",
      "174:\tlearn: 1.0894436\ttotal: 21.7s\tremaining: 15.5s\n",
      "175:\tlearn: 1.0893769\ttotal: 21.8s\tremaining: 15.4s\n",
      "176:\tlearn: 1.0893232\ttotal: 22s\tremaining: 15.3s\n",
      "177:\tlearn: 1.0891556\ttotal: 22.1s\tremaining: 15.2s\n",
      "178:\tlearn: 1.0890297\ttotal: 22.3s\tremaining: 15s\n",
      "179:\tlearn: 1.0889943\ttotal: 22.4s\tremaining: 14.9s\n",
      "180:\tlearn: 1.0880568\ttotal: 22.6s\tremaining: 14.8s\n",
      "181:\tlearn: 1.0880026\ttotal: 22.7s\tremaining: 14.7s\n",
      "182:\tlearn: 1.0873351\ttotal: 22.9s\tremaining: 14.6s\n",
      "183:\tlearn: 1.0873087\ttotal: 23s\tremaining: 14.5s\n",
      "184:\tlearn: 1.0872003\ttotal: 23.2s\tremaining: 14.4s\n",
      "185:\tlearn: 1.0869288\ttotal: 23.3s\tremaining: 14.3s\n",
      "186:\tlearn: 1.0869078\ttotal: 23.4s\tremaining: 14.1s\n",
      "187:\tlearn: 1.0868977\ttotal: 23.5s\tremaining: 14s\n",
      "188:\tlearn: 1.0868620\ttotal: 23.7s\tremaining: 13.9s\n",
      "189:\tlearn: 1.0867700\ttotal: 23.8s\tremaining: 13.8s\n",
      "190:\tlearn: 1.0866862\ttotal: 23.9s\tremaining: 13.7s\n",
      "191:\tlearn: 1.0866626\ttotal: 24s\tremaining: 13.5s\n",
      "192:\tlearn: 1.0866461\ttotal: 24.2s\tremaining: 13.4s\n",
      "193:\tlearn: 1.0865554\ttotal: 24.3s\tremaining: 13.3s\n",
      "194:\tlearn: 1.0864821\ttotal: 24.4s\tremaining: 13.2s\n",
      "195:\tlearn: 1.0864450\ttotal: 24.6s\tremaining: 13s\n",
      "196:\tlearn: 1.0863263\ttotal: 24.7s\tremaining: 12.9s\n",
      "197:\tlearn: 1.0862960\ttotal: 24.9s\tremaining: 12.8s\n",
      "198:\tlearn: 1.0862204\ttotal: 25s\tremaining: 12.7s\n",
      "199:\tlearn: 1.0862195\ttotal: 25s\tremaining: 12.5s\n",
      "200:\tlearn: 1.0862062\ttotal: 25.2s\tremaining: 12.4s\n",
      "201:\tlearn: 1.0861308\ttotal: 25.3s\tremaining: 12.3s\n",
      "202:\tlearn: 1.0860606\ttotal: 25.5s\tremaining: 12.2s\n",
      "203:\tlearn: 1.0860237\ttotal: 25.6s\tremaining: 12.1s\n",
      "204:\tlearn: 1.0857962\ttotal: 25.8s\tremaining: 11.9s\n",
      "205:\tlearn: 1.0857482\ttotal: 25.9s\tremaining: 11.8s\n",
      "206:\tlearn: 1.0856266\ttotal: 26.1s\tremaining: 11.7s\n",
      "207:\tlearn: 1.0855709\ttotal: 26.2s\tremaining: 11.6s\n",
      "208:\tlearn: 1.0854630\ttotal: 26.3s\tremaining: 11.5s\n",
      "209:\tlearn: 1.0854110\ttotal: 26.5s\tremaining: 11.3s\n",
      "210:\tlearn: 1.0854103\ttotal: 26.5s\tremaining: 11.2s\n",
      "211:\tlearn: 1.0853874\ttotal: 26.7s\tremaining: 11.1s\n",
      "212:\tlearn: 1.0853868\ttotal: 26.7s\tremaining: 10.9s\n",
      "213:\tlearn: 1.0853751\ttotal: 26.8s\tremaining: 10.8s\n",
      "214:\tlearn: 1.0853306\ttotal: 27s\tremaining: 10.7s\n",
      "215:\tlearn: 1.0853302\ttotal: 27s\tremaining: 10.5s\n",
      "216:\tlearn: 1.0853038\ttotal: 27.2s\tremaining: 10.4s\n",
      "217:\tlearn: 1.0851933\ttotal: 27.3s\tremaining: 10.3s\n",
      "218:\tlearn: 1.0850761\ttotal: 27.4s\tremaining: 10.1s\n",
      "219:\tlearn: 1.0850759\ttotal: 27.5s\tremaining: 9.99s\n",
      "220:\tlearn: 1.0849700\ttotal: 27.6s\tremaining: 9.87s\n",
      "221:\tlearn: 1.0848988\ttotal: 27.8s\tremaining: 9.75s\n",
      "222:\tlearn: 1.0848985\ttotal: 27.8s\tremaining: 9.6s\n",
      "223:\tlearn: 1.0848814\ttotal: 27.9s\tremaining: 9.48s\n",
      "224:\tlearn: 1.0848810\ttotal: 28s\tremaining: 9.32s\n",
      "225:\tlearn: 1.0848667\ttotal: 28.1s\tremaining: 9.2s\n",
      "226:\tlearn: 1.0848004\ttotal: 28.2s\tremaining: 9.08s\n",
      "227:\tlearn: 1.0848006\ttotal: 28.3s\tremaining: 8.93s\n",
      "228:\tlearn: 1.0847886\ttotal: 28.4s\tremaining: 8.81s\n",
      "229:\tlearn: 1.0847872\ttotal: 28.5s\tremaining: 8.67s\n",
      "230:\tlearn: 1.0846995\ttotal: 28.6s\tremaining: 8.55s\n",
      "231:\tlearn: 1.0846338\ttotal: 28.8s\tremaining: 8.44s\n",
      "232:\tlearn: 1.0845773\ttotal: 28.9s\tremaining: 8.31s\n",
      "233:\tlearn: 1.0845284\ttotal: 29.1s\tremaining: 8.2s\n",
      "234:\tlearn: 1.0844802\ttotal: 29.2s\tremaining: 8.08s\n",
      "235:\tlearn: 1.0843581\ttotal: 29.4s\tremaining: 7.96s\n",
      "236:\tlearn: 1.0842539\ttotal: 29.5s\tremaining: 7.84s\n",
      "237:\tlearn: 1.0841820\ttotal: 29.6s\tremaining: 7.72s\n",
      "238:\tlearn: 1.0841068\ttotal: 29.8s\tremaining: 7.61s\n",
      "239:\tlearn: 1.0840161\ttotal: 29.9s\tremaining: 7.49s\n",
      "240:\tlearn: 1.0840168\ttotal: 30s\tremaining: 7.34s\n",
      "241:\tlearn: 1.0839619\ttotal: 30.1s\tremaining: 7.22s\n",
      "242:\tlearn: 1.0838890\ttotal: 30.3s\tremaining: 7.1s\n",
      "243:\tlearn: 1.0831065\ttotal: 30.4s\tremaining: 6.97s\n",
      "244:\tlearn: 1.0830411\ttotal: 30.5s\tremaining: 6.86s\n",
      "245:\tlearn: 1.0829689\ttotal: 30.7s\tremaining: 6.73s\n",
      "246:\tlearn: 1.0829005\ttotal: 30.8s\tremaining: 6.61s\n",
      "247:\tlearn: 1.0828529\ttotal: 30.9s\tremaining: 6.49s\n",
      "248:\tlearn: 1.0827846\ttotal: 31.1s\tremaining: 6.37s\n",
      "249:\tlearn: 1.0827219\ttotal: 31.2s\tremaining: 6.25s\n",
      "250:\tlearn: 1.0826564\ttotal: 31.4s\tremaining: 6.12s\n",
      "251:\tlearn: 1.0826149\ttotal: 31.5s\tremaining: 6s\n",
      "252:\tlearn: 1.0825253\ttotal: 31.6s\tremaining: 5.88s\n",
      "253:\tlearn: 1.0824833\ttotal: 31.8s\tremaining: 5.76s\n",
      "254:\tlearn: 1.0823291\ttotal: 31.9s\tremaining: 5.64s\n",
      "255:\tlearn: 1.0822531\ttotal: 32.1s\tremaining: 5.51s\n",
      "256:\tlearn: 1.0821499\ttotal: 32.2s\tremaining: 5.39s\n",
      "257:\tlearn: 1.0820776\ttotal: 32.4s\tremaining: 5.27s\n",
      "258:\tlearn: 1.0820164\ttotal: 32.5s\tremaining: 5.15s\n",
      "259:\tlearn: 1.0819746\ttotal: 32.7s\tremaining: 5.03s\n",
      "260:\tlearn: 1.0819522\ttotal: 32.7s\tremaining: 4.89s\n",
      "261:\tlearn: 1.0819414\ttotal: 32.9s\tremaining: 4.77s\n",
      "262:\tlearn: 1.0818383\ttotal: 33s\tremaining: 4.65s\n",
      "263:\tlearn: 1.0817760\ttotal: 33.2s\tremaining: 4.52s\n",
      "264:\tlearn: 1.0817472\ttotal: 33.3s\tremaining: 4.4s\n",
      "265:\tlearn: 1.0817477\ttotal: 33.3s\tremaining: 4.26s\n",
      "266:\tlearn: 1.0817380\ttotal: 33.5s\tremaining: 4.14s\n",
      "267:\tlearn: 1.0817367\ttotal: 33.5s\tremaining: 4s\n",
      "268:\tlearn: 1.0817288\ttotal: 33.6s\tremaining: 3.88s\n",
      "269:\tlearn: 1.0817089\ttotal: 33.8s\tremaining: 3.75s\n",
      "270:\tlearn: 1.0816139\ttotal: 33.9s\tremaining: 3.63s\n",
      "271:\tlearn: 1.0815369\ttotal: 34.1s\tremaining: 3.51s\n",
      "272:\tlearn: 1.0814937\ttotal: 34.2s\tremaining: 3.38s\n",
      "273:\tlearn: 1.0814321\ttotal: 34.3s\tremaining: 3.26s\n",
      "274:\tlearn: 1.0813993\ttotal: 34.5s\tremaining: 3.13s\n",
      "275:\tlearn: 1.0813996\ttotal: 34.5s\tremaining: 3s\n",
      "276:\tlearn: 1.0813887\ttotal: 34.7s\tremaining: 2.88s\n",
      "277:\tlearn: 1.0813886\ttotal: 34.7s\tremaining: 2.75s\n",
      "278:\tlearn: 1.0813650\ttotal: 34.8s\tremaining: 2.62s\n",
      "279:\tlearn: 1.0813213\ttotal: 35s\tremaining: 2.5s\n",
      "280:\tlearn: 1.0812283\ttotal: 35.1s\tremaining: 2.38s\n",
      "281:\tlearn: 1.0811666\ttotal: 35.3s\tremaining: 2.25s\n",
      "282:\tlearn: 1.0811655\ttotal: 35.3s\tremaining: 2.12s\n",
      "283:\tlearn: 1.0811584\ttotal: 35.4s\tremaining: 2s\n",
      "284:\tlearn: 1.0811581\ttotal: 35.5s\tremaining: 1.87s\n",
      "285:\tlearn: 1.0811370\ttotal: 35.6s\tremaining: 1.74s\n",
      "286:\tlearn: 1.0811318\ttotal: 35.8s\tremaining: 1.62s\n",
      "287:\tlearn: 1.0810881\ttotal: 35.9s\tremaining: 1.5s\n",
      "288:\tlearn: 1.0810387\ttotal: 36.1s\tremaining: 1.37s\n",
      "289:\tlearn: 1.0809682\ttotal: 36.2s\tremaining: 1.25s\n",
      "290:\tlearn: 1.0808743\ttotal: 36.3s\tremaining: 1.12s\n",
      "291:\tlearn: 1.0808563\ttotal: 36.5s\tremaining: 999ms\n",
      "292:\tlearn: 1.0808233\ttotal: 36.6s\tremaining: 875ms\n",
      "293:\tlearn: 1.0807658\ttotal: 36.8s\tremaining: 751ms\n",
      "294:\tlearn: 1.0807207\ttotal: 36.9s\tremaining: 626ms\n",
      "295:\tlearn: 1.0806874\ttotal: 37.1s\tremaining: 501ms\n",
      "296:\tlearn: 1.0806879\ttotal: 37.1s\tremaining: 375ms\n",
      "297:\tlearn: 1.0806800\ttotal: 37.2s\tremaining: 250ms\n",
      "298:\tlearn: 1.0806133\ttotal: 37.4s\tremaining: 125ms\n",
      "299:\tlearn: 1.0805971\ttotal: 37.5s\tremaining: 0us\n",
      "generating model_catboost_within_sel25\n",
      "keeping cols  ['target_category_tfidf_bigram_256_within_shop_lag_12', 'target_category_within_shop_lag_4', 'target_category_within_shop_lag_2', 'date_block_num', 'item_category_id', 'target_category_frequent_256_within_shop_lag_5', 'target_category_frequent_256_within_shop_lag_6', 'target_category_tfidf_unigram_256_within_shop_lag_2', 'target_category_tfidf_bigram_256_within_shop_lag_2', 'target_category_tfidf_bigram_256_within_shop_lag_4', 'target_category_tfidf_unigram_256_within_shop_lag_6', 'item_id', 'target_category_frequent_256_within_shop_lag_4', 'target_category_within_shop_lag_12', 'target_category_tfidf_bigram_256_within_shop_lag_6', 'target_category_within_shop_lag_3', 'target_category_tfidf_bigram_256_within_shop_lag_5', 'target_category_tfidf_unigram_256_within_shop_lag_5', 'target_category_within_shop_lag_5', 'target_category_frequent_256_within_shop_lag_12', 'shop_id', 'target_category_frequent_256_within_shop_lag_3', 'target_category_tfidf_bigram_256_within_shop_lag_3', 'target_category_tfidf_unigram_256_within_shop_lag_4', 'target_category_tfidf_unigram_256_within_shop_lag_3']\n",
      "0:\tlearn: 1.1943990\ttotal: 177ms\tremaining: 2m 56s\n",
      "1:\tlearn: 1.1923916\ttotal: 342ms\tremaining: 2m 50s\n",
      "2:\tlearn: 1.1896976\ttotal: 500ms\tremaining: 2m 46s\n",
      "3:\tlearn: 1.1871775\ttotal: 652ms\tremaining: 2m 42s\n",
      "4:\tlearn: 1.1847260\ttotal: 814ms\tremaining: 2m 42s\n",
      "5:\tlearn: 1.1825226\ttotal: 964ms\tremaining: 2m 39s\n",
      "6:\tlearn: 1.1804552\ttotal: 1.13s\tremaining: 2m 39s\n",
      "7:\tlearn: 1.1783193\ttotal: 1.29s\tremaining: 2m 40s\n",
      "8:\tlearn: 1.1762817\ttotal: 1.45s\tremaining: 2m 39s\n",
      "9:\tlearn: 1.1743517\ttotal: 1.6s\tremaining: 2m 38s\n",
      "10:\tlearn: 1.1723615\ttotal: 1.76s\tremaining: 2m 38s\n",
      "11:\tlearn: 1.1704618\ttotal: 1.92s\tremaining: 2m 37s\n",
      "12:\tlearn: 1.1686861\ttotal: 2.08s\tremaining: 2m 37s\n",
      "13:\tlearn: 1.1683799\ttotal: 2.12s\tremaining: 2m 29s\n",
      "14:\tlearn: 1.1669106\ttotal: 2.27s\tremaining: 2m 29s\n",
      "15:\tlearn: 1.1655100\ttotal: 2.44s\tremaining: 2m 30s\n",
      "16:\tlearn: 1.1652285\ttotal: 2.48s\tremaining: 2m 23s\n",
      "17:\tlearn: 1.1638957\ttotal: 2.66s\tremaining: 2m 24s\n",
      "18:\tlearn: 1.1624295\ttotal: 2.82s\tremaining: 2m 25s\n",
      "19:\tlearn: 1.1621742\ttotal: 2.86s\tremaining: 2m 20s\n",
      "20:\tlearn: 1.1607561\ttotal: 3.02s\tremaining: 2m 20s\n",
      "21:\tlearn: 1.1594244\ttotal: 3.18s\tremaining: 2m 21s\n",
      "22:\tlearn: 1.1581128\ttotal: 3.34s\tremaining: 2m 21s\n",
      "23:\tlearn: 1.1578812\ttotal: 3.38s\tremaining: 2m 17s\n",
      "24:\tlearn: 1.1566462\ttotal: 3.56s\tremaining: 2m 18s\n",
      "25:\tlearn: 1.1554884\ttotal: 3.73s\tremaining: 2m 19s\n",
      "26:\tlearn: 1.1543334\ttotal: 3.89s\tremaining: 2m 20s\n",
      "27:\tlearn: 1.1532940\ttotal: 4.05s\tremaining: 2m 20s\n",
      "28:\tlearn: 1.1522378\ttotal: 4.21s\tremaining: 2m 21s\n",
      "29:\tlearn: 1.1512157\ttotal: 4.39s\tremaining: 2m 21s\n",
      "30:\tlearn: 1.1503230\ttotal: 4.56s\tremaining: 2m 22s\n",
      "31:\tlearn: 1.1494833\ttotal: 4.71s\tremaining: 2m 22s\n",
      "32:\tlearn: 1.1486554\ttotal: 4.87s\tremaining: 2m 22s\n",
      "33:\tlearn: 1.1479640\ttotal: 5.02s\tremaining: 2m 22s\n",
      "34:\tlearn: 1.1472075\ttotal: 5.2s\tremaining: 2m 23s\n",
      "35:\tlearn: 1.1463308\ttotal: 5.37s\tremaining: 2m 23s\n",
      "36:\tlearn: 1.1452707\ttotal: 5.52s\tremaining: 2m 23s\n",
      "37:\tlearn: 1.1441117\ttotal: 5.67s\tremaining: 2m 23s\n",
      "38:\tlearn: 1.1439288\ttotal: 5.71s\tremaining: 2m 20s\n",
      "39:\tlearn: 1.1431051\ttotal: 5.87s\tremaining: 2m 20s\n",
      "40:\tlearn: 1.1424026\ttotal: 6.03s\tremaining: 2m 21s\n",
      "41:\tlearn: 1.1414699\ttotal: 6.19s\tremaining: 2m 21s\n",
      "42:\tlearn: 1.1404737\ttotal: 6.34s\tremaining: 2m 21s\n",
      "43:\tlearn: 1.1395259\ttotal: 6.5s\tremaining: 2m 21s\n",
      "44:\tlearn: 1.1387440\ttotal: 6.66s\tremaining: 2m 21s\n",
      "45:\tlearn: 1.1385864\ttotal: 6.7s\tremaining: 2m 18s\n",
      "46:\tlearn: 1.1375593\ttotal: 6.86s\tremaining: 2m 19s\n",
      "47:\tlearn: 1.1368915\ttotal: 7.01s\tremaining: 2m 19s\n",
      "48:\tlearn: 1.1365335\ttotal: 7.14s\tremaining: 2m 18s\n",
      "49:\tlearn: 1.1358978\ttotal: 7.3s\tremaining: 2m 18s\n",
      "50:\tlearn: 1.1352898\ttotal: 7.45s\tremaining: 2m 18s\n",
      "51:\tlearn: 1.1348215\ttotal: 7.61s\tremaining: 2m 18s\n",
      "52:\tlearn: 1.1343305\ttotal: 7.76s\tremaining: 2m 18s\n",
      "53:\tlearn: 1.1337864\ttotal: 7.92s\tremaining: 2m 18s\n",
      "54:\tlearn: 1.1336612\ttotal: 7.96s\tremaining: 2m 16s\n",
      "55:\tlearn: 1.1331613\ttotal: 8.12s\tremaining: 2m 16s\n",
      "56:\tlearn: 1.1330067\ttotal: 8.18s\tremaining: 2m 15s\n",
      "57:\tlearn: 1.1326138\ttotal: 8.33s\tremaining: 2m 15s\n",
      "58:\tlearn: 1.1320630\ttotal: 8.49s\tremaining: 2m 15s\n",
      "59:\tlearn: 1.1319412\ttotal: 8.55s\tremaining: 2m 13s\n",
      "60:\tlearn: 1.1314999\ttotal: 8.71s\tremaining: 2m 14s\n",
      "61:\tlearn: 1.1310090\ttotal: 8.87s\tremaining: 2m 14s\n",
      "62:\tlearn: 1.1306458\ttotal: 9.02s\tremaining: 2m 14s\n",
      "63:\tlearn: 1.1301533\ttotal: 9.18s\tremaining: 2m 14s\n",
      "64:\tlearn: 1.1297858\ttotal: 9.34s\tremaining: 2m 14s\n",
      "65:\tlearn: 1.1293556\ttotal: 9.5s\tremaining: 2m 14s\n",
      "66:\tlearn: 1.1292615\ttotal: 9.54s\tremaining: 2m 12s\n",
      "67:\tlearn: 1.1284699\ttotal: 9.69s\tremaining: 2m 12s\n",
      "68:\tlearn: 1.1280428\ttotal: 9.84s\tremaining: 2m 12s\n",
      "69:\tlearn: 1.1277647\ttotal: 10s\tremaining: 2m 12s\n",
      "70:\tlearn: 1.1274637\ttotal: 10.2s\tremaining: 2m 12s\n",
      "71:\tlearn: 1.1271526\ttotal: 10.3s\tremaining: 2m 12s\n",
      "72:\tlearn: 1.1268060\ttotal: 10.5s\tremaining: 2m 12s\n",
      "73:\tlearn: 1.1264691\ttotal: 10.6s\tremaining: 2m 12s\n",
      "74:\tlearn: 1.1263868\ttotal: 10.7s\tremaining: 2m 11s\n",
      "75:\tlearn: 1.1259652\ttotal: 10.8s\tremaining: 2m 11s\n",
      "76:\tlearn: 1.1253463\ttotal: 11s\tremaining: 2m 11s\n",
      "77:\tlearn: 1.1250357\ttotal: 11.1s\tremaining: 2m 11s\n",
      "78:\tlearn: 1.1246898\ttotal: 11.3s\tremaining: 2m 11s\n",
      "79:\tlearn: 1.1240008\ttotal: 11.4s\tremaining: 2m 11s\n",
      "80:\tlearn: 1.1237932\ttotal: 11.6s\tremaining: 2m 11s\n",
      "81:\tlearn: 1.1234659\ttotal: 11.7s\tremaining: 2m 11s\n",
      "82:\tlearn: 1.1229284\ttotal: 11.9s\tremaining: 2m 11s\n",
      "83:\tlearn: 1.1226114\ttotal: 12.1s\tremaining: 2m 11s\n",
      "84:\tlearn: 1.1225411\ttotal: 12.1s\tremaining: 2m 10s\n",
      "85:\tlearn: 1.1222148\ttotal: 12.3s\tremaining: 2m 10s\n",
      "86:\tlearn: 1.1221499\ttotal: 12.3s\tremaining: 2m 9s\n",
      "87:\tlearn: 1.1218666\ttotal: 12.4s\tremaining: 2m 8s\n",
      "88:\tlearn: 1.1216345\ttotal: 12.6s\tremaining: 2m 8s\n",
      "89:\tlearn: 1.1213053\ttotal: 12.8s\tremaining: 2m 8s\n",
      "90:\tlearn: 1.1209873\ttotal: 12.9s\tremaining: 2m 8s\n",
      "91:\tlearn: 1.1206704\ttotal: 13.1s\tremaining: 2m 8s\n",
      "92:\tlearn: 1.1205013\ttotal: 13.2s\tremaining: 2m 8s\n",
      "93:\tlearn: 1.1204474\ttotal: 13.3s\tremaining: 2m 7s\n",
      "94:\tlearn: 1.1201124\ttotal: 13.4s\tremaining: 2m 7s\n",
      "95:\tlearn: 1.1201023\ttotal: 13.5s\tremaining: 2m 6s\n",
      "96:\tlearn: 1.1197731\ttotal: 13.6s\tremaining: 2m 6s\n",
      "97:\tlearn: 1.1193585\ttotal: 13.8s\tremaining: 2m 6s\n",
      "98:\tlearn: 1.1191306\ttotal: 13.9s\tremaining: 2m 6s\n",
      "99:\tlearn: 1.1189650\ttotal: 14.1s\tremaining: 2m 6s\n",
      "100:\tlearn: 1.1186848\ttotal: 14.2s\tremaining: 2m 6s\n",
      "101:\tlearn: 1.1184119\ttotal: 14.4s\tremaining: 2m 6s\n",
      "102:\tlearn: 1.1181751\ttotal: 14.5s\tremaining: 2m 6s\n",
      "103:\tlearn: 1.1179203\ttotal: 14.7s\tremaining: 2m 6s\n",
      "104:\tlearn: 1.1177778\ttotal: 14.8s\tremaining: 2m 6s\n",
      "105:\tlearn: 1.1175811\ttotal: 15s\tremaining: 2m 6s\n",
      "106:\tlearn: 1.1174319\ttotal: 15.2s\tremaining: 2m 6s\n",
      "107:\tlearn: 1.1172407\ttotal: 15.3s\tremaining: 2m 6s\n",
      "108:\tlearn: 1.1167641\ttotal: 15.5s\tremaining: 2m 6s\n",
      "109:\tlearn: 1.1165205\ttotal: 15.6s\tremaining: 2m 6s\n",
      "110:\tlearn: 1.1162569\ttotal: 15.8s\tremaining: 2m 6s\n",
      "111:\tlearn: 1.1160604\ttotal: 15.9s\tremaining: 2m 6s\n",
      "112:\tlearn: 1.1160212\ttotal: 16s\tremaining: 2m 5s\n",
      "113:\tlearn: 1.1157312\ttotal: 16.1s\tremaining: 2m 5s\n",
      "114:\tlearn: 1.1156935\ttotal: 16.2s\tremaining: 2m 4s\n",
      "115:\tlearn: 1.1153904\ttotal: 16.3s\tremaining: 2m 4s\n",
      "116:\tlearn: 1.1151658\ttotal: 16.5s\tremaining: 2m 4s\n",
      "117:\tlearn: 1.1149734\ttotal: 16.6s\tremaining: 2m 4s\n",
      "118:\tlearn: 1.1148885\ttotal: 16.7s\tremaining: 2m 3s\n",
      "119:\tlearn: 1.1147249\ttotal: 16.9s\tremaining: 2m 4s\n",
      "120:\tlearn: 1.1146934\ttotal: 17s\tremaining: 2m 3s\n",
      "121:\tlearn: 1.1145862\ttotal: 17.1s\tremaining: 2m 3s\n",
      "122:\tlearn: 1.1142410\ttotal: 17.3s\tremaining: 2m 3s\n",
      "123:\tlearn: 1.1142113\ttotal: 17.3s\tremaining: 2m 2s\n",
      "124:\tlearn: 1.1140729\ttotal: 17.5s\tremaining: 2m 2s\n",
      "125:\tlearn: 1.1139141\ttotal: 17.7s\tremaining: 2m 2s\n",
      "126:\tlearn: 1.1137386\ttotal: 17.8s\tremaining: 2m 2s\n",
      "127:\tlearn: 1.1135296\ttotal: 18s\tremaining: 2m 2s\n",
      "128:\tlearn: 1.1133698\ttotal: 18.1s\tremaining: 2m 2s\n",
      "129:\tlearn: 1.1131915\ttotal: 18.3s\tremaining: 2m 2s\n",
      "130:\tlearn: 1.1130459\ttotal: 18.5s\tremaining: 2m 2s\n",
      "131:\tlearn: 1.1127431\ttotal: 18.6s\tremaining: 2m 2s\n",
      "132:\tlearn: 1.1123344\ttotal: 18.8s\tremaining: 2m 2s\n",
      "133:\tlearn: 1.1121917\ttotal: 19s\tremaining: 2m 2s\n",
      "134:\tlearn: 1.1120812\ttotal: 19.1s\tremaining: 2m 2s\n",
      "135:\tlearn: 1.1119825\ttotal: 19.3s\tremaining: 2m 2s\n",
      "136:\tlearn: 1.1119086\ttotal: 19.4s\tremaining: 2m 2s\n",
      "137:\tlearn: 1.1117599\ttotal: 19.5s\tremaining: 2m 1s\n",
      "138:\tlearn: 1.1116166\ttotal: 19.6s\tremaining: 2m 1s\n",
      "139:\tlearn: 1.1114521\ttotal: 19.8s\tremaining: 2m 1s\n",
      "140:\tlearn: 1.1111846\ttotal: 19.9s\tremaining: 2m 1s\n",
      "141:\tlearn: 1.1110088\ttotal: 20.1s\tremaining: 2m 1s\n",
      "142:\tlearn: 1.1108793\ttotal: 20.3s\tremaining: 2m 1s\n",
      "143:\tlearn: 1.1107308\ttotal: 20.4s\tremaining: 2m 1s\n",
      "144:\tlearn: 1.1106004\ttotal: 20.6s\tremaining: 2m 1s\n",
      "145:\tlearn: 1.1105190\ttotal: 20.7s\tremaining: 2m 1s\n",
      "146:\tlearn: 1.1103825\ttotal: 20.9s\tremaining: 2m 1s\n",
      "147:\tlearn: 1.1103039\ttotal: 21s\tremaining: 2m\n",
      "148:\tlearn: 1.1102110\ttotal: 21.2s\tremaining: 2m\n",
      "149:\tlearn: 1.1100983\ttotal: 21.3s\tremaining: 2m\n",
      "150:\tlearn: 1.1097683\ttotal: 21.5s\tremaining: 2m\n",
      "151:\tlearn: 1.1095711\ttotal: 21.6s\tremaining: 2m\n",
      "152:\tlearn: 1.1094051\ttotal: 21.8s\tremaining: 2m\n",
      "153:\tlearn: 1.1091493\ttotal: 21.9s\tremaining: 2m\n",
      "154:\tlearn: 1.1089215\ttotal: 22.1s\tremaining: 2m\n",
      "155:\tlearn: 1.1087319\ttotal: 22.3s\tremaining: 2m\n",
      "156:\tlearn: 1.1086607\ttotal: 22.4s\tremaining: 2m\n",
      "157:\tlearn: 1.1083404\ttotal: 22.6s\tremaining: 2m\n",
      "158:\tlearn: 1.1082267\ttotal: 22.7s\tremaining: 2m\n",
      "159:\tlearn: 1.1081624\ttotal: 22.9s\tremaining: 2m\n",
      "160:\tlearn: 1.1078488\ttotal: 23s\tremaining: 1m 59s\n",
      "161:\tlearn: 1.1077442\ttotal: 23.2s\tremaining: 1m 59s\n",
      "162:\tlearn: 1.1073271\ttotal: 23.3s\tremaining: 1m 59s\n",
      "163:\tlearn: 1.1071582\ttotal: 23.5s\tremaining: 1m 59s\n",
      "164:\tlearn: 1.1070188\ttotal: 23.6s\tremaining: 1m 59s\n",
      "165:\tlearn: 1.1070015\ttotal: 23.7s\tremaining: 1m 58s\n",
      "166:\tlearn: 1.1068532\ttotal: 23.8s\tremaining: 1m 58s\n",
      "167:\tlearn: 1.1068532\ttotal: 23.9s\tremaining: 1m 58s\n",
      "168:\tlearn: 1.1067134\ttotal: 24s\tremaining: 1m 58s\n",
      "169:\tlearn: 1.1066972\ttotal: 24.1s\tremaining: 1m 57s\n",
      "170:\tlearn: 1.1065672\ttotal: 24.2s\tremaining: 1m 57s\n",
      "171:\tlearn: 1.1063231\ttotal: 24.4s\tremaining: 1m 57s\n",
      "172:\tlearn: 1.1062269\ttotal: 24.5s\tremaining: 1m 57s\n",
      "173:\tlearn: 1.1059715\ttotal: 24.7s\tremaining: 1m 57s\n",
      "174:\tlearn: 1.1058394\ttotal: 24.8s\tremaining: 1m 57s\n",
      "175:\tlearn: 1.1057516\ttotal: 25s\tremaining: 1m 56s\n",
      "176:\tlearn: 1.1056040\ttotal: 25.1s\tremaining: 1m 56s\n",
      "177:\tlearn: 1.1054553\ttotal: 25.3s\tremaining: 1m 56s\n",
      "178:\tlearn: 1.1052502\ttotal: 25.4s\tremaining: 1m 56s\n",
      "179:\tlearn: 1.1052380\ttotal: 25.5s\tremaining: 1m 56s\n",
      "180:\tlearn: 1.1051204\ttotal: 25.6s\tremaining: 1m 55s\n",
      "181:\tlearn: 1.1050411\ttotal: 25.8s\tremaining: 1m 55s\n",
      "182:\tlearn: 1.1050291\ttotal: 25.8s\tremaining: 1m 55s\n",
      "183:\tlearn: 1.1049214\ttotal: 26s\tremaining: 1m 55s\n",
      "184:\tlearn: 1.1048119\ttotal: 26.1s\tremaining: 1m 55s\n",
      "185:\tlearn: 1.1047541\ttotal: 26.3s\tremaining: 1m 54s\n",
      "186:\tlearn: 1.1046778\ttotal: 26.4s\tremaining: 1m 54s\n",
      "187:\tlearn: 1.1046248\ttotal: 26.6s\tremaining: 1m 54s\n",
      "188:\tlearn: 1.1044916\ttotal: 26.7s\tremaining: 1m 54s\n",
      "189:\tlearn: 1.1042767\ttotal: 26.9s\tremaining: 1m 54s\n",
      "190:\tlearn: 1.1042265\ttotal: 27s\tremaining: 1m 54s\n",
      "191:\tlearn: 1.1041617\ttotal: 27.2s\tremaining: 1m 54s\n",
      "192:\tlearn: 1.1037727\ttotal: 27.3s\tremaining: 1m 54s\n",
      "193:\tlearn: 1.1036460\ttotal: 27.5s\tremaining: 1m 54s\n",
      "194:\tlearn: 1.1035327\ttotal: 27.6s\tremaining: 1m 54s\n",
      "195:\tlearn: 1.1034793\ttotal: 27.8s\tremaining: 1m 54s\n",
      "196:\tlearn: 1.1034247\ttotal: 27.9s\tremaining: 1m 53s\n",
      "197:\tlearn: 1.1032891\ttotal: 28.1s\tremaining: 1m 53s\n",
      "198:\tlearn: 1.1031570\ttotal: 28.3s\tremaining: 1m 53s\n",
      "199:\tlearn: 1.1030538\ttotal: 28.4s\tremaining: 1m 53s\n",
      "200:\tlearn: 1.1029660\ttotal: 28.6s\tremaining: 1m 53s\n",
      "201:\tlearn: 1.1028794\ttotal: 28.7s\tremaining: 1m 53s\n",
      "202:\tlearn: 1.1028295\ttotal: 28.9s\tremaining: 1m 53s\n",
      "203:\tlearn: 1.1027840\ttotal: 29s\tremaining: 1m 53s\n",
      "204:\tlearn: 1.1024853\ttotal: 29.2s\tremaining: 1m 53s\n",
      "205:\tlearn: 1.1023724\ttotal: 29.3s\tremaining: 1m 52s\n",
      "206:\tlearn: 1.1021218\ttotal: 29.5s\tremaining: 1m 52s\n",
      "207:\tlearn: 1.1021118\ttotal: 29.5s\tremaining: 1m 52s\n",
      "208:\tlearn: 1.1020213\ttotal: 29.7s\tremaining: 1m 52s\n",
      "209:\tlearn: 1.1020119\ttotal: 29.7s\tremaining: 1m 51s\n",
      "210:\tlearn: 1.1019213\ttotal: 29.9s\tremaining: 1m 51s\n",
      "211:\tlearn: 1.1019135\ttotal: 29.9s\tremaining: 1m 51s\n",
      "212:\tlearn: 1.1018284\ttotal: 30s\tremaining: 1m 51s\n",
      "213:\tlearn: 1.1015730\ttotal: 30.2s\tremaining: 1m 50s\n",
      "214:\tlearn: 1.1013533\ttotal: 30.4s\tremaining: 1m 50s\n",
      "215:\tlearn: 1.1013464\ttotal: 30.4s\tremaining: 1m 50s\n",
      "216:\tlearn: 1.1012673\ttotal: 30.6s\tremaining: 1m 50s\n",
      "217:\tlearn: 1.1011986\ttotal: 30.7s\tremaining: 1m 50s\n",
      "218:\tlearn: 1.1011069\ttotal: 30.9s\tremaining: 1m 50s\n",
      "219:\tlearn: 1.1009246\ttotal: 31s\tremaining: 1m 50s\n",
      "220:\tlearn: 1.1008293\ttotal: 31.2s\tremaining: 1m 49s\n",
      "221:\tlearn: 1.1006498\ttotal: 31.4s\tremaining: 1m 49s\n",
      "222:\tlearn: 1.1005893\ttotal: 31.5s\tremaining: 1m 49s\n",
      "223:\tlearn: 1.1005831\ttotal: 31.5s\tremaining: 1m 49s\n",
      "224:\tlearn: 1.1005084\ttotal: 31.7s\tremaining: 1m 49s\n",
      "225:\tlearn: 1.1002517\ttotal: 31.9s\tremaining: 1m 49s\n",
      "226:\tlearn: 1.1001619\ttotal: 32s\tremaining: 1m 48s\n",
      "227:\tlearn: 1.1000312\ttotal: 32.2s\tremaining: 1m 48s\n",
      "228:\tlearn: 1.1000253\ttotal: 32.2s\tremaining: 1m 48s\n",
      "229:\tlearn: 1.0999856\ttotal: 32.4s\tremaining: 1m 48s\n",
      "230:\tlearn: 1.0999408\ttotal: 32.5s\tremaining: 1m 48s\n",
      "231:\tlearn: 1.0998423\ttotal: 32.7s\tremaining: 1m 48s\n",
      "232:\tlearn: 1.0998352\ttotal: 32.7s\tremaining: 1m 47s\n",
      "233:\tlearn: 1.0997821\ttotal: 32.9s\tremaining: 1m 47s\n",
      "234:\tlearn: 1.0997293\ttotal: 33s\tremaining: 1m 47s\n",
      "235:\tlearn: 1.0996081\ttotal: 33.2s\tremaining: 1m 47s\n",
      "236:\tlearn: 1.0995278\ttotal: 33.3s\tremaining: 1m 47s\n",
      "237:\tlearn: 1.0994715\ttotal: 33.5s\tremaining: 1m 47s\n",
      "238:\tlearn: 1.0994192\ttotal: 33.6s\tremaining: 1m 47s\n",
      "239:\tlearn: 1.0993537\ttotal: 33.8s\tremaining: 1m 46s\n",
      "240:\tlearn: 1.0992654\ttotal: 33.9s\tremaining: 1m 46s\n",
      "241:\tlearn: 1.0992595\ttotal: 34s\tremaining: 1m 46s\n",
      "242:\tlearn: 1.0992121\ttotal: 34.1s\tremaining: 1m 46s\n",
      "243:\tlearn: 1.0991434\ttotal: 34.3s\tremaining: 1m 46s\n",
      "244:\tlearn: 1.0990370\ttotal: 34.4s\tremaining: 1m 46s\n",
      "245:\tlearn: 1.0990319\ttotal: 34.5s\tremaining: 1m 45s\n",
      "246:\tlearn: 1.0989751\ttotal: 34.6s\tremaining: 1m 45s\n",
      "247:\tlearn: 1.0989375\ttotal: 34.8s\tremaining: 1m 45s\n",
      "248:\tlearn: 1.0983247\ttotal: 34.9s\tremaining: 1m 45s\n",
      "249:\tlearn: 1.0983212\ttotal: 34.9s\tremaining: 1m 44s\n",
      "250:\tlearn: 1.0982558\ttotal: 35.1s\tremaining: 1m 44s\n",
      "251:\tlearn: 1.0980351\ttotal: 35.3s\tremaining: 1m 44s\n",
      "252:\tlearn: 1.0979627\ttotal: 35.4s\tremaining: 1m 44s\n",
      "253:\tlearn: 1.0979598\ttotal: 35.5s\tremaining: 1m 44s\n",
      "254:\tlearn: 1.0978586\ttotal: 35.6s\tremaining: 1m 44s\n",
      "255:\tlearn: 1.0978540\ttotal: 35.7s\tremaining: 1m 43s\n",
      "256:\tlearn: 1.0977832\ttotal: 35.8s\tremaining: 1m 43s\n",
      "257:\tlearn: 1.0977412\ttotal: 36s\tremaining: 1m 43s\n",
      "258:\tlearn: 1.0977366\ttotal: 36s\tremaining: 1m 43s\n",
      "259:\tlearn: 1.0976916\ttotal: 36.2s\tremaining: 1m 43s\n",
      "260:\tlearn: 1.0976012\ttotal: 36.4s\tremaining: 1m 42s\n",
      "261:\tlearn: 1.0975555\ttotal: 36.5s\tremaining: 1m 42s\n",
      "262:\tlearn: 1.0975519\ttotal: 36.6s\tremaining: 1m 42s\n",
      "263:\tlearn: 1.0974424\ttotal: 36.7s\tremaining: 1m 42s\n",
      "264:\tlearn: 1.0973891\ttotal: 36.9s\tremaining: 1m 42s\n",
      "265:\tlearn: 1.0973374\ttotal: 37s\tremaining: 1m 42s\n",
      "266:\tlearn: 1.0972768\ttotal: 37.2s\tremaining: 1m 41s\n",
      "267:\tlearn: 1.0972052\ttotal: 37.3s\tremaining: 1m 41s\n",
      "268:\tlearn: 1.0971222\ttotal: 37.5s\tremaining: 1m 41s\n",
      "269:\tlearn: 1.0970512\ttotal: 37.7s\tremaining: 1m 41s\n",
      "270:\tlearn: 1.0969714\ttotal: 37.8s\tremaining: 1m 41s\n",
      "271:\tlearn: 1.0968574\ttotal: 38s\tremaining: 1m 41s\n",
      "272:\tlearn: 1.0967342\ttotal: 38.1s\tremaining: 1m 41s\n",
      "273:\tlearn: 1.0966370\ttotal: 38.3s\tremaining: 1m 41s\n",
      "274:\tlearn: 1.0965969\ttotal: 38.4s\tremaining: 1m 41s\n",
      "275:\tlearn: 1.0964877\ttotal: 38.6s\tremaining: 1m 41s\n",
      "276:\tlearn: 1.0964857\ttotal: 38.6s\tremaining: 1m 40s\n",
      "277:\tlearn: 1.0964464\ttotal: 38.8s\tremaining: 1m 40s\n",
      "278:\tlearn: 1.0961542\ttotal: 38.9s\tremaining: 1m 40s\n",
      "279:\tlearn: 1.0960104\ttotal: 39.1s\tremaining: 1m 40s\n",
      "280:\tlearn: 1.0959280\ttotal: 39.2s\tremaining: 1m 40s\n",
      "281:\tlearn: 1.0958949\ttotal: 39.4s\tremaining: 1m 40s\n",
      "282:\tlearn: 1.0958171\ttotal: 39.5s\tremaining: 1m 40s\n",
      "283:\tlearn: 1.0958149\ttotal: 39.5s\tremaining: 1m 39s\n",
      "284:\tlearn: 1.0957837\ttotal: 39.7s\tremaining: 1m 39s\n",
      "285:\tlearn: 1.0955085\ttotal: 39.8s\tremaining: 1m 39s\n",
      "286:\tlearn: 1.0954715\ttotal: 40s\tremaining: 1m 39s\n",
      "287:\tlearn: 1.0954692\ttotal: 40s\tremaining: 1m 38s\n",
      "288:\tlearn: 1.0953042\ttotal: 40.2s\tremaining: 1m 38s\n",
      "289:\tlearn: 1.0950322\ttotal: 40.3s\tremaining: 1m 38s\n",
      "290:\tlearn: 1.0949630\ttotal: 40.5s\tremaining: 1m 38s\n",
      "291:\tlearn: 1.0948614\ttotal: 40.7s\tremaining: 1m 38s\n",
      "292:\tlearn: 1.0947607\ttotal: 40.8s\tremaining: 1m 38s\n",
      "293:\tlearn: 1.0947604\ttotal: 40.8s\tremaining: 1m 38s\n",
      "294:\tlearn: 1.0947302\ttotal: 41s\tremaining: 1m 37s\n",
      "295:\tlearn: 1.0946506\ttotal: 41.2s\tremaining: 1m 37s\n",
      "296:\tlearn: 1.0945984\ttotal: 41.3s\tremaining: 1m 37s\n",
      "297:\tlearn: 1.0945964\ttotal: 41.3s\tremaining: 1m 37s\n",
      "298:\tlearn: 1.0945686\ttotal: 41.5s\tremaining: 1m 37s\n",
      "299:\tlearn: 1.0944932\ttotal: 41.6s\tremaining: 1m 37s\n",
      "300:\tlearn: 1.0944114\ttotal: 41.8s\tremaining: 1m 37s\n",
      "301:\tlearn: 1.0944100\ttotal: 41.8s\tremaining: 1m 36s\n",
      "302:\tlearn: 1.0943851\ttotal: 42s\tremaining: 1m 36s\n",
      "303:\tlearn: 1.0943838\ttotal: 42s\tremaining: 1m 36s\n",
      "304:\tlearn: 1.0943531\ttotal: 42.2s\tremaining: 1m 36s\n",
      "305:\tlearn: 1.0943021\ttotal: 42.3s\tremaining: 1m 36s\n",
      "306:\tlearn: 1.0942710\ttotal: 42.5s\tremaining: 1m 35s\n",
      "307:\tlearn: 1.0940269\ttotal: 42.6s\tremaining: 1m 35s\n",
      "308:\tlearn: 1.0939585\ttotal: 42.8s\tremaining: 1m 35s\n",
      "309:\tlearn: 1.0939233\ttotal: 42.9s\tremaining: 1m 35s\n",
      "310:\tlearn: 1.0938520\ttotal: 43.1s\tremaining: 1m 35s\n",
      "311:\tlearn: 1.0938511\ttotal: 43.1s\tremaining: 1m 35s\n",
      "312:\tlearn: 1.0938235\ttotal: 43.3s\tremaining: 1m 35s\n",
      "313:\tlearn: 1.0935955\ttotal: 43.4s\tremaining: 1m 34s\n",
      "314:\tlearn: 1.0935414\ttotal: 43.6s\tremaining: 1m 34s\n",
      "315:\tlearn: 1.0934015\ttotal: 43.7s\tremaining: 1m 34s\n",
      "316:\tlearn: 1.0933268\ttotal: 43.9s\tremaining: 1m 34s\n",
      "317:\tlearn: 1.0932719\ttotal: 44.1s\tremaining: 1m 34s\n",
      "318:\tlearn: 1.0931718\ttotal: 44.2s\tremaining: 1m 34s\n",
      "319:\tlearn: 1.0930982\ttotal: 44.4s\tremaining: 1m 34s\n",
      "320:\tlearn: 1.0930594\ttotal: 44.5s\tremaining: 1m 34s\n",
      "321:\tlearn: 1.0929569\ttotal: 44.7s\tremaining: 1m 34s\n",
      "322:\tlearn: 1.0928806\ttotal: 44.8s\tremaining: 1m 33s\n",
      "323:\tlearn: 1.0927705\ttotal: 45s\tremaining: 1m 33s\n",
      "324:\tlearn: 1.0927693\ttotal: 45s\tremaining: 1m 33s\n",
      "325:\tlearn: 1.0927435\ttotal: 45.2s\tremaining: 1m 33s\n",
      "326:\tlearn: 1.0926980\ttotal: 45.3s\tremaining: 1m 33s\n",
      "327:\tlearn: 1.0925075\ttotal: 45.5s\tremaining: 1m 33s\n",
      "328:\tlearn: 1.0923572\ttotal: 45.6s\tremaining: 1m 33s\n",
      "329:\tlearn: 1.0922894\ttotal: 45.8s\tremaining: 1m 32s\n",
      "330:\tlearn: 1.0922183\ttotal: 45.9s\tremaining: 1m 32s\n",
      "331:\tlearn: 1.0921509\ttotal: 46.1s\tremaining: 1m 32s\n",
      "332:\tlearn: 1.0920349\ttotal: 46.2s\tremaining: 1m 32s\n",
      "333:\tlearn: 1.0919607\ttotal: 46.4s\tremaining: 1m 32s\n",
      "334:\tlearn: 1.0919596\ttotal: 46.4s\tremaining: 1m 32s\n",
      "335:\tlearn: 1.0918969\ttotal: 46.6s\tremaining: 1m 32s\n",
      "336:\tlearn: 1.0918371\ttotal: 46.7s\tremaining: 1m 31s\n",
      "337:\tlearn: 1.0917376\ttotal: 46.9s\tremaining: 1m 31s\n",
      "338:\tlearn: 1.0916854\ttotal: 47.1s\tremaining: 1m 31s\n",
      "339:\tlearn: 1.0915891\ttotal: 47.2s\tremaining: 1m 31s\n",
      "340:\tlearn: 1.0915304\ttotal: 47.4s\tremaining: 1m 31s\n",
      "341:\tlearn: 1.0914996\ttotal: 47.5s\tremaining: 1m 31s\n",
      "342:\tlearn: 1.0914737\ttotal: 47.6s\tremaining: 1m 31s\n",
      "343:\tlearn: 1.0914730\ttotal: 47.7s\tremaining: 1m 30s\n",
      "344:\tlearn: 1.0914498\ttotal: 47.8s\tremaining: 1m 30s\n",
      "345:\tlearn: 1.0913897\ttotal: 48s\tremaining: 1m 30s\n",
      "346:\tlearn: 1.0913399\ttotal: 48.1s\tremaining: 1m 30s\n",
      "347:\tlearn: 1.0913174\ttotal: 48.3s\tremaining: 1m 30s\n",
      "348:\tlearn: 1.0912420\ttotal: 48.4s\tremaining: 1m 30s\n",
      "349:\tlearn: 1.0911589\ttotal: 48.6s\tremaining: 1m 30s\n",
      "350:\tlearn: 1.0910975\ttotal: 48.8s\tremaining: 1m 30s\n",
      "351:\tlearn: 1.0910967\ttotal: 48.8s\tremaining: 1m 29s\n",
      "352:\tlearn: 1.0910765\ttotal: 49s\tremaining: 1m 29s\n",
      "353:\tlearn: 1.0910302\ttotal: 49.1s\tremaining: 1m 29s\n",
      "354:\tlearn: 1.0910294\ttotal: 49.2s\tremaining: 1m 29s\n",
      "355:\tlearn: 1.0910095\ttotal: 49.3s\tremaining: 1m 29s\n",
      "356:\tlearn: 1.0908966\ttotal: 49.5s\tremaining: 1m 29s\n",
      "357:\tlearn: 1.0908476\ttotal: 49.7s\tremaining: 1m 29s\n",
      "358:\tlearn: 1.0907783\ttotal: 49.8s\tremaining: 1m 28s\n",
      "359:\tlearn: 1.0906941\ttotal: 50s\tremaining: 1m 28s\n",
      "360:\tlearn: 1.0906412\ttotal: 50.1s\tremaining: 1m 28s\n",
      "361:\tlearn: 1.0905861\ttotal: 50.3s\tremaining: 1m 28s\n",
      "362:\tlearn: 1.0905859\ttotal: 50.3s\tremaining: 1m 28s\n",
      "363:\tlearn: 1.0905689\ttotal: 50.5s\tremaining: 1m 28s\n",
      "364:\tlearn: 1.0904913\ttotal: 50.6s\tremaining: 1m 28s\n",
      "365:\tlearn: 1.0903279\ttotal: 50.7s\tremaining: 1m 27s\n",
      "366:\tlearn: 1.0902863\ttotal: 50.9s\tremaining: 1m 27s\n",
      "367:\tlearn: 1.0902033\ttotal: 51s\tremaining: 1m 27s\n",
      "368:\tlearn: 1.0901852\ttotal: 51.2s\tremaining: 1m 27s\n",
      "369:\tlearn: 1.0901488\ttotal: 51.3s\tremaining: 1m 27s\n",
      "370:\tlearn: 1.0901483\ttotal: 51.4s\tremaining: 1m 27s\n",
      "371:\tlearn: 1.0901324\ttotal: 51.5s\tremaining: 1m 26s\n",
      "372:\tlearn: 1.0901319\ttotal: 51.6s\tremaining: 1m 26s\n",
      "373:\tlearn: 1.0901173\ttotal: 51.7s\tremaining: 1m 26s\n",
      "374:\tlearn: 1.0901165\ttotal: 51.8s\tremaining: 1m 26s\n",
      "375:\tlearn: 1.0901018\ttotal: 51.9s\tremaining: 1m 26s\n",
      "376:\tlearn: 1.0901016\ttotal: 51.9s\tremaining: 1m 25s\n",
      "377:\tlearn: 1.0900881\ttotal: 52.1s\tremaining: 1m 25s\n",
      "378:\tlearn: 1.0900877\ttotal: 52.1s\tremaining: 1m 25s\n",
      "379:\tlearn: 1.0900746\ttotal: 52.3s\tremaining: 1m 25s\n",
      "380:\tlearn: 1.0900433\ttotal: 52.4s\tremaining: 1m 25s\n",
      "381:\tlearn: 1.0900421\ttotal: 52.5s\tremaining: 1m 24s\n",
      "382:\tlearn: 1.0900300\ttotal: 52.6s\tremaining: 1m 24s\n",
      "383:\tlearn: 1.0899858\ttotal: 52.8s\tremaining: 1m 24s\n",
      "384:\tlearn: 1.0899558\ttotal: 52.9s\tremaining: 1m 24s\n",
      "385:\tlearn: 1.0899564\ttotal: 53s\tremaining: 1m 24s\n",
      "386:\tlearn: 1.0899434\ttotal: 53.1s\tremaining: 1m 24s\n",
      "387:\tlearn: 1.0899026\ttotal: 53.3s\tremaining: 1m 24s\n",
      "388:\tlearn: 1.0899026\ttotal: 53.3s\tremaining: 1m 23s\n",
      "389:\tlearn: 1.0898919\ttotal: 53.5s\tremaining: 1m 23s\n",
      "390:\tlearn: 1.0898242\ttotal: 53.7s\tremaining: 1m 23s\n",
      "391:\tlearn: 1.0898231\ttotal: 53.7s\tremaining: 1m 23s\n",
      "392:\tlearn: 1.0896914\ttotal: 53.9s\tremaining: 1m 23s\n",
      "393:\tlearn: 1.0896510\ttotal: 54s\tremaining: 1m 23s\n",
      "394:\tlearn: 1.0896505\ttotal: 54.1s\tremaining: 1m 22s\n",
      "395:\tlearn: 1.0895754\ttotal: 54.2s\tremaining: 1m 22s\n",
      "396:\tlearn: 1.0895408\ttotal: 54.4s\tremaining: 1m 22s\n",
      "397:\tlearn: 1.0895043\ttotal: 54.5s\tremaining: 1m 22s\n",
      "398:\tlearn: 1.0894451\ttotal: 54.7s\tremaining: 1m 22s\n",
      "399:\tlearn: 1.0893769\ttotal: 54.9s\tremaining: 1m 22s\n",
      "400:\tlearn: 1.0892885\ttotal: 55s\tremaining: 1m 22s\n",
      "401:\tlearn: 1.0892622\ttotal: 55.2s\tremaining: 1m 22s\n",
      "402:\tlearn: 1.0892620\ttotal: 55.2s\tremaining: 1m 21s\n",
      "403:\tlearn: 1.0892509\ttotal: 55.4s\tremaining: 1m 21s\n",
      "404:\tlearn: 1.0892165\ttotal: 55.5s\tremaining: 1m 21s\n",
      "405:\tlearn: 1.0891642\ttotal: 55.7s\tremaining: 1m 21s\n",
      "406:\tlearn: 1.0890765\ttotal: 55.9s\tremaining: 1m 21s\n",
      "407:\tlearn: 1.0890577\ttotal: 56s\tremaining: 1m 21s\n",
      "408:\tlearn: 1.0890231\ttotal: 56.2s\tremaining: 1m 21s\n",
      "409:\tlearn: 1.0889430\ttotal: 56.3s\tremaining: 1m 21s\n",
      "410:\tlearn: 1.0889426\ttotal: 56.4s\tremaining: 1m 20s\n",
      "411:\tlearn: 1.0889330\ttotal: 56.5s\tremaining: 1m 20s\n",
      "412:\tlearn: 1.0888853\ttotal: 56.6s\tremaining: 1m 20s\n",
      "413:\tlearn: 1.0888422\ttotal: 56.8s\tremaining: 1m 20s\n",
      "414:\tlearn: 1.0888424\ttotal: 56.8s\tremaining: 1m 20s\n",
      "415:\tlearn: 1.0887369\ttotal: 57s\tremaining: 1m 20s\n",
      "416:\tlearn: 1.0887363\ttotal: 57s\tremaining: 1m 19s\n",
      "417:\tlearn: 1.0887230\ttotal: 57.2s\tremaining: 1m 19s\n",
      "418:\tlearn: 1.0886745\ttotal: 57.3s\tremaining: 1m 19s\n",
      "419:\tlearn: 1.0886649\ttotal: 57.5s\tremaining: 1m 19s\n",
      "420:\tlearn: 1.0886376\ttotal: 57.6s\tremaining: 1m 19s\n",
      "421:\tlearn: 1.0885935\ttotal: 57.8s\tremaining: 1m 19s\n",
      "422:\tlearn: 1.0885072\ttotal: 57.9s\tremaining: 1m 19s\n",
      "423:\tlearn: 1.0885067\ttotal: 58s\tremaining: 1m 18s\n",
      "424:\tlearn: 1.0884974\ttotal: 58.1s\tremaining: 1m 18s\n",
      "425:\tlearn: 1.0884780\ttotal: 58.3s\tremaining: 1m 18s\n",
      "426:\tlearn: 1.0884425\ttotal: 58.4s\tremaining: 1m 18s\n",
      "427:\tlearn: 1.0883993\ttotal: 58.6s\tremaining: 1m 18s\n",
      "428:\tlearn: 1.0883993\ttotal: 58.6s\tremaining: 1m 18s\n",
      "429:\tlearn: 1.0882784\ttotal: 58.8s\tremaining: 1m 17s\n",
      "430:\tlearn: 1.0881463\ttotal: 58.9s\tremaining: 1m 17s\n",
      "431:\tlearn: 1.0880591\ttotal: 59.1s\tremaining: 1m 17s\n",
      "432:\tlearn: 1.0880219\ttotal: 59.3s\tremaining: 1m 17s\n",
      "433:\tlearn: 1.0879547\ttotal: 59.4s\tremaining: 1m 17s\n",
      "434:\tlearn: 1.0878312\ttotal: 59.6s\tremaining: 1m 17s\n",
      "435:\tlearn: 1.0877833\ttotal: 59.7s\tremaining: 1m 17s\n",
      "436:\tlearn: 1.0877465\ttotal: 59.9s\tremaining: 1m 17s\n",
      "437:\tlearn: 1.0875287\ttotal: 1m\tremaining: 1m 17s\n",
      "438:\tlearn: 1.0875206\ttotal: 1m\tremaining: 1m 16s\n",
      "439:\tlearn: 1.0874917\ttotal: 1m\tremaining: 1m 16s\n",
      "440:\tlearn: 1.0874664\ttotal: 1m\tremaining: 1m 16s\n",
      "441:\tlearn: 1.0874667\ttotal: 1m\tremaining: 1m 16s\n",
      "442:\tlearn: 1.0874433\ttotal: 1m\tremaining: 1m 16s\n",
      "443:\tlearn: 1.0873936\ttotal: 1m\tremaining: 1m 16s\n",
      "444:\tlearn: 1.0873356\ttotal: 1m\tremaining: 1m 16s\n",
      "445:\tlearn: 1.0872452\ttotal: 1m 1s\tremaining: 1m 15s\n",
      "446:\tlearn: 1.0872453\ttotal: 1m 1s\tremaining: 1m 15s\n",
      "447:\tlearn: 1.0872336\ttotal: 1m 1s\tremaining: 1m 15s\n",
      "448:\tlearn: 1.0871981\ttotal: 1m 1s\tremaining: 1m 15s\n",
      "449:\tlearn: 1.0871584\ttotal: 1m 1s\tremaining: 1m 15s\n",
      "450:\tlearn: 1.0871046\ttotal: 1m 1s\tremaining: 1m 15s\n",
      "451:\tlearn: 1.0870675\ttotal: 1m 1s\tremaining: 1m 15s\n",
      "452:\tlearn: 1.0870322\ttotal: 1m 2s\tremaining: 1m 14s\n",
      "453:\tlearn: 1.0870319\ttotal: 1m 2s\tremaining: 1m 14s\n",
      "454:\tlearn: 1.0870214\ttotal: 1m 2s\tremaining: 1m 14s\n",
      "455:\tlearn: 1.0869921\ttotal: 1m 2s\tremaining: 1m 14s\n",
      "456:\tlearn: 1.0869165\ttotal: 1m 2s\tremaining: 1m 14s\n",
      "457:\tlearn: 1.0868733\ttotal: 1m 2s\tremaining: 1m 14s\n",
      "458:\tlearn: 1.0868362\ttotal: 1m 2s\tremaining: 1m 14s\n",
      "459:\tlearn: 1.0868218\ttotal: 1m 2s\tremaining: 1m 13s\n",
      "460:\tlearn: 1.0867628\ttotal: 1m 3s\tremaining: 1m 13s\n",
      "461:\tlearn: 1.0867123\ttotal: 1m 3s\tremaining: 1m 13s\n",
      "462:\tlearn: 1.0866547\ttotal: 1m 3s\tremaining: 1m 13s\n",
      "463:\tlearn: 1.0866550\ttotal: 1m 3s\tremaining: 1m 13s\n",
      "464:\tlearn: 1.0866490\ttotal: 1m 3s\tremaining: 1m 13s\n",
      "465:\tlearn: 1.0866169\ttotal: 1m 3s\tremaining: 1m 13s\n",
      "466:\tlearn: 1.0861933\ttotal: 1m 3s\tremaining: 1m 12s\n",
      "467:\tlearn: 1.0861802\ttotal: 1m 4s\tremaining: 1m 12s\n",
      "468:\tlearn: 1.0861468\ttotal: 1m 4s\tremaining: 1m 12s\n",
      "469:\tlearn: 1.0861389\ttotal: 1m 4s\tremaining: 1m 12s\n",
      "470:\tlearn: 1.0860472\ttotal: 1m 4s\tremaining: 1m 12s\n",
      "471:\tlearn: 1.0859296\ttotal: 1m 4s\tremaining: 1m 12s\n",
      "472:\tlearn: 1.0859301\ttotal: 1m 4s\tremaining: 1m 12s\n",
      "473:\tlearn: 1.0859155\ttotal: 1m 4s\tremaining: 1m 11s\n",
      "474:\tlearn: 1.0858954\ttotal: 1m 4s\tremaining: 1m 11s\n",
      "475:\tlearn: 1.0858678\ttotal: 1m 5s\tremaining: 1m 11s\n",
      "476:\tlearn: 1.0858263\ttotal: 1m 5s\tremaining: 1m 11s\n",
      "477:\tlearn: 1.0858261\ttotal: 1m 5s\tremaining: 1m 11s\n",
      "478:\tlearn: 1.0858167\ttotal: 1m 5s\tremaining: 1m 11s\n",
      "479:\tlearn: 1.0857716\ttotal: 1m 5s\tremaining: 1m 11s\n",
      "480:\tlearn: 1.0857455\ttotal: 1m 5s\tremaining: 1m 10s\n",
      "481:\tlearn: 1.0857034\ttotal: 1m 5s\tremaining: 1m 10s\n",
      "482:\tlearn: 1.0856383\ttotal: 1m 6s\tremaining: 1m 10s\n",
      "483:\tlearn: 1.0856377\ttotal: 1m 6s\tremaining: 1m 10s\n",
      "484:\tlearn: 1.0856296\ttotal: 1m 6s\tremaining: 1m 10s\n",
      "485:\tlearn: 1.0855988\ttotal: 1m 6s\tremaining: 1m 10s\n",
      "486:\tlearn: 1.0855707\ttotal: 1m 6s\tremaining: 1m 10s\n",
      "487:\tlearn: 1.0855243\ttotal: 1m 6s\tremaining: 1m 10s\n",
      "488:\tlearn: 1.0854805\ttotal: 1m 6s\tremaining: 1m 9s\n",
      "489:\tlearn: 1.0854258\ttotal: 1m 7s\tremaining: 1m 9s\n",
      "490:\tlearn: 1.0853968\ttotal: 1m 7s\tremaining: 1m 9s\n",
      "491:\tlearn: 1.0853721\ttotal: 1m 7s\tremaining: 1m 9s\n",
      "492:\tlearn: 1.0853723\ttotal: 1m 7s\tremaining: 1m 9s\n",
      "493:\tlearn: 1.0853641\ttotal: 1m 7s\tremaining: 1m 9s\n",
      "494:\tlearn: 1.0853334\ttotal: 1m 7s\tremaining: 1m 9s\n",
      "495:\tlearn: 1.0853221\ttotal: 1m 7s\tremaining: 1m 8s\n",
      "496:\tlearn: 1.0853149\ttotal: 1m 7s\tremaining: 1m 8s\n",
      "497:\tlearn: 1.0853109\ttotal: 1m 8s\tremaining: 1m 8s\n",
      "498:\tlearn: 1.0852944\ttotal: 1m 8s\tremaining: 1m 8s\n",
      "499:\tlearn: 1.0852708\ttotal: 1m 8s\tremaining: 1m 8s\n",
      "500:\tlearn: 1.0852226\ttotal: 1m 8s\tremaining: 1m 8s\n",
      "501:\tlearn: 1.0851715\ttotal: 1m 8s\tremaining: 1m 8s\n",
      "502:\tlearn: 1.0851461\ttotal: 1m 8s\tremaining: 1m 8s\n",
      "503:\tlearn: 1.0851254\ttotal: 1m 9s\tremaining: 1m 7s\n",
      "504:\tlearn: 1.0850354\ttotal: 1m 9s\tremaining: 1m 7s\n",
      "505:\tlearn: 1.0850098\ttotal: 1m 9s\tremaining: 1m 7s\n",
      "506:\tlearn: 1.0849704\ttotal: 1m 9s\tremaining: 1m 7s\n",
      "507:\tlearn: 1.0849470\ttotal: 1m 9s\tremaining: 1m 7s\n",
      "508:\tlearn: 1.0848895\ttotal: 1m 9s\tremaining: 1m 7s\n",
      "509:\tlearn: 1.0848442\ttotal: 1m 9s\tremaining: 1m 7s\n",
      "510:\tlearn: 1.0847584\ttotal: 1m 10s\tremaining: 1m 7s\n",
      "511:\tlearn: 1.0847501\ttotal: 1m 10s\tremaining: 1m 6s\n",
      "512:\tlearn: 1.0847314\ttotal: 1m 10s\tremaining: 1m 6s\n",
      "513:\tlearn: 1.0846944\ttotal: 1m 10s\tremaining: 1m 6s\n",
      "514:\tlearn: 1.0846948\ttotal: 1m 10s\tremaining: 1m 6s\n",
      "515:\tlearn: 1.0846845\ttotal: 1m 10s\tremaining: 1m 6s\n",
      "516:\tlearn: 1.0846691\ttotal: 1m 10s\tremaining: 1m 6s\n",
      "517:\tlearn: 1.0846691\ttotal: 1m 10s\tremaining: 1m 5s\n",
      "518:\tlearn: 1.0846641\ttotal: 1m 11s\tremaining: 1m 5s\n",
      "519:\tlearn: 1.0846381\ttotal: 1m 11s\tremaining: 1m 5s\n",
      "520:\tlearn: 1.0846145\ttotal: 1m 11s\tremaining: 1m 5s\n",
      "521:\tlearn: 1.0845558\ttotal: 1m 11s\tremaining: 1m 5s\n",
      "522:\tlearn: 1.0845556\ttotal: 1m 11s\tremaining: 1m 5s\n",
      "523:\tlearn: 1.0845484\ttotal: 1m 11s\tremaining: 1m 5s\n",
      "524:\tlearn: 1.0844747\ttotal: 1m 11s\tremaining: 1m 5s\n",
      "525:\tlearn: 1.0844604\ttotal: 1m 12s\tremaining: 1m 4s\n",
      "526:\tlearn: 1.0844605\ttotal: 1m 12s\tremaining: 1m 4s\n",
      "527:\tlearn: 1.0844568\ttotal: 1m 12s\tremaining: 1m 4s\n",
      "528:\tlearn: 1.0844274\ttotal: 1m 12s\tremaining: 1m 4s\n",
      "529:\tlearn: 1.0843873\ttotal: 1m 12s\tremaining: 1m 4s\n",
      "530:\tlearn: 1.0843871\ttotal: 1m 12s\tremaining: 1m 4s\n",
      "531:\tlearn: 1.0843778\ttotal: 1m 12s\tremaining: 1m 3s\n",
      "532:\tlearn: 1.0843639\ttotal: 1m 12s\tremaining: 1m 3s\n",
      "533:\tlearn: 1.0842982\ttotal: 1m 12s\tremaining: 1m 3s\n",
      "534:\tlearn: 1.0842956\ttotal: 1m 13s\tremaining: 1m 3s\n",
      "535:\tlearn: 1.0842687\ttotal: 1m 13s\tremaining: 1m 3s\n",
      "536:\tlearn: 1.0842363\ttotal: 1m 13s\tremaining: 1m 3s\n",
      "537:\tlearn: 1.0841805\ttotal: 1m 13s\tremaining: 1m 3s\n",
      "538:\tlearn: 1.0841623\ttotal: 1m 13s\tremaining: 1m 3s\n",
      "539:\tlearn: 1.0840986\ttotal: 1m 13s\tremaining: 1m 2s\n",
      "540:\tlearn: 1.0840817\ttotal: 1m 13s\tremaining: 1m 2s\n",
      "541:\tlearn: 1.0840343\ttotal: 1m 14s\tremaining: 1m 2s\n",
      "542:\tlearn: 1.0839753\ttotal: 1m 14s\tremaining: 1m 2s\n",
      "543:\tlearn: 1.0839498\ttotal: 1m 14s\tremaining: 1m 2s\n",
      "544:\tlearn: 1.0834593\ttotal: 1m 14s\tremaining: 1m 2s\n",
      "545:\tlearn: 1.0834331\ttotal: 1m 14s\tremaining: 1m 2s\n",
      "546:\tlearn: 1.0834022\ttotal: 1m 14s\tremaining: 1m 2s\n",
      "547:\tlearn: 1.0833921\ttotal: 1m 15s\tremaining: 1m 1s\n",
      "548:\tlearn: 1.0833740\ttotal: 1m 15s\tremaining: 1m 1s\n",
      "549:\tlearn: 1.0833516\ttotal: 1m 15s\tremaining: 1m 1s\n",
      "550:\tlearn: 1.0833363\ttotal: 1m 15s\tremaining: 1m 1s\n",
      "551:\tlearn: 1.0832862\ttotal: 1m 15s\tremaining: 1m 1s\n",
      "552:\tlearn: 1.0832862\ttotal: 1m 15s\tremaining: 1m 1s\n",
      "553:\tlearn: 1.0832799\ttotal: 1m 15s\tremaining: 1m 1s\n",
      "554:\tlearn: 1.0832651\ttotal: 1m 15s\tremaining: 1m\n",
      "555:\tlearn: 1.0832317\ttotal: 1m 16s\tremaining: 1m\n",
      "556:\tlearn: 1.0831468\ttotal: 1m 16s\tremaining: 1m\n",
      "557:\tlearn: 1.0831298\ttotal: 1m 16s\tremaining: 1m\n",
      "558:\tlearn: 1.0830782\ttotal: 1m 16s\tremaining: 1m\n",
      "559:\tlearn: 1.0830769\ttotal: 1m 16s\tremaining: 1m\n",
      "560:\tlearn: 1.0830746\ttotal: 1m 16s\tremaining: 1m\n",
      "561:\tlearn: 1.0830609\ttotal: 1m 16s\tremaining: 60s\n",
      "562:\tlearn: 1.0830431\ttotal: 1m 17s\tremaining: 59.9s\n",
      "563:\tlearn: 1.0830085\ttotal: 1m 17s\tremaining: 59.7s\n",
      "564:\tlearn: 1.0829843\ttotal: 1m 17s\tremaining: 59.6s\n",
      "565:\tlearn: 1.0829843\ttotal: 1m 17s\tremaining: 59.4s\n",
      "566:\tlearn: 1.0829819\ttotal: 1m 17s\tremaining: 59.3s\n",
      "567:\tlearn: 1.0829819\ttotal: 1m 17s\tremaining: 59.1s\n",
      "568:\tlearn: 1.0829781\ttotal: 1m 17s\tremaining: 58.9s\n",
      "569:\tlearn: 1.0829489\ttotal: 1m 17s\tremaining: 58.8s\n",
      "570:\tlearn: 1.0829395\ttotal: 1m 18s\tremaining: 58.7s\n",
      "571:\tlearn: 1.0829322\ttotal: 1m 18s\tremaining: 58.6s\n",
      "572:\tlearn: 1.0829322\ttotal: 1m 18s\tremaining: 58.4s\n",
      "573:\tlearn: 1.0829284\ttotal: 1m 18s\tremaining: 58.2s\n",
      "574:\tlearn: 1.0828945\ttotal: 1m 18s\tremaining: 58.1s\n",
      "575:\tlearn: 1.0828457\ttotal: 1m 18s\tremaining: 58s\n",
      "576:\tlearn: 1.0826792\ttotal: 1m 18s\tremaining: 57.9s\n",
      "577:\tlearn: 1.0826399\ttotal: 1m 19s\tremaining: 57.8s\n",
      "578:\tlearn: 1.0825235\ttotal: 1m 19s\tremaining: 57.6s\n",
      "579:\tlearn: 1.0825129\ttotal: 1m 19s\tremaining: 57.5s\n",
      "580:\tlearn: 1.0825074\ttotal: 1m 19s\tremaining: 57.4s\n",
      "581:\tlearn: 1.0824764\ttotal: 1m 19s\tremaining: 57.3s\n",
      "582:\tlearn: 1.0824306\ttotal: 1m 19s\tremaining: 57.1s\n",
      "583:\tlearn: 1.0824055\ttotal: 1m 20s\tremaining: 57s\n",
      "584:\tlearn: 1.0823836\ttotal: 1m 20s\tremaining: 56.9s\n",
      "585:\tlearn: 1.0823533\ttotal: 1m 20s\tremaining: 56.8s\n",
      "586:\tlearn: 1.0823310\ttotal: 1m 20s\tremaining: 56.6s\n",
      "587:\tlearn: 1.0823310\ttotal: 1m 20s\tremaining: 56.4s\n",
      "588:\tlearn: 1.0823277\ttotal: 1m 20s\tremaining: 56.3s\n",
      "589:\tlearn: 1.0822646\ttotal: 1m 20s\tremaining: 56.2s\n",
      "590:\tlearn: 1.0822620\ttotal: 1m 20s\tremaining: 56s\n",
      "591:\tlearn: 1.0822532\ttotal: 1m 21s\tremaining: 55.9s\n",
      "592:\tlearn: 1.0822292\ttotal: 1m 21s\tremaining: 55.8s\n",
      "593:\tlearn: 1.0821829\ttotal: 1m 21s\tremaining: 55.7s\n",
      "594:\tlearn: 1.0821535\ttotal: 1m 21s\tremaining: 55.5s\n",
      "595:\tlearn: 1.0821122\ttotal: 1m 21s\tremaining: 55.4s\n",
      "596:\tlearn: 1.0820855\ttotal: 1m 21s\tremaining: 55.3s\n",
      "597:\tlearn: 1.0820751\ttotal: 1m 21s\tremaining: 55.1s\n",
      "598:\tlearn: 1.0820728\ttotal: 1m 22s\tremaining: 55s\n",
      "599:\tlearn: 1.0820456\ttotal: 1m 22s\tremaining: 54.8s\n",
      "600:\tlearn: 1.0820214\ttotal: 1m 22s\tremaining: 54.6s\n",
      "601:\tlearn: 1.0820195\ttotal: 1m 22s\tremaining: 54.5s\n",
      "602:\tlearn: 1.0819938\ttotal: 1m 22s\tremaining: 54.4s\n",
      "603:\tlearn: 1.0816904\ttotal: 1m 22s\tremaining: 54.2s\n",
      "604:\tlearn: 1.0816688\ttotal: 1m 22s\tremaining: 54.1s\n",
      "605:\tlearn: 1.0816607\ttotal: 1m 23s\tremaining: 54s\n",
      "606:\tlearn: 1.0816422\ttotal: 1m 23s\tremaining: 53.9s\n",
      "607:\tlearn: 1.0815988\ttotal: 1m 23s\tremaining: 53.7s\n",
      "608:\tlearn: 1.0815741\ttotal: 1m 23s\tremaining: 53.6s\n",
      "609:\tlearn: 1.0815351\ttotal: 1m 23s\tremaining: 53.5s\n",
      "610:\tlearn: 1.0815110\ttotal: 1m 23s\tremaining: 53.4s\n",
      "611:\tlearn: 1.0815110\ttotal: 1m 23s\tremaining: 53.2s\n",
      "612:\tlearn: 1.0815085\ttotal: 1m 24s\tremaining: 53s\n",
      "613:\tlearn: 1.0815006\ttotal: 1m 24s\tremaining: 52.9s\n",
      "614:\tlearn: 1.0814818\ttotal: 1m 24s\tremaining: 52.8s\n",
      "615:\tlearn: 1.0814407\ttotal: 1m 24s\tremaining: 52.7s\n",
      "616:\tlearn: 1.0814264\ttotal: 1m 24s\tremaining: 52.5s\n",
      "617:\tlearn: 1.0813927\ttotal: 1m 24s\tremaining: 52.4s\n",
      "618:\tlearn: 1.0813752\ttotal: 1m 24s\tremaining: 52.3s\n",
      "619:\tlearn: 1.0813752\ttotal: 1m 24s\tremaining: 52.1s\n",
      "620:\tlearn: 1.0813730\ttotal: 1m 25s\tremaining: 51.9s\n",
      "621:\tlearn: 1.0813547\ttotal: 1m 25s\tremaining: 51.8s\n",
      "622:\tlearn: 1.0813512\ttotal: 1m 25s\tremaining: 51.7s\n",
      "623:\tlearn: 1.0813323\ttotal: 1m 25s\tremaining: 51.5s\n",
      "624:\tlearn: 1.0812799\ttotal: 1m 25s\tremaining: 51.4s\n",
      "625:\tlearn: 1.0812727\ttotal: 1m 25s\tremaining: 51.2s\n",
      "626:\tlearn: 1.0812706\ttotal: 1m 25s\tremaining: 51.1s\n",
      "627:\tlearn: 1.0812682\ttotal: 1m 25s\tremaining: 50.9s\n",
      "628:\tlearn: 1.0812660\ttotal: 1m 26s\tremaining: 50.8s\n",
      "629:\tlearn: 1.0812581\ttotal: 1m 26s\tremaining: 50.7s\n",
      "630:\tlearn: 1.0812582\ttotal: 1m 26s\tremaining: 50.5s\n",
      "631:\tlearn: 1.0812564\ttotal: 1m 26s\tremaining: 50.4s\n",
      "632:\tlearn: 1.0812419\ttotal: 1m 26s\tremaining: 50.2s\n",
      "633:\tlearn: 1.0812256\ttotal: 1m 26s\tremaining: 50.1s\n",
      "634:\tlearn: 1.0812189\ttotal: 1m 26s\tremaining: 50s\n",
      "635:\tlearn: 1.0812185\ttotal: 1m 26s\tremaining: 49.8s\n",
      "636:\tlearn: 1.0812171\ttotal: 1m 27s\tremaining: 49.6s\n",
      "637:\tlearn: 1.0812062\ttotal: 1m 27s\tremaining: 49.5s\n",
      "638:\tlearn: 1.0812047\ttotal: 1m 27s\tremaining: 49.4s\n",
      "639:\tlearn: 1.0812047\ttotal: 1m 27s\tremaining: 49.2s\n",
      "640:\tlearn: 1.0812025\ttotal: 1m 27s\tremaining: 49s\n",
      "641:\tlearn: 1.0811927\ttotal: 1m 27s\tremaining: 48.8s\n",
      "642:\tlearn: 1.0811912\ttotal: 1m 27s\tremaining: 48.7s\n",
      "643:\tlearn: 1.0811846\ttotal: 1m 27s\tremaining: 48.6s\n",
      "644:\tlearn: 1.0811562\ttotal: 1m 28s\tremaining: 48.5s\n",
      "645:\tlearn: 1.0810919\ttotal: 1m 28s\tremaining: 48.3s\n",
      "646:\tlearn: 1.0810910\ttotal: 1m 28s\tremaining: 48.2s\n",
      "647:\tlearn: 1.0810819\ttotal: 1m 28s\tremaining: 48.1s\n",
      "648:\tlearn: 1.0810817\ttotal: 1m 28s\tremaining: 47.9s\n",
      "649:\tlearn: 1.0810812\ttotal: 1m 28s\tremaining: 47.7s\n",
      "650:\tlearn: 1.0810730\ttotal: 1m 28s\tremaining: 47.6s\n",
      "651:\tlearn: 1.0810605\ttotal: 1m 28s\tremaining: 47.5s\n",
      "652:\tlearn: 1.0810369\ttotal: 1m 29s\tremaining: 47.4s\n",
      "653:\tlearn: 1.0810174\ttotal: 1m 29s\tremaining: 47.2s\n",
      "654:\tlearn: 1.0809996\ttotal: 1m 29s\tremaining: 47.1s\n",
      "655:\tlearn: 1.0809978\ttotal: 1m 29s\tremaining: 46.9s\n",
      "656:\tlearn: 1.0809916\ttotal: 1m 29s\tremaining: 46.8s\n",
      "657:\tlearn: 1.0809472\ttotal: 1m 29s\tremaining: 46.6s\n",
      "658:\tlearn: 1.0809455\ttotal: 1m 29s\tremaining: 46.5s\n",
      "659:\tlearn: 1.0809393\ttotal: 1m 30s\tremaining: 46.4s\n",
      "660:\tlearn: 1.0809237\ttotal: 1m 30s\tremaining: 46.3s\n",
      "661:\tlearn: 1.0808817\ttotal: 1m 30s\tremaining: 46.1s\n",
      "662:\tlearn: 1.0808493\ttotal: 1m 30s\tremaining: 46s\n",
      "663:\tlearn: 1.0808282\ttotal: 1m 30s\tremaining: 45.9s\n",
      "664:\tlearn: 1.0807800\ttotal: 1m 30s\tremaining: 45.8s\n",
      "665:\tlearn: 1.0807658\ttotal: 1m 31s\tremaining: 45.6s\n",
      "666:\tlearn: 1.0807265\ttotal: 1m 31s\tremaining: 45.5s\n",
      "667:\tlearn: 1.0807263\ttotal: 1m 31s\tremaining: 45.3s\n",
      "668:\tlearn: 1.0807253\ttotal: 1m 31s\tremaining: 45.2s\n",
      "669:\tlearn: 1.0807195\ttotal: 1m 31s\tremaining: 45.1s\n",
      "670:\tlearn: 1.0807046\ttotal: 1m 31s\tremaining: 44.9s\n",
      "671:\tlearn: 1.0806815\ttotal: 1m 31s\tremaining: 44.8s\n",
      "672:\tlearn: 1.0806679\ttotal: 1m 31s\tremaining: 44.7s\n",
      "673:\tlearn: 1.0806622\ttotal: 1m 32s\tremaining: 44.6s\n",
      "674:\tlearn: 1.0806476\ttotal: 1m 32s\tremaining: 44.4s\n",
      "675:\tlearn: 1.0805720\ttotal: 1m 32s\tremaining: 44.3s\n",
      "676:\tlearn: 1.0805605\ttotal: 1m 32s\tremaining: 44.2s\n",
      "677:\tlearn: 1.0805417\ttotal: 1m 32s\tremaining: 44s\n",
      "678:\tlearn: 1.0805207\ttotal: 1m 32s\tremaining: 43.9s\n",
      "679:\tlearn: 1.0805193\ttotal: 1m 33s\tremaining: 43.8s\n",
      "680:\tlearn: 1.0805142\ttotal: 1m 33s\tremaining: 43.6s\n",
      "681:\tlearn: 1.0805014\ttotal: 1m 33s\tremaining: 43.5s\n",
      "682:\tlearn: 1.0804642\ttotal: 1m 33s\tremaining: 43.4s\n",
      "683:\tlearn: 1.0804638\ttotal: 1m 33s\tremaining: 43.2s\n",
      "684:\tlearn: 1.0804617\ttotal: 1m 33s\tremaining: 43.1s\n",
      "685:\tlearn: 1.0804565\ttotal: 1m 33s\tremaining: 42.9s\n",
      "686:\tlearn: 1.0804562\ttotal: 1m 33s\tremaining: 42.8s\n",
      "687:\tlearn: 1.0804550\ttotal: 1m 34s\tremaining: 42.6s\n",
      "688:\tlearn: 1.0804151\ttotal: 1m 34s\tremaining: 42.5s\n",
      "689:\tlearn: 1.0804046\ttotal: 1m 34s\tremaining: 42.4s\n",
      "690:\tlearn: 1.0803869\ttotal: 1m 34s\tremaining: 42.2s\n",
      "691:\tlearn: 1.0803415\ttotal: 1m 34s\tremaining: 42.1s\n",
      "692:\tlearn: 1.0803232\ttotal: 1m 34s\tremaining: 42s\n",
      "693:\tlearn: 1.0803232\ttotal: 1m 34s\tremaining: 41.8s\n",
      "694:\tlearn: 1.0803223\ttotal: 1m 34s\tremaining: 41.7s\n",
      "695:\tlearn: 1.0803116\ttotal: 1m 35s\tremaining: 41.5s\n",
      "696:\tlearn: 1.0802936\ttotal: 1m 35s\tremaining: 41.4s\n",
      "697:\tlearn: 1.0802880\ttotal: 1m 35s\tremaining: 41.3s\n",
      "698:\tlearn: 1.0801496\ttotal: 1m 35s\tremaining: 41.2s\n",
      "699:\tlearn: 1.0800099\ttotal: 1m 35s\tremaining: 41s\n",
      "700:\tlearn: 1.0799784\ttotal: 1m 35s\tremaining: 40.9s\n",
      "701:\tlearn: 1.0799612\ttotal: 1m 36s\tremaining: 40.8s\n",
      "702:\tlearn: 1.0799610\ttotal: 1m 36s\tremaining: 40.6s\n",
      "703:\tlearn: 1.0799594\ttotal: 1m 36s\tremaining: 40.5s\n",
      "704:\tlearn: 1.0799590\ttotal: 1m 36s\tremaining: 40.3s\n",
      "705:\tlearn: 1.0799569\ttotal: 1m 36s\tremaining: 40.1s\n",
      "706:\tlearn: 1.0799251\ttotal: 1m 36s\tremaining: 40s\n",
      "707:\tlearn: 1.0799230\ttotal: 1m 36s\tremaining: 39.9s\n",
      "708:\tlearn: 1.0798978\ttotal: 1m 36s\tremaining: 39.7s\n",
      "709:\tlearn: 1.0798673\ttotal: 1m 36s\tremaining: 39.6s\n",
      "710:\tlearn: 1.0798504\ttotal: 1m 37s\tremaining: 39.5s\n",
      "711:\tlearn: 1.0798453\ttotal: 1m 37s\tremaining: 39.3s\n",
      "712:\tlearn: 1.0798221\ttotal: 1m 37s\tremaining: 39.2s\n",
      "713:\tlearn: 1.0798068\ttotal: 1m 37s\tremaining: 39.1s\n",
      "714:\tlearn: 1.0797766\ttotal: 1m 37s\tremaining: 39s\n",
      "715:\tlearn: 1.0797340\ttotal: 1m 37s\tremaining: 38.8s\n",
      "716:\tlearn: 1.0797181\ttotal: 1m 38s\tremaining: 38.7s\n",
      "717:\tlearn: 1.0796786\ttotal: 1m 38s\tremaining: 38.6s\n",
      "718:\tlearn: 1.0796506\ttotal: 1m 38s\tremaining: 38.4s\n",
      "719:\tlearn: 1.0796095\ttotal: 1m 38s\tremaining: 38.3s\n",
      "720:\tlearn: 1.0796058\ttotal: 1m 38s\tremaining: 38.2s\n",
      "721:\tlearn: 1.0796045\ttotal: 1m 38s\tremaining: 38s\n",
      "722:\tlearn: 1.0796040\ttotal: 1m 38s\tremaining: 37.9s\n",
      "723:\tlearn: 1.0796023\ttotal: 1m 38s\tremaining: 37.7s\n",
      "724:\tlearn: 1.0795869\ttotal: 1m 39s\tremaining: 37.6s\n",
      "725:\tlearn: 1.0795869\ttotal: 1m 39s\tremaining: 37.4s\n",
      "726:\tlearn: 1.0795847\ttotal: 1m 39s\tremaining: 37.3s\n",
      "727:\tlearn: 1.0795852\ttotal: 1m 39s\tremaining: 37.1s\n",
      "728:\tlearn: 1.0795835\ttotal: 1m 39s\tremaining: 37s\n",
      "729:\tlearn: 1.0795300\ttotal: 1m 39s\tremaining: 36.8s\n",
      "730:\tlearn: 1.0795198\ttotal: 1m 39s\tremaining: 36.7s\n",
      "731:\tlearn: 1.0795146\ttotal: 1m 39s\tremaining: 36.6s\n",
      "732:\tlearn: 1.0794995\ttotal: 1m 40s\tremaining: 36.5s\n",
      "733:\tlearn: 1.0794821\ttotal: 1m 40s\tremaining: 36.3s\n",
      "734:\tlearn: 1.0794540\ttotal: 1m 40s\tremaining: 36.2s\n",
      "735:\tlearn: 1.0794328\ttotal: 1m 40s\tremaining: 36.1s\n",
      "736:\tlearn: 1.0794316\ttotal: 1m 40s\tremaining: 35.9s\n",
      "737:\tlearn: 1.0794255\ttotal: 1m 40s\tremaining: 35.8s\n",
      "738:\tlearn: 1.0794168\ttotal: 1m 40s\tremaining: 35.7s\n",
      "739:\tlearn: 1.0793915\ttotal: 1m 41s\tremaining: 35.5s\n",
      "740:\tlearn: 1.0793692\ttotal: 1m 41s\tremaining: 35.4s\n",
      "741:\tlearn: 1.0793552\ttotal: 1m 41s\tremaining: 35.3s\n",
      "742:\tlearn: 1.0793254\ttotal: 1m 41s\tremaining: 35.1s\n",
      "743:\tlearn: 1.0792602\ttotal: 1m 41s\tremaining: 35s\n",
      "744:\tlearn: 1.0792128\ttotal: 1m 41s\tremaining: 34.9s\n",
      "745:\tlearn: 1.0791647\ttotal: 1m 42s\tremaining: 34.8s\n",
      "746:\tlearn: 1.0791391\ttotal: 1m 42s\tremaining: 34.6s\n",
      "747:\tlearn: 1.0791204\ttotal: 1m 42s\tremaining: 34.5s\n",
      "748:\tlearn: 1.0791201\ttotal: 1m 42s\tremaining: 34.3s\n",
      "749:\tlearn: 1.0791191\ttotal: 1m 42s\tremaining: 34.2s\n",
      "750:\tlearn: 1.0790986\ttotal: 1m 42s\tremaining: 34.1s\n",
      "751:\tlearn: 1.0790905\ttotal: 1m 42s\tremaining: 33.9s\n",
      "752:\tlearn: 1.0790723\ttotal: 1m 43s\tremaining: 33.8s\n",
      "753:\tlearn: 1.0790108\ttotal: 1m 43s\tremaining: 33.7s\n",
      "754:\tlearn: 1.0790097\ttotal: 1m 43s\tremaining: 33.5s\n",
      "755:\tlearn: 1.0790039\ttotal: 1m 43s\tremaining: 33.4s\n",
      "756:\tlearn: 1.0789906\ttotal: 1m 43s\tremaining: 33.3s\n",
      "757:\tlearn: 1.0789904\ttotal: 1m 43s\tremaining: 33.1s\n",
      "758:\tlearn: 1.0789891\ttotal: 1m 43s\tremaining: 33s\n",
      "759:\tlearn: 1.0789824\ttotal: 1m 43s\tremaining: 32.8s\n",
      "760:\tlearn: 1.0789662\ttotal: 1m 44s\tremaining: 32.7s\n",
      "761:\tlearn: 1.0789659\ttotal: 1m 44s\tremaining: 32.5s\n",
      "762:\tlearn: 1.0789649\ttotal: 1m 44s\tremaining: 32.4s\n",
      "763:\tlearn: 1.0789154\ttotal: 1m 44s\tremaining: 32.3s\n",
      "764:\tlearn: 1.0789156\ttotal: 1m 44s\tremaining: 32.1s\n",
      "765:\tlearn: 1.0789141\ttotal: 1m 44s\tremaining: 32s\n",
      "766:\tlearn: 1.0788952\ttotal: 1m 44s\tremaining: 31.8s\n",
      "767:\tlearn: 1.0788709\ttotal: 1m 44s\tremaining: 31.7s\n",
      "768:\tlearn: 1.0788509\ttotal: 1m 45s\tremaining: 31.6s\n",
      "769:\tlearn: 1.0788160\ttotal: 1m 45s\tremaining: 31.4s\n",
      "770:\tlearn: 1.0788155\ttotal: 1m 45s\tremaining: 31.3s\n",
      "771:\tlearn: 1.0788144\ttotal: 1m 45s\tremaining: 31.1s\n",
      "772:\tlearn: 1.0788144\ttotal: 1m 45s\tremaining: 31s\n",
      "773:\tlearn: 1.0788139\ttotal: 1m 45s\tremaining: 30.8s\n",
      "774:\tlearn: 1.0788090\ttotal: 1m 45s\tremaining: 30.7s\n",
      "775:\tlearn: 1.0787904\ttotal: 1m 45s\tremaining: 30.6s\n",
      "776:\tlearn: 1.0787903\ttotal: 1m 46s\tremaining: 30.4s\n",
      "777:\tlearn: 1.0787894\ttotal: 1m 46s\tremaining: 30.3s\n",
      "778:\tlearn: 1.0787851\ttotal: 1m 46s\tremaining: 30.2s\n",
      "779:\tlearn: 1.0787766\ttotal: 1m 46s\tremaining: 30s\n",
      "780:\tlearn: 1.0787317\ttotal: 1m 46s\tremaining: 29.9s\n",
      "781:\tlearn: 1.0785953\ttotal: 1m 46s\tremaining: 29.8s\n",
      "782:\tlearn: 1.0785838\ttotal: 1m 46s\tremaining: 29.6s\n",
      "783:\tlearn: 1.0785731\ttotal: 1m 47s\tremaining: 29.5s\n",
      "784:\tlearn: 1.0785733\ttotal: 1m 47s\tremaining: 29.3s\n",
      "785:\tlearn: 1.0785726\ttotal: 1m 47s\tremaining: 29.2s\n",
      "786:\tlearn: 1.0785717\ttotal: 1m 47s\tremaining: 29.1s\n",
      "787:\tlearn: 1.0785709\ttotal: 1m 47s\tremaining: 28.9s\n",
      "788:\tlearn: 1.0785703\ttotal: 1m 47s\tremaining: 28.8s\n",
      "789:\tlearn: 1.0785700\ttotal: 1m 47s\tremaining: 28.6s\n",
      "790:\tlearn: 1.0785586\ttotal: 1m 47s\tremaining: 28.5s\n",
      "791:\tlearn: 1.0785591\ttotal: 1m 47s\tremaining: 28.3s\n",
      "792:\tlearn: 1.0785578\ttotal: 1m 48s\tremaining: 28.2s\n",
      "793:\tlearn: 1.0785469\ttotal: 1m 48s\tremaining: 28.1s\n",
      "794:\tlearn: 1.0785000\ttotal: 1m 48s\tremaining: 28s\n",
      "795:\tlearn: 1.0784832\ttotal: 1m 48s\tremaining: 27.8s\n",
      "796:\tlearn: 1.0784674\ttotal: 1m 48s\tremaining: 27.7s\n",
      "797:\tlearn: 1.0784667\ttotal: 1m 48s\tremaining: 27.5s\n",
      "798:\tlearn: 1.0784667\ttotal: 1m 48s\tremaining: 27.4s\n",
      "799:\tlearn: 1.0784658\ttotal: 1m 49s\tremaining: 27.3s\n",
      "800:\tlearn: 1.0784551\ttotal: 1m 49s\tremaining: 27.1s\n",
      "801:\tlearn: 1.0784505\ttotal: 1m 49s\tremaining: 27s\n",
      "802:\tlearn: 1.0784406\ttotal: 1m 49s\tremaining: 26.9s\n",
      "803:\tlearn: 1.0783918\ttotal: 1m 49s\tremaining: 26.7s\n",
      "804:\tlearn: 1.0783769\ttotal: 1m 49s\tremaining: 26.6s\n",
      "805:\tlearn: 1.0783663\ttotal: 1m 49s\tremaining: 26.5s\n",
      "806:\tlearn: 1.0783665\ttotal: 1m 49s\tremaining: 26.3s\n",
      "807:\tlearn: 1.0783653\ttotal: 1m 50s\tremaining: 26.2s\n",
      "808:\tlearn: 1.0783654\ttotal: 1m 50s\tremaining: 26s\n",
      "809:\tlearn: 1.0783654\ttotal: 1m 50s\tremaining: 25.9s\n",
      "810:\tlearn: 1.0783553\ttotal: 1m 50s\tremaining: 25.8s\n",
      "811:\tlearn: 1.0783126\ttotal: 1m 50s\tremaining: 25.6s\n",
      "812:\tlearn: 1.0782753\ttotal: 1m 50s\tremaining: 25.5s\n",
      "813:\tlearn: 1.0782653\ttotal: 1m 50s\tremaining: 25.4s\n",
      "814:\tlearn: 1.0782259\ttotal: 1m 51s\tremaining: 25.2s\n",
      "815:\tlearn: 1.0781906\ttotal: 1m 51s\tremaining: 25.1s\n",
      "816:\tlearn: 1.0781826\ttotal: 1m 51s\tremaining: 25s\n",
      "817:\tlearn: 1.0781440\ttotal: 1m 51s\tremaining: 24.8s\n",
      "818:\tlearn: 1.0781107\ttotal: 1m 51s\tremaining: 24.7s\n",
      "819:\tlearn: 1.0781032\ttotal: 1m 51s\tremaining: 24.6s\n",
      "820:\tlearn: 1.0780784\ttotal: 1m 52s\tremaining: 24.4s\n",
      "821:\tlearn: 1.0780610\ttotal: 1m 52s\tremaining: 24.3s\n",
      "822:\tlearn: 1.0780515\ttotal: 1m 52s\tremaining: 24.2s\n",
      "823:\tlearn: 1.0780175\ttotal: 1m 52s\tremaining: 24s\n",
      "824:\tlearn: 1.0779876\ttotal: 1m 52s\tremaining: 23.9s\n",
      "825:\tlearn: 1.0779836\ttotal: 1m 52s\tremaining: 23.8s\n",
      "826:\tlearn: 1.0779840\ttotal: 1m 52s\tremaining: 23.6s\n",
      "827:\tlearn: 1.0779833\ttotal: 1m 53s\tremaining: 23.5s\n",
      "828:\tlearn: 1.0779622\ttotal: 1m 53s\tremaining: 23.3s\n",
      "829:\tlearn: 1.0779575\ttotal: 1m 53s\tremaining: 23.2s\n",
      "830:\tlearn: 1.0779548\ttotal: 1m 53s\tremaining: 23.1s\n",
      "831:\tlearn: 1.0779466\ttotal: 1m 53s\tremaining: 22.9s\n",
      "832:\tlearn: 1.0779245\ttotal: 1m 53s\tremaining: 22.8s\n",
      "833:\tlearn: 1.0778121\ttotal: 1m 53s\tremaining: 22.7s\n",
      "834:\tlearn: 1.0778121\ttotal: 1m 53s\tremaining: 22.5s\n",
      "835:\tlearn: 1.0778114\ttotal: 1m 54s\tremaining: 22.4s\n",
      "836:\tlearn: 1.0778070\ttotal: 1m 54s\tremaining: 22.3s\n",
      "837:\tlearn: 1.0777858\ttotal: 1m 54s\tremaining: 22.1s\n",
      "838:\tlearn: 1.0777686\ttotal: 1m 54s\tremaining: 22s\n",
      "839:\tlearn: 1.0777681\ttotal: 1m 54s\tremaining: 21.8s\n",
      "840:\tlearn: 1.0777670\ttotal: 1m 54s\tremaining: 21.7s\n",
      "841:\tlearn: 1.0777628\ttotal: 1m 54s\tremaining: 21.6s\n",
      "842:\tlearn: 1.0777440\ttotal: 1m 55s\tremaining: 21.4s\n",
      "843:\tlearn: 1.0777298\ttotal: 1m 55s\tremaining: 21.3s\n",
      "844:\tlearn: 1.0777108\ttotal: 1m 55s\tremaining: 21.2s\n",
      "845:\tlearn: 1.0776942\ttotal: 1m 55s\tremaining: 21s\n",
      "846:\tlearn: 1.0776470\ttotal: 1m 55s\tremaining: 20.9s\n",
      "847:\tlearn: 1.0776294\ttotal: 1m 55s\tremaining: 20.8s\n",
      "848:\tlearn: 1.0776092\ttotal: 1m 55s\tremaining: 20.6s\n",
      "849:\tlearn: 1.0775951\ttotal: 1m 56s\tremaining: 20.5s\n",
      "850:\tlearn: 1.0775786\ttotal: 1m 56s\tremaining: 20.4s\n",
      "851:\tlearn: 1.0775750\ttotal: 1m 56s\tremaining: 20.2s\n",
      "852:\tlearn: 1.0775585\ttotal: 1m 56s\tremaining: 20.1s\n",
      "853:\tlearn: 1.0775332\ttotal: 1m 56s\tremaining: 20s\n",
      "854:\tlearn: 1.0775328\ttotal: 1m 56s\tremaining: 19.8s\n",
      "855:\tlearn: 1.0775314\ttotal: 1m 56s\tremaining: 19.7s\n",
      "856:\tlearn: 1.0773981\ttotal: 1m 57s\tremaining: 19.5s\n",
      "857:\tlearn: 1.0773983\ttotal: 1m 57s\tremaining: 19.4s\n",
      "858:\tlearn: 1.0773960\ttotal: 1m 57s\tremaining: 19.2s\n",
      "859:\tlearn: 1.0773909\ttotal: 1m 57s\tremaining: 19.1s\n",
      "860:\tlearn: 1.0773721\ttotal: 1m 57s\tremaining: 19s\n",
      "861:\tlearn: 1.0773699\ttotal: 1m 57s\tremaining: 18.8s\n",
      "862:\tlearn: 1.0773540\ttotal: 1m 57s\tremaining: 18.7s\n",
      "863:\tlearn: 1.0773539\ttotal: 1m 57s\tremaining: 18.6s\n",
      "864:\tlearn: 1.0773527\ttotal: 1m 58s\tremaining: 18.4s\n",
      "865:\tlearn: 1.0773473\ttotal: 1m 58s\tremaining: 18.3s\n",
      "866:\tlearn: 1.0773299\ttotal: 1m 58s\tremaining: 18.2s\n",
      "867:\tlearn: 1.0773296\ttotal: 1m 58s\tremaining: 18s\n",
      "868:\tlearn: 1.0773286\ttotal: 1m 58s\tremaining: 17.9s\n",
      "869:\tlearn: 1.0773283\ttotal: 1m 58s\tremaining: 17.7s\n",
      "870:\tlearn: 1.0773267\ttotal: 1m 58s\tremaining: 17.6s\n",
      "871:\tlearn: 1.0772859\ttotal: 1m 58s\tremaining: 17.5s\n",
      "872:\tlearn: 1.0772712\ttotal: 1m 59s\tremaining: 17.3s\n",
      "873:\tlearn: 1.0772585\ttotal: 1m 59s\tremaining: 17.2s\n",
      "874:\tlearn: 1.0772400\ttotal: 1m 59s\tremaining: 17.1s\n",
      "875:\tlearn: 1.0772396\ttotal: 1m 59s\tremaining: 16.9s\n",
      "876:\tlearn: 1.0772240\ttotal: 1m 59s\tremaining: 16.8s\n",
      "877:\tlearn: 1.0772060\ttotal: 1m 59s\tremaining: 16.6s\n",
      "878:\tlearn: 1.0772063\ttotal: 1m 59s\tremaining: 16.5s\n",
      "879:\tlearn: 1.0771909\ttotal: 1m 59s\tremaining: 16.4s\n",
      "880:\tlearn: 1.0771743\ttotal: 2m\tremaining: 16.2s\n",
      "881:\tlearn: 1.0771448\ttotal: 2m\tremaining: 16.1s\n",
      "882:\tlearn: 1.0771445\ttotal: 2m\tremaining: 15.9s\n",
      "883:\tlearn: 1.0771432\ttotal: 2m\tremaining: 15.8s\n",
      "884:\tlearn: 1.0771400\ttotal: 2m\tremaining: 15.7s\n",
      "885:\tlearn: 1.0771339\ttotal: 2m\tremaining: 15.5s\n",
      "886:\tlearn: 1.0771175\ttotal: 2m\tremaining: 15.4s\n",
      "887:\tlearn: 1.0771173\ttotal: 2m\tremaining: 15.3s\n",
      "888:\tlearn: 1.0771172\ttotal: 2m 1s\tremaining: 15.1s\n",
      "889:\tlearn: 1.0771134\ttotal: 2m 1s\tremaining: 15s\n",
      "890:\tlearn: 1.0770977\ttotal: 2m 1s\tremaining: 14.9s\n",
      "891:\tlearn: 1.0770787\ttotal: 2m 1s\tremaining: 14.7s\n",
      "892:\tlearn: 1.0770650\ttotal: 2m 1s\tremaining: 14.6s\n",
      "893:\tlearn: 1.0770231\ttotal: 2m 1s\tremaining: 14.5s\n",
      "894:\tlearn: 1.0768995\ttotal: 2m 2s\tremaining: 14.3s\n",
      "895:\tlearn: 1.0768805\ttotal: 2m 2s\tremaining: 14.2s\n",
      "896:\tlearn: 1.0768657\ttotal: 2m 2s\tremaining: 14.1s\n",
      "897:\tlearn: 1.0767970\ttotal: 2m 2s\tremaining: 13.9s\n",
      "898:\tlearn: 1.0767607\ttotal: 2m 2s\tremaining: 13.8s\n",
      "899:\tlearn: 1.0767293\ttotal: 2m 2s\tremaining: 13.6s\n",
      "900:\tlearn: 1.0767051\ttotal: 2m 2s\tremaining: 13.5s\n",
      "901:\tlearn: 1.0766975\ttotal: 2m 3s\tremaining: 13.4s\n",
      "902:\tlearn: 1.0766799\ttotal: 2m 3s\tremaining: 13.2s\n",
      "903:\tlearn: 1.0766801\ttotal: 2m 3s\tremaining: 13.1s\n",
      "904:\tlearn: 1.0766793\ttotal: 2m 3s\tremaining: 13s\n",
      "905:\tlearn: 1.0766762\ttotal: 2m 3s\tremaining: 12.8s\n",
      "906:\tlearn: 1.0766662\ttotal: 2m 3s\tremaining: 12.7s\n",
      "907:\tlearn: 1.0763605\ttotal: 2m 3s\tremaining: 12.6s\n",
      "908:\tlearn: 1.0763514\ttotal: 2m 4s\tremaining: 12.4s\n",
      "909:\tlearn: 1.0763440\ttotal: 2m 4s\tremaining: 12.3s\n",
      "910:\tlearn: 1.0763439\ttotal: 2m 4s\tremaining: 12.1s\n",
      "911:\tlearn: 1.0763433\ttotal: 2m 4s\tremaining: 12s\n",
      "912:\tlearn: 1.0763396\ttotal: 2m 4s\tremaining: 11.9s\n",
      "913:\tlearn: 1.0763394\ttotal: 2m 4s\tremaining: 11.7s\n",
      "914:\tlearn: 1.0763389\ttotal: 2m 4s\tremaining: 11.6s\n",
      "915:\tlearn: 1.0763260\ttotal: 2m 4s\tremaining: 11.5s\n",
      "916:\tlearn: 1.0763133\ttotal: 2m 5s\tremaining: 11.3s\n",
      "917:\tlearn: 1.0762896\ttotal: 2m 5s\tremaining: 11.2s\n",
      "918:\tlearn: 1.0762549\ttotal: 2m 5s\tremaining: 11.1s\n",
      "919:\tlearn: 1.0762430\ttotal: 2m 5s\tremaining: 10.9s\n",
      "920:\tlearn: 1.0762167\ttotal: 2m 5s\tremaining: 10.8s\n",
      "921:\tlearn: 1.0762139\ttotal: 2m 5s\tremaining: 10.6s\n",
      "922:\tlearn: 1.0762128\ttotal: 2m 5s\tremaining: 10.5s\n",
      "923:\tlearn: 1.0762119\ttotal: 2m 5s\tremaining: 10.4s\n",
      "924:\tlearn: 1.0762107\ttotal: 2m 6s\tremaining: 10.2s\n",
      "925:\tlearn: 1.0761987\ttotal: 2m 6s\tremaining: 10.1s\n",
      "926:\tlearn: 1.0761859\ttotal: 2m 6s\tremaining: 9.96s\n",
      "927:\tlearn: 1.0761629\ttotal: 2m 6s\tremaining: 9.82s\n",
      "928:\tlearn: 1.0761320\ttotal: 2m 6s\tremaining: 9.69s\n",
      "929:\tlearn: 1.0761256\ttotal: 2m 6s\tremaining: 9.55s\n",
      "930:\tlearn: 1.0760902\ttotal: 2m 7s\tremaining: 9.42s\n",
      "931:\tlearn: 1.0760735\ttotal: 2m 7s\tremaining: 9.28s\n",
      "932:\tlearn: 1.0760636\ttotal: 2m 7s\tremaining: 9.15s\n",
      "933:\tlearn: 1.0760630\ttotal: 2m 7s\tremaining: 9.01s\n",
      "934:\tlearn: 1.0760621\ttotal: 2m 7s\tremaining: 8.87s\n",
      "935:\tlearn: 1.0760508\ttotal: 2m 7s\tremaining: 8.73s\n",
      "936:\tlearn: 1.0760221\ttotal: 2m 7s\tremaining: 8.6s\n",
      "937:\tlearn: 1.0759831\ttotal: 2m 8s\tremaining: 8.46s\n",
      "938:\tlearn: 1.0759707\ttotal: 2m 8s\tremaining: 8.33s\n",
      "939:\tlearn: 1.0759706\ttotal: 2m 8s\tremaining: 8.19s\n",
      "940:\tlearn: 1.0759701\ttotal: 2m 8s\tremaining: 8.05s\n",
      "941:\tlearn: 1.0759596\ttotal: 2m 8s\tremaining: 7.92s\n",
      "942:\tlearn: 1.0759494\ttotal: 2m 8s\tremaining: 7.78s\n",
      "943:\tlearn: 1.0759226\ttotal: 2m 8s\tremaining: 7.64s\n",
      "944:\tlearn: 1.0759119\ttotal: 2m 8s\tremaining: 7.5s\n",
      "945:\tlearn: 1.0759114\ttotal: 2m 9s\tremaining: 7.37s\n",
      "946:\tlearn: 1.0759013\ttotal: 2m 9s\tremaining: 7.23s\n",
      "947:\tlearn: 1.0759007\ttotal: 2m 9s\tremaining: 7.09s\n",
      "948:\tlearn: 1.0759006\ttotal: 2m 9s\tremaining: 6.95s\n",
      "949:\tlearn: 1.0758896\ttotal: 2m 9s\tremaining: 6.82s\n",
      "950:\tlearn: 1.0758628\ttotal: 2m 9s\tremaining: 6.68s\n",
      "951:\tlearn: 1.0758624\ttotal: 2m 9s\tremaining: 6.54s\n",
      "952:\tlearn: 1.0758620\ttotal: 2m 9s\tremaining: 6.41s\n",
      "953:\tlearn: 1.0758573\ttotal: 2m 10s\tremaining: 6.27s\n",
      "954:\tlearn: 1.0758572\ttotal: 2m 10s\tremaining: 6.13s\n",
      "955:\tlearn: 1.0758568\ttotal: 2m 10s\tremaining: 5.99s\n",
      "956:\tlearn: 1.0758519\ttotal: 2m 10s\tremaining: 5.86s\n",
      "957:\tlearn: 1.0758458\ttotal: 2m 10s\tremaining: 5.72s\n",
      "958:\tlearn: 1.0757973\ttotal: 2m 10s\tremaining: 5.59s\n",
      "959:\tlearn: 1.0757872\ttotal: 2m 10s\tremaining: 5.45s\n",
      "960:\tlearn: 1.0757870\ttotal: 2m 10s\tremaining: 5.31s\n",
      "961:\tlearn: 1.0757869\ttotal: 2m 11s\tremaining: 5.18s\n",
      "962:\tlearn: 1.0757829\ttotal: 2m 11s\tremaining: 5.04s\n",
      "963:\tlearn: 1.0757826\ttotal: 2m 11s\tremaining: 4.9s\n",
      "964:\tlearn: 1.0757817\ttotal: 2m 11s\tremaining: 4.76s\n",
      "965:\tlearn: 1.0757779\ttotal: 2m 11s\tremaining: 4.63s\n",
      "966:\tlearn: 1.0757715\ttotal: 2m 11s\tremaining: 4.49s\n",
      "967:\tlearn: 1.0757266\ttotal: 2m 11s\tremaining: 4.36s\n",
      "968:\tlearn: 1.0757149\ttotal: 2m 12s\tremaining: 4.22s\n",
      "969:\tlearn: 1.0756910\ttotal: 2m 12s\tremaining: 4.09s\n",
      "970:\tlearn: 1.0756823\ttotal: 2m 12s\tremaining: 3.95s\n",
      "971:\tlearn: 1.0756765\ttotal: 2m 12s\tremaining: 3.82s\n",
      "972:\tlearn: 1.0756765\ttotal: 2m 12s\tremaining: 3.68s\n",
      "973:\tlearn: 1.0756750\ttotal: 2m 12s\tremaining: 3.54s\n",
      "974:\tlearn: 1.0756746\ttotal: 2m 12s\tremaining: 3.4s\n",
      "975:\tlearn: 1.0756739\ttotal: 2m 12s\tremaining: 3.27s\n",
      "976:\tlearn: 1.0756718\ttotal: 2m 13s\tremaining: 3.13s\n",
      "977:\tlearn: 1.0756721\ttotal: 2m 13s\tremaining: 2.99s\n",
      "978:\tlearn: 1.0756714\ttotal: 2m 13s\tremaining: 2.86s\n",
      "979:\tlearn: 1.0756622\ttotal: 2m 13s\tremaining: 2.72s\n",
      "980:\tlearn: 1.0756564\ttotal: 2m 13s\tremaining: 2.59s\n",
      "981:\tlearn: 1.0756371\ttotal: 2m 13s\tremaining: 2.45s\n",
      "982:\tlearn: 1.0756277\ttotal: 2m 13s\tremaining: 2.31s\n",
      "983:\tlearn: 1.0756111\ttotal: 2m 14s\tremaining: 2.18s\n",
      "984:\tlearn: 1.0756112\ttotal: 2m 14s\tremaining: 2.04s\n",
      "985:\tlearn: 1.0756104\ttotal: 2m 14s\tremaining: 1.91s\n",
      "986:\tlearn: 1.0756107\ttotal: 2m 14s\tremaining: 1.77s\n",
      "987:\tlearn: 1.0756097\ttotal: 2m 14s\tremaining: 1.63s\n",
      "988:\tlearn: 1.0756069\ttotal: 2m 14s\tremaining: 1.5s\n",
      "989:\tlearn: 1.0755991\ttotal: 2m 14s\tremaining: 1.36s\n",
      "990:\tlearn: 1.0755940\ttotal: 2m 14s\tremaining: 1.22s\n",
      "991:\tlearn: 1.0755942\ttotal: 2m 14s\tremaining: 1.09s\n",
      "992:\tlearn: 1.0755927\ttotal: 2m 15s\tremaining: 952ms\n",
      "993:\tlearn: 1.0755899\ttotal: 2m 15s\tremaining: 816ms\n",
      "994:\tlearn: 1.0755823\ttotal: 2m 15s\tremaining: 680ms\n",
      "995:\tlearn: 1.0755768\ttotal: 2m 15s\tremaining: 544ms\n",
      "996:\tlearn: 1.0755767\ttotal: 2m 15s\tremaining: 408ms\n",
      "997:\tlearn: 1.0755759\ttotal: 2m 15s\tremaining: 272ms\n",
      "998:\tlearn: 1.0755742\ttotal: 2m 15s\tremaining: 136ms\n",
      "999:\tlearn: 1.0755673\ttotal: 2m 16s\tremaining: 0us\n"
     ]
    }
   ],
   "source": [
    "\n",
    "for id in ['basic','basicv2','allfeat','text','within']:\n",
    "  for numsel in [9,16,25]:  \n",
    "    print('generating model_catboost_{}_sel{}'.format(id,numsel))\n",
    "    print('keeping cols ', list(search_path_sfs[id][numsel]['feature_names']))\n",
    "    to_drop_cols= [col for col in X_train.columns.values if not col in list(search_path_sfs[id][numsel]['feature_names'])]\n",
    "    reg=CatBoostRegressor(**best_params_catboost['{}_sel{}'.format(id,numsel)])\n",
    "    reg.fit(X_trainval.drop(to_drop_cols,axis=1).to_numpy(), y_trainval)\n",
    "    joblib_filename = os.path.join(DATA_FOLDER,'model_catboost_{}_sel{}.joblib'.format(id,numsel))\n",
    "    joblib.dump(reg, joblib_filename+'.bz2', compress=('bz2', 3))\n",
    "    \n",
    "    #pred_test = np.clip(reg.predict(X_test.drop(to_drop_cols,axis=1).to_numpy()), 0, 20)\n",
    "    #output_name = 'submission-rf-bestparams-features_{}_combination_{}.csv'.format(id,'sel{}'.format(numsel))\n",
    "    #write_predictions_by_array(pred_test[submissionidx2testidx], output_name)  \n"
   ]
  },
  {
   "cell_type": "markdown",
   "metadata": {},
   "source": [
    "## Random forest model training"
   ]
  },
  {
   "cell_type": "code",
   "execution_count": 4,
   "metadata": {},
   "outputs": [
    {
     "name": "stdout",
     "output_type": "stream",
     "text": [
      "generating model_rf_basic_sel9\n",
      "keeping cols  ['target_item_lag_4', 'target_lag_2', 'item_category_id', 'target_item_lag_2', 'target_shop_lag_12', 'target_category_lag_4', 'target_item_lag_12', 'item_name_category_tfidf_bigram_256', 'time_of_year']\n",
      "building tree 1 of 30\n",
      "building tree 2 of 30\n",
      "building tree 3 of 30\n",
      "building tree 4 of 30\n"
     ]
    },
    {
     "name": "stderr",
     "output_type": "stream",
     "text": [
      "[Parallel(n_jobs=-1)]: Using backend ThreadingBackend with 4 concurrent workers.\n"
     ]
    },
    {
     "name": "stdout",
     "output_type": "stream",
     "text": [
      "building tree 5 of 30\n",
      "building tree 6 of 30\n",
      "building tree 7 of 30\n",
      "building tree 8 of 30\n",
      "building tree 9 of 30\n",
      "building tree 10 of 30\n",
      "building tree 11 of 30\n",
      "building tree 12 of 30\n",
      "building tree 13 of 30\n",
      "building tree 14 of 30\n",
      "building tree 15 of 30\n",
      "building tree 16 of 30\n",
      "building tree 17 of 30\n",
      "building tree 18 of 30\n",
      "building tree 19 of 30\n",
      "building tree 20 of 30\n",
      "building tree 21 of 30\n",
      "building tree 22 of 30\n",
      "building tree 23 of 30\n",
      "building tree 24 of 30\n",
      "building tree 25 of 30\n",
      "building tree 26 of 30\n",
      "building tree 27 of 30\n",
      "building tree 28 of 30\n",
      "building tree 29 of 30\n",
      "building tree 30 of 30\n"
     ]
    },
    {
     "name": "stderr",
     "output_type": "stream",
     "text": [
      "[Parallel(n_jobs=-1)]: Done  30 out of  30 | elapsed:  2.5min finished\n"
     ]
    },
    {
     "name": "stdout",
     "output_type": "stream",
     "text": [
      "generating model_rf_basic_sel16\n",
      "keeping cols  ['target_item_lag_4', 'target_shop_lag_6', 'target_lag_2', 'item_category_id', 'target_category_lag_3', 'target_category_lag_2', 'target_lag_4', 'target_item_lag_2', 'target_lag_6', 'target_shop_lag_12', 'item_name_cyrillic_fraction', 'target_category_lag_4', 'target_item_lag_5', 'target_item_lag_12', 'item_name_category_tfidf_bigram_256', 'time_of_year']\n"
     ]
    },
    {
     "name": "stderr",
     "output_type": "stream",
     "text": [
      "[Parallel(n_jobs=-1)]: Using backend ThreadingBackend with 4 concurrent workers.\n"
     ]
    },
    {
     "name": "stdout",
     "output_type": "stream",
     "text": [
      "building tree 1 of 100building tree 2 of 100\n",
      "\n",
      "building tree 3 of 100\n",
      "building tree 4 of 100\n",
      "building tree 5 of 100\n",
      "building tree 6 of 100\n",
      "building tree 7 of 100\n",
      "building tree 8 of 100\n",
      "building tree 9 of 100\n",
      "building tree 10 of 100\n",
      "building tree 11 of 100\n",
      "building tree 12 of 100\n",
      "building tree 13 of 100\n",
      "building tree 14 of 100\n",
      "building tree 15 of 100\n",
      "building tree 16 of 100\n",
      "building tree 17 of 100\n",
      "building tree 18 of 100\n",
      "building tree 19 of 100\n",
      "building tree 20 of 100\n",
      "building tree 21 of 100\n",
      "building tree 22 of 100\n",
      "building tree 23 of 100\n",
      "building tree 24 of 100\n",
      "building tree 25 of 100\n",
      "building tree 26 of 100\n",
      "building tree 27 of 100\n",
      "building tree 28 of 100\n",
      "building tree 29 of 100\n",
      "building tree 30 of 100\n",
      "building tree 31 of 100\n",
      "building tree 32 of 100\n",
      "building tree 33 of 100\n",
      "building tree 34 of 100\n",
      "building tree 35 of 100\n",
      "building tree 36 of 100\n"
     ]
    },
    {
     "name": "stderr",
     "output_type": "stream",
     "text": [
      "[Parallel(n_jobs=-1)]: Done  33 tasks      | elapsed:  5.0min\n"
     ]
    },
    {
     "name": "stdout",
     "output_type": "stream",
     "text": [
      "building tree 37 of 100\n",
      "building tree 38 of 100\n",
      "building tree 39 of 100\n",
      "building tree 40 of 100\n",
      "building tree 41 of 100\n",
      "building tree 42 of 100\n",
      "building tree 43 of 100\n",
      "building tree 44 of 100\n",
      "building tree 45 of 100\n",
      "building tree 46 of 100\n",
      "building tree 47 of 100\n",
      "building tree 48 of 100\n",
      "building tree 49 of 100\n",
      "building tree 50 of 100\n",
      "building tree 51 of 100\n",
      "building tree 52 of 100\n",
      "building tree 53 of 100\n",
      "building tree 54 of 100\n",
      "building tree 55 of 100\n",
      "building tree 56 of 100\n",
      "building tree 57 of 100\n",
      "building tree 58 of 100\n",
      "building tree 59 of 100\n",
      "building tree 60 of 100\n",
      "building tree 61 of 100\n",
      "building tree 62 of 100\n",
      "building tree 63 of 100\n",
      "building tree 64 of 100\n",
      "building tree 65 of 100\n",
      "building tree 66 of 100\n",
      "building tree 67 of 100\n",
      "building tree 68 of 100\n",
      "building tree 69 of 100\n",
      "building tree 70 of 100\n",
      "building tree 71 of 100\n",
      "building tree 72 of 100\n",
      "building tree 73 of 100\n",
      "building tree 74 of 100\n",
      "building tree 75 of 100\n",
      "building tree 76 of 100\n",
      "building tree 77 of 100\n",
      "building tree 78 of 100\n",
      "building tree 79 of 100\n",
      "building tree 80 of 100\n",
      "building tree 81 of 100\n",
      "building tree 82 of 100\n",
      "building tree 83 of 100\n",
      "building tree 84 of 100\n",
      "building tree 85 of 100\n",
      "building tree 86 of 100\n",
      "building tree 87 of 100\n",
      "building tree 88 of 100\n",
      "building tree 89 of 100\n",
      "building tree 90 of 100\n",
      "building tree 91 of 100\n",
      "building tree 92 of 100\n",
      "building tree 93 of 100\n",
      "building tree 94 of 100\n",
      "building tree 95 of 100\n",
      "building tree 96 of 100\n",
      "building tree 97 of 100\n",
      "building tree 98 of 100\n",
      "building tree 99 of 100\n",
      "building tree 100 of 100\n"
     ]
    },
    {
     "name": "stderr",
     "output_type": "stream",
     "text": [
      "[Parallel(n_jobs=-1)]: Done 100 out of 100 | elapsed: 14.0min finished\n"
     ]
    },
    {
     "name": "stdout",
     "output_type": "stream",
     "text": [
      "generating model_rf_basic_sel25\n",
      "keeping cols  ['target_item_lag_4', 'target_shop_lag_6', 'target_lag_2', 'target_shop_lag_5', 'target_lag_12', 'item_category_id', 'target_category_lag_3', 'target_category_lag_2', 'target_category_lag_6', 'target_lag_4', 'target_item_lag_2', 'target_lag_6', 'target_shop_lag_12', 'item_name_cyrillic_fraction', 'target_lag_5', 'target_category_lag_4', 'target_item_lag_5', 'target_item_lag_12', 'target_shop_lag_3', 'target_shop_lag_2', 'item_name_category_tfidf_bigram_256', 'is_internet_store', 'target_lag_3', 'target_item_lag_6', 'time_of_year']\n"
     ]
    },
    {
     "name": "stderr",
     "output_type": "stream",
     "text": [
      "[Parallel(n_jobs=-1)]: Using backend ThreadingBackend with 4 concurrent workers.\n"
     ]
    },
    {
     "name": "stdout",
     "output_type": "stream",
     "text": [
      "building tree 1 of 30\n",
      "building tree 2 of 30\n",
      "building tree 3 of 30\n",
      "building tree 4 of 30\n",
      "building tree 5 of 30\n",
      "building tree 6 of 30\n",
      "building tree 7 of 30\n",
      "building tree 8 of 30\n",
      "building tree 9 of 30\n",
      "building tree 10 of 30\n",
      "building tree 11 of 30\n",
      "building tree 12 of 30\n",
      "building tree 13 of 30\n",
      "building tree 14 of 30\n",
      "building tree 15 of 30\n",
      "building tree 16 of 30\n",
      "building tree 17 of 30\n",
      "building tree 18 of 30\n",
      "building tree 19 of 30\n",
      "building tree 20 of 30\n",
      "building tree 21 of 30\n",
      "building tree 22 of 30\n",
      "building tree 23 of 30\n",
      "building tree 24 of 30\n",
      "building tree 25 of 30\n",
      "building tree 26 of 30\n",
      "building tree 27 of 30\n",
      "building tree 28 of 30\n",
      "building tree 29 of 30\n",
      "building tree 30 of 30\n"
     ]
    },
    {
     "name": "stderr",
     "output_type": "stream",
     "text": [
      "[Parallel(n_jobs=-1)]: Done  30 out of  30 | elapsed:  5.8min finished\n"
     ]
    },
    {
     "name": "stdout",
     "output_type": "stream",
     "text": [
      "generating model_rf_basicv2_sel9\n",
      "keeping cols  ['target_lag_2', 'item_category_id', 'target_category_tfidf_bigram_256_within_shop_lag_2', 'target_item_lag_2', 'target_shop_lag_12', 'target_category_lag_4', 'target_item_lag_12', 'target_item_lag_3', 'target_lag_3']\n",
      "building tree 1 of 50building tree 2 of 50\n",
      "\n",
      "building tree 3 of 50\n",
      "building tree 4 of 50\n"
     ]
    },
    {
     "name": "stderr",
     "output_type": "stream",
     "text": [
      "[Parallel(n_jobs=-1)]: Using backend ThreadingBackend with 4 concurrent workers.\n"
     ]
    },
    {
     "name": "stdout",
     "output_type": "stream",
     "text": [
      "building tree 5 of 50\n",
      "building tree 6 of 50\n",
      "building tree 7 of 50\n",
      "building tree 8 of 50\n",
      "building tree 9 of 50\n",
      "building tree 10 of 50\n",
      "building tree 11 of 50\n",
      "building tree 12 of 50\n",
      "building tree 13 of 50\n",
      "building tree 14 of 50\n",
      "building tree 15 of 50\n",
      "building tree 16 of 50\n",
      "building tree 17 of 50\n",
      "building tree 18 of 50\n",
      "building tree 19 of 50\n",
      "building tree 20 of 50\n",
      "building tree 21 of 50\n",
      "building tree 22 of 50\n",
      "building tree 23 of 50\n",
      "building tree 24 of 50\n",
      "building tree 25 of 50\n",
      "building tree 26 of 50building tree 27 of 50\n",
      "\n",
      "building tree 28 of 50\n",
      "building tree 29 of 50\n",
      "building tree 30 of 50\n",
      "building tree 31 of 50\n",
      "building tree 32 of 50\n",
      "building tree 33 of 50\n",
      "building tree 34 of 50\n",
      "building tree 35 of 50\n",
      "building tree 36 of 50\n",
      "building tree 37 of 50\n"
     ]
    },
    {
     "name": "stderr",
     "output_type": "stream",
     "text": [
      "[Parallel(n_jobs=-1)]: Done  33 tasks      | elapsed:  3.0min\n"
     ]
    },
    {
     "name": "stdout",
     "output_type": "stream",
     "text": [
      "building tree 38 of 50\n",
      "building tree 39 of 50\n",
      "building tree 40 of 50\n",
      "building tree 41 of 50\n",
      "building tree 42 of 50\n",
      "building tree 43 of 50\n",
      "building tree 44 of 50\n",
      "building tree 45 of 50\n",
      "building tree 46 of 50\n",
      "building tree 47 of 50\n",
      "building tree 48 of 50\n",
      "building tree 49 of 50\n",
      "building tree 50 of 50\n"
     ]
    },
    {
     "name": "stderr",
     "output_type": "stream",
     "text": [
      "[Parallel(n_jobs=-1)]: Done  50 out of  50 | elapsed:  4.2min finished\n"
     ]
    },
    {
     "name": "stdout",
     "output_type": "stream",
     "text": [
      "generating model_rf_basicv2_sel16\n",
      "keeping cols  ['target_category_within_shop_lag_4', 'target_item_lag_4', 'target_lag_2', 'target_lag_12', 'item_category_id', 'target_category_tfidf_bigram_256_within_shop_lag_2', 'item_id', 'target_item_lag_2', 'target_shop_lag_12', 'item_name_cyrillic_fraction', 'target_category_lag_4', 'target_item_lag_5', 'target_category_within_shop_lag_5', 'target_item_lag_12', 'target_item_lag_3', 'target_lag_3']\n"
     ]
    },
    {
     "name": "stderr",
     "output_type": "stream",
     "text": [
      "[Parallel(n_jobs=-1)]: Using backend ThreadingBackend with 4 concurrent workers.\n"
     ]
    },
    {
     "name": "stdout",
     "output_type": "stream",
     "text": [
      "building tree 1 of 50building tree 2 of 50\n",
      "\n",
      "building tree 3 of 50\n",
      "building tree 4 of 50\n",
      "building tree 5 of 50\n",
      "building tree 6 of 50\n",
      "building tree 7 of 50\n",
      "building tree 8 of 50\n",
      "building tree 9 of 50\n",
      "building tree 10 of 50\n",
      "building tree 11 of 50\n",
      "building tree 12 of 50\n",
      "building tree 13 of 50\n",
      "building tree 14 of 50\n",
      "building tree 15 of 50\n",
      "building tree 16 of 50\n",
      "building tree 17 of 50\n",
      "building tree 18 of 50\n",
      "building tree 19 of 50\n",
      "building tree 20 of 50\n",
      "building tree 21 of 50\n",
      "building tree 22 of 50\n",
      "building tree 23 of 50\n",
      "building tree 24 of 50\n",
      "building tree 25 of 50\n",
      "building tree 26 of 50\n",
      "building tree 27 of 50\n",
      "building tree 28 of 50\n",
      "building tree 29 of 50\n",
      "building tree 30 of 50\n",
      "building tree 31 of 50\n",
      "building tree 32 of 50\n",
      "building tree 33 of 50\n",
      "building tree 34 of 50\n",
      "building tree 35 of 50\n",
      "building tree 36 of 50\n"
     ]
    },
    {
     "name": "stderr",
     "output_type": "stream",
     "text": [
      "[Parallel(n_jobs=-1)]: Done  33 tasks      | elapsed:  5.9min\n"
     ]
    },
    {
     "name": "stdout",
     "output_type": "stream",
     "text": [
      "building tree 37 of 50\n",
      "building tree 38 of 50\n",
      "building tree 39 of 50\n",
      "building tree 40 of 50\n",
      "building tree 41 of 50\n",
      "building tree 42 of 50\n",
      "building tree 43 of 50\n",
      "building tree 44 of 50\n",
      "building tree 45 of 50\n",
      "building tree 46 of 50\n",
      "building tree 47 of 50\n",
      "building tree 48 of 50\n",
      "building tree 49 of 50\n",
      "building tree 50 of 50\n"
     ]
    },
    {
     "name": "stderr",
     "output_type": "stream",
     "text": [
      "[Parallel(n_jobs=-1)]: Done  50 out of  50 | elapsed:  8.5min finished\n"
     ]
    },
    {
     "name": "stdout",
     "output_type": "stream",
     "text": [
      "generating model_rf_basicv2_sel25\n",
      "keeping cols  ['target_category_within_shop_lag_4', 'target_item_lag_4', 'target_shop_lag_4', 'target_lag_2', 'target_lag_12', 'item_category_id', 'target_category_lag_3', 'target_category_tfidf_bigram_256_within_shop_lag_2', 'target_category_tfidf_unigram_256_within_shop_lag_2', 'target_category_lag_6', 'target_category_tfidf_unigram_256_within_shop_lag_6', 'item_id', 'target_item_lag_2', 'target_shop_lag_12', 'item_name_cyrillic_fraction', 'target_category_tfidf_unigram_256_within_shop_lag_5', 'target_category_lag_4', 'target_item_lag_5', 'target_category_within_shop_lag_5', 'target_item_lag_12', 'target_item_lag_3', 'target_lag_3', 'target_item_lag_6', 'target_category_tfidf_unigram_256_within_shop_lag_3', 'time_of_year']\n"
     ]
    },
    {
     "name": "stderr",
     "output_type": "stream",
     "text": [
      "[Parallel(n_jobs=-1)]: Using backend ThreadingBackend with 4 concurrent workers.\n"
     ]
    },
    {
     "name": "stdout",
     "output_type": "stream",
     "text": [
      "building tree 1 of 30\n",
      "building tree 2 of 30\n",
      "building tree 3 of 30\n",
      "building tree 4 of 30\n",
      "building tree 5 of 30\n",
      "building tree 6 of 30\n",
      "building tree 7 of 30\n",
      "building tree 8 of 30\n",
      "building tree 9 of 30\n",
      "building tree 10 of 30\n",
      "building tree 11 of 30\n",
      "building tree 12 of 30\n",
      "building tree 13 of 30\n",
      "building tree 14 of 30\n",
      "building tree 15 of 30\n",
      "building tree 16 of 30\n",
      "building tree 17 of 30\n",
      "building tree 18 of 30\n",
      "building tree 19 of 30\n",
      "building tree 20 of 30\n",
      "building tree 21 of 30\n",
      "building tree 22 of 30\n",
      "building tree 23 of 30\n",
      "building tree 24 of 30\n",
      "building tree 25 of 30\n",
      "building tree 26 of 30\n",
      "building tree 27 of 30\n",
      "building tree 28 of 30\n",
      "building tree 29 of 30\n",
      "building tree 30 of 30\n"
     ]
    },
    {
     "name": "stderr",
     "output_type": "stream",
     "text": [
      "[Parallel(n_jobs=-1)]: Done  30 out of  30 | elapsed:  7.7min finished\n"
     ]
    },
    {
     "name": "stdout",
     "output_type": "stream",
     "text": [
      "generating model_rf_allfeat_sel9\n",
      "keeping cols  ['target_lag_3', 'target_item_lag_4', 'target_lag_2', 'item_category_id', 'target_item_lag_2', 'target_category_within_shop_lag_6', 'target_category_tfidf_unigram_256_lag_5', 'target_shop_lag_12', 'target_lag_12']\n"
     ]
    },
    {
     "name": "stderr",
     "output_type": "stream",
     "text": [
      "[Parallel(n_jobs=-1)]: Using backend ThreadingBackend with 4 concurrent workers.\n"
     ]
    },
    {
     "name": "stdout",
     "output_type": "stream",
     "text": [
      "building tree 1 of 100\n",
      "building tree 2 of 100\n",
      "building tree 3 of 100\n",
      "building tree 4 of 100\n",
      "building tree 5 of 100\n",
      "building tree 6 of 100\n",
      "building tree 7 of 100\n",
      "building tree 8 of 100\n",
      "building tree 9 of 100\n",
      "building tree 10 of 100\n",
      "building tree 11 of 100\n",
      "building tree 12 of 100\n",
      "building tree 13 of 100\n",
      "building tree 14 of 100\n",
      "building tree 15 of 100\n",
      "building tree 16 of 100\n",
      "building tree 17 of 100\n",
      "building tree 18 of 100\n",
      "building tree 19 of 100\n",
      "building tree 20 of 100\n",
      "building tree 21 of 100\n",
      "building tree 22 of 100\n",
      "building tree 23 of 100\n",
      "building tree 24 of 100\n",
      "building tree 25 of 100\n",
      "building tree 26 of 100\n",
      "building tree 27 of 100\n",
      "building tree 28 of 100\n",
      "building tree 29 of 100\n",
      "building tree 30 of 100\n",
      "building tree 31 of 100\n",
      "building tree 32 of 100\n",
      "building tree 33 of 100\n",
      "building tree 34 of 100\n",
      "building tree 35 of 100\n",
      "building tree 36 of 100\n",
      "building tree 37 of 100\n"
     ]
    },
    {
     "name": "stderr",
     "output_type": "stream",
     "text": [
      "[Parallel(n_jobs=-1)]: Done  33 tasks      | elapsed:  3.1min\n"
     ]
    },
    {
     "name": "stdout",
     "output_type": "stream",
     "text": [
      "building tree 38 of 100\n",
      "building tree 39 of 100\n",
      "building tree 40 of 100\n",
      "building tree 41 of 100\n",
      "building tree 42 of 100\n",
      "building tree 43 of 100\n",
      "building tree 44 of 100\n",
      "building tree 45 of 100\n",
      "building tree 46 of 100\n",
      "building tree 47 of 100\n",
      "building tree 48 of 100\n",
      "building tree 49 of 100\n",
      "building tree 50 of 100\n",
      "building tree 51 of 100\n",
      "building tree 52 of 100\n",
      "building tree 53 of 100\n",
      "building tree 54 of 100\n",
      "building tree 55 of 100\n",
      "building tree 56 of 100\n",
      "building tree 57 of 100\n",
      "building tree 58 of 100\n",
      "building tree 59 of 100\n",
      "building tree 60 of 100\n",
      "building tree 61 of 100\n",
      "building tree 62 of 100\n",
      "building tree 63 of 100\n",
      "building tree 64 of 100\n",
      "building tree 65 of 100\n",
      "building tree 66 of 100\n",
      "building tree 67 of 100\n",
      "building tree 68 of 100\n",
      "building tree 69 of 100\n",
      "building tree 70 of 100\n",
      "building tree 71 of 100\n",
      "building tree 72 of 100\n",
      "building tree 73 of 100\n",
      "building tree 74 of 100\n",
      "building tree 75 of 100\n",
      "building tree 76 of 100\n",
      "building tree 77 of 100\n",
      "building tree 78 of 100\n",
      "building tree 79 of 100\n",
      "building tree 80 of 100\n",
      "building tree 81 of 100\n",
      "building tree 82 of 100\n",
      "building tree 83 of 100\n",
      "building tree 84 of 100\n",
      "building tree 85 of 100\n",
      "building tree 86 of 100\n",
      "building tree 87 of 100\n",
      "building tree 88 of 100\n",
      "building tree 89 of 100\n",
      "building tree 90 of 100\n",
      "building tree 91 of 100\n",
      "building tree 92 of 100\n",
      "building tree 93 of 100\n",
      "building tree 94 of 100\n",
      "building tree 95 of 100\n",
      "building tree 96 of 100\n",
      "building tree 97 of 100\n",
      "building tree 98 of 100\n",
      "building tree 99 of 100\n",
      "building tree 100 of 100\n"
     ]
    },
    {
     "name": "stderr",
     "output_type": "stream",
     "text": [
      "[Parallel(n_jobs=-1)]: Done 100 out of 100 | elapsed:  8.8min finished\n"
     ]
    },
    {
     "name": "stdout",
     "output_type": "stream",
     "text": [
      "generating model_rf_allfeat_sel16\n",
      "keeping cols  ['target_item_lag_3', 'target_item_lag_6', 'target_category_within_shop_lag_2', 'target_category_tfidf_bigram_256_within_shop_lag_2', 'target_item_lag_12', 'target_shop_lag_2', 'target_lag_3', 'target_category_within_shop_lag_4', 'target_item_lag_4', 'target_lag_2', 'item_category_id', 'target_item_lag_2', 'target_category_within_shop_lag_6', 'target_category_tfidf_unigram_256_lag_5', 'target_shop_lag_12', 'target_lag_12']\n"
     ]
    },
    {
     "name": "stderr",
     "output_type": "stream",
     "text": [
      "[Parallel(n_jobs=-1)]: Using backend ThreadingBackend with 4 concurrent workers.\n"
     ]
    },
    {
     "name": "stdout",
     "output_type": "stream",
     "text": [
      "building tree 1 of 100\n",
      "building tree 2 of 100\n",
      "building tree 3 of 100\n",
      "building tree 4 of 100\n",
      "building tree 5 of 100\n",
      "building tree 6 of 100\n",
      "building tree 7 of 100\n",
      "building tree 8 of 100\n",
      "building tree 9 of 100\n",
      "building tree 10 of 100\n",
      "building tree 11 of 100\n",
      "building tree 12 of 100\n",
      "building tree 13 of 100\n",
      "building tree 14 of 100\n",
      "building tree 15 of 100\n",
      "building tree 16 of 100\n",
      "building tree 17 of 100\n",
      "building tree 18 of 100\n",
      "building tree 19 of 100\n",
      "building tree 20 of 100\n",
      "building tree 21 of 100\n",
      "building tree 22 of 100\n",
      "building tree 23 of 100\n",
      "building tree 24 of 100\n",
      "building tree 25 of 100\n",
      "building tree 26 of 100\n",
      "building tree 27 of 100\n",
      "building tree 28 of 100\n",
      "building tree 29 of 100\n",
      "building tree 30 of 100\n",
      "building tree 31 of 100\n",
      "building tree 32 of 100\n",
      "building tree 33 of 100\n",
      "building tree 34 of 100\n",
      "building tree 35 of 100\n",
      "building tree 36 of 100\n",
      "building tree 37 of 100\n"
     ]
    },
    {
     "name": "stderr",
     "output_type": "stream",
     "text": [
      "[Parallel(n_jobs=-1)]: Done  33 tasks      | elapsed:  5.0min\n"
     ]
    },
    {
     "name": "stdout",
     "output_type": "stream",
     "text": [
      "building tree 38 of 100\n",
      "building tree 39 of 100\n",
      "building tree 40 of 100\n",
      "building tree 41 of 100\n",
      "building tree 42 of 100\n",
      "building tree 43 of 100\n",
      "building tree 44 of 100\n",
      "building tree 45 of 100\n",
      "building tree 46 of 100\n",
      "building tree 47 of 100\n",
      "building tree 48 of 100\n",
      "building tree 49 of 100\n",
      "building tree 50 of 100\n",
      "building tree 51 of 100\n",
      "building tree 52 of 100\n",
      "building tree 53 of 100\n",
      "building tree 54 of 100\n",
      "building tree 55 of 100\n",
      "building tree 56 of 100\n",
      "building tree 57 of 100\n",
      "building tree 58 of 100\n",
      "building tree 59 of 100\n",
      "building tree 60 of 100\n",
      "building tree 61 of 100\n",
      "building tree 62 of 100\n",
      "building tree 63 of 100\n",
      "building tree 64 of 100\n",
      "building tree 65 of 100\n",
      "building tree 66 of 100\n",
      "building tree 67 of 100\n",
      "building tree 68 of 100\n",
      "building tree 69 of 100\n",
      "building tree 70 of 100\n",
      "building tree 71 of 100\n",
      "building tree 72 of 100\n",
      "building tree 73 of 100\n",
      "building tree 74 of 100\n",
      "building tree 75 of 100\n",
      "building tree 76 of 100\n",
      "building tree 77 of 100\n",
      "building tree 78 of 100\n",
      "building tree 79 of 100\n",
      "building tree 80 of 100\n",
      "building tree 81 of 100\n",
      "building tree 82 of 100\n",
      "building tree 83 of 100\n",
      "building tree 84 of 100\n",
      "building tree 85 of 100\n",
      "building tree 86 of 100\n",
      "building tree 87 of 100\n",
      "building tree 88 of 100\n",
      "building tree 89 of 100\n",
      "building tree 90 of 100\n",
      "building tree 91 of 100\n",
      "building tree 92 of 100\n",
      "building tree 93 of 100\n",
      "building tree 94 of 100\n",
      "building tree 95 of 100\n",
      "building tree 96 of 100\n",
      "building tree 97 of 100\n",
      "building tree 98 of 100\n",
      "building tree 99 of 100\n",
      "building tree 100 of 100\n"
     ]
    },
    {
     "name": "stderr",
     "output_type": "stream",
     "text": [
      "[Parallel(n_jobs=-1)]: Done 100 out of 100 | elapsed: 14.1min finished\n"
     ]
    },
    {
     "name": "stdout",
     "output_type": "stream",
     "text": [
      "generating model_rf_allfeat_sel25\n",
      "keeping cols  ['target_item_lag_3', 'target_item_lag_6', 'target_category_within_shop_lag_2', 'target_category_tfidf_bigram_256_within_shop_lag_2', 'target_item_lag_12', 'target_shop_lag_2', 'target_category_frequent_256_within_shop_lag_3', 'target_lag_3', 'target_category_tfidf_bigram_256_within_shop_lag_12', 'target_category_within_shop_lag_4', 'target_item_lag_4', 'target_lag_2', 'item_category_id', 'target_item_lag_2', 'target_category_within_shop_lag_6', 'target_category_tfidf_unigram_256_lag_5', 'target_shop_lag_12', 'item_name_cyrillic_fraction', 'item_name_category_tfidf_bigram_256', 'target_shop_lag_5', 'target_lag_12', 'target_category_frequent_256_within_shop_lag_2', 'target_category_tfidf_unigram_256_within_shop_lag_2', 'target_category_tfidf_unigram_256_lag_3', 'time_of_year']\n"
     ]
    },
    {
     "name": "stderr",
     "output_type": "stream",
     "text": [
      "[Parallel(n_jobs=-1)]: Using backend ThreadingBackend with 4 concurrent workers.\n"
     ]
    },
    {
     "name": "stdout",
     "output_type": "stream",
     "text": [
      "building tree 1 of 100building tree 2 of 100\n",
      "\n",
      "building tree 3 of 100\n",
      "building tree 4 of 100\n",
      "building tree 5 of 100\n",
      "building tree 6 of 100\n",
      "building tree 7 of 100\n",
      "building tree 8 of 100\n",
      "building tree 9 of 100\n",
      "building tree 10 of 100\n",
      "building tree 11 of 100\n",
      "building tree 12 of 100\n",
      "building tree 13 of 100\n",
      "building tree 14 of 100\n",
      "building tree 15 of 100\n",
      "building tree 16 of 100\n",
      "building tree 17 of 100\n",
      "building tree 18 of 100\n",
      "building tree 19 of 100\n",
      "building tree 20 of 100\n",
      "building tree 21 of 100\n",
      "building tree 22 of 100\n",
      "building tree 23 of 100\n",
      "building tree 24 of 100\n",
      "building tree 25 of 100\n",
      "building tree 26 of 100\n",
      "building tree 27 of 100\n",
      "building tree 28 of 100\n",
      "building tree 29 of 100\n",
      "building tree 30 of 100\n",
      "building tree 31 of 100\n",
      "building tree 32 of 100\n",
      "building tree 33 of 100\n",
      "building tree 34 of 100\n",
      "building tree 35 of 100\n",
      "building tree 36 of 100\n"
     ]
    },
    {
     "name": "stderr",
     "output_type": "stream",
     "text": [
      "[Parallel(n_jobs=-1)]: Done  33 tasks      | elapsed: 10.0min\n"
     ]
    },
    {
     "name": "stdout",
     "output_type": "stream",
     "text": [
      "building tree 37 of 100\n",
      "building tree 38 of 100\n",
      "building tree 39 of 100\n",
      "building tree 40 of 100\n",
      "building tree 41 of 100\n",
      "building tree 42 of 100\n",
      "building tree 43 of 100\n",
      "building tree 44 of 100\n",
      "building tree 45 of 100\n",
      "building tree 46 of 100\n",
      "building tree 47 of 100\n",
      "building tree 48 of 100\n",
      "building tree 49 of 100\n",
      "building tree 50 of 100\n",
      "building tree 51 of 100\n",
      "building tree 52 of 100\n",
      "building tree 53 of 100\n",
      "building tree 54 of 100\n",
      "building tree 55 of 100\n",
      "building tree 56 of 100\n",
      "building tree 57 of 100\n",
      "building tree 58 of 100\n",
      "building tree 59 of 100\n",
      "building tree 60 of 100\n",
      "building tree 61 of 100\n",
      "building tree 62 of 100\n",
      "building tree 63 of 100\n",
      "building tree 64 of 100\n",
      "building tree 65 of 100\n",
      "building tree 66 of 100\n",
      "building tree 67 of 100\n",
      "building tree 68 of 100\n",
      "building tree 69 of 100\n",
      "building tree 70 of 100\n",
      "building tree 71 of 100\n",
      "building tree 72 of 100\n",
      "building tree 73 of 100\n",
      "building tree 74 of 100\n",
      "building tree 75 of 100\n",
      "building tree 76 of 100\n",
      "building tree 77 of 100\n",
      "building tree 78 of 100\n",
      "building tree 79 of 100\n",
      "building tree 80 of 100\n",
      "building tree 81 of 100\n",
      "building tree 82 of 100\n",
      "building tree 83 of 100\n",
      "building tree 84 of 100\n",
      "building tree 85 of 100\n",
      "building tree 86 of 100\n",
      "building tree 87 of 100\n",
      "building tree 88 of 100\n",
      "building tree 89 of 100\n",
      "building tree 90 of 100\n",
      "building tree 91 of 100\n",
      "building tree 92 of 100\n",
      "building tree 93 of 100\n",
      "building tree 94 of 100\n",
      "building tree 95 of 100\n",
      "building tree 96 of 100\n",
      "building tree 97 of 100\n",
      "building tree 98 of 100\n",
      "building tree 99 of 100\n",
      "building tree 100 of 100\n"
     ]
    },
    {
     "name": "stderr",
     "output_type": "stream",
     "text": [
      "[Parallel(n_jobs=-1)]: Done 100 out of 100 | elapsed: 28.2min finished\n"
     ]
    },
    {
     "name": "stdout",
     "output_type": "stream",
     "text": [
      "generating model_rf_text_sel9\n",
      "keeping cols  ['item_category_id', 'target_category_frequent_256_within_shop_lag_5', 'target_category_tfidf_bigram_256_within_shop_lag_2', 'target_category_tfidf_unigram_256_within_shop_lag_12', 'target_category_frequent_256_lag_5', 'item_name_cyrillic_fraction', 'item_name_category_tfidf_unigram_256', 'item_name_category_tfidf_bigram_256', 'item_name_category_frequent_256']\n"
     ]
    },
    {
     "name": "stderr",
     "output_type": "stream",
     "text": [
      "[Parallel(n_jobs=-1)]: Using backend ThreadingBackend with 4 concurrent workers.\n"
     ]
    },
    {
     "name": "stdout",
     "output_type": "stream",
     "text": [
      "building tree 1 of 50\n",
      "building tree 2 of 50\n",
      "building tree 3 of 50\n",
      "building tree 4 of 50\n",
      "building tree 5 of 50\n",
      "building tree 6 of 50\n",
      "building tree 7 of 50\n",
      "building tree 8 of 50\n",
      "building tree 9 of 50\n",
      "building tree 10 of 50\n",
      "building tree 11 of 50\n",
      "building tree 12 of 50\n",
      "building tree 13 of 50\n",
      "building tree 14 of 50\n",
      "building tree 15 of 50\n",
      "building tree 16 of 50\n",
      "building tree 17 of 50\n",
      "building tree 18 of 50\n",
      "building tree 19 of 50\n",
      "building tree 20 of 50\n",
      "building tree 21 of 50\n",
      "building tree 22 of 50\n",
      "building tree 23 of 50\n",
      "building tree 24 of 50\n",
      "building tree 25 of 50\n",
      "building tree 26 of 50\n",
      "building tree 27 of 50\n",
      "building tree 28 of 50\n",
      "building tree 29 of 50\n",
      "building tree 30 of 50\n",
      "building tree 31 of 50\n",
      "building tree 32 of 50\n",
      "building tree 33 of 50\n",
      "building tree 34 of 50\n",
      "building tree 35 of 50\n",
      "building tree 36 of 50\n",
      "building tree 37 of 50\n",
      "building tree 38 of 50\n"
     ]
    },
    {
     "name": "stderr",
     "output_type": "stream",
     "text": [
      "[Parallel(n_jobs=-1)]: Done  33 tasks      | elapsed:  3.4min\n"
     ]
    },
    {
     "name": "stdout",
     "output_type": "stream",
     "text": [
      "building tree 39 of 50\n",
      "building tree 40 of 50\n",
      "building tree 41 of 50\n",
      "building tree 42 of 50\n",
      "building tree 43 of 50\n",
      "building tree 44 of 50\n",
      "building tree 45 of 50\n",
      "building tree 46 of 50\n",
      "building tree 47 of 50\n",
      "building tree 48 of 50\n",
      "building tree 49 of 50\n",
      "building tree 50 of 50\n"
     ]
    },
    {
     "name": "stderr",
     "output_type": "stream",
     "text": [
      "[Parallel(n_jobs=-1)]: Done  50 out of  50 | elapsed:  4.9min finished\n"
     ]
    },
    {
     "name": "stdout",
     "output_type": "stream",
     "text": [
      "generating model_rf_text_sel16\n",
      "keeping cols  ['target_category_tfidf_unigram_256_lag_2', 'date_block_num', 'item_category_id', 'target_category_frequent_256_within_shop_lag_5', 'target_category_tfidf_bigram_256_within_shop_lag_2', 'target_category_tfidf_unigram_256_within_shop_lag_12', 'item_id', 'target_category_tfidf_bigram_256_within_shop_lag_6', 'target_category_frequent_256_lag_5', 'target_category_frequent_256_lag_12', 'item_name_cyrillic_fraction', 'target_category_tfidf_unigram_256_within_shop_lag_5', 'item_name_category_tfidf_unigram_256', 'item_name_category_tfidf_bigram_256', 'target_category_tfidf_unigram_256_within_shop_lag_4', 'item_name_category_frequent_256']\n"
     ]
    },
    {
     "name": "stderr",
     "output_type": "stream",
     "text": [
      "[Parallel(n_jobs=-1)]: Using backend ThreadingBackend with 4 concurrent workers.\n"
     ]
    },
    {
     "name": "stdout",
     "output_type": "stream",
     "text": [
      "building tree 1 of 50building tree 2 of 50\n",
      "\n",
      "building tree 3 of 50building tree 4 of 50\n",
      "\n",
      "building tree 5 of 50\n",
      "building tree 6 of 50\n",
      "building tree 7 of 50\n",
      "building tree 8 of 50\n",
      "building tree 9 of 50\n",
      "building tree 10 of 50\n",
      "building tree 11 of 50\n",
      "building tree 12 of 50\n",
      "building tree 13 of 50\n",
      "building tree 14 of 50\n",
      "building tree 15 of 50\n",
      "building tree 16 of 50\n",
      "building tree 17 of 50\n",
      "building tree 18 of 50\n",
      "building tree 19 of 50\n",
      "building tree 20 of 50\n",
      "building tree 21 of 50\n",
      "building tree 22 of 50\n",
      "building tree 23 of 50\n",
      "building tree 24 of 50\n",
      "building tree 25 of 50\n",
      "building tree 26 of 50\n",
      "building tree 27 of 50\n",
      "building tree 28 of 50\n",
      "building tree 29 of 50\n",
      "building tree 30 of 50\n",
      "building tree 31 of 50\n",
      "building tree 32 of 50\n",
      "building tree 33 of 50\n",
      "building tree 34 of 50\n",
      "building tree 35 of 50\n",
      "building tree 36 of 50\n",
      "building tree 37 of 50\n",
      "building tree 38 of 50\n"
     ]
    },
    {
     "name": "stderr",
     "output_type": "stream",
     "text": [
      "[Parallel(n_jobs=-1)]: Done  33 tasks      | elapsed:  6.3min\n"
     ]
    },
    {
     "name": "stdout",
     "output_type": "stream",
     "text": [
      "building tree 39 of 50\n",
      "building tree 40 of 50\n",
      "building tree 41 of 50\n",
      "building tree 42 of 50\n",
      "building tree 43 of 50\n",
      "building tree 44 of 50\n",
      "building tree 45 of 50\n",
      "building tree 46 of 50\n",
      "building tree 47 of 50\n",
      "building tree 48 of 50\n",
      "building tree 49 of 50\n",
      "building tree 50 of 50\n"
     ]
    },
    {
     "name": "stderr",
     "output_type": "stream",
     "text": [
      "[Parallel(n_jobs=-1)]: Done  50 out of  50 | elapsed:  9.0min finished\n"
     ]
    },
    {
     "name": "stdout",
     "output_type": "stream",
     "text": [
      "generating model_rf_text_sel25\n",
      "keeping cols  ['target_category_tfidf_unigram_256_lag_4', 'target_category_tfidf_unigram_256_lag_2', 'date_block_num', 'item_category_id', 'target_category_tfidf_unigram_256_within_shop_lag_2', 'target_category_frequent_256_within_shop_lag_5', 'target_category_tfidf_bigram_256_within_shop_lag_2', 'target_category_frequent_256_within_shop_lag_6', 'target_category_tfidf_unigram_256_within_shop_lag_12', 'target_category_frequent_256_within_shop_lag_4', 'item_id', 'target_category_tfidf_bigram_256_within_shop_lag_6', 'target_category_frequent_256_lag_5', 'target_category_tfidf_bigram_256_lag_4', 'target_category_tfidf_unigram_256_lag_5', 'target_category_frequent_256_lag_12', 'item_name_cyrillic_fraction', 'target_category_tfidf_unigram_256_within_shop_lag_5', 'target_category_tfidf_unigram_256_lag_3', 'target_category_frequent_256_within_shop_lag_12', 'item_name_category_tfidf_unigram_256', 'item_name_category_tfidf_bigram_256', 'target_category_tfidf_bigram_256_lag_3', 'target_category_tfidf_unigram_256_within_shop_lag_4', 'item_name_category_frequent_256']\n"
     ]
    },
    {
     "name": "stderr",
     "output_type": "stream",
     "text": [
      "[Parallel(n_jobs=-1)]: Using backend ThreadingBackend with 4 concurrent workers.\n"
     ]
    },
    {
     "name": "stdout",
     "output_type": "stream",
     "text": [
      "building tree 1 of 50\n",
      "building tree 2 of 50\n",
      "building tree 3 of 50\n",
      "building tree 4 of 50\n",
      "building tree 5 of 50\n",
      "building tree 6 of 50\n",
      "building tree 7 of 50\n",
      "building tree 8 of 50\n",
      "building tree 9 of 50\n",
      "building tree 10 of 50\n",
      "building tree 11 of 50\n",
      "building tree 12 of 50\n",
      "building tree 13 of 50\n",
      "building tree 14 of 50\n",
      "building tree 15 of 50\n",
      "building tree 16 of 50\n",
      "building tree 17 of 50\n",
      "building tree 18 of 50\n",
      "building tree 19 of 50\n",
      "building tree 20 of 50\n",
      "building tree 21 of 50\n",
      "building tree 22 of 50\n",
      "building tree 23 of 50\n",
      "building tree 24 of 50\n",
      "building tree 25 of 50\n",
      "building tree 26 of 50\n",
      "building tree 27 of 50\n",
      "building tree 28 of 50\n",
      "building tree 29 of 50\n",
      "building tree 30 of 50\n",
      "building tree 31 of 50\n",
      "building tree 32 of 50\n",
      "building tree 33 of 50\n",
      "building tree 34 of 50\n",
      "building tree 35 of 50\n",
      "building tree 36 of 50\n"
     ]
    },
    {
     "name": "stderr",
     "output_type": "stream",
     "text": [
      "[Parallel(n_jobs=-1)]: Done  33 tasks      | elapsed:  8.9min\n"
     ]
    },
    {
     "name": "stdout",
     "output_type": "stream",
     "text": [
      "building tree 37 of 50\n",
      "building tree 38 of 50\n",
      "building tree 39 of 50\n",
      "building tree 40 of 50\n",
      "building tree 41 of 50\n",
      "building tree 42 of 50\n",
      "building tree 43 of 50\n",
      "building tree 44 of 50\n",
      "building tree 45 of 50\n",
      "building tree 46 of 50\n",
      "building tree 47 of 50\n",
      "building tree 48 of 50\n",
      "building tree 49 of 50\n",
      "building tree 50 of 50\n"
     ]
    },
    {
     "name": "stderr",
     "output_type": "stream",
     "text": [
      "[Parallel(n_jobs=-1)]: Done  50 out of  50 | elapsed: 12.7min finished\n"
     ]
    },
    {
     "name": "stdout",
     "output_type": "stream",
     "text": [
      "generating model_rf_within_sel9\n",
      "keeping cols  ['target_category_tfidf_bigram_256_within_shop_lag_12', 'target_category_within_shop_lag_4', 'item_category_id', 'target_category_tfidf_bigram_256_within_shop_lag_4', 'target_category_frequent_256_within_shop_lag_4', 'target_category_tfidf_unigram_256_within_shop_lag_5', 'target_category_frequent_256_within_shop_lag_12', 'shop_id', 'target_category_tfidf_bigram_256_within_shop_lag_3']\n",
      "building tree 1 of 50\n",
      "building tree 2 of 50\n",
      "building tree 3 of 50\n",
      "building tree 4 of 50\n"
     ]
    },
    {
     "name": "stderr",
     "output_type": "stream",
     "text": [
      "[Parallel(n_jobs=-1)]: Using backend ThreadingBackend with 4 concurrent workers.\n"
     ]
    },
    {
     "name": "stdout",
     "output_type": "stream",
     "text": [
      "building tree 5 of 50\n",
      "building tree 6 of 50\n",
      "building tree 7 of 50\n",
      "building tree 8 of 50\n",
      "building tree 9 of 50\n",
      "building tree 10 of 50\n",
      "building tree 11 of 50\n",
      "building tree 12 of 50\n",
      "building tree 13 of 50\n",
      "building tree 14 of 50\n",
      "building tree 15 of 50\n",
      "building tree 16 of 50\n",
      "building tree 17 of 50\n",
      "building tree 18 of 50\n",
      "building tree 19 of 50\n",
      "building tree 20 of 50\n",
      "building tree 21 of 50\n",
      "building tree 22 of 50\n",
      "building tree 23 of 50\n",
      "building tree 24 of 50\n",
      "building tree 25 of 50\n",
      "building tree 26 of 50\n",
      "building tree 27 of 50\n",
      "building tree 28 of 50\n",
      "building tree 29 of 50\n",
      "building tree 30 of 50\n",
      "building tree 31 of 50\n",
      "building tree 32 of 50\n",
      "building tree 33 of 50\n",
      "building tree 34 of 50\n",
      "building tree 35 of 50\n",
      "building tree 36 of 50\n"
     ]
    },
    {
     "name": "stderr",
     "output_type": "stream",
     "text": [
      "[Parallel(n_jobs=-1)]: Done  33 tasks      | elapsed:  3.4min\n"
     ]
    },
    {
     "name": "stdout",
     "output_type": "stream",
     "text": [
      "building tree 37 of 50\n",
      "building tree 38 of 50\n",
      "building tree 39 of 50\n",
      "building tree 40 of 50\n",
      "building tree 41 of 50\n",
      "building tree 42 of 50\n",
      "building tree 43 of 50\n",
      "building tree 44 of 50\n",
      "building tree 45 of 50\n",
      "building tree 46 of 50\n",
      "building tree 47 of 50\n",
      "building tree 48 of 50\n",
      "building tree 49 of 50\n",
      "building tree 50 of 50\n"
     ]
    },
    {
     "name": "stderr",
     "output_type": "stream",
     "text": [
      "[Parallel(n_jobs=-1)]: Done  50 out of  50 | elapsed:  4.9min finished\n"
     ]
    },
    {
     "name": "stdout",
     "output_type": "stream",
     "text": [
      "generating model_rf_within_sel16\n",
      "keeping cols  ['target_category_tfidf_bigram_256_within_shop_lag_12', 'target_category_within_shop_lag_4', 'date_block_num', 'item_category_id', 'target_category_tfidf_unigram_256_within_shop_lag_2', 'target_category_tfidf_bigram_256_within_shop_lag_4', 'target_category_tfidf_unigram_256_within_shop_lag_6', 'target_category_frequent_256_within_shop_lag_4', 'target_category_within_shop_lag_3', 'target_category_tfidf_bigram_256_within_shop_lag_5', 'target_category_tfidf_unigram_256_within_shop_lag_5', 'target_category_frequent_256_within_shop_lag_12', 'shop_id', 'target_category_frequent_256_within_shop_lag_3', 'target_category_tfidf_bigram_256_within_shop_lag_3', 'target_category_tfidf_unigram_256_within_shop_lag_3']\n"
     ]
    },
    {
     "name": "stderr",
     "output_type": "stream",
     "text": [
      "[Parallel(n_jobs=-1)]: Using backend ThreadingBackend with 4 concurrent workers.\n"
     ]
    },
    {
     "name": "stdout",
     "output_type": "stream",
     "text": [
      "building tree 1 of 30building tree 2 of 30\n",
      "\n",
      "building tree 3 of 30\n",
      "building tree 4 of 30\n",
      "building tree 5 of 30\n",
      "building tree 6 of 30\n",
      "building tree 7 of 30\n",
      "building tree 8 of 30\n",
      "building tree 9 of 30\n",
      "building tree 10 of 30\n",
      "building tree 11 of 30\n",
      "building tree 12 of 30\n",
      "building tree 13 of 30\n",
      "building tree 14 of 30\n",
      "building tree 15 of 30\n",
      "building tree 16 of 30\n",
      "building tree 17 of 30\n",
      "building tree 18 of 30\n",
      "building tree 19 of 30\n",
      "building tree 20 of 30\n",
      "building tree 21 of 30\n",
      "building tree 22 of 30\n",
      "building tree 23 of 30\n",
      "building tree 24 of 30\n",
      "building tree 25 of 30\n",
      "building tree 26 of 30\n",
      "building tree 27 of 30\n",
      "building tree 28 of 30\n",
      "building tree 29 of 30\n",
      "building tree 30 of 30\n"
     ]
    },
    {
     "name": "stderr",
     "output_type": "stream",
     "text": [
      "[Parallel(n_jobs=-1)]: Done  30 out of  30 | elapsed:  4.4min finished\n"
     ]
    },
    {
     "name": "stdout",
     "output_type": "stream",
     "text": [
      "generating model_rf_within_sel25\n",
      "keeping cols  ['target_category_tfidf_bigram_256_within_shop_lag_12', 'target_category_within_shop_lag_4', 'target_category_within_shop_lag_2', 'date_block_num', 'item_category_id', 'target_category_frequent_256_within_shop_lag_5', 'target_category_frequent_256_within_shop_lag_6', 'target_category_tfidf_unigram_256_within_shop_lag_2', 'target_category_tfidf_bigram_256_within_shop_lag_2', 'target_category_tfidf_bigram_256_within_shop_lag_4', 'target_category_tfidf_unigram_256_within_shop_lag_6', 'item_id', 'target_category_frequent_256_within_shop_lag_4', 'target_category_within_shop_lag_12', 'target_category_tfidf_bigram_256_within_shop_lag_6', 'target_category_within_shop_lag_3', 'target_category_tfidf_bigram_256_within_shop_lag_5', 'target_category_tfidf_unigram_256_within_shop_lag_5', 'target_category_within_shop_lag_5', 'target_category_frequent_256_within_shop_lag_12', 'shop_id', 'target_category_frequent_256_within_shop_lag_3', 'target_category_tfidf_bigram_256_within_shop_lag_3', 'target_category_tfidf_unigram_256_within_shop_lag_4', 'target_category_tfidf_unigram_256_within_shop_lag_3']\n"
     ]
    },
    {
     "name": "stderr",
     "output_type": "stream",
     "text": [
      "[Parallel(n_jobs=-1)]: Using backend ThreadingBackend with 4 concurrent workers.\n"
     ]
    },
    {
     "name": "stdout",
     "output_type": "stream",
     "text": [
      "building tree 1 of 50\n",
      "building tree 2 of 50building tree 3 of 50\n",
      "\n",
      "building tree 4 of 50\n",
      "building tree 5 of 50\n",
      "building tree 6 of 50\n",
      "building tree 7 of 50\n",
      "building tree 8 of 50\n",
      "building tree 9 of 50\n",
      "building tree 10 of 50\n",
      "building tree 11 of 50\n",
      "building tree 12 of 50\n",
      "building tree 13 of 50\n",
      "building tree 14 of 50\n",
      "building tree 15 of 50\n",
      "building tree 16 of 50\n",
      "building tree 17 of 50\n",
      "building tree 18 of 50\n",
      "building tree 19 of 50\n",
      "building tree 20 of 50\n",
      "building tree 21 of 50\n",
      "building tree 22 of 50\n",
      "building tree 23 of 50\n",
      "building tree 24 of 50\n",
      "building tree 25 of 50\n",
      "building tree 26 of 50\n",
      "building tree 27 of 50\n",
      "building tree 28 of 50\n",
      "building tree 29 of 50\n",
      "building tree 30 of 50\n",
      "building tree 31 of 50\n",
      "building tree 32 of 50\n",
      "building tree 33 of 50\n",
      "building tree 34 of 50\n",
      "building tree 35 of 50\n",
      "building tree 36 of 50\n",
      "building tree 37 of 50\n"
     ]
    },
    {
     "name": "stderr",
     "output_type": "stream",
     "text": [
      "[Parallel(n_jobs=-1)]: Done  33 tasks      | elapsed: 10.2min\n"
     ]
    },
    {
     "name": "stdout",
     "output_type": "stream",
     "text": [
      "building tree 38 of 50\n",
      "building tree 39 of 50\n",
      "building tree 40 of 50\n",
      "building tree 41 of 50\n",
      "building tree 42 of 50\n",
      "building tree 43 of 50\n",
      "building tree 44 of 50\n",
      "building tree 45 of 50\n",
      "building tree 46 of 50\n",
      "building tree 47 of 50\n",
      "building tree 48 of 50\n",
      "building tree 49 of 50\n",
      "building tree 50 of 50\n"
     ]
    },
    {
     "name": "stderr",
     "output_type": "stream",
     "text": [
      "[Parallel(n_jobs=-1)]: Done  50 out of  50 | elapsed: 14.6min finished\n"
     ]
    }
   ],
   "source": [
    "from sklearn.ensemble import RandomForestRegressor\n",
    "\n",
    "for id in ['basic','basicv2','allfeat','text','within']:\n",
    "  for numsel in [9,16,25]:  \n",
    "    print('generating model_rf_{}_sel{}'.format(id,numsel))\n",
    "    print('keeping cols ', list(search_path_sfs[id][numsel]['feature_names']))\n",
    "    to_drop_cols= [col for col in X_train.columns.values if not col in list(search_path_sfs[id][numsel]['feature_names'])]\n",
    "    reg=RandomForestRegressor(verbose=2, n_jobs=-1, **best_params_rf['{}_sel{}'.format(id,numsel)])\n",
    "    reg.fit(X_trainval.drop(to_drop_cols,axis=1).to_numpy(), y_trainval)\n",
    "    joblib_filename = os.path.join(DATA_FOLDER,'model_rf_{}_sel{}.joblib'.format(id,numsel))\n",
    "    joblib.dump(reg, joblib_filename+'.bz2', compress=('bz2', 3))\n",
    "    \n",
    "    #pred_test = np.clip(reg.predict(X_test.drop(to_drop_cols,axis=1).to_numpy()), 0, 20)\n",
    "    #output_name = 'submission-rf-bestparams-features_{}_combination_{}.csv'.format(id,'sel{}'.format(numsel))\n",
    "    #write_predictions_by_array(pred_test[submissionidx2testidx], output_name)  \n"
   ]
  },
  {
   "cell_type": "markdown",
   "metadata": {},
   "source": [
    "Public LB performance:\n",
    "\n",
    "|Feature set / subset | sel9 | sel16 | sel25 |\n",
    "|---|---|---|---|\n",
    "|allfeat|  1.03695| 0.98305|0.993841 |\n",
    "|basic| 1.012312 | 1.011059| 1.003010 |\n",
    "|basicv2| 0.96716 | 0.99535| 0.99384 |\n",
    "|text|\n",
    "|within|\n",
    "| mean fusion (3 best, all sel)|-|- | 0.961783| \n",
    "| mean fusion (all features sets, all sel)|-| - | 0.981348| \n",
    "| mean fusion (3 best, all sel, rf+catboost)|-|- | 0.961669| \n",
    "| mean fusion (3 best, rf_allsel+catboost_sel25, )|-|- | 0.959445|\n",
    "| mean fusion (3 best, rf_allsel+catboost_sel25_balanced, )|-|- |0.960548|\n",
    "\n"
   ]
  },
  {
   "cell_type": "code",
   "execution_count": null,
   "metadata": {},
   "outputs": [],
   "source": [
    "subm = ['submission-rf-bestparams-features_{}_combination_sel25.csv'.format(id) for id in ['allfeat','basic','basicv2']]\n",
    "subm += ['submission-rf-bestparams-features_{}_combination_sel16.csv'.format(id) for id in ['allfeat','basic','basicv2']]\n",
    "subm += ['submission-rf-bestparams-features_{}_combination_sel9.csv'.format(id) for id in ['allfeat','basic','basicv2']]\n",
    "\n",
    "average_submissions(subm,'rf_3best_estparams')"
   ]
  },
  {
   "cell_type": "code",
   "execution_count": null,
   "metadata": {},
   "outputs": [],
   "source": [
    "subm = ['submission-rf-bestparams-features_{}_combination_sel25.csv'.format(id) for id in ['allfeat','basic','basicv2']]\n",
    "\n",
    "average_submissions(subm,'rf_3best_estparams')"
   ]
  },
  {
   "cell_type": "code",
   "execution_count": null,
   "metadata": {},
   "outputs": [],
   "source": [
    "subm = ['submission-rf-bestparams-features_{}_combination_sel25.csv'.format(id) for id in ['allfeat','basic','basicv2']]\n",
    "subm += ['submission-rf-bestparams-features_{}_combination_sel16.csv'.format(id) for id in ['allfeat','basic','basicv2']]\n",
    "subm += ['submission-rf-bestparams-features_{}_combination_sel9.csv'.format(id) for id in ['allfeat','basic','basicv2']]\n",
    "\n",
    "\n",
    "subm += ['submission-catboost-features_sel9_combination_{}.csv'.format(id) for id in ['allfeat','basic','basicv2']]\n",
    "subm += ['submission-catboost-bestparams-features_{}_combination_sel16.csv'.format(id) for id in ['allfeat','basic','basicv2']]\n",
    "subm += ['submission-catboost-features_{}_combination_sel25.csv'.format(id) for id in ['allfeat','basic','basicv2']]\n",
    "\n",
    "\n",
    "average_submissions(subm,'rf+catboost_3best_bestparams')"
   ]
  },
  {
   "cell_type": "code",
   "execution_count": null,
   "metadata": {},
   "outputs": [],
   "source": [
    "subm = ['submission-rf-bestparams-features_{}_combination_sel25.csv'.format(id) for id in ['allfeat','basic','basicv2']]\n",
    "subm += ['submission-rf-bestparams-features_{}_combination_sel16.csv'.format(id) for id in ['allfeat','basic','basicv2']]\n",
    "subm += ['submission-rf-bestparams-features_{}_combination_sel9.csv'.format(id) for id in ['allfeat','basic','basicv2']]\n",
    "\n",
    "\n",
    "subm += ['submission-catboost-features_{}_combination_sel25.csv'.format(id) for id in ['allfeat','basic','basicv2']]\n",
    "\n",
    "\n",
    "average_submissions(subm,'rf+catboost25_3best_bestparams')"
   ]
  },
  {
   "cell_type": "code",
   "execution_count": null,
   "metadata": {},
   "outputs": [],
   "source": [
    "subm = ['submission-average-rf_3best_bestparams.csv','submission-average-sel25_3best_bestparams.csv']\n",
    "\n",
    "average_submissions(subm,'rf_allsel+catboost25_3best_bestparams_balanced')"
   ]
  },
  {
   "cell_type": "code",
   "execution_count": null,
   "metadata": {},
   "outputs": [],
   "source": [
    "len(X_train.columns)"
   ]
  }
 ],
 "metadata": {
  "accelerator": "GPU",
  "colab": {
   "collapsed_sections": [],
   "name": "C1-hyperparameter-search-catboost.ipynb",
   "provenance": []
  },
  "kernelspec": {
   "display_name": "C1 kernel",
   "language": "python",
   "name": "c1env"
  },
  "language_info": {
   "codemirror_mode": {
    "name": "ipython",
    "version": 3
   },
   "file_extension": ".py",
   "mimetype": "text/x-python",
   "name": "python",
   "nbconvert_exporter": "python",
   "pygments_lexer": "ipython3",
   "version": "3.8.5"
  },
  "widgets": {
   "application/vnd.jupyter.widget-state+json": {
    "374185ce4ee84c03a10b5d1768a7b173": {
     "model_module": "@jupyter-widgets/base",
     "model_name": "LayoutModel",
     "state": {
      "_model_module": "@jupyter-widgets/base",
      "_model_module_version": "1.2.0",
      "_model_name": "LayoutModel",
      "_view_count": null,
      "_view_module": "@jupyter-widgets/base",
      "_view_module_version": "1.2.0",
      "_view_name": "LayoutView",
      "align_content": null,
      "align_items": null,
      "align_self": "stretch",
      "border": null,
      "bottom": null,
      "display": null,
      "flex": null,
      "flex_flow": null,
      "grid_area": null,
      "grid_auto_columns": null,
      "grid_auto_flow": null,
      "grid_auto_rows": null,
      "grid_column": null,
      "grid_gap": null,
      "grid_row": null,
      "grid_template_areas": null,
      "grid_template_columns": null,
      "grid_template_rows": null,
      "height": "500px",
      "justify_content": null,
      "justify_items": null,
      "left": null,
      "margin": null,
      "max_height": null,
      "max_width": null,
      "min_height": null,
      "min_width": null,
      "object_fit": null,
      "object_position": null,
      "order": null,
      "overflow": null,
      "overflow_x": null,
      "overflow_y": null,
      "padding": null,
      "right": null,
      "top": null,
      "visibility": null,
      "width": null
     }
    },
    "a75e8e1470f643d39d59c54eea73b1be": {
     "model_module": "@jupyter-widgets/base",
     "model_name": "LayoutModel",
     "state": {
      "_model_module": "@jupyter-widgets/base",
      "_model_module_version": "1.2.0",
      "_model_name": "LayoutModel",
      "_view_count": null,
      "_view_module": "@jupyter-widgets/base",
      "_view_module_version": "1.2.0",
      "_view_name": "LayoutView",
      "align_content": null,
      "align_items": null,
      "align_self": "stretch",
      "border": null,
      "bottom": null,
      "display": null,
      "flex": null,
      "flex_flow": null,
      "grid_area": null,
      "grid_auto_columns": null,
      "grid_auto_flow": null,
      "grid_auto_rows": null,
      "grid_column": null,
      "grid_gap": null,
      "grid_row": null,
      "grid_template_areas": null,
      "grid_template_columns": null,
      "grid_template_rows": null,
      "height": "500px",
      "justify_content": null,
      "justify_items": null,
      "left": null,
      "margin": null,
      "max_height": null,
      "max_width": null,
      "min_height": null,
      "min_width": null,
      "object_fit": null,
      "object_position": null,
      "order": null,
      "overflow": null,
      "overflow_x": null,
      "overflow_y": null,
      "padding": null,
      "right": null,
      "top": null,
      "visibility": null,
      "width": null
     }
    },
    "b0ea7ccf7ea84ddba738fa5209c882c7": {
     "model_module": "@jupyter-widgets/base",
     "model_name": "LayoutModel",
     "state": {
      "_model_module": "@jupyter-widgets/base",
      "_model_module_version": "1.2.0",
      "_model_name": "LayoutModel",
      "_view_count": null,
      "_view_module": "@jupyter-widgets/base",
      "_view_module_version": "1.2.0",
      "_view_name": "LayoutView",
      "align_content": null,
      "align_items": null,
      "align_self": "stretch",
      "border": null,
      "bottom": null,
      "display": null,
      "flex": null,
      "flex_flow": null,
      "grid_area": null,
      "grid_auto_columns": null,
      "grid_auto_flow": null,
      "grid_auto_rows": null,
      "grid_column": null,
      "grid_gap": null,
      "grid_row": null,
      "grid_template_areas": null,
      "grid_template_columns": null,
      "grid_template_rows": null,
      "height": "500px",
      "justify_content": null,
      "justify_items": null,
      "left": null,
      "margin": null,
      "max_height": null,
      "max_width": null,
      "min_height": null,
      "min_width": null,
      "object_fit": null,
      "object_position": null,
      "order": null,
      "overflow": null,
      "overflow_x": null,
      "overflow_y": null,
      "padding": null,
      "right": null,
      "top": null,
      "visibility": null,
      "width": null
     }
    },
    "bd6f57ba4c6f4dca9b4db6db92ee741e": {
     "model_module": "@jupyter-widgets/base",
     "model_name": "DOMWidgetModel",
     "state": {
      "_dom_classes": [],
      "_model_module": "@jupyter-widgets/base",
      "_model_module_version": "1.2.0",
      "_model_name": "DOMWidgetModel",
      "_view_count": null,
      "_view_module": "catboost_module",
      "_view_module_version": "",
      "_view_name": "CatboostIpythonWidgetView",
      "data": {
       "catboost_info": {
        "content": {
         "data": {
          "iterations": [
           {
            "iteration": 0,
            "learn": [
             1.123816308
            ],
            "parameters": [
             {
              "depth": 4,
              "iterations": 30,
              "l2_leaf_reg": 0,
              "learning_rate": 0.01,
              "task_type": "GPU"
             }
            ],
            "passed_time": 2.473203443,
            "remaining_time": 1184.664449,
            "test": [
             1.453284867
            ]
           },
           {
            "iteration": 1,
            "learn": [
             1.056237716
            ],
            "parameters": [
             {
              "depth": 4,
              "iterations": 30,
              "l2_leaf_reg": 0,
              "learning_rate": 0.03,
              "task_type": "GPU"
             }
            ],
            "passed_time": 4.228772083,
            "remaining_time": 1010.676528,
            "test": [
             1.414045465
            ]
           },
           {
            "iteration": 2,
            "learn": [
             0.9714369843
            ],
            "parameters": [
             {
              "depth": 4,
              "iterations": 30,
              "l2_leaf_reg": 0,
              "learning_rate": 0.1,
              "task_type": "GPU"
             }
            ],
            "passed_time": 5.987372085,
            "remaining_time": 951.9921615,
            "test": [
             1.3706624
            ]
           },
           {
            "iteration": 3,
            "learn": [
             0.932698164
            ],
            "parameters": [
             {
              "depth": 4,
              "iterations": 30,
              "l2_leaf_reg": 0,
              "learning_rate": 0.3,
              "task_type": "GPU"
             }
            ],
            "passed_time": 7.742056382,
            "remaining_time": 921.3047094,
            "test": [
             1.357476795
            ]
           },
           {
            "iteration": 4,
            "learn": [
             1.121334574
            ],
            "parameters": [
             {
              "depth": 4,
              "iterations": 30,
              "l2_leaf_reg": 0.3,
              "learning_rate": 0.01,
              "task_type": "GPU"
             }
            ],
            "passed_time": 9.483288762,
            "remaining_time": 900.9124324,
            "test": [
             1.452470606
            ]
           },
           {
            "iteration": 5,
            "learn": [
             1.055823632
            ],
            "parameters": [
             {
              "depth": 4,
              "iterations": 30,
              "l2_leaf_reg": 0.3,
              "learning_rate": 0.03,
              "task_type": "GPU"
             }
            ],
            "passed_time": 11.23500173,
            "remaining_time": 887.5651363,
            "test": [
             1.413380488
            ]
           },
           {
            "iteration": 6,
            "learn": [
             0.9776968246
            ],
            "parameters": [
             {
              "depth": 4,
              "iterations": 30,
              "l2_leaf_reg": 0.3,
              "learning_rate": 0.1,
              "task_type": "GPU"
             }
            ],
            "passed_time": 12.96799993,
            "remaining_time": 876.2662811,
            "test": [
             1.37317485
            ]
           },
           {
            "iteration": 7,
            "learn": [
             0.9283161514
            ],
            "parameters": [
             {
              "depth": 4,
              "iterations": 30,
              "l2_leaf_reg": 0.3,
              "learning_rate": 0.3,
              "task_type": "GPU"
             }
            ],
            "passed_time": 14.68324652,
            "remaining_time": 866.3115447,
            "test": [
             1.350813143
            ]
           },
           {
            "iteration": 8,
            "learn": [
             1.121879606
            ],
            "parameters": [
             {
              "depth": 4,
              "iterations": 30,
              "l2_leaf_reg": 1,
              "learning_rate": 0.01,
              "task_type": "GPU"
             }
            ],
            "passed_time": 16.38811743,
            "remaining_time": 857.6448123,
            "test": [
             1.452446362
            ]
           },
           {
            "iteration": 9,
            "learn": [
             1.051050483
            ],
            "parameters": [
             {
              "depth": 4,
              "iterations": 30,
              "l2_leaf_reg": 1,
              "learning_rate": 0.03,
              "task_type": "GPU"
             }
            ],
            "passed_time": 18.12700408,
            "remaining_time": 851.9691918,
            "test": [
             1.410559599
            ]
           },
           {
            "iteration": 10,
            "learn": [
             0.9678320536
            ],
            "parameters": [
             {
              "depth": 4,
              "iterations": 30,
              "l2_leaf_reg": 1,
              "learning_rate": 0.1,
              "task_type": "GPU"
             }
            ],
            "passed_time": 19.84190564,
            "remaining_time": 845.986704,
            "test": [
             1.36988255
            ]
           },
           {
            "iteration": 11,
            "learn": [
             0.9321844836
            ],
            "parameters": [
             {
              "depth": 4,
              "iterations": 30,
              "l2_leaf_reg": 1,
              "learning_rate": 0.3,
              "task_type": "GPU"
             }
            ],
            "passed_time": 21.54851141,
            "remaining_time": 840.3919449,
            "test": [
             1.350919421
            ]
           },
           {
            "iteration": 12,
            "learn": [
             1.12277616
            ],
            "parameters": [
             {
              "depth": 4,
              "iterations": 30,
              "l2_leaf_reg": 3,
              "learning_rate": 0.01,
              "task_type": "GPU"
             }
            ],
            "passed_time": 23.24656952,
            "remaining_time": 835.0883051,
            "test": [
             1.452999259
            ]
           },
           {
            "iteration": 13,
            "learn": [
             1.056722983
            ],
            "parameters": [
             {
              "depth": 4,
              "iterations": 30,
              "l2_leaf_reg": 3,
              "learning_rate": 0.03,
              "task_type": "GPU"
             }
            ],
            "passed_time": 24.99332105,
            "remaining_time": 831.9205434,
            "test": [
             1.41356441
            ]
           },
           {
            "iteration": 14,
            "learn": [
             0.9839064853
            ],
            "parameters": [
             {
              "depth": 4,
              "iterations": 30,
              "l2_leaf_reg": 3,
              "learning_rate": 0.1,
              "task_type": "GPU"
             }
            ],
            "passed_time": 26.69872459,
            "remaining_time": 827.6604623,
            "test": [
             1.373976179
            ]
           },
           {
            "iteration": 15,
            "learn": [
             0.9237865405
            ],
            "parameters": [
             {
              "depth": 4,
              "iterations": 30,
              "l2_leaf_reg": 3,
              "learning_rate": 0.3,
              "task_type": "GPU"
             }
            ],
            "passed_time": 28.42824732,
            "remaining_time": 824.4191724,
            "test": [
             1.343611374
            ]
           },
           {
            "iteration": 16,
            "learn": [
             1.124999002
            ],
            "parameters": [
             {
              "depth": 4,
              "iterations": 30,
              "l2_leaf_reg": 10,
              "learning_rate": 0.01,
              "task_type": "GPU"
             }
            ],
            "passed_time": 30.17644113,
            "remaining_time": 821.8642497,
            "test": [
             1.454239293
            ]
           },
           {
            "iteration": 17,
            "learn": [
             1.056410525
            ],
            "parameters": [
             {
              "depth": 4,
              "iterations": 30,
              "l2_leaf_reg": 10,
              "learning_rate": 0.03,
              "task_type": "GPU"
             }
            ],
            "passed_time": 31.91984135,
            "remaining_time": 819.2759279,
            "test": [
             1.413779201
            ]
           },
           {
            "iteration": 18,
            "learn": [
             0.9707354325
            ],
            "parameters": [
             {
              "depth": 4,
              "iterations": 30,
              "l2_leaf_reg": 10,
              "learning_rate": 0.1,
              "task_type": "GPU"
             }
            ],
            "passed_time": 33.64681971,
            "remaining_time": 816.3780992,
            "test": [
             1.371391826
            ]
           },
           {
            "iteration": 19,
            "learn": [
             0.9331500898
            ],
            "parameters": [
             {
              "depth": 4,
              "iterations": 30,
              "l2_leaf_reg": 10,
              "learning_rate": 0.3,
              "task_type": "GPU"
             }
            ],
            "passed_time": 35.37278078,
            "remaining_time": 813.5739578,
            "test": [
             1.352320753
            ]
           },
           {
            "iteration": 20,
            "learn": [
             1.050098911
            ],
            "parameters": [
             {
              "depth": 4,
              "iterations": 100,
              "l2_leaf_reg": 0,
              "learning_rate": 0.01,
              "task_type": "GPU"
             }
            ],
            "passed_time": 39.18319401,
            "remaining_time": 856.432669,
            "test": [
             1.410222513
            ]
           },
           {
            "iteration": 21,
            "learn": [
             0.971487698
            ],
            "parameters": [
             {
              "depth": 4,
              "iterations": 100,
              "l2_leaf_reg": 0,
              "learning_rate": 0.03,
              "task_type": "GPU"
             }
            ],
            "passed_time": 42.92502781,
            "remaining_time": 893.6210336,
            "test": [
             1.37238988
            ]
           },
           {
            "iteration": 22,
            "learn": [
             0.9309565943
            ],
            "parameters": [
             {
              "depth": 4,
              "iterations": 100,
              "l2_leaf_reg": 0,
              "learning_rate": 0.1,
              "task_type": "GPU"
             }
            ],
            "passed_time": 46.64008985,
            "remaining_time": 926.7183071,
            "test": [
             1.352941523
            ]
           },
           {
            "iteration": 23,
            "learn": [
             0.9224029412
            ],
            "parameters": [
             {
              "depth": 4,
              "iterations": 100,
              "l2_leaf_reg": 0,
              "learning_rate": 0.3,
              "task_type": "GPU"
             }
            ],
            "passed_time": 50.33513678,
            "remaining_time": 956.3675988,
            "test": [
             1.348607955
            ]
           },
           {
            "iteration": 24,
            "learn": [
             1.045946717
            ],
            "parameters": [
             {
              "depth": 4,
              "iterations": 100,
              "l2_leaf_reg": 0.3,
              "learning_rate": 0.01,
              "task_type": "GPU"
             }
            ],
            "passed_time": 54.06465567,
            "remaining_time": 983.9767332,
            "test": [
             1.408431786
            ]
           },
           {
            "iteration": 25,
            "learn": [
             0.9733323519
            ],
            "parameters": [
             {
              "depth": 4,
              "iterations": 100,
              "l2_leaf_reg": 0.3,
              "learning_rate": 0.03,
              "task_type": "GPU"
             }
            ],
            "passed_time": 57.83136592,
            "remaining_time": 1009.82462,
            "test": [
             1.371971066
            ]
           },
           {
            "iteration": 26,
            "learn": [
             0.9322671746
            ],
            "parameters": [
             {
              "depth": 4,
              "iterations": 100,
              "l2_leaf_reg": 0.3,
              "learning_rate": 0.1,
              "task_type": "GPU"
             }
            ],
            "passed_time": 61.57699343,
            "remaining_time": 1033.125112,
            "test": [
             1.350110367
            ]
           },
           {
            "iteration": 27,
            "learn": [
             0.9163006673
            ],
            "parameters": [
             {
              "depth": 4,
              "iterations": 100,
              "l2_leaf_reg": 0.3,
              "learning_rate": 0.3,
              "task_type": "GPU"
             }
            ],
            "passed_time": 65.23933723,
            "remaining_time": 1053.149301,
            "test": [
             1.337994566
            ]
           },
           {
            "iteration": 28,
            "learn": [
             1.044060625
            ],
            "parameters": [
             {
              "depth": 4,
              "iterations": 100,
              "l2_leaf_reg": 1,
              "learning_rate": 0.01,
              "task_type": "GPU"
             }
            ],
            "passed_time": 69.00834598,
            "remaining_time": 1073.19876,
            "test": [
             1.407946364
            ]
           },
           {
            "iteration": 29,
            "learn": [
             0.9723640414
            ],
            "parameters": [
             {
              "depth": 4,
              "iterations": 100,
              "l2_leaf_reg": 1,
              "learning_rate": 0.03,
              "task_type": "GPU"
             }
            ],
            "passed_time": 72.76754502,
            "remaining_time": 1091.513175,
            "test": [
             1.371651463
            ]
           },
           {
            "iteration": 30,
            "learn": [
             0.9303246194
            ],
            "parameters": [
             {
              "depth": 4,
              "iterations": 100,
              "l2_leaf_reg": 1,
              "learning_rate": 0.1,
              "task_type": "GPU"
             }
            ],
            "passed_time": 76.47910859,
            "remaining_time": 1107.71354,
            "test": [
             1.352760405
            ]
           },
           {
            "iteration": 31,
            "learn": [
             0.9187586381
            ],
            "parameters": [
             {
              "depth": 4,
              "iterations": 100,
              "l2_leaf_reg": 1,
              "learning_rate": 0.3,
              "task_type": "GPU"
             }
            ],
            "passed_time": 80.1820442,
            "remaining_time": 1122.548619,
            "test": [
             1.341127995
            ]
           },
           {
            "iteration": 32,
            "learn": [
             1.044551549
            ],
            "parameters": [
             {
              "depth": 4,
              "iterations": 100,
              "l2_leaf_reg": 3,
              "learning_rate": 0.01,
              "task_type": "GPU"
             }
            ],
            "passed_time": 83.87195574,
            "remaining_time": 1136.083764,
            "test": [
             1.407894933
            ]
           },
           {
            "iteration": 33,
            "learn": [
             0.9726636434
            ],
            "parameters": [
             {
              "depth": 4,
              "iterations": 100,
              "l2_leaf_reg": 3,
              "learning_rate": 0.03,
              "task_type": "GPU"
             }
            ],
            "passed_time": 87.56448273,
            "remaining_time": 1148.639979,
            "test": [
             1.37118594
            ]
           },
           {
            "iteration": 34,
            "learn": [
             0.9282910226
            ],
            "parameters": [
             {
              "depth": 4,
              "iterations": 100,
              "l2_leaf_reg": 3,
              "learning_rate": 0.1,
              "task_type": "GPU"
             }
            ],
            "passed_time": 91.33893064,
            "remaining_time": 1161.309261,
            "test": [
             1.352000292
            ]
           },
           {
            "iteration": 35,
            "learn": [
             0.9179844193
            ],
            "parameters": [
             {
              "depth": 4,
              "iterations": 100,
              "l2_leaf_reg": 3,
              "learning_rate": 0.3,
              "task_type": "GPU"
             }
            ],
            "passed_time": 95.04079882,
            "remaining_time": 1172.169852,
            "test": [
             1.337191678
            ]
           },
           {
            "iteration": 36,
            "learn": [
             1.043239352
            ],
            "parameters": [
             {
              "depth": 4,
              "iterations": 100,
              "l2_leaf_reg": 10,
              "learning_rate": 0.01,
              "task_type": "GPU"
             }
            ],
            "passed_time": 98.7654165,
            "remaining_time": 1182.515662,
            "test": [
             1.408199781
            ]
           },
           {
            "iteration": 37,
            "learn": [
             0.9765744473
            ],
            "parameters": [
             {
              "depth": 4,
              "iterations": 100,
              "l2_leaf_reg": 10,
              "learning_rate": 0.03,
              "task_type": "GPU"
             }
            ],
            "passed_time": 102.560825,
            "remaining_time": 1192.944333,
            "test": [
             1.373019232
            ]
           },
           {
            "iteration": 38,
            "learn": [
             0.9298208934
            ],
            "parameters": [
             {
              "depth": 4,
              "iterations": 100,
              "l2_leaf_reg": 10,
              "learning_rate": 0.1,
              "task_type": "GPU"
             }
            ],
            "passed_time": 106.3190026,
            "remaining_time": 1202.222568,
            "test": [
             1.351377157
            ]
           },
           {
            "iteration": 39,
            "learn": [
             0.9246499244
            ],
            "parameters": [
             {
              "depth": 4,
              "iterations": 100,
              "l2_leaf_reg": 10,
              "learning_rate": 0.3,
              "task_type": "GPU"
             }
            ],
            "passed_time": 110.0376114,
            "remaining_time": 1210.413725,
            "test": [
             1.345895553
            ]
           },
           {
            "iteration": 40,
            "learn": [
             0.9741284146
            ],
            "parameters": [
             {
              "depth": 4,
              "iterations": 300,
              "l2_leaf_reg": 0,
              "learning_rate": 0.01,
              "task_type": "GPU"
             }
            ],
            "passed_time": 119.5226834,
            "remaining_time": 1279.767269,
            "test": [
             1.372297828
            ]
           },
           {
            "iteration": 41,
            "learn": [
             0.929517768
            ],
            "parameters": [
             {
              "depth": 4,
              "iterations": 300,
              "l2_leaf_reg": 0,
              "learning_rate": 0.03,
              "task_type": "GPU"
             }
            ],
            "passed_time": 129.1732273,
            "remaining_time": 1347.092227,
            "test": [
             1.352053308
            ]
           },
           {
            "iteration": 42,
            "learn": [
             0.921419297
            ],
            "parameters": [
             {
              "depth": 4,
              "iterations": 300,
              "l2_leaf_reg": 0,
              "learning_rate": 0.1,
              "task_type": "GPU"
             }
            ],
            "passed_time": 138.6858181,
            "remaining_time": 1409.434942,
            "test": [
             1.340914268
            ]
           },
           {
            "iteration": 43,
            "learn": [
             0.8989843469
            ],
            "parameters": [
             {
              "depth": 4,
              "iterations": 300,
              "l2_leaf_reg": 0,
              "learning_rate": 0.3,
              "task_type": "GPU"
             }
            ],
            "passed_time": 148.1643541,
            "remaining_time": 1468.174054,
            "test": [
             1.313634224
            ]
           },
           {
            "iteration": 44,
            "learn": [
             0.9750544131
            ],
            "parameters": [
             {
              "depth": 4,
              "iterations": 300,
              "l2_leaf_reg": 0.3,
              "learning_rate": 0.01,
              "task_type": "GPU"
             }
            ],
            "passed_time": 157.6839448,
            "remaining_time": 1524.278133,
            "test": [
             1.373072882
            ]
           },
           {
            "iteration": 45,
            "learn": [
             0.9292036923
            ],
            "parameters": [
             {
              "depth": 4,
              "iterations": 300,
              "l2_leaf_reg": 0.3,
              "learning_rate": 0.03,
              "task_type": "GPU"
             }
            ],
            "passed_time": 167.2519996,
            "remaining_time": 1577.986257,
            "test": [
             1.351387673
            ]
           },
           {
            "iteration": 46,
            "learn": [
             0.9237778593
            ],
            "parameters": [
             {
              "depth": 4,
              "iterations": 300,
              "l2_leaf_reg": 0.3,
              "learning_rate": 0.1,
              "task_type": "GPU"
             }
            ],
            "passed_time": 176.7206038,
            "remaining_time": 1628.085562,
            "test": [
             1.34905602
            ]
           },
           {
            "iteration": 47,
            "learn": [
             0.8985436986
            ],
            "parameters": [
             {
              "depth": 4,
              "iterations": 300,
              "l2_leaf_reg": 0.3,
              "learning_rate": 0.3,
              "task_type": "GPU"
             }
            ],
            "passed_time": 186.2959952,
            "remaining_time": 1676.663957,
            "test": [
             1.315430045
            ]
           },
           {
            "iteration": 48,
            "learn": [
             0.9723959561
            ],
            "parameters": [
             {
              "depth": 4,
              "iterations": 300,
              "l2_leaf_reg": 1,
              "learning_rate": 0.01,
              "task_type": "GPU"
             }
            ],
            "passed_time": 195.8091988,
            "remaining_time": 1722.321728,
            "test": [
             1.371816758
            ]
           },
           {
            "iteration": 49,
            "learn": [
             0.929988177
            ],
            "parameters": [
             {
              "depth": 4,
              "iterations": 300,
              "l2_leaf_reg": 1,
              "learning_rate": 0.03,
              "task_type": "GPU"
             }
            ],
            "passed_time": 205.4202563,
            "remaining_time": 1766.614204,
            "test": [
             1.352813854
            ]
           },
           {
            "iteration": 50,
            "learn": [
             0.9256998669
            ],
            "parameters": [
             {
              "depth": 4,
              "iterations": 300,
              "l2_leaf_reg": 1,
              "learning_rate": 0.1,
              "task_type": "GPU"
             }
            ],
            "passed_time": 214.871588,
            "remaining_time": 1807.44924,
            "test": [
             1.349839697
            ]
           },
           {
            "iteration": 51,
            "learn": [
             0.9032716363
            ],
            "parameters": [
             {
              "depth": 4,
              "iterations": 300,
              "l2_leaf_reg": 1,
              "learning_rate": 0.3,
              "task_type": "GPU"
             }
            ],
            "passed_time": 224.4288908,
            "remaining_time": 1847.222409,
            "test": [
             1.323135692
            ]
           },
           {
            "iteration": 52,
            "learn": [
             0.9726683164
            ],
            "parameters": [
             {
              "depth": 4,
              "iterations": 300,
              "l2_leaf_reg": 3,
              "learning_rate": 0.01,
              "task_type": "GPU"
             }
            ],
            "passed_time": 233.9265823,
            "remaining_time": 1884.653786,
            "test": [
             1.372095734
            ]
           },
           {
            "iteration": 53,
            "learn": [
             0.929779145
            ],
            "parameters": [
             {
              "depth": 4,
              "iterations": 300,
              "l2_leaf_reg": 3,
              "learning_rate": 0.03,
              "task_type": "GPU"
             }
            ],
            "passed_time": 243.4116163,
            "remaining_time": 1920.247196,
            "test": [
             1.352480376
            ]
           },
           {
            "iteration": 54,
            "learn": [
             0.9229120745
            ],
            "parameters": [
             {
              "depth": 4,
              "iterations": 300,
              "l2_leaf_reg": 3,
              "learning_rate": 0.1,
              "task_type": "GPU"
             }
            ],
            "passed_time": 252.7971204,
            "remaining_time": 1953.432294,
            "test": [
             1.34674089
            ]
           },
           {
            "iteration": 55,
            "learn": [
             0.9050393782
            ],
            "parameters": [
             {
              "depth": 4,
              "iterations": 300,
              "l2_leaf_reg": 3,
              "learning_rate": 0.3,
              "task_type": "GPU"
             }
            ],
            "passed_time": 262.385114,
            "remaining_time": 1986.630149,
            "test": [
             1.320628526
            ]
           },
           {
            "iteration": 56,
            "learn": [
             0.9714334885
            ],
            "parameters": [
             {
              "depth": 4,
              "iterations": 300,
              "l2_leaf_reg": 10,
              "learning_rate": 0.01,
              "task_type": "GPU"
             }
            ],
            "passed_time": 271.9733159,
            "remaining_time": 2018.328291,
            "test": [
             1.372051717
            ]
           },
           {
            "iteration": 57,
            "learn": [
             0.9299217728
            ],
            "parameters": [
             {
              "depth": 4,
              "iterations": 300,
              "l2_leaf_reg": 10,
              "learning_rate": 0.03,
              "task_type": "GPU"
             }
            ],
            "passed_time": 281.5583559,
            "remaining_time": 2048.579762,
            "test": [
             1.352544035
            ]
           },
           {
            "iteration": 58,
            "learn": [
             0.9189576694
            ],
            "parameters": [
             {
              "depth": 4,
              "iterations": 300,
              "l2_leaf_reg": 10,
              "learning_rate": 0.1,
              "task_type": "GPU"
             }
            ],
            "passed_time": 291.0714108,
            "remaining_time": 2076.967186,
            "test": [
             1.341117321
            ]
           },
           {
            "iteration": 59,
            "learn": [
             0.9030177448
            ],
            "parameters": [
             {
              "depth": 4,
              "iterations": 300,
              "l2_leaf_reg": 10,
              "learning_rate": 0.3,
              "task_type": "GPU"
             }
            ],
            "passed_time": 300.5914036,
            "remaining_time": 2104.139825,
            "test": [
             1.318470293
            ]
           },
           {
            "iteration": 60,
            "learn": [
             0.9280718697
            ],
            "parameters": [
             {
              "depth": 4,
              "iterations": 1000,
              "l2_leaf_reg": 0,
              "learning_rate": 0.01,
              "task_type": "GPU"
             }
            ],
            "passed_time": 330.6256542,
            "remaining_time": 2271.018838,
            "test": [
             1.351576938
            ]
           },
           {
            "iteration": 61,
            "learn": [
             0.9251864797
            ],
            "parameters": [
             {
              "depth": 4,
              "iterations": 1000,
              "l2_leaf_reg": 0,
              "learning_rate": 0.03,
              "task_type": "GPU"
             }
            ],
            "passed_time": 360.3231813,
            "remaining_time": 2429.275642,
            "test": [
             1.341568589
            ]
           },
           {
            "iteration": 62,
            "learn": [
             0.9013138589
            ],
            "parameters": [
             {
              "depth": 4,
              "iterations": 1000,
              "l2_leaf_reg": 0,
              "learning_rate": 0.1,
              "task_type": "GPU"
             }
            ],
            "passed_time": 389.9974022,
            "remaining_time": 2581.411377,
            "test": [
             1.32315117
            ]
           },
           {
            "iteration": 63,
            "learn": [
             0.8883425527
            ],
            "parameters": [
             {
              "depth": 4,
              "iterations": 1000,
              "l2_leaf_reg": 0,
              "learning_rate": 0.3,
              "task_type": "GPU"
             }
            ],
            "passed_time": 419.3811861,
            "remaining_time": 2725.977709,
            "test": [
             1.31265641
            ]
           },
           {
            "iteration": 64,
            "learn": [
             0.92886001
            ],
            "parameters": [
             {
              "depth": 4,
              "iterations": 1000,
              "l2_leaf_reg": 0.3,
              "learning_rate": 0.01,
              "task_type": "GPU"
             }
            ],
            "passed_time": 449.2590517,
            "remaining_time": 2868.346253,
            "test": [
             1.351353574
            ]
           },
           {
            "iteration": 65,
            "learn": [
             0.9235981943
            ],
            "parameters": [
             {
              "depth": 4,
              "iterations": 1000,
              "l2_leaf_reg": 0.3,
              "learning_rate": 0.03,
              "task_type": "GPU"
             }
            ],
            "passed_time": 478.6983803,
            "remaining_time": 3002.744386,
            "test": [
             1.345378792
            ]
           },
           {
            "iteration": 66,
            "learn": [
             0.9031066641
            ],
            "parameters": [
             {
              "depth": 4,
              "iterations": 1000,
              "l2_leaf_reg": 0.3,
              "learning_rate": 0.1,
              "task_type": "GPU"
             }
            ],
            "passed_time": 508.3853811,
            "remaining_time": 3133.778543,
            "test": [
             1.319448272
            ]
           },
           {
            "iteration": 67,
            "learn": [
             0.8845357565
            ],
            "parameters": [
             {
              "depth": 4,
              "iterations": 1000,
              "l2_leaf_reg": 0.3,
              "learning_rate": 0.3,
              "task_type": "GPU"
             }
            ],
            "passed_time": 538.0692574,
            "remaining_time": 3260.066677,
            "test": [
             1.298637555
            ]
           },
           {
            "iteration": 68,
            "learn": [
             0.9275754252
            ],
            "parameters": [
             {
              "depth": 4,
              "iterations": 1000,
              "l2_leaf_reg": 1,
              "learning_rate": 0.01,
              "task_type": "GPU"
             }
            ],
            "passed_time": 567.9470623,
            "remaining_time": 3382.989023,
            "test": [
             1.352008098
            ]
           },
           {
            "iteration": 69,
            "learn": [
             0.9216072948
            ],
            "parameters": [
             {
              "depth": 4,
              "iterations": 1000,
              "l2_leaf_reg": 1,
              "learning_rate": 0.03,
              "task_type": "GPU"
             }
            ],
            "passed_time": 597.5260864,
            "remaining_time": 3499.795649,
            "test": [
             1.343399519
            ]
           },
           {
            "iteration": 70,
            "learn": [
             0.9003481998
            ],
            "parameters": [
             {
              "depth": 4,
              "iterations": 1000,
              "l2_leaf_reg": 1,
              "learning_rate": 0.1,
              "task_type": "GPU"
             }
            ],
            "passed_time": 627.5377811,
            "remaining_time": 3614.971161,
            "test": [
             1.318237
            ]
           },
           {
            "iteration": 71,
            "learn": [
             0.8835281671
            ],
            "parameters": [
             {
              "depth": 4,
              "iterations": 1000,
              "l2_leaf_reg": 1,
              "learning_rate": 0.3,
              "task_type": "GPU"
             }
            ],
            "passed_time": 657.3802775,
            "remaining_time": 3725.154906,
            "test": [
             1.303919456
            ]
           },
           {
            "iteration": 72,
            "learn": [
             0.9284804987
            ],
            "parameters": [
             {
              "depth": 4,
              "iterations": 1000,
              "l2_leaf_reg": 3,
              "learning_rate": 0.01,
              "task_type": "GPU"
             }
            ],
            "passed_time": 687.101522,
            "remaining_time": 3830.826294,
            "test": [
             1.352813545
            ]
           },
           {
            "iteration": 73,
            "learn": [
             0.9215356946
            ],
            "parameters": [
             {
              "depth": 4,
              "iterations": 1000,
              "l2_leaf_reg": 3,
              "learning_rate": 0.03,
              "task_type": "GPU"
             }
            ],
            "passed_time": 716.5999849,
            "remaining_time": 3931.616134,
            "test": [
             1.347653928
            ]
           },
           {
            "iteration": 74,
            "learn": [
             0.9040236365
            ],
            "parameters": [
             {
              "depth": 4,
              "iterations": 1000,
              "l2_leaf_reg": 3,
              "learning_rate": 0.1,
              "task_type": "GPU"
             }
            ],
            "passed_time": 746.2678931,
            "remaining_time": 4029.846623,
            "test": [
             1.325332765
            ]
           },
           {
            "iteration": 75,
            "learn": [
             0.8853945764
            ],
            "parameters": [
             {
              "depth": 4,
              "iterations": 1000,
              "l2_leaf_reg": 3,
              "learning_rate": 0.3,
              "task_type": "GPU"
             }
            ],
            "passed_time": 775.9971836,
            "remaining_time": 4125.03766,
            "test": [
             1.312578439
            ]
           },
           {
            "iteration": 76,
            "learn": [
             0.928123996
            ],
            "parameters": [
             {
              "depth": 4,
              "iterations": 1000,
              "l2_leaf_reg": 10,
              "learning_rate": 0.01,
              "task_type": "GPU"
             }
            ],
            "passed_time": 805.8482712,
            "remaining_time": 4217.621471,
            "test": [
             1.351315067
            ]
           },
           {
            "iteration": 77,
            "learn": [
             0.9220982271
            ],
            "parameters": [
             {
              "depth": 4,
              "iterations": 1000,
              "l2_leaf_reg": 10,
              "learning_rate": 0.03,
              "task_type": "GPU"
             }
            ],
            "passed_time": 835.3731132,
            "remaining_time": 4305.384507,
            "test": [
             1.344017257
            ]
           },
           {
            "iteration": 78,
            "learn": [
             0.9027413563
            ],
            "parameters": [
             {
              "depth": 4,
              "iterations": 1000,
              "l2_leaf_reg": 10,
              "learning_rate": 0.1,
              "task_type": "GPU"
             }
            ],
            "passed_time": 865.2247278,
            "remaining_time": 4391.83691,
            "test": [
             1.31975827
            ]
           },
           {
            "iteration": 79,
            "learn": [
             0.890181907
            ],
            "parameters": [
             {
              "depth": 4,
              "iterations": 1000,
              "l2_leaf_reg": 10,
              "learning_rate": 0.3,
              "task_type": "GPU"
             }
            ],
            "passed_time": 894.995225,
            "remaining_time": 4474.976125,
            "test": [
             1.314424115
            ]
           },
           {
            "iteration": 80,
            "learn": [
             1.11845573
            ],
            "parameters": [
             {
              "depth": 5,
              "iterations": 30,
              "l2_leaf_reg": 0,
              "learning_rate": 0.01,
              "task_type": "GPU"
             }
            ],
            "passed_time": 896.7950065,
            "remaining_time": 4417.545773,
            "test": [
             1.451556193
            ]
           },
           {
            "iteration": 81,
            "learn": [
             1.046145896
            ],
            "parameters": [
             {
              "depth": 5,
              "iterations": 30,
              "l2_leaf_reg": 0,
              "learning_rate": 0.03,
              "task_type": "GPU"
             }
            ],
            "passed_time": 898.6173999,
            "remaining_time": 4361.582014,
            "test": [
             1.410480558
            ]
           },
           {
            "iteration": 82,
            "learn": [
             0.956406169
            ],
            "parameters": [
             {
              "depth": 5,
              "iterations": 30,
              "l2_leaf_reg": 0,
              "learning_rate": 0.1,
              "task_type": "GPU"
             }
            ],
            "passed_time": 900.4172856,
            "remaining_time": 4306.815209,
            "test": [
             1.368205592
            ]
           },
           {
            "iteration": 83,
            "learn": [
             0.9154036695
            ],
            "parameters": [
             {
              "depth": 5,
              "iterations": 30,
              "l2_leaf_reg": 0,
              "learning_rate": 0.3,
              "task_type": "GPU"
             }
            ],
            "passed_time": 902.1880895,
            "remaining_time": 4253.172422,
            "test": [
             1.33543056
            ]
           },
           {
            "iteration": 84,
            "learn": [
             1.120742522
            ],
            "parameters": [
             {
              "depth": 5,
              "iterations": 30,
              "l2_leaf_reg": 0.3,
              "learning_rate": 0.01,
              "task_type": "GPU"
             }
            ],
            "passed_time": 903.9605689,
            "remaining_time": 4200.757938,
            "test": [
             1.452387586
            ]
           },
           {
            "iteration": 85,
            "learn": [
             1.04525089
            ],
            "parameters": [
             {
              "depth": 5,
              "iterations": 30,
              "l2_leaf_reg": 0.3,
              "learning_rate": 0.03,
              "task_type": "GPU"
             }
            ],
            "passed_time": 905.7832725,
            "remaining_time": 4149.751272,
            "test": [
             1.410271043
            ]
           },
           {
            "iteration": 86,
            "learn": [
             0.9542194579
            ],
            "parameters": [
             {
              "depth": 5,
              "iterations": 30,
              "l2_leaf_reg": 0.3,
              "learning_rate": 0.1,
              "task_type": "GPU"
             }
            ],
            "passed_time": 907.5934675,
            "remaining_time": 4099.818767,
            "test": [
             1.366719556
            ]
           },
           {
            "iteration": 87,
            "learn": [
             0.9180310576
            ],
            "parameters": [
             {
              "depth": 5,
              "iterations": 30,
              "l2_leaf_reg": 0.3,
              "learning_rate": 0.3,
              "task_type": "GPU"
             }
            ],
            "passed_time": 909.3878032,
            "remaining_time": 4050.909305,
            "test": [
             1.33692871
            ]
           },
           {
            "iteration": 88,
            "learn": [
             1.118571708
            ],
            "parameters": [
             {
              "depth": 5,
              "iterations": 30,
              "l2_leaf_reg": 1,
              "learning_rate": 0.01,
              "task_type": "GPU"
             }
            ],
            "passed_time": 911.1580369,
            "remaining_time": 4002.952724,
            "test": [
             1.451717644
            ]
           },
           {
            "iteration": 89,
            "learn": [
             1.043818105
            ],
            "parameters": [
             {
              "depth": 5,
              "iterations": 30,
              "l2_leaf_reg": 1,
              "learning_rate": 0.03,
              "task_type": "GPU"
             }
            ],
            "passed_time": 912.9519529,
            "remaining_time": 3956.125129,
            "test": [
             1.409559958
            ]
           },
           {
            "iteration": 90,
            "learn": [
             0.975010047
            ],
            "parameters": [
             {
              "depth": 5,
              "iterations": 30,
              "l2_leaf_reg": 1,
              "learning_rate": 0.1,
              "task_type": "GPU"
             }
            ],
            "passed_time": 914.7440335,
            "remaining_time": 3910.27944,
            "test": [
             1.371052349
            ]
           },
           {
            "iteration": 91,
            "learn": [
             0.9223785576
            ],
            "parameters": [
             {
              "depth": 5,
              "iterations": 30,
              "l2_leaf_reg": 1,
              "learning_rate": 0.3,
              "task_type": "GPU"
             }
            ],
            "passed_time": 916.5609455,
            "remaining_time": 3865.496161,
            "test": [
             1.345218948
            ]
           },
           {
            "iteration": 92,
            "learn": [
             1.117887297
            ],
            "parameters": [
             {
              "depth": 5,
              "iterations": 30,
              "l2_leaf_reg": 3,
              "learning_rate": 0.01,
              "task_type": "GPU"
             }
            ],
            "passed_time": 918.347213,
            "remaining_time": 3821.50937,
            "test": [
             1.451287092
            ]
           },
           {
            "iteration": 93,
            "learn": [
             1.043608069
            ],
            "parameters": [
             {
              "depth": 5,
              "iterations": 30,
              "l2_leaf_reg": 3,
              "learning_rate": 0.03,
              "task_type": "GPU"
             }
            ],
            "passed_time": 920.1404815,
            "remaining_time": 3778.449211,
            "test": [
             1.409268379
            ]
           },
           {
            "iteration": 94,
            "learn": [
             0.9543855578
            ],
            "parameters": [
             {
              "depth": 5,
              "iterations": 30,
              "l2_leaf_reg": 3,
              "learning_rate": 0.1,
              "task_type": "GPU"
             }
            ],
            "passed_time": 921.9366525,
            "remaining_time": 3736.269592,
            "test": [
             1.366827884
            ]
           },
           {
            "iteration": 95,
            "learn": [
             0.9204300891
            ],
            "parameters": [
             {
              "depth": 5,
              "iterations": 30,
              "l2_leaf_reg": 3,
              "learning_rate": 0.3,
              "task_type": "GPU"
             }
            ],
            "passed_time": 923.7392382,
            "remaining_time": 3694.956953,
            "test": [
             1.340493726
            ]
           },
           {
            "iteration": 96,
            "learn": [
             1.119906994
            ],
            "parameters": [
             {
              "depth": 5,
              "iterations": 30,
              "l2_leaf_reg": 10,
              "learning_rate": 0.01,
              "task_type": "GPU"
             }
            ],
            "passed_time": 925.5482642,
            "remaining_time": 3654.484383,
            "test": [
             1.452253263
            ]
           },
           {
            "iteration": 97,
            "learn": [
             1.042391971
            ],
            "parameters": [
             {
              "depth": 5,
              "iterations": 30,
              "l2_leaf_reg": 10,
              "learning_rate": 0.03,
              "task_type": "GPU"
             }
            ],
            "passed_time": 927.3752684,
            "remaining_time": 3614.870944,
            "test": [
             1.408995429
            ]
           },
           {
            "iteration": 98,
            "learn": [
             0.959145334
            ],
            "parameters": [
             {
              "depth": 5,
              "iterations": 30,
              "l2_leaf_reg": 10,
              "learning_rate": 0.1,
              "task_type": "GPU"
             }
            ],
            "passed_time": 929.1828154,
            "remaining_time": 3575.945987,
            "test": [
             1.368983955
            ]
           },
           {
            "iteration": 99,
            "learn": [
             0.9261817764
            ],
            "parameters": [
             {
              "depth": 5,
              "iterations": 30,
              "l2_leaf_reg": 10,
              "learning_rate": 0.3,
              "task_type": "GPU"
             }
            ],
            "passed_time": 930.987591,
            "remaining_time": 3537.752846,
            "test": [
             1.347596552
            ]
           },
           {
            "iteration": 100,
            "learn": [
             1.038595
            ],
            "parameters": [
             {
              "depth": 5,
              "iterations": 100,
              "l2_leaf_reg": 0,
              "learning_rate": 0.01,
              "task_type": "GPU"
             }
            ],
            "passed_time": 935.0758512,
            "remaining_time": 3508.848986,
            "test": [
             1.40624904
            ]
           },
           {
            "iteration": 101,
            "learn": [
             0.9699224726
            ],
            "parameters": [
             {
              "depth": 5,
              "iterations": 100,
              "l2_leaf_reg": 0,
              "learning_rate": 0.03,
              "task_type": "GPU"
             }
            ],
            "passed_time": 939.15584,
            "remaining_time": 3480.401054,
            "test": [
             1.370951442
            ]
           },
           {
            "iteration": 102,
            "learn": [
             0.9215639839
            ],
            "parameters": [
             {
              "depth": 5,
              "iterations": 100,
              "l2_leaf_reg": 0,
              "learning_rate": 0.1,
              "task_type": "GPU"
             }
            ],
            "passed_time": 943.203502,
            "remaining_time": 3452.307963,
            "test": [
             1.345360696
            ]
           },
           {
            "iteration": 103,
            "learn": [
             0.9048127459
            ],
            "parameters": [
             {
              "depth": 5,
              "iterations": 100,
              "l2_leaf_reg": 0,
              "learning_rate": 0.3,
              "task_type": "GPU"
             }
            ],
            "passed_time": 947.1186386,
            "remaining_time": 3424.198155,
            "test": [
             1.325889099
            ]
           },
           {
            "iteration": 104,
            "learn": [
             1.038131154
            ],
            "parameters": [
             {
              "depth": 5,
              "iterations": 100,
              "l2_leaf_reg": 0.3,
              "learning_rate": 0.01,
              "task_type": "GPU"
             }
            ],
            "passed_time": 951.1155727,
            "remaining_time": 3396.841331,
            "test": [
             1.405935891
            ]
           },
           {
            "iteration": 105,
            "learn": [
             0.9638120623
            ],
            "parameters": [
             {
              "depth": 5,
              "iterations": 100,
              "l2_leaf_reg": 0.3,
              "learning_rate": 0.03,
              "task_type": "GPU"
             }
            ],
            "passed_time": 955.0673109,
            "remaining_time": 3369.765795,
            "test": [
             1.369257632
            ]
           },
           {
            "iteration": 106,
            "learn": [
             0.9197255305
            ],
            "parameters": [
             {
              "depth": 5,
              "iterations": 100,
              "l2_leaf_reg": 0.3,
              "learning_rate": 0.1,
              "task_type": "GPU"
             }
            ],
            "passed_time": 959.0269734,
            "remaining_time": 3343.150104,
            "test": [
             1.344247514
            ]
           },
           {
            "iteration": 107,
            "learn": [
             0.9044867126
            ],
            "parameters": [
             {
              "depth": 5,
              "iterations": 100,
              "l2_leaf_reg": 0.3,
              "learning_rate": 0.3,
              "task_type": "GPU"
             }
            ],
            "passed_time": 962.9822647,
            "remaining_time": 3316.938912,
            "test": [
             1.320329377
            ]
           },
           {
            "iteration": 108,
            "learn": [
             1.037091614
            ],
            "parameters": [
             {
              "depth": 5,
              "iterations": 100,
              "l2_leaf_reg": 1,
              "learning_rate": 0.01,
              "task_type": "GPU"
             }
            ],
            "passed_time": 966.9320077,
            "remaining_time": 3291.1172,
            "test": [
             1.405659766
            ]
           },
           {
            "iteration": 109,
            "learn": [
             0.9618469878
            ],
            "parameters": [
             {
              "depth": 5,
              "iterations": 100,
              "l2_leaf_reg": 1,
              "learning_rate": 0.03,
              "task_type": "GPU"
             }
            ],
            "passed_time": 970.8915324,
            "remaining_time": 3265.726064,
            "test": [
             1.367894963
            ]
           },
           {
            "iteration": 110,
            "learn": [
             0.9192146322
            ],
            "parameters": [
             {
              "depth": 5,
              "iterations": 100,
              "l2_leaf_reg": 1,
              "learning_rate": 0.1,
              "task_type": "GPU"
             }
            ],
            "passed_time": 974.8339401,
            "remaining_time": 3240.664179,
            "test": [
             1.341791556
            ]
           },
           {
            "iteration": 111,
            "learn": [
             0.9107341548
            ],
            "parameters": [
             {
              "depth": 5,
              "iterations": 100,
              "l2_leaf_reg": 1,
              "learning_rate": 0.3,
              "task_type": "GPU"
             }
            ],
            "passed_time": 978.8875304,
            "remaining_time": 3216.344743,
            "test": [
             1.328581237
            ]
           },
           {
            "iteration": 112,
            "learn": [
             1.038096126
            ],
            "parameters": [
             {
              "depth": 5,
              "iterations": 100,
              "l2_leaf_reg": 3,
              "learning_rate": 0.01,
              "task_type": "GPU"
             }
            ],
            "passed_time": 982.8441545,
            "remaining_time": 3192.069068,
            "test": [
             1.406159873
            ]
           },
           {
            "iteration": 113,
            "learn": [
             0.9607518272
            ],
            "parameters": [
             {
              "depth": 5,
              "iterations": 100,
              "l2_leaf_reg": 3,
              "learning_rate": 0.03,
              "task_type": "GPU"
             }
            ],
            "passed_time": 986.8277032,
            "remaining_time": 3168.23631,
            "test": [
             1.367283963
            ]
           },
           {
            "iteration": 114,
            "learn": [
             0.9217956794
            ],
            "parameters": [
             {
              "depth": 5,
              "iterations": 100,
              "l2_leaf_reg": 3,
              "learning_rate": 0.1,
              "task_type": "GPU"
             }
            ],
            "passed_time": 990.7938779,
            "remaining_time": 3144.693612,
            "test": [
             1.346115321
            ]
           },
           {
            "iteration": 115,
            "learn": [
             0.9049667269
            ],
            "parameters": [
             {
              "depth": 5,
              "iterations": 100,
              "l2_leaf_reg": 3,
              "learning_rate": 0.3,
              "task_type": "GPU"
             }
            ],
            "passed_time": 994.7290977,
            "remaining_time": 3121.391307,
            "test": [
             1.321551699
            ]
           },
           {
            "iteration": 116,
            "learn": [
             1.037940604
            ],
            "parameters": [
             {
              "depth": 5,
              "iterations": 100,
              "l2_leaf_reg": 10,
              "learning_rate": 0.01,
              "task_type": "GPU"
             }
            ],
            "passed_time": 998.7177197,
            "remaining_time": 3098.585746,
            "test": [
             1.40613929
            ]
           },
           {
            "iteration": 117,
            "learn": [
             0.9642488097
            ],
            "parameters": [
             {
              "depth": 5,
              "iterations": 100,
              "l2_leaf_reg": 10,
              "learning_rate": 0.03,
              "task_type": "GPU"
             }
            ],
            "passed_time": 1002.734649,
            "remaining_time": 3076.185957,
            "test": [
             1.36892213
            ]
           },
           {
            "iteration": 118,
            "learn": [
             0.9221571781
            ],
            "parameters": [
             {
              "depth": 5,
              "iterations": 100,
              "l2_leaf_reg": 10,
              "learning_rate": 0.1,
              "task_type": "GPU"
             }
            ],
            "passed_time": 1006.722215,
            "remaining_time": 3054.006048,
            "test": [
             1.345047743
            ]
           },
           {
            "iteration": 119,
            "learn": [
             0.9102914462
            ],
            "parameters": [
             {
              "depth": 5,
              "iterations": 100,
              "l2_leaf_reg": 10,
              "learning_rate": 0.3,
              "task_type": "GPU"
             }
            ],
            "passed_time": 1010.700473,
            "remaining_time": 3032.10142,
            "test": [
             1.32798433
            ]
           },
           {
            "iteration": 120,
            "learn": [
             0.9649244327
            ],
            "parameters": [
             {
              "depth": 5,
              "iterations": 300,
              "l2_leaf_reg": 0,
              "learning_rate": 0.01,
              "task_type": "GPU"
             }
            ],
            "passed_time": 1020.977529,
            "remaining_time": 3029.181262,
            "test": [
             1.369273352
            ]
           },
           {
            "iteration": 121,
            "learn": [
             0.924120294
            ],
            "parameters": [
             {
              "depth": 5,
              "iterations": 300,
              "l2_leaf_reg": 0,
              "learning_rate": 0.03,
              "task_type": "GPU"
             }
            ],
            "passed_time": 1031.20028,
            "remaining_time": 3025.98115,
            "test": [
             1.346675794
            ]
           },
           {
            "iteration": 122,
            "learn": [
             0.915899239
            ],
            "parameters": [
             {
              "depth": 5,
              "iterations": 300,
              "l2_leaf_reg": 0,
              "learning_rate": 0.1,
              "task_type": "GPU"
             }
            ],
            "passed_time": 1041.158576,
            "remaining_time": 3021.899283,
            "test": [
             1.338229372
            ]
           },
           {
            "iteration": 123,
            "learn": [
             0.8905761552
            ],
            "parameters": [
             {
              "depth": 5,
              "iterations": 300,
              "l2_leaf_reg": 0,
              "learning_rate": 0.3,
              "task_type": "GPU"
             }
            ],
            "passed_time": 1051.25039,
            "remaining_time": 3018.105958,
            "test": [
             1.309853411
            ]
           },
           {
            "iteration": 124,
            "learn": [
             0.9671431745
            ],
            "parameters": [
             {
              "depth": 5,
              "iterations": 300,
              "l2_leaf_reg": 0.3,
              "learning_rate": 0.01,
              "task_type": "GPU"
             }
            ],
            "passed_time": 1061.380857,
            "remaining_time": 3014.321633,
            "test": [
             1.369419554
            ]
           },
           {
            "iteration": 125,
            "learn": [
             0.9234552122
            ],
            "parameters": [
             {
              "depth": 5,
              "iterations": 300,
              "l2_leaf_reg": 0.3,
              "learning_rate": 0.03,
              "task_type": "GPU"
             }
            ],
            "passed_time": 1071.60628,
            "remaining_time": 3010.703359,
            "test": [
             1.347449611
            ]
           },
           {
            "iteration": 126,
            "learn": [
             0.9111017626
            ],
            "parameters": [
             {
              "depth": 5,
              "iterations": 300,
              "l2_leaf_reg": 0.3,
              "learning_rate": 0.1,
              "task_type": "GPU"
             }
            ],
            "passed_time": 1081.687172,
            "remaining_time": 3006.579306,
            "test": [
             1.336374157
            ]
           },
           {
            "iteration": 127,
            "learn": [
             0.8932956668
            ],
            "parameters": [
             {
              "depth": 5,
              "iterations": 300,
              "l2_leaf_reg": 0.3,
              "learning_rate": 0.3,
              "task_type": "GPU"
             }
            ],
            "passed_time": 1091.866158,
            "remaining_time": 3002.631936,
            "test": [
             1.314432621
            ]
           },
           {
            "iteration": 128,
            "learn": [
             0.9629688982
            ],
            "parameters": [
             {
              "depth": 5,
              "iterations": 300,
              "l2_leaf_reg": 1,
              "learning_rate": 0.01,
              "task_type": "GPU"
             }
            ],
            "passed_time": 1102.196131,
            "remaining_time": 2998.998775,
            "test": [
             1.368792517
            ]
           },
           {
            "iteration": 129,
            "learn": [
             0.9259648043
            ],
            "parameters": [
             {
              "depth": 5,
              "iterations": 300,
              "l2_leaf_reg": 1,
              "learning_rate": 0.03,
              "task_type": "GPU"
             }
            ],
            "passed_time": 1112.406115,
            "remaining_time": 2994.939541,
            "test": [
             1.347616246
            ]
           },
           {
            "iteration": 130,
            "learn": [
             0.9131052119
            ],
            "parameters": [
             {
              "depth": 5,
              "iterations": 300,
              "l2_leaf_reg": 1,
              "learning_rate": 0.1,
              "task_type": "GPU"
             }
            ],
            "passed_time": 1122.428018,
            "remaining_time": 2990.285331,
            "test": [
             1.33669727
            ]
           },
           {
            "iteration": 131,
            "learn": [
             0.8952921615
            ],
            "parameters": [
             {
              "depth": 5,
              "iterations": 300,
              "l2_leaf_reg": 1,
              "learning_rate": 0.3,
              "task_type": "GPU"
             }
            ],
            "passed_time": 1132.578711,
            "remaining_time": 2985.889329,
            "test": [
             1.304559773
            ]
           },
           {
            "iteration": 132,
            "learn": [
             0.9675025523
            ],
            "parameters": [
             {
              "depth": 5,
              "iterations": 300,
              "l2_leaf_reg": 3,
              "learning_rate": 0.01,
              "task_type": "GPU"
             }
            ],
            "passed_time": 1142.790984,
            "remaining_time": 2981.567455,
            "test": [
             1.370105943
            ]
           },
           {
            "iteration": 133,
            "learn": [
             0.9218312434
            ],
            "parameters": [
             {
              "depth": 5,
              "iterations": 300,
              "l2_leaf_reg": 3,
              "learning_rate": 0.03,
              "task_type": "GPU"
             }
            ],
            "passed_time": 1153.058214,
            "remaining_time": 2977.299568,
            "test": [
             1.34550274
            ]
           },
           {
            "iteration": 134,
            "learn": [
             0.9160965534
            ],
            "parameters": [
             {
              "depth": 5,
              "iterations": 300,
              "l2_leaf_reg": 3,
              "learning_rate": 0.1,
              "task_type": "GPU"
             }
            ],
            "passed_time": 1163.09126,
            "remaining_time": 2972.344331,
            "test": [
             1.340412268
            ]
           },
           {
            "iteration": 135,
            "learn": [
             0.8900519588
            ],
            "parameters": [
             {
              "depth": 5,
              "iterations": 300,
              "l2_leaf_reg": 3,
              "learning_rate": 0.3,
              "task_type": "GPU"
             }
            ],
            "passed_time": 1173.360728,
            "remaining_time": 2967.912428,
            "test": [
             1.31726185
            ]
           },
           {
            "iteration": 136,
            "learn": [
             0.9632580801
            ],
            "parameters": [
             {
              "depth": 5,
              "iterations": 300,
              "l2_leaf_reg": 10,
              "learning_rate": 0.01,
              "task_type": "GPU"
             }
            ],
            "passed_time": 1183.616653,
            "remaining_time": 2963.361401,
            "test": [
             1.368971056
            ]
           },
           {
            "iteration": 137,
            "learn": [
             0.9235470571
            ],
            "parameters": [
             {
              "depth": 5,
              "iterations": 300,
              "l2_leaf_reg": 10,
              "learning_rate": 0.03,
              "task_type": "GPU"
             }
            ],
            "passed_time": 1193.825743,
            "remaining_time": 2958.611624,
            "test": [
             1.348110526
            ]
           },
           {
            "iteration": 138,
            "learn": [
             0.9024368058
            ],
            "parameters": [
             {
              "depth": 5,
              "iterations": 300,
              "l2_leaf_reg": 10,
              "learning_rate": 0.1,
              "task_type": "GPU"
             }
            ],
            "passed_time": 1204.073548,
            "remaining_time": 2953.878273,
            "test": [
             1.322369336
            ]
           },
           {
            "iteration": 139,
            "learn": [
             0.8973549255
            ],
            "parameters": [
             {
              "depth": 5,
              "iterations": 300,
              "l2_leaf_reg": 10,
              "learning_rate": 0.3,
              "task_type": "GPU"
             }
            ],
            "passed_time": 1214.282704,
            "remaining_time": 2948.972282,
            "test": [
             1.313188197
            ]
           },
           {
            "iteration": 140,
            "learn": [
             0.9212997374
            ],
            "parameters": [
             {
              "depth": 5,
              "iterations": 1000,
              "l2_leaf_reg": 0,
              "learning_rate": 0.01,
              "task_type": "GPU"
             }
            ],
            "passed_time": 1246.376753,
            "remaining_time": 2996.607938,
            "test": [
             1.344928959
            ]
           },
           {
            "iteration": 141,
            "learn": [
             0.9121831363
            ],
            "parameters": [
             {
              "depth": 5,
              "iterations": 1000,
              "l2_leaf_reg": 0,
              "learning_rate": 0.03,
              "task_type": "GPU"
             }
            ],
            "passed_time": 1277.765061,
            "remaining_time": 3041.440779,
            "test": [
             1.335945694
            ]
           },
           {
            "iteration": 142,
            "learn": [
             0.8929663061
            ],
            "parameters": [
             {
              "depth": 5,
              "iterations": 1000,
              "l2_leaf_reg": 0,
              "learning_rate": 0.1,
              "task_type": "GPU"
             }
            ],
            "passed_time": 1309.075066,
            "remaining_time": 3085.023058,
            "test": [
             1.314457621
            ]
           },
           {
            "iteration": 143,
            "learn": [
             0.8738617045
            ],
            "parameters": [
             {
              "depth": 5,
              "iterations": 1000,
              "l2_leaf_reg": 0,
              "learning_rate": 0.3,
              "task_type": "GPU"
             }
            ],
            "passed_time": 1340.350855,
            "remaining_time": 3127.485328,
            "test": [
             1.300725191
            ]
           },
           {
            "iteration": 144,
            "learn": [
             0.9224315437
            ],
            "parameters": [
             {
              "depth": 5,
              "iterations": 1000,
              "l2_leaf_reg": 0.3,
              "learning_rate": 0.01,
              "task_type": "GPU"
             }
            ],
            "passed_time": 1372.381619,
            "remaining_time": 3170.674774,
            "test": [
             1.346771071
            ]
           },
           {
            "iteration": 145,
            "learn": [
             0.9130079106
            ],
            "parameters": [
             {
              "depth": 5,
              "iterations": 1000,
              "l2_leaf_reg": 0.3,
              "learning_rate": 0.03,
              "task_type": "GPU"
             }
            ],
            "passed_time": 1404.473069,
            "remaining_time": 3212.972638,
            "test": [
             1.335709939
            ]
           },
           {
            "iteration": 146,
            "learn": [
             0.8841533511
            ],
            "parameters": [
             {
              "depth": 5,
              "iterations": 1000,
              "l2_leaf_reg": 0.3,
              "learning_rate": 0.1,
              "task_type": "GPU"
             }
            ],
            "passed_time": 1436.51966,
            "remaining_time": 3254.156782,
            "test": [
             1.306067493
            ]
           },
           {
            "iteration": 147,
            "learn": [
             0.87410198
            ],
            "parameters": [
             {
              "depth": 5,
              "iterations": 1000,
              "l2_leaf_reg": 0.3,
              "learning_rate": 0.3,
              "task_type": "GPU"
             }
            ],
            "passed_time": 1468.191957,
            "remaining_time": 3293.511688,
            "test": [
             1.300309612
            ]
           },
           {
            "iteration": 148,
            "learn": [
             0.9215144062
            ],
            "parameters": [
             {
              "depth": 5,
              "iterations": 1000,
              "l2_leaf_reg": 1,
              "learning_rate": 0.01,
              "task_type": "GPU"
             }
            ],
            "passed_time": 1500.328154,
            "remaining_time": 3332.943752,
            "test": [
             1.346039947
            ]
           },
           {
            "iteration": 149,
            "learn": [
             0.9134714081
            ],
            "parameters": [
             {
              "depth": 5,
              "iterations": 1000,
              "l2_leaf_reg": 1,
              "learning_rate": 0.03,
              "task_type": "GPU"
             }
            ],
            "passed_time": 1531.795868,
            "remaining_time": 3369.950911,
            "test": [
             1.338322128
            ]
           },
           {
            "iteration": 150,
            "learn": [
             0.8901252991
            ],
            "parameters": [
             {
              "depth": 5,
              "iterations": 1000,
              "l2_leaf_reg": 1,
              "learning_rate": 0.1,
              "task_type": "GPU"
             }
            ],
            "passed_time": 1563.769444,
            "remaining_time": 3407.153293,
            "test": [
             1.312683952
            ]
           },
           {
            "iteration": 151,
            "learn": [
             0.8738018271
            ],
            "parameters": [
             {
              "depth": 5,
              "iterations": 1000,
              "l2_leaf_reg": 1,
              "learning_rate": 0.3,
              "task_type": "GPU"
             }
            ],
            "passed_time": 1595.675101,
            "remaining_time": 3443.298903,
            "test": [
             1.304690962
            ]
           },
           {
            "iteration": 152,
            "learn": [
             0.9229504541
            ],
            "parameters": [
             {
              "depth": 5,
              "iterations": 1000,
              "l2_leaf_reg": 3,
              "learning_rate": 0.01,
              "task_type": "GPU"
             }
            ],
            "passed_time": 1627.75732,
            "remaining_time": 3478.932312,
            "test": [
             1.347371288
            ]
           },
           {
            "iteration": 153,
            "learn": [
             0.9137258255
            ],
            "parameters": [
             {
              "depth": 5,
              "iterations": 1000,
              "l2_leaf_reg": 3,
              "learning_rate": 0.03,
              "task_type": "GPU"
             }
            ],
            "passed_time": 1659.504004,
            "remaining_time": 3512.976008,
            "test": [
             1.339349585
            ]
           },
           {
            "iteration": 154,
            "learn": [
             0.8916207815
            ],
            "parameters": [
             {
              "depth": 5,
              "iterations": 1000,
              "l2_leaf_reg": 3,
              "learning_rate": 0.1,
              "task_type": "GPU"
             }
            ],
            "passed_time": 1691.360253,
            "remaining_time": 3546.40053,
            "test": [
             1.309400311
            ]
           },
           {
            "iteration": 155,
            "learn": [
             0.870145626
            ],
            "parameters": [
             {
              "depth": 5,
              "iterations": 1000,
              "l2_leaf_reg": 3,
              "learning_rate": 0.3,
              "task_type": "GPU"
             }
            ],
            "passed_time": 1723.304412,
            "remaining_time": 3579.170701,
            "test": [
             1.298720507
            ]
           },
           {
            "iteration": 156,
            "learn": [
             0.921583287
            ],
            "parameters": [
             {
              "depth": 5,
              "iterations": 1000,
              "l2_leaf_reg": 10,
              "learning_rate": 0.01,
              "task_type": "GPU"
             }
            ],
            "passed_time": 1755.424842,
            "remaining_time": 3611.479134,
            "test": [
             1.345635916
            ]
           },
           {
            "iteration": 157,
            "learn": [
             0.9115009191
            ],
            "parameters": [
             {
              "depth": 5,
              "iterations": 1000,
              "l2_leaf_reg": 10,
              "learning_rate": 0.03,
              "task_type": "GPU"
             }
            ],
            "passed_time": 1787.055037,
            "remaining_time": 3641.972923,
            "test": [
             1.33943727
            ]
           },
           {
            "iteration": 158,
            "learn": [
             0.8966468017
            ],
            "parameters": [
             {
              "depth": 5,
              "iterations": 1000,
              "l2_leaf_reg": 10,
              "learning_rate": 0.1,
              "task_type": "GPU"
             }
            ],
            "passed_time": 1818.789616,
            "remaining_time": 3671.896018,
            "test": [
             1.314232282
            ]
           },
           {
            "iteration": 159,
            "learn": [
             0.8774399949
            ],
            "parameters": [
             {
              "depth": 5,
              "iterations": 1000,
              "l2_leaf_reg": 10,
              "learning_rate": 0.3,
              "task_type": "GPU"
             }
            ],
            "passed_time": 1850.619045,
            "remaining_time": 3701.238091,
            "test": [
             1.295522135
            ]
           },
           {
            "iteration": 160,
            "learn": [
             1.124908162
            ],
            "parameters": [
             {
              "depth": 6,
              "iterations": 30,
              "l2_leaf_reg": 0,
              "learning_rate": 0.01,
              "task_type": "GPU"
             }
            ],
            "passed_time": 1852.565696,
            "remaining_time": 3670.611535,
            "test": [
             1.454299072
            ]
           },
           {
            "iteration": 161,
            "learn": [
             1.045227048
            ],
            "parameters": [
             {
              "depth": 6,
              "iterations": 30,
              "l2_leaf_reg": 0,
              "learning_rate": 0.03,
              "task_type": "GPU"
             }
            ],
            "passed_time": 1854.462491,
            "remaining_time": 3640.241185,
            "test": [
             1.409940409
            ]
           },
           {
            "iteration": 162,
            "learn": [
             0.9541814053
            ],
            "parameters": [
             {
              "depth": 6,
              "iterations": 30,
              "l2_leaf_reg": 0,
              "learning_rate": 0.1,
              "task_type": "GPU"
             }
            ],
            "passed_time": 1856.39563,
            "remaining_time": 3610.290888,
            "test": [
             1.361946562
            ]
           },
           {
            "iteration": 163,
            "learn": [
             0.9196463418
            ],
            "parameters": [
             {
              "depth": 6,
              "iterations": 30,
              "l2_leaf_reg": 0,
              "learning_rate": 0.3,
              "task_type": "GPU"
             }
            ],
            "passed_time": 1858.299268,
            "remaining_time": 3580.625418,
            "test": [
             1.342828108
            ]
           },
           {
            "iteration": 164,
            "learn": [
             1.118696968
            ],
            "parameters": [
             {
              "depth": 6,
              "iterations": 30,
              "l2_leaf_reg": 0.3,
              "learning_rate": 0.01,
              "task_type": "GPU"
             }
            ],
            "passed_time": 1860.228441,
            "remaining_time": 3551.345205,
            "test": [
             1.451440006
            ]
           },
           {
            "iteration": 165,
            "learn": [
             1.048734325
            ],
            "parameters": [
             {
              "depth": 6,
              "iterations": 30,
              "l2_leaf_reg": 0.3,
              "learning_rate": 0.03,
              "task_type": "GPU"
             }
            ],
            "passed_time": 1862.128142,
            "remaining_time": 3522.338775,
            "test": [
             1.4104993
            ]
           },
           {
            "iteration": 166,
            "learn": [
             0.9807567103
            ],
            "parameters": [
             {
              "depth": 6,
              "iterations": 30,
              "l2_leaf_reg": 0.3,
              "learning_rate": 0.1,
              "task_type": "GPU"
             }
            ],
            "passed_time": 1864.038315,
            "remaining_time": 3493.676603,
            "test": [
             1.375837271
            ]
           },
           {
            "iteration": 167,
            "learn": [
             0.9182930587
            ],
            "parameters": [
             {
              "depth": 6,
              "iterations": 30,
              "l2_leaf_reg": 0.3,
              "learning_rate": 0.3,
              "task_type": "GPU"
             }
            ],
            "passed_time": 1865.955075,
            "remaining_time": 3465.345139,
            "test": [
             1.340062293
            ]
           },
           {
            "iteration": 168,
            "learn": [
             1.122526165
            ],
            "parameters": [
             {
              "depth": 6,
              "iterations": 30,
              "l2_leaf_reg": 1,
              "learning_rate": 0.01,
              "task_type": "GPU"
             }
            ],
            "passed_time": 1867.957768,
            "remaining_time": 3437.484413,
            "test": [
             1.453212536
            ]
           },
           {
            "iteration": 169,
            "learn": [
             1.047592654
            ],
            "parameters": [
             {
              "depth": 6,
              "iterations": 30,
              "l2_leaf_reg": 1,
              "learning_rate": 0.03,
              "task_type": "GPU"
             }
            ],
            "passed_time": 1869.952914,
            "remaining_time": 3409.914137,
            "test": [
             1.410836913
            ]
           },
           {
            "iteration": 170,
            "learn": [
             0.956539392
            ],
            "parameters": [
             {
              "depth": 6,
              "iterations": 30,
              "l2_leaf_reg": 1,
              "learning_rate": 0.1,
              "task_type": "GPU"
             }
            ],
            "passed_time": 1871.891397,
            "remaining_time": 3382.540595,
            "test": [
             1.364139685
            ]
           },
           {
            "iteration": 171,
            "learn": [
             0.9377320549
            ],
            "parameters": [
             {
              "depth": 6,
              "iterations": 30,
              "l2_leaf_reg": 1,
              "learning_rate": 0.3,
              "task_type": "GPU"
             }
            ],
            "passed_time": 1873.851759,
            "remaining_time": 3355.501987,
            "test": [
             1.35688128
            ]
           },
           {
            "iteration": 172,
            "learn": [
             1.117456926
            ],
            "parameters": [
             {
              "depth": 6,
              "iterations": 30,
              "l2_leaf_reg": 3,
              "learning_rate": 0.01,
              "task_type": "GPU"
             }
            ],
            "passed_time": 1875.837109,
            "remaining_time": 3328.797645,
            "test": [
             1.451209404
            ]
           },
           {
            "iteration": 173,
            "learn": [
             1.047014939
            ],
            "parameters": [
             {
              "depth": 6,
              "iterations": 30,
              "l2_leaf_reg": 3,
              "learning_rate": 0.03,
              "task_type": "GPU"
             }
            ],
            "passed_time": 1877.77243,
            "remaining_time": 3302.289445,
            "test": [
             1.41128684
            ]
           },
           {
            "iteration": 174,
            "learn": [
             0.9622458618
            ],
            "parameters": [
             {
              "depth": 6,
              "iterations": 30,
              "l2_leaf_reg": 3,
              "learning_rate": 0.1,
              "task_type": "GPU"
             }
            ],
            "passed_time": 1879.644752,
            "remaining_time": 3275.952283,
            "test": [
             1.368019086
            ]
           },
           {
            "iteration": 175,
            "learn": [
             0.9191446929
            ],
            "parameters": [
             {
              "depth": 6,
              "iterations": 30,
              "l2_leaf_reg": 3,
              "learning_rate": 0.3,
              "task_type": "GPU"
             }
            ],
            "passed_time": 1881.548734,
            "remaining_time": 3249.947813,
            "test": [
             1.33199469
            ]
           },
           {
            "iteration": 176,
            "learn": [
             1.117666359
            ],
            "parameters": [
             {
              "depth": 6,
              "iterations": 30,
              "l2_leaf_reg": 10,
              "learning_rate": 0.01,
              "task_type": "GPU"
             }
            ],
            "passed_time": 1883.442922,
            "remaining_time": 3224.198901,
            "test": [
             1.451099598
            ]
           },
           {
            "iteration": 177,
            "learn": [
             1.045661717
            ],
            "parameters": [
             {
              "depth": 6,
              "iterations": 30,
              "l2_leaf_reg": 10,
              "learning_rate": 0.03,
              "task_type": "GPU"
             }
            ],
            "passed_time": 1885.341071,
            "remaining_time": 3198.724739,
            "test": [
             1.410939929
            ]
           },
           {
            "iteration": 178,
            "learn": [
             0.9559622317
            ],
            "parameters": [
             {
              "depth": 6,
              "iterations": 30,
              "l2_leaf_reg": 10,
              "learning_rate": 0.1,
              "task_type": "GPU"
             }
            ],
            "passed_time": 1887.256149,
            "remaining_time": 3173.542462,
            "test": [
             1.364430952
            ]
           },
           {
            "iteration": 179,
            "learn": [
             0.9188599359
            ],
            "parameters": [
             {
              "depth": 6,
              "iterations": 30,
              "l2_leaf_reg": 10,
              "learning_rate": 0.3,
              "task_type": "GPU"
             }
            ],
            "passed_time": 1889.199252,
            "remaining_time": 3148.665419,
            "test": [
             1.343961591
            ]
           },
           {
            "iteration": 180,
            "learn": [
             1.041721604
            ],
            "parameters": [
             {
              "depth": 6,
              "iterations": 100,
              "l2_leaf_reg": 0,
              "learning_rate": 0.01,
              "task_type": "GPU"
             }
            ],
            "passed_time": 1893.755664,
            "remaining_time": 3128.358805,
            "test": [
             1.40754251
            ]
           },
           {
            "iteration": 181,
            "learn": [
             0.9612705685
            ],
            "parameters": [
             {
              "depth": 6,
              "iterations": 100,
              "l2_leaf_reg": 0,
              "learning_rate": 0.03,
              "task_type": "GPU"
             }
            ],
            "passed_time": 1898.178409,
            "remaining_time": 3108.006405,
            "test": [
             1.367887019
            ]
           },
           {
            "iteration": 182,
            "learn": [
             0.9173308927
            ],
            "parameters": [
             {
              "depth": 6,
              "iterations": 100,
              "l2_leaf_reg": 0,
              "learning_rate": 0.1,
              "task_type": "GPU"
             }
            ],
            "passed_time": 1902.505404,
            "remaining_time": 3087.672704,
            "test": [
             1.337230123
            ]
           },
           {
            "iteration": 183,
            "learn": [
             0.9072603501
            ],
            "parameters": [
             {
              "depth": 6,
              "iterations": 100,
              "l2_leaf_reg": 0,
              "learning_rate": 0.3,
              "task_type": "GPU"
             }
            ],
            "passed_time": 1906.661764,
            "remaining_time": 3067.23849,
            "test": [
             1.334435401
            ]
           },
           {
            "iteration": 184,
            "learn": [
             1.036508399
            ],
            "parameters": [
             {
              "depth": 6,
              "iterations": 100,
              "l2_leaf_reg": 0.3,
              "learning_rate": 0.01,
              "task_type": "GPU"
             }
            ],
            "passed_time": 1911.032698,
            "remaining_time": 3047.32241,
            "test": [
             1.40552462
            ]
           },
           {
            "iteration": 185,
            "learn": [
             0.9634652982
            ],
            "parameters": [
             {
              "depth": 6,
              "iterations": 100,
              "l2_leaf_reg": 0.3,
              "learning_rate": 0.03,
              "task_type": "GPU"
             }
            ],
            "passed_time": 1915.437919,
            "remaining_time": 3027.627679,
            "test": [
             1.365511152
            ]
           },
           {
            "iteration": 186,
            "learn": [
             0.9212184723
            ],
            "parameters": [
             {
              "depth": 6,
              "iterations": 100,
              "l2_leaf_reg": 0.3,
              "learning_rate": 0.1,
              "task_type": "GPU"
             }
            ],
            "passed_time": 1919.727118,
            "remaining_time": 3007.914683,
            "test": [
             1.338823273
            ]
           },
           {
            "iteration": 187,
            "learn": [
             0.9045794438
            ],
            "parameters": [
             {
              "depth": 6,
              "iterations": 100,
              "l2_leaf_reg": 0.3,
              "learning_rate": 0.3,
              "task_type": "GPU"
             }
            ],
            "passed_time": 1924.046542,
            "remaining_time": 2988.412715,
            "test": [
             1.326622192
            ]
           },
           {
            "iteration": 188,
            "learn": [
             1.044644124
            ],
            "parameters": [
             {
              "depth": 6,
              "iterations": 100,
              "l2_leaf_reg": 1,
              "learning_rate": 0.01,
              "task_type": "GPU"
             }
            ],
            "passed_time": 1928.511174,
            "remaining_time": 2969.294982,
            "test": [
             1.409009222
            ]
           },
           {
            "iteration": 189,
            "learn": [
             0.9640472335
            ],
            "parameters": [
             {
              "depth": 6,
              "iterations": 100,
              "l2_leaf_reg": 1,
              "learning_rate": 0.03,
              "task_type": "GPU"
             }
            ],
            "passed_time": 1932.914685,
            "remaining_time": 2950.238204,
            "test": [
             1.36837787
            ]
           },
           {
            "iteration": 190,
            "learn": [
             0.9143887565
            ],
            "parameters": [
             {
              "depth": 6,
              "iterations": 100,
              "l2_leaf_reg": 1,
              "learning_rate": 0.1,
              "task_type": "GPU"
             }
            ],
            "passed_time": 1937.24956,
            "remaining_time": 2931.231009,
            "test": [
             1.327822077
            ]
           },
           {
            "iteration": 191,
            "learn": [
             0.9167939854
            ],
            "parameters": [
             {
              "depth": 6,
              "iterations": 100,
              "l2_leaf_reg": 1,
              "learning_rate": 0.3,
              "task_type": "GPU"
             }
            ],
            "passed_time": 1941.34906,
            "remaining_time": 2912.02359,
            "test": [
             1.337155655
            ]
           },
           {
            "iteration": 192,
            "learn": [
             1.040908925
            ],
            "parameters": [
             {
              "depth": 6,
              "iterations": 100,
              "l2_leaf_reg": 3,
              "learning_rate": 0.01,
              "task_type": "GPU"
             }
            ],
            "passed_time": 1945.750749,
            "remaining_time": 2893.422098,
            "test": [
             1.407090198
            ]
           },
           {
            "iteration": 193,
            "learn": [
             0.9636026416
            ],
            "parameters": [
             {
              "depth": 6,
              "iterations": 100,
              "l2_leaf_reg": 3,
              "learning_rate": 0.03,
              "task_type": "GPU"
             }
            ],
            "passed_time": 1950.143835,
            "remaining_time": 2874.954313,
            "test": [
             1.369661179
            ]
           },
           {
            "iteration": 194,
            "learn": [
             0.9193360825
            ],
            "parameters": [
             {
              "depth": 6,
              "iterations": 100,
              "l2_leaf_reg": 3,
              "learning_rate": 0.1,
              "task_type": "GPU"
             }
            ],
            "passed_time": 1954.414365,
            "remaining_time": 2856.451764,
            "test": [
             1.341646005
            ]
           },
           {
            "iteration": 195,
            "learn": [
             0.8967732601
            ],
            "parameters": [
             {
              "depth": 6,
              "iterations": 100,
              "l2_leaf_reg": 3,
              "learning_rate": 0.3,
              "task_type": "GPU"
             }
            ],
            "passed_time": 1958.735936,
            "remaining_time": 2838.168397,
            "test": [
             1.311690574
            ]
           },
           {
            "iteration": 196,
            "learn": [
             1.035873716
            ],
            "parameters": [
             {
              "depth": 6,
              "iterations": 100,
              "l2_leaf_reg": 10,
              "learning_rate": 0.01,
              "task_type": "GPU"
             }
            ],
            "passed_time": 1963.129163,
            "remaining_time": 2820.129711,
            "test": [
             1.405457859
            ]
           },
           {
            "iteration": 197,
            "learn": [
             0.9745700274
            ],
            "parameters": [
             {
              "depth": 6,
              "iterations": 100,
              "l2_leaf_reg": 10,
              "learning_rate": 0.03,
              "task_type": "GPU"
             }
            ],
            "passed_time": 1967.47633,
            "remaining_time": 2802.163258,
            "test": [
             1.37306999
            ]
           },
           {
            "iteration": 198,
            "learn": [
             0.914820659
            ],
            "parameters": [
             {
              "depth": 6,
              "iterations": 100,
              "l2_leaf_reg": 10,
              "learning_rate": 0.1,
              "task_type": "GPU"
             }
            ],
            "passed_time": 1971.811119,
            "remaining_time": 2784.316203,
            "test": [
             1.339763388
            ]
           },
           {
            "iteration": 199,
            "learn": [
             0.8985304418
            ],
            "parameters": [
             {
              "depth": 6,
              "iterations": 100,
              "l2_leaf_reg": 10,
              "learning_rate": 0.3,
              "task_type": "GPU"
             }
            ],
            "passed_time": 1976.202261,
            "remaining_time": 2766.683165,
            "test": [
             1.314899801
            ]
           },
           {
            "iteration": 200,
            "learn": [
             0.9599463043
            ],
            "parameters": [
             {
              "depth": 6,
              "iterations": 300,
              "l2_leaf_reg": 0,
              "learning_rate": 0.01,
              "task_type": "GPU"
             }
            ],
            "passed_time": 1987.617444,
            "remaining_time": 2758.931676,
            "test": [
             1.36717888
            ]
           },
           {
            "iteration": 201,
            "learn": [
             0.9187575008
            ],
            "parameters": [
             {
              "depth": 6,
              "iterations": 300,
              "l2_leaf_reg": 0,
              "learning_rate": 0.03,
              "task_type": "GPU"
             }
            ],
            "passed_time": 1999.040136,
            "remaining_time": 2751.154247,
            "test": [
             1.341992608
            ]
           },
           {
            "iteration": 202,
            "learn": [
             0.9084925195
            ],
            "parameters": [
             {
              "depth": 6,
              "iterations": 300,
              "l2_leaf_reg": 0,
              "learning_rate": 0.1,
              "task_type": "GPU"
             }
            ],
            "passed_time": 2010.373014,
            "remaining_time": 2743.218349,
            "test": [
             1.330631396
            ]
           },
           {
            "iteration": 203,
            "learn": [
             0.8850903729
            ],
            "parameters": [
             {
              "depth": 6,
              "iterations": 300,
              "l2_leaf_reg": 0,
              "learning_rate": 0.3,
              "task_type": "GPU"
             }
            ],
            "passed_time": 2021.513482,
            "remaining_time": 2734.988828,
            "test": [
             1.305044699
            ]
           },
           {
            "iteration": 204,
            "learn": [
             0.9640911829
            ],
            "parameters": [
             {
              "depth": 6,
              "iterations": 300,
              "l2_leaf_reg": 0.3,
              "learning_rate": 0.01,
              "task_type": "GPU"
             }
            ],
            "passed_time": 2032.853772,
            "remaining_time": 2726.998963,
            "test": [
             1.368464536
            ]
           },
           {
            "iteration": 205,
            "learn": [
             0.9190132688
            ],
            "parameters": [
             {
              "depth": 6,
              "iterations": 300,
              "l2_leaf_reg": 0.3,
              "learning_rate": 0.03,
              "task_type": "GPU"
             }
            ],
            "passed_time": 2044.256613,
            "remaining_time": 2719.059767,
            "test": [
             1.340402056
            ]
           },
           {
            "iteration": 206,
            "learn": [
             0.9043101477
            ],
            "parameters": [
             {
              "depth": 6,
              "iterations": 300,
              "l2_leaf_reg": 0.3,
              "learning_rate": 0.1,
              "task_type": "GPU"
             }
            ],
            "passed_time": 2055.429905,
            "remaining_time": 2710.784367,
            "test": [
             1.324214031
            ]
           },
           {
            "iteration": 207,
            "learn": [
             0.8855152964
            ],
            "parameters": [
             {
              "depth": 6,
              "iterations": 300,
              "l2_leaf_reg": 0.3,
              "learning_rate": 0.3,
              "task_type": "GPU"
             }
            ],
            "passed_time": 2066.566289,
            "remaining_time": 2702.432839,
            "test": [
             1.308180733
            ]
           },
           {
            "iteration": 208,
            "learn": [
             0.9636996866
            ],
            "parameters": [
             {
              "depth": 6,
              "iterations": 300,
              "l2_leaf_reg": 1,
              "learning_rate": 0.01,
              "task_type": "GPU"
             }
            ],
            "passed_time": 2077.917958,
            "remaining_time": 2694.333812,
            "test": [
             1.368262104
            ]
           },
           {
            "iteration": 209,
            "learn": [
             0.9179353313
            ],
            "parameters": [
             {
              "depth": 6,
              "iterations": 300,
              "l2_leaf_reg": 1,
              "learning_rate": 0.03,
              "task_type": "GPU"
             }
            ],
            "passed_time": 2089.367952,
            "remaining_time": 2686.330223,
            "test": [
             1.341553634
            ]
           },
           {
            "iteration": 210,
            "learn": [
             0.8990411524
            ],
            "parameters": [
             {
              "depth": 6,
              "iterations": 300,
              "l2_leaf_reg": 1,
              "learning_rate": 0.1,
              "task_type": "GPU"
             }
            ],
            "passed_time": 2100.673792,
            "remaining_time": 2678.11019,
            "test": [
             1.317914395
            ]
           },
           {
            "iteration": 211,
            "learn": [
             0.893140785
            ],
            "parameters": [
             {
              "depth": 6,
              "iterations": 300,
              "l2_leaf_reg": 1,
              "learning_rate": 0.3,
              "task_type": "GPU"
             }
            ],
            "passed_time": 2111.704894,
            "remaining_time": 2669.513734,
            "test": [
             1.313595566
            ]
           },
           {
            "iteration": 212,
            "learn": [
             0.966168607
            ],
            "parameters": [
             {
              "depth": 6,
              "iterations": 300,
              "l2_leaf_reg": 3,
              "learning_rate": 0.01,
              "task_type": "GPU"
             }
            ],
            "passed_time": 2123.111358,
            "remaining_time": 2661.364941,
            "test": [
             1.369117061
            ]
           },
           {
            "iteration": 213,
            "learn": [
             0.9218046059
            ],
            "parameters": [
             {
              "depth": 6,
              "iterations": 300,
              "l2_leaf_reg": 3,
              "learning_rate": 0.03,
              "task_type": "GPU"
             }
            ],
            "passed_time": 2134.5195,
            "remaining_time": 2653.18779,
            "test": [
             1.344767896
            ]
           },
           {
            "iteration": 214,
            "learn": [
             0.8983373238
            ],
            "parameters": [
             {
              "depth": 6,
              "iterations": 300,
              "l2_leaf_reg": 3,
              "learning_rate": 0.1,
              "task_type": "GPU"
             }
            ],
            "passed_time": 2145.917945,
            "remaining_time": 2644.96863,
            "test": [
             1.317061862
            ]
           },
           {
            "iteration": 215,
            "learn": [
             0.8846502156
            ],
            "parameters": [
             {
              "depth": 6,
              "iterations": 300,
              "l2_leaf_reg": 3,
              "learning_rate": 0.3,
              "task_type": "GPU"
             }
            ],
            "passed_time": 2157.26532,
            "remaining_time": 2636.657613,
            "test": [
             1.305477941
            ]
           },
           {
            "iteration": 216,
            "learn": [
             0.9624775075
            ],
            "parameters": [
             {
              "depth": 6,
              "iterations": 300,
              "l2_leaf_reg": 10,
              "learning_rate": 0.01,
              "task_type": "GPU"
             }
            ],
            "passed_time": 2168.723591,
            "remaining_time": 2628.453016,
            "test": [
             1.368584178
            ]
           },
           {
            "iteration": 217,
            "learn": [
             0.9211334566
            ],
            "parameters": [
             {
              "depth": 6,
              "iterations": 300,
              "l2_leaf_reg": 10,
              "learning_rate": 0.03,
              "task_type": "GPU"
             }
            ],
            "passed_time": 2180.347549,
            "remaining_time": 2620.417696,
            "test": [
             1.34349744
            ]
           },
           {
            "iteration": 218,
            "learn": [
             0.9004284764
            ],
            "parameters": [
             {
              "depth": 6,
              "iterations": 300,
              "l2_leaf_reg": 10,
              "learning_rate": 0.1,
              "task_type": "GPU"
             }
            ],
            "passed_time": 2191.902309,
            "remaining_time": 2612.267136,
            "test": [
             1.315055702
            ]
           },
           {
            "iteration": 219,
            "learn": [
             0.8810553124
            ],
            "parameters": [
             {
              "depth": 6,
              "iterations": 300,
              "l2_leaf_reg": 10,
              "learning_rate": 0.3,
              "task_type": "GPU"
             }
            ],
            "passed_time": 2203.28384,
            "remaining_time": 2603.880902,
            "test": [
             1.302649348
            ]
           },
           {
            "iteration": 220,
            "learn": [
             0.9176302439
            ],
            "parameters": [
             {
              "depth": 6,
              "iterations": 1000,
              "l2_leaf_reg": 0,
              "learning_rate": 0.01,
              "task_type": "GPU"
             }
            ],
            "passed_time": 2239.054069,
            "remaining_time": 2624.049792,
            "test": [
             1.338915441
            ]
           },
           {
            "iteration": 221,
            "learn": [
             0.8990570457
            ],
            "parameters": [
             {
              "depth": 6,
              "iterations": 1000,
              "l2_leaf_reg": 0,
              "learning_rate": 0.03,
              "task_type": "GPU"
             }
            ],
            "passed_time": 2274.242518,
            "remaining_time": 2643.038602,
            "test": [
             1.322341838
            ]
           },
           {
            "iteration": 222,
            "learn": [
             0.8819721685
            ],
            "parameters": [
             {
              "depth": 6,
              "iterations": 1000,
              "l2_leaf_reg": 0,
              "learning_rate": 0.1,
              "task_type": "GPU"
             }
            ],
            "passed_time": 2309.970305,
            "remaining_time": 2662.163087,
            "test": [
             1.309906537
            ]
           },
           {
            "iteration": 223,
            "learn": [
             0.8655013082
            ],
            "parameters": [
             {
              "depth": 6,
              "iterations": 1000,
              "l2_leaf_reg": 0,
              "learning_rate": 0.3,
              "task_type": "GPU"
             }
            ],
            "passed_time": 2344.212015,
            "remaining_time": 2679.099446,
            "test": [
             1.293625139
            ]
           },
           {
            "iteration": 224,
            "learn": [
             0.9132234702
            ],
            "parameters": [
             {
              "depth": 6,
              "iterations": 1000,
              "l2_leaf_reg": 0.3,
              "learning_rate": 0.01,
              "task_type": "GPU"
             }
            ],
            "passed_time": 2380.036053,
            "remaining_time": 2697.374194,
            "test": [
             1.334415355
            ]
           },
           {
            "iteration": 225,
            "learn": [
             0.9053301557
            ],
            "parameters": [
             {
              "depth": 6,
              "iterations": 1000,
              "l2_leaf_reg": 0.3,
              "learning_rate": 0.03,
              "task_type": "GPU"
             }
            ],
            "passed_time": 2415.028277,
            "remaining_time": 2714.23532,
            "test": [
             1.326087125
            ]
           },
           {
            "iteration": 226,
            "learn": [
             0.8824374622
            ],
            "parameters": [
             {
              "depth": 6,
              "iterations": 1000,
              "l2_leaf_reg": 0.3,
              "learning_rate": 0.1,
              "task_type": "GPU"
             }
            ],
            "passed_time": 2450.689132,
            "remaining_time": 2731.384803,
            "test": [
             1.309591655
            ]
           },
           {
            "iteration": 227,
            "learn": [
             0.8601285761
            ],
            "parameters": [
             {
              "depth": 6,
              "iterations": 1000,
              "l2_leaf_reg": 0.3,
              "learning_rate": 0.3,
              "task_type": "GPU"
             }
            ],
            "passed_time": 2485.920488,
            "remaining_time": 2747.596329,
            "test": [
             1.285225069
            ]
           },
           {
            "iteration": 228,
            "learn": [
             0.9165308718
            ],
            "parameters": [
             {
              "depth": 6,
              "iterations": 1000,
              "l2_leaf_reg": 1,
              "learning_rate": 0.01,
              "task_type": "GPU"
             }
            ],
            "passed_time": 2522.282273,
            "remaining_time": 2764.597601,
            "test": [
             1.33944866
            ]
           },
           {
            "iteration": 229,
            "learn": [
             0.9033487325
            ],
            "parameters": [
             {
              "depth": 6,
              "iterations": 1000,
              "l2_leaf_reg": 1,
              "learning_rate": 0.03,
              "task_type": "GPU"
             }
            ],
            "passed_time": 2557.61461,
            "remaining_time": 2780.015881,
            "test": [
             1.324036164
            ]
           },
           {
            "iteration": 230,
            "learn": [
             0.8869978479
            ],
            "parameters": [
             {
              "depth": 6,
              "iterations": 1000,
              "l2_leaf_reg": 1,
              "learning_rate": 0.1,
              "task_type": "GPU"
             }
            ],
            "passed_time": 2593.266696,
            "remaining_time": 2795.339426,
            "test": [
             1.308937953
            ]
           },
           {
            "iteration": 231,
            "learn": [
             0.8626018555
            ],
            "parameters": [
             {
              "depth": 6,
              "iterations": 1000,
              "l2_leaf_reg": 1,
              "learning_rate": 0.3,
              "task_type": "GPU"
             }
            ],
            "passed_time": 2628.656808,
            "remaining_time": 2809.943484,
            "test": [
             1.289044317
            ]
           },
           {
            "iteration": 232,
            "learn": [
             0.9162735555
            ],
            "parameters": [
             {
              "depth": 6,
              "iterations": 1000,
              "l2_leaf_reg": 3,
              "learning_rate": 0.01,
              "task_type": "GPU"
             }
            ],
            "passed_time": 2664.804669,
            "remaining_time": 2824.921688,
            "test": [
             1.339572298
            ]
           },
           {
            "iteration": 233,
            "learn": [
             0.9014736535
            ],
            "parameters": [
             {
              "depth": 6,
              "iterations": 1000,
              "l2_leaf_reg": 3,
              "learning_rate": 0.03,
              "task_type": "GPU"
             }
            ],
            "passed_time": 2700.709138,
            "remaining_time": 2839.207042,
            "test": [
             1.321658393
            ]
           },
           {
            "iteration": 234,
            "learn": [
             0.8825364469
            ],
            "parameters": [
             {
              "depth": 6,
              "iterations": 1000,
              "l2_leaf_reg": 3,
              "learning_rate": 0.1,
              "task_type": "GPU"
             }
            ],
            "passed_time": 2736.539858,
            "remaining_time": 2852.988363,
            "test": [
             1.303039563
            ]
           },
           {
            "iteration": 235,
            "learn": [
             0.8669706591
            ],
            "parameters": [
             {
              "depth": 6,
              "iterations": 1000,
              "l2_leaf_reg": 3,
              "learning_rate": 0.3,
              "task_type": "GPU"
             }
            ],
            "passed_time": 2771.876125,
            "remaining_time": 2865.838027,
            "test": [
             1.301976752
            ]
           },
           {
            "iteration": 236,
            "learn": [
             0.9193372191
            ],
            "parameters": [
             {
              "depth": 6,
              "iterations": 1000,
              "l2_leaf_reg": 10,
              "learning_rate": 0.01,
              "task_type": "GPU"
             }
            ],
            "passed_time": 2808.263727,
            "remaining_time": 2879.359011,
            "test": [
             1.342102544
            ]
           },
           {
            "iteration": 237,
            "learn": [
             0.9033112263
            ],
            "parameters": [
             {
              "depth": 6,
              "iterations": 1000,
              "l2_leaf_reg": 10,
              "learning_rate": 0.03,
              "task_type": "GPU"
             }
            ],
            "passed_time": 2843.860436,
            "remaining_time": 2891.65641,
            "test": [
             1.326343105
            ]
           },
           {
            "iteration": 238,
            "learn": [
             0.890712479
            ],
            "parameters": [
             {
              "depth": 6,
              "iterations": 1000,
              "l2_leaf_reg": 10,
              "learning_rate": 0.1,
              "task_type": "GPU"
             }
            ],
            "passed_time": 2879.765303,
            "remaining_time": 2903.863758,
            "test": [
             1.306976647
            ]
           },
           {
            "iteration": 239,
            "learn": [
             0.8723297585
            ],
            "parameters": [
             {
              "depth": 6,
              "iterations": 1000,
              "l2_leaf_reg": 10,
              "learning_rate": 0.3,
              "task_type": "GPU"
             }
            ],
            "passed_time": 2915.03192,
            "remaining_time": 2915.03192,
            "test": [
             1.297251369
            ]
           },
           {
            "iteration": 240,
            "learn": [
             1.116236381
            ],
            "parameters": [
             {
              "depth": 8,
              "iterations": 30,
              "l2_leaf_reg": 0,
              "learning_rate": 0.01,
              "task_type": "GPU"
             }
            ],
            "passed_time": 2917.35744,
            "remaining_time": 2893.147005,
            "test": [
             1.450630399
            ]
           },
           {
            "iteration": 241,
            "learn": [
             1.035357838
            ],
            "parameters": [
             {
              "depth": 8,
              "iterations": 30,
              "l2_leaf_reg": 0,
              "learning_rate": 0.03,
              "task_type": "GPU"
             }
            ],
            "passed_time": 2919.719274,
            "remaining_time": 2871.459451,
            "test": [
             1.406007608
            ]
           },
           {
            "iteration": 242,
            "learn": [
             0.9446501763
            ],
            "parameters": [
             {
              "depth": 8,
              "iterations": 30,
              "l2_leaf_reg": 0,
              "learning_rate": 0.1,
              "task_type": "GPU"
             }
            ],
            "passed_time": 2922.157836,
            "remaining_time": 2850.005791,
            "test": [
             1.356358381
            ]
           },
           {
            "iteration": 243,
            "learn": [
             0.9032734004
            ],
            "parameters": [
             {
              "depth": 8,
              "iterations": 30,
              "l2_leaf_reg": 0,
              "learning_rate": 0.3,
              "task_type": "GPU"
             }
            ],
            "passed_time": 2924.497006,
            "remaining_time": 2828.611858,
            "test": [
             1.316497829
            ]
           },
           {
            "iteration": 244,
            "learn": [
             1.119018365
            ],
            "parameters": [
             {
              "depth": 8,
              "iterations": 30,
              "l2_leaf_reg": 0.3,
              "learning_rate": 0.01,
              "task_type": "GPU"
             }
            ],
            "passed_time": 2926.859443,
            "remaining_time": 2807.395792,
            "test": [
             1.451613203
            ]
           },
           {
            "iteration": 245,
            "learn": [
             1.035334172
            ],
            "parameters": [
             {
              "depth": 8,
              "iterations": 30,
              "l2_leaf_reg": 0.3,
              "learning_rate": 0.03,
              "task_type": "GPU"
             }
            ],
            "passed_time": 2929.207692,
            "remaining_time": 2786.319512,
            "test": [
             1.406557439
            ]
           },
           {
            "iteration": 246,
            "learn": [
             0.9474448363
            ],
            "parameters": [
             {
              "depth": 8,
              "iterations": 30,
              "l2_leaf_reg": 0.3,
              "learning_rate": 0.1,
              "task_type": "GPU"
             }
            ],
            "passed_time": 2931.561632,
            "remaining_time": 2765.400244,
            "test": [
             1.358104518
            ]
           },
           {
            "iteration": 247,
            "learn": [
             0.9096578358
            ],
            "parameters": [
             {
              "depth": 8,
              "iterations": 30,
              "l2_leaf_reg": 0.3,
              "learning_rate": 0.3,
              "task_type": "GPU"
             }
            ],
            "passed_time": 2933.890428,
            "remaining_time": 2744.607175,
            "test": [
             1.321963762
            ]
           },
           {
            "iteration": 248,
            "learn": [
             1.114202576
            ],
            "parameters": [
             {
              "depth": 8,
              "iterations": 30,
              "l2_leaf_reg": 1,
              "learning_rate": 0.01,
              "task_type": "GPU"
             }
            ],
            "passed_time": 2936.241048,
            "remaining_time": 2723.982659,
            "test": [
             1.449667183
            ]
           },
           {
            "iteration": 249,
            "learn": [
             1.035591443
            ],
            "parameters": [
             {
              "depth": 8,
              "iterations": 30,
              "l2_leaf_reg": 1,
              "learning_rate": 0.03,
              "task_type": "GPU"
             }
            ],
            "passed_time": 2938.579136,
            "remaining_time": 2703.492806,
            "test": [
             1.406324976
            ]
           },
           {
            "iteration": 250,
            "learn": [
             0.9509231229
            ],
            "parameters": [
             {
              "depth": 8,
              "iterations": 30,
              "l2_leaf_reg": 1,
              "learning_rate": 0.1,
              "task_type": "GPU"
             }
            ],
            "passed_time": 2940.955141,
            "remaining_time": 2683.182181,
            "test": [
             1.358114058
            ]
           },
           {
            "iteration": 251,
            "learn": [
             0.90987172
            ],
            "parameters": [
             {
              "depth": 8,
              "iterations": 30,
              "l2_leaf_reg": 1,
              "learning_rate": 0.3,
              "task_type": "GPU"
             }
            ],
            "passed_time": 2943.292868,
            "remaining_time": 2662.979261,
            "test": [
             1.327968357
            ]
           },
           {
            "iteration": 252,
            "learn": [
             1.117224773
            ],
            "parameters": [
             {
              "depth": 8,
              "iterations": 30,
              "l2_leaf_reg": 3,
              "learning_rate": 0.01,
              "task_type": "GPU"
             }
            ],
            "passed_time": 2945.705971,
            "remaining_time": 2642.985199,
            "test": [
             1.450907472
            ]
           },
           {
            "iteration": 253,
            "learn": [
             1.036317349
            ],
            "parameters": [
             {
              "depth": 8,
              "iterations": 30,
              "l2_leaf_reg": 3,
              "learning_rate": 0.03,
              "task_type": "GPU"
             }
            ],
            "passed_time": 2948.109987,
            "remaining_time": 2623.121485,
            "test": [
             1.407030344
            ]
           },
           {
            "iteration": 254,
            "learn": [
             0.9481494601
            ],
            "parameters": [
             {
              "depth": 8,
              "iterations": 30,
              "l2_leaf_reg": 3,
              "learning_rate": 0.1,
              "task_type": "GPU"
             }
            ],
            "passed_time": 2950.420891,
            "remaining_time": 2603.312551,
            "test": [
             1.358890205
            ]
           },
           {
            "iteration": 255,
            "learn": [
             0.9070367207
            ],
            "parameters": [
             {
              "depth": 8,
              "iterations": 30,
              "l2_leaf_reg": 3,
              "learning_rate": 0.3,
              "task_type": "GPU"
             }
            ],
            "passed_time": 2952.705756,
            "remaining_time": 2583.617537,
            "test": [
             1.322489317
            ]
           },
           {
            "iteration": 256,
            "learn": [
             1.117897626
            ],
            "parameters": [
             {
              "depth": 8,
              "iterations": 30,
              "l2_leaf_reg": 10,
              "learning_rate": 0.01,
              "task_type": "GPU"
             }
            ],
            "passed_time": 2955.040791,
            "remaining_time": 2564.101543,
            "test": [
             1.45127046
            ]
           },
           {
            "iteration": 257,
            "learn": [
             1.034963012
            ],
            "parameters": [
             {
              "depth": 8,
              "iterations": 30,
              "l2_leaf_reg": 10,
              "learning_rate": 0.03,
              "task_type": "GPU"
             }
            ],
            "passed_time": 2957.431988,
            "remaining_time": 2544.767059,
            "test": [
             1.405778919
            ]
           },
           {
            "iteration": 258,
            "learn": [
             0.9466909598
            ],
            "parameters": [
             {
              "depth": 8,
              "iterations": 30,
              "l2_leaf_reg": 10,
              "learning_rate": 0.1,
              "task_type": "GPU"
             }
            ],
            "passed_time": 2959.815401,
            "remaining_time": 2525.556771,
            "test": [
             1.358963635
            ]
           },
           {
            "iteration": 259,
            "learn": [
             0.9041757584
            ],
            "parameters": [
             {
              "depth": 8,
              "iterations": 30,
              "l2_leaf_reg": 10,
              "learning_rate": 0.3,
              "task_type": "GPU"
             }
            ],
            "passed_time": 2962.170632,
            "remaining_time": 2506.452073,
            "test": [
             1.327184205
            ]
           },
           {
            "iteration": 260,
            "learn": [
             1.030930679
            ],
            "parameters": [
             {
              "depth": 8,
              "iterations": 100,
              "l2_leaf_reg": 0,
              "learning_rate": 0.01,
              "task_type": "GPU"
             }
            ],
            "passed_time": 2968.021277,
            "remaining_time": 2490.408658,
            "test": [
             1.403713385
            ]
           },
           {
            "iteration": 261,
            "learn": [
             0.9529941115
            ],
            "parameters": [
             {
              "depth": 8,
              "iterations": 100,
              "l2_leaf_reg": 0,
              "learning_rate": 0.03,
              "task_type": "GPU"
             }
            ],
            "passed_time": 2973.88569,
            "remaining_time": 2474.454505,
            "test": [
             1.362212678
            ]
           },
           {
            "iteration": 262,
            "learn": [
             0.9141175779
            ],
            "parameters": [
             {
              "depth": 8,
              "iterations": 100,
              "l2_leaf_reg": 0,
              "learning_rate": 0.1,
              "task_type": "GPU"
             }
            ],
            "passed_time": 2979.513634,
            "remaining_time": 2458.381972,
            "test": [
             1.337054379
            ]
           },
           {
            "iteration": 263,
            "learn": [
             0.8807622745
            ],
            "parameters": [
             {
              "depth": 8,
              "iterations": 100,
              "l2_leaf_reg": 0,
              "learning_rate": 0.3,
              "task_type": "GPU"
             }
            ],
            "passed_time": 2984.970205,
            "remaining_time": 2442.24835,
            "test": [
             1.308737612
            ]
           },
           {
            "iteration": 264,
            "learn": [
             1.03114958
            ],
            "parameters": [
             {
              "depth": 8,
              "iterations": 100,
              "l2_leaf_reg": 0.3,
              "learning_rate": 0.01,
              "task_type": "GPU"
             }
            ],
            "passed_time": 2990.871471,
            "remaining_time": 2426.5561,
            "test": [
             1.402217736
            ]
           },
           {
            "iteration": 265,
            "learn": [
             0.9545149578
            ],
            "parameters": [
             {
              "depth": 8,
              "iterations": 100,
              "l2_leaf_reg": 0.3,
              "learning_rate": 0.03,
              "task_type": "GPU"
             }
            ],
            "passed_time": 2996.609417,
            "remaining_time": 2410.806073,
            "test": [
             1.364288734
            ]
           },
           {
            "iteration": 266,
            "learn": [
             0.9069315964
            ],
            "parameters": [
             {
              "depth": 8,
              "iterations": 100,
              "l2_leaf_reg": 0.3,
              "learning_rate": 0.1,
              "task_type": "GPU"
             }
            ],
            "passed_time": 3002.261093,
            "remaining_time": 2395.06222,
            "test": [
             1.330206897
            ]
           },
           {
            "iteration": 267,
            "learn": [
             0.8856711872
            ],
            "parameters": [
             {
              "depth": 8,
              "iterations": 100,
              "l2_leaf_reg": 0.3,
              "learning_rate": 0.3,
              "task_type": "GPU"
             }
            ],
            "passed_time": 3007.798223,
            "remaining_time": 2379.303072,
            "test": [
             1.308577204
            ]
           },
           {
            "iteration": 268,
            "learn": [
             1.027599216
            ],
            "parameters": [
             {
              "depth": 8,
              "iterations": 100,
              "l2_leaf_reg": 1,
              "learning_rate": 0.01,
              "task_type": "GPU"
             }
            ],
            "passed_time": 3013.627026,
            "remaining_time": 2363.848708,
            "test": [
             1.401965697
            ]
           },
           {
            "iteration": 269,
            "learn": [
             0.9572117237
            ],
            "parameters": [
             {
              "depth": 8,
              "iterations": 100,
              "l2_leaf_reg": 1,
              "learning_rate": 0.03,
              "task_type": "GPU"
             }
            ],
            "passed_time": 3019.374039,
            "remaining_time": 2348.40203,
            "test": [
             1.363555125
            ]
           },
           {
            "iteration": 270,
            "learn": [
             0.904634974
            ],
            "parameters": [
             {
              "depth": 8,
              "iterations": 100,
              "l2_leaf_reg": 1,
              "learning_rate": 0.1,
              "task_type": "GPU"
             }
            ],
            "passed_time": 3025.137973,
            "remaining_time": 2333.039986,
            "test": [
             1.331415559
            ]
           },
           {
            "iteration": 271,
            "learn": [
             0.8812071307
            ],
            "parameters": [
             {
              "depth": 8,
              "iterations": 100,
              "l2_leaf_reg": 1,
              "learning_rate": 0.3,
              "task_type": "GPU"
             }
            ],
            "passed_time": 3030.778064,
            "remaining_time": 2317.653813,
            "test": [
             1.315127925
            ]
           },
           {
            "iteration": 272,
            "learn": [
             1.032725513
            ],
            "parameters": [
             {
              "depth": 8,
              "iterations": 100,
              "l2_leaf_reg": 3,
              "learning_rate": 0.01,
              "task_type": "GPU"
             }
            ],
            "passed_time": 3036.731127,
            "remaining_time": 2302.576349,
            "test": [
             1.404030676
            ]
           },
           {
            "iteration": 273,
            "learn": [
             0.9526123139
            ],
            "parameters": [
             {
              "depth": 8,
              "iterations": 100,
              "l2_leaf_reg": 3,
              "learning_rate": 0.03,
              "task_type": "GPU"
             }
            ],
            "passed_time": 3042.569611,
            "remaining_time": 2287.479343,
            "test": [
             1.36289917
            ]
           },
           {
            "iteration": 274,
            "learn": [
             0.9068243283
            ],
            "parameters": [
             {
              "depth": 8,
              "iterations": 100,
              "l2_leaf_reg": 3,
              "learning_rate": 0.1,
              "task_type": "GPU"
             }
            ],
            "passed_time": 3048.321343,
            "remaining_time": 2272.385001,
            "test": [
             1.331031818
            ]
           },
           {
            "iteration": 275,
            "learn": [
             0.8880232686
            ],
            "parameters": [
             {
              "depth": 8,
              "iterations": 100,
              "l2_leaf_reg": 3,
              "learning_rate": 0.3,
              "task_type": "GPU"
             }
            ],
            "passed_time": 3053.93867,
            "remaining_time": 2257.259017,
            "test": [
             1.314283801
            ]
           },
           {
            "iteration": 276,
            "learn": [
             1.032658936
            ],
            "parameters": [
             {
              "depth": 8,
              "iterations": 100,
              "l2_leaf_reg": 10,
              "learning_rate": 0.01,
              "task_type": "GPU"
             }
            ],
            "passed_time": 3059.724851,
            "remaining_time": 2242.325432,
            "test": [
             1.403694255
            ]
           },
           {
            "iteration": 277,
            "learn": [
             0.9516698589
            ],
            "parameters": [
             {
              "depth": 8,
              "iterations": 100,
              "l2_leaf_reg": 10,
              "learning_rate": 0.03,
              "task_type": "GPU"
             }
            ],
            "passed_time": 3065.551801,
            "remaining_time": 2227.48728,
            "test": [
             1.361902984
            ]
           },
           {
            "iteration": 278,
            "learn": [
             0.9089081979
            ],
            "parameters": [
             {
              "depth": 8,
              "iterations": 100,
              "l2_leaf_reg": 10,
              "learning_rate": 0.1,
              "task_type": "GPU"
             }
            ],
            "passed_time": 3071.194453,
            "remaining_time": 2212.58095,
            "test": [
             1.331559326
            ]
           },
           {
            "iteration": 279,
            "learn": [
             0.8925892978
            ],
            "parameters": [
             {
              "depth": 8,
              "iterations": 100,
              "l2_leaf_reg": 10,
              "learning_rate": 0.3,
              "task_type": "GPU"
             }
            ],
            "passed_time": 3076.725361,
            "remaining_time": 2197.660972,
            "test": [
             1.321981902
            ]
           },
           {
            "iteration": 280,
            "learn": [
             0.9560465546
            ],
            "parameters": [
             {
              "depth": 8,
              "iterations": 300,
              "l2_leaf_reg": 0,
              "learning_rate": 0.01,
              "task_type": "GPU"
             }
            ],
            "passed_time": 3092.235271,
            "remaining_time": 2189.8748,
            "test": [
             1.361860479
            ]
           },
           {
            "iteration": 281,
            "learn": [
             0.9132533899
            ],
            "parameters": [
             {
              "depth": 8,
              "iterations": 300,
              "l2_leaf_reg": 0,
              "learning_rate": 0.03,
              "task_type": "GPU"
             }
            ],
            "passed_time": 3107.570911,
            "remaining_time": 2181.911491,
            "test": [
             1.334107823
            ]
           },
           {
            "iteration": 282,
            "learn": [
             0.8963186141
            ],
            "parameters": [
             {
              "depth": 8,
              "iterations": 300,
              "l2_leaf_reg": 0,
              "learning_rate": 0.1,
              "task_type": "GPU"
             }
            ],
            "passed_time": 3122.938593,
            "remaining_time": 2173.918385,
            "test": [
             1.322512506
            ]
           },
           {
            "iteration": 283,
            "learn": [
             0.8656222072
            ],
            "parameters": [
             {
              "depth": 8,
              "iterations": 300,
              "l2_leaf_reg": 0,
              "learning_rate": 0.3,
              "task_type": "GPU"
             }
            ],
            "passed_time": 3137.763116,
            "remaining_time": 2165.498488,
            "test": [
             1.300942108
            ]
           },
           {
            "iteration": 284,
            "learn": [
             0.9539665298
            ],
            "parameters": [
             {
              "depth": 8,
              "iterations": 300,
              "l2_leaf_reg": 0.3,
              "learning_rate": 0.01,
              "task_type": "GPU"
             }
            ],
            "passed_time": 3153.374258,
            "remaining_time": 2157.571861,
            "test": [
             1.360869828
            ]
           },
           {
            "iteration": 285,
            "learn": [
             0.9097958656
            ],
            "parameters": [
             {
              "depth": 8,
              "iterations": 300,
              "l2_leaf_reg": 0.3,
              "learning_rate": 0.03,
              "task_type": "GPU"
             }
            ],
            "passed_time": 3168.757087,
            "remaining_time": 2149.436626,
            "test": [
             1.332475474
            ]
           },
           {
            "iteration": 286,
            "learn": [
             0.8809269536
            ],
            "parameters": [
             {
              "depth": 8,
              "iterations": 300,
              "l2_leaf_reg": 0.3,
              "learning_rate": 0.1,
              "task_type": "GPU"
             }
            ],
            "passed_time": 3183.926831,
            "remaining_time": 2141.10759,
            "test": [
             1.303306724
            ]
           },
           {
            "iteration": 287,
            "learn": [
             0.8785471027
            ],
            "parameters": [
             {
              "depth": 8,
              "iterations": 300,
              "l2_leaf_reg": 0.3,
              "learning_rate": 0.3,
              "task_type": "GPU"
             }
            ],
            "passed_time": 3198.459106,
            "remaining_time": 2132.30607,
            "test": [
             1.307529403
            ]
           },
           {
            "iteration": 288,
            "learn": [
             0.950745373
            ],
            "parameters": [
             {
              "depth": 8,
              "iterations": 300,
              "l2_leaf_reg": 1,
              "learning_rate": 0.01,
              "task_type": "GPU"
             }
            ],
            "passed_time": 3214.2184,
            "remaining_time": 2124.275828,
            "test": [
             1.360188227
            ]
           },
           {
            "iteration": 289,
            "learn": [
             0.9089215333
            ],
            "parameters": [
             {
              "depth": 8,
              "iterations": 300,
              "l2_leaf_reg": 1,
              "learning_rate": 0.03,
              "task_type": "GPU"
             }
            ],
            "passed_time": 3229.490413,
            "remaining_time": 2115.873029,
            "test": [
             1.333457365
            ]
           },
           {
            "iteration": 290,
            "learn": [
             0.892184784
            ],
            "parameters": [
             {
              "depth": 8,
              "iterations": 300,
              "l2_leaf_reg": 1,
              "learning_rate": 0.1,
              "task_type": "GPU"
             }
            ],
            "passed_time": 3244.020214,
            "remaining_time": 2106.940963,
            "test": [
             1.32030619
            ]
           },
           {
            "iteration": 291,
            "learn": [
             0.8697837437
            ],
            "parameters": [
             {
              "depth": 8,
              "iterations": 300,
              "l2_leaf_reg": 1,
              "learning_rate": 0.3,
              "task_type": "GPU"
             }
            ],
            "passed_time": 3258.420559,
            "remaining_time": 2097.887209,
            "test": [
             1.302956846
            ]
           },
           {
            "iteration": 292,
            "learn": [
             0.9528749224
            ],
            "parameters": [
             {
              "depth": 8,
              "iterations": 300,
              "l2_leaf_reg": 3,
              "learning_rate": 0.01,
              "task_type": "GPU"
             }
            ],
            "passed_time": 3274.073592,
            "remaining_time": 2089.596456,
            "test": [
             1.362231854
            ]
           },
           {
            "iteration": 293,
            "learn": [
             0.9075064918
            ],
            "parameters": [
             {
              "depth": 8,
              "iterations": 300,
              "l2_leaf_reg": 3,
              "learning_rate": 0.03,
              "task_type": "GPU"
             }
            ],
            "passed_time": 3289.677237,
            "remaining_time": 2081.224374,
            "test": [
             1.331116833
            ]
           },
           {
            "iteration": 294,
            "learn": [
             0.8889111625
            ],
            "parameters": [
             {
              "depth": 8,
              "iterations": 300,
              "l2_leaf_reg": 3,
              "learning_rate": 0.1,
              "task_type": "GPU"
             }
            ],
            "passed_time": 3304.531521,
            "remaining_time": 2072.333327,
            "test": [
             1.3093887
            ]
           },
           {
            "iteration": 295,
            "learn": [
             0.8674721859
            ],
            "parameters": [
             {
              "depth": 8,
              "iterations": 300,
              "l2_leaf_reg": 3,
              "learning_rate": 0.3,
              "task_type": "GPU"
             }
            ],
            "passed_time": 3319.387653,
            "remaining_time": 2063.403136,
            "test": [
             1.303956197
            ]
           },
           {
            "iteration": 296,
            "learn": [
             0.9557414156
            ],
            "parameters": [
             {
              "depth": 8,
              "iterations": 300,
              "l2_leaf_reg": 10,
              "learning_rate": 0.01,
              "task_type": "GPU"
             }
            ],
            "passed_time": 3334.965031,
            "remaining_time": 2054.877444,
            "test": [
             1.362654659
            ]
           },
           {
            "iteration": 297,
            "learn": [
             0.9110463686
            ],
            "parameters": [
             {
              "depth": 8,
              "iterations": 300,
              "l2_leaf_reg": 10,
              "learning_rate": 0.03,
              "task_type": "GPU"
             }
            ],
            "passed_time": 3350.534516,
            "remaining_time": 2046.299603,
            "test": [
             1.331739483
            ]
           },
           {
            "iteration": 298,
            "learn": [
             0.8870887558
            ],
            "parameters": [
             {
              "depth": 8,
              "iterations": 300,
              "l2_leaf_reg": 10,
              "learning_rate": 0.1,
              "task_type": "GPU"
             }
            ],
            "passed_time": 3365.859062,
            "remaining_time": 2037.526723,
            "test": [
             1.316522076
            ]
           },
           {
            "iteration": 299,
            "learn": [
             0.8736452834
            ],
            "parameters": [
             {
              "depth": 8,
              "iterations": 300,
              "l2_leaf_reg": 10,
              "learning_rate": 0.3,
              "task_type": "GPU"
             }
            ],
            "passed_time": 3380.425318,
            "remaining_time": 2028.255191,
            "test": [
             1.304508631
            ]
           },
           {
            "iteration": 300,
            "learn": [
             0.9058721851
            ],
            "parameters": [
             {
              "depth": 8,
              "iterations": 1000,
              "l2_leaf_reg": 0,
              "learning_rate": 0.01,
              "task_type": "GPU"
             }
            ],
            "passed_time": 3428.544727,
            "remaining_time": 2038.902014,
            "test": [
             1.328016747
            ]
           },
           {
            "iteration": 301,
            "learn": [
             0.8872555876
            ],
            "parameters": [
             {
              "depth": 8,
              "iterations": 1000,
              "l2_leaf_reg": 0,
              "learning_rate": 0.03,
              "task_type": "GPU"
             }
            ],
            "passed_time": 3476.21796,
            "remaining_time": 2048.896678,
            "test": [
             1.309167955
            ]
           },
           {
            "iteration": 302,
            "learn": [
             0.8639854985
            ],
            "parameters": [
             {
              "depth": 8,
              "iterations": 1000,
              "l2_leaf_reg": 0,
              "learning_rate": 0.1,
              "task_type": "GPU"
             }
            ],
            "passed_time": 3524.077264,
            "remaining_time": 2058.619392,
            "test": [
             1.294752912
            ]
           },
           {
            "iteration": 303,
            "learn": [
             0.8506826219
            ],
            "parameters": [
             {
              "depth": 8,
              "iterations": 1000,
              "l2_leaf_reg": 0,
              "learning_rate": 0.3,
              "task_type": "GPU"
             }
            ],
            "passed_time": 3567.305699,
            "remaining_time": 2065.282247,
            "test": [
             1.293733086
            ]
           },
           {
            "iteration": 304,
            "learn": [
             0.9069718907
            ],
            "parameters": [
             {
              "depth": 8,
              "iterations": 1000,
              "l2_leaf_reg": 0.3,
              "learning_rate": 0.01,
              "task_type": "GPU"
             }
            ],
            "passed_time": 3615.950466,
            "remaining_time": 2074.725677,
            "test": [
             1.328954286
            ]
           },
           {
            "iteration": 305,
            "learn": [
             0.888308177
            ],
            "parameters": [
             {
              "depth": 8,
              "iterations": 1000,
              "l2_leaf_reg": 0.3,
              "learning_rate": 0.03,
              "task_type": "GPU"
             }
            ],
            "passed_time": 3661.192678,
            "remaining_time": 2081.85466,
            "test": [
             1.311844706
            ]
           },
           {
            "iteration": 306,
            "learn": [
             0.8642748551
            ],
            "parameters": [
             {
              "depth": 8,
              "iterations": 1000,
              "l2_leaf_reg": 0.3,
              "learning_rate": 0.1,
              "task_type": "GPU"
             }
            ],
            "passed_time": 3708.517321,
            "remaining_time": 2089.81595,
            "test": [
             1.295323872
            ]
           },
           {
            "iteration": 307,
            "learn": [
             0.8493039423
            ],
            "parameters": [
             {
              "depth": 8,
              "iterations": 1000,
              "l2_leaf_reg": 0.3,
              "learning_rate": 0.3,
              "task_type": "GPU"
             }
            ],
            "passed_time": 3755.632392,
            "remaining_time": 2097.301206,
            "test": [
             1.294841076
            ]
           },
           {
            "iteration": 308,
            "learn": [
             0.909368241
            ],
            "parameters": [
             {
              "depth": 8,
              "iterations": 1000,
              "l2_leaf_reg": 1,
              "learning_rate": 0.01,
              "task_type": "GPU"
             }
            ],
            "passed_time": 3805.132109,
            "remaining_time": 2105.752721,
            "test": [
             1.331532253
            ]
           },
           {
            "iteration": 309,
            "learn": [
             0.885742354
            ],
            "parameters": [
             {
              "depth": 8,
              "iterations": 1000,
              "l2_leaf_reg": 1,
              "learning_rate": 0.03,
              "task_type": "GPU"
             }
            ],
            "passed_time": 3853.282757,
            "remaining_time": 2113.090544,
            "test": [
             1.310224375
            ]
           },
           {
            "iteration": 310,
            "learn": [
             0.867395575
            ],
            "parameters": [
             {
              "depth": 8,
              "iterations": 1000,
              "l2_leaf_reg": 1,
              "learning_rate": 0.1,
              "task_type": "GPU"
             }
            ],
            "passed_time": 3901.507364,
            "remaining_time": 2120.111719,
            "test": [
             1.303270847
            ]
           },
           {
            "iteration": 311,
            "learn": [
             0.8470650043
            ],
            "parameters": [
             {
              "depth": 8,
              "iterations": 1000,
              "l2_leaf_reg": 1,
              "learning_rate": 0.3,
              "task_type": "GPU"
             }
            ],
            "passed_time": 3947.339187,
            "remaining_time": 2125.490332,
            "test": [
             1.300894639
            ]
           },
           {
            "iteration": 312,
            "learn": [
             0.9086067206
            ],
            "parameters": [
             {
              "depth": 8,
              "iterations": 1000,
              "l2_leaf_reg": 3,
              "learning_rate": 0.01,
              "task_type": "GPU"
             }
            ],
            "passed_time": 3996.642294,
            "remaining_time": 2132.393812,
            "test": [
             1.332668523
            ]
           },
           {
            "iteration": 313,
            "learn": [
             0.8886880597
            ],
            "parameters": [
             {
              "depth": 8,
              "iterations": 1000,
              "l2_leaf_reg": 3,
              "learning_rate": 0.03,
              "task_type": "GPU"
             }
            ],
            "passed_time": 4044.220602,
            "remaining_time": 2138.027452,
            "test": [
             1.311035249
            ]
           },
           {
            "iteration": 314,
            "learn": [
             0.8673768128
            ],
            "parameters": [
             {
              "depth": 8,
              "iterations": 1000,
              "l2_leaf_reg": 3,
              "learning_rate": 0.1,
              "task_type": "GPU"
             }
            ],
            "passed_time": 4092.467796,
            "remaining_time": 2143.673608,
            "test": [
             1.296332694
            ]
           },
           {
            "iteration": 315,
            "learn": [
             0.8498728214
            ],
            "parameters": [
             {
              "depth": 8,
              "iterations": 1000,
              "l2_leaf_reg": 3,
              "learning_rate": 0.3,
              "task_type": "GPU"
             }
            ],
            "passed_time": 4139.170027,
            "remaining_time": 2148.176849,
            "test": [
             1.292643183
            ]
           },
           {
            "iteration": 316,
            "learn": [
             0.9109473848
            ],
            "parameters": [
             {
              "depth": 8,
              "iterations": 1000,
              "l2_leaf_reg": 10,
              "learning_rate": 0.01,
              "task_type": "GPU"
             }
            ],
            "passed_time": 4188.433174,
            "remaining_time": 2153.67384,
            "test": [
             1.333220933
            ]
           },
           {
            "iteration": 317,
            "learn": [
             0.894569031
            ],
            "parameters": [
             {
              "depth": 8,
              "iterations": 1000,
              "l2_leaf_reg": 10,
              "learning_rate": 0.03,
              "task_type": "GPU"
             }
            ],
            "passed_time": 4236.255406,
            "remaining_time": 2158.092377,
            "test": [
             1.317751061
            ]
           },
           {
            "iteration": 318,
            "learn": [
             0.8766901614
            ],
            "parameters": [
             {
              "depth": 8,
              "iterations": 1000,
              "l2_leaf_reg": 10,
              "learning_rate": 0.1,
              "task_type": "GPU"
             }
            ],
            "passed_time": 4282.651719,
            "remaining_time": 2161.46372,
            "test": [
             1.307034447
            ]
           },
           {
            "iteration": 319,
            "learn": [
             0.8482255869
            ],
            "parameters": [
             {
              "depth": 8,
              "iterations": 1000,
              "l2_leaf_reg": 10,
              "learning_rate": 0.3,
              "task_type": "GPU"
             }
            ],
            "passed_time": 4329.967414,
            "remaining_time": 2164.983707,
            "test": [
             1.285899966
            ]
           },
           {
            "iteration": 320,
            "learn": [
             1.12082475
            ],
            "parameters": [
             {
              "depth": 10,
              "iterations": 30,
              "l2_leaf_reg": 0,
              "learning_rate": 0.01,
              "task_type": "GPU"
             }
            ],
            "passed_time": 4334.065615,
            "remaining_time": 2146.780164,
            "test": [
             1.451932548
            ]
           },
           {
            "iteration": 321,
            "learn": [
             1.03844886
            ],
            "parameters": [
             {
              "depth": 10,
              "iterations": 30,
              "l2_leaf_reg": 0,
              "learning_rate": 0.03,
              "task_type": "GPU"
             }
            ],
            "passed_time": 4337.964396,
            "remaining_time": 2128.56638,
            "test": [
             1.404841999
            ]
           },
           {
            "iteration": 322,
            "learn": [
             0.9457955793
            ],
            "parameters": [
             {
              "depth": 10,
              "iterations": 30,
              "l2_leaf_reg": 0,
              "learning_rate": 0.1,
              "task_type": "GPU"
             }
            ],
            "passed_time": 4341.350392,
            "remaining_time": 2110.191986,
            "test": [
             1.348337449
            ]
           },
           {
            "iteration": 323,
            "learn": [
             0.9066231519
            ],
            "parameters": [
             {
              "depth": 10,
              "iterations": 30,
              "l2_leaf_reg": 0,
              "learning_rate": 0.3,
              "task_type": "GPU"
             }
            ],
            "passed_time": 4344.345294,
            "remaining_time": 2091.721808,
            "test": [
             1.326536337
            ]
           },
           {
            "iteration": 324,
            "learn": [
             1.124480849
            ],
            "parameters": [
             {
              "depth": 10,
              "iterations": 30,
              "l2_leaf_reg": 0.3,
              "learning_rate": 0.01,
              "task_type": "GPU"
             }
            ],
            "passed_time": 4348.622771,
            "remaining_time": 2073.958552,
            "test": [
             1.453466399
            ]
           },
           {
            "iteration": 325,
            "learn": [
             1.052279711
            ],
            "parameters": [
             {
              "depth": 10,
              "iterations": 30,
              "l2_leaf_reg": 0.3,
              "learning_rate": 0.03,
              "task_type": "GPU"
             }
            ],
            "passed_time": 4352.172847,
            "remaining_time": 2055.934412,
            "test": [
             1.409816568
            ]
           },
           {
            "iteration": 326,
            "learn": [
             0.9411850102
            ],
            "parameters": [
             {
              "depth": 10,
              "iterations": 30,
              "l2_leaf_reg": 0.3,
              "learning_rate": 0.1,
              "task_type": "GPU"
             }
            ],
            "passed_time": 4355.558478,
            "remaining_time": 2037.921857,
            "test": [
             1.349871356
            ]
           },
           {
            "iteration": 327,
            "learn": [
             0.9171424171
            ],
            "parameters": [
             {
              "depth": 10,
              "iterations": 30,
              "l2_leaf_reg": 0.3,
              "learning_rate": 0.3,
              "task_type": "GPU"
             }
            ],
            "passed_time": 4358.32439,
            "remaining_time": 2019.711303,
            "test": [
             1.329785798
            ]
           },
           {
            "iteration": 328,
            "learn": [
             1.120977768
            ],
            "parameters": [
             {
              "depth": 10,
              "iterations": 30,
              "l2_leaf_reg": 1,
              "learning_rate": 0.01,
              "task_type": "GPU"
             }
            ],
            "passed_time": 4362.508399,
            "remaining_time": 2002.245496,
            "test": [
             1.452003433
            ]
           },
           {
            "iteration": 329,
            "learn": [
             1.043857444
            ],
            "parameters": [
             {
              "depth": 10,
              "iterations": 30,
              "l2_leaf_reg": 1,
              "learning_rate": 0.03,
              "task_type": "GPU"
             }
            ],
            "passed_time": 4366.013852,
            "remaining_time": 1984.551751,
            "test": [
             1.40903184
            ]
           },
           {
            "iteration": 330,
            "learn": [
             0.9404663914
            ],
            "parameters": [
             {
              "depth": 10,
              "iterations": 30,
              "l2_leaf_reg": 1,
              "learning_rate": 0.1,
              "task_type": "GPU"
             }
            ],
            "passed_time": 4369.776071,
            "remaining_time": 1967.059319,
            "test": [
             1.348582232
            ]
           },
           {
            "iteration": 331,
            "learn": [
             0.8937142045
            ],
            "parameters": [
             {
              "depth": 10,
              "iterations": 30,
              "l2_leaf_reg": 1,
              "learning_rate": 0.3,
              "task_type": "GPU"
             }
            ],
            "passed_time": 4373.138858,
            "remaining_time": 1949.471539,
            "test": [
             1.30600849
            ]
           },
           {
            "iteration": 332,
            "learn": [
             1.121906616
            ],
            "parameters": [
             {
              "depth": 10,
              "iterations": 30,
              "l2_leaf_reg": 3,
              "learning_rate": 0.01,
              "task_type": "GPU"
             }
            ],
            "passed_time": 4376.871083,
            "remaining_time": 1932.13228,
            "test": [
             1.452254989
            ]
           },
           {
            "iteration": 333,
            "learn": [
             1.056833228
            ],
            "parameters": [
             {
              "depth": 10,
              "iterations": 30,
              "l2_leaf_reg": 3,
              "learning_rate": 0.03,
              "task_type": "GPU"
             }
            ],
            "passed_time": 4380.256526,
            "remaining_time": 1914.722913,
            "test": [
             1.412732579
            ]
           },
           {
            "iteration": 334,
            "learn": [
             0.9647421683
            ],
            "parameters": [
             {
              "depth": 10,
              "iterations": 30,
              "l2_leaf_reg": 3,
              "learning_rate": 0.1,
              "task_type": "GPU"
             }
            ],
            "passed_time": 4383.908789,
            "remaining_time": 1897.512759,
            "test": [
             1.361445947
            ]
           },
           {
            "iteration": 335,
            "learn": [
             0.9090395887
            ],
            "parameters": [
             {
              "depth": 10,
              "iterations": 30,
              "l2_leaf_reg": 3,
              "learning_rate": 0.3,
              "task_type": "GPU"
             }
            ],
            "passed_time": 4387.267446,
            "remaining_time": 1880.257477,
            "test": [
             1.325741486
            ]
           },
           {
            "iteration": 336,
            "learn": [
             1.120206451
            ],
            "parameters": [
             {
              "depth": 10,
              "iterations": 30,
              "l2_leaf_reg": 10,
              "learning_rate": 0.01,
              "task_type": "GPU"
             }
            ],
            "passed_time": 4391.448245,
            "remaining_time": 1863.433528,
            "test": [
             1.451632854
            ]
           },
           {
            "iteration": 337,
            "learn": [
             1.050716002
            ],
            "parameters": [
             {
              "depth": 10,
              "iterations": 30,
              "l2_leaf_reg": 10,
              "learning_rate": 0.03,
              "task_type": "GPU"
             }
            ],
            "passed_time": 4395.218266,
            "remaining_time": 1846.511816,
            "test": [
             1.407168168
            ]
           },
           {
            "iteration": 338,
            "learn": [
             0.951417461
            ],
            "parameters": [
             {
              "depth": 10,
              "iterations": 30,
              "l2_leaf_reg": 10,
              "learning_rate": 0.1,
              "task_type": "GPU"
             }
            ],
            "passed_time": 4398.779098,
            "remaining_time": 1829.580687,
            "test": [
             1.359119556
            ]
           },
           {
            "iteration": 339,
            "learn": [
             0.8974980491
            ],
            "parameters": [
             {
              "depth": 10,
              "iterations": 30,
              "l2_leaf_reg": 10,
              "learning_rate": 0.3,
              "task_type": "GPU"
             }
            ],
            "passed_time": 4402.159277,
            "remaining_time": 1812.65382,
            "test": [
             1.330154188
            ]
           },
           {
            "iteration": 340,
            "learn": [
             1.040641623
            ],
            "parameters": [
             {
              "depth": 10,
              "iterations": 100,
              "l2_leaf_reg": 0,
              "learning_rate": 0.01,
              "task_type": "GPU"
             }
            ],
            "passed_time": 4413.250412,
            "remaining_time": 1798.949581,
            "test": [
             1.405169892
            ]
           },
           {
            "iteration": 341,
            "learn": [
             0.9535747667
            ],
            "parameters": [
             {
              "depth": 10,
              "iterations": 100,
              "l2_leaf_reg": 0,
              "learning_rate": 0.03,
              "task_type": "GPU"
             }
            ],
            "passed_time": 4423.535784,
            "remaining_time": 1784.935492,
            "test": [
             1.360267963
            ]
           },
           {
            "iteration": 342,
            "learn": [
             0.906595088
            ],
            "parameters": [
             {
              "depth": 10,
              "iterations": 100,
              "l2_leaf_reg": 0,
              "learning_rate": 0.1,
              "task_type": "GPU"
             }
            ],
            "passed_time": 4432.629663,
            "remaining_time": 1770.467242,
            "test": [
             1.325298785
            ]
           },
           {
            "iteration": 343,
            "learn": [
             0.8720286061
            ],
            "parameters": [
             {
              "depth": 10,
              "iterations": 100,
              "l2_leaf_reg": 0,
              "learning_rate": 0.3,
              "task_type": "GPU"
             }
            ],
            "passed_time": 4441.13954,
            "remaining_time": 1755.799353,
            "test": [
             1.29735088
            ]
           },
           {
            "iteration": 344,
            "learn": [
             1.043687713
            ],
            "parameters": [
             {
              "depth": 10,
              "iterations": 100,
              "l2_leaf_reg": 0.3,
              "learning_rate": 0.01,
              "task_type": "GPU"
             }
            ],
            "passed_time": 4451.856845,
            "remaining_time": 1742.030939,
            "test": [
             1.406324084
            ]
           },
           {
            "iteration": 345,
            "learn": [
             0.9571309422
            ],
            "parameters": [
             {
              "depth": 10,
              "iterations": 100,
              "l2_leaf_reg": 0.3,
              "learning_rate": 0.03,
              "task_type": "GPU"
             }
            ],
            "passed_time": 4461.520763,
            "remaining_time": 1727.872203,
            "test": [
             1.358317386
            ]
           },
           {
            "iteration": 346,
            "learn": [
             0.8862472586
            ],
            "parameters": [
             {
              "depth": 10,
              "iterations": 100,
              "l2_leaf_reg": 0.3,
              "learning_rate": 0.1,
              "task_type": "GPU"
             }
            ],
            "passed_time": 4471.148123,
            "remaining_time": 1713.725361,
            "test": [
             1.305233479
            ]
           },
           {
            "iteration": 347,
            "learn": [
             0.8784905777
            ],
            "parameters": [
             {
              "depth": 10,
              "iterations": 100,
              "l2_leaf_reg": 0.3,
              "learning_rate": 0.3,
              "task_type": "GPU"
             }
            ],
            "passed_time": 4480.090922,
            "remaining_time": 1699.344832,
            "test": [
             1.309851337
            ]
           },
           {
            "iteration": 348,
            "learn": [
             1.038875854
            ],
            "parameters": [
             {
              "depth": 10,
              "iterations": 100,
              "l2_leaf_reg": 1,
              "learning_rate": 0.01,
              "task_type": "GPU"
             }
            ],
            "passed_time": 4491.134166,
            "remaining_time": 1685.783885,
            "test": [
             1.403358721
            ]
           },
           {
            "iteration": 349,
            "learn": [
             0.9583065687
            ],
            "parameters": [
             {
              "depth": 10,
              "iterations": 100,
              "l2_leaf_reg": 1,
              "learning_rate": 0.03,
              "task_type": "GPU"
             }
            ],
            "passed_time": 4500.559055,
            "remaining_time": 1671.63622,
            "test": [
             1.359109408
            ]
           },
           {
            "iteration": 350,
            "learn": [
             0.892162971
            ],
            "parameters": [
             {
              "depth": 10,
              "iterations": 100,
              "l2_leaf_reg": 1,
              "learning_rate": 0.1,
              "task_type": "GPU"
             }
            ],
            "passed_time": 4509.995221,
            "remaining_time": 1657.519611,
            "test": [
             1.314002332
            ]
           },
           {
            "iteration": 351,
            "learn": [
             0.8745925778
            ],
            "parameters": [
             {
              "depth": 10,
              "iterations": 100,
              "l2_leaf_reg": 1,
              "learning_rate": 0.3,
              "task_type": "GPU"
             }
            ],
            "passed_time": 4518.576704,
            "remaining_time": 1643.118801,
            "test": [
             1.301475148
            ]
           },
           {
            "iteration": 352,
            "learn": [
             1.043590146
            ],
            "parameters": [
             {
              "depth": 10,
              "iterations": 100,
              "l2_leaf_reg": 3,
              "learning_rate": 0.01,
              "task_type": "GPU"
             }
            ],
            "passed_time": 4528.743993,
            "remaining_time": 1629.321493,
            "test": [
             1.406452393
            ]
           },
           {
            "iteration": 353,
            "learn": [
             0.951388412
            ],
            "parameters": [
             {
              "depth": 10,
              "iterations": 100,
              "l2_leaf_reg": 3,
              "learning_rate": 0.03,
              "task_type": "GPU"
             }
            ],
            "passed_time": 4538.314432,
            "remaining_time": 1615.332256,
            "test": [
             1.356568751
            ]
           },
           {
            "iteration": 354,
            "learn": [
             0.9004125493
            ],
            "parameters": [
             {
              "depth": 10,
              "iterations": 100,
              "l2_leaf_reg": 3,
              "learning_rate": 0.1,
              "task_type": "GPU"
             }
            ],
            "passed_time": 4547.471492,
            "remaining_time": 1601.222356,
            "test": [
             1.321782352
            ]
           },
           {
            "iteration": 355,
            "learn": [
             0.8833453133
            ],
            "parameters": [
             {
              "depth": 10,
              "iterations": 100,
              "l2_leaf_reg": 3,
              "learning_rate": 0.3,
              "task_type": "GPU"
             }
            ],
            "passed_time": 4556.309901,
            "remaining_time": 1587.029291,
            "test": [
             1.317341686
            ]
           },
           {
            "iteration": 356,
            "learn": [
             1.036051233
            ],
            "parameters": [
             {
              "depth": 10,
              "iterations": 100,
              "l2_leaf_reg": 10,
              "learning_rate": 0.01,
              "task_type": "GPU"
             }
            ],
            "passed_time": 4567.439382,
            "remaining_time": 1573.655585,
            "test": [
             1.401537977
            ]
           },
           {
            "iteration": 357,
            "learn": [
             0.9645974044
            ],
            "parameters": [
             {
              "depth": 10,
              "iterations": 100,
              "l2_leaf_reg": 10,
              "learning_rate": 0.03,
              "task_type": "GPU"
             }
            ],
            "passed_time": 4577.0319,
            "remaining_time": 1559.770647,
            "test": [
             1.363874481
            ]
           },
           {
            "iteration": 358,
            "learn": [
             0.8969841009
            ],
            "parameters": [
             {
              "depth": 10,
              "iterations": 100,
              "l2_leaf_reg": 10,
              "learning_rate": 0.1,
              "task_type": "GPU"
             }
            ],
            "passed_time": 4586.900084,
            "remaining_time": 1546.002535,
            "test": [
             1.32126727
            ]
           },
           {
            "iteration": 359,
            "learn": [
             0.8848012399
            ],
            "parameters": [
             {
              "depth": 10,
              "iterations": 100,
              "l2_leaf_reg": 10,
              "learning_rate": 0.3,
              "task_type": "GPU"
             }
            ],
            "passed_time": 4595.733593,
            "remaining_time": 1531.911198,
            "test": [
             1.310940483
            ]
           },
           {
            "iteration": 360,
            "learn": [
             0.9550554125
            ],
            "parameters": [
             {
              "depth": 10,
              "iterations": 300,
              "l2_leaf_reg": 0,
              "learning_rate": 0.01,
              "task_type": "GPU"
             }
            ],
            "passed_time": 4623.962219,
            "remaining_time": 1524.242394,
            "test": [
             1.35882792
            ]
           },
           {
            "iteration": 361,
            "learn": [
             0.8957959701
            ],
            "parameters": [
             {
              "depth": 10,
              "iterations": 300,
              "l2_leaf_reg": 0,
              "learning_rate": 0.03,
              "task_type": "GPU"
             }
            ],
            "passed_time": 4651.693675,
            "remaining_time": 1516.297938,
            "test": [
             1.316025103
            ]
           },
           {
            "iteration": 362,
            "learn": [
             0.8794708804
            ],
            "parameters": [
             {
              "depth": 10,
              "iterations": 300,
              "l2_leaf_reg": 0,
              "learning_rate": 0.1,
              "task_type": "GPU"
             }
            ],
            "passed_time": 4674.374811,
            "remaining_time": 1506.616674,
            "test": [
             1.300698441
            ]
           },
           {
            "iteration": 363,
            "learn": [
             0.8638148681
            ],
            "parameters": [
             {
              "depth": 10,
              "iterations": 300,
              "l2_leaf_reg": 0,
              "learning_rate": 0.3,
              "task_type": "GPU"
             }
            ],
            "passed_time": 4699.140649,
            "remaining_time": 1497.528339,
            "test": [
             1.310583235
            ]
           },
           {
            "iteration": 364,
            "learn": [
             0.9558114373
            ],
            "parameters": [
             {
              "depth": 10,
              "iterations": 300,
              "l2_leaf_reg": 0.3,
              "learning_rate": 0.01,
              "task_type": "GPU"
             }
            ],
            "passed_time": 4728.287677,
            "remaining_time": 1489.734474,
            "test": [
             1.36099106
            ]
           },
           {
            "iteration": 365,
            "learn": [
             0.8993125492
            ],
            "parameters": [
             {
              "depth": 10,
              "iterations": 300,
              "l2_leaf_reg": 0.3,
              "learning_rate": 0.03,
              "task_type": "GPU"
             }
            ],
            "passed_time": 4755.803443,
            "remaining_time": 1481.315827,
            "test": [
             1.318456068
            ]
           },
           {
            "iteration": 366,
            "learn": [
             0.8685052305
            ],
            "parameters": [
             {
              "depth": 10,
              "iterations": 300,
              "l2_leaf_reg": 0.3,
              "learning_rate": 0.1,
              "task_type": "GPU"
             }
            ],
            "passed_time": 4780.053772,
            "remaining_time": 1471.787674,
            "test": [
             1.293943665
            ]
           },
           {
            "iteration": 367,
            "learn": [
             0.8567999476
            ],
            "parameters": [
             {
              "depth": 10,
              "iterations": 300,
              "l2_leaf_reg": 0.3,
              "learning_rate": 0.3,
              "task_type": "GPU"
             }
            ],
            "passed_time": 4803.483659,
            "remaining_time": 1461.929809,
            "test": [
             1.298978984
            ]
           },
           {
            "iteration": 368,
            "learn": [
             0.9537507294
            ],
            "parameters": [
             {
              "depth": 10,
              "iterations": 300,
              "l2_leaf_reg": 1,
              "learning_rate": 0.01,
              "task_type": "GPU"
             }
            ],
            "passed_time": 4830.219442,
            "remaining_time": 1452.99284,
            "test": [
             1.358824152
            ]
           },
           {
            "iteration": 369,
            "learn": [
             0.9031486909
            ],
            "parameters": [
             {
              "depth": 10,
              "iterations": 300,
              "l2_leaf_reg": 1,
              "learning_rate": 0.03,
              "task_type": "GPU"
             }
            ],
            "passed_time": 4857.259839,
            "remaining_time": 1444.050222,
            "test": [
             1.322270246
            ]
           },
           {
            "iteration": 370,
            "learn": [
             0.8880890701
            ],
            "parameters": [
             {
              "depth": 10,
              "iterations": 300,
              "l2_leaf_reg": 1,
              "learning_rate": 0.1,
              "task_type": "GPU"
             }
            ],
            "passed_time": 4879.791288,
            "remaining_time": 1433.685311,
            "test": [
             1.313627582
            ]
           },
           {
            "iteration": 371,
            "learn": [
             0.8544798931
            ],
            "parameters": [
             {
              "depth": 10,
              "iterations": 300,
              "l2_leaf_reg": 1,
              "learning_rate": 0.3,
              "task_type": "GPU"
             }
            ],
            "passed_time": 4903.57661,
            "remaining_time": 1423.619016,
            "test": [
             1.292496138
            ]
           },
           {
            "iteration": 372,
            "learn": [
             0.9519702113
            ],
            "parameters": [
             {
              "depth": 10,
              "iterations": 300,
              "l2_leaf_reg": 3,
              "learning_rate": 0.01,
              "task_type": "GPU"
             }
            ],
            "passed_time": 4932.154134,
            "remaining_time": 1414.853867,
            "test": [
             1.356176871
            ]
           },
           {
            "iteration": 373,
            "learn": [
             0.9059824781
            ],
            "parameters": [
             {
              "depth": 10,
              "iterations": 300,
              "l2_leaf_reg": 3,
              "learning_rate": 0.03,
              "task_type": "GPU"
             }
            ],
            "passed_time": 4958.559779,
            "remaining_time": 1405.36721,
            "test": [
             1.327377787
            ]
           },
           {
            "iteration": 374,
            "learn": [
             0.8756690102
            ],
            "parameters": [
             {
              "depth": 10,
              "iterations": 300,
              "l2_leaf_reg": 3,
              "learning_rate": 0.1,
              "task_type": "GPU"
             }
            ],
            "passed_time": 4983.156396,
            "remaining_time": 1395.283791,
            "test": [
             1.305361959
            ]
           },
           {
            "iteration": 375,
            "learn": [
             0.8686897345
            ],
            "parameters": [
             {
              "depth": 10,
              "iterations": 300,
              "l2_leaf_reg": 3,
              "learning_rate": 0.3,
              "task_type": "GPU"
             }
            ],
            "passed_time": 5006.253907,
            "remaining_time": 1384.708527,
            "test": [
             1.307160871
            ]
           },
           {
            "iteration": 376,
            "learn": [
             0.9539323007
            ],
            "parameters": [
             {
              "depth": 10,
              "iterations": 300,
              "l2_leaf_reg": 10,
              "learning_rate": 0.01,
              "task_type": "GPU"
             }
            ],
            "passed_time": 5033.398722,
            "remaining_time": 1375.172595,
            "test": [
             1.35820484
            ]
           },
           {
            "iteration": 377,
            "learn": [
             0.9018168814
            ],
            "parameters": [
             {
              "depth": 10,
              "iterations": 300,
              "l2_leaf_reg": 10,
              "learning_rate": 0.03,
              "task_type": "GPU"
             }
            ],
            "passed_time": 5060.057095,
            "remaining_time": 1365.412232,
            "test": [
             1.322947926
            ]
           },
           {
            "iteration": 378,
            "learn": [
             0.8782974849
            ],
            "parameters": [
             {
              "depth": 10,
              "iterations": 300,
              "l2_leaf_reg": 10,
              "learning_rate": 0.1,
              "task_type": "GPU"
             }
            ],
            "passed_time": 5085.20595,
            "remaining_time": 1355.160425,
            "test": [
             1.313586021
            ]
           },
           {
            "iteration": 379,
            "learn": [
             0.8676622084
            ],
            "parameters": [
             {
              "depth": 10,
              "iterations": 300,
              "l2_leaf_reg": 10,
              "learning_rate": 0.3,
              "task_type": "GPU"
             }
            ],
            "passed_time": 5107.509634,
            "remaining_time": 1344.081483,
            "test": [
             1.299386827
            ]
           },
           {
            "iteration": 380,
            "learn": [
             0.9010665184
            ],
            "parameters": [
             {
              "depth": 10,
              "iterations": 1000,
              "l2_leaf_reg": 0,
              "learning_rate": 0.01,
              "task_type": "GPU"
             }
            ],
            "passed_time": 5191.776974,
            "remaining_time": 1349.04441,
            "test": [
             1.322486631
            ]
           },
           {
            "iteration": 381,
            "learn": [
             0.8685886306
            ],
            "parameters": [
             {
              "depth": 10,
              "iterations": 1000,
              "l2_leaf_reg": 0,
              "learning_rate": 0.03,
              "task_type": "GPU"
             }
            ],
            "passed_time": 5275.333975,
            "remaining_time": 1353.357931,
            "test": [
             1.290478023
            ]
           },
           {
            "iteration": 382,
            "learn": [
             0.8484787255
            ],
            "parameters": [
             {
              "depth": 10,
              "iterations": 1000,
              "l2_leaf_reg": 0,
              "learning_rate": 0.1,
              "task_type": "GPU"
             }
            ],
            "passed_time": 5356.228126,
            "remaining_time": 1356.538194,
            "test": [
             1.288380312
            ]
           },
           {
            "iteration": 383,
            "learn": [
             0.8273501845
            ],
            "parameters": [
             {
              "depth": 10,
              "iterations": 1000,
              "l2_leaf_reg": 0,
              "learning_rate": 0.3,
              "task_type": "GPU"
             }
            ],
            "passed_time": 5426.36258,
            "remaining_time": 1356.590645,
            "test": [
             1.274182943
            ]
           },
           {
            "iteration": 384,
            "learn": [
             0.8969015937
            ],
            "parameters": [
             {
              "depth": 10,
              "iterations": 1000,
              "l2_leaf_reg": 0.3,
              "learning_rate": 0.01,
              "task_type": "GPU"
             }
            ],
            "passed_time": 5510.817752,
            "remaining_time": 1359.812172,
            "test": [
             1.314644017
            ]
           },
           {
            "iteration": 385,
            "learn": [
             0.88277229
            ],
            "parameters": [
             {
              "depth": 10,
              "iterations": 1000,
              "l2_leaf_reg": 0.3,
              "learning_rate": 0.03,
              "task_type": "GPU"
             }
            ],
            "passed_time": 5588.890869,
            "remaining_time": 1361.025238,
            "test": [
             1.305586749
            ]
           },
           {
            "iteration": 386,
            "learn": [
             0.8540889855
            ],
            "parameters": [
             {
              "depth": 10,
              "iterations": 1000,
              "l2_leaf_reg": 0.3,
              "learning_rate": 0.1,
              "task_type": "GPU"
             }
            ],
            "passed_time": 5667.524377,
            "remaining_time": 1361.963222,
            "test": [
             1.291305788
            ]
           },
           {
            "iteration": 387,
            "learn": [
             0.8375101447
            ],
            "parameters": [
             {
              "depth": 10,
              "iterations": 1000,
              "l2_leaf_reg": 0.3,
              "learning_rate": 0.3,
              "task_type": "GPU"
             }
            ],
            "passed_time": 5739.439849,
            "remaining_time": 1360.898108,
            "test": [
             1.285949004
            ]
           },
           {
            "iteration": 388,
            "learn": [
             0.8968695557
            ],
            "parameters": [
             {
              "depth": 10,
              "iterations": 1000,
              "l2_leaf_reg": 1,
              "learning_rate": 0.01,
              "task_type": "GPU"
             }
            ],
            "passed_time": 5827.199784,
            "remaining_time": 1363.175271,
            "test": [
             1.315097932
            ]
           },
           {
            "iteration": 389,
            "learn": [
             0.870046823
            ],
            "parameters": [
             {
              "depth": 10,
              "iterations": 1000,
              "l2_leaf_reg": 1,
              "learning_rate": 0.03,
              "task_type": "GPU"
             }
            ],
            "passed_time": 5906.646109,
            "remaining_time": 1363.072179,
            "test": [
             1.298132568
            ]
           },
           {
            "iteration": 390,
            "learn": [
             0.8565698229
            ],
            "parameters": [
             {
              "depth": 10,
              "iterations": 1000,
              "l2_leaf_reg": 1,
              "learning_rate": 0.1,
              "task_type": "GPU"
             }
            ],
            "passed_time": 5984.157716,
            "remaining_time": 1362.122856,
            "test": [
             1.293215882
            ]
           },
           {
            "iteration": 391,
            "learn": [
             0.8380325756
            ],
            "parameters": [
             {
              "depth": 10,
              "iterations": 1000,
              "l2_leaf_reg": 1,
              "learning_rate": 0.3,
              "task_type": "GPU"
             }
            ],
            "passed_time": 6059.210744,
            "remaining_time": 1360.230983,
            "test": [
             1.281484784
            ]
           },
           {
            "iteration": 392,
            "learn": [
             0.8974634418
            ],
            "parameters": [
             {
              "depth": 10,
              "iterations": 1000,
              "l2_leaf_reg": 3,
              "learning_rate": 0.01,
              "task_type": "GPU"
             }
            ],
            "passed_time": 6144.48669,
            "remaining_time": 1360.229878,
            "test": [
             1.317932908
            ]
           },
           {
            "iteration": 393,
            "learn": [
             0.8832795429
            ],
            "parameters": [
             {
              "depth": 10,
              "iterations": 1000,
              "l2_leaf_reg": 3,
              "learning_rate": 0.03,
              "task_type": "GPU"
             }
            ],
            "passed_time": 6220.427515,
            "remaining_time": 1357.75829,
            "test": [
             1.303056603
            ]
           },
           {
            "iteration": 394,
            "learn": [
             0.8556874765
            ],
            "parameters": [
             {
              "depth": 10,
              "iterations": 1000,
              "l2_leaf_reg": 3,
              "learning_rate": 0.1,
              "task_type": "GPU"
             }
            ],
            "passed_time": 6298.051202,
            "remaining_time": 1355.276841,
            "test": [
             1.290577733
            ]
           },
           {
            "iteration": 395,
            "learn": [
             0.8323817256
            ],
            "parameters": [
             {
              "depth": 10,
              "iterations": 1000,
              "l2_leaf_reg": 3,
              "learning_rate": 0.3,
              "task_type": "GPU"
             }
            ],
            "passed_time": 6370.473647,
            "remaining_time": 1351.312592,
            "test": [
             1.290356766
            ]
           },
           {
            "iteration": 396,
            "learn": [
             0.8996696095
            ],
            "parameters": [
             {
              "depth": 10,
              "iterations": 1000,
              "l2_leaf_reg": 10,
              "learning_rate": 0.01,
              "task_type": "GPU"
             }
            ],
            "passed_time": 6456.606426,
            "remaining_time": 1349.869857,
            "test": [
             1.3214429
            ]
           },
           {
            "iteration": 397,
            "learn": [
             0.876519769
            ],
            "parameters": [
             {
              "depth": 10,
              "iterations": 1000,
              "l2_leaf_reg": 10,
              "learning_rate": 0.03,
              "task_type": "GPU"
             }
            ],
            "passed_time": 6537.537955,
            "remaining_time": 1346.92993,
            "test": [
             1.308706554
            ]
           },
           {
            "iteration": 398,
            "learn": [
             0.8590196555
            ],
            "parameters": [
             {
              "depth": 10,
              "iterations": 1000,
              "l2_leaf_reg": 10,
              "learning_rate": 0.1,
              "task_type": "GPU"
             }
            ],
            "passed_time": 6614.35899,
            "remaining_time": 1342.764607,
            "test": [
             1.297543799
            ]
           },
           {
            "iteration": 399,
            "learn": [
             0.8475711903
            ],
            "parameters": [
             {
              "depth": 10,
              "iterations": 1000,
              "l2_leaf_reg": 10,
              "learning_rate": 0.3,
              "task_type": "GPU"
             }
            ],
            "passed_time": 6687.318257,
            "remaining_time": 1337.463651,
            "test": [
             1.292918391
            ]
           },
           {
            "iteration": 400,
            "learn": [
             1.117690666
            ],
            "parameters": [
             {
              "depth": 12,
              "iterations": 30,
              "l2_leaf_reg": 0,
              "learning_rate": 0.01,
              "task_type": "GPU"
             }
            ],
            "passed_time": 6695.709782,
            "remaining_time": 1319.10492,
            "test": [
             1.450838263
            ]
           },
           {
            "iteration": 401,
            "learn": [
             1.041411518
            ],
            "parameters": [
             {
              "depth": 12,
              "iterations": 30,
              "l2_leaf_reg": 0,
              "learning_rate": 0.03,
              "task_type": "GPU"
             }
            ],
            "passed_time": 6703.508556,
            "remaining_time": 1300.680765,
            "test": [
             1.40651606
            ]
           },
           {
            "iteration": 402,
            "learn": [
             0.9213437979
            ],
            "parameters": [
             {
              "depth": 12,
              "iterations": 30,
              "l2_leaf_reg": 0,
              "learning_rate": 0.1,
              "task_type": "GPU"
             }
            ],
            "passed_time": 6712.447565,
            "remaining_time": 1282.527202,
            "test": [
             1.334981053
            ]
           },
           {
            "iteration": 403,
            "learn": [
             0.8753599646
            ],
            "parameters": [
             {
              "depth": 12,
              "iterations": 30,
              "l2_leaf_reg": 0,
              "learning_rate": 0.3,
              "task_type": "GPU"
             }
            ],
            "passed_time": 6720.141353,
            "remaining_time": 1264.185007,
            "test": [
             1.309750222
            ]
           },
           {
            "iteration": 404,
            "learn": [
             1.117163746
            ],
            "parameters": [
             {
              "depth": 12,
              "iterations": 30,
              "l2_leaf_reg": 0.3,
              "learning_rate": 0.01,
              "task_type": "GPU"
             }
            ],
            "passed_time": 6729.405096,
            "remaining_time": 1246.186129,
            "test": [
             1.450361342
            ]
           },
           {
            "iteration": 405,
            "learn": [
             1.038028434
            ],
            "parameters": [
             {
              "depth": 12,
              "iterations": 30,
              "l2_leaf_reg": 0.3,
              "learning_rate": 0.03,
              "task_type": "GPU"
             }
            ],
            "passed_time": 6737.681238,
            "remaining_time": 1228.050275,
            "test": [
             1.406338201
            ]
           },
           {
            "iteration": 406,
            "learn": [
             0.9411794593
            ],
            "parameters": [
             {
              "depth": 12,
              "iterations": 30,
              "l2_leaf_reg": 0.3,
              "learning_rate": 0.1,
              "task_type": "GPU"
             }
            ],
            "passed_time": 6744.811334,
            "remaining_time": 1209.757315,
            "test": [
             1.3556685
            ]
           },
           {
            "iteration": 407,
            "learn": [
             0.8901976064
            ],
            "parameters": [
             {
              "depth": 12,
              "iterations": 30,
              "l2_leaf_reg": 0.3,
              "learning_rate": 0.3,
              "task_type": "GPU"
             }
            ],
            "passed_time": 6752.228149,
            "remaining_time": 1191.569673,
            "test": [
             1.310460968
            ]
           },
           {
            "iteration": 408,
            "learn": [
             1.116026117
            ],
            "parameters": [
             {
              "depth": 12,
              "iterations": 30,
              "l2_leaf_reg": 1,
              "learning_rate": 0.01,
              "task_type": "GPU"
             }
            ],
            "passed_time": 6761.783217,
            "remaining_time": 1173.805888,
            "test": [
             1.448700585
            ]
           },
           {
            "iteration": 409,
            "learn": [
             1.048617648
            ],
            "parameters": [
             {
              "depth": 12,
              "iterations": 30,
              "l2_leaf_reg": 1,
              "learning_rate": 0.03,
              "task_type": "GPU"
             }
            ],
            "passed_time": 6769.740632,
            "remaining_time": 1155.809376,
            "test": [
             1.408385121
            ]
           },
           {
            "iteration": 410,
            "learn": [
             0.9514040624
            ],
            "parameters": [
             {
              "depth": 12,
              "iterations": 30,
              "l2_leaf_reg": 1,
              "learning_rate": 0.1,
              "task_type": "GPU"
             }
            ],
            "passed_time": 6777.101923,
            "remaining_time": 1137.761637,
            "test": [
             1.349291767
            ]
           },
           {
            "iteration": 411,
            "learn": [
             0.8966027511
            ],
            "parameters": [
             {
              "depth": 12,
              "iterations": 30,
              "l2_leaf_reg": 1,
              "learning_rate": 0.3,
              "task_type": "GPU"
             }
            ],
            "passed_time": 6783.946015,
            "remaining_time": 1119.68041,
            "test": [
             1.320847
            ]
           },
           {
            "iteration": 412,
            "learn": [
             1.121819578
            ],
            "parameters": [
             {
              "depth": 12,
              "iterations": 30,
              "l2_leaf_reg": 3,
              "learning_rate": 0.01,
              "task_type": "GPU"
             }
            ],
            "passed_time": 6791.348747,
            "remaining_time": 1101.744228,
            "test": [
             1.451174195
            ]
           },
           {
            "iteration": 413,
            "learn": [
             1.03915985
            ],
            "parameters": [
             {
              "depth": 12,
              "iterations": 30,
              "l2_leaf_reg": 3,
              "learning_rate": 0.03,
              "task_type": "GPU"
             }
            ],
            "passed_time": 6799.440158,
            "remaining_time": 1083.968721,
            "test": [
             1.400443336
            ]
           },
           {
            "iteration": 414,
            "learn": [
             0.9471666018
            ],
            "parameters": [
             {
              "depth": 12,
              "iterations": 30,
              "l2_leaf_reg": 3,
              "learning_rate": 0.1,
              "task_type": "GPU"
             }
            ],
            "passed_time": 6806.448885,
            "remaining_time": 1066.070307,
            "test": [
             1.354622644
            ]
           },
           {
            "iteration": 415,
            "learn": [
             0.8925511346
            ],
            "parameters": [
             {
              "depth": 12,
              "iterations": 30,
              "l2_leaf_reg": 3,
              "learning_rate": 0.3,
              "task_type": "GPU"
             }
            ],
            "passed_time": 6812.938328,
            "remaining_time": 1048.144358,
            "test": [
             1.316516362
            ]
           },
           {
            "iteration": 416,
            "learn": [
             1.120115036
            ],
            "parameters": [
             {
              "depth": 12,
              "iterations": 30,
              "l2_leaf_reg": 10,
              "learning_rate": 0.01,
              "task_type": "GPU"
             }
            ],
            "passed_time": 6821.034553,
            "remaining_time": 1030.516012,
            "test": [
             1.45085922
            ]
           },
           {
            "iteration": 417,
            "learn": [
             1.044507584
            ],
            "parameters": [
             {
              "depth": 12,
              "iterations": 30,
              "l2_leaf_reg": 10,
              "learning_rate": 0.03,
              "task_type": "GPU"
             }
            ],
            "passed_time": 6828.748261,
            "remaining_time": 1012.876536,
            "test": [
             1.403546933
            ]
           },
           {
            "iteration": 418,
            "learn": [
             0.9370460254
            ],
            "parameters": [
             {
              "depth": 12,
              "iterations": 30,
              "l2_leaf_reg": 10,
              "learning_rate": 0.1,
              "task_type": "GPU"
             }
            ],
            "passed_time": 6835.987992,
            "remaining_time": 995.2154355,
            "test": [
             1.347405254
            ]
           },
           {
            "iteration": 419,
            "learn": [
             0.8906631784
            ],
            "parameters": [
             {
              "depth": 12,
              "iterations": 30,
              "l2_leaf_reg": 10,
              "learning_rate": 0.3,
              "task_type": "GPU"
             }
            ],
            "passed_time": 6843.484532,
            "remaining_time": 977.6406474,
            "test": [
             1.31665124
            ]
           },
           {
            "iteration": 420,
            "learn": [
             1.036438889
            ],
            "parameters": [
             {
              "depth": 12,
              "iterations": 100,
              "l2_leaf_reg": 0,
              "learning_rate": 0.01,
              "task_type": "GPU"
             }
            ],
            "passed_time": 6867.952548,
            "remaining_time": 962.4921624,
            "test": [
             1.402642864
            ]
           },
           {
            "iteration": 421,
            "learn": [
             0.9442162044
            ],
            "parameters": [
             {
              "depth": 12,
              "iterations": 100,
              "l2_leaf_reg": 0,
              "learning_rate": 0.03,
              "task_type": "GPU"
             }
            ],
            "passed_time": 6893.201907,
            "remaining_time": 947.4068971,
            "test": [
             1.349914162
            ]
           },
           {
            "iteration": 422,
            "learn": [
             0.8883376714
            ],
            "parameters": [
             {
              "depth": 12,
              "iterations": 100,
              "l2_leaf_reg": 0,
              "learning_rate": 0.1,
              "task_type": "GPU"
             }
            ],
            "passed_time": 6915.11849,
            "remaining_time": 931.8244773,
            "test": [
             1.315559038
            ]
           },
           {
            "iteration": 423,
            "learn": [
             0.8599876168
            ],
            "parameters": [
             {
              "depth": 12,
              "iterations": 100,
              "l2_leaf_reg": 0,
              "learning_rate": 0.3,
              "task_type": "GPU"
             }
            ],
            "passed_time": 6936.547279,
            "remaining_time": 916.1477539,
            "test": [
             1.304720434
            ]
           },
           {
            "iteration": 424,
            "learn": [
             1.032125557
            ],
            "parameters": [
             {
              "depth": 12,
              "iterations": 100,
              "l2_leaf_reg": 0.3,
              "learning_rate": 0.01,
              "task_type": "GPU"
             }
            ],
            "passed_time": 6962.70377,
            "remaining_time": 901.055782,
            "test": [
             1.401061876
            ]
           },
           {
            "iteration": 425,
            "learn": [
             0.9398476207
            ],
            "parameters": [
             {
              "depth": 12,
              "iterations": 100,
              "l2_leaf_reg": 0.3,
              "learning_rate": 0.03,
              "task_type": "GPU"
             }
            ],
            "passed_time": 6989.58756,
            "remaining_time": 886.0040569,
            "test": [
             1.347089286
            ]
           },
           {
            "iteration": 426,
            "learn": [
             0.898006787
            ],
            "parameters": [
             {
              "depth": 12,
              "iterations": 100,
              "l2_leaf_reg": 0.3,
              "learning_rate": 0.1,
              "task_type": "GPU"
             }
            ],
            "passed_time": 7008.240131,
            "remaining_time": 869.8752387,
            "test": [
             1.322730313
            ]
           },
           {
            "iteration": 427,
            "learn": [
             0.8840714194
            ],
            "parameters": [
             {
              "depth": 12,
              "iterations": 100,
              "l2_leaf_reg": 0.3,
              "learning_rate": 0.3,
              "task_type": "GPU"
             }
            ],
            "passed_time": 7022.761659,
            "remaining_time": 853.232725,
            "test": [
             1.310319791
            ]
           },
           {
            "iteration": 428,
            "learn": [
             1.033748015
            ],
            "parameters": [
             {
              "depth": 12,
              "iterations": 100,
              "l2_leaf_reg": 1,
              "learning_rate": 0.01,
              "task_type": "GPU"
             }
            ],
            "passed_time": 7047.336058,
            "remaining_time": 837.7951957,
            "test": [
             1.400287837
            ]
           },
           {
            "iteration": 429,
            "learn": [
             0.9451724483
            ],
            "parameters": [
             {
              "depth": 12,
              "iterations": 100,
              "l2_leaf_reg": 1,
              "learning_rate": 0.03,
              "task_type": "GPU"
             }
            ],
            "passed_time": 7069.440148,
            "remaining_time": 822.0279242,
            "test": [
             1.351981666
            ]
           },
           {
            "iteration": 430,
            "learn": [
             0.8852218758
            ],
            "parameters": [
             {
              "depth": 12,
              "iterations": 100,
              "l2_leaf_reg": 1,
              "learning_rate": 0.1,
              "task_type": "GPU"
             }
            ],
            "passed_time": 7091.632744,
            "remaining_time": 806.2413097,
            "test": [
             1.310276729
            ]
           },
           {
            "iteration": 431,
            "learn": [
             0.8739167355
            ],
            "parameters": [
             {
              "depth": 12,
              "iterations": 100,
              "l2_leaf_reg": 1,
              "learning_rate": 0.3,
              "task_type": "GPU"
             }
            ],
            "passed_time": 7106.878785,
            "remaining_time": 789.6531983,
            "test": [
             1.296945337
            ]
           },
           {
            "iteration": 432,
            "learn": [
             1.037238852
            ],
            "parameters": [
             {
              "depth": 12,
              "iterations": 100,
              "l2_leaf_reg": 3,
              "learning_rate": 0.01,
              "task_type": "GPU"
             }
            ],
            "passed_time": 7129.29322,
            "remaining_time": 773.8493795,
            "test": [
             1.401785844
            ]
           },
           {
            "iteration": 433,
            "learn": [
             0.9481449968
            ],
            "parameters": [
             {
              "depth": 12,
              "iterations": 100,
              "l2_leaf_reg": 3,
              "learning_rate": 0.03,
              "task_type": "GPU"
             }
            ],
            "passed_time": 7152.259303,
            "remaining_time": 758.0735667,
            "test": [
             1.35242305
            ]
           },
           {
            "iteration": 434,
            "learn": [
             0.8894956198
            ],
            "parameters": [
             {
              "depth": 12,
              "iterations": 100,
              "l2_leaf_reg": 3,
              "learning_rate": 0.1,
              "task_type": "GPU"
             }
            ],
            "passed_time": 7172.395061,
            "remaining_time": 741.9719029,
            "test": [
             1.315563327
            ]
           },
           {
            "iteration": 435,
            "learn": [
             0.868400375
            ],
            "parameters": [
             {
              "depth": 12,
              "iterations": 100,
              "l2_leaf_reg": 3,
              "learning_rate": 0.3,
              "task_type": "GPU"
             }
            ],
            "passed_time": 7192.069113,
            "remaining_time": 725.8051399,
            "test": [
             1.296570251
            ]
           },
           {
            "iteration": 436,
            "learn": [
             1.044370274
            ],
            "parameters": [
             {
              "depth": 12,
              "iterations": 100,
              "l2_leaf_reg": 10,
              "learning_rate": 0.01,
              "task_type": "GPU"
             }
            ],
            "passed_time": 7216.200018,
            "remaining_time": 710.0608714,
            "test": [
             1.404017504
            ]
           },
           {
            "iteration": 437,
            "learn": [
             0.9570260253
            ],
            "parameters": [
             {
              "depth": 12,
              "iterations": 100,
              "l2_leaf_reg": 10,
              "learning_rate": 0.03,
              "task_type": "GPU"
             }
            ],
            "passed_time": 7238.148173,
            "remaining_time": 694.0690029,
            "test": [
             1.354770812
            ]
           },
           {
            "iteration": 438,
            "learn": [
             0.8935424103
            ],
            "parameters": [
             {
              "depth": 12,
              "iterations": 100,
              "l2_leaf_reg": 10,
              "learning_rate": 0.1,
              "task_type": "GPU"
             }
            ],
            "passed_time": 7259.351308,
            "remaining_time": 677.9804183,
            "test": [
             1.321634833
            ]
           },
           {
            "iteration": 439,
            "learn": [
             0.8744985487
            ],
            "parameters": [
             {
              "depth": 12,
              "iterations": 100,
              "l2_leaf_reg": 10,
              "learning_rate": 0.3,
              "task_type": "GPU"
             }
            ],
            "passed_time": 7279.070475,
            "remaining_time": 661.7336795,
            "test": [
             1.304231823
            ]
           },
           {
            "iteration": 440,
            "learn": [
             0.9514315184
            ],
            "parameters": [
             {
              "depth": 12,
              "iterations": 300,
              "l2_leaf_reg": 0,
              "learning_rate": 0.01,
              "task_type": "GPU"
             }
            ],
            "passed_time": 7346.568955,
            "remaining_time": 649.6965743,
            "test": [
             1.354268779
            ]
           },
           {
            "iteration": 441,
            "learn": [
             0.8880067954
            ],
            "parameters": [
             {
              "depth": 12,
              "iterations": 300,
              "l2_leaf_reg": 0,
              "learning_rate": 0.03,
              "task_type": "GPU"
             }
            ],
            "passed_time": 7409.815316,
            "remaining_time": 637.0429457,
            "test": [
             1.311272294
            ]
           },
           {
            "iteration": 442,
            "learn": [
             0.8785275676
            ],
            "parameters": [
             {
              "depth": 12,
              "iterations": 300,
              "l2_leaf_reg": 0,
              "learning_rate": 0.1,
              "task_type": "GPU"
             }
            ],
            "passed_time": 7460.329035,
            "remaining_time": 623.0974589,
            "test": [
             1.307183933
            ]
           },
           {
            "iteration": 443,
            "learn": [
             0.8580381202
            ],
            "parameters": [
             {
              "depth": 12,
              "iterations": 300,
              "l2_leaf_reg": 0,
              "learning_rate": 0.3,
              "task_type": "GPU"
             }
            ],
            "passed_time": 7512.928287,
            "remaining_time": 609.1563476,
            "test": [
             1.30481329
            ]
           },
           {
            "iteration": 444,
            "learn": [
             0.9493703285
            ],
            "parameters": [
             {
              "depth": 12,
              "iterations": 300,
              "l2_leaf_reg": 0.3,
              "learning_rate": 0.01,
              "task_type": "GPU"
             }
            ],
            "passed_time": 7580.683948,
            "remaining_time": 596.233569,
            "test": [
             1.354343078
            ]
           },
           {
            "iteration": 445,
            "learn": [
             0.8930201598
            ],
            "parameters": [
             {
              "depth": 12,
              "iterations": 300,
              "l2_leaf_reg": 0.3,
              "learning_rate": 0.03,
              "task_type": "GPU"
             }
            ],
            "passed_time": 7644.322346,
            "remaining_time": 582.7510309,
            "test": [
             1.317441583
            ]
           },
           {
            "iteration": 446,
            "learn": [
             0.8662287712
            ],
            "parameters": [
             {
              "depth": 12,
              "iterations": 300,
              "l2_leaf_reg": 0.3,
              "learning_rate": 0.1,
              "task_type": "GPU"
             }
            ],
            "passed_time": 7695.579046,
            "remaining_time": 568.1299967,
            "test": [
             1.295423653
            ]
           },
           {
            "iteration": 447,
            "learn": [
             0.8504568315
            ],
            "parameters": [
             {
              "depth": 12,
              "iterations": 300,
              "l2_leaf_reg": 0.3,
              "learning_rate": 0.3,
              "task_type": "GPU"
             }
            ],
            "passed_time": 7750.257839,
            "remaining_time": 553.5898456,
            "test": [
             1.278857649
            ]
           },
           {
            "iteration": 448,
            "learn": [
             0.9454392232
            ],
            "parameters": [
             {
              "depth": 12,
              "iterations": 300,
              "l2_leaf_reg": 1,
              "learning_rate": 0.01,
              "task_type": "GPU"
             }
            ],
            "passed_time": 7819.984173,
            "remaining_time": 539.9098204,
            "test": [
             1.349315541
            ]
           },
           {
            "iteration": 449,
            "learn": [
             0.8842217744
            ],
            "parameters": [
             {
              "depth": 12,
              "iterations": 300,
              "l2_leaf_reg": 1,
              "learning_rate": 0.03,
              "task_type": "GPU"
             }
            ],
            "passed_time": 7885.438408,
            "remaining_time": 525.6958939,
            "test": [
             1.30955571
            ]
           },
           {
            "iteration": 450,
            "learn": [
             0.8623308705
            ],
            "parameters": [
             {
              "depth": 12,
              "iterations": 300,
              "l2_leaf_reg": 1,
              "learning_rate": 0.1,
              "task_type": "GPU"
             }
            ],
            "passed_time": 7943.675439,
            "remaining_time": 510.7906601,
            "test": [
             1.289104664
            ]
           },
           {
            "iteration": 451,
            "learn": [
             0.8435618159
            ],
            "parameters": [
             {
              "depth": 12,
              "iterations": 300,
              "l2_leaf_reg": 1,
              "learning_rate": 0.3,
              "task_type": "GPU"
             }
            ],
            "passed_time": 7991.179501,
            "remaining_time": 495.0288187,
            "test": [
             1.291501876
            ]
           },
           {
            "iteration": 452,
            "learn": [
             0.94867702
            ],
            "parameters": [
             {
              "depth": 12,
              "iterations": 300,
              "l2_leaf_reg": 3,
              "learning_rate": 0.01,
              "task_type": "GPU"
             }
            ],
            "passed_time": 8059.895436,
            "remaining_time": 480.3911187,
            "test": [
             1.35140476
            ]
           },
           {
            "iteration": 453,
            "learn": [
             0.8927263676
            ],
            "parameters": [
             {
              "depth": 12,
              "iterations": 300,
              "l2_leaf_reg": 3,
              "learning_rate": 0.03,
              "task_type": "GPU"
             }
            ],
            "passed_time": 8123.286149,
            "remaining_time": 465.21022,
            "test": [
             1.319075506
            ]
           },
           {
            "iteration": 454,
            "learn": [
             0.8663926851
            ],
            "parameters": [
             {
              "depth": 12,
              "iterations": 300,
              "l2_leaf_reg": 3,
              "learning_rate": 0.1,
              "task_type": "GPU"
             }
            ],
            "passed_time": 8184.885738,
            "remaining_time": 449.7189966,
            "test": [
             1.30877789
            ]
           },
           {
            "iteration": 455,
            "learn": [
             0.8481806231
            ],
            "parameters": [
             {
              "depth": 12,
              "iterations": 300,
              "l2_leaf_reg": 3,
              "learning_rate": 0.3,
              "task_type": "GPU"
             }
            ],
            "passed_time": 8241.209828,
            "remaining_time": 433.7478857,
            "test": [
             1.284386022
            ]
           },
           {
            "iteration": 456,
            "learn": [
             0.9522628979
            ],
            "parameters": [
             {
              "depth": 12,
              "iterations": 300,
              "l2_leaf_reg": 10,
              "learning_rate": 0.01,
              "task_type": "GPU"
             }
            ],
            "passed_time": 8307.545304,
            "remaining_time": 418.1040306,
            "test": [
             1.355132796
            ]
           },
           {
            "iteration": 457,
            "learn": [
             0.8979929405
            ],
            "parameters": [
             {
              "depth": 12,
              "iterations": 300,
              "l2_leaf_reg": 10,
              "learning_rate": 0.03,
              "task_type": "GPU"
             }
            ],
            "passed_time": 8368.456562,
            "remaining_time": 401.9782628,
            "test": [
             1.32149825
            ]
           },
           {
            "iteration": 458,
            "learn": [
             0.8813318328
            ],
            "parameters": [
             {
              "depth": 12,
              "iterations": 300,
              "l2_leaf_reg": 10,
              "learning_rate": 0.1,
              "task_type": "GPU"
             }
            ],
            "passed_time": 8420.180035,
            "remaining_time": 385.2369951,
            "test": [
             1.308747631
            ]
           },
           {
            "iteration": 459,
            "learn": [
             0.859931178
            ],
            "parameters": [
             {
              "depth": 12,
              "iterations": 300,
              "l2_leaf_reg": 10,
              "learning_rate": 0.3,
              "task_type": "GPU"
             }
            ],
            "passed_time": 8468.481024,
            "remaining_time": 368.1948271,
            "test": [
             1.301839832
            ]
           },
           {
            "iteration": 460,
            "learn": [
             0.8884206211
            ],
            "parameters": [
             {
              "depth": 12,
              "iterations": 1000,
              "l2_leaf_reg": 0,
              "learning_rate": 0.01,
              "task_type": "GPU"
             }
            ],
            "passed_time": 8673.018262,
            "remaining_time": 357.4562841,
            "test": [
             1.310521326
            ]
           },
           {
            "iteration": 461,
            "learn": [
             0.8719260318
            ],
            "parameters": [
             {
              "depth": 12,
              "iterations": 1000,
              "l2_leaf_reg": 0,
              "learning_rate": 0.03,
              "task_type": "GPU"
             }
            ],
            "passed_time": 8826.49792,
            "remaining_time": 343.8895293,
            "test": [
             1.302435724
            ]
           },
           {
            "iteration": 462,
            "learn": [
             0.8571364702
            ],
            "parameters": [
             {
              "depth": 12,
              "iterations": 1000,
              "l2_leaf_reg": 0,
              "learning_rate": 0.1,
              "task_type": "GPU"
             }
            ],
            "passed_time": 9004.212276,
            "remaining_time": 330.6082261,
            "test": [
             1.293654136
            ]
           },
           {
            "iteration": 463,
            "learn": [
             0.8293722278
            ],
            "parameters": [
             {
              "depth": 12,
              "iterations": 1000,
              "l2_leaf_reg": 0,
              "learning_rate": 0.3,
              "task_type": "GPU"
             }
            ],
            "passed_time": 9159.682942,
            "remaining_time": 315.8511359,
            "test": [
             1.306559576
            ]
           },
           {
            "iteration": 464,
            "learn": [
             0.8867863413
            ],
            "parameters": [
             {
              "depth": 12,
              "iterations": 1000,
              "l2_leaf_reg": 0.3,
              "learning_rate": 0.01,
              "task_type": "GPU"
             }
            ],
            "passed_time": 9364.928286,
            "remaining_time": 302.0944609,
            "test": [
             1.30991252
            ]
           },
           {
            "iteration": 465,
            "learn": [
             0.8640492911
            ],
            "parameters": [
             {
              "depth": 12,
              "iterations": 1000,
              "l2_leaf_reg": 0.3,
              "learning_rate": 0.03,
              "task_type": "GPU"
             }
            ],
            "passed_time": 9542.789462,
            "remaining_time": 286.6932456,
            "test": [
             1.294992292
            ]
           },
           {
            "iteration": 466,
            "learn": [
             0.8507088149
            ],
            "parameters": [
             {
              "depth": 12,
              "iterations": 1000,
              "l2_leaf_reg": 0.3,
              "learning_rate": 0.1,
              "task_type": "GPU"
             }
            ],
            "passed_time": 9707.470556,
            "remaining_time": 270.2293731,
            "test": [
             1.296105171
            ]
           },
           {
            "iteration": 467,
            "learn": [
             0.8287136293
            ],
            "parameters": [
             {
              "depth": 12,
              "iterations": 1000,
              "l2_leaf_reg": 0.3,
              "learning_rate": 0.3,
              "task_type": "GPU"
             }
            ],
            "passed_time": 9866.951147,
            "remaining_time": 252.9987474,
            "test": [
             1.271088062
            ]
           },
           {
            "iteration": 468,
            "learn": [
             0.8850202458
            ],
            "parameters": [
             {
              "depth": 12,
              "iterations": 1000,
              "l2_leaf_reg": 1,
              "learning_rate": 0.01,
              "task_type": "GPU"
             }
            ],
            "passed_time": 10072.63674,
            "remaining_time": 236.2452113,
            "test": [
             1.307591734
            ]
           },
           {
            "iteration": 469,
            "learn": [
             0.8592046459
            ],
            "parameters": [
             {
              "depth": 12,
              "iterations": 1000,
              "l2_leaf_reg": 1,
              "learning_rate": 0.03,
              "task_type": "GPU"
             }
            ],
            "passed_time": 10275.16023,
            "remaining_time": 218.6204304,
            "test": [
             1.296342971
            ]
           },
           {
            "iteration": 470,
            "learn": [
             0.8444208555
            ],
            "parameters": [
             {
              "depth": 12,
              "iterations": 1000,
              "l2_leaf_reg": 1,
              "learning_rate": 0.1,
              "task_type": "GPU"
             }
            ],
            "passed_time": 10456.68675,
            "remaining_time": 199.8093009,
            "test": [
             1.289114796
            ]
           },
           {
            "iteration": 471,
            "learn": [
             0.83091179
            ],
            "parameters": [
             {
              "depth": 12,
              "iterations": 1000,
              "l2_leaf_reg": 1,
              "learning_rate": 0.3,
              "task_type": "GPU"
             }
            ],
            "passed_time": 10621.07051,
            "remaining_time": 180.0181442,
            "test": [
             1.281276276
            ]
           },
           {
            "iteration": 472,
            "learn": [
             0.887406404
            ],
            "parameters": [
             {
              "depth": 12,
              "iterations": 1000,
              "l2_leaf_reg": 3,
              "learning_rate": 0.01,
              "task_type": "GPU"
             }
            ],
            "passed_time": 10831.80602,
            "remaining_time": 160.301569,
            "test": [
             1.311728491
            ]
           },
           {
            "iteration": 473,
            "learn": [
             0.8689952003
            ],
            "parameters": [
             {
              "depth": 12,
              "iterations": 1000,
              "l2_leaf_reg": 3,
              "learning_rate": 0.03,
              "task_type": "GPU"
             }
            ],
            "passed_time": 11004.17525,
            "remaining_time": 139.2933575,
            "test": [
             1.299162936
            ]
           },
           {
            "iteration": 474,
            "learn": [
             0.8448553503
            ],
            "parameters": [
             {
              "depth": 12,
              "iterations": 1000,
              "l2_leaf_reg": 3,
              "learning_rate": 0.1,
              "task_type": "GPU"
             }
            ],
            "passed_time": 11193.48707,
            "remaining_time": 117.8261797,
            "test": [
             1.296057284
            ]
           },
           {
            "iteration": 475,
            "learn": [
             0.8224270823
            ],
            "parameters": [
             {
              "depth": 12,
              "iterations": 1000,
              "l2_leaf_reg": 3,
              "learning_rate": 0.3,
              "task_type": "GPU"
             }
            ],
            "passed_time": 11360.72347,
            "remaining_time": 95.46826441,
            "test": [
             1.29569436
            ]
           },
           {
            "iteration": 476,
            "learn": [
             0.8952913737
            ],
            "parameters": [
             {
              "depth": 12,
              "iterations": 1000,
              "l2_leaf_reg": 10,
              "learning_rate": 0.01,
              "task_type": "GPU"
             }
            ],
            "passed_time": 11568.31584,
            "remaining_time": 72.75670343,
            "test": [
             1.321515921
            ]
           },
           {
            "iteration": 477,
            "learn": [
             0.873542271
            ],
            "parameters": [
             {
              "depth": 12,
              "iterations": 1000,
              "l2_leaf_reg": 10,
              "learning_rate": 0.03,
              "task_type": "GPU"
             }
            ],
            "passed_time": 11739.80657,
            "remaining_time": 49.12052957,
            "test": [
             1.309580085
            ]
           },
           {
            "iteration": 478,
            "learn": [
             0.8550620702
            ],
            "parameters": [
             {
              "depth": 12,
              "iterations": 1000,
              "l2_leaf_reg": 10,
              "learning_rate": 0.1,
              "task_type": "GPU"
             }
            ],
            "passed_time": 11906.85655,
            "remaining_time": 24.85773809,
            "test": [
             1.298442545
            ]
           },
           {
            "iteration": 479,
            "learn": [
             0.8340805463
            ],
            "parameters": [
             {
              "depth": 12,
              "iterations": 1000,
              "l2_leaf_reg": 10,
              "learning_rate": 0.3,
              "task_type": "GPU"
             }
            ],
            "passed_time": 12060.6734,
            "remaining_time": 0,
            "test": [
             1.291284952
            ]
           }
          ],
          "meta": {
           "iteration_count": 480,
           "launch_mode": "Train",
           "learn_metrics": [
            {
             "best_value": "Min",
             "name": "RMSE"
            }
           ],
           "learn_sets": [
            "learn"
           ],
           "name": "experiment",
           "parameters": "parameters",
           "test_metrics": [
            {
             "best_value": "Min",
             "name": "RMSE"
            }
           ],
           "test_sets": [
            "test"
           ]
          }
         },
         "passed_iterations": 479,
         "total_iterations": 480
        },
        "name": "catboost_info",
        "path": "catboost_info"
       }
      },
      "layout": "IPY_MODEL_b0ea7ccf7ea84ddba738fa5209c882c7"
     }
    },
    "c0a7e8e570d44c31829e0cabb4be1dca": {
     "model_module": "@jupyter-widgets/base",
     "model_name": "DOMWidgetModel",
     "state": {
      "_dom_classes": [],
      "_model_module": "@jupyter-widgets/base",
      "_model_module_version": "1.2.0",
      "_model_name": "DOMWidgetModel",
      "_view_count": null,
      "_view_module": "catboost_module",
      "_view_module_version": "",
      "_view_name": "CatboostIpythonWidgetView",
      "data": {
       "catboost_info": {
        "content": {
         "data": {
          "iterations": [
           {
            "iteration": 0,
            "learn": [
             1.123816308
            ],
            "parameters": [
             {
              "depth": 4,
              "iterations": 30,
              "l2_leaf_reg": 0,
              "learning_rate": 0.01,
              "task_type": "GPU"
             }
            ],
            "passed_time": 2.36225733,
            "remaining_time": 1131.521261,
            "test": [
             1.453284867
            ]
           },
           {
            "iteration": 1,
            "learn": [
             1.056237716
            ],
            "parameters": [
             {
              "depth": 4,
              "iterations": 30,
              "l2_leaf_reg": 0,
              "learning_rate": 0.03,
              "task_type": "GPU"
             }
            ],
            "passed_time": 4.06586053,
            "remaining_time": 971.7406666,
            "test": [
             1.414045465
            ]
           },
           {
            "iteration": 2,
            "learn": [
             0.9698144682
            ],
            "parameters": [
             {
              "depth": 4,
              "iterations": 30,
              "l2_leaf_reg": 0,
              "learning_rate": 0.1,
              "task_type": "GPU"
             }
            ],
            "passed_time": 5.796147757,
            "remaining_time": 921.5874933,
            "test": [
             1.370855711
            ]
           },
           {
            "iteration": 3,
            "learn": [
             0.9288089656
            ],
            "parameters": [
             {
              "depth": 4,
              "iterations": 30,
              "l2_leaf_reg": 0,
              "learning_rate": 0.3,
              "task_type": "GPU"
             }
            ],
            "passed_time": 7.474236149,
            "remaining_time": 889.4341018,
            "test": [
             1.350894979
            ]
           },
           {
            "iteration": 4,
            "learn": [
             1.121334574
            ],
            "parameters": [
             {
              "depth": 4,
              "iterations": 30,
              "l2_leaf_reg": 0.3,
              "learning_rate": 0.01,
              "task_type": "GPU"
             }
            ],
            "passed_time": 9.167643143,
            "remaining_time": 870.9260986,
            "test": [
             1.452470606
            ]
           },
           {
            "iteration": 5,
            "learn": [
             1.062622214
            ],
            "parameters": [
             {
              "depth": 4,
              "iterations": 30,
              "l2_leaf_reg": 0.3,
              "learning_rate": 0.03,
              "task_type": "GPU"
             }
            ],
            "passed_time": 10.8825507,
            "remaining_time": 859.7215055,
            "test": [
             1.416602456
            ]
           },
           {
            "iteration": 6,
            "learn": [
             0.9731690026
            ],
            "parameters": [
             {
              "depth": 4,
              "iterations": 30,
              "l2_leaf_reg": 0.3,
              "learning_rate": 0.1,
              "task_type": "GPU"
             }
            ],
            "passed_time": 12.58475045,
            "remaining_time": 850.3695661,
            "test": [
             1.372543439
            ]
           },
           {
            "iteration": 7,
            "learn": [
             0.9283187402
            ],
            "parameters": [
             {
              "depth": 4,
              "iterations": 30,
              "l2_leaf_reg": 0.3,
              "learning_rate": 0.3,
              "task_type": "GPU"
             }
            ],
            "passed_time": 14.29069307,
            "remaining_time": 843.1508909,
            "test": [
             1.350813065
            ]
           },
           {
            "iteration": 8,
            "learn": [
             1.122760526
            ],
            "parameters": [
             {
              "depth": 4,
              "iterations": 30,
              "l2_leaf_reg": 1,
              "learning_rate": 0.01,
              "task_type": "GPU"
             }
            ],
            "passed_time": 16.01465663,
            "remaining_time": 838.1003637,
            "test": [
             1.453011915
            ]
           },
           {
            "iteration": 9,
            "learn": [
             1.05290505
            ],
            "parameters": [
             {
              "depth": 4,
              "iterations": 30,
              "l2_leaf_reg": 1,
              "learning_rate": 0.03,
              "task_type": "GPU"
             }
            ],
            "passed_time": 17.70889942,
            "remaining_time": 832.3182728,
            "test": [
             1.411798202
            ]
           },
           {
            "iteration": 10,
            "learn": [
             0.9678320536
            ],
            "parameters": [
             {
              "depth": 4,
              "iterations": 30,
              "l2_leaf_reg": 1,
              "learning_rate": 0.1,
              "task_type": "GPU"
             }
            ],
            "passed_time": 19.42408855,
            "remaining_time": 828.1725028,
            "test": [
             1.36988255
            ]
           },
           {
            "iteration": 11,
            "learn": [
             0.9318612712
            ],
            "parameters": [
             {
              "depth": 4,
              "iterations": 30,
              "l2_leaf_reg": 1,
              "learning_rate": 0.3,
              "task_type": "GPU"
             }
            ],
            "passed_time": 21.17983551,
            "remaining_time": 826.013585,
            "test": [
             1.350238523
            ]
           },
           {
            "iteration": 12,
            "learn": [
             1.12277616
            ],
            "parameters": [
             {
              "depth": 4,
              "iterations": 30,
              "l2_leaf_reg": 3,
              "learning_rate": 0.01,
              "task_type": "GPU"
             }
            ],
            "passed_time": 22.88896247,
            "remaining_time": 822.2419595,
            "test": [
             1.452999259
            ]
           },
           {
            "iteration": 13,
            "learn": [
             1.051588969
            ],
            "parameters": [
             {
              "depth": 4,
              "iterations": 30,
              "l2_leaf_reg": 3,
              "learning_rate": 0.03,
              "task_type": "GPU"
             }
            ],
            "passed_time": 24.59287153,
            "remaining_time": 818.5912951,
            "test": [
             1.411812856
            ]
           },
           {
            "iteration": 14,
            "learn": [
             0.9839064853
            ],
            "parameters": [
             {
              "depth": 4,
              "iterations": 30,
              "l2_leaf_reg": 3,
              "learning_rate": 0.1,
              "task_type": "GPU"
             }
            ],
            "passed_time": 26.32737634,
            "remaining_time": 816.1486667,
            "test": [
             1.373997701
            ]
           },
           {
            "iteration": 15,
            "learn": [
             0.9237865405
            ],
            "parameters": [
             {
              "depth": 4,
              "iterations": 30,
              "l2_leaf_reg": 3,
              "learning_rate": 0.3,
              "task_type": "GPU"
             }
            ],
            "passed_time": 28.04333851,
            "remaining_time": 813.2568166,
            "test": [
             1.343611374
            ]
           },
           {
            "iteration": 16,
            "learn": [
             1.12360644
            ],
            "parameters": [
             {
              "depth": 4,
              "iterations": 30,
              "l2_leaf_reg": 10,
              "learning_rate": 0.01,
              "task_type": "GPU"
             }
            ],
            "passed_time": 29.75313652,
            "remaining_time": 810.3354239,
            "test": [
             1.453595866
            ]
           },
           {
            "iteration": 17,
            "learn": [
             1.056410525
            ],
            "parameters": [
             {
              "depth": 4,
              "iterations": 30,
              "l2_leaf_reg": 10,
              "learning_rate": 0.03,
              "task_type": "GPU"
             }
            ],
            "passed_time": 31.46160261,
            "remaining_time": 807.5144671,
            "test": [
             1.413779201
            ]
           },
           {
            "iteration": 18,
            "learn": [
             0.9707354325
            ],
            "parameters": [
             {
              "depth": 4,
              "iterations": 30,
              "l2_leaf_reg": 10,
              "learning_rate": 0.1,
              "task_type": "GPU"
             }
            ],
            "passed_time": 33.16553886,
            "remaining_time": 804.7007061,
            "test": [
             1.371391826
            ]
           },
           {
            "iteration": 19,
            "learn": [
             0.9348523663
            ],
            "parameters": [
             {
              "depth": 4,
              "iterations": 30,
              "l2_leaf_reg": 10,
              "learning_rate": 0.3,
              "task_type": "GPU"
             }
            ],
            "passed_time": 34.88105105,
            "remaining_time": 802.2641742,
            "test": [
             1.358053815
            ]
           },
           {
            "iteration": 20,
            "learn": [
             1.046738765
            ],
            "parameters": [
             {
              "depth": 4,
              "iterations": 100,
              "l2_leaf_reg": 0,
              "learning_rate": 0.01,
              "task_type": "GPU"
             }
            ],
            "passed_time": 38.61366455,
            "remaining_time": 843.9843823,
            "test": [
             1.408870392
            ]
           },
           {
            "iteration": 21,
            "learn": [
             0.9737099954
            ],
            "parameters": [
             {
              "depth": 4,
              "iterations": 100,
              "l2_leaf_reg": 0,
              "learning_rate": 0.03,
              "task_type": "GPU"
             }
            ],
            "passed_time": 42.34806749,
            "remaining_time": 881.6097686,
            "test": [
             1.372599239
            ]
           },
           {
            "iteration": 22,
            "learn": [
             0.9303661186
            ],
            "parameters": [
             {
              "depth": 4,
              "iterations": 100,
              "l2_leaf_reg": 0,
              "learning_rate": 0.1,
              "task_type": "GPU"
             }
            ],
            "passed_time": 46.08242304,
            "remaining_time": 915.63771,
            "test": [
             1.353908108
            ]
           },
           {
            "iteration": 23,
            "learn": [
             0.9156155554
            ],
            "parameters": [
             {
              "depth": 4,
              "iterations": 100,
              "l2_leaf_reg": 0,
              "learning_rate": 0.3,
              "task_type": "GPU"
             }
            ],
            "passed_time": 49.7677396,
            "remaining_time": 945.5870525,
            "test": [
             1.335708609
            ]
           },
           {
            "iteration": 24,
            "learn": [
             1.045946717
            ],
            "parameters": [
             {
              "depth": 4,
              "iterations": 100,
              "l2_leaf_reg": 0.3,
              "learning_rate": 0.01,
              "task_type": "GPU"
             }
            ],
            "passed_time": 53.56806493,
            "remaining_time": 974.9387817,
            "test": [
             1.408431786
            ]
           },
           {
            "iteration": 25,
            "learn": [
             0.9735642575
            ],
            "parameters": [
             {
              "depth": 4,
              "iterations": 100,
              "l2_leaf_reg": 0.3,
              "learning_rate": 0.03,
              "task_type": "GPU"
             }
            ],
            "passed_time": 57.33140562,
            "remaining_time": 1001.094544,
            "test": [
             1.371925065
            ]
           },
           {
            "iteration": 26,
            "learn": [
             0.9313419123
            ],
            "parameters": [
             {
              "depth": 4,
              "iterations": 100,
              "l2_leaf_reg": 0.3,
              "learning_rate": 0.1,
              "task_type": "GPU"
             }
            ],
            "passed_time": 61.06507437,
            "remaining_time": 1024.536248,
            "test": [
             1.355801603
            ]
           },
           {
            "iteration": 27,
            "learn": [
             0.9173828605
            ],
            "parameters": [
             {
              "depth": 4,
              "iterations": 100,
              "l2_leaf_reg": 0.3,
              "learning_rate": 0.3,
              "task_type": "GPU"
             }
            ],
            "passed_time": 64.79714741,
            "remaining_time": 1046.011094,
            "test": [
             1.331452522
            ]
           },
           {
            "iteration": 28,
            "learn": [
             1.049418234
            ],
            "parameters": [
             {
              "depth": 4,
              "iterations": 100,
              "l2_leaf_reg": 1,
              "learning_rate": 0.01,
              "task_type": "GPU"
             }
            ],
            "passed_time": 68.49771243,
            "remaining_time": 1065.257528,
            "test": [
             1.410033561
            ]
           },
           {
            "iteration": 29,
            "learn": [
             0.9792009658
            ],
            "parameters": [
             {
              "depth": 4,
              "iterations": 100,
              "l2_leaf_reg": 1,
              "learning_rate": 0.03,
              "task_type": "GPU"
             }
            ],
            "passed_time": 72.24873547,
            "remaining_time": 1083.731032,
            "test": [
             1.373182155
            ]
           },
           {
            "iteration": 30,
            "learn": [
             0.9303246194
            ],
            "parameters": [
             {
              "depth": 4,
              "iterations": 100,
              "l2_leaf_reg": 1,
              "learning_rate": 0.1,
              "task_type": "GPU"
             }
            ],
            "passed_time": 75.98890842,
            "remaining_time": 1100.613544,
            "test": [
             1.352771296
            ]
           },
           {
            "iteration": 31,
            "learn": [
             0.9170196507
            ],
            "parameters": [
             {
              "depth": 4,
              "iterations": 100,
              "l2_leaf_reg": 1,
              "learning_rate": 0.3,
              "task_type": "GPU"
             }
            ],
            "passed_time": 79.69604621,
            "remaining_time": 1115.744647,
            "test": [
             1.333090122
            ]
           },
           {
            "iteration": 32,
            "learn": [
             1.044551549
            ],
            "parameters": [
             {
              "depth": 4,
              "iterations": 100,
              "l2_leaf_reg": 3,
              "learning_rate": 0.01,
              "task_type": "GPU"
             }
            ],
            "passed_time": 83.42190084,
            "remaining_time": 1129.987566,
            "test": [
             1.407894933
            ]
           },
           {
            "iteration": 33,
            "learn": [
             0.9726636434
            ],
            "parameters": [
             {
              "depth": 4,
              "iterations": 100,
              "l2_leaf_reg": 3,
              "learning_rate": 0.03,
              "task_type": "GPU"
             }
            ],
            "passed_time": 87.15479336,
            "remaining_time": 1143.265819,
            "test": [
             1.371185483
            ]
           },
           {
            "iteration": 34,
            "learn": [
             0.929502255
            ],
            "parameters": [
             {
              "depth": 4,
              "iterations": 100,
              "l2_leaf_reg": 3,
              "learning_rate": 0.1,
              "task_type": "GPU"
             }
            ],
            "passed_time": 90.87652907,
            "remaining_time": 1155.430155,
            "test": [
             1.351347234
            ]
           },
           {
            "iteration": 35,
            "learn": [
             0.9130288823
            ],
            "parameters": [
             {
              "depth": 4,
              "iterations": 100,
              "l2_leaf_reg": 3,
              "learning_rate": 0.3,
              "task_type": "GPU"
             }
            ],
            "passed_time": 94.62044858,
            "remaining_time": 1166.985532,
            "test": [
             1.328088895
            ]
           },
           {
            "iteration": 36,
            "learn": [
             1.046026483
            ],
            "parameters": [
             {
              "depth": 4,
              "iterations": 100,
              "l2_leaf_reg": 10,
              "learning_rate": 0.01,
              "task_type": "GPU"
             }
            ],
            "passed_time": 98.34339279,
            "remaining_time": 1177.462784,
            "test": [
             1.409001806
            ]
           },
           {
            "iteration": 37,
            "learn": [
             0.9765744473
            ],
            "parameters": [
             {
              "depth": 4,
              "iterations": 100,
              "l2_leaf_reg": 10,
              "learning_rate": 0.03,
              "task_type": "GPU"
             }
            ],
            "passed_time": 102.1057933,
            "remaining_time": 1187.651596,
            "test": [
             1.373020297
            ]
           },
           {
            "iteration": 38,
            "learn": [
             0.9281200275
            ],
            "parameters": [
             {
              "depth": 4,
              "iterations": 100,
              "l2_leaf_reg": 10,
              "learning_rate": 0.1,
              "task_type": "GPU"
             }
            ],
            "passed_time": 105.8410617,
            "remaining_time": 1196.81816,
            "test": [
             1.347513352
            ]
           },
           {
            "iteration": 39,
            "learn": [
             0.9224000242
            ],
            "parameters": [
             {
              "depth": 4,
              "iterations": 100,
              "l2_leaf_reg": 10,
              "learning_rate": 0.3,
              "task_type": "GPU"
             }
            ],
            "passed_time": 109.5679389,
            "remaining_time": 1205.247328,
            "test": [
             1.343003408
            ]
           },
           {
            "iteration": 40,
            "learn": [
             0.9707685309
            ],
            "parameters": [
             {
              "depth": 4,
              "iterations": 300,
              "l2_leaf_reg": 0,
              "learning_rate": 0.01,
              "task_type": "GPU"
             }
            ],
            "passed_time": 119.1228979,
            "remaining_time": 1275.486639,
            "test": [
             1.371734189
            ]
           },
           {
            "iteration": 41,
            "learn": [
             0.9313452781
            ],
            "parameters": [
             {
              "depth": 4,
              "iterations": 300,
              "l2_leaf_reg": 0,
              "learning_rate": 0.03,
              "task_type": "GPU"
             }
            ],
            "passed_time": 128.6200056,
            "remaining_time": 1341.322915,
            "test": [
             1.351828709
            ]
           },
           {
            "iteration": 42,
            "learn": [
             0.9212259299
            ],
            "parameters": [
             {
              "depth": 4,
              "iterations": 300,
              "l2_leaf_reg": 0,
              "learning_rate": 0.1,
              "task_type": "GPU"
             }
            ],
            "passed_time": 138.1276551,
            "remaining_time": 1403.762449,
            "test": [
             1.346395586
            ]
           },
           {
            "iteration": 43,
            "learn": [
             0.9007897633
            ],
            "parameters": [
             {
              "depth": 4,
              "iterations": 300,
              "l2_leaf_reg": 0,
              "learning_rate": 0.3,
              "task_type": "GPU"
             }
            ],
            "passed_time": 147.6743032,
            "remaining_time": 1463.318095,
            "test": [
             1.320358698
            ]
           },
           {
            "iteration": 44,
            "learn": [
             0.9754805035
            ],
            "parameters": [
             {
              "depth": 4,
              "iterations": 300,
              "l2_leaf_reg": 0.3,
              "learning_rate": 0.01,
              "task_type": "GPU"
             }
            ],
            "passed_time": 157.1516962,
            "remaining_time": 1519.133063,
            "test": [
             1.372775
            ]
           },
           {
            "iteration": 45,
            "learn": [
             0.9301888214
            ],
            "parameters": [
             {
              "depth": 4,
              "iterations": 300,
              "l2_leaf_reg": 0.3,
              "learning_rate": 0.03,
              "task_type": "GPU"
             }
            ],
            "passed_time": 166.7302581,
            "remaining_time": 1573.06374,
            "test": [
             1.352461216
            ]
           },
           {
            "iteration": 46,
            "learn": [
             0.9304559618
            ],
            "parameters": [
             {
              "depth": 4,
              "iterations": 300,
              "l2_leaf_reg": 0.3,
              "learning_rate": 0.1,
              "task_type": "GPU"
             }
            ],
            "passed_time": 176.1171993,
            "remaining_time": 1622.526538,
            "test": [
             1.349426273
            ]
           },
           {
            "iteration": 47,
            "learn": [
             0.90320804
            ],
            "parameters": [
             {
              "depth": 4,
              "iterations": 300,
              "l2_leaf_reg": 0.3,
              "learning_rate": 0.3,
              "task_type": "GPU"
             }
            ],
            "passed_time": 185.5747604,
            "remaining_time": 1670.172844,
            "test": [
             1.319392996
            ]
           },
           {
            "iteration": 48,
            "learn": [
             0.9766376794
            ],
            "parameters": [
             {
              "depth": 4,
              "iterations": 300,
              "l2_leaf_reg": 1,
              "learning_rate": 0.01,
              "task_type": "GPU"
             }
            ],
            "passed_time": 195.0959572,
            "remaining_time": 1716.048113,
            "test": [
             1.373464582
            ]
           },
           {
            "iteration": 49,
            "learn": [
             0.9311901046
            ],
            "parameters": [
             {
              "depth": 4,
              "iterations": 300,
              "l2_leaf_reg": 1,
              "learning_rate": 0.03,
              "task_type": "GPU"
             }
            ],
            "passed_time": 204.801575,
            "remaining_time": 1761.293545,
            "test": [
             1.352419264
            ]
           },
           {
            "iteration": 50,
            "learn": [
             0.9188937942
            ],
            "parameters": [
             {
              "depth": 4,
              "iterations": 300,
              "l2_leaf_reg": 1,
              "learning_rate": 0.1,
              "task_type": "GPU"
             }
            ],
            "passed_time": 214.319118,
            "remaining_time": 1802.801993,
            "test": [
             1.339738353
            ]
           },
           {
            "iteration": 51,
            "learn": [
             0.9035833064
            ],
            "parameters": [
             {
              "depth": 4,
              "iterations": 300,
              "l2_leaf_reg": 1,
              "learning_rate": 0.3,
              "task_type": "GPU"
             }
            ],
            "passed_time": 223.807498,
            "remaining_time": 1842.107868,
            "test": [
             1.322541423
            ]
           },
           {
            "iteration": 52,
            "learn": [
             0.9707576597
            ],
            "parameters": [
             {
              "depth": 4,
              "iterations": 300,
              "l2_leaf_reg": 3,
              "learning_rate": 0.01,
              "task_type": "GPU"
             }
            ],
            "passed_time": 233.3067038,
            "remaining_time": 1879.65967,
            "test": [
             1.371630819
            ]
           },
           {
            "iteration": 53,
            "learn": [
             0.93060977
            ],
            "parameters": [
             {
              "depth": 4,
              "iterations": 300,
              "l2_leaf_reg": 3,
              "learning_rate": 0.03,
              "task_type": "GPU"
             }
            ],
            "passed_time": 242.8248979,
            "remaining_time": 1915.618639,
            "test": [
             1.353874845
            ]
           },
           {
            "iteration": 54,
            "learn": [
             0.9207745916
            ],
            "parameters": [
             {
              "depth": 4,
              "iterations": 300,
              "l2_leaf_reg": 3,
              "learning_rate": 0.1,
              "task_type": "GPU"
             }
            ],
            "passed_time": 252.2962174,
            "remaining_time": 1949.56168,
            "test": [
             1.343335039
            ]
           },
           {
            "iteration": 55,
            "learn": [
             0.9025280689
            ],
            "parameters": [
             {
              "depth": 4,
              "iterations": 300,
              "l2_leaf_reg": 3,
              "learning_rate": 0.3,
              "task_type": "GPU"
             }
            ],
            "passed_time": 261.7787003,
            "remaining_time": 1982.038731,
            "test": [
             1.316343368
            ]
           },
           {
            "iteration": 56,
            "learn": [
             0.9722620041
            ],
            "parameters": [
             {
              "depth": 4,
              "iterations": 300,
              "l2_leaf_reg": 10,
              "learning_rate": 0.01,
              "task_type": "GPU"
             }
            ],
            "passed_time": 271.2569861,
            "remaining_time": 2013.01237,
            "test": [
             1.371749728
            ]
           },
           {
            "iteration": 57,
            "learn": [
             0.9307134828
            ],
            "parameters": [
             {
              "depth": 4,
              "iterations": 300,
              "l2_leaf_reg": 10,
              "learning_rate": 0.03,
              "task_type": "GPU"
             }
            ],
            "passed_time": 280.7941641,
            "remaining_time": 2043.019607,
            "test": [
             1.352842509
            ]
           },
           {
            "iteration": 58,
            "learn": [
             0.9169984568
            ],
            "parameters": [
             {
              "depth": 4,
              "iterations": 300,
              "l2_leaf_reg": 10,
              "learning_rate": 0.1,
              "task_type": "GPU"
             }
            ],
            "passed_time": 290.2984972,
            "remaining_time": 2071.451988,
            "test": [
             1.338380917
            ]
           },
           {
            "iteration": 59,
            "learn": [
             0.9015249128
            ],
            "parameters": [
             {
              "depth": 4,
              "iterations": 300,
              "l2_leaf_reg": 10,
              "learning_rate": 0.3,
              "task_type": "GPU"
             }
            ],
            "passed_time": 299.9652154,
            "remaining_time": 2099.756507,
            "test": [
             1.317282513
            ]
           },
           {
            "iteration": 60,
            "learn": [
             0.9278265665
            ],
            "parameters": [
             {
              "depth": 4,
              "iterations": 1000,
              "l2_leaf_reg": 0,
              "learning_rate": 0.01,
              "task_type": "GPU"
             }
            ],
            "passed_time": 329.4954575,
            "remaining_time": 2263.255683,
            "test": [
             1.351587375
            ]
           },
           {
            "iteration": 61,
            "learn": [
             0.9227053464
            ],
            "parameters": [
             {
              "depth": 4,
              "iterations": 1000,
              "l2_leaf_reg": 0,
              "learning_rate": 0.03,
              "task_type": "GPU"
             }
            ],
            "passed_time": 359.0021894,
            "remaining_time": 2420.3696,
            "test": [
             1.345356657
            ]
           },
           {
            "iteration": 62,
            "learn": [
             0.9016907538
            ],
            "parameters": [
             {
              "depth": 4,
              "iterations": 1000,
              "l2_leaf_reg": 0,
              "learning_rate": 0.1,
              "task_type": "GPU"
             }
            ],
            "passed_time": 388.6154171,
            "remaining_time": 2572.263952,
            "test": [
             1.317932987
            ]
           },
           {
            "iteration": 63,
            "learn": [
             0.8908154413
            ],
            "parameters": [
             {
              "depth": 4,
              "iterations": 1000,
              "l2_leaf_reg": 0,
              "learning_rate": 0.3,
              "task_type": "GPU"
             }
            ],
            "passed_time": 417.9507158,
            "remaining_time": 2716.679653,
            "test": [
             1.312107287
            ]
           },
           {
            "iteration": 64,
            "learn": [
             0.9284718614
            ],
            "parameters": [
             {
              "depth": 4,
              "iterations": 1000,
              "l2_leaf_reg": 0.3,
              "learning_rate": 0.01,
              "task_type": "GPU"
             }
            ],
            "passed_time": 447.5795054,
            "remaining_time": 2857.622996,
            "test": [
             1.351789443
            ]
           },
           {
            "iteration": 65,
            "learn": [
             0.9178351837
            ],
            "parameters": [
             {
              "depth": 4,
              "iterations": 1000,
              "l2_leaf_reg": 0.3,
              "learning_rate": 0.03,
              "task_type": "GPU"
             }
            ],
            "passed_time": 477.4686625,
            "remaining_time": 2995.030701,
            "test": [
             1.338424324
            ]
           },
           {
            "iteration": 66,
            "learn": [
             0.9015263905
            ],
            "parameters": [
             {
              "depth": 4,
              "iterations": 1000,
              "l2_leaf_reg": 0.3,
              "learning_rate": 0.1,
              "task_type": "GPU"
             }
            ],
            "passed_time": 507.0552258,
            "remaining_time": 3125.579228,
            "test": [
             1.320337568
            ]
           },
           {
            "iteration": 67,
            "learn": [
             0.8870411975
            ],
            "parameters": [
             {
              "depth": 4,
              "iterations": 1000,
              "l2_leaf_reg": 0.3,
              "learning_rate": 0.3,
              "task_type": "GPU"
             }
            ],
            "passed_time": 537.0517854,
            "remaining_time": 3253.901994,
            "test": [
             1.305527804
            ]
           },
           {
            "iteration": 68,
            "learn": [
             0.9275941526
            ],
            "parameters": [
             {
              "depth": 4,
              "iterations": 1000,
              "l2_leaf_reg": 1,
              "learning_rate": 0.01,
              "task_type": "GPU"
             }
            ],
            "passed_time": 566.7809278,
            "remaining_time": 3376.042918,
            "test": [
             1.352354905
            ]
           },
           {
            "iteration": 69,
            "learn": [
             0.9207444907
            ],
            "parameters": [
             {
              "depth": 4,
              "iterations": 1000,
              "l2_leaf_reg": 1,
              "learning_rate": 0.03,
              "task_type": "GPU"
             }
            ],
            "passed_time": 596.5068263,
            "remaining_time": 3493.825697,
            "test": [
             1.34081725
            ]
           },
           {
            "iteration": 70,
            "learn": [
             0.9054828371
            ],
            "parameters": [
             {
              "depth": 4,
              "iterations": 1000,
              "l2_leaf_reg": 1,
              "learning_rate": 0.1,
              "task_type": "GPU"
             }
            ],
            "passed_time": 626.1616125,
            "remaining_time": 3607.043655,
            "test": [
             1.321471326
            ]
           },
           {
            "iteration": 71,
            "learn": [
             0.888941254
            ],
            "parameters": [
             {
              "depth": 4,
              "iterations": 1000,
              "l2_leaf_reg": 1,
              "learning_rate": 0.3,
              "task_type": "GPU"
             }
            ],
            "passed_time": 655.6540372,
            "remaining_time": 3715.372877,
            "test": [
             1.311468982
            ]
           },
           {
            "iteration": 72,
            "learn": [
             0.9277698059
            ],
            "parameters": [
             {
              "depth": 4,
              "iterations": 1000,
              "l2_leaf_reg": 3,
              "learning_rate": 0.01,
              "task_type": "GPU"
             }
            ],
            "passed_time": 685.4016985,
            "remaining_time": 3821.349196,
            "test": [
             1.351691814
            ]
           },
           {
            "iteration": 73,
            "learn": [
             0.9190350983
            ],
            "parameters": [
             {
              "depth": 4,
              "iterations": 1000,
              "l2_leaf_reg": 3,
              "learning_rate": 0.03,
              "task_type": "GPU"
             }
            ],
            "passed_time": 714.8844904,
            "remaining_time": 3922.204096,
            "test": [
             1.344546199
            ]
           },
           {
            "iteration": 74,
            "learn": [
             0.903311342
            ],
            "parameters": [
             {
              "depth": 4,
              "iterations": 1000,
              "l2_leaf_reg": 3,
              "learning_rate": 0.1,
              "task_type": "GPU"
             }
            ],
            "passed_time": 744.4705201,
            "remaining_time": 4020.140808,
            "test": [
             1.319632023
            ]
           },
           {
            "iteration": 75,
            "learn": [
             0.8795057204
            ],
            "parameters": [
             {
              "depth": 4,
              "iterations": 1000,
              "l2_leaf_reg": 3,
              "learning_rate": 0.3,
              "task_type": "GPU"
             }
            ],
            "passed_time": 774.2825894,
            "remaining_time": 4115.923238,
            "test": [
             1.297431699
            ]
           },
           {
            "iteration": 76,
            "learn": [
             0.9293619239
            ],
            "parameters": [
             {
              "depth": 4,
              "iterations": 1000,
              "l2_leaf_reg": 10,
              "learning_rate": 0.01,
              "task_type": "GPU"
             }
            ],
            "passed_time": 804.1040318,
            "remaining_time": 4208.49253,
            "test": [
             1.351517177
            ]
           },
           {
            "iteration": 77,
            "learn": [
             0.9223695516
            ],
            "parameters": [
             {
              "depth": 4,
              "iterations": 1000,
              "l2_leaf_reg": 10,
              "learning_rate": 0.03,
              "task_type": "GPU"
             }
            ],
            "passed_time": 833.8538867,
            "remaining_time": 4297.554647,
            "test": [
             1.345387568
            ]
           },
           {
            "iteration": 78,
            "learn": [
             0.8963517501
            ],
            "parameters": [
             {
              "depth": 4,
              "iterations": 1000,
              "l2_leaf_reg": 10,
              "learning_rate": 0.1,
              "task_type": "GPU"
             }
            ],
            "passed_time": 863.6079045,
            "remaining_time": 4383.629996,
            "test": [
             1.316014385
            ]
           },
           {
            "iteration": 79,
            "learn": [
             0.8903392986
            ],
            "parameters": [
             {
              "depth": 4,
              "iterations": 1000,
              "l2_leaf_reg": 10,
              "learning_rate": 0.3,
              "task_type": "GPU"
             }
            ],
            "passed_time": 893.3332829,
            "remaining_time": 4466.666414,
            "test": [
             1.309746154
            ]
           },
           {
            "iteration": 80,
            "learn": [
             1.117872249
            ],
            "parameters": [
             {
              "depth": 5,
              "iterations": 30,
              "l2_leaf_reg": 0,
              "learning_rate": 0.01,
              "task_type": "GPU"
             }
            ],
            "passed_time": 895.1329722,
            "remaining_time": 4409.358715,
            "test": [
             1.451023485
            ]
           },
           {
            "iteration": 81,
            "learn": [
             1.046145896
            ],
            "parameters": [
             {
              "depth": 5,
              "iterations": 30,
              "l2_leaf_reg": 0,
              "learning_rate": 0.03,
              "task_type": "GPU"
             }
            ],
            "passed_time": 896.9008162,
            "remaining_time": 4353.250303,
            "test": [
             1.410480558
            ]
           },
           {
            "iteration": 82,
            "learn": [
             0.956406169
            ],
            "parameters": [
             {
              "depth": 5,
              "iterations": 30,
              "l2_leaf_reg": 0,
              "learning_rate": 0.1,
              "task_type": "GPU"
             }
            ],
            "passed_time": 898.6923513,
            "remaining_time": 4298.56462,
            "test": [
             1.368205592
            ]
           },
           {
            "iteration": 83,
            "learn": [
             0.9154036695
            ],
            "parameters": [
             {
              "depth": 5,
              "iterations": 30,
              "l2_leaf_reg": 0,
              "learning_rate": 0.3,
              "task_type": "GPU"
             }
            ],
            "passed_time": 900.4714443,
            "remaining_time": 4245.079666,
            "test": [
             1.33543056
            ]
           },
           {
            "iteration": 84,
            "learn": [
             1.117791907
            ],
            "parameters": [
             {
              "depth": 5,
              "iterations": 30,
              "l2_leaf_reg": 0.3,
              "learning_rate": 0.01,
              "task_type": "GPU"
             }
            ],
            "passed_time": 902.2688231,
            "remaining_time": 4192.896296,
            "test": [
             1.451075044
            ]
           },
           {
            "iteration": 85,
            "learn": [
             1.04525089
            ],
            "parameters": [
             {
              "depth": 5,
              "iterations": 30,
              "l2_leaf_reg": 0.3,
              "learning_rate": 0.03,
              "task_type": "GPU"
             }
            ],
            "passed_time": 904.0415009,
            "remaining_time": 4141.771527,
            "test": [
             1.410271043
            ]
           },
           {
            "iteration": 86,
            "learn": [
             0.9542194579
            ],
            "parameters": [
             {
              "depth": 5,
              "iterations": 30,
              "l2_leaf_reg": 0.3,
              "learning_rate": 0.1,
              "task_type": "GPU"
             }
            ],
            "passed_time": 905.8125445,
            "remaining_time": 4091.773908,
            "test": [
             1.366719556
            ]
           },
           {
            "iteration": 87,
            "learn": [
             0.9180310576
            ],
            "parameters": [
             {
              "depth": 5,
              "iterations": 30,
              "l2_leaf_reg": 0.3,
              "learning_rate": 0.3,
              "task_type": "GPU"
             }
            ],
            "passed_time": 907.6075278,
            "remaining_time": 4042.978988,
            "test": [
             1.33692871
            ]
           },
           {
            "iteration": 88,
            "learn": [
             1.118571708
            ],
            "parameters": [
             {
              "depth": 5,
              "iterations": 30,
              "l2_leaf_reg": 1,
              "learning_rate": 0.01,
              "task_type": "GPU"
             }
            ],
            "passed_time": 909.3954792,
            "remaining_time": 3995.209352,
            "test": [
             1.451717644
            ]
           },
           {
            "iteration": 89,
            "learn": [
             1.044149342
            ],
            "parameters": [
             {
              "depth": 5,
              "iterations": 30,
              "l2_leaf_reg": 1,
              "learning_rate": 0.03,
              "task_type": "GPU"
             }
            ],
            "passed_time": 911.1701584,
            "remaining_time": 3948.40402,
            "test": [
             1.40918237
            ]
           },
           {
            "iteration": 90,
            "learn": [
             0.975010047
            ],
            "parameters": [
             {
              "depth": 5,
              "iterations": 30,
              "l2_leaf_reg": 1,
              "learning_rate": 0.1,
              "task_type": "GPU"
             }
            ],
            "passed_time": 912.9306057,
            "remaining_time": 3902.527534,
            "test": [
             1.371052349
            ]
           },
           {
            "iteration": 91,
            "learn": [
             0.9251466399
            ],
            "parameters": [
             {
              "depth": 5,
              "iterations": 30,
              "l2_leaf_reg": 1,
              "learning_rate": 0.3,
              "task_type": "GPU"
             }
            ],
            "passed_time": 914.7050308,
            "remaining_time": 3857.669043,
            "test": [
             1.350258953
            ]
           },
           {
            "iteration": 92,
            "learn": [
             1.117887297
            ],
            "parameters": [
             {
              "depth": 5,
              "iterations": 30,
              "l2_leaf_reg": 3,
              "learning_rate": 0.01,
              "task_type": "GPU"
             }
            ],
            "passed_time": 916.486657,
            "remaining_time": 3813.767056,
            "test": [
             1.451287092
            ]
           },
           {
            "iteration": 93,
            "learn": [
             1.048122249
            ],
            "parameters": [
             {
              "depth": 5,
              "iterations": 30,
              "l2_leaf_reg": 3,
              "learning_rate": 0.03,
              "task_type": "GPU"
             }
            ],
            "passed_time": 918.2670117,
            "remaining_time": 3770.756027,
            "test": [
             1.410515523
            ]
           },
           {
            "iteration": 94,
            "learn": [
             0.9543855578
            ],
            "parameters": [
             {
              "depth": 5,
              "iterations": 30,
              "l2_leaf_reg": 3,
              "learning_rate": 0.1,
              "task_type": "GPU"
             }
            ],
            "passed_time": 920.0582355,
            "remaining_time": 3728.65706,
            "test": [
             1.366827884
            ]
           },
           {
            "iteration": 95,
            "learn": [
             0.922908395
            ],
            "parameters": [
             {
              "depth": 5,
              "iterations": 30,
              "l2_leaf_reg": 3,
              "learning_rate": 0.3,
              "task_type": "GPU"
             }
            ],
            "passed_time": 921.8709451,
            "remaining_time": 3687.48378,
            "test": [
             1.346481494
            ]
           },
           {
            "iteration": 96,
            "learn": [
             1.120506201
            ],
            "parameters": [
             {
              "depth": 5,
              "iterations": 30,
              "l2_leaf_reg": 10,
              "learning_rate": 0.01,
              "task_type": "GPU"
             }
            ],
            "passed_time": 923.6853335,
            "remaining_time": 3647.128688,
            "test": [
             1.452346866
            ]
           },
           {
            "iteration": 97,
            "learn": [
             1.042391971
            ],
            "parameters": [
             {
              "depth": 5,
              "iterations": 30,
              "l2_leaf_reg": 10,
              "learning_rate": 0.03,
              "task_type": "GPU"
             }
            ],
            "passed_time": 925.4908266,
            "remaining_time": 3607.525467,
            "test": [
             1.408995429
            ]
           },
           {
            "iteration": 98,
            "learn": [
             0.9575303621
            ],
            "parameters": [
             {
              "depth": 5,
              "iterations": 30,
              "l2_leaf_reg": 10,
              "learning_rate": 0.1,
              "task_type": "GPU"
             }
            ],
            "passed_time": 927.2725509,
            "remaining_time": 3568.594363,
            "test": [
             1.368042076
            ]
           },
           {
            "iteration": 99,
            "learn": [
             0.9261817764
            ],
            "parameters": [
             {
              "depth": 5,
              "iterations": 30,
              "l2_leaf_reg": 10,
              "learning_rate": 0.3,
              "task_type": "GPU"
             }
            ],
            "passed_time": 929.0495142,
            "remaining_time": 3530.388154,
            "test": [
             1.347596552
            ]
           },
           {
            "iteration": 100,
            "learn": [
             1.037199664
            ],
            "parameters": [
             {
              "depth": 5,
              "iterations": 100,
              "l2_leaf_reg": 0,
              "learning_rate": 0.01,
              "task_type": "GPU"
             }
            ],
            "passed_time": 933.0304478,
            "remaining_time": 3501.173661,
            "test": [
             1.405772081
            ]
           },
           {
            "iteration": 101,
            "learn": [
             0.9699224726
            ],
            "parameters": [
             {
              "depth": 5,
              "iterations": 100,
              "l2_leaf_reg": 0,
              "learning_rate": 0.03,
              "task_type": "GPU"
             }
            ],
            "passed_time": 936.9636548,
            "remaining_time": 3472.277074,
            "test": [
             1.370953348
            ]
           },
           {
            "iteration": 102,
            "learn": [
             0.9201550699
            ],
            "parameters": [
             {
              "depth": 5,
              "iterations": 100,
              "l2_leaf_reg": 0,
              "learning_rate": 0.1,
              "task_type": "GPU"
             }
            ],
            "passed_time": 940.9094373,
            "remaining_time": 3443.911241,
            "test": [
             1.341375263
            ]
           },
           {
            "iteration": 103,
            "learn": [
             0.903306715
            ],
            "parameters": [
             {
              "depth": 5,
              "iterations": 100,
              "l2_leaf_reg": 0,
              "learning_rate": 0.3,
              "task_type": "GPU"
             }
            ],
            "passed_time": 944.8486862,
            "remaining_time": 3415.991404,
            "test": [
             1.323845724
            ]
           },
           {
            "iteration": 104,
            "learn": [
             1.038131154
            ],
            "parameters": [
             {
              "depth": 5,
              "iterations": 100,
              "l2_leaf_reg": 0.3,
              "learning_rate": 0.01,
              "task_type": "GPU"
             }
            ],
            "passed_time": 948.8108233,
            "remaining_time": 3388.610083,
            "test": [
             1.405935891
            ]
           },
           {
            "iteration": 105,
            "learn": [
             0.9638120623
            ],
            "parameters": [
             {
              "depth": 5,
              "iterations": 100,
              "l2_leaf_reg": 0.3,
              "learning_rate": 0.03,
              "task_type": "GPU"
             }
            ],
            "passed_time": 952.780421,
            "remaining_time": 3361.696957,
            "test": [
             1.369257632
            ]
           },
           {
            "iteration": 106,
            "learn": [
             0.919559732
            ],
            "parameters": [
             {
              "depth": 5,
              "iterations": 100,
              "l2_leaf_reg": 0.3,
              "learning_rate": 0.1,
              "task_type": "GPU"
             }
            ],
            "passed_time": 956.7352947,
            "remaining_time": 3335.161354,
            "test": [
             1.34226416
            ]
           },
           {
            "iteration": 107,
            "learn": [
             0.9036787607
            ],
            "parameters": [
             {
              "depth": 5,
              "iterations": 100,
              "l2_leaf_reg": 0.3,
              "learning_rate": 0.3,
              "task_type": "GPU"
             }
            ],
            "passed_time": 960.6736975,
            "remaining_time": 3308.98718,
            "test": [
             1.318956403
            ]
           },
           {
            "iteration": 108,
            "learn": [
             1.037091614
            ],
            "parameters": [
             {
              "depth": 5,
              "iterations": 100,
              "l2_leaf_reg": 1,
              "learning_rate": 0.01,
              "task_type": "GPU"
             }
            ],
            "passed_time": 964.634537,
            "remaining_time": 3283.297369,
            "test": [
             1.405659766
            ]
           },
           {
            "iteration": 109,
            "learn": [
             0.9618469878
            ],
            "parameters": [
             {
              "depth": 5,
              "iterations": 100,
              "l2_leaf_reg": 1,
              "learning_rate": 0.03,
              "task_type": "GPU"
             }
            ],
            "passed_time": 968.5848835,
            "remaining_time": 3257.967335,
            "test": [
             1.367894963
            ]
           },
           {
            "iteration": 110,
            "learn": [
             0.9192146322
            ],
            "parameters": [
             {
              "depth": 5,
              "iterations": 100,
              "l2_leaf_reg": 1,
              "learning_rate": 0.1,
              "task_type": "GPU"
             }
            ],
            "passed_time": 972.5752759,
            "remaining_time": 3233.155647,
            "test": [
             1.3417731
            ]
           },
           {
            "iteration": 111,
            "learn": [
             0.9054595846
            ],
            "parameters": [
             {
              "depth": 5,
              "iterations": 100,
              "l2_leaf_reg": 1,
              "learning_rate": 0.3,
              "task_type": "GPU"
             }
            ],
            "passed_time": 976.5422411,
            "remaining_time": 3208.638792,
            "test": [
             1.313328231
            ]
           },
           {
            "iteration": 112,
            "learn": [
             1.038096126
            ],
            "parameters": [
             {
              "depth": 5,
              "iterations": 100,
              "l2_leaf_reg": 3,
              "learning_rate": 0.01,
              "task_type": "GPU"
             }
            ],
            "passed_time": 980.5289829,
            "remaining_time": 3184.549883,
            "test": [
             1.406159873
            ]
           },
           {
            "iteration": 113,
            "learn": [
             0.9587733423
            ],
            "parameters": [
             {
              "depth": 5,
              "iterations": 100,
              "l2_leaf_reg": 3,
              "learning_rate": 0.03,
              "task_type": "GPU"
             }
            ],
            "passed_time": 984.5145085,
            "remaining_time": 3160.809738,
            "test": [
             1.365924832
            ]
           },
           {
            "iteration": 114,
            "learn": [
             0.921503124
            ],
            "parameters": [
             {
              "depth": 5,
              "iterations": 100,
              "l2_leaf_reg": 3,
              "learning_rate": 0.1,
              "task_type": "GPU"
             }
            ],
            "passed_time": 988.4782196,
            "remaining_time": 3137.343915,
            "test": [
             1.344376074
            ]
           },
           {
            "iteration": 115,
            "learn": [
             0.906550714
            ],
            "parameters": [
             {
              "depth": 5,
              "iterations": 100,
              "l2_leaf_reg": 3,
              "learning_rate": 0.3,
              "task_type": "GPU"
             }
            ],
            "passed_time": 992.4795423,
            "remaining_time": 3114.332357,
            "test": [
             1.323943039
            ]
           },
           {
            "iteration": 116,
            "learn": [
             1.037940604
            ],
            "parameters": [
             {
              "depth": 5,
              "iterations": 100,
              "l2_leaf_reg": 10,
              "learning_rate": 0.01,
              "task_type": "GPU"
             }
            ],
            "passed_time": 996.4425236,
            "remaining_time": 3091.526804,
            "test": [
             1.40613929
            ]
           },
           {
            "iteration": 117,
            "learn": [
             0.9642488097
            ],
            "parameters": [
             {
              "depth": 5,
              "iterations": 100,
              "l2_leaf_reg": 10,
              "learning_rate": 0.03,
              "task_type": "GPU"
             }
            ],
            "passed_time": 1000.391037,
            "remaining_time": 3068.996232,
            "test": [
             1.368916863
            ]
           },
           {
            "iteration": 118,
            "learn": [
             0.9221571781
            ],
            "parameters": [
             {
              "depth": 5,
              "iterations": 100,
              "l2_leaf_reg": 10,
              "learning_rate": 0.1,
              "task_type": "GPU"
             }
            ],
            "passed_time": 1004.362656,
            "remaining_time": 3046.848057,
            "test": [
             1.345067708
            ]
           },
           {
            "iteration": 119,
            "learn": [
             0.9113474974
            ],
            "parameters": [
             {
              "depth": 5,
              "iterations": 100,
              "l2_leaf_reg": 10,
              "learning_rate": 0.3,
              "task_type": "GPU"
             }
            ],
            "passed_time": 1008.33478,
            "remaining_time": 3025.004341,
            "test": [
             1.32497581
            ]
           },
           {
            "iteration": 120,
            "learn": [
             0.9674275984
            ],
            "parameters": [
             {
              "depth": 5,
              "iterations": 300,
              "l2_leaf_reg": 0,
              "learning_rate": 0.01,
              "task_type": "GPU"
             }
            ],
            "passed_time": 1018.55894,
            "remaining_time": 3022.005451,
            "test": [
             1.369941738
            ]
           },
           {
            "iteration": 121,
            "learn": [
             0.9231063901
            ],
            "parameters": [
             {
              "depth": 5,
              "iterations": 300,
              "l2_leaf_reg": 0,
              "learning_rate": 0.03,
              "task_type": "GPU"
             }
            ],
            "passed_time": 1028.813063,
            "remaining_time": 3018.976037,
            "test": [
             1.346513077
            ]
           },
           {
            "iteration": 122,
            "learn": [
             0.9137525841
            ],
            "parameters": [
             {
              "depth": 5,
              "iterations": 300,
              "l2_leaf_reg": 0,
              "learning_rate": 0.1,
              "task_type": "GPU"
             }
            ],
            "passed_time": 1038.701686,
            "remaining_time": 3014.768309,
            "test": [
             1.337153155
            ]
           },
           {
            "iteration": 123,
            "learn": [
             0.8865965284
            ],
            "parameters": [
             {
              "depth": 5,
              "iterations": 300,
              "l2_leaf_reg": 0,
              "learning_rate": 0.3,
              "task_type": "GPU"
             }
            ],
            "passed_time": 1048.781101,
            "remaining_time": 3011.01671,
            "test": [
             1.308581556
            ]
           },
           {
            "iteration": 124,
            "learn": [
             0.9671421481
            ],
            "parameters": [
             {
              "depth": 5,
              "iterations": 300,
              "l2_leaf_reg": 0.3,
              "learning_rate": 0.01,
              "task_type": "GPU"
             }
            ],
            "passed_time": 1058.905709,
            "remaining_time": 3007.292214,
            "test": [
             1.369416349
            ]
           },
           {
            "iteration": 125,
            "learn": [
             0.9238885311
            ],
            "parameters": [
             {
              "depth": 5,
              "iterations": 300,
              "l2_leaf_reg": 0.3,
              "learning_rate": 0.03,
              "task_type": "GPU"
             }
            ],
            "passed_time": 1069.134953,
            "remaining_time": 3003.760106,
            "test": [
             1.347617565
            ]
           },
           {
            "iteration": 126,
            "learn": [
             0.9089070771
            ],
            "parameters": [
             {
              "depth": 5,
              "iterations": 300,
              "l2_leaf_reg": 0.3,
              "learning_rate": 0.1,
              "task_type": "GPU"
             }
            ],
            "passed_time": 1079.164811,
            "remaining_time": 2999.568333,
            "test": [
             1.331036999
            ]
           },
           {
            "iteration": 127,
            "learn": [
             0.8889382567
            ],
            "parameters": [
             {
              "depth": 5,
              "iterations": 300,
              "l2_leaf_reg": 0.3,
              "learning_rate": 0.3,
              "task_type": "GPU"
             }
            ],
            "passed_time": 1089.302618,
            "remaining_time": 2995.582201,
            "test": [
             1.309362046
            ]
           },
           {
            "iteration": 128,
            "learn": [
             0.967295875
            ],
            "parameters": [
             {
              "depth": 5,
              "iterations": 300,
              "l2_leaf_reg": 1,
              "learning_rate": 0.01,
              "task_type": "GPU"
             }
            ],
            "passed_time": 1099.531888,
            "remaining_time": 2991.749556,
            "test": [
             1.369958594
            ]
           },
           {
            "iteration": 129,
            "learn": [
             0.9259494857
            ],
            "parameters": [
             {
              "depth": 5,
              "iterations": 300,
              "l2_leaf_reg": 1,
              "learning_rate": 0.03,
              "task_type": "GPU"
             }
            ],
            "passed_time": 1109.751564,
            "remaining_time": 2987.792673,
            "test": [
             1.349023024
            ]
           },
           {
            "iteration": 130,
            "learn": [
             0.9110861655
            ],
            "parameters": [
             {
              "depth": 5,
              "iterations": 300,
              "l2_leaf_reg": 1,
              "learning_rate": 0.1,
              "task_type": "GPU"
             }
            ],
            "passed_time": 1119.759768,
            "remaining_time": 2983.176786,
            "test": [
             1.334667389
            ]
           },
           {
            "iteration": 131,
            "learn": [
             0.8951986725
            ],
            "parameters": [
             {
              "depth": 5,
              "iterations": 300,
              "l2_leaf_reg": 1,
              "learning_rate": 0.3,
              "task_type": "GPU"
             }
            ],
            "passed_time": 1129.914237,
            "remaining_time": 2978.864806,
            "test": [
             1.306396342
            ]
           },
           {
            "iteration": 132,
            "learn": [
             0.9678776124
            ],
            "parameters": [
             {
              "depth": 5,
              "iterations": 300,
              "l2_leaf_reg": 3,
              "learning_rate": 0.01,
              "task_type": "GPU"
             }
            ],
            "passed_time": 1140.317252,
            "remaining_time": 2975.113432,
            "test": [
             1.37025442
            ]
           },
           {
            "iteration": 133,
            "learn": [
             0.9229448501
            ],
            "parameters": [
             {
              "depth": 5,
              "iterations": 300,
              "l2_leaf_reg": 3,
              "learning_rate": 0.03,
              "task_type": "GPU"
             }
            ],
            "passed_time": 1150.495224,
            "remaining_time": 2970.681697,
            "test": [
             1.347253019
            ]
           },
           {
            "iteration": 134,
            "learn": [
             0.9171114564
            ],
            "parameters": [
             {
              "depth": 5,
              "iterations": 300,
              "l2_leaf_reg": 3,
              "learning_rate": 0.1,
              "task_type": "GPU"
             }
            ],
            "passed_time": 1160.424216,
            "remaining_time": 2965.528552,
            "test": [
             1.341343402
            ]
           },
           {
            "iteration": 135,
            "learn": [
             0.8913984448
            ],
            "parameters": [
             {
              "depth": 5,
              "iterations": 300,
              "l2_leaf_reg": 3,
              "learning_rate": 0.3,
              "task_type": "GPU"
             }
            ],
            "passed_time": 1170.611509,
            "remaining_time": 2960.958522,
            "test": [
             1.313251532
            ]
           },
           {
            "iteration": 136,
            "learn": [
             0.9651782242
            ],
            "parameters": [
             {
              "depth": 5,
              "iterations": 300,
              "l2_leaf_reg": 10,
              "learning_rate": 0.01,
              "task_type": "GPU"
             }
            ],
            "passed_time": 1180.834152,
            "remaining_time": 2956.394994,
            "test": [
             1.369669418
            ]
           },
           {
            "iteration": 137,
            "learn": [
             0.9264039987
            ],
            "parameters": [
             {
              "depth": 5,
              "iterations": 300,
              "l2_leaf_reg": 10,
              "learning_rate": 0.03,
              "task_type": "GPU"
             }
            ],
            "passed_time": 1191.040578,
            "remaining_time": 2951.709258,
            "test": [
             1.349382601
            ]
           },
           {
            "iteration": 138,
            "learn": [
             0.91219041
            ],
            "parameters": [
             {
              "depth": 5,
              "iterations": 300,
              "l2_leaf_reg": 10,
              "learning_rate": 0.1,
              "task_type": "GPU"
             }
            ],
            "passed_time": 1201.082141,
            "remaining_time": 2946.53964,
            "test": [
             1.33719121
            ]
           },
           {
            "iteration": 139,
            "learn": [
             0.8930597363
            ],
            "parameters": [
             {
              "depth": 5,
              "iterations": 300,
              "l2_leaf_reg": 10,
              "learning_rate": 0.3,
              "task_type": "GPU"
             }
            ],
            "passed_time": 1211.233393,
            "remaining_time": 2941.566811,
            "test": [
             1.307797125
            ]
           },
           {
            "iteration": 140,
            "learn": [
             0.9223221414
            ],
            "parameters": [
             {
              "depth": 5,
              "iterations": 1000,
              "l2_leaf_reg": 0,
              "learning_rate": 0.01,
              "task_type": "GPU"
             }
            ],
            "passed_time": 1243.193987,
            "remaining_time": 2988.955756,
            "test": [
             1.345846953
            ]
           },
           {
            "iteration": 141,
            "learn": [
             0.9152997345
            ],
            "parameters": [
             {
              "depth": 5,
              "iterations": 1000,
              "l2_leaf_reg": 0,
              "learning_rate": 0.03,
              "task_type": "GPU"
             }
            ],
            "passed_time": 1274.571008,
            "remaining_time": 3033.838033,
            "test": [
             1.339656615
            ]
           },
           {
            "iteration": 142,
            "learn": [
             0.8921444368
            ],
            "parameters": [
             {
              "depth": 5,
              "iterations": 1000,
              "l2_leaf_reg": 0,
              "learning_rate": 0.1,
              "task_type": "GPU"
             }
            ],
            "passed_time": 1305.683375,
            "remaining_time": 3077.030052,
            "test": [
             1.31259237
            ]
           },
           {
            "iteration": 143,
            "learn": [
             0.8775624342
            ],
            "parameters": [
             {
              "depth": 5,
              "iterations": 1000,
              "l2_leaf_reg": 0,
              "learning_rate": 0.3,
              "task_type": "GPU"
             }
            ],
            "passed_time": 1336.369792,
            "remaining_time": 3118.19618,
            "test": [
             1.297995323
            ]
           },
           {
            "iteration": 144,
            "learn": [
             0.9229273586
            ],
            "parameters": [
             {
              "depth": 5,
              "iterations": 1000,
              "l2_leaf_reg": 0.3,
              "learning_rate": 0.01,
              "task_type": "GPU"
             }
            ],
            "passed_time": 1368.307349,
            "remaining_time": 3161.261805,
            "test": [
             1.346842137
            ]
           },
           {
            "iteration": 145,
            "learn": [
             0.9140240711
            ],
            "parameters": [
             {
              "depth": 5,
              "iterations": 1000,
              "l2_leaf_reg": 0.3,
              "learning_rate": 0.03,
              "task_type": "GPU"
             }
            ],
            "passed_time": 1400.104605,
            "remaining_time": 3202.979029,
            "test": [
             1.336760977
            ]
           },
           {
            "iteration": 146,
            "learn": [
             0.8851379476
            ],
            "parameters": [
             {
              "depth": 5,
              "iterations": 1000,
              "l2_leaf_reg": 0.3,
              "learning_rate": 0.1,
              "task_type": "GPU"
             }
            ],
            "passed_time": 1432.056154,
            "remaining_time": 3244.045574,
            "test": [
             1.312130978
            ]
           },
           {
            "iteration": 147,
            "learn": [
             0.8729310633
            ],
            "parameters": [
             {
              "depth": 5,
              "iterations": 1000,
              "l2_leaf_reg": 0.3,
              "learning_rate": 0.3,
              "task_type": "GPU"
             }
            ],
            "passed_time": 1463.891718,
            "remaining_time": 3283.865204,
            "test": [
             1.297806697
            ]
           },
           {
            "iteration": 148,
            "learn": [
             0.9221281421
            ],
            "parameters": [
             {
              "depth": 5,
              "iterations": 1000,
              "l2_leaf_reg": 1,
              "learning_rate": 0.01,
              "task_type": "GPU"
             }
            ],
            "passed_time": 1495.906704,
            "remaining_time": 3323.121604,
            "test": [
             1.34606145
            ]
           },
           {
            "iteration": 149,
            "learn": [
             0.9187401002
            ],
            "parameters": [
             {
              "depth": 5,
              "iterations": 1000,
              "l2_leaf_reg": 1,
              "learning_rate": 0.03,
              "task_type": "GPU"
             }
            ],
            "passed_time": 1527.613393,
            "remaining_time": 3360.749465,
            "test": [
             1.343029705
            ]
           },
           {
            "iteration": 150,
            "learn": [
             0.8877955585
            ],
            "parameters": [
             {
              "depth": 5,
              "iterations": 1000,
              "l2_leaf_reg": 1,
              "learning_rate": 0.1,
              "task_type": "GPU"
             }
            ],
            "passed_time": 1559.47335,
            "remaining_time": 3397.792927,
            "test": [
             1.31142042
            ]
           },
           {
            "iteration": 151,
            "learn": [
             0.8766067275
            ],
            "parameters": [
             {
              "depth": 5,
              "iterations": 1000,
              "l2_leaf_reg": 1,
              "learning_rate": 0.3,
              "task_type": "GPU"
             }
            ],
            "passed_time": 1591.45677,
            "remaining_time": 3434.196187,
            "test": [
             1.301878197
            ]
           },
           {
            "iteration": 152,
            "learn": [
             0.9216576044
            ],
            "parameters": [
             {
              "depth": 5,
              "iterations": 1000,
              "l2_leaf_reg": 3,
              "learning_rate": 0.01,
              "task_type": "GPU"
             }
            ],
            "passed_time": 1623.36424,
            "remaining_time": 3469.543181,
            "test": [
             1.346647783
            ]
           },
           {
            "iteration": 153,
            "learn": [
             0.9128437536
            ],
            "parameters": [
             {
              "depth": 5,
              "iterations": 1000,
              "l2_leaf_reg": 3,
              "learning_rate": 0.03,
              "task_type": "GPU"
             }
            ],
            "passed_time": 1654.907967,
            "remaining_time": 3503.246736,
            "test": [
             1.338137469
            ]
           },
           {
            "iteration": 154,
            "learn": [
             0.8923944551
            ],
            "parameters": [
             {
              "depth": 5,
              "iterations": 1000,
              "l2_leaf_reg": 3,
              "learning_rate": 0.1,
              "task_type": "GPU"
             }
            ],
            "passed_time": 1686.792982,
            "remaining_time": 3536.823994,
            "test": [
             1.313225236
            ]
           },
           {
            "iteration": 155,
            "learn": [
             0.8754412496
            ],
            "parameters": [
             {
              "depth": 5,
              "iterations": 1000,
              "l2_leaf_reg": 3,
              "learning_rate": 0.3,
              "task_type": "GPU"
             }
            ],
            "passed_time": 1718.660276,
            "remaining_time": 3569.525189,
            "test": [
             1.305846827
            ]
           },
           {
            "iteration": 156,
            "learn": [
             0.9228246673
            ],
            "parameters": [
             {
              "depth": 5,
              "iterations": 1000,
              "l2_leaf_reg": 10,
              "learning_rate": 0.01,
              "task_type": "GPU"
             }
            ],
            "passed_time": 1750.663001,
            "remaining_time": 3601.68248,
            "test": [
             1.346731502
            ]
           },
           {
            "iteration": 157,
            "learn": [
             0.9138571239
            ],
            "parameters": [
             {
              "depth": 5,
              "iterations": 1000,
              "l2_leaf_reg": 10,
              "learning_rate": 0.03,
              "task_type": "GPU"
             }
            ],
            "passed_time": 1782.30836,
            "remaining_time": 3632.299316,
            "test": [
             1.337200274
            ]
           },
           {
            "iteration": 158,
            "learn": [
             0.8945605335
            ],
            "parameters": [
             {
              "depth": 5,
              "iterations": 1000,
              "l2_leaf_reg": 10,
              "learning_rate": 0.1,
              "task_type": "GPU"
             }
            ],
            "passed_time": 1814.156073,
            "remaining_time": 3662.541506,
            "test": [
             1.312106411
            ]
           },
           {
            "iteration": 159,
            "learn": [
             0.8793635302
            ],
            "parameters": [
             {
              "depth": 5,
              "iterations": 1000,
              "l2_leaf_reg": 10,
              "learning_rate": 0.3,
              "task_type": "GPU"
             }
            ],
            "passed_time": 1845.999115,
            "remaining_time": 3691.99823,
            "test": [
             1.307307665
            ]
           },
           {
            "iteration": 160,
            "learn": [
             1.12009526
            ],
            "parameters": [
             {
              "depth": 6,
              "iterations": 30,
              "l2_leaf_reg": 0,
              "learning_rate": 0.01,
              "task_type": "GPU"
             }
            ],
            "passed_time": 1847.942324,
            "remaining_time": 3661.450941,
            "test": [
             1.451941256
            ]
           },
           {
            "iteration": 161,
            "learn": [
             1.045227048
            ],
            "parameters": [
             {
              "depth": 6,
              "iterations": 30,
              "l2_leaf_reg": 0,
              "learning_rate": 0.03,
              "task_type": "GPU"
             }
            ],
            "passed_time": 1849.843415,
            "remaining_time": 3631.17411,
            "test": [
             1.409940409
            ]
           },
           {
            "iteration": 162,
            "learn": [
             0.9562172545
            ],
            "parameters": [
             {
              "depth": 6,
              "iterations": 30,
              "l2_leaf_reg": 0,
              "learning_rate": 0.1,
              "task_type": "GPU"
             }
            ],
            "passed_time": 1851.740679,
            "remaining_time": 3601.238007,
            "test": [
             1.362106514
            ]
           },
           {
            "iteration": 163,
            "learn": [
             0.9189640937
            ],
            "parameters": [
             {
              "depth": 6,
              "iterations": 30,
              "l2_leaf_reg": 0,
              "learning_rate": 0.3,
              "task_type": "GPU"
             }
            ],
            "passed_time": 1853.626908,
            "remaining_time": 3571.622579,
            "test": [
             1.340620152
            ]
           },
           {
            "iteration": 164,
            "learn": [
             1.118696968
            ],
            "parameters": [
             {
              "depth": 6,
              "iterations": 30,
              "l2_leaf_reg": 0.3,
              "learning_rate": 0.01,
              "task_type": "GPU"
             }
            ],
            "passed_time": 1855.588598,
            "remaining_time": 3542.487323,
            "test": [
             1.451440006
            ]
           },
           {
            "iteration": 165,
            "learn": [
             1.048734325
            ],
            "parameters": [
             {
              "depth": 6,
              "iterations": 30,
              "l2_leaf_reg": 0.3,
              "learning_rate": 0.03,
              "task_type": "GPU"
             }
            ],
            "passed_time": 1857.543424,
            "remaining_time": 3513.666476,
            "test": [
             1.4104993
            ]
           },
           {
            "iteration": 166,
            "learn": [
             0.9643788364
            ],
            "parameters": [
             {
              "depth": 6,
              "iterations": 30,
              "l2_leaf_reg": 0.3,
              "learning_rate": 0.1,
              "task_type": "GPU"
             }
            ],
            "passed_time": 1859.498676,
            "remaining_time": 3485.168178,
            "test": [
             1.369448166
            ]
           },
           {
            "iteration": 167,
            "learn": [
             0.9182930587
            ],
            "parameters": [
             {
              "depth": 6,
              "iterations": 30,
              "l2_leaf_reg": 0.3,
              "learning_rate": 0.3,
              "task_type": "GPU"
             }
            ],
            "passed_time": 1861.380241,
            "remaining_time": 3456.84902,
            "test": [
             1.340103774
            ]
           },
           {
            "iteration": 168,
            "learn": [
             1.122526165
            ],
            "parameters": [
             {
              "depth": 6,
              "iterations": 30,
              "l2_leaf_reg": 1,
              "learning_rate": 0.01,
              "task_type": "GPU"
             }
            ],
            "passed_time": 1863.335282,
            "remaining_time": 3428.977944,
            "test": [
             1.453212536
            ]
           },
           {
            "iteration": 169,
            "learn": [
             1.047592654
            ],
            "parameters": [
             {
              "depth": 6,
              "iterations": 30,
              "l2_leaf_reg": 1,
              "learning_rate": 0.03,
              "task_type": "GPU"
             }
            ],
            "passed_time": 1865.265656,
            "remaining_time": 3401.366785,
            "test": [
             1.410836913
            ]
           },
           {
            "iteration": 170,
            "learn": [
             0.956539392
            ],
            "parameters": [
             {
              "depth": 6,
              "iterations": 30,
              "l2_leaf_reg": 1,
              "learning_rate": 0.1,
              "task_type": "GPU"
             }
            ],
            "passed_time": 1867.15581,
            "remaining_time": 3373.983306,
            "test": [
             1.364139685
            ]
           },
           {
            "iteration": 171,
            "learn": [
             0.9211843592
            ],
            "parameters": [
             {
              "depth": 6,
              "iterations": 30,
              "l2_leaf_reg": 1,
              "learning_rate": 0.3,
              "task_type": "GPU"
             }
            ],
            "passed_time": 1869.07854,
            "remaining_time": 3346.954595,
            "test": [
             1.342502034
            ]
           },
           {
            "iteration": 172,
            "learn": [
             1.117456926
            ],
            "parameters": [
             {
              "depth": 6,
              "iterations": 30,
              "l2_leaf_reg": 3,
              "learning_rate": 0.01,
              "task_type": "GPU"
             }
            ],
            "passed_time": 1871.026705,
            "remaining_time": 3320.261263,
            "test": [
             1.451209404
            ]
           },
           {
            "iteration": 173,
            "learn": [
             1.050235621
            ],
            "parameters": [
             {
              "depth": 6,
              "iterations": 30,
              "l2_leaf_reg": 3,
              "learning_rate": 0.03,
              "task_type": "GPU"
             }
            ],
            "passed_time": 1872.95906,
            "remaining_time": 3293.824555,
            "test": [
             1.414133026
            ]
           },
           {
            "iteration": 174,
            "learn": [
             0.9622458618
            ],
            "parameters": [
             {
              "depth": 6,
              "iterations": 30,
              "l2_leaf_reg": 3,
              "learning_rate": 0.1,
              "task_type": "GPU"
             }
            ],
            "passed_time": 1874.852024,
            "remaining_time": 3267.599241,
            "test": [
             1.368019086
            ]
           },
           {
            "iteration": 175,
            "learn": [
             0.9193243758
            ],
            "parameters": [
             {
              "depth": 6,
              "iterations": 30,
              "l2_leaf_reg": 3,
              "learning_rate": 0.3,
              "task_type": "GPU"
             }
            ],
            "passed_time": 1876.769852,
            "remaining_time": 3241.693381,
            "test": [
             1.332003084
            ]
           },
           {
            "iteration": 176,
            "learn": [
             1.117666359
            ],
            "parameters": [
             {
              "depth": 6,
              "iterations": 30,
              "l2_leaf_reg": 10,
              "learning_rate": 0.01,
              "task_type": "GPU"
             }
            ],
            "passed_time": 1878.720069,
            "remaining_time": 3216.114017,
            "test": [
             1.451099598
            ]
           },
           {
            "iteration": 177,
            "learn": [
             1.045661717
            ],
            "parameters": [
             {
              "depth": 6,
              "iterations": 30,
              "l2_leaf_reg": 10,
              "learning_rate": 0.03,
              "task_type": "GPU"
             }
            ],
            "passed_time": 1880.636888,
            "remaining_time": 3190.743484,
            "test": [
             1.410939929
            ]
           },
           {
            "iteration": 178,
            "learn": [
             0.9559622317
            ],
            "parameters": [
             {
              "depth": 6,
              "iterations": 30,
              "l2_leaf_reg": 10,
              "learning_rate": 0.1,
              "task_type": "GPU"
             }
            ],
            "passed_time": 1882.606424,
            "remaining_time": 3165.723651,
            "test": [
             1.364430952
            ]
           },
           {
            "iteration": 179,
            "learn": [
             0.9188599359
            ],
            "parameters": [
             {
              "depth": 6,
              "iterations": 30,
              "l2_leaf_reg": 10,
              "learning_rate": 0.3,
              "task_type": "GPU"
             }
            ],
            "passed_time": 1884.51933,
            "remaining_time": 3140.86555,
            "test": [
             1.343921862
            ]
           },
           {
            "iteration": 180,
            "learn": [
             1.041257896
            ],
            "parameters": [
             {
              "depth": 6,
              "iterations": 100,
              "l2_leaf_reg": 0,
              "learning_rate": 0.01,
              "task_type": "GPU"
             }
            ],
            "passed_time": 1888.900323,
            "remaining_time": 3120.338102,
            "test": [
             1.407499676
            ]
           },
           {
            "iteration": 181,
            "learn": [
             0.9639317959
            ],
            "parameters": [
             {
              "depth": 6,
              "iterations": 100,
              "l2_leaf_reg": 0,
              "learning_rate": 0.03,
              "task_type": "GPU"
             }
            ],
            "passed_time": 1893.231386,
            "remaining_time": 3099.906336,
            "test": [
             1.368135865
            ]
           },
           {
            "iteration": 182,
            "learn": [
             0.9155016864
            ],
            "parameters": [
             {
              "depth": 6,
              "iterations": 100,
              "l2_leaf_reg": 0,
              "learning_rate": 0.1,
              "task_type": "GPU"
             }
            ],
            "passed_time": 1897.490858,
            "remaining_time": 3079.534343,
            "test": [
             1.337235671
            ]
           },
           {
            "iteration": 183,
            "learn": [
             0.9040625001
            ],
            "parameters": [
             {
              "depth": 6,
              "iterations": 100,
              "l2_leaf_reg": 0,
              "learning_rate": 0.3,
              "task_type": "GPU"
             }
            ],
            "passed_time": 1901.715166,
            "remaining_time": 3059.280918,
            "test": [
             1.329219697
            ]
           },
           {
            "iteration": 184,
            "learn": [
             1.038076398
            ],
            "parameters": [
             {
              "depth": 6,
              "iterations": 100,
              "l2_leaf_reg": 0.3,
              "learning_rate": 0.01,
              "task_type": "GPU"
             }
            ],
            "passed_time": 1906.117869,
            "remaining_time": 3039.48525,
            "test": [
             1.406386717
            ]
           },
           {
            "iteration": 185,
            "learn": [
             0.9625509471
            ],
            "parameters": [
             {
              "depth": 6,
              "iterations": 100,
              "l2_leaf_reg": 0.3,
              "learning_rate": 0.03,
              "task_type": "GPU"
             }
            ],
            "passed_time": 1910.564246,
            "remaining_time": 3019.924131,
            "test": [
             1.365660128
            ]
           },
           {
            "iteration": 186,
            "learn": [
             0.9192757572
            ],
            "parameters": [
             {
              "depth": 6,
              "iterations": 100,
              "l2_leaf_reg": 0.3,
              "learning_rate": 0.1,
              "task_type": "GPU"
             }
            ],
            "passed_time": 1914.857177,
            "remaining_time": 3000.284239,
            "test": [
             1.344829122
            ]
           },
           {
            "iteration": 187,
            "learn": [
             0.9068226863
            ],
            "parameters": [
             {
              "depth": 6,
              "iterations": 100,
              "l2_leaf_reg": 0.3,
              "learning_rate": 0.3,
              "task_type": "GPU"
             }
            ],
            "passed_time": 1919.048946,
            "remaining_time": 2980.65049,
            "test": [
             1.325477034
            ]
           },
           {
            "iteration": 188,
            "learn": [
             1.040392129
            ],
            "parameters": [
             {
              "depth": 6,
              "iterations": 100,
              "l2_leaf_reg": 1,
              "learning_rate": 0.01,
              "task_type": "GPU"
             }
            ],
            "passed_time": 1923.425559,
            "remaining_time": 2961.46475,
            "test": [
             1.407077722
            ]
           },
           {
            "iteration": 189,
            "learn": [
             0.9654405532
            ],
            "parameters": [
             {
              "depth": 6,
              "iterations": 100,
              "l2_leaf_reg": 1,
              "learning_rate": 0.03,
              "task_type": "GPU"
             }
            ],
            "passed_time": 1927.840819,
            "remaining_time": 2942.493882,
            "test": [
             1.369899788
            ]
           },
           {
            "iteration": 190,
            "learn": [
             0.9143974411
            ],
            "parameters": [
             {
              "depth": 6,
              "iterations": 100,
              "l2_leaf_reg": 1,
              "learning_rate": 0.1,
              "task_type": "GPU"
             }
            ],
            "passed_time": 1932.182259,
            "remaining_time": 2923.563732,
            "test": [
             1.327846471
            ]
           },
           {
            "iteration": 191,
            "learn": [
             0.8931790693
            ],
            "parameters": [
             {
              "depth": 6,
              "iterations": 100,
              "l2_leaf_reg": 1,
              "learning_rate": 0.3,
              "task_type": "GPU"
             }
            ],
            "passed_time": 1936.468658,
            "remaining_time": 2904.702987,
            "test": [
             1.301848059
            ]
           },
           {
            "iteration": 192,
            "learn": [
             1.040964335
            ],
            "parameters": [
             {
              "depth": 6,
              "iterations": 100,
              "l2_leaf_reg": 3,
              "learning_rate": 0.01,
              "task_type": "GPU"
             }
            ],
            "passed_time": 1940.926279,
            "remaining_time": 2886.247887,
            "test": [
             1.407250736
            ]
           },
           {
            "iteration": 193,
            "learn": [
             0.9658565507
            ],
            "parameters": [
             {
              "depth": 6,
              "iterations": 100,
              "l2_leaf_reg": 3,
              "learning_rate": 0.03,
              "task_type": "GPU"
             }
            ],
            "passed_time": 1945.340174,
            "remaining_time": 2867.872628,
            "test": [
             1.371271056
            ]
           },
           {
            "iteration": 194,
            "learn": [
             0.9202266924
            ],
            "parameters": [
             {
              "depth": 6,
              "iterations": 100,
              "l2_leaf_reg": 3,
              "learning_rate": 0.1,
              "task_type": "GPU"
             }
            ],
            "passed_time": 1949.688036,
            "remaining_time": 2849.544053,
            "test": [
             1.341514691
            ]
           },
           {
            "iteration": 195,
            "learn": [
             0.905573649
            ],
            "parameters": [
             {
              "depth": 6,
              "iterations": 100,
              "l2_leaf_reg": 3,
              "learning_rate": 0.3,
              "task_type": "GPU"
             }
            ],
            "passed_time": 1954.044382,
            "remaining_time": 2831.370431,
            "test": [
             1.319081962
            ]
           },
           {
            "iteration": 196,
            "learn": [
             1.03923707
            ],
            "parameters": [
             {
              "depth": 6,
              "iterations": 100,
              "l2_leaf_reg": 10,
              "learning_rate": 0.01,
              "task_type": "GPU"
             }
            ],
            "passed_time": 1958.438696,
            "remaining_time": 2813.391629,
            "test": [
             1.406459377
            ]
           },
           {
            "iteration": 197,
            "learn": [
             0.9597537318
            ],
            "parameters": [
             {
              "depth": 6,
              "iterations": 100,
              "l2_leaf_reg": 10,
              "learning_rate": 0.03,
              "task_type": "GPU"
             }
            ],
            "passed_time": 1962.831163,
            "remaining_time": 2795.547414,
            "test": [
             1.367762655
            ]
           },
           {
            "iteration": 198,
            "learn": [
             0.9161183954
            ],
            "parameters": [
             {
              "depth": 6,
              "iterations": 100,
              "l2_leaf_reg": 10,
              "learning_rate": 0.1,
              "task_type": "GPU"
             }
            ],
            "passed_time": 1967.156559,
            "remaining_time": 2777.743684,
            "test": [
             1.34250865
            ]
           },
           {
            "iteration": 199,
            "learn": [
             0.8992815847
            ],
            "parameters": [
             {
              "depth": 6,
              "iterations": 100,
              "l2_leaf_reg": 10,
              "learning_rate": 0.3,
              "task_type": "GPU"
             }
            ],
            "passed_time": 1971.358328,
            "remaining_time": 2759.901659,
            "test": [
             1.319635467
            ]
           },
           {
            "iteration": 200,
            "learn": [
             0.9623765392
            ],
            "parameters": [
             {
              "depth": 6,
              "iterations": 300,
              "l2_leaf_reg": 0,
              "learning_rate": 0.01,
              "task_type": "GPU"
             }
            ],
            "passed_time": 1982.899062,
            "remaining_time": 2752.38228,
            "test": [
             1.367476224
            ]
           },
           {
            "iteration": 201,
            "learn": [
             0.9163356179
            ],
            "parameters": [
             {
              "depth": 6,
              "iterations": 300,
              "l2_leaf_reg": 0,
              "learning_rate": 0.03,
              "task_type": "GPU"
             }
            ],
            "passed_time": 1994.337339,
            "remaining_time": 2744.68208,
            "test": [
             1.337522797
            ]
           },
           {
            "iteration": 202,
            "learn": [
             0.9089300115
            ],
            "parameters": [
             {
              "depth": 6,
              "iterations": 300,
              "l2_leaf_reg": 0,
              "learning_rate": 0.1,
              "task_type": "GPU"
             }
            ],
            "passed_time": 2005.543424,
            "remaining_time": 2736.628219,
            "test": [
             1.329491106
            ]
           },
           {
            "iteration": 203,
            "learn": [
             0.8807496102
            ],
            "parameters": [
             {
              "depth": 6,
              "iterations": 300,
              "l2_leaf_reg": 0,
              "learning_rate": 0.3,
              "task_type": "GPU"
             }
            ],
            "passed_time": 2016.787177,
            "remaining_time": 2728.594416,
            "test": [
             1.307890281
            ]
           },
           {
            "iteration": 204,
            "learn": [
             0.9636672671
            ],
            "parameters": [
             {
              "depth": 6,
              "iterations": 300,
              "l2_leaf_reg": 0.3,
              "learning_rate": 0.01,
              "task_type": "GPU"
             }
            ],
            "passed_time": 2028.216942,
            "remaining_time": 2720.778824,
            "test": [
             1.368537529
            ]
           },
           {
            "iteration": 205,
            "learn": [
             0.9157245893
            ],
            "parameters": [
             {
              "depth": 6,
              "iterations": 300,
              "l2_leaf_reg": 0.3,
              "learning_rate": 0.03,
              "task_type": "GPU"
             }
            ],
            "passed_time": 2039.613802,
            "remaining_time": 2712.884377,
            "test": [
             1.336915736
            ]
           },
           {
            "iteration": 206,
            "learn": [
             0.9039192021
            ],
            "parameters": [
             {
              "depth": 6,
              "iterations": 300,
              "l2_leaf_reg": 0.3,
              "learning_rate": 0.1,
              "task_type": "GPU"
             }
            ],
            "passed_time": 2050.573822,
            "remaining_time": 2704.379968,
            "test": [
             1.327487201
            ]
           },
           {
            "iteration": 207,
            "learn": [
             0.8871912554
            ],
            "parameters": [
             {
              "depth": 6,
              "iterations": 300,
              "l2_leaf_reg": 0.3,
              "learning_rate": 0.3,
              "task_type": "GPU"
             }
            ],
            "passed_time": 2061.740289,
            "remaining_time": 2696.121916,
            "test": [
             1.311470934
            ]
           },
           {
            "iteration": 208,
            "learn": [
             0.9625818303
            ],
            "parameters": [
             {
              "depth": 6,
              "iterations": 300,
              "l2_leaf_reg": 1,
              "learning_rate": 0.01,
              "task_type": "GPU"
             }
            ],
            "passed_time": 2073.397636,
            "remaining_time": 2688.472532,
            "test": [
             1.368115015
            ]
           },
           {
            "iteration": 209,
            "learn": [
             0.9200417344
            ],
            "parameters": [
             {
              "depth": 6,
              "iterations": 300,
              "l2_leaf_reg": 1,
              "learning_rate": 0.03,
              "task_type": "GPU"
             }
            ],
            "passed_time": 2084.82861,
            "remaining_time": 2680.493927,
            "test": [
             1.341567187
            ]
           },
           {
            "iteration": 210,
            "learn": [
             0.8984862801
            ],
            "parameters": [
             {
              "depth": 6,
              "iterations": 300,
              "l2_leaf_reg": 1,
              "learning_rate": 0.1,
              "task_type": "GPU"
             }
            ],
            "passed_time": 2096.246302,
            "remaining_time": 2672.465665,
            "test": [
             1.312540506
            ]
           },
           {
            "iteration": 211,
            "learn": [
             0.8864725964
            ],
            "parameters": [
             {
              "depth": 6,
              "iterations": 300,
              "l2_leaf_reg": 1,
              "learning_rate": 0.3,
              "task_type": "GPU"
             }
            ],
            "passed_time": 2107.639453,
            "remaining_time": 2664.374403,
            "test": [
             1.313020495
            ]
           },
           {
            "iteration": 212,
            "learn": [
             0.9639955322
            ],
            "parameters": [
             {
              "depth": 6,
              "iterations": 300,
              "l2_leaf_reg": 3,
              "learning_rate": 0.01,
              "task_type": "GPU"
             }
            ],
            "passed_time": 2119.146936,
            "remaining_time": 2656.395455,
            "test": [
             1.368932739
            ]
           },
           {
            "iteration": 213,
            "learn": [
             0.9209408521
            ],
            "parameters": [
             {
              "depth": 6,
              "iterations": 300,
              "l2_leaf_reg": 3,
              "learning_rate": 0.03,
              "task_type": "GPU"
             }
            ],
            "passed_time": 2130.524701,
            "remaining_time": 2648.222292,
            "test": [
             1.343279345
            ]
           },
           {
            "iteration": 214,
            "learn": [
             0.9011757763
            ],
            "parameters": [
             {
              "depth": 6,
              "iterations": 300,
              "l2_leaf_reg": 3,
              "learning_rate": 0.1,
              "task_type": "GPU"
             }
            ],
            "passed_time": 2141.881775,
            "remaining_time": 2639.993815,
            "test": [
             1.320956282
            ]
           },
           {
            "iteration": 215,
            "learn": [
             0.8845025027
            ],
            "parameters": [
             {
              "depth": 6,
              "iterations": 300,
              "l2_leaf_reg": 3,
              "learning_rate": 0.3,
              "task_type": "GPU"
             }
            ],
            "passed_time": 2153.309328,
            "remaining_time": 2631.822511,
            "test": [
             1.304646073
            ]
           },
           {
            "iteration": 216,
            "learn": [
             0.9616855449
            ],
            "parameters": [
             {
              "depth": 6,
              "iterations": 300,
              "l2_leaf_reg": 10,
              "learning_rate": 0.01,
              "task_type": "GPU"
             }
            ],
            "passed_time": 2164.745659,
            "remaining_time": 2623.631836,
            "test": [
             1.36862907
            ]
           },
           {
            "iteration": 217,
            "learn": [
             0.9228573327
            ],
            "parameters": [
             {
              "depth": 6,
              "iterations": 300,
              "l2_leaf_reg": 10,
              "learning_rate": 0.03,
              "task_type": "GPU"
             }
            ],
            "passed_time": 2176.195311,
            "remaining_time": 2615.427392,
            "test": [
             1.34553388
            ]
           },
           {
            "iteration": 218,
            "learn": [
             0.907372029
            ],
            "parameters": [
             {
              "depth": 6,
              "iterations": 300,
              "l2_leaf_reg": 10,
              "learning_rate": 0.1,
              "task_type": "GPU"
             }
            ],
            "passed_time": 2187.469431,
            "remaining_time": 2606.984117,
            "test": [
             1.327226718
            ]
           },
           {
            "iteration": 219,
            "learn": [
             0.886862632
            ],
            "parameters": [
             {
              "depth": 6,
              "iterations": 300,
              "l2_leaf_reg": 10,
              "learning_rate": 0.3,
              "task_type": "GPU"
             }
            ],
            "passed_time": 2198.54866,
            "remaining_time": 2598.28478,
            "test": [
             1.303138152
            ]
           },
           {
            "iteration": 220,
            "learn": [
             0.9161019142
            ],
            "parameters": [
             {
              "depth": 6,
              "iterations": 1000,
              "l2_leaf_reg": 0,
              "learning_rate": 0.01,
              "task_type": "GPU"
             }
            ],
            "passed_time": 2234.251766,
            "remaining_time": 2618.421752,
            "test": [
             1.338208291
            ]
           },
           {
            "iteration": 221,
            "learn": [
             0.9048985154
            ],
            "parameters": [
             {
              "depth": 6,
              "iterations": 1000,
              "l2_leaf_reg": 0,
              "learning_rate": 0.03,
              "task_type": "GPU"
             }
            ],
            "passed_time": 2269.308357,
            "remaining_time": 2637.304307,
            "test": [
             1.326284492
            ]
           },
           {
            "iteration": 222,
            "learn": [
             0.8825827386
            ],
            "parameters": [
             {
              "depth": 6,
              "iterations": 1000,
              "l2_leaf_reg": 0,
              "learning_rate": 0.1,
              "task_type": "GPU"
             }
            ],
            "passed_time": 2304.833274,
            "remaining_time": 2656.242832,
            "test": [
             1.306774925
            ]
           },
           {
            "iteration": 223,
            "learn": [
             0.8675760396
            ],
            "parameters": [
             {
              "depth": 6,
              "iterations": 1000,
              "l2_leaf_reg": 0,
              "learning_rate": 0.3,
              "task_type": "GPU"
             }
            ],
            "passed_time": 2338.834339,
            "remaining_time": 2672.95353,
            "test": [
             1.305886715
            ]
           },
           {
            "iteration": 224,
            "learn": [
             0.9150905445
            ],
            "parameters": [
             {
              "depth": 6,
              "iterations": 1000,
              "l2_leaf_reg": 0.3,
              "learning_rate": 0.01,
              "task_type": "GPU"
             }
            ],
            "passed_time": 2374.849941,
            "remaining_time": 2691.4966,
            "test": [
             1.337861097
            ]
           },
           {
            "iteration": 225,
            "learn": [
             0.9049519766
            ],
            "parameters": [
             {
              "depth": 6,
              "iterations": 1000,
              "l2_leaf_reg": 0.3,
              "learning_rate": 0.03,
              "task_type": "GPU"
             }
            ],
            "passed_time": 2410.500524,
            "remaining_time": 2709.146607,
            "test": [
             1.325444713
            ]
           },
           {
            "iteration": 226,
            "learn": [
             0.8866468801
            ],
            "parameters": [
             {
              "depth": 6,
              "iterations": 1000,
              "l2_leaf_reg": 0.3,
              "learning_rate": 0.1,
              "task_type": "GPU"
             }
            ],
            "passed_time": 2446.077774,
            "remaining_time": 2726.245272,
            "test": [
             1.311629434
            ]
           },
           {
            "iteration": 227,
            "learn": [
             0.8667645123
            ],
            "parameters": [
             {
              "depth": 6,
              "iterations": 1000,
              "l2_leaf_reg": 0.3,
              "learning_rate": 0.3,
              "task_type": "GPU"
             }
            ],
            "passed_time": 2481.510823,
            "remaining_time": 2742.722488,
            "test": [
             1.298138525
            ]
           },
           {
            "iteration": 228,
            "learn": [
             0.9154988331
            ],
            "parameters": [
             {
              "depth": 6,
              "iterations": 1000,
              "l2_leaf_reg": 1,
              "learning_rate": 0.01,
              "task_type": "GPU"
             }
            ],
            "passed_time": 2517.550039,
            "remaining_time": 2759.410742,
            "test": [
             1.338193689
            ]
           },
           {
            "iteration": 229,
            "learn": [
             0.9095816764
            ],
            "parameters": [
             {
              "depth": 6,
              "iterations": 1000,
              "l2_leaf_reg": 1,
              "learning_rate": 0.03,
              "task_type": "GPU"
             }
            ],
            "passed_time": 2552.80915,
            "remaining_time": 2774.792554,
            "test": [
             1.332068662
            ]
           },
           {
            "iteration": 230,
            "learn": [
             0.8824758556
            ],
            "parameters": [
             {
              "depth": 6,
              "iterations": 1000,
              "l2_leaf_reg": 1,
              "learning_rate": 0.1,
              "task_type": "GPU"
             }
            ],
            "passed_time": 2588.460364,
            "remaining_time": 2790.158575,
            "test": [
             1.306779163
            ]
           },
           {
            "iteration": 231,
            "learn": [
             0.8632951797
            ],
            "parameters": [
             {
              "depth": 6,
              "iterations": 1000,
              "l2_leaf_reg": 1,
              "learning_rate": 0.3,
              "task_type": "GPU"
             }
            ],
            "passed_time": 2623.965416,
            "remaining_time": 2804.928548,
            "test": [
             1.292348552
            ]
           },
           {
            "iteration": 232,
            "learn": [
             0.9161622774
            ],
            "parameters": [
             {
              "depth": 6,
              "iterations": 1000,
              "l2_leaf_reg": 3,
              "learning_rate": 0.01,
              "task_type": "GPU"
             }
            ],
            "passed_time": 2660.139899,
            "remaining_time": 2819.976632,
            "test": [
             1.337940446
            ]
           },
           {
            "iteration": 233,
            "learn": [
             0.9079376978
            ],
            "parameters": [
             {
              "depth": 6,
              "iterations": 1000,
              "l2_leaf_reg": 3,
              "learning_rate": 0.03,
              "task_type": "GPU"
             }
            ],
            "passed_time": 2695.895551,
            "remaining_time": 2834.146604,
            "test": [
             1.32817992
            ]
           },
           {
            "iteration": 234,
            "learn": [
             0.8828585734
            ],
            "parameters": [
             {
              "depth": 6,
              "iterations": 1000,
              "l2_leaf_reg": 3,
              "learning_rate": 0.1,
              "task_type": "GPU"
             }
            ],
            "passed_time": 2731.574702,
            "remaining_time": 2847.811923,
            "test": [
             1.304832589
            ]
           },
           {
            "iteration": 235,
            "learn": [
             0.8734054505
            ],
            "parameters": [
             {
              "depth": 6,
              "iterations": 1000,
              "l2_leaf_reg": 3,
              "learning_rate": 0.3,
              "task_type": "GPU"
             }
            ],
            "passed_time": 2767.000152,
            "remaining_time": 2860.796768,
            "test": [
             1.301014874
            ]
           },
           {
            "iteration": 236,
            "learn": [
             0.9203310077
            ],
            "parameters": [
             {
              "depth": 6,
              "iterations": 1000,
              "l2_leaf_reg": 10,
              "learning_rate": 0.01,
              "task_type": "GPU"
             }
            ],
            "passed_time": 2803.046337,
            "remaining_time": 2874.009535,
            "test": [
             1.341821381
            ]
           },
           {
            "iteration": 237,
            "learn": [
             0.9031292252
            ],
            "parameters": [
             {
              "depth": 6,
              "iterations": 1000,
              "l2_leaf_reg": 10,
              "learning_rate": 0.03,
              "task_type": "GPU"
             }
            ],
            "passed_time": 2838.31572,
            "remaining_time": 2886.018505,
            "test": [
             1.326103357
            ]
           },
           {
            "iteration": 238,
            "learn": [
             0.891138591
            ],
            "parameters": [
             {
              "depth": 6,
              "iterations": 1000,
              "l2_leaf_reg": 10,
              "learning_rate": 0.1,
              "task_type": "GPU"
             }
            ],
            "passed_time": 2874.205336,
            "remaining_time": 2898.257264,
            "test": [
             1.311716543
            ]
           },
           {
            "iteration": 239,
            "learn": [
             0.8733337869
            ],
            "parameters": [
             {
              "depth": 6,
              "iterations": 1000,
              "l2_leaf_reg": 10,
              "learning_rate": 0.3,
              "task_type": "GPU"
             }
            ],
            "passed_time": 2909.591704,
            "remaining_time": 2909.591704,
            "test": [
             1.304949618
            ]
           },
           {
            "iteration": 240,
            "learn": [
             1.11346185
            ],
            "parameters": [
             {
              "depth": 8,
              "iterations": 30,
              "l2_leaf_reg": 0,
              "learning_rate": 0.01,
              "task_type": "GPU"
             }
            ],
            "passed_time": 2911.966984,
            "remaining_time": 2887.801283,
            "test": [
             1.449192833
            ]
           },
           {
            "iteration": 241,
            "learn": [
             1.035357838
            ],
            "parameters": [
             {
              "depth": 8,
              "iterations": 30,
              "l2_leaf_reg": 0,
              "learning_rate": 0.03,
              "task_type": "GPU"
             }
            ],
            "passed_time": 2914.327553,
            "remaining_time": 2866.15685,
            "test": [
             1.406007608
            ]
           },
           {
            "iteration": 242,
            "learn": [
             0.9433303269
            ],
            "parameters": [
             {
              "depth": 8,
              "iterations": 30,
              "l2_leaf_reg": 0,
              "learning_rate": 0.1,
              "task_type": "GPU"
             }
            ],
            "passed_time": 2916.66568,
            "remaining_time": 2844.649243,
            "test": [
             1.357291509
            ]
           },
           {
            "iteration": 243,
            "learn": [
             0.8999110059
            ],
            "parameters": [
             {
              "depth": 8,
              "iterations": 30,
              "l2_leaf_reg": 0,
              "learning_rate": 0.3,
              "task_type": "GPU"
             }
            ],
            "passed_time": 2918.9592,
            "remaining_time": 2823.25562,
            "test": [
             1.315147709
            ]
           },
           {
            "iteration": 244,
            "learn": [
             1.119018365
            ],
            "parameters": [
             {
              "depth": 8,
              "iterations": 30,
              "l2_leaf_reg": 0.3,
              "learning_rate": 0.01,
              "task_type": "GPU"
             }
            ],
            "passed_time": 2921.321993,
            "remaining_time": 2802.084361,
            "test": [
             1.451613203
            ]
           },
           {
            "iteration": 245,
            "learn": [
             1.035334172
            ],
            "parameters": [
             {
              "depth": 8,
              "iterations": 30,
              "l2_leaf_reg": 0.3,
              "learning_rate": 0.03,
              "task_type": "GPU"
             }
            ],
            "passed_time": 2923.669642,
            "remaining_time": 2781.051611,
            "test": [
             1.406557439
            ]
           },
           {
            "iteration": 246,
            "learn": [
             0.9474448363
            ],
            "parameters": [
             {
              "depth": 8,
              "iterations": 30,
              "l2_leaf_reg": 0.3,
              "learning_rate": 0.1,
              "task_type": "GPU"
             }
            ],
            "passed_time": 2926.04616,
            "remaining_time": 2760.19739,
            "test": [
             1.358104518
            ]
           },
           {
            "iteration": 247,
            "learn": [
             0.904070417
            ],
            "parameters": [
             {
              "depth": 8,
              "iterations": 30,
              "l2_leaf_reg": 0.3,
              "learning_rate": 0.3,
              "task_type": "GPU"
             }
            ],
            "passed_time": 2928.269236,
            "remaining_time": 2739.34864,
            "test": [
             1.322617543
            ]
           },
           {
            "iteration": 248,
            "learn": [
             1.114202576
            ],
            "parameters": [
             {
              "depth": 8,
              "iterations": 30,
              "l2_leaf_reg": 1,
              "learning_rate": 0.01,
              "task_type": "GPU"
             }
            ],
            "passed_time": 2930.673997,
            "remaining_time": 2718.818046,
            "test": [
             1.449667183
            ]
           },
           {
            "iteration": 249,
            "learn": [
             1.035591443
            ],
            "parameters": [
             {
              "depth": 8,
              "iterations": 30,
              "l2_leaf_reg": 1,
              "learning_rate": 0.03,
              "task_type": "GPU"
             }
            ],
            "passed_time": 2933.010354,
            "remaining_time": 2698.369526,
            "test": [
             1.406324976
            ]
           },
           {
            "iteration": 250,
            "learn": [
             0.9578276769
            ],
            "parameters": [
             {
              "depth": 8,
              "iterations": 30,
              "l2_leaf_reg": 1,
              "learning_rate": 0.1,
              "task_type": "GPU"
             }
            ],
            "passed_time": 2935.272872,
            "remaining_time": 2677.997959,
            "test": [
             1.359806458
            ]
           },
           {
            "iteration": 251,
            "learn": [
             0.9080172459
            ],
            "parameters": [
             {
              "depth": 8,
              "iterations": 30,
              "l2_leaf_reg": 1,
              "learning_rate": 0.3,
              "task_type": "GPU"
             }
            ],
            "passed_time": 2937.499312,
            "remaining_time": 2657.737473,
            "test": [
             1.331823747
            ]
           },
           {
            "iteration": 252,
            "learn": [
             1.117224773
            ],
            "parameters": [
             {
              "depth": 8,
              "iterations": 30,
              "l2_leaf_reg": 3,
              "learning_rate": 0.01,
              "task_type": "GPU"
             }
            ],
            "passed_time": 2939.959368,
            "remaining_time": 2637.829157,
            "test": [
             1.450907472
            ]
           },
           {
            "iteration": 253,
            "learn": [
             1.036317349
            ],
            "parameters": [
             {
              "depth": 8,
              "iterations": 30,
              "l2_leaf_reg": 3,
              "learning_rate": 0.03,
              "task_type": "GPU"
             }
            ],
            "passed_time": 2942.336112,
            "remaining_time": 2617.9841,
            "test": [
             1.407030344
            ]
           },
           {
            "iteration": 254,
            "learn": [
             0.9481494601
            ],
            "parameters": [
             {
              "depth": 8,
              "iterations": 30,
              "l2_leaf_reg": 3,
              "learning_rate": 0.1,
              "task_type": "GPU"
             }
            ],
            "passed_time": 2944.636824,
            "remaining_time": 2598.208962,
            "test": [
             1.358881669
            ]
           },
           {
            "iteration": 255,
            "learn": [
             0.9070367207
            ],
            "parameters": [
             {
              "depth": 8,
              "iterations": 30,
              "l2_leaf_reg": 3,
              "learning_rate": 0.3,
              "task_type": "GPU"
             }
            ],
            "passed_time": 2946.939716,
            "remaining_time": 2578.572251,
            "test": [
             1.322463797
            ]
           },
           {
            "iteration": 256,
            "learn": [
             1.117897626
            ],
            "parameters": [
             {
              "depth": 8,
              "iterations": 30,
              "l2_leaf_reg": 10,
              "learning_rate": 0.01,
              "task_type": "GPU"
             }
            ],
            "passed_time": 2949.254848,
            "remaining_time": 2559.081055,
            "test": [
             1.45127046
            ]
           },
           {
            "iteration": 257,
            "learn": [
             1.034963012
            ],
            "parameters": [
             {
              "depth": 8,
              "iterations": 30,
              "l2_leaf_reg": 10,
              "learning_rate": 0.03,
              "task_type": "GPU"
             }
            ],
            "passed_time": 2951.655553,
            "remaining_time": 2539.796639,
            "test": [
             1.405778919
            ]
           },
           {
            "iteration": 258,
            "learn": [
             0.9466909598
            ],
            "parameters": [
             {
              "depth": 8,
              "iterations": 30,
              "l2_leaf_reg": 10,
              "learning_rate": 0.1,
              "task_type": "GPU"
             }
            ],
            "passed_time": 2954.073802,
            "remaining_time": 2520.657569,
            "test": [
             1.358963635
            ]
           },
           {
            "iteration": 259,
            "learn": [
             0.9041757584
            ],
            "parameters": [
             {
              "depth": 8,
              "iterations": 30,
              "l2_leaf_reg": 10,
              "learning_rate": 0.3,
              "task_type": "GPU"
             }
            ],
            "passed_time": 2956.409705,
            "remaining_time": 2501.577443,
            "test": [
             1.327184205
            ]
           },
           {
            "iteration": 260,
            "learn": [
             1.029297283
            ],
            "parameters": [
             {
              "depth": 8,
              "iterations": 100,
              "l2_leaf_reg": 0,
              "learning_rate": 0.01,
              "task_type": "GPU"
             }
            ],
            "passed_time": 2962.286467,
            "remaining_time": 2485.596691,
            "test": [
             1.402929936
            ]
           },
           {
            "iteration": 261,
            "learn": [
             0.9592319915
            ],
            "parameters": [
             {
              "depth": 8,
              "iterations": 100,
              "l2_leaf_reg": 0,
              "learning_rate": 0.03,
              "task_type": "GPU"
             }
            ],
            "passed_time": 2968.053447,
            "remaining_time": 2469.601723,
            "test": [
             1.364900156
            ]
           },
           {
            "iteration": 262,
            "learn": [
             0.9070980328
            ],
            "parameters": [
             {
              "depth": 8,
              "iterations": 100,
              "l2_leaf_reg": 0,
              "learning_rate": 0.1,
              "task_type": "GPU"
             }
            ],
            "passed_time": 2973.735395,
            "remaining_time": 2453.614375,
            "test": [
             1.327779504
            ]
           },
           {
            "iteration": 263,
            "learn": [
             0.8837984162
            ],
            "parameters": [
             {
              "depth": 8,
              "iterations": 100,
              "l2_leaf_reg": 0,
              "learning_rate": 0.3,
              "task_type": "GPU"
             }
            ],
            "passed_time": 2979.251671,
            "remaining_time": 2437.569549,
            "test": [
             1.313004539
            ]
           },
           {
            "iteration": 264,
            "learn": [
             1.03114958
            ],
            "parameters": [
             {
              "depth": 8,
              "iterations": 100,
              "l2_leaf_reg": 0.3,
              "learning_rate": 0.01,
              "task_type": "GPU"
             }
            ],
            "passed_time": 2985.131298,
            "remaining_time": 2421.898978,
            "test": [
             1.402217736
            ]
           },
           {
            "iteration": 265,
            "learn": [
             0.9543960134
            ],
            "parameters": [
             {
              "depth": 8,
              "iterations": 100,
              "l2_leaf_reg": 0.3,
              "learning_rate": 0.03,
              "task_type": "GPU"
             }
            ],
            "passed_time": 2990.975318,
            "remaining_time": 2406.273376,
            "test": [
             1.362428279
            ]
           },
           {
            "iteration": 266,
            "learn": [
             0.9029675539
            ],
            "parameters": [
             {
              "depth": 8,
              "iterations": 100,
              "l2_leaf_reg": 0.3,
              "learning_rate": 0.1,
              "task_type": "GPU"
             }
            ],
            "passed_time": 2996.660887,
            "remaining_time": 2390.59464,
            "test": [
             1.31981844
            ]
           },
           {
            "iteration": 267,
            "learn": [
             0.8832775615
            ],
            "parameters": [
             {
              "depth": 8,
              "iterations": 100,
              "l2_leaf_reg": 0.3,
              "learning_rate": 0.3,
              "task_type": "GPU"
             }
            ],
            "passed_time": 3002.403288,
            "remaining_time": 2375.035436,
            "test": [
             1.309810653
            ]
           },
           {
            "iteration": 268,
            "learn": [
             1.027599216
            ],
            "parameters": [
             {
              "depth": 8,
              "iterations": 100,
              "l2_leaf_reg": 1,
              "learning_rate": 0.01,
              "task_type": "GPU"
             }
            ],
            "passed_time": 3008.415586,
            "remaining_time": 2359.760924,
            "test": [
             1.401965697
            ]
           },
           {
            "iteration": 269,
            "learn": [
             0.9550014191
            ],
            "parameters": [
             {
              "depth": 8,
              "iterations": 100,
              "l2_leaf_reg": 1,
              "learning_rate": 0.03,
              "task_type": "GPU"
             }
            ],
            "passed_time": 3014.150158,
            "remaining_time": 2344.339012,
            "test": [
             1.36290354
            ]
           },
           {
            "iteration": 270,
            "learn": [
             0.9039985259
            ],
            "parameters": [
             {
              "depth": 8,
              "iterations": 100,
              "l2_leaf_reg": 1,
              "learning_rate": 0.1,
              "task_type": "GPU"
             }
            ],
            "passed_time": 3020.007868,
            "remaining_time": 2329.083559,
            "test": [
             1.328012262
            ]
           },
           {
            "iteration": 271,
            "learn": [
             0.8907998408
            ],
            "parameters": [
             {
              "depth": 8,
              "iterations": 100,
              "l2_leaf_reg": 1,
              "learning_rate": 0.3,
              "task_type": "GPU"
             }
            ],
            "passed_time": 3025.418018,
            "remaining_time": 2313.554955,
            "test": [
             1.318509125
            ]
           },
           {
            "iteration": 272,
            "learn": [
             1.032725513
            ],
            "parameters": [
             {
              "depth": 8,
              "iterations": 100,
              "l2_leaf_reg": 3,
              "learning_rate": 0.01,
              "task_type": "GPU"
             }
            ],
            "passed_time": 3031.360892,
            "remaining_time": 2298.504413,
            "test": [
             1.404030676
            ]
           },
           {
            "iteration": 273,
            "learn": [
             0.9583575411
            ],
            "parameters": [
             {
              "depth": 8,
              "iterations": 100,
              "l2_leaf_reg": 3,
              "learning_rate": 0.03,
              "task_type": "GPU"
             }
            ],
            "passed_time": 3037.139996,
            "remaining_time": 2283.397224,
            "test": [
             1.363731669
            ]
           },
           {
            "iteration": 274,
            "learn": [
             0.9024620755
            ],
            "parameters": [
             {
              "depth": 8,
              "iterations": 100,
              "l2_leaf_reg": 3,
              "learning_rate": 0.1,
              "task_type": "GPU"
             }
            ],
            "passed_time": 3042.858527,
            "remaining_time": 2268.31272,
            "test": [
             1.319311739
            ]
           },
           {
            "iteration": 275,
            "learn": [
             0.886526049
            ],
            "parameters": [
             {
              "depth": 8,
              "iterations": 100,
              "l2_leaf_reg": 3,
              "learning_rate": 0.3,
              "task_type": "GPU"
             }
            ],
            "passed_time": 3048.51789,
            "remaining_time": 2253.252354,
            "test": [
             1.314967543
            ]
           },
           {
            "iteration": 276,
            "learn": [
             1.032658936
            ],
            "parameters": [
             {
              "depth": 8,
              "iterations": 100,
              "l2_leaf_reg": 10,
              "learning_rate": 0.01,
              "task_type": "GPU"
             }
            ],
            "passed_time": 3054.339499,
            "remaining_time": 2238.378766,
            "test": [
             1.403694255
            ]
           },
           {
            "iteration": 277,
            "learn": [
             0.9516698589
            ],
            "parameters": [
             {
              "depth": 8,
              "iterations": 100,
              "l2_leaf_reg": 10,
              "learning_rate": 0.03,
              "task_type": "GPU"
             }
            ],
            "passed_time": 3060.13354,
            "remaining_time": 2223.55027,
            "test": [
             1.361903521
            ]
           },
           {
            "iteration": 278,
            "learn": [
             0.9088781639
            ],
            "parameters": [
             {
              "depth": 8,
              "iterations": 100,
              "l2_leaf_reg": 10,
              "learning_rate": 0.1,
              "task_type": "GPU"
             }
            ],
            "passed_time": 3065.818345,
            "remaining_time": 2208.70784,
            "test": [
             1.331515067
            ]
           },
           {
            "iteration": 279,
            "learn": [
             0.8906270444
            ],
            "parameters": [
             {
              "depth": 8,
              "iterations": 100,
              "l2_leaf_reg": 10,
              "learning_rate": 0.3,
              "task_type": "GPU"
             }
            ],
            "passed_time": 3071.42827,
            "remaining_time": 2193.877336,
            "test": [
             1.30940047
            ]
           },
           {
            "iteration": 280,
            "learn": [
             0.9527512768
            ],
            "parameters": [
             {
              "depth": 8,
              "iterations": 300,
              "l2_leaf_reg": 0,
              "learning_rate": 0.01,
              "task_type": "GPU"
             }
            ],
            "passed_time": 3087.022662,
            "remaining_time": 2186.183309,
            "test": [
             1.361348089
            ]
           },
           {
            "iteration": 281,
            "learn": [
             0.911526654
            ],
            "parameters": [
             {
              "depth": 8,
              "iterations": 300,
              "l2_leaf_reg": 0,
              "learning_rate": 0.03,
              "task_type": "GPU"
             }
            ],
            "passed_time": 3102.622433,
            "remaining_time": 2178.437027,
            "test": [
             1.333352437
            ]
           },
           {
            "iteration": 282,
            "learn": [
             0.880507559
            ],
            "parameters": [
             {
              "depth": 8,
              "iterations": 300,
              "l2_leaf_reg": 0,
              "learning_rate": 0.1,
              "task_type": "GPU"
             }
            ],
            "passed_time": 3117.740591,
            "remaining_time": 2170.299988,
            "test": [
             1.299868016
            ]
           },
           {
            "iteration": 283,
            "learn": [
             0.8650923415
            ],
            "parameters": [
             {
              "depth": 8,
              "iterations": 300,
              "l2_leaf_reg": 0,
              "learning_rate": 0.3,
              "task_type": "GPU"
             }
            ],
            "passed_time": 3131.610161,
            "remaining_time": 2161.252083,
            "test": [
             1.296886442
            ]
           },
           {
            "iteration": 284,
            "learn": [
             0.9519219154
            ],
            "parameters": [
             {
              "depth": 8,
              "iterations": 300,
              "l2_leaf_reg": 0.3,
              "learning_rate": 0.01,
              "task_type": "GPU"
             }
            ],
            "passed_time": 3147.220068,
            "remaining_time": 2153.361099,
            "test": [
             1.360192144
            ]
           },
           {
            "iteration": 285,
            "learn": [
             0.9086427433
            ],
            "parameters": [
             {
              "depth": 8,
              "iterations": 300,
              "l2_leaf_reg": 0.3,
              "learning_rate": 0.03,
              "task_type": "GPU"
             }
            ],
            "passed_time": 3162.533829,
            "remaining_time": 2145.215255,
            "test": [
             1.334061222
            ]
           },
           {
            "iteration": 286,
            "learn": [
             0.8929178613
            ],
            "parameters": [
             {
              "depth": 8,
              "iterations": 300,
              "l2_leaf_reg": 0.3,
              "learning_rate": 0.1,
              "task_type": "GPU"
             }
            ],
            "passed_time": 3177.255556,
            "remaining_time": 2136.621332,
            "test": [
             1.312328771
            ]
           },
           {
            "iteration": 287,
            "learn": [
             0.866519278
            ],
            "parameters": [
             {
              "depth": 8,
              "iterations": 300,
              "l2_leaf_reg": 0.3,
              "learning_rate": 0.3,
              "task_type": "GPU"
             }
            ],
            "passed_time": 3191.703992,
            "remaining_time": 2127.802662,
            "test": [
             1.296302508
            ]
           },
           {
            "iteration": 288,
            "learn": [
             0.9557398303
            ],
            "parameters": [
             {
              "depth": 8,
              "iterations": 300,
              "l2_leaf_reg": 1,
              "learning_rate": 0.01,
              "task_type": "GPU"
             }
            ],
            "passed_time": 3207.389516,
            "remaining_time": 2119.762621,
            "test": [
             1.363209251
            ]
           },
           {
            "iteration": 289,
            "learn": [
             0.9088119994
            ],
            "parameters": [
             {
              "depth": 8,
              "iterations": 300,
              "l2_leaf_reg": 1,
              "learning_rate": 0.03,
              "task_type": "GPU"
             }
            ],
            "passed_time": 3222.492518,
            "remaining_time": 2111.288201,
            "test": [
             1.33155909
            ]
           },
           {
            "iteration": 290,
            "learn": [
             0.8925801961
            ],
            "parameters": [
             {
              "depth": 8,
              "iterations": 300,
              "l2_leaf_reg": 1,
              "learning_rate": 0.1,
              "task_type": "GPU"
             }
            ],
            "passed_time": 3236.824118,
            "remaining_time": 2102.267211,
            "test": [
             1.318921783
            ]
           },
           {
            "iteration": 291,
            "learn": [
             0.873203934
            ],
            "parameters": [
             {
              "depth": 8,
              "iterations": 300,
              "l2_leaf_reg": 1,
              "learning_rate": 0.3,
              "task_type": "GPU"
             }
            ],
            "passed_time": 3251.159038,
            "remaining_time": 2093.211984,
            "test": [
             1.298383155
            ]
           },
           {
            "iteration": 292,
            "learn": [
             0.9539893667
            ],
            "parameters": [
             {
              "depth": 8,
              "iterations": 300,
              "l2_leaf_reg": 3,
              "learning_rate": 0.01,
              "task_type": "GPU"
             }
            ],
            "passed_time": 3266.780353,
            "remaining_time": 2084.941727,
            "test": [
             1.362589249
            ]
           },
           {
            "iteration": 293,
            "learn": [
             0.9108966845
            ],
            "parameters": [
             {
              "depth": 8,
              "iterations": 300,
              "l2_leaf_reg": 3,
              "learning_rate": 0.03,
              "task_type": "GPU"
             }
            ],
            "passed_time": 3282.08617,
            "remaining_time": 2076.421863,
            "test": [
             1.333649253
            ]
           },
           {
            "iteration": 294,
            "learn": [
             0.8871259468
            ],
            "parameters": [
             {
              "depth": 8,
              "iterations": 300,
              "l2_leaf_reg": 3,
              "learning_rate": 0.1,
              "task_type": "GPU"
             }
            ],
            "passed_time": 3297.182382,
            "remaining_time": 2067.724544,
            "test": [
             1.305041536
            ]
           },
           {
            "iteration": 295,
            "learn": [
             0.8685360591
            ],
            "parameters": [
             {
              "depth": 8,
              "iterations": 300,
              "l2_leaf_reg": 3,
              "learning_rate": 0.3,
              "task_type": "GPU"
             }
            ],
            "passed_time": 3312.139029,
            "remaining_time": 2058.897234,
            "test": [
             1.29945566
            ]
           },
           {
            "iteration": 296,
            "learn": [
             0.9540284127
            ],
            "parameters": [
             {
              "depth": 8,
              "iterations": 300,
              "l2_leaf_reg": 10,
              "learning_rate": 0.01,
              "task_type": "GPU"
             }
            ],
            "passed_time": 3327.84095,
            "remaining_time": 2050.487858,
            "test": [
             1.36124631
            ]
           },
           {
            "iteration": 297,
            "learn": [
             0.9134154141
            ],
            "parameters": [
             {
              "depth": 8,
              "iterations": 300,
              "l2_leaf_reg": 10,
              "learning_rate": 0.03,
              "task_type": "GPU"
             }
            ],
            "passed_time": 3343.364823,
            "remaining_time": 2041.920798,
            "test": [
             1.33792959
            ]
           },
           {
            "iteration": 298,
            "learn": [
             0.8910517608
            ],
            "parameters": [
             {
              "depth": 8,
              "iterations": 300,
              "l2_leaf_reg": 10,
              "learning_rate": 0.1,
              "task_type": "GPU"
             }
            ],
            "passed_time": 3358.559784,
            "remaining_time": 2033.108097,
            "test": [
             1.315271129
            ]
           },
           {
            "iteration": 299,
            "learn": [
             0.8751817917
            ],
            "parameters": [
             {
              "depth": 8,
              "iterations": 300,
              "l2_leaf_reg": 10,
              "learning_rate": 0.3,
              "task_type": "GPU"
             }
            ],
            "passed_time": 3372.880115,
            "remaining_time": 2023.728069,
            "test": [
             1.308463055
            ]
           },
           {
            "iteration": 300,
            "learn": [
             0.9042772455
            ],
            "parameters": [
             {
              "depth": 8,
              "iterations": 1000,
              "l2_leaf_reg": 0,
              "learning_rate": 0.01,
              "task_type": "GPU"
             }
            ],
            "passed_time": 3421.90162,
            "remaining_time": 2034.951462,
            "test": [
             1.32663566
            ]
           },
           {
            "iteration": 301,
            "learn": [
             0.8914664878
            ],
            "parameters": [
             {
              "depth": 8,
              "iterations": 1000,
              "l2_leaf_reg": 0,
              "learning_rate": 0.03,
              "task_type": "GPU"
             }
            ],
            "passed_time": 3468.522244,
            "remaining_time": 2044.360793,
            "test": [
             1.312346805
            ]
           },
           {
            "iteration": 302,
            "learn": [
             0.8593839732
            ],
            "parameters": [
             {
              "depth": 8,
              "iterations": 1000,
              "l2_leaf_reg": 0,
              "learning_rate": 0.1,
              "task_type": "GPU"
             }
            ],
            "passed_time": 3516.726589,
            "remaining_time": 2054.325433,
            "test": [
             1.294473452
            ]
           },
           {
            "iteration": 303,
            "learn": [
             0.8449471134
            ],
            "parameters": [
             {
              "depth": 8,
              "iterations": 1000,
              "l2_leaf_reg": 0,
              "learning_rate": 0.3,
              "task_type": "GPU"
             }
            ],
            "passed_time": 3559.353908,
            "remaining_time": 2060.678578,
            "test": [
             1.292482274
            ]
           },
           {
            "iteration": 304,
            "learn": [
             0.9080904873
            ],
            "parameters": [
             {
              "depth": 8,
              "iterations": 1000,
              "l2_leaf_reg": 0.3,
              "learning_rate": 0.01,
              "task_type": "GPU"
             }
            ],
            "passed_time": 3607.708693,
            "remaining_time": 2069.996791,
            "test": [
             1.329423122
            ]
           },
           {
            "iteration": 305,
            "learn": [
             0.8897562763
            ],
            "parameters": [
             {
              "depth": 8,
              "iterations": 1000,
              "l2_leaf_reg": 0.3,
              "learning_rate": 0.03,
              "task_type": "GPU"
             }
            ],
            "passed_time": 3655.70276,
            "remaining_time": 2078.732942,
            "test": [
             1.312121741
            ]
           },
           {
            "iteration": 306,
            "learn": [
             0.8671153636
            ],
            "parameters": [
             {
              "depth": 8,
              "iterations": 1000,
              "l2_leaf_reg": 0.3,
              "learning_rate": 0.1,
              "task_type": "GPU"
             }
            ],
            "passed_time": 3702.794175,
            "remaining_time": 2086.590854,
            "test": [
             1.297538122
            ]
           },
           {
            "iteration": 307,
            "learn": [
             0.8439205801
            ],
            "parameters": [
             {
              "depth": 8,
              "iterations": 1000,
              "l2_leaf_reg": 0.3,
              "learning_rate": 0.3,
              "task_type": "GPU"
             }
            ],
            "passed_time": 3749.180931,
            "remaining_time": 2093.698442,
            "test": [
             1.295165757
            ]
           },
           {
            "iteration": 308,
            "learn": [
             0.9079056176
            ],
            "parameters": [
             {
              "depth": 8,
              "iterations": 1000,
              "l2_leaf_reg": 1,
              "learning_rate": 0.01,
              "task_type": "GPU"
             }
            ],
            "passed_time": 3798.681804,
            "remaining_time": 2102.183134,
            "test": [
             1.331831279
            ]
           },
           {
            "iteration": 309,
            "learn": [
             0.8916367778
            ],
            "parameters": [
             {
              "depth": 8,
              "iterations": 1000,
              "l2_leaf_reg": 1,
              "learning_rate": 0.03,
              "task_type": "GPU"
             }
            ],
            "passed_time": 3846.711934,
            "remaining_time": 2109.48719,
            "test": [
             1.313953227
            ]
           },
           {
            "iteration": 310,
            "learn": [
             0.8678417747
            ],
            "parameters": [
             {
              "depth": 8,
              "iterations": 1000,
              "l2_leaf_reg": 1,
              "learning_rate": 0.1,
              "task_type": "GPU"
             }
            ],
            "passed_time": 3892.36597,
            "remaining_time": 2115.144209,
            "test": [
             1.297319549
            ]
           },
           {
            "iteration": 311,
            "learn": [
             0.8445121708
            ],
            "parameters": [
             {
              "depth": 8,
              "iterations": 1000,
              "l2_leaf_reg": 1,
              "learning_rate": 0.3,
              "task_type": "GPU"
             }
            ],
            "passed_time": 3939.337347,
            "remaining_time": 2121.181648,
            "test": [
             1.289542491
            ]
           },
           {
            "iteration": 312,
            "learn": [
             0.9096828188
            ],
            "parameters": [
             {
              "depth": 8,
              "iterations": 1000,
              "l2_leaf_reg": 3,
              "learning_rate": 0.01,
              "task_type": "GPU"
             }
            ],
            "passed_time": 3988.651543,
            "remaining_time": 2128.130376,
            "test": [
             1.333402512
            ]
           },
           {
            "iteration": 313,
            "learn": [
             0.8895371737
            ],
            "parameters": [
             {
              "depth": 8,
              "iterations": 1000,
              "l2_leaf_reg": 3,
              "learning_rate": 0.03,
              "task_type": "GPU"
             }
            ],
            "passed_time": 4036.994804,
            "remaining_time": 2134.207444,
            "test": [
             1.314022887
            ]
           },
           {
            "iteration": 314,
            "learn": [
             0.8653564546
            ],
            "parameters": [
             {
              "depth": 8,
              "iterations": 1000,
              "l2_leaf_reg": 3,
              "learning_rate": 0.1,
              "task_type": "GPU"
             }
            ],
            "passed_time": 4084.96856,
            "remaining_time": 2139.745436,
            "test": [
             1.29663605
            ]
           },
           {
            "iteration": 315,
            "learn": [
             0.8376648344
            ],
            "parameters": [
             {
              "depth": 8,
              "iterations": 1000,
              "l2_leaf_reg": 3,
              "learning_rate": 0.3,
              "task_type": "GPU"
             }
            ],
            "passed_time": 4131.952326,
            "remaining_time": 2144.430954,
            "test": [
             1.280867642
            ]
           },
           {
            "iteration": 316,
            "learn": [
             0.9115312392
            ],
            "parameters": [
             {
              "depth": 8,
              "iterations": 1000,
              "l2_leaf_reg": 10,
              "learning_rate": 0.01,
              "task_type": "GPU"
             }
            ],
            "passed_time": 4181.329973,
            "remaining_time": 2150.021406,
            "test": [
             1.333340291
            ]
           },
           {
            "iteration": 317,
            "learn": [
             0.8933558751
            ],
            "parameters": [
             {
              "depth": 8,
              "iterations": 1000,
              "l2_leaf_reg": 10,
              "learning_rate": 0.03,
              "task_type": "GPU"
             }
            ],
            "passed_time": 4227.988058,
            "remaining_time": 2153.880709,
            "test": [
             1.313514747
            ]
           },
           {
            "iteration": 318,
            "learn": [
             0.8672172116
            ],
            "parameters": [
             {
              "depth": 8,
              "iterations": 1000,
              "l2_leaf_reg": 10,
              "learning_rate": 0.1,
              "task_type": "GPU"
             }
            ],
            "passed_time": 4275.947283,
            "remaining_time": 2158.079976,
            "test": [
             1.2994596
            ]
           },
           {
            "iteration": 319,
            "learn": [
             0.8488975424
            ],
            "parameters": [
             {
              "depth": 8,
              "iterations": 1000,
              "l2_leaf_reg": 10,
              "learning_rate": 0.3,
              "task_type": "GPU"
             }
            ],
            "passed_time": 4321.429348,
            "remaining_time": 2160.714674,
            "test": [
             1.280947748
            ]
           },
           {
            "iteration": 320,
            "learn": [
             1.12082475
            ],
            "parameters": [
             {
              "depth": 10,
              "iterations": 30,
              "l2_leaf_reg": 0,
              "learning_rate": 0.01,
              "task_type": "GPU"
             }
            ],
            "passed_time": 4325.521563,
            "remaining_time": 2142.548064,
            "test": [
             1.451932548
            ]
           },
           {
            "iteration": 321,
            "learn": [
             1.039721026
            ],
            "parameters": [
             {
              "depth": 10,
              "iterations": 30,
              "l2_leaf_reg": 0,
              "learning_rate": 0.03,
              "task_type": "GPU"
             }
            ],
            "passed_time": 4329.523684,
            "remaining_time": 2124.424665,
            "test": [
             1.403784918
            ]
           },
           {
            "iteration": 322,
            "learn": [
             0.9480086654
            ],
            "parameters": [
             {
              "depth": 10,
              "iterations": 30,
              "l2_leaf_reg": 0,
              "learning_rate": 0.1,
              "task_type": "GPU"
             }
            ],
            "passed_time": 4332.869059,
            "remaining_time": 2106.069481,
            "test": [
             1.350820955
            ]
           },
           {
            "iteration": 323,
            "learn": [
             0.9061142066
            ],
            "parameters": [
             {
              "depth": 10,
              "iterations": 30,
              "l2_leaf_reg": 0,
              "learning_rate": 0.3,
              "task_type": "GPU"
             }
            ],
            "passed_time": 4336.023915,
            "remaining_time": 2087.715219,
            "test": [
             1.32606916
            ]
           },
           {
            "iteration": 324,
            "learn": [
             1.123859077
            ],
            "parameters": [
             {
              "depth": 10,
              "iterations": 30,
              "l2_leaf_reg": 0.3,
              "learning_rate": 0.01,
              "task_type": "GPU"
             }
            ],
            "passed_time": 4339.903574,
            "remaining_time": 2069.800166,
            "test": [
             1.452845214
            ]
           },
           {
            "iteration": 325,
            "learn": [
             1.052279711
            ],
            "parameters": [
             {
              "depth": 10,
              "iterations": 30,
              "l2_leaf_reg": 0.3,
              "learning_rate": 0.03,
              "task_type": "GPU"
             }
            ],
            "passed_time": 4343.458031,
            "remaining_time": 2051.817598,
            "test": [
             1.409816568
            ]
           },
           {
            "iteration": 326,
            "learn": [
             0.9456669751
            ],
            "parameters": [
             {
              "depth": 10,
              "iterations": 30,
              "l2_leaf_reg": 0.3,
              "learning_rate": 0.1,
              "task_type": "GPU"
             }
            ],
            "passed_time": 4346.627276,
            "remaining_time": 2033.743038,
            "test": [
             1.349451438
            ]
           },
           {
            "iteration": 327,
            "learn": [
             0.9171424171
            ],
            "parameters": [
             {
              "depth": 10,
              "iterations": 30,
              "l2_leaf_reg": 0.3,
              "learning_rate": 0.3,
              "task_type": "GPU"
             }
            ],
            "passed_time": 4349.343926,
            "remaining_time": 2015.549624,
            "test": [
             1.329785798
            ]
           },
           {
            "iteration": 328,
            "learn": [
             1.11974837
            ],
            "parameters": [
             {
              "depth": 10,
              "iterations": 30,
              "l2_leaf_reg": 1,
              "learning_rate": 0.01,
              "task_type": "GPU"
             }
            ],
            "passed_time": 4353.471385,
            "remaining_time": 1998.097809,
            "test": [
             1.451538845
            ]
           },
           {
            "iteration": 329,
            "learn": [
             1.047461734
            ],
            "parameters": [
             {
              "depth": 10,
              "iterations": 30,
              "l2_leaf_reg": 1,
              "learning_rate": 0.03,
              "task_type": "GPU"
             }
            ],
            "passed_time": 4356.908478,
            "remaining_time": 1980.412945,
            "test": [
             1.409950858
            ]
           },
           {
            "iteration": 330,
            "learn": [
             0.9518890948
            ],
            "parameters": [
             {
              "depth": 10,
              "iterations": 30,
              "l2_leaf_reg": 1,
              "learning_rate": 0.1,
              "task_type": "GPU"
             }
            ],
            "passed_time": 4360.529301,
            "remaining_time": 1962.896875,
            "test": [
             1.360128614
            ]
           },
           {
            "iteration": 331,
            "learn": [
             0.8939816959
            ],
            "parameters": [
             {
              "depth": 10,
              "iterations": 30,
              "l2_leaf_reg": 1,
              "learning_rate": 0.3,
              "task_type": "GPU"
             }
            ],
            "passed_time": 4363.997322,
            "remaining_time": 1945.396397,
            "test": [
             1.309878977
            ]
           },
           {
            "iteration": 332,
            "learn": [
             1.121906616
            ],
            "parameters": [
             {
              "depth": 10,
              "iterations": 30,
              "l2_leaf_reg": 3,
              "learning_rate": 0.01,
              "task_type": "GPU"
             }
            ],
            "passed_time": 4367.687237,
            "remaining_time": 1928.07815,
            "test": [
             1.452254989
            ]
           },
           {
            "iteration": 333,
            "learn": [
             1.05171997
            ],
            "parameters": [
             {
              "depth": 10,
              "iterations": 30,
              "l2_leaf_reg": 3,
              "learning_rate": 0.03,
              "task_type": "GPU"
             }
            ],
            "passed_time": 4371.268698,
            "remaining_time": 1910.794102,
            "test": [
             1.410167386
            ]
           },
           {
            "iteration": 334,
            "learn": [
             0.9517832707
            ],
            "parameters": [
             {
              "depth": 10,
              "iterations": 30,
              "l2_leaf_reg": 3,
              "learning_rate": 0.1,
              "task_type": "GPU"
             }
            ],
            "passed_time": 4375.193271,
            "remaining_time": 1893.740371,
            "test": [
             1.354098564
            ]
           },
           {
            "iteration": 335,
            "learn": [
             0.9041225692
            ],
            "parameters": [
             {
              "depth": 10,
              "iterations": 30,
              "l2_leaf_reg": 3,
              "learning_rate": 0.3,
              "task_type": "GPU"
             }
            ],
            "passed_time": 4378.502443,
            "remaining_time": 1876.501047,
            "test": [
             1.323259117
            ]
           },
           {
            "iteration": 336,
            "learn": [
             1.121071069
            ],
            "parameters": [
             {
              "depth": 10,
              "iterations": 30,
              "l2_leaf_reg": 10,
              "learning_rate": 0.01,
              "task_type": "GPU"
             }
            ],
            "passed_time": 4382.804438,
            "remaining_time": 1859.765681,
            "test": [
             1.451339433
            ]
           },
           {
            "iteration": 337,
            "learn": [
             1.039594844
            ],
            "parameters": [
             {
              "depth": 10,
              "iterations": 30,
              "l2_leaf_reg": 10,
              "learning_rate": 0.03,
              "task_type": "GPU"
             }
            ],
            "passed_time": 4386.995253,
            "remaining_time": 1843.057177,
            "test": [
             1.401166356
            ]
           },
           {
            "iteration": 338,
            "learn": [
             0.9495257773
            ],
            "parameters": [
             {
              "depth": 10,
              "iterations": 30,
              "l2_leaf_reg": 10,
              "learning_rate": 0.1,
              "task_type": "GPU"
             }
            ],
            "passed_time": 4390.416883,
            "remaining_time": 1826.102598,
            "test": [
             1.354356425
            ]
           },
           {
            "iteration": 339,
            "learn": [
             0.891447441
            ],
            "parameters": [
             {
              "depth": 10,
              "iterations": 30,
              "l2_leaf_reg": 10,
              "learning_rate": 0.3,
              "task_type": "GPU"
             }
            ],
            "passed_time": 4393.983594,
            "remaining_time": 1809.287362,
            "test": [
             1.309399114
            ]
           },
           {
            "iteration": 340,
            "learn": [
             1.04005633
            ],
            "parameters": [
             {
              "depth": 10,
              "iterations": 100,
              "l2_leaf_reg": 0,
              "learning_rate": 0.01,
              "task_type": "GPU"
             }
            ],
            "passed_time": 4404.846115,
            "remaining_time": 1795.523783,
            "test": [
             1.404790826
            ]
           },
           {
            "iteration": 341,
            "learn": [
             0.9506003462
            ],
            "parameters": [
             {
              "depth": 10,
              "iterations": 100,
              "l2_leaf_reg": 0,
              "learning_rate": 0.03,
              "task_type": "GPU"
             }
            ],
            "passed_time": 4414.835532,
            "remaining_time": 1781.424864,
            "test": [
             1.354123257
            ]
           },
           {
            "iteration": 342,
            "learn": [
             0.9073804353
            ],
            "parameters": [
             {
              "depth": 10,
              "iterations": 100,
              "l2_leaf_reg": 0,
              "learning_rate": 0.1,
              "task_type": "GPU"
             }
            ],
            "passed_time": 4424.012657,
            "remaining_time": 1767.025464,
            "test": [
             1.322982243
            ]
           },
           {
            "iteration": 343,
            "learn": [
             0.8882538611
            ],
            "parameters": [
             {
              "depth": 10,
              "iterations": 100,
              "l2_leaf_reg": 0,
              "learning_rate": 0.3,
              "task_type": "GPU"
             }
            ],
            "passed_time": 4433.417172,
            "remaining_time": 1752.746324,
            "test": [
             1.311907469
            ]
           },
           {
            "iteration": 344,
            "learn": [
             1.04161628
            ],
            "parameters": [
             {
              "depth": 10,
              "iterations": 100,
              "l2_leaf_reg": 0.3,
              "learning_rate": 0.01,
              "task_type": "GPU"
             }
            ],
            "passed_time": 4444.272063,
            "remaining_time": 1739.062981,
            "test": [
             1.405917088
            ]
           },
           {
            "iteration": 345,
            "learn": [
             0.9646006541
            ],
            "parameters": [
             {
              "depth": 10,
              "iterations": 100,
              "l2_leaf_reg": 0.3,
              "learning_rate": 0.03,
              "task_type": "GPU"
             }
            ],
            "passed_time": 4453.59481,
            "remaining_time": 1724.802614,
            "test": [
             1.361335578
            ]
           },
           {
            "iteration": 346,
            "learn": [
             0.895348151
            ],
            "parameters": [
             {
              "depth": 10,
              "iterations": 100,
              "l2_leaf_reg": 0.3,
              "learning_rate": 0.1,
              "task_type": "GPU"
             }
            ],
            "passed_time": 4462.567972,
            "remaining_time": 1710.436715,
            "test": [
             1.31681848
            ]
           },
           {
            "iteration": 347,
            "learn": [
             0.8767761198
            ],
            "parameters": [
             {
              "depth": 10,
              "iterations": 100,
              "l2_leaf_reg": 0.3,
              "learning_rate": 0.3,
              "task_type": "GPU"
             }
            ],
            "passed_time": 4470.975119,
            "remaining_time": 1695.887114,
            "test": [
             1.298672314
            ]
           },
           {
            "iteration": 348,
            "learn": [
             1.036617015
            ],
            "parameters": [
             {
              "depth": 10,
              "iterations": 100,
              "l2_leaf_reg": 1,
              "learning_rate": 0.01,
              "task_type": "GPU"
             }
            ],
            "passed_time": 4481.203391,
            "remaining_time": 1682.056287,
            "test": [
             1.402157227
            ]
           },
           {
            "iteration": 349,
            "learn": [
             0.9594841851
            ],
            "parameters": [
             {
              "depth": 10,
              "iterations": 100,
              "l2_leaf_reg": 1,
              "learning_rate": 0.03,
              "task_type": "GPU"
             }
            ],
            "passed_time": 4490.304744,
            "remaining_time": 1667.827476,
            "test": [
             1.362103369
            ]
           },
           {
            "iteration": 350,
            "learn": [
             0.8999220363
            ],
            "parameters": [
             {
              "depth": 10,
              "iterations": 100,
              "l2_leaf_reg": 1,
              "learning_rate": 0.1,
              "task_type": "GPU"
             }
            ],
            "passed_time": 4499.780297,
            "remaining_time": 1653.765408,
            "test": [
             1.330387709
            ]
           },
           {
            "iteration": 351,
            "learn": [
             0.8780208717
            ],
            "parameters": [
             {
              "depth": 10,
              "iterations": 100,
              "l2_leaf_reg": 1,
              "learning_rate": 0.3,
              "task_type": "GPU"
             }
            ],
            "passed_time": 4508.05579,
            "remaining_time": 1639.293015,
            "test": [
             1.302177492
            ]
           },
           {
            "iteration": 352,
            "learn": [
             1.048038754
            ],
            "parameters": [
             {
              "depth": 10,
              "iterations": 100,
              "l2_leaf_reg": 3,
              "learning_rate": 0.01,
              "task_type": "GPU"
             }
            ],
            "passed_time": 4518.324376,
            "remaining_time": 1625.572792,
            "test": [
             1.405795122
            ]
           },
           {
            "iteration": 353,
            "learn": [
             0.9477080497
            ],
            "parameters": [
             {
              "depth": 10,
              "iterations": 100,
              "l2_leaf_reg": 3,
              "learning_rate": 0.03,
              "task_type": "GPU"
             }
            ],
            "passed_time": 4527.798349,
            "remaining_time": 1611.589243,
            "test": [
             1.351802352
            ]
           },
           {
            "iteration": 354,
            "learn": [
             0.9016464572
            ],
            "parameters": [
             {
              "depth": 10,
              "iterations": 100,
              "l2_leaf_reg": 3,
              "learning_rate": 0.1,
              "task_type": "GPU"
             }
            ],
            "passed_time": 4537.316342,
            "remaining_time": 1597.646599,
            "test": [
             1.321718358
            ]
           },
           {
            "iteration": 355,
            "learn": [
             0.8781081278
            ],
            "parameters": [
             {
              "depth": 10,
              "iterations": 100,
              "l2_leaf_reg": 3,
              "learning_rate": 0.3,
              "task_type": "GPU"
             }
            ],
            "passed_time": 4546.276387,
            "remaining_time": 1583.534472,
            "test": [
             1.308457705
            ]
           },
           {
            "iteration": 356,
            "learn": [
             1.043289279
            ],
            "parameters": [
             {
              "depth": 10,
              "iterations": 100,
              "l2_leaf_reg": 10,
              "learning_rate": 0.01,
              "task_type": "GPU"
             }
            ],
            "passed_time": 4557.353035,
            "remaining_time": 1570.180457,
            "test": [
             1.404365008
            ]
           },
           {
            "iteration": 357,
            "learn": [
             0.9550475352
            ],
            "parameters": [
             {
              "depth": 10,
              "iterations": 100,
              "l2_leaf_reg": 10,
              "learning_rate": 0.03,
              "task_type": "GPU"
             }
            ],
            "passed_time": 4567.696601,
            "remaining_time": 1556.589344,
            "test": [
             1.35947431
            ]
           },
           {
            "iteration": 358,
            "learn": [
             0.9043817541
            ],
            "parameters": [
             {
              "depth": 10,
              "iterations": 100,
              "l2_leaf_reg": 10,
              "learning_rate": 0.1,
              "task_type": "GPU"
             }
            ],
            "passed_time": 4577.038774,
            "remaining_time": 1542.678807,
            "test": [
             1.329260966
            ]
           },
           {
            "iteration": 359,
            "learn": [
             0.8807108449
            ],
            "parameters": [
             {
              "depth": 10,
              "iterations": 100,
              "l2_leaf_reg": 10,
              "learning_rate": 0.3,
              "task_type": "GPU"
             }
            ],
            "passed_time": 4585.714686,
            "remaining_time": 1528.571562,
            "test": [
             1.307627293
            ]
           },
           {
            "iteration": 360,
            "learn": [
             0.9583177447
            ],
            "parameters": [
             {
              "depth": 10,
              "iterations": 300,
              "l2_leaf_reg": 0,
              "learning_rate": 0.01,
              "task_type": "GPU"
             }
            ],
            "passed_time": 4613.851307,
            "remaining_time": 1520.909434,
            "test": [
             1.360470432
            ]
           },
           {
            "iteration": 361,
            "learn": [
             0.8936823153
            ],
            "parameters": [
             {
              "depth": 10,
              "iterations": 300,
              "l2_leaf_reg": 0,
              "learning_rate": 0.03,
              "task_type": "GPU"
             }
            ],
            "passed_time": 4641.091538,
            "remaining_time": 1512.841993,
            "test": [
             1.311860358
            ]
           },
           {
            "iteration": 362,
            "learn": [
             0.8808414002
            ],
            "parameters": [
             {
              "depth": 10,
              "iterations": 300,
              "l2_leaf_reg": 0,
              "learning_rate": 0.1,
              "task_type": "GPU"
             }
            ],
            "passed_time": 4664.381793,
            "remaining_time": 1503.395784,
            "test": [
             1.306334355
            ]
           },
           {
            "iteration": 363,
            "learn": [
             0.8531782939
            ],
            "parameters": [
             {
              "depth": 10,
              "iterations": 300,
              "l2_leaf_reg": 0,
              "learning_rate": 0.3,
              "task_type": "GPU"
             }
            ],
            "passed_time": 4688.349669,
            "remaining_time": 1494.089455,
            "test": [
             1.285827483
            ]
           },
           {
            "iteration": 364,
            "learn": [
             0.9501973534
            ],
            "parameters": [
             {
              "depth": 10,
              "iterations": 300,
              "l2_leaf_reg": 0.3,
              "learning_rate": 0.01,
              "task_type": "GPU"
             }
            ],
            "passed_time": 4716.819108,
            "remaining_time": 1486.121089,
            "test": [
             1.355386836
            ]
           },
           {
            "iteration": 365,
            "learn": [
             0.902873413
            ],
            "parameters": [
             {
              "depth": 10,
              "iterations": 300,
              "l2_leaf_reg": 0.3,
              "learning_rate": 0.03,
              "task_type": "GPU"
             }
            ],
            "passed_time": 4742.336695,
            "remaining_time": 1477.121266,
            "test": [
             1.320555378
            ]
           },
           {
            "iteration": 366,
            "learn": [
             0.8717119471
            ],
            "parameters": [
             {
              "depth": 10,
              "iterations": 300,
              "l2_leaf_reg": 0.3,
              "learning_rate": 0.1,
              "task_type": "GPU"
             }
            ],
            "passed_time": 4767.256727,
            "remaining_time": 1467.847439,
            "test": [
             1.296673038
            ]
           },
           {
            "iteration": 367,
            "learn": [
             0.8604915136
            ],
            "parameters": [
             {
              "depth": 10,
              "iterations": 300,
              "l2_leaf_reg": 0.3,
              "learning_rate": 0.3,
              "task_type": "GPU"
             }
            ],
            "passed_time": 4790.207724,
            "remaining_time": 1457.889307,
            "test": [
             1.297373109
            ]
           },
           {
            "iteration": 368,
            "learn": [
             0.953686692
            ],
            "parameters": [
             {
              "depth": 10,
              "iterations": 300,
              "l2_leaf_reg": 1,
              "learning_rate": 0.01,
              "task_type": "GPU"
             }
            ],
            "passed_time": 4817.995522,
            "remaining_time": 1449.315726,
            "test": [
             1.359177061
            ]
           },
           {
            "iteration": 369,
            "learn": [
             0.8965400803
            ],
            "parameters": [
             {
              "depth": 10,
              "iterations": 300,
              "l2_leaf_reg": 1,
              "learning_rate": 0.03,
              "task_type": "GPU"
             }
            ],
            "passed_time": 4844.069307,
            "remaining_time": 1440.128713,
            "test": [
             1.316171901
            ]
           },
           {
            "iteration": 370,
            "learn": [
             0.880102716
            ],
            "parameters": [
             {
              "depth": 10,
              "iterations": 300,
              "l2_leaf_reg": 1,
              "learning_rate": 0.1,
              "task_type": "GPU"
             }
            ],
            "passed_time": 4869.249421,
            "remaining_time": 1430.588105,
            "test": [
             1.305592111
            ]
           },
           {
            "iteration": 371,
            "learn": [
             0.8639232433
            ],
            "parameters": [
             {
              "depth": 10,
              "iterations": 300,
              "l2_leaf_reg": 1,
              "learning_rate": 0.3,
              "task_type": "GPU"
             }
            ],
            "passed_time": 4892.174717,
            "remaining_time": 1420.308789,
            "test": [
             1.303779093
            ]
           },
           {
            "iteration": 372,
            "learn": [
             0.9563792928
            ],
            "parameters": [
             {
              "depth": 10,
              "iterations": 300,
              "l2_leaf_reg": 3,
              "learning_rate": 0.01,
              "task_type": "GPU"
             }
            ],
            "passed_time": 4920.238021,
            "remaining_time": 1411.435572,
            "test": [
             1.357752176
            ]
           },
           {
            "iteration": 373,
            "learn": [
             0.9001556749
            ],
            "parameters": [
             {
              "depth": 10,
              "iterations": 300,
              "l2_leaf_reg": 3,
              "learning_rate": 0.03,
              "task_type": "GPU"
             }
            ],
            "passed_time": 4946.207583,
            "remaining_time": 1401.86632,
            "test": [
             1.319087705
            ]
           },
           {
            "iteration": 374,
            "learn": [
             0.876168927
            ],
            "parameters": [
             {
              "depth": 10,
              "iterations": 300,
              "l2_leaf_reg": 3,
              "learning_rate": 0.1,
              "task_type": "GPU"
             }
            ],
            "passed_time": 4971.327077,
            "remaining_time": 1391.971582,
            "test": [
             1.301240414
            ]
           },
           {
            "iteration": 375,
            "learn": [
             0.8711884238
            ],
            "parameters": [
             {
              "depth": 10,
              "iterations": 300,
              "l2_leaf_reg": 3,
              "learning_rate": 0.3,
              "task_type": "GPU"
             }
            ],
            "passed_time": 4993.883147,
            "remaining_time": 1381.286828,
            "test": [
             1.308061916
            ]
           },
           {
            "iteration": 376,
            "learn": [
             0.9548539747
            ],
            "parameters": [
             {
              "depth": 10,
              "iterations": 300,
              "l2_leaf_reg": 10,
              "learning_rate": 0.01,
              "task_type": "GPU"
             }
            ],
            "passed_time": 5022.01014,
            "remaining_time": 1372.061126,
            "test": [
             1.357128064
            ]
           },
           {
            "iteration": 377,
            "learn": [
             0.9047766573
            ],
            "parameters": [
             {
              "depth": 10,
              "iterations": 300,
              "l2_leaf_reg": 10,
              "learning_rate": 0.03,
              "task_type": "GPU"
             }
            ],
            "passed_time": 5048.551745,
            "remaining_time": 1362.307614,
            "test": [
             1.326834441
            ]
           },
           {
            "iteration": 378,
            "learn": [
             0.8853047928
            ],
            "parameters": [
             {
              "depth": 10,
              "iterations": 300,
              "l2_leaf_reg": 10,
              "learning_rate": 0.1,
              "task_type": "GPU"
             }
            ],
            "passed_time": 5073.905459,
            "remaining_time": 1352.148948,
            "test": [
             1.306732506
            ]
           },
           {
            "iteration": 379,
            "learn": [
             0.8659525563
            ],
            "parameters": [
             {
              "depth": 10,
              "iterations": 300,
              "l2_leaf_reg": 10,
              "learning_rate": 0.3,
              "task_type": "GPU"
             }
            ],
            "passed_time": 5097.263967,
            "remaining_time": 1341.385255,
            "test": [
             1.294698276
            ]
           },
           {
            "iteration": 380,
            "learn": [
             0.8977894069
            ],
            "parameters": [
             {
              "depth": 10,
              "iterations": 1000,
              "l2_leaf_reg": 0,
              "learning_rate": 0.01,
              "task_type": "GPU"
             }
            ],
            "passed_time": 5180.915518,
            "remaining_time": 1346.222142,
            "test": [
             1.314553008
            ]
           },
           {
            "iteration": 381,
            "learn": [
             0.8789090326
            ],
            "parameters": [
             {
              "depth": 10,
              "iterations": 1000,
              "l2_leaf_reg": 0,
              "learning_rate": 0.03,
              "task_type": "GPU"
             }
            ],
            "passed_time": 5261.09081,
            "remaining_time": 1349.703925,
            "test": [
             1.30083006
            ]
           },
           {
            "iteration": 382,
            "learn": [
             0.8454843209
            ],
            "parameters": [
             {
              "depth": 10,
              "iterations": 1000,
              "l2_leaf_reg": 0,
              "learning_rate": 0.1,
              "task_type": "GPU"
             }
            ],
            "passed_time": 5343.493484,
            "remaining_time": 1353.312971,
            "test": [
             1.289992887
            ]
           },
           {
            "iteration": 383,
            "learn": [
             0.834627878
            ],
            "parameters": [
             {
              "depth": 10,
              "iterations": 1000,
              "l2_leaf_reg": 0,
              "learning_rate": 0.3,
              "task_type": "GPU"
             }
            ],
            "passed_time": 5413.88892,
            "remaining_time": 1353.47223,
            "test": [
             1.287540846
            ]
           },
           {
            "iteration": 384,
            "learn": [
             0.8962346758
            ],
            "parameters": [
             {
              "depth": 10,
              "iterations": 1000,
              "l2_leaf_reg": 0.3,
              "learning_rate": 0.01,
              "task_type": "GPU"
             }
            ],
            "passed_time": 5498.738777,
            "remaining_time": 1356.831646,
            "test": [
             1.315408439
            ]
           },
           {
            "iteration": 385,
            "learn": [
             0.8788768439
            ],
            "parameters": [
             {
              "depth": 10,
              "iterations": 1000,
              "l2_leaf_reg": 0.3,
              "learning_rate": 0.03,
              "task_type": "GPU"
             }
            ],
            "passed_time": 5571.829106,
            "remaining_time": 1356.8703,
            "test": [
             1.304900934
            ]
           },
           {
            "iteration": 386,
            "learn": [
             0.8526406338
            ],
            "parameters": [
             {
              "depth": 10,
              "iterations": 1000,
              "l2_leaf_reg": 0.3,
              "learning_rate": 0.1,
              "task_type": "GPU"
             }
            ],
            "passed_time": 5651.554811,
            "remaining_time": 1358.125575,
            "test": [
             1.294745205
            ]
           },
           {
            "iteration": 387,
            "learn": [
             0.8347273685
            ],
            "parameters": [
             {
              "depth": 10,
              "iterations": 1000,
              "l2_leaf_reg": 0.3,
              "learning_rate": 0.3,
              "task_type": "GPU"
             }
            ],
            "passed_time": 5725.363482,
            "remaining_time": 1357.560413,
            "test": [
             1.28364867
            ]
           },
           {
            "iteration": 388,
            "learn": [
             0.8964216027
            ],
            "parameters": [
             {
              "depth": 10,
              "iterations": 1000,
              "l2_leaf_reg": 1,
              "learning_rate": 0.01,
              "task_type": "GPU"
             }
            ],
            "passed_time": 5811.463224,
            "remaining_time": 1359.493968,
            "test": [
             1.3143697
            ]
           },
           {
            "iteration": 389,
            "learn": [
             0.8779548215
            ],
            "parameters": [
             {
              "depth": 10,
              "iterations": 1000,
              "l2_leaf_reg": 1,
              "learning_rate": 0.03,
              "task_type": "GPU"
             }
            ],
            "passed_time": 5890.070572,
            "remaining_time": 1359.247055,
            "test": [
             1.298880603
            ]
           },
           {
            "iteration": 390,
            "learn": [
             0.8547641245
            ],
            "parameters": [
             {
              "depth": 10,
              "iterations": 1000,
              "l2_leaf_reg": 1,
              "learning_rate": 0.1,
              "task_type": "GPU"
             }
            ],
            "passed_time": 5967.228445,
            "remaining_time": 1358.26939,
            "test": [
             1.293259553
            ]
           },
           {
            "iteration": 391,
            "learn": [
             0.8282218757
            ],
            "parameters": [
             {
              "depth": 10,
              "iterations": 1000,
              "l2_leaf_reg": 1,
              "learning_rate": 0.3,
              "task_type": "GPU"
             }
            ],
            "passed_time": 6041.795642,
            "remaining_time": 1356.321471,
            "test": [
             1.277164462
            ]
           },
           {
            "iteration": 392,
            "learn": [
             0.8962198983
            ],
            "parameters": [
             {
              "depth": 10,
              "iterations": 1000,
              "l2_leaf_reg": 3,
              "learning_rate": 0.01,
              "task_type": "GPU"
             }
            ],
            "passed_time": 6128.314277,
            "remaining_time": 1356.649726,
            "test": [
             1.316593505
            ]
           },
           {
            "iteration": 393,
            "learn": [
             0.8820975324
            ],
            "parameters": [
             {
              "depth": 10,
              "iterations": 1000,
              "l2_leaf_reg": 3,
              "learning_rate": 0.03,
              "task_type": "GPU"
             }
            ],
            "passed_time": 6206.352336,
            "remaining_time": 1354.686043,
            "test": [
             1.302944496
            ]
           },
           {
            "iteration": 394,
            "learn": [
             0.8616851549
            ],
            "parameters": [
             {
              "depth": 10,
              "iterations": 1000,
              "l2_leaf_reg": 3,
              "learning_rate": 0.1,
              "task_type": "GPU"
             }
            ],
            "passed_time": 6280.073359,
            "remaining_time": 1351.408191,
            "test": [
             1.298220985
            ]
           },
           {
            "iteration": 395,
            "learn": [
             0.844960809
            ],
            "parameters": [
             {
              "depth": 10,
              "iterations": 1000,
              "l2_leaf_reg": 3,
              "learning_rate": 0.3,
              "task_type": "GPU"
             }
            ],
            "passed_time": 6351.876149,
            "remaining_time": 1347.367668,
            "test": [
             1.291000168
            ]
           },
           {
            "iteration": 396,
            "learn": [
             0.8967697937
            ],
            "parameters": [
             {
              "depth": 10,
              "iterations": 1000,
              "l2_leaf_reg": 10,
              "learning_rate": 0.01,
              "task_type": "GPU"
             }
            ],
            "passed_time": 6439.775774,
            "remaining_time": 1346.351106,
            "test": [
             1.318816412
            ]
           },
           {
            "iteration": 397,
            "learn": [
             0.8912429695
            ],
            "parameters": [
             {
              "depth": 10,
              "iterations": 1000,
              "l2_leaf_reg": 10,
              "learning_rate": 0.03,
              "task_type": "GPU"
             }
            ],
            "passed_time": 6510.176278,
            "remaining_time": 1341.2926,
            "test": [
             1.314281733
            ]
           },
           {
            "iteration": 398,
            "learn": [
             0.8668724283
            ],
            "parameters": [
             {
              "depth": 10,
              "iterations": 1000,
              "l2_leaf_reg": 10,
              "learning_rate": 0.1,
              "task_type": "GPU"
             }
            ],
            "passed_time": 6585.682574,
            "remaining_time": 1336.943079,
            "test": [
             1.29951078
            ]
           },
           {
            "iteration": 399,
            "learn": [
             0.8403039429
            ],
            "parameters": [
             {
              "depth": 10,
              "iterations": 1000,
              "l2_leaf_reg": 10,
              "learning_rate": 0.3,
              "task_type": "GPU"
             }
            ],
            "passed_time": 6659.16158,
            "remaining_time": 1331.832316,
            "test": [
             1.293666049
            ]
           },
           {
            "iteration": 400,
            "learn": [
             1.124113237
            ],
            "parameters": [
             {
              "depth": 12,
              "iterations": 30,
              "l2_leaf_reg": 0,
              "learning_rate": 0.01,
              "task_type": "GPU"
             }
            ],
            "passed_time": 6666.78837,
            "remaining_time": 1313.407185,
            "test": [
             1.453785338
            ]
           },
           {
            "iteration": 401,
            "learn": [
             1.040074514
            ],
            "parameters": [
             {
              "depth": 12,
              "iterations": 30,
              "l2_leaf_reg": 0,
              "learning_rate": 0.03,
              "task_type": "GPU"
             }
            ],
            "passed_time": 6675.606664,
            "remaining_time": 1295.266965,
            "test": [
             1.403807694
            ]
           },
           {
            "iteration": 402,
            "learn": [
             0.943098687
            ],
            "parameters": [
             {
              "depth": 12,
              "iterations": 30,
              "l2_leaf_reg": 0,
              "learning_rate": 0.1,
              "task_type": "GPU"
             }
            ],
            "passed_time": 6683.545163,
            "remaining_time": 1277.004907,
            "test": [
             1.350939376
            ]
           },
           {
            "iteration": 403,
            "learn": [
             0.8757180811
            ],
            "parameters": [
             {
              "depth": 12,
              "iterations": 30,
              "l2_leaf_reg": 0,
              "learning_rate": 0.3,
              "task_type": "GPU"
             }
            ],
            "passed_time": 6690.853501,
            "remaining_time": 1258.675411,
            "test": [
             1.3107481
            ]
           },
           {
            "iteration": 404,
            "learn": [
             1.116383242
            ],
            "parameters": [
             {
              "depth": 12,
              "iterations": 30,
              "l2_leaf_reg": 0.3,
              "learning_rate": 0.01,
              "task_type": "GPU"
             }
            ],
            "passed_time": 6700.588106,
            "remaining_time": 1240.849649,
            "test": [
             1.450366818
            ]
           },
           {
            "iteration": 405,
            "learn": [
             1.035608192
            ],
            "parameters": [
             {
              "depth": 12,
              "iterations": 30,
              "l2_leaf_reg": 0.3,
              "learning_rate": 0.03,
              "task_type": "GPU"
             }
            ],
            "passed_time": 6710.357884,
            "remaining_time": 1223.070156,
            "test": [
             1.405072997
            ]
           },
           {
            "iteration": 406,
            "learn": [
             0.9361719466
            ],
            "parameters": [
             {
              "depth": 12,
              "iterations": 30,
              "l2_leaf_reg": 0.3,
              "learning_rate": 0.1,
              "task_type": "GPU"
             }
            ],
            "passed_time": 6717.006589,
            "remaining_time": 1204.770224,
            "test": [
             1.346565456
            ]
           },
           {
            "iteration": 407,
            "learn": [
             0.8845641069
            ],
            "parameters": [
             {
              "depth": 12,
              "iterations": 30,
              "l2_leaf_reg": 0.3,
              "learning_rate": 0.3,
              "task_type": "GPU"
             }
            ],
            "passed_time": 6723.615897,
            "remaining_time": 1186.520452,
            "test": [
             1.302398659
            ]
           },
           {
            "iteration": 408,
            "learn": [
             1.117224446
            ],
            "parameters": [
             {
              "depth": 12,
              "iterations": 30,
              "l2_leaf_reg": 1,
              "learning_rate": 0.01,
              "task_type": "GPU"
             }
            ],
            "passed_time": 6733.038669,
            "remaining_time": 1168.816004,
            "test": [
             1.450111691
            ]
           },
           {
            "iteration": 409,
            "learn": [
             1.052665759
            ],
            "parameters": [
             {
              "depth": 12,
              "iterations": 30,
              "l2_leaf_reg": 1,
              "learning_rate": 0.03,
              "task_type": "GPU"
             }
            ],
            "passed_time": 6740.466491,
            "remaining_time": 1150.811352,
            "test": [
             1.409923957
            ]
           },
           {
            "iteration": 410,
            "learn": [
             0.9589974372
            ],
            "parameters": [
             {
              "depth": 12,
              "iterations": 30,
              "l2_leaf_reg": 1,
              "learning_rate": 0.1,
              "task_type": "GPU"
             }
            ],
            "passed_time": 6747.908044,
            "remaining_time": 1132.860474,
            "test": [
             1.358045121
            ]
           },
           {
            "iteration": 411,
            "learn": [
             0.8959319662
            ],
            "parameters": [
             {
              "depth": 12,
              "iterations": 30,
              "l2_leaf_reg": 1,
              "learning_rate": 0.3,
              "task_type": "GPU"
             }
            ],
            "passed_time": 6754.421095,
            "remaining_time": 1114.807365,
            "test": [
             1.320054818
            ]
           },
           {
            "iteration": 412,
            "learn": [
             1.121819578
            ],
            "parameters": [
             {
              "depth": 12,
              "iterations": 30,
              "l2_leaf_reg": 3,
              "learning_rate": 0.01,
              "task_type": "GPU"
             }
            ],
            "passed_time": 6761.810904,
            "remaining_time": 1096.952374,
            "test": [
             1.451174195
            ]
           },
           {
            "iteration": 413,
            "learn": [
             1.039121489
            ],
            "parameters": [
             {
              "depth": 12,
              "iterations": 30,
              "l2_leaf_reg": 3,
              "learning_rate": 0.03,
              "task_type": "GPU"
             }
            ],
            "passed_time": 6769.948277,
            "remaining_time": 1079.267117,
            "test": [
             1.400445126
            ]
           },
           {
            "iteration": 414,
            "learn": [
             0.9415142332
            ],
            "parameters": [
             {
              "depth": 12,
              "iterations": 30,
              "l2_leaf_reg": 3,
              "learning_rate": 0.1,
              "task_type": "GPU"
             }
            ],
            "passed_time": 6776.843451,
            "remaining_time": 1061.433312,
            "test": [
             1.351464758
            ]
           },
           {
            "iteration": 415,
            "learn": [
             0.8821600151
            ],
            "parameters": [
             {
              "depth": 12,
              "iterations": 30,
              "l2_leaf_reg": 3,
              "learning_rate": 0.3,
              "task_type": "GPU"
             }
            ],
            "passed_time": 6784.586127,
            "remaining_time": 1043.782481,
            "test": [
             1.300545237
            ]
           },
           {
            "iteration": 416,
            "learn": [
             1.118729331
            ],
            "parameters": [
             {
              "depth": 12,
              "iterations": 30,
              "l2_leaf_reg": 10,
              "learning_rate": 0.01,
              "task_type": "GPU"
             }
            ],
            "passed_time": 6793.614147,
            "remaining_time": 1026.37336,
            "test": [
             1.449114385
            ]
           },
           {
            "iteration": 417,
            "learn": [
             1.049959199
            ],
            "parameters": [
             {
              "depth": 12,
              "iterations": 30,
              "l2_leaf_reg": 10,
              "learning_rate": 0.03,
              "task_type": "GPU"
             }
            ],
            "passed_time": 6800.959897,
            "remaining_time": 1008.754817,
            "test": [
             1.405392434
            ]
           },
           {
            "iteration": 418,
            "learn": [
             0.9494796681
            ],
            "parameters": [
             {
              "depth": 12,
              "iterations": 30,
              "l2_leaf_reg": 10,
              "learning_rate": 0.1,
              "task_type": "GPU"
             }
            ],
            "passed_time": 6807.476584,
            "remaining_time": 991.0646102,
            "test": [
             1.353372557
            ]
           },
           {
            "iteration": 419,
            "learn": [
             0.8913665607
            ],
            "parameters": [
             {
              "depth": 12,
              "iterations": 30,
              "l2_leaf_reg": 10,
              "learning_rate": 0.3,
              "task_type": "GPU"
             }
            ],
            "passed_time": 6815.193095,
            "remaining_time": 973.5990136,
            "test": [
             1.320383428
            ]
           },
           {
            "iteration": 420,
            "learn": [
             1.033739777
            ],
            "parameters": [
             {
              "depth": 12,
              "iterations": 100,
              "l2_leaf_reg": 0,
              "learning_rate": 0.01,
              "task_type": "GPU"
             }
            ],
            "passed_time": 6840.68803,
            "remaining_time": 958.6712442,
            "test": [
             1.400983119
            ]
           },
           {
            "iteration": 421,
            "learn": [
             0.9453938541
            ],
            "parameters": [
             {
              "depth": 12,
              "iterations": 100,
              "l2_leaf_reg": 0,
              "learning_rate": 0.03,
              "task_type": "GPU"
             }
            ],
            "passed_time": 6865.849099,
            "remaining_time": 943.6475066,
            "test": [
             1.350311496
            ]
           },
           {
            "iteration": 422,
            "learn": [
             0.8928742998
            ],
            "parameters": [
             {
              "depth": 12,
              "iterations": 100,
              "l2_leaf_reg": 0,
              "learning_rate": 0.1,
              "task_type": "GPU"
             }
            ],
            "passed_time": 6888.434933,
            "remaining_time": 928.2288208,
            "test": [
             1.317943532
            ]
           },
           {
            "iteration": 423,
            "learn": [
             0.8614820187
            ],
            "parameters": [
             {
              "depth": 12,
              "iterations": 100,
              "l2_leaf_reg": 0,
              "learning_rate": 0.3,
              "task_type": "GPU"
             }
            ],
            "passed_time": 6908.669068,
            "remaining_time": 912.465726,
            "test": [
             1.300069041
            ]
           },
           {
            "iteration": 424,
            "learn": [
             1.036204972
            ],
            "parameters": [
             {
              "depth": 12,
              "iterations": 100,
              "l2_leaf_reg": 0.3,
              "learning_rate": 0.01,
              "task_type": "GPU"
             }
            ],
            "passed_time": 6932.301976,
            "remaining_time": 897.1214322,
            "test": [
             1.403198928
            ]
           },
           {
            "iteration": 425,
            "learn": [
             0.955712006
            ],
            "parameters": [
             {
              "depth": 12,
              "iterations": 100,
              "l2_leaf_reg": 0.3,
              "learning_rate": 0.03,
              "task_type": "GPU"
             }
            ],
            "passed_time": 6954.412165,
            "remaining_time": 881.545204,
            "test": [
             1.360735916
            ]
           },
           {
            "iteration": 426,
            "learn": [
             0.8919721059
            ],
            "parameters": [
             {
              "depth": 12,
              "iterations": 100,
              "l2_leaf_reg": 0.3,
              "learning_rate": 0.1,
              "task_type": "GPU"
             }
            ],
            "passed_time": 6973.800574,
            "remaining_time": 865.6005396,
            "test": [
             1.3167229
            ]
           },
           {
            "iteration": 427,
            "learn": [
             0.8788620421
            ],
            "parameters": [
             {
              "depth": 12,
              "iterations": 100,
              "l2_leaf_reg": 0.3,
              "learning_rate": 0.3,
              "task_type": "GPU"
             }
            ],
            "passed_time": 6989.622625,
            "remaining_time": 849.2064871,
            "test": [
             1.306390584
            ]
           },
           {
            "iteration": 428,
            "learn": [
             1.034282375
            ],
            "parameters": [
             {
              "depth": 12,
              "iterations": 100,
              "l2_leaf_reg": 1,
              "learning_rate": 0.01,
              "task_type": "GPU"
             }
            ],
            "passed_time": 7014.938118,
            "remaining_time": 833.9436923,
            "test": [
             1.401059638
            ]
           },
           {
            "iteration": 429,
            "learn": [
             0.9538504747
            ],
            "parameters": [
             {
              "depth": 12,
              "iterations": 100,
              "l2_leaf_reg": 1,
              "learning_rate": 0.03,
              "task_type": "GPU"
             }
            ],
            "passed_time": 7036.559686,
            "remaining_time": 818.2046146,
            "test": [
             1.357275343
            ]
           },
           {
            "iteration": 430,
            "learn": [
             0.8900059969
            ],
            "parameters": [
             {
              "depth": 12,
              "iterations": 100,
              "l2_leaf_reg": 1,
              "learning_rate": 0.1,
              "task_type": "GPU"
             }
            ],
            "passed_time": 7058.055489,
            "remaining_time": 802.4239419,
            "test": [
             1.309931425
            ]
           },
           {
            "iteration": 431,
            "learn": [
             0.8610189923
            ],
            "parameters": [
             {
              "depth": 12,
              "iterations": 100,
              "l2_leaf_reg": 1,
              "learning_rate": 0.3,
              "task_type": "GPU"
             }
            ],
            "passed_time": 7076.269884,
            "remaining_time": 786.2522093,
            "test": [
             1.289999286
            ]
           },
           {
            "iteration": 432,
            "learn": [
             1.036784326
            ],
            "parameters": [
             {
              "depth": 12,
              "iterations": 100,
              "l2_leaf_reg": 3,
              "learning_rate": 0.01,
              "task_type": "GPU"
             }
            ],
            "passed_time": 7099.48178,
            "remaining_time": 770.6134957,
            "test": [
             1.402048051
            ]
           },
           {
            "iteration": 433,
            "learn": [
             0.9357762232
            ],
            "parameters": [
             {
              "depth": 12,
              "iterations": 100,
              "l2_leaf_reg": 3,
              "learning_rate": 0.03,
              "task_type": "GPU"
             }
            ],
            "passed_time": 7122.256089,
            "remaining_time": 754.8935025,
            "test": [
             1.345304387
            ]
           },
           {
            "iteration": 434,
            "learn": [
             0.8838509666
            ],
            "parameters": [
             {
              "depth": 12,
              "iterations": 100,
              "l2_leaf_reg": 3,
              "learning_rate": 0.1,
              "task_type": "GPU"
             }
            ],
            "passed_time": 7143.012892,
            "remaining_time": 738.9323681,
            "test": [
             1.308036194
            ]
           },
           {
            "iteration": 435,
            "learn": [
             0.874286289
            ],
            "parameters": [
             {
              "depth": 12,
              "iterations": 100,
              "l2_leaf_reg": 3,
              "learning_rate": 0.3,
              "task_type": "GPU"
             }
            ],
            "passed_time": 7158.735111,
            "remaining_time": 722.4411579,
            "test": [
             1.294363185
            ]
           },
           {
            "iteration": 436,
            "learn": [
             1.042300197
            ],
            "parameters": [
             {
              "depth": 12,
              "iterations": 100,
              "l2_leaf_reg": 10,
              "learning_rate": 0.01,
              "task_type": "GPU"
             }
            ],
            "passed_time": 7182.170954,
            "remaining_time": 706.7124737,
            "test": [
             1.403761173
            ]
           },
           {
            "iteration": 437,
            "learn": [
             0.9539379418
            ],
            "parameters": [
             {
              "depth": 12,
              "iterations": 100,
              "l2_leaf_reg": 10,
              "learning_rate": 0.03,
              "task_type": "GPU"
             }
            ],
            "passed_time": 7204.634017,
            "remaining_time": 690.8553167,
            "test": [
             1.357072705
            ]
           },
           {
            "iteration": 438,
            "learn": [
             0.8966422569
            ],
            "parameters": [
             {
              "depth": 12,
              "iterations": 100,
              "l2_leaf_reg": 10,
              "learning_rate": 0.1,
              "task_type": "GPU"
             }
            ],
            "passed_time": 7227.208881,
            "remaining_time": 674.978506,
            "test": [
             1.320965458
            ]
           },
           {
            "iteration": 439,
            "learn": [
             0.8761161842
            ],
            "parameters": [
             {
              "depth": 12,
              "iterations": 100,
              "l2_leaf_reg": 10,
              "learning_rate": 0.3,
              "task_type": "GPU"
             }
            ],
            "passed_time": 7245.304563,
            "remaining_time": 658.6640512,
            "test": [
             1.312071372
            ]
           },
           {
            "iteration": 440,
            "learn": [
             0.9447409284
            ],
            "parameters": [
             {
              "depth": 12,
              "iterations": 300,
              "l2_leaf_reg": 0,
              "learning_rate": 0.01,
              "task_type": "GPU"
             }
            ],
            "passed_time": 7313.838562,
            "remaining_time": 646.8020497,
            "test": [
             1.348830999
            ]
           },
           {
            "iteration": 441,
            "learn": [
             0.8852710368
            ],
            "parameters": [
             {
              "depth": 12,
              "iterations": 300,
              "l2_leaf_reg": 0,
              "learning_rate": 0.03,
              "task_type": "GPU"
             }
            ],
            "passed_time": 7378.806316,
            "remaining_time": 634.3770136,
            "test": [
             1.30559111
            ]
           },
           {
            "iteration": 442,
            "learn": [
             0.8666232156
            ],
            "parameters": [
             {
              "depth": 12,
              "iterations": 300,
              "l2_leaf_reg": 0,
              "learning_rate": 0.1,
              "task_type": "GPU"
             }
            ],
            "passed_time": 7430.560338,
            "remaining_time": 620.6111343,
            "test": [
             1.305536488
            ]
           },
           {
            "iteration": 443,
            "learn": [
             0.8386522729
            ],
            "parameters": [
             {
              "depth": 12,
              "iterations": 300,
              "l2_leaf_reg": 0,
              "learning_rate": 0.3,
              "task_type": "GPU"
             }
            ],
            "passed_time": 7489.221894,
            "remaining_time": 607.2342076,
            "test": [
             1.298231368
            ]
           },
           {
            "iteration": 444,
            "learn": [
             0.9512787976
            ],
            "parameters": [
             {
              "depth": 12,
              "iterations": 300,
              "l2_leaf_reg": 0.3,
              "learning_rate": 0.01,
              "task_type": "GPU"
             }
            ],
            "passed_time": 7553.099128,
            "remaining_time": 594.0639764,
            "test": [
             1.353441423
            ]
           },
           {
            "iteration": 445,
            "learn": [
             0.8894709801
            ],
            "parameters": [
             {
              "depth": 12,
              "iterations": 300,
              "l2_leaf_reg": 0.3,
              "learning_rate": 0.03,
              "task_type": "GPU"
             }
            ],
            "passed_time": 7615.040492,
            "remaining_time": 580.5187819,
            "test": [
             1.311152841
            ]
           },
           {
            "iteration": 446,
            "learn": [
             0.8639171053
            ],
            "parameters": [
             {
              "depth": 12,
              "iterations": 300,
              "l2_leaf_reg": 0.3,
              "learning_rate": 0.1,
              "task_type": "GPU"
             }
            ],
            "passed_time": 7673.605518,
            "remaining_time": 566.5077899,
            "test": [
             1.301895292
            ]
           },
           {
            "iteration": 447,
            "learn": [
             0.8530593365
            ],
            "parameters": [
             {
              "depth": 12,
              "iterations": 300,
              "l2_leaf_reg": 0.3,
              "learning_rate": 0.3,
              "task_type": "GPU"
             }
            ],
            "passed_time": 7723.24781,
            "remaining_time": 551.6605579,
            "test": [
             1.298869904
            ]
           },
           {
            "iteration": 448,
            "learn": [
             0.9455545426
            ],
            "parameters": [
             {
              "depth": 12,
              "iterations": 300,
              "l2_leaf_reg": 1,
              "learning_rate": 0.01,
              "task_type": "GPU"
             }
            ],
            "passed_time": 7791.574408,
            "remaining_time": 537.9483445,
            "test": [
             1.352162039
            ]
           },
           {
            "iteration": 449,
            "learn": [
             0.8849501427
            ],
            "parameters": [
             {
              "depth": 12,
              "iterations": 300,
              "l2_leaf_reg": 1,
              "learning_rate": 0.03,
              "task_type": "GPU"
             }
            ],
            "passed_time": 7856.788688,
            "remaining_time": 523.7859125,
            "test": [
             1.311543554
            ]
           },
           {
            "iteration": 450,
            "learn": [
             0.8691503575
            ],
            "parameters": [
             {
              "depth": 12,
              "iterations": 300,
              "l2_leaf_reg": 1,
              "learning_rate": 0.1,
              "task_type": "GPU"
             }
            ],
            "passed_time": 7907.321474,
            "remaining_time": 508.4530438,
            "test": [
             1.297336906
            ]
           },
           {
            "iteration": 451,
            "learn": [
             0.8515322999
            ],
            "parameters": [
             {
              "depth": 12,
              "iterations": 300,
              "l2_leaf_reg": 1,
              "learning_rate": 0.3,
              "task_type": "GPU"
             }
            ],
            "passed_time": 7961.347964,
            "remaining_time": 493.1808473,
            "test": [
             1.294905712
            ]
           },
           {
            "iteration": 452,
            "learn": [
             0.9559650735
            ],
            "parameters": [
             {
              "depth": 12,
              "iterations": 300,
              "l2_leaf_reg": 3,
              "learning_rate": 0.01,
              "task_type": "GPU"
             }
            ],
            "passed_time": 8027.345326,
            "remaining_time": 478.4510459,
            "test": [
             1.358897202
            ]
           },
           {
            "iteration": 453,
            "learn": [
             0.8947958055
            ],
            "parameters": [
             {
              "depth": 12,
              "iterations": 300,
              "l2_leaf_reg": 3,
              "learning_rate": 0.03,
              "task_type": "GPU"
             }
            ],
            "passed_time": 8090.789373,
            "remaining_time": 463.3491712,
            "test": [
             1.320101835
            ]
           },
           {
            "iteration": 454,
            "learn": [
             0.8712959719
            ],
            "parameters": [
             {
              "depth": 12,
              "iterations": 300,
              "l2_leaf_reg": 3,
              "learning_rate": 0.1,
              "task_type": "GPU"
             }
            ],
            "passed_time": 8136.557696,
            "remaining_time": 447.0636097,
            "test": [
             1.31096296
            ]
           },
           {
            "iteration": 455,
            "learn": [
             0.8602990267
            ],
            "parameters": [
             {
              "depth": 12,
              "iterations": 300,
              "l2_leaf_reg": 3,
              "learning_rate": 0.3,
              "task_type": "GPU"
             }
            ],
            "passed_time": 8188.24468,
            "remaining_time": 430.9602463,
            "test": [
             1.297178754
            ]
           },
           {
            "iteration": 456,
            "learn": [
             0.9493161769
            ],
            "parameters": [
             {
              "depth": 12,
              "iterations": 300,
              "l2_leaf_reg": 10,
              "learning_rate": 0.01,
              "task_type": "GPU"
             }
            ],
            "passed_time": 8256.824539,
            "remaining_time": 415.5513444,
            "test": [
             1.352839188
            ]
           },
           {
            "iteration": 457,
            "learn": [
             0.8960021139
            ],
            "parameters": [
             {
              "depth": 12,
              "iterations": 300,
              "l2_leaf_reg": 10,
              "learning_rate": 0.03,
              "task_type": "GPU"
             }
            ],
            "passed_time": 8320.640484,
            "remaining_time": 399.6814206,
            "test": [
             1.32194993
            ]
           },
           {
            "iteration": 458,
            "learn": [
             0.8806370172
            ],
            "parameters": [
             {
              "depth": 12,
              "iterations": 300,
              "l2_leaf_reg": 10,
              "learning_rate": 0.1,
              "task_type": "GPU"
             }
            ],
            "passed_time": 8372.257931,
            "remaining_time": 383.0444805,
            "test": [
             1.311614537
            ]
           },
           {
            "iteration": 459,
            "learn": [
             0.8617839163
            ],
            "parameters": [
             {
              "depth": 12,
              "iterations": 300,
              "l2_leaf_reg": 10,
              "learning_rate": 0.3,
              "task_type": "GPU"
             }
            ],
            "passed_time": 8420.289809,
            "remaining_time": 366.0995569,
            "test": [
             1.298119207
            ]
           },
           {
            "iteration": 460,
            "learn": [
             0.8877211429
            ],
            "parameters": [
             {
              "depth": 12,
              "iterations": 1000,
              "l2_leaf_reg": 0,
              "learning_rate": 0.01,
              "task_type": "GPU"
             }
            ],
            "passed_time": 8627.235039,
            "remaining_time": 355.56934,
            "test": [
             1.309386186
            ]
           },
           {
            "iteration": 461,
            "learn": [
             0.8647502453
            ],
            "parameters": [
             {
              "depth": 12,
              "iterations": 1000,
              "l2_leaf_reg": 0,
              "learning_rate": 0.03,
              "task_type": "GPU"
             }
            ],
            "passed_time": 8802.056646,
            "remaining_time": 342.9372719,
            "test": [
             1.289831242
            ]
           },
           {
            "iteration": 462,
            "learn": [
             0.8389605799
            ],
            "parameters": [
             {
              "depth": 12,
              "iterations": 1000,
              "l2_leaf_reg": 0,
              "learning_rate": 0.1,
              "task_type": "GPU"
             }
            ],
            "passed_time": 8979.294666,
            "remaining_time": 329.6933247,
            "test": [
             1.288270415
            ]
           },
           {
            "iteration": 463,
            "learn": [
             0.8251409212
            ],
            "parameters": [
             {
              "depth": 12,
              "iterations": 1000,
              "l2_leaf_reg": 0,
              "learning_rate": 0.3,
              "task_type": "GPU"
             }
            ],
            "passed_time": 9147.45908,
            "remaining_time": 315.4296234,
            "test": [
             1.285362458
            ]
           },
           {
            "iteration": 464,
            "learn": [
             0.8890907562
            ],
            "parameters": [
             {
              "depth": 12,
              "iterations": 1000,
              "l2_leaf_reg": 0.3,
              "learning_rate": 0.01,
              "task_type": "GPU"
             }
            ],
            "passed_time": 9351.581872,
            "remaining_time": 301.6639314,
            "test": [
             1.311157662
            ]
           },
           {
            "iteration": 465,
            "learn": [
             0.8619944363
            ],
            "parameters": [
             {
              "depth": 12,
              "iterations": 1000,
              "l2_leaf_reg": 0.3,
              "learning_rate": 0.03,
              "task_type": "GPU"
             }
            ],
            "passed_time": 9539.269839,
            "remaining_time": 286.5875059,
            "test": [
             1.294880294
            ]
           },
           {
            "iteration": 466,
            "learn": [
             0.8431867274
            ],
            "parameters": [
             {
              "depth": 12,
              "iterations": 1000,
              "l2_leaf_reg": 0.3,
              "learning_rate": 0.1,
              "task_type": "GPU"
             }
            ],
            "passed_time": 9723.112109,
            "remaining_time": 270.664791,
            "test": [
             1.277249013
            ]
           },
           {
            "iteration": 467,
            "learn": [
             0.8247078861
            ],
            "parameters": [
             {
              "depth": 12,
              "iterations": 1000,
              "l2_leaf_reg": 0.3,
              "learning_rate": 0.3,
              "task_type": "GPU"
             }
            ],
            "passed_time": 9881.938968,
            "remaining_time": 253.3830505,
            "test": [
             1.276351022
            ]
           },
           {
            "iteration": 468,
            "learn": [
             0.8884528167
            ],
            "parameters": [
             {
              "depth": 12,
              "iterations": 1000,
              "l2_leaf_reg": 1,
              "learning_rate": 0.01,
              "task_type": "GPU"
             }
            ],
            "passed_time": 10090.9439,
            "remaining_time": 236.6745905,
            "test": [
             1.313309096
            ]
           },
           {
            "iteration": 469,
            "learn": [
             0.8544372762
            ],
            "parameters": [
             {
              "depth": 12,
              "iterations": 1000,
              "l2_leaf_reg": 1,
              "learning_rate": 0.03,
              "task_type": "GPU"
             }
            ],
            "passed_time": 10289.16899,
            "remaining_time": 218.9184892,
            "test": [
             1.291465266
            ]
           },
           {
            "iteration": 470,
            "learn": [
             0.8507043625
            ],
            "parameters": [
             {
              "depth": 12,
              "iterations": 1000,
              "l2_leaf_reg": 1,
              "learning_rate": 0.1,
              "task_type": "GPU"
             }
            ],
            "passed_time": 10449.32012,
            "remaining_time": 199.6685373,
            "test": [
             1.28944262
            ]
           },
           {
            "iteration": 471,
            "learn": [
             0.822108349
            ],
            "parameters": [
             {
              "depth": 12,
              "iterations": 1000,
              "l2_leaf_reg": 1,
              "learning_rate": 0.3,
              "task_type": "GPU"
             }
            ],
            "passed_time": 10611.09188,
            "remaining_time": 179.849015,
            "test": [
             1.274283968
            ]
           },
           {
            "iteration": 472,
            "learn": [
             0.8903528828
            ],
            "parameters": [
             {
              "depth": 12,
              "iterations": 1000,
              "l2_leaf_reg": 3,
              "learning_rate": 0.01,
              "task_type": "GPU"
             }
            ],
            "passed_time": 10817.5659,
            "remaining_time": 160.0908273,
            "test": [
             1.31461437
            ]
           },
           {
            "iteration": 473,
            "learn": [
             0.8687841818
            ],
            "parameters": [
             {
              "depth": 12,
              "iterations": 1000,
              "l2_leaf_reg": 3,
              "learning_rate": 0.03,
              "task_type": "GPU"
             }
            ],
            "passed_time": 10971.20559,
            "remaining_time": 138.8760201,
            "test": [
             1.298525107
            ]
           },
           {
            "iteration": 474,
            "learn": [
             0.8458883152
            ],
            "parameters": [
             {
              "depth": 12,
              "iterations": 1000,
              "l2_leaf_reg": 3,
              "learning_rate": 0.1,
              "task_type": "GPU"
             }
            ],
            "passed_time": 11148.43684,
            "remaining_time": 117.3519667,
            "test": [
             1.295438091
            ]
           },
           {
            "iteration": 475,
            "learn": [
             0.837067125
            ],
            "parameters": [
             {
              "depth": 12,
              "iterations": 1000,
              "l2_leaf_reg": 3,
              "learning_rate": 0.3,
              "task_type": "GPU"
             }
            ],
            "passed_time": 11309.37216,
            "remaining_time": 95.03674084,
            "test": [
             1.300185535
            ]
           },
           {
            "iteration": 476,
            "learn": [
             0.8957262729
            ],
            "parameters": [
             {
              "depth": 12,
              "iterations": 1000,
              "l2_leaf_reg": 10,
              "learning_rate": 0.01,
              "task_type": "GPU"
             }
            ],
            "passed_time": 11519.42415,
            "remaining_time": 72.44920848,
            "test": [
             1.32364898
            ]
           }
          ],
          "meta": {
           "iteration_count": 480,
           "launch_mode": "Train",
           "learn_metrics": [
            {
             "best_value": "Min",
             "name": "RMSE"
            }
           ],
           "learn_sets": [
            "learn"
           ],
           "name": "experiment",
           "parameters": "parameters",
           "test_metrics": [
            {
             "best_value": "Min",
             "name": "RMSE"
            }
           ],
           "test_sets": [
            "test"
           ]
          }
         },
         "passed_iterations": 476,
         "total_iterations": 480
        },
        "name": "catboost_info",
        "path": "catboost_info"
       }
      },
      "layout": "IPY_MODEL_a75e8e1470f643d39d59c54eea73b1be"
     }
    },
    "e0525787695546bab5e349a5e8f93b80": {
     "model_module": "@jupyter-widgets/base",
     "model_name": "DOMWidgetModel",
     "state": {
      "_dom_classes": [],
      "_model_module": "@jupyter-widgets/base",
      "_model_module_version": "1.2.0",
      "_model_name": "DOMWidgetModel",
      "_view_count": null,
      "_view_module": "catboost_module",
      "_view_module_version": "",
      "_view_name": "CatboostIpythonWidgetView",
      "data": {
       "catboost_info": {
        "content": {
         "data": {
          "iterations": [
           {
            "iteration": 0,
            "learn": [
             1.123816308
            ],
            "parameters": [
             {
              "depth": 4,
              "iterations": 30,
              "l2_leaf_reg": 0,
              "learning_rate": 0.01,
              "task_type": "GPU"
             }
            ],
            "passed_time": 56.5923787,
            "remaining_time": 27107.7494,
            "test": [
             1.453284867
            ]
           },
           {
            "iteration": 1,
            "learn": [
             1.056237716
            ],
            "parameters": [
             {
              "depth": 4,
              "iterations": 30,
              "l2_leaf_reg": 0,
              "learning_rate": 0.03,
              "task_type": "GPU"
             }
            ],
            "passed_time": 58.30277118,
            "remaining_time": 13934.36231,
            "test": [
             1.414045465
            ]
           },
           {
            "iteration": 2,
            "learn": [
             0.9698144682
            ],
            "parameters": [
             {
              "depth": 4,
              "iterations": 30,
              "l2_leaf_reg": 0,
              "learning_rate": 0.1,
              "task_type": "GPU"
             }
            ],
            "passed_time": 60.06100202,
            "remaining_time": 9549.69932,
            "test": [
             1.370855711
            ]
           },
           {
            "iteration": 3,
            "learn": [
             0.932690518
            ],
            "parameters": [
             {
              "depth": 4,
              "iterations": 30,
              "l2_leaf_reg": 0,
              "learning_rate": 0.3,
              "task_type": "GPU"
             }
            ],
            "passed_time": 61.77671786,
            "remaining_time": 7351.429425,
            "test": [
             1.357465711
            ]
           },
           {
            "iteration": 4,
            "learn": [
             1.121334574
            ],
            "parameters": [
             {
              "depth": 4,
              "iterations": 30,
              "l2_leaf_reg": 0.3,
              "learning_rate": 0.01,
              "task_type": "GPU"
             }
            ],
            "passed_time": 63.49722407,
            "remaining_time": 6032.236286,
            "test": [
             1.452470606
            ]
           },
           {
            "iteration": 5,
            "learn": [
             1.053493668
            ],
            "parameters": [
             {
              "depth": 4,
              "iterations": 30,
              "l2_leaf_reg": 0.3,
              "learning_rate": 0.03,
              "task_type": "GPU"
             }
            ],
            "passed_time": 65.27724792,
            "remaining_time": 5156.902586,
            "test": [
             1.411912026
            ]
           },
           {
            "iteration": 6,
            "learn": [
             0.9776968246
            ],
            "parameters": [
             {
              "depth": 4,
              "iterations": 30,
              "l2_leaf_reg": 0.3,
              "learning_rate": 0.1,
              "task_type": "GPU"
             }
            ],
            "passed_time": 67.04258541,
            "remaining_time": 4530.163271,
            "test": [
             1.373163056
            ]
           },
           {
            "iteration": 7,
            "learn": [
             0.9283187402
            ],
            "parameters": [
             {
              "depth": 4,
              "iterations": 30,
              "l2_leaf_reg": 0.3,
              "learning_rate": 0.3,
              "task_type": "GPU"
             }
            ],
            "passed_time": 68.77922708,
            "remaining_time": 4057.974398,
            "test": [
             1.350813065
            ]
           },
           {
            "iteration": 8,
            "learn": [
             1.122760526
            ],
            "parameters": [
             {
              "depth": 4,
              "iterations": 30,
              "l2_leaf_reg": 1,
              "learning_rate": 0.01,
              "task_type": "GPU"
             }
            ],
            "passed_time": 70.53350717,
            "remaining_time": 3691.253542,
            "test": [
             1.453011915
            ]
           },
           {
            "iteration": 9,
            "learn": [
             1.049260556
            ],
            "parameters": [
             {
              "depth": 4,
              "iterations": 30,
              "l2_leaf_reg": 1,
              "learning_rate": 0.03,
              "task_type": "GPU"
             }
            ],
            "passed_time": 72.29086072,
            "remaining_time": 3397.670454,
            "test": [
             1.410108922
            ]
           },
           {
            "iteration": 10,
            "learn": [
             0.9678320536
            ],
            "parameters": [
             {
              "depth": 4,
              "iterations": 30,
              "l2_leaf_reg": 1,
              "learning_rate": 0.1,
              "task_type": "GPU"
             }
            ],
            "passed_time": 74.08230688,
            "remaining_time": 3158.600175,
            "test": [
             1.36988255
            ]
           },
           {
            "iteration": 11,
            "learn": [
             0.9318958344
            ],
            "parameters": [
             {
              "depth": 4,
              "iterations": 30,
              "l2_leaf_reg": 1,
              "learning_rate": 0.3,
              "task_type": "GPU"
             }
            ],
            "passed_time": 75.8340598,
            "remaining_time": 2957.528332,
            "test": [
             1.350234499
            ]
           },
           {
            "iteration": 12,
            "learn": [
             1.12277616
            ],
            "parameters": [
             {
              "depth": 4,
              "iterations": 30,
              "l2_leaf_reg": 3,
              "learning_rate": 0.01,
              "task_type": "GPU"
             }
            ],
            "passed_time": 77.59515277,
            "remaining_time": 2787.456642,
            "test": [
             1.452999259
            ]
           },
           {
            "iteration": 13,
            "learn": [
             1.056722983
            ],
            "parameters": [
             {
              "depth": 4,
              "iterations": 30,
              "l2_leaf_reg": 3,
              "learning_rate": 0.03,
              "task_type": "GPU"
             }
            ],
            "passed_time": 79.39544342,
            "remaining_time": 2642.734045,
            "test": [
             1.41356441
            ]
           },
           {
            "iteration": 14,
            "learn": [
             0.9839064853
            ],
            "parameters": [
             {
              "depth": 4,
              "iterations": 30,
              "l2_leaf_reg": 3,
              "learning_rate": 0.1,
              "task_type": "GPU"
             }
            ],
            "passed_time": 81.13911858,
            "remaining_time": 2515.312676,
            "test": [
             1.373976179
            ]
           },
           {
            "iteration": 15,
            "learn": [
             0.923791998
            ],
            "parameters": [
             {
              "depth": 4,
              "iterations": 30,
              "l2_leaf_reg": 3,
              "learning_rate": 0.3,
              "task_type": "GPU"
             }
            ],
            "passed_time": 82.87062795,
            "remaining_time": 2403.24821,
            "test": [
             1.343609974
            ]
           },
           {
            "iteration": 16,
            "learn": [
             1.12360644
            ],
            "parameters": [
             {
              "depth": 4,
              "iterations": 30,
              "l2_leaf_reg": 10,
              "learning_rate": 0.01,
              "task_type": "GPU"
             }
            ],
            "passed_time": 84.65196743,
            "remaining_time": 2305.521231,
            "test": [
             1.453595866
            ]
           },
           {
            "iteration": 17,
            "learn": [
             1.056216497
            ],
            "parameters": [
             {
              "depth": 4,
              "iterations": 30,
              "l2_leaf_reg": 10,
              "learning_rate": 0.03,
              "task_type": "GPU"
             }
            ],
            "passed_time": 86.45245784,
            "remaining_time": 2218.946418,
            "test": [
             1.414428034
            ]
           },
           {
            "iteration": 18,
            "learn": [
             0.9718767021
            ],
            "parameters": [
             {
              "depth": 4,
              "iterations": 30,
              "l2_leaf_reg": 10,
              "learning_rate": 0.1,
              "task_type": "GPU"
             }
            ],
            "passed_time": 88.26880081,
            "remaining_time": 2141.679851,
            "test": [
             1.373217842
            ]
           },
           {
            "iteration": 19,
            "learn": [
             0.9331500898
            ],
            "parameters": [
             {
              "depth": 4,
              "iterations": 30,
              "l2_leaf_reg": 10,
              "learning_rate": 0.3,
              "task_type": "GPU"
             }
            ],
            "passed_time": 90.06290852,
            "remaining_time": 2071.446896,
            "test": [
             1.35234911
            ]
           },
           {
            "iteration": 20,
            "learn": [
             1.047041185
            ],
            "parameters": [
             {
              "depth": 4,
              "iterations": 100,
              "l2_leaf_reg": 0,
              "learning_rate": 0.01,
              "task_type": "GPU"
             }
            ],
            "passed_time": 93.92655347,
            "remaining_time": 2052.966097,
            "test": [
             1.40863386
            ]
           },
           {
            "iteration": 21,
            "learn": [
             0.9732378242
            ],
            "parameters": [
             {
              "depth": 4,
              "iterations": 100,
              "l2_leaf_reg": 0,
              "learning_rate": 0.03,
              "task_type": "GPU"
             }
            ],
            "passed_time": 97.72934446,
            "remaining_time": 2034.547262,
            "test": [
             1.372474313
            ]
           },
           {
            "iteration": 22,
            "learn": [
             0.9276500229
            ],
            "parameters": [
             {
              "depth": 4,
              "iterations": 100,
              "l2_leaf_reg": 0,
              "learning_rate": 0.1,
              "task_type": "GPU"
             }
            ],
            "passed_time": 101.4858143,
            "remaining_time": 2016.479007,
            "test": [
             1.35254473
            ]
           },
           {
            "iteration": 23,
            "learn": [
             0.9203701193
            ],
            "parameters": [
             {
              "depth": 4,
              "iterations": 100,
              "l2_leaf_reg": 0,
              "learning_rate": 0.3,
              "task_type": "GPU"
             }
            ],
            "passed_time": 105.2670474,
            "remaining_time": 2000.0739,
            "test": [
             1.342061825
            ]
           },
           {
            "iteration": 24,
            "learn": [
             1.045946717
            ],
            "parameters": [
             {
              "depth": 4,
              "iterations": 100,
              "l2_leaf_reg": 0.3,
              "learning_rate": 0.01,
              "task_type": "GPU"
             }
            ],
            "passed_time": 109.0283289,
            "remaining_time": 1984.315586,
            "test": [
             1.408431786
            ]
           },
           {
            "iteration": 25,
            "learn": [
             0.9719076115
            ],
            "parameters": [
             {
              "depth": 4,
              "iterations": 100,
              "l2_leaf_reg": 0.3,
              "learning_rate": 0.03,
              "task_type": "GPU"
             }
            ],
            "passed_time": 112.7869257,
            "remaining_time": 1969.433242,
            "test": [
             1.371960327
            ]
           },
           {
            "iteration": 26,
            "learn": [
             0.9288148155
            ],
            "parameters": [
             {
              "depth": 4,
              "iterations": 100,
              "l2_leaf_reg": 0.3,
              "learning_rate": 0.1,
              "task_type": "GPU"
             }
            ],
            "passed_time": 116.5528412,
            "remaining_time": 1955.497668,
            "test": [
             1.351007748
            ]
           },
           {
            "iteration": 27,
            "learn": [
             0.9159687131
            ],
            "parameters": [
             {
              "depth": 4,
              "iterations": 100,
              "l2_leaf_reg": 0.3,
              "learning_rate": 0.3,
              "task_type": "GPU"
             }
            ],
            "passed_time": 120.3425038,
            "remaining_time": 1942.671847,
            "test": [
             1.332259182
            ]
           },
           {
            "iteration": 28,
            "learn": [
             1.044060625
            ],
            "parameters": [
             {
              "depth": 4,
              "iterations": 100,
              "l2_leaf_reg": 1,
              "learning_rate": 0.01,
              "task_type": "GPU"
             }
            ],
            "passed_time": 124.1278949,
            "remaining_time": 1930.402779,
            "test": [
             1.407946364
            ]
           },
           {
            "iteration": 29,
            "learn": [
             0.9722334167
            ],
            "parameters": [
             {
              "depth": 4,
              "iterations": 100,
              "l2_leaf_reg": 1,
              "learning_rate": 0.03,
              "task_type": "GPU"
             }
            ],
            "passed_time": 127.9067395,
            "remaining_time": 1918.601092,
            "test": [
             1.371232195
            ]
           },
           {
            "iteration": 30,
            "learn": [
             0.9298615442
            ],
            "parameters": [
             {
              "depth": 4,
              "iterations": 100,
              "l2_leaf_reg": 1,
              "learning_rate": 0.1,
              "task_type": "GPU"
             }
            ],
            "passed_time": 131.6649559,
            "remaining_time": 1907.018232,
            "test": [
             1.35223259
            ]
           },
           {
            "iteration": 31,
            "learn": [
             0.9170195652
            ],
            "parameters": [
             {
              "depth": 4,
              "iterations": 100,
              "l2_leaf_reg": 1,
              "learning_rate": 0.3,
              "task_type": "GPU"
             }
            ],
            "passed_time": 135.4432092,
            "remaining_time": 1896.204929,
            "test": [
             1.333196794
            ]
           },
           {
            "iteration": 32,
            "learn": [
             1.044551549
            ],
            "parameters": [
             {
              "depth": 4,
              "iterations": 100,
              "l2_leaf_reg": 3,
              "learning_rate": 0.01,
              "task_type": "GPU"
             }
            ],
            "passed_time": 139.2235932,
            "remaining_time": 1885.846853,
            "test": [
             1.407894933
            ]
           },
           {
            "iteration": 33,
            "learn": [
             0.9726636434
            ],
            "parameters": [
             {
              "depth": 4,
              "iterations": 100,
              "l2_leaf_reg": 3,
              "learning_rate": 0.03,
              "task_type": "GPU"
             }
            ],
            "passed_time": 142.9484556,
            "remaining_time": 1875.147388,
            "test": [
             1.371184416
            ]
           },
           {
            "iteration": 34,
            "learn": [
             0.9310458755
            ],
            "parameters": [
             {
              "depth": 4,
              "iterations": 100,
              "l2_leaf_reg": 3,
              "learning_rate": 0.1,
              "task_type": "GPU"
             }
            ],
            "passed_time": 146.7076145,
            "remaining_time": 1865.282528,
            "test": [
             1.353771809
            ]
           },
           {
            "iteration": 35,
            "learn": [
             0.9175780339
            ],
            "parameters": [
             {
              "depth": 4,
              "iterations": 100,
              "l2_leaf_reg": 3,
              "learning_rate": 0.3,
              "task_type": "GPU"
             }
            ],
            "passed_time": 150.4962075,
            "remaining_time": 1856.119892,
            "test": [
             1.335335882
            ]
           },
           {
            "iteration": 36,
            "learn": [
             1.046026483
            ],
            "parameters": [
             {
              "depth": 4,
              "iterations": 100,
              "l2_leaf_reg": 10,
              "learning_rate": 0.01,
              "task_type": "GPU"
             }
            ],
            "passed_time": 154.2822202,
            "remaining_time": 1847.216853,
            "test": [
             1.409001806
            ]
           },
           {
            "iteration": 37,
            "learn": [
             0.9701481926
            ],
            "parameters": [
             {
              "depth": 4,
              "iterations": 100,
              "l2_leaf_reg": 10,
              "learning_rate": 0.03,
              "task_type": "GPU"
             }
            ],
            "passed_time": 158.0772457,
            "remaining_time": 1838.687964,
            "test": [
             1.372084463
            ]
           },
           {
            "iteration": 38,
            "learn": [
             0.93216781
            ],
            "parameters": [
             {
              "depth": 4,
              "iterations": 100,
              "l2_leaf_reg": 10,
              "learning_rate": 0.1,
              "task_type": "GPU"
             }
            ],
            "passed_time": 161.8777546,
            "remaining_time": 1830.46384,
            "test": [
             1.352131901
            ]
           },
           {
            "iteration": 39,
            "learn": [
             0.9191794216
            ],
            "parameters": [
             {
              "depth": 4,
              "iterations": 100,
              "l2_leaf_reg": 10,
              "learning_rate": 0.3,
              "task_type": "GPU"
             }
            ],
            "passed_time": 165.6582899,
            "remaining_time": 1822.241188,
            "test": [
             1.340029699
            ]
           },
           {
            "iteration": 40,
            "learn": [
             0.974080681
            ],
            "parameters": [
             {
              "depth": 4,
              "iterations": 300,
              "l2_leaf_reg": 0,
              "learning_rate": 0.01,
              "task_type": "GPU"
             }
            ],
            "passed_time": 175.4374254,
            "remaining_time": 1878.46414,
            "test": [
             1.372104948
            ]
           },
           {
            "iteration": 41,
            "learn": [
             0.9316294153
            ],
            "parameters": [
             {
              "depth": 4,
              "iterations": 300,
              "l2_leaf_reg": 0,
              "learning_rate": 0.03,
              "task_type": "GPU"
             }
            ],
            "passed_time": 185.0281808,
            "remaining_time": 1929.5796,
            "test": [
             1.354043005
            ]
           },
           {
            "iteration": 42,
            "learn": [
             0.9201987027
            ],
            "parameters": [
             {
              "depth": 4,
              "iterations": 300,
              "l2_leaf_reg": 0,
              "learning_rate": 0.1,
              "task_type": "GPU"
             }
            ],
            "passed_time": 194.6091177,
            "remaining_time": 1977.771731,
            "test": [
             1.343222404
            ]
           },
           {
            "iteration": 43,
            "learn": [
             0.9052382228
            ],
            "parameters": [
             {
              "depth": 4,
              "iterations": 300,
              "l2_leaf_reg": 0,
              "learning_rate": 0.3,
              "task_type": "GPU"
             }
            ],
            "passed_time": 204.2150983,
            "remaining_time": 2023.585974,
            "test": [
             1.328156869
            ]
           },
           {
            "iteration": 44,
            "learn": [
             0.9757029565
            ],
            "parameters": [
             {
              "depth": 4,
              "iterations": 300,
              "l2_leaf_reg": 0.3,
              "learning_rate": 0.01,
              "task_type": "GPU"
             }
            ],
            "passed_time": 213.779299,
            "remaining_time": 2066.533224,
            "test": [
             1.37333768
            ]
           },
           {
            "iteration": 45,
            "learn": [
             0.931653669
            ],
            "parameters": [
             {
              "depth": 4,
              "iterations": 300,
              "l2_leaf_reg": 0.3,
              "learning_rate": 0.03,
              "task_type": "GPU"
             }
            ],
            "passed_time": 223.460861,
            "remaining_time": 2108.304645,
            "test": [
             1.353512756
            ]
           },
           {
            "iteration": 46,
            "learn": [
             0.9274304932
            ],
            "parameters": [
             {
              "depth": 4,
              "iterations": 300,
              "l2_leaf_reg": 0.3,
              "learning_rate": 0.1,
              "task_type": "GPU"
             }
            ],
            "passed_time": 233.028885,
            "remaining_time": 2146.840579,
            "test": [
             1.346012001
            ]
           },
           {
            "iteration": 47,
            "learn": [
             0.9018199808
            ],
            "parameters": [
             {
              "depth": 4,
              "iterations": 300,
              "l2_leaf_reg": 0.3,
              "learning_rate": 0.3,
              "task_type": "GPU"
             }
            ],
            "passed_time": 242.6222143,
            "remaining_time": 2183.599929,
            "test": [
             1.320474351
            ]
           },
           {
            "iteration": 48,
            "learn": [
             0.9756048028
            ],
            "parameters": [
             {
              "depth": 4,
              "iterations": 300,
              "l2_leaf_reg": 1,
              "learning_rate": 0.01,
              "task_type": "GPU"
             }
            ],
            "passed_time": 252.2944511,
            "remaining_time": 2219.161397,
            "test": [
             1.373409044
            ]
           },
           {
            "iteration": 49,
            "learn": [
             0.9305390309
            ],
            "parameters": [
             {
              "depth": 4,
              "iterations": 300,
              "l2_leaf_reg": 1,
              "learning_rate": 0.03,
              "task_type": "GPU"
             }
            ],
            "passed_time": 261.9585849,
            "remaining_time": 2252.84383,
            "test": [
             1.354724844
            ]
           },
           {
            "iteration": 50,
            "learn": [
             0.9171021993
            ],
            "parameters": [
             {
              "depth": 4,
              "iterations": 300,
              "l2_leaf_reg": 1,
              "learning_rate": 0.1,
              "task_type": "GPU"
             }
            ],
            "passed_time": 271.5135556,
            "remaining_time": 2283.908144,
            "test": [
             1.33622997
            ]
           },
           {
            "iteration": 51,
            "learn": [
             0.9027633768
            ],
            "parameters": [
             {
              "depth": 4,
              "iterations": 300,
              "l2_leaf_reg": 1,
              "learning_rate": 0.3,
              "task_type": "GPU"
             }
            ],
            "passed_time": 281.1283618,
            "remaining_time": 2313.90267,
            "test": [
             1.315782244
            ]
           },
           {
            "iteration": 52,
            "learn": [
             0.9750281044
            ],
            "parameters": [
             {
              "depth": 4,
              "iterations": 300,
              "l2_leaf_reg": 3,
              "learning_rate": 0.01,
              "task_type": "GPU"
             }
            ],
            "passed_time": 290.6957726,
            "remaining_time": 2342.020658,
            "test": [
             1.373119073
            ]
           },
           {
            "iteration": 53,
            "learn": [
             0.9298289001
            ],
            "parameters": [
             {
              "depth": 4,
              "iterations": 300,
              "l2_leaf_reg": 3,
              "learning_rate": 0.03,
              "task_type": "GPU"
             }
            ],
            "passed_time": 300.3107397,
            "remaining_time": 2369.118058,
            "test": [
             1.352819802
            ]
           },
           {
            "iteration": 54,
            "learn": [
             0.9226682873
            ],
            "parameters": [
             {
              "depth": 4,
              "iterations": 300,
              "l2_leaf_reg": 3,
              "learning_rate": 0.1,
              "task_type": "GPU"
             }
            ],
            "passed_time": 309.9119612,
            "remaining_time": 2394.774246,
            "test": [
             1.344673409
            ]
           },
           {
            "iteration": 55,
            "learn": [
             0.9021806236
            ],
            "parameters": [
             {
              "depth": 4,
              "iterations": 300,
              "l2_leaf_reg": 3,
              "learning_rate": 0.3,
              "task_type": "GPU"
             }
            ],
            "passed_time": 319.5518459,
            "remaining_time": 2419.463976,
            "test": [
             1.314781988
            ]
           },
           {
            "iteration": 56,
            "learn": [
             0.9731643857
            ],
            "parameters": [
             {
              "depth": 4,
              "iterations": 300,
              "l2_leaf_reg": 10,
              "learning_rate": 0.01,
              "task_type": "GPU"
             }
            ],
            "passed_time": 329.2182943,
            "remaining_time": 2443.146289,
            "test": [
             1.372459543
            ]
           },
           {
            "iteration": 57,
            "learn": [
             0.9302394531
            ],
            "parameters": [
             {
              "depth": 4,
              "iterations": 300,
              "l2_leaf_reg": 10,
              "learning_rate": 0.03,
              "task_type": "GPU"
             }
            ],
            "passed_time": 338.8400417,
            "remaining_time": 2465.353407,
            "test": [
             1.35243518
            ]
           },
           {
            "iteration": 58,
            "learn": [
             0.9168864975
            ],
            "parameters": [
             {
              "depth": 4,
              "iterations": 300,
              "l2_leaf_reg": 10,
              "learning_rate": 0.1,
              "task_type": "GPU"
             }
            ],
            "passed_time": 348.4277241,
            "remaining_time": 2486.238506,
            "test": [
             1.336360083
            ]
           },
           {
            "iteration": 59,
            "learn": [
             0.8990702947
            ],
            "parameters": [
             {
              "depth": 4,
              "iterations": 300,
              "l2_leaf_reg": 10,
              "learning_rate": 0.3,
              "task_type": "GPU"
             }
            ],
            "passed_time": 358.0649099,
            "remaining_time": 2506.454369,
            "test": [
             1.314598752
            ]
           },
           {
            "iteration": 60,
            "learn": [
             0.9279962081
            ],
            "parameters": [
             {
              "depth": 4,
              "iterations": 1000,
              "l2_leaf_reg": 0,
              "learning_rate": 0.01,
              "task_type": "GPU"
             }
            ],
            "passed_time": 388.1816781,
            "remaining_time": 2666.362674,
            "test": [
             1.351880727
            ]
           },
           {
            "iteration": 61,
            "learn": [
             0.9207834713
            ],
            "parameters": [
             {
              "depth": 4,
              "iterations": 1000,
              "l2_leaf_reg": 0,
              "learning_rate": 0.03,
              "task_type": "GPU"
             }
            ],
            "passed_time": 418.1066176,
            "remaining_time": 2818.847841,
            "test": [
             1.345221356
            ]
           },
           {
            "iteration": 62,
            "learn": [
             0.9023599501
            ],
            "parameters": [
             {
              "depth": 4,
              "iterations": 1000,
              "l2_leaf_reg": 0,
              "learning_rate": 0.1,
              "task_type": "GPU"
             }
            ],
            "passed_time": 447.9950693,
            "remaining_time": 2965.300697,
            "test": [
             1.322056039
            ]
           },
           {
            "iteration": 63,
            "learn": [
             0.8908895691
            ],
            "parameters": [
             {
              "depth": 4,
              "iterations": 1000,
              "l2_leaf_reg": 0,
              "learning_rate": 0.3,
              "task_type": "GPU"
             }
            ],
            "passed_time": 477.4009118,
            "remaining_time": 3103.105927,
            "test": [
             1.310827934
            ]
           },
           {
            "iteration": 64,
            "learn": [
             0.9288311555
            ],
            "parameters": [
             {
              "depth": 4,
              "iterations": 1000,
              "l2_leaf_reg": 0.3,
              "learning_rate": 0.01,
              "task_type": "GPU"
             }
            ],
            "passed_time": 507.3984743,
            "remaining_time": 3239.544105,
            "test": [
             1.35245859
            ]
           },
           {
            "iteration": 65,
            "learn": [
             0.9237935249
            ],
            "parameters": [
             {
              "depth": 4,
              "iterations": 1000,
              "l2_leaf_reg": 0.3,
              "learning_rate": 0.03,
              "task_type": "GPU"
             }
            ],
            "passed_time": 537.3815218,
            "remaining_time": 3370.847728,
            "test": [
             1.346398147
            ]
           },
           {
            "iteration": 66,
            "learn": [
             0.8988283528
            ],
            "parameters": [
             {
              "depth": 4,
              "iterations": 1000,
              "l2_leaf_reg": 0.3,
              "learning_rate": 0.1,
              "task_type": "GPU"
             }
            ],
            "passed_time": 567.519581,
            "remaining_time": 3498.292342,
            "test": [
             1.314525983
            ]
           },
           {
            "iteration": 67,
            "learn": [
             0.8842196178
            ],
            "parameters": [
             {
              "depth": 4,
              "iterations": 1000,
              "l2_leaf_reg": 0.3,
              "learning_rate": 0.3,
              "task_type": "GPU"
             }
            ],
            "passed_time": 597.4092306,
            "remaining_time": 3619.597103,
            "test": [
             1.305052225
            ]
           },
           {
            "iteration": 68,
            "learn": [
             0.9280778368
            ],
            "parameters": [
             {
              "depth": 4,
              "iterations": 1000,
              "l2_leaf_reg": 1,
              "learning_rate": 0.01,
              "task_type": "GPU"
             }
            ],
            "passed_time": 627.5024237,
            "remaining_time": 3737.731828,
            "test": [
             1.351743915
            ]
           },
           {
            "iteration": 69,
            "learn": [
             0.9162578468
            ],
            "parameters": [
             {
              "depth": 4,
              "iterations": 1000,
              "l2_leaf_reg": 1,
              "learning_rate": 0.03,
              "task_type": "GPU"
             }
            ],
            "passed_time": 657.3881034,
            "remaining_time": 3850.416034,
            "test": [
             1.338427915
            ]
           },
           {
            "iteration": 70,
            "learn": [
             0.9022578709
            ],
            "parameters": [
             {
              "depth": 4,
              "iterations": 1000,
              "l2_leaf_reg": 1,
              "learning_rate": 0.1,
              "task_type": "GPU"
             }
            ],
            "passed_time": 687.4400143,
            "remaining_time": 3960.041772,
            "test": [
             1.321894205
            ]
           },
           {
            "iteration": 71,
            "learn": [
             0.8872304441
            ],
            "parameters": [
             {
              "depth": 4,
              "iterations": 1000,
              "l2_leaf_reg": 1,
              "learning_rate": 0.3,
              "task_type": "GPU"
             }
            ],
            "passed_time": 717.6043755,
            "remaining_time": 4066.424794,
            "test": [
             1.312194484
            ]
           },
           {
            "iteration": 72,
            "learn": [
             0.9278243986
            ],
            "parameters": [
             {
              "depth": 4,
              "iterations": 1000,
              "l2_leaf_reg": 3,
              "learning_rate": 0.01,
              "task_type": "GPU"
             }
            ],
            "passed_time": 747.835286,
            "remaining_time": 4169.437827,
            "test": [
             1.35070353
            ]
           },
           {
            "iteration": 73,
            "learn": [
             0.9214498861
            ],
            "parameters": [
             {
              "depth": 4,
              "iterations": 1000,
              "l2_leaf_reg": 3,
              "learning_rate": 0.03,
              "task_type": "GPU"
             }
            ],
            "passed_time": 777.9125843,
            "remaining_time": 4268.006881,
            "test": [
             1.341700987
            ]
           },
           {
            "iteration": 74,
            "learn": [
             0.9014185371
            ],
            "parameters": [
             {
              "depth": 4,
              "iterations": 1000,
              "l2_leaf_reg": 3,
              "learning_rate": 0.1,
              "task_type": "GPU"
             }
            ],
            "passed_time": 808.2167907,
            "remaining_time": 4364.37067,
            "test": [
             1.321407357
            ]
           },
           {
            "iteration": 75,
            "learn": [
             0.8827842743
            ],
            "parameters": [
             {
              "depth": 4,
              "iterations": 1000,
              "l2_leaf_reg": 3,
              "learning_rate": 0.3,
              "task_type": "GPU"
             }
            ],
            "passed_time": 838.3686265,
            "remaining_time": 4456.59112,
            "test": [
             1.305278709
            ]
           },
           {
            "iteration": 76,
            "learn": [
             0.9285926355
            ],
            "parameters": [
             {
              "depth": 4,
              "iterations": 1000,
              "l2_leaf_reg": 10,
              "learning_rate": 0.01,
              "task_type": "GPU"
             }
            ],
            "passed_time": 868.3082365,
            "remaining_time": 4544.522329,
            "test": [
             1.351749867
            ]
           },
           {
            "iteration": 77,
            "learn": [
             0.922362613
            ],
            "parameters": [
             {
              "depth": 4,
              "iterations": 1000,
              "l2_leaf_reg": 10,
              "learning_rate": 0.03,
              "task_type": "GPU"
             }
            ],
            "passed_time": 897.9898771,
            "remaining_time": 4628.101674,
            "test": [
             1.345640109
            ]
           },
           {
            "iteration": 78,
            "learn": [
             0.8977471001
            ],
            "parameters": [
             {
              "depth": 4,
              "iterations": 1000,
              "l2_leaf_reg": 10,
              "learning_rate": 0.1,
              "task_type": "GPU"
             }
            ],
            "passed_time": 927.6938917,
            "remaining_time": 4708.927222,
            "test": [
             1.316708021
            ]
           },
           {
            "iteration": 79,
            "learn": [
             0.8914003496
            ],
            "parameters": [
             {
              "depth": 4,
              "iterations": 1000,
              "l2_leaf_reg": 10,
              "learning_rate": 0.3,
              "task_type": "GPU"
             }
            ],
            "passed_time": 957.5630977,
            "remaining_time": 4787.815488,
            "test": [
             1.314068609
            ]
           },
           {
            "iteration": 80,
            "learn": [
             1.117872249
            ],
            "parameters": [
             {
              "depth": 5,
              "iterations": 30,
              "l2_leaf_reg": 0,
              "learning_rate": 0.01,
              "task_type": "GPU"
             }
            ],
            "passed_time": 959.3742847,
            "remaining_time": 4725.806662,
            "test": [
             1.451023485
            ]
           },
           {
            "iteration": 81,
            "learn": [
             1.046145896
            ],
            "parameters": [
             {
              "depth": 5,
              "iterations": 30,
              "l2_leaf_reg": 0,
              "learning_rate": 0.03,
              "task_type": "GPU"
             }
            ],
            "passed_time": 961.1489762,
            "remaining_time": 4665.088933,
            "test": [
             1.410480558
            ]
           },
           {
            "iteration": 82,
            "learn": [
             0.9565304892
            ],
            "parameters": [
             {
              "depth": 5,
              "iterations": 30,
              "l2_leaf_reg": 0,
              "learning_rate": 0.1,
              "task_type": "GPU"
             }
            ],
            "passed_time": 962.9431585,
            "remaining_time": 4605.884746,
            "test": [
             1.368319683
            ]
           },
           {
            "iteration": 83,
            "learn": [
             0.9154036695
            ],
            "parameters": [
             {
              "depth": 5,
              "iterations": 30,
              "l2_leaf_reg": 0,
              "learning_rate": 0.3,
              "task_type": "GPU"
             }
            ],
            "passed_time": 964.7584168,
            "remaining_time": 4548.146822,
            "test": [
             1.33543056
            ]
           },
           {
            "iteration": 84,
            "learn": [
             1.117791907
            ],
            "parameters": [
             {
              "depth": 5,
              "iterations": 30,
              "l2_leaf_reg": 0.3,
              "learning_rate": 0.01,
              "task_type": "GPU"
             }
            ],
            "passed_time": 966.5677065,
            "remaining_time": 4491.696989,
            "test": [
             1.451075044
            ]
           },
           {
            "iteration": 85,
            "learn": [
             1.04525089
            ],
            "parameters": [
             {
              "depth": 5,
              "iterations": 30,
              "l2_leaf_reg": 0.3,
              "learning_rate": 0.03,
              "task_type": "GPU"
             }
            ],
            "passed_time": 968.3531658,
            "remaining_time": 4436.40869,
            "test": [
             1.410271043
            ]
           },
           {
            "iteration": 86,
            "learn": [
             0.9539037665
            ],
            "parameters": [
             {
              "depth": 5,
              "iterations": 30,
              "l2_leaf_reg": 0.3,
              "learning_rate": 0.1,
              "task_type": "GPU"
             }
            ],
            "passed_time": 970.1354785,
            "remaining_time": 4382.336127,
            "test": [
             1.366522295
            ]
           },
           {
            "iteration": 87,
            "learn": [
             0.9180310576
            ],
            "parameters": [
             {
              "depth": 5,
              "iterations": 30,
              "l2_leaf_reg": 0.3,
              "learning_rate": 0.3,
              "task_type": "GPU"
             }
            ],
            "passed_time": 971.9557176,
            "remaining_time": 4329.620924,
            "test": [
             1.33692871
            ]
           },
           {
            "iteration": 88,
            "learn": [
             1.118571708
            ],
            "parameters": [
             {
              "depth": 5,
              "iterations": 30,
              "l2_leaf_reg": 1,
              "learning_rate": 0.01,
              "task_type": "GPU"
             }
            ],
            "passed_time": 973.7651902,
            "remaining_time": 4278.002128,
            "test": [
             1.451717644
            ]
           },
           {
            "iteration": 89,
            "learn": [
             1.044149342
            ],
            "parameters": [
             {
              "depth": 5,
              "iterations": 30,
              "l2_leaf_reg": 1,
              "learning_rate": 0.03,
              "task_type": "GPU"
             }
            ],
            "passed_time": 975.5723565,
            "remaining_time": 4227.480212,
            "test": [
             1.40918237
            ]
           },
           {
            "iteration": 90,
            "learn": [
             0.975010047
            ],
            "parameters": [
             {
              "depth": 5,
              "iterations": 30,
              "l2_leaf_reg": 1,
              "learning_rate": 0.1,
              "task_type": "GPU"
             }
            ],
            "passed_time": 977.384535,
            "remaining_time": 4178.050375,
            "test": [
             1.37104671
            ]
           },
           {
            "iteration": 91,
            "learn": [
             0.9223785576
            ],
            "parameters": [
             {
              "depth": 5,
              "iterations": 30,
              "l2_leaf_reg": 1,
              "learning_rate": 0.3,
              "task_type": "GPU"
             }
            ],
            "passed_time": 979.1959459,
            "remaining_time": 4129.652468,
            "test": [
             1.345218948
            ]
           },
           {
            "iteration": 92,
            "learn": [
             1.117887297
            ],
            "parameters": [
             {
              "depth": 5,
              "iterations": 30,
              "l2_leaf_reg": 3,
              "learning_rate": 0.01,
              "task_type": "GPU"
             }
            ],
            "passed_time": 981.0090732,
            "remaining_time": 4082.263563,
            "test": [
             1.451287092
            ]
           },
           {
            "iteration": 93,
            "learn": [
             1.042972096
            ],
            "parameters": [
             {
              "depth": 5,
              "iterations": 30,
              "l2_leaf_reg": 3,
              "learning_rate": 0.03,
              "task_type": "GPU"
             }
            ],
            "passed_time": 982.8629646,
            "remaining_time": 4036.011748,
            "test": [
             1.408197036
            ]
           },
           {
            "iteration": 94,
            "learn": [
             0.9543855578
            ],
            "parameters": [
             {
              "depth": 5,
              "iterations": 30,
              "l2_leaf_reg": 3,
              "learning_rate": 0.1,
              "task_type": "GPU"
             }
            ],
            "passed_time": 984.6759498,
            "remaining_time": 3990.528849,
            "test": [
             1.366827884
            ]
           },
           {
            "iteration": 95,
            "learn": [
             0.922908395
            ],
            "parameters": [
             {
              "depth": 5,
              "iterations": 30,
              "l2_leaf_reg": 3,
              "learning_rate": 0.3,
              "task_type": "GPU"
             }
            ],
            "passed_time": 986.4825154,
            "remaining_time": 3945.930062,
            "test": [
             1.346481494
            ]
           },
           {
            "iteration": 96,
            "learn": [
             1.120506201
            ],
            "parameters": [
             {
              "depth": 5,
              "iterations": 30,
              "l2_leaf_reg": 10,
              "learning_rate": 0.01,
              "task_type": "GPU"
             }
            ],
            "passed_time": 988.2714609,
            "remaining_time": 3902.144016,
            "test": [
             1.452346866
            ]
           },
           {
            "iteration": 97,
            "learn": [
             1.042391971
            ],
            "parameters": [
             {
              "depth": 5,
              "iterations": 30,
              "l2_leaf_reg": 10,
              "learning_rate": 0.03,
              "task_type": "GPU"
             }
            ],
            "passed_time": 990.1124852,
            "remaining_time": 3859.418055,
            "test": [
             1.408995429
            ]
           },
           {
            "iteration": 98,
            "learn": [
             0.9575303621
            ],
            "parameters": [
             {
              "depth": 5,
              "iterations": 30,
              "l2_leaf_reg": 10,
              "learning_rate": 0.1,
              "task_type": "GPU"
             }
            ],
            "passed_time": 991.9350348,
            "remaining_time": 3817.446952,
            "test": [
             1.368038791
            ]
           },
           {
            "iteration": 99,
            "learn": [
             0.9261817764
            ],
            "parameters": [
             {
              "depth": 5,
              "iterations": 30,
              "l2_leaf_reg": 10,
              "learning_rate": 0.3,
              "task_type": "GPU"
             }
            ],
            "passed_time": 993.7212606,
            "remaining_time": 3776.14079,
            "test": [
             1.347596552
            ]
           },
           {
            "iteration": 100,
            "learn": [
             1.038804843
            ],
            "parameters": [
             {
              "depth": 5,
              "iterations": 100,
              "l2_leaf_reg": 0,
              "learning_rate": 0.01,
              "task_type": "GPU"
             }
            ],
            "passed_time": 997.7044334,
            "remaining_time": 3743.861191,
            "test": [
             1.406292804
            ]
           },
           {
            "iteration": 101,
            "learn": [
             0.9699224726
            ],
            "parameters": [
             {
              "depth": 5,
              "iterations": 100,
              "l2_leaf_reg": 0,
              "learning_rate": 0.03,
              "task_type": "GPU"
             }
            ],
            "passed_time": 1001.663205,
            "remaining_time": 3712.045994,
            "test": [
             1.370960588
            ]
           },
           {
            "iteration": 102,
            "learn": [
             0.9168304272
            ],
            "parameters": [
             {
              "depth": 5,
              "iterations": 100,
              "l2_leaf_reg": 0,
              "learning_rate": 0.1,
              "task_type": "GPU"
             }
            ],
            "passed_time": 1005.630882,
            "remaining_time": 3680.804298,
            "test": [
             1.338780347
            ]
           },
           {
            "iteration": 103,
            "learn": [
             0.9034063046
            ],
            "parameters": [
             {
              "depth": 5,
              "iterations": 100,
              "l2_leaf_reg": 0,
              "learning_rate": 0.3,
              "task_type": "GPU"
             }
            ],
            "passed_time": 1009.677799,
            "remaining_time": 3650.37358,
            "test": [
             1.321914875
            ]
           },
           {
            "iteration": 104,
            "learn": [
             1.038131154
            ],
            "parameters": [
             {
              "depth": 5,
              "iterations": 100,
              "l2_leaf_reg": 0.3,
              "learning_rate": 0.01,
              "task_type": "GPU"
             }
            ],
            "passed_time": 1013.667874,
            "remaining_time": 3620.242407,
            "test": [
             1.405935891
            ]
           },
           {
            "iteration": 105,
            "learn": [
             0.9638120623
            ],
            "parameters": [
             {
              "depth": 5,
              "iterations": 100,
              "l2_leaf_reg": 0.3,
              "learning_rate": 0.03,
              "task_type": "GPU"
             }
            ],
            "passed_time": 1017.691238,
            "remaining_time": 3590.721916,
            "test": [
             1.369257632
            ]
           },
           {
            "iteration": 106,
            "learn": [
             0.9215340789
            ],
            "parameters": [
             {
              "depth": 5,
              "iterations": 100,
              "l2_leaf_reg": 0.3,
              "learning_rate": 0.1,
              "task_type": "GPU"
             }
            ],
            "passed_time": 1021.698472,
            "remaining_time": 3561.621775,
            "test": [
             1.344384934
            ]
           },
           {
            "iteration": 107,
            "learn": [
             0.9080764781
            ],
            "parameters": [
             {
              "depth": 5,
              "iterations": 100,
              "l2_leaf_reg": 0.3,
              "learning_rate": 0.3,
              "task_type": "GPU"
             }
            ],
            "passed_time": 1025.76436,
            "remaining_time": 3533.188349,
            "test": [
             1.330924108
            ]
           },
           {
            "iteration": 108,
            "learn": [
             1.037091614
            ],
            "parameters": [
             {
              "depth": 5,
              "iterations": 100,
              "l2_leaf_reg": 1,
              "learning_rate": 0.01,
              "task_type": "GPU"
             }
            ],
            "passed_time": 1029.719303,
            "remaining_time": 3504.824417,
            "test": [
             1.405659766
            ]
           },
           {
            "iteration": 109,
            "learn": [
             0.9642380275
            ],
            "parameters": [
             {
              "depth": 5,
              "iterations": 100,
              "l2_leaf_reg": 1,
              "learning_rate": 0.03,
              "task_type": "GPU"
             }
            ],
            "passed_time": 1033.727534,
            "remaining_time": 3477.083523,
            "test": [
             1.369006089
            ]
           },
           {
            "iteration": 110,
            "learn": [
             0.9192146322
            ],
            "parameters": [
             {
              "depth": 5,
              "iterations": 100,
              "l2_leaf_reg": 1,
              "learning_rate": 0.1,
              "task_type": "GPU"
             }
            ],
            "passed_time": 1037.721401,
            "remaining_time": 3449.722496,
            "test": [
             1.341792802
            ]
           },
           {
            "iteration": 111,
            "learn": [
             0.907841828
            ],
            "parameters": [
             {
              "depth": 5,
              "iterations": 100,
              "l2_leaf_reg": 1,
              "learning_rate": 0.3,
              "task_type": "GPU"
             }
            ],
            "passed_time": 1041.704263,
            "remaining_time": 3422.74258,
            "test": [
             1.316848831
            ]
           },
           {
            "iteration": 112,
            "learn": [
             1.038096126
            ],
            "parameters": [
             {
              "depth": 5,
              "iterations": 100,
              "l2_leaf_reg": 3,
              "learning_rate": 0.01,
              "task_type": "GPU"
             }
            ],
            "passed_time": 1045.722697,
            "remaining_time": 3396.285218,
            "test": [
             1.406159873
            ]
           },
           {
            "iteration": 113,
            "learn": [
             0.9607518272
            ],
            "parameters": [
             {
              "depth": 5,
              "iterations": 100,
              "l2_leaf_reg": 3,
              "learning_rate": 0.03,
              "task_type": "GPU"
             }
            ],
            "passed_time": 1049.758267,
            "remaining_time": 3370.27654,
            "test": [
             1.367288548
            ]
           },
           {
            "iteration": 114,
            "learn": [
             0.921503124
            ],
            "parameters": [
             {
              "depth": 5,
              "iterations": 100,
              "l2_leaf_reg": 3,
              "learning_rate": 0.1,
              "task_type": "GPU"
             }
            ],
            "passed_time": 1053.769005,
            "remaining_time": 3344.57119,
            "test": [
             1.344372032
            ]
           },
           {
            "iteration": 115,
            "learn": [
             0.9046774784
            ],
            "parameters": [
             {
              "depth": 5,
              "iterations": 100,
              "l2_leaf_reg": 3,
              "learning_rate": 0.3,
              "task_type": "GPU"
             }
            ],
            "passed_time": 1057.726759,
            "remaining_time": 3319.073622,
            "test": [
             1.318011355
            ]
           },
           {
            "iteration": 116,
            "learn": [
             1.037940604
            ],
            "parameters": [
             {
              "depth": 5,
              "iterations": 100,
              "l2_leaf_reg": 10,
              "learning_rate": 0.01,
              "task_type": "GPU"
             }
            ],
            "passed_time": 1061.678037,
            "remaining_time": 3293.924166,
            "test": [
             1.40613929
            ]
           },
           {
            "iteration": 117,
            "learn": [
             0.9613244816
            ],
            "parameters": [
             {
              "depth": 5,
              "iterations": 100,
              "l2_leaf_reg": 10,
              "learning_rate": 0.03,
              "task_type": "GPU"
             }
            ],
            "passed_time": 1065.684235,
            "remaining_time": 3269.302485,
            "test": [
             1.367655164
            ]
           },
           {
            "iteration": 118,
            "learn": [
             0.9244785384
            ],
            "parameters": [
             {
              "depth": 5,
              "iterations": 100,
              "l2_leaf_reg": 10,
              "learning_rate": 0.1,
              "task_type": "GPU"
             }
            ],
            "passed_time": 1069.710278,
            "remaining_time": 3245.087482,
            "test": [
             1.34680738
            ]
           },
           {
            "iteration": 119,
            "learn": [
             0.9102914462
            ],
            "parameters": [
             {
              "depth": 5,
              "iterations": 100,
              "l2_leaf_reg": 10,
              "learning_rate": 0.3,
              "task_type": "GPU"
             }
            ],
            "passed_time": 1073.731011,
            "remaining_time": 3221.193032,
            "test": [
             1.32798433
            ]
           },
           {
            "iteration": 120,
            "learn": [
             0.9666470958
            ],
            "parameters": [
             {
              "depth": 5,
              "iterations": 300,
              "l2_leaf_reg": 0,
              "learning_rate": 0.01,
              "task_type": "GPU"
             }
            ],
            "passed_time": 1083.951374,
            "remaining_time": 3216.021018,
            "test": [
             1.369849751
            ]
           },
           {
            "iteration": 121,
            "learn": [
             0.9253031092
            ],
            "parameters": [
             {
              "depth": 5,
              "iterations": 300,
              "l2_leaf_reg": 0,
              "learning_rate": 0.03,
              "task_type": "GPU"
             }
            ],
            "passed_time": 1094.246747,
            "remaining_time": 3210.986355,
            "test": [
             1.348329002
            ]
           },
           {
            "iteration": 122,
            "learn": [
             0.9039328423
            ],
            "parameters": [
             {
              "depth": 5,
              "iterations": 300,
              "l2_leaf_reg": 0,
              "learning_rate": 0.1,
              "task_type": "GPU"
             }
            ],
            "passed_time": 1104.375883,
            "remaining_time": 3205.38366,
            "test": [
             1.328211938
            ]
           },
           {
            "iteration": 123,
            "learn": [
             0.8963850014
            ],
            "parameters": [
             {
              "depth": 5,
              "iterations": 300,
              "l2_leaf_reg": 0,
              "learning_rate": 0.3,
              "task_type": "GPU"
             }
            ],
            "passed_time": 1114.588987,
            "remaining_time": 3199.949026,
            "test": [
             1.321712468
            ]
           },
           {
            "iteration": 124,
            "learn": [
             0.9634932239
            ],
            "parameters": [
             {
              "depth": 5,
              "iterations": 300,
              "l2_leaf_reg": 0.3,
              "learning_rate": 0.01,
              "task_type": "GPU"
             }
            ],
            "passed_time": 1124.85197,
            "remaining_time": 3194.579594,
            "test": [
             1.368532261
            ]
           },
           {
            "iteration": 125,
            "learn": [
             0.9207772299
            ],
            "parameters": [
             {
              "depth": 5,
              "iterations": 300,
              "l2_leaf_reg": 0.3,
              "learning_rate": 0.03,
              "task_type": "GPU"
             }
            ],
            "passed_time": 1135.173199,
            "remaining_time": 3189.296131,
            "test": [
             1.343889907
            ]
           },
           {
            "iteration": 126,
            "learn": [
             0.9088203636
            ],
            "parameters": [
             {
              "depth": 5,
              "iterations": 300,
              "l2_leaf_reg": 0.3,
              "learning_rate": 0.1,
              "task_type": "GPU"
             }
            ],
            "passed_time": 1145.174556,
            "remaining_time": 3183.04424,
            "test": [
             1.332585096
            ]
           },
           {
            "iteration": 127,
            "learn": [
             0.8909402645
            ],
            "parameters": [
             {
              "depth": 5,
              "iterations": 300,
              "l2_leaf_reg": 0.3,
              "learning_rate": 0.3,
              "task_type": "GPU"
             }
            ],
            "passed_time": 1155.333074,
            "remaining_time": 3177.165954,
            "test": [
             1.312034897
            ]
           },
           {
            "iteration": 128,
            "learn": [
             0.9629688982
            ],
            "parameters": [
             {
              "depth": 5,
              "iterations": 300,
              "l2_leaf_reg": 1,
              "learning_rate": 0.01,
              "task_type": "GPU"
             }
            ],
            "passed_time": 1165.574876,
            "remaining_time": 3171.447917,
            "test": [
             1.368791829
            ]
           },
           {
            "iteration": 129,
            "learn": [
             0.9252855211
            ],
            "parameters": [
             {
              "depth": 5,
              "iterations": 300,
              "l2_leaf_reg": 1,
              "learning_rate": 0.03,
              "task_type": "GPU"
             }
            ],
            "passed_time": 1175.779868,
            "remaining_time": 3165.561183,
            "test": [
             1.347752858
            ]
           },
           {
            "iteration": 130,
            "learn": [
             0.9108047112
            ],
            "parameters": [
             {
              "depth": 5,
              "iterations": 300,
              "l2_leaf_reg": 1,
              "learning_rate": 0.1,
              "task_type": "GPU"
             }
            ],
            "passed_time": 1185.874757,
            "remaining_time": 3159.315192,
            "test": [
             1.332317376
            ]
           },
           {
            "iteration": 131,
            "learn": [
             0.8967484126
            ],
            "parameters": [
             {
              "depth": 5,
              "iterations": 300,
              "l2_leaf_reg": 1,
              "learning_rate": 0.3,
              "task_type": "GPU"
             }
            ],
            "passed_time": 1196.099304,
            "remaining_time": 3153.352711,
            "test": [
             1.316518743
            ]
           },
           {
            "iteration": 132,
            "learn": [
             0.9668954641
            ],
            "parameters": [
             {
              "depth": 5,
              "iterations": 300,
              "l2_leaf_reg": 3,
              "learning_rate": 0.01,
              "task_type": "GPU"
             }
            ],
            "passed_time": 1206.319579,
            "remaining_time": 3147.314991,
            "test": [
             1.369973315
            ]
           },
           {
            "iteration": 133,
            "learn": [
             0.9234693841
            ],
            "parameters": [
             {
              "depth": 5,
              "iterations": 300,
              "l2_leaf_reg": 3,
              "learning_rate": 0.03,
              "task_type": "GPU"
             }
            ],
            "passed_time": 1216.611548,
            "remaining_time": 3141.399968,
            "test": [
             1.346873324
            ]
           },
           {
            "iteration": 134,
            "learn": [
             0.9124807982
            ],
            "parameters": [
             {
              "depth": 5,
              "iterations": 300,
              "l2_leaf_reg": 3,
              "learning_rate": 0.1,
              "task_type": "GPU"
             }
            ],
            "passed_time": 1226.749546,
            "remaining_time": 3135.026618,
            "test": [
             1.334594187
            ]
           },
           {
            "iteration": 135,
            "learn": [
             0.8924477871
            ],
            "parameters": [
             {
              "depth": 5,
              "iterations": 300,
              "l2_leaf_reg": 3,
              "learning_rate": 0.3,
              "task_type": "GPU"
             }
            ],
            "passed_time": 1236.997781,
            "remaining_time": 3128.876741,
            "test": [
             1.314127609
            ]
           },
           {
            "iteration": 136,
            "learn": [
             0.9663320042
            ],
            "parameters": [
             {
              "depth": 5,
              "iterations": 300,
              "l2_leaf_reg": 10,
              "learning_rate": 0.01,
              "task_type": "GPU"
             }
            ],
            "passed_time": 1247.260619,
            "remaining_time": 3122.703593,
            "test": [
             1.370054541
            ]
           },
           {
            "iteration": 137,
            "learn": [
             0.9240596025
            ],
            "parameters": [
             {
              "depth": 5,
              "iterations": 300,
              "l2_leaf_reg": 10,
              "learning_rate": 0.03,
              "task_type": "GPU"
             }
            ],
            "passed_time": 1257.641008,
            "remaining_time": 3116.762499,
            "test": [
             1.345742836
            ]
           },
           {
            "iteration": 138,
            "learn": [
             0.9110540815
            ],
            "parameters": [
             {
              "depth": 5,
              "iterations": 300,
              "l2_leaf_reg": 10,
              "learning_rate": 0.1,
              "task_type": "GPU"
             }
            ],
            "passed_time": 1267.800151,
            "remaining_time": 3110.214758,
            "test": [
             1.337235515
            ]
           },
           {
            "iteration": 139,
            "learn": [
             0.894445123
            ],
            "parameters": [
             {
              "depth": 5,
              "iterations": 300,
              "l2_leaf_reg": 10,
              "learning_rate": 0.3,
              "task_type": "GPU"
             }
            ],
            "passed_time": 1277.945464,
            "remaining_time": 3103.581842,
            "test": [
             1.318201806
            ]
           },
           {
            "iteration": 140,
            "learn": [
             0.9226370591
            ],
            "parameters": [
             {
              "depth": 5,
              "iterations": 1000,
              "l2_leaf_reg": 0,
              "learning_rate": 0.01,
              "task_type": "GPU"
             }
            ],
            "passed_time": 1309.890144,
            "remaining_time": 3149.310347,
            "test": [
             1.346451695
            ]
           },
           {
            "iteration": 141,
            "learn": [
             0.9138117305
            ],
            "parameters": [
             {
              "depth": 5,
              "iterations": 1000,
              "l2_leaf_reg": 0,
              "learning_rate": 0.03,
              "task_type": "GPU"
             }
            ],
            "passed_time": 1341.292841,
            "remaining_time": 3192.65479,
            "test": [
             1.33883615
            ]
           },
           {
            "iteration": 142,
            "learn": [
             0.8884242376
            ],
            "parameters": [
             {
              "depth": 5,
              "iterations": 1000,
              "l2_leaf_reg": 0,
              "learning_rate": 0.1,
              "task_type": "GPU"
             }
            ],
            "passed_time": 1372.728313,
            "remaining_time": 3235.03106,
            "test": [
             1.305377728
            ]
           },
           {
            "iteration": 143,
            "learn": [
             0.8771262424
            ],
            "parameters": [
             {
              "depth": 5,
              "iterations": 1000,
              "l2_leaf_reg": 0,
              "learning_rate": 0.3,
              "task_type": "GPU"
             }
            ],
            "passed_time": 1404.078002,
            "remaining_time": 3276.182004,
            "test": [
             1.300596735
            ]
           },
           {
            "iteration": 144,
            "learn": [
             0.9218768936
            ],
            "parameters": [
             {
              "depth": 5,
              "iterations": 1000,
              "l2_leaf_reg": 0.3,
              "learning_rate": 0.01,
              "task_type": "GPU"
             }
            ],
            "passed_time": 1436.030973,
            "remaining_time": 3317.726731,
            "test": [
             1.346176641
            ]
           },
           {
            "iteration": 145,
            "learn": [
             0.9089949317
            ],
            "parameters": [
             {
              "depth": 5,
              "iterations": 1000,
              "l2_leaf_reg": 0.3,
              "learning_rate": 0.03,
              "task_type": "GPU"
             }
            ],
            "passed_time": 1467.862296,
            "remaining_time": 3357.986349,
            "test": [
             1.330137299
            ]
           },
           {
            "iteration": 146,
            "learn": [
             0.8886549319
            ],
            "parameters": [
             {
              "depth": 5,
              "iterations": 1000,
              "l2_leaf_reg": 0.3,
              "learning_rate": 0.1,
              "task_type": "GPU"
             }
            ],
            "passed_time": 1499.575821,
            "remaining_time": 3396.998288,
            "test": [
             1.313650291
            ]
           },
           {
            "iteration": 147,
            "learn": [
             0.8755455005
            ],
            "parameters": [
             {
              "depth": 5,
              "iterations": 1000,
              "l2_leaf_reg": 0.3,
              "learning_rate": 0.3,
              "task_type": "GPU"
             }
            ],
            "passed_time": 1531.320589,
            "remaining_time": 3435.124565,
            "test": [
             1.305145697
            ]
           },
           {
            "iteration": 148,
            "learn": [
             0.9217500251
            ],
            "parameters": [
             {
              "depth": 5,
              "iterations": 1000,
              "l2_leaf_reg": 1,
              "learning_rate": 0.01,
              "task_type": "GPU"
             }
            ],
            "passed_time": 1563.490316,
            "remaining_time": 3473.25701,
            "test": [
             1.345884374
            ]
           },
           {
            "iteration": 149,
            "learn": [
             0.9186453577
            ],
            "parameters": [
             {
              "depth": 5,
              "iterations": 1000,
              "l2_leaf_reg": 1,
              "learning_rate": 0.03,
              "task_type": "GPU"
             }
            ],
            "passed_time": 1594.941117,
            "remaining_time": 3508.870458,
            "test": [
             1.342888411
            ]
           },
           {
            "iteration": 150,
            "learn": [
             0.8880168559
            ],
            "parameters": [
             {
              "depth": 5,
              "iterations": 1000,
              "l2_leaf_reg": 1,
              "learning_rate": 0.1,
              "task_type": "GPU"
             }
            ],
            "passed_time": 1627.194395,
            "remaining_time": 3545.344079,
            "test": [
             1.312204039
            ]
           },
           {
            "iteration": 151,
            "learn": [
             0.8742257833
            ],
            "parameters": [
             {
              "depth": 5,
              "iterations": 1000,
              "l2_leaf_reg": 1,
              "learning_rate": 0.3,
              "task_type": "GPU"
             }
            ],
            "passed_time": 1659.333577,
            "remaining_time": 3580.667192,
            "test": [
             1.298870266
            ]
           },
           {
            "iteration": 152,
            "learn": [
             0.9224259932
            ],
            "parameters": [
             {
              "depth": 5,
              "iterations": 1000,
              "l2_leaf_reg": 3,
              "learning_rate": 0.01,
              "task_type": "GPU"
             }
            ],
            "passed_time": 1691.393804,
            "remaining_time": 3614.939699,
            "test": [
             1.346825379
            ]
           },
           {
            "iteration": 153,
            "learn": [
             0.9137859741
            ],
            "parameters": [
             {
              "depth": 5,
              "iterations": 1000,
              "l2_leaf_reg": 3,
              "learning_rate": 0.03,
              "task_type": "GPU"
             }
            ],
            "passed_time": 1723.024001,
            "remaining_time": 3647.440417,
            "test": [
             1.339401619
            ]
           },
           {
            "iteration": 154,
            "learn": [
             0.8960156413
            ],
            "parameters": [
             {
              "depth": 5,
              "iterations": 1000,
              "l2_leaf_reg": 3,
              "learning_rate": 0.1,
              "task_type": "GPU"
             }
            ],
            "passed_time": 1754.705502,
            "remaining_time": 3679.221213,
            "test": [
             1.31716301
            ]
           },
           {
            "iteration": 155,
            "learn": [
             0.8777022376
            ],
            "parameters": [
             {
              "depth": 5,
              "iterations": 1000,
              "l2_leaf_reg": 3,
              "learning_rate": 0.3,
              "task_type": "GPU"
             }
            ],
            "passed_time": 1786.53742,
            "remaining_time": 3710.500796,
            "test": [
             1.313309096
            ]
           },
           {
            "iteration": 156,
            "learn": [
             0.9214173975
            ],
            "parameters": [
             {
              "depth": 5,
              "iterations": 1000,
              "l2_leaf_reg": 10,
              "learning_rate": 0.01,
              "task_type": "GPU"
             }
            ],
            "passed_time": 1818.648115,
            "remaining_time": 3741.549944,
            "test": [
             1.346302611
            ]
           },
           {
            "iteration": 157,
            "learn": [
             0.9100813633
            ],
            "parameters": [
             {
              "depth": 5,
              "iterations": 1000,
              "l2_leaf_reg": 10,
              "learning_rate": 0.03,
              "task_type": "GPU"
             }
            ],
            "passed_time": 1850.029801,
            "remaining_time": 3770.313899,
            "test": [
             1.338178541
            ]
           },
           {
            "iteration": 158,
            "learn": [
             0.8963022934
            ],
            "parameters": [
             {
              "depth": 5,
              "iterations": 1000,
              "l2_leaf_reg": 10,
              "learning_rate": 0.1,
              "task_type": "GPU"
             }
            ],
            "passed_time": 1881.934964,
            "remaining_time": 3799.378136,
            "test": [
             1.318536346
            ]
           },
           {
            "iteration": 159,
            "learn": [
             0.8717370886
            ],
            "parameters": [
             {
              "depth": 5,
              "iterations": 1000,
              "l2_leaf_reg": 10,
              "learning_rate": 0.3,
              "task_type": "GPU"
             }
            ],
            "passed_time": 1913.63925,
            "remaining_time": 3827.278499,
            "test": [
             1.299657875
            ]
           },
           {
            "iteration": 160,
            "learn": [
             1.124908162
            ],
            "parameters": [
             {
              "depth": 6,
              "iterations": 30,
              "l2_leaf_reg": 0,
              "learning_rate": 0.01,
              "task_type": "GPU"
             }
            ],
            "passed_time": 1915.581474,
            "remaining_time": 3795.468884,
            "test": [
             1.454299072
            ]
           },
           {
            "iteration": 161,
            "learn": [
             1.045227048
            ],
            "parameters": [
             {
              "depth": 6,
              "iterations": 30,
              "l2_leaf_reg": 0,
              "learning_rate": 0.03,
              "task_type": "GPU"
             }
            ],
            "passed_time": 1917.518485,
            "remaining_time": 3764.017767,
            "test": [
             1.409940409
            ]
           },
           {
            "iteration": 162,
            "learn": [
             0.9513574401
            ],
            "parameters": [
             {
              "depth": 6,
              "iterations": 30,
              "l2_leaf_reg": 0,
              "learning_rate": 0.1,
              "task_type": "GPU"
             }
            ],
            "passed_time": 1919.472646,
            "remaining_time": 3732.962139,
            "test": [
             1.363741323
            ]
           },
           {
            "iteration": 163,
            "learn": [
             0.9184733632
            ],
            "parameters": [
             {
              "depth": 6,
              "iterations": 30,
              "l2_leaf_reg": 0,
              "learning_rate": 0.3,
              "task_type": "GPU"
             }
            ],
            "passed_time": 1921.38769,
            "remaining_time": 3702.186036,
            "test": [
             1.346968044
            ]
           },
           {
            "iteration": 164,
            "learn": [
             1.118696968
            ],
            "parameters": [
             {
              "depth": 6,
              "iterations": 30,
              "l2_leaf_reg": 0.3,
              "learning_rate": 0.01,
              "task_type": "GPU"
             }
            ],
            "passed_time": 1923.335859,
            "remaining_time": 3671.823004,
            "test": [
             1.451440006
            ]
           },
           {
            "iteration": 165,
            "learn": [
             1.048734325
            ],
            "parameters": [
             {
              "depth": 6,
              "iterations": 30,
              "l2_leaf_reg": 0.3,
              "learning_rate": 0.03,
              "task_type": "GPU"
             }
            ],
            "passed_time": 1925.248804,
            "remaining_time": 3641.73569,
            "test": [
             1.4104993
            ]
           },
           {
            "iteration": 166,
            "learn": [
             0.9625528468
            ],
            "parameters": [
             {
              "depth": 6,
              "iterations": 30,
              "l2_leaf_reg": 0.3,
              "learning_rate": 0.1,
              "task_type": "GPU"
             }
            ],
            "passed_time": 1927.156022,
            "remaining_time": 3611.975059,
            "test": [
             1.368803127
            ]
           },
           {
            "iteration": 167,
            "learn": [
             0.9186065992
            ],
            "parameters": [
             {
              "depth": 6,
              "iterations": 30,
              "l2_leaf_reg": 0.3,
              "learning_rate": 0.3,
              "task_type": "GPU"
             }
            ],
            "passed_time": 1929.031845,
            "remaining_time": 3582.487711,
            "test": [
             1.333866964
            ]
           },
           {
            "iteration": 168,
            "learn": [
             1.125054867
            ],
            "parameters": [
             {
              "depth": 6,
              "iterations": 30,
              "l2_leaf_reg": 1,
              "learning_rate": 0.01,
              "task_type": "GPU"
             }
            ],
            "passed_time": 1930.968172,
            "remaining_time": 3553.438471,
            "test": [
             1.454419269
            ]
           },
           {
            "iteration": 169,
            "learn": [
             1.047592654
            ],
            "parameters": [
             {
              "depth": 6,
              "iterations": 30,
              "l2_leaf_reg": 1,
              "learning_rate": 0.03,
              "task_type": "GPU"
             }
            ],
            "passed_time": 1932.897446,
            "remaining_time": 3524.695343,
            "test": [
             1.410836913
            ]
           },
           {
            "iteration": 170,
            "learn": [
             0.956539392
            ],
            "parameters": [
             {
              "depth": 6,
              "iterations": 30,
              "l2_leaf_reg": 1,
              "learning_rate": 0.1,
              "task_type": "GPU"
             }
            ],
            "passed_time": 1934.818124,
            "remaining_time": 3496.250295,
            "test": [
             1.364139685
            ]
           },
           {
            "iteration": 171,
            "learn": [
             0.933706856
            ],
            "parameters": [
             {
              "depth": 6,
              "iterations": 30,
              "l2_leaf_reg": 1,
              "learning_rate": 0.3,
              "task_type": "GPU"
             }
            ],
            "passed_time": 1936.737637,
            "remaining_time": 3468.111583,
            "test": [
             1.357434306
            ]
           },
           {
            "iteration": 172,
            "learn": [
             1.117456926
            ],
            "parameters": [
             {
              "depth": 6,
              "iterations": 30,
              "l2_leaf_reg": 3,
              "learning_rate": 0.01,
              "task_type": "GPU"
             }
            ],
            "passed_time": 1938.727253,
            "remaining_time": 3440.400385,
            "test": [
             1.451209404
            ]
           },
           {
            "iteration": 173,
            "learn": [
             1.046836387
            ],
            "parameters": [
             {
              "depth": 6,
              "iterations": 30,
              "l2_leaf_reg": 3,
              "learning_rate": 0.03,
              "task_type": "GPU"
             }
            ],
            "passed_time": 1940.673699,
            "remaining_time": 3412.908919,
            "test": [
             1.410875203
            ]
           },
           {
            "iteration": 174,
            "learn": [
             0.9622458618
            ],
            "parameters": [
             {
              "depth": 6,
              "iterations": 30,
              "l2_leaf_reg": 3,
              "learning_rate": 0.1,
              "task_type": "GPU"
             }
            ],
            "passed_time": 1942.585973,
            "remaining_time": 3385.649839,
            "test": [
             1.368019086
            ]
           },
           {
            "iteration": 175,
            "learn": [
             0.9191540147
            ],
            "parameters": [
             {
              "depth": 6,
              "iterations": 30,
              "l2_leaf_reg": 3,
              "learning_rate": 0.3,
              "task_type": "GPU"
             }
            ],
            "passed_time": 1944.499826,
            "remaining_time": 3358.681517,
            "test": [
             1.33200128
            ]
           },
           {
            "iteration": 176,
            "learn": [
             1.117666733
            ],
            "parameters": [
             {
              "depth": 6,
              "iterations": 30,
              "l2_leaf_reg": 10,
              "learning_rate": 0.01,
              "task_type": "GPU"
             }
            ],
            "passed_time": 1946.420564,
            "remaining_time": 3332.008084,
            "test": [
             1.451099382
            ]
           },
           {
            "iteration": 177,
            "learn": [
             1.045661717
            ],
            "parameters": [
             {
              "depth": 6,
              "iterations": 30,
              "l2_leaf_reg": 10,
              "learning_rate": 0.03,
              "task_type": "GPU"
             }
            ],
            "passed_time": 1948.358488,
            "remaining_time": 3305.641929,
            "test": [
             1.410939929
            ]
           },
           {
            "iteration": 178,
            "learn": [
             0.9559622317
            ],
            "parameters": [
             {
              "depth": 6,
              "iterations": 30,
              "l2_leaf_reg": 10,
              "learning_rate": 0.1,
              "task_type": "GPU"
             }
            ],
            "passed_time": 1950.289245,
            "remaining_time": 3279.536663,
            "test": [
             1.364430952
            ]
           },
           {
            "iteration": 179,
            "learn": [
             0.9188599359
            ],
            "parameters": [
             {
              "depth": 6,
              "iterations": 30,
              "l2_leaf_reg": 10,
              "learning_rate": 0.3,
              "task_type": "GPU"
             }
            ],
            "passed_time": 1952.242052,
            "remaining_time": 3253.736754,
            "test": [
             1.343945887
            ]
           },
           {
            "iteration": 180,
            "learn": [
             1.043687363
            ],
            "parameters": [
             {
              "depth": 6,
              "iterations": 100,
              "l2_leaf_reg": 0,
              "learning_rate": 0.01,
              "task_type": "GPU"
             }
            ],
            "passed_time": 1956.760933,
            "remaining_time": 3232.439331,
            "test": [
             1.409043557
            ]
           },
           {
            "iteration": 181,
            "learn": [
             0.964941217
            ],
            "parameters": [
             {
              "depth": 6,
              "iterations": 100,
              "l2_leaf_reg": 0,
              "learning_rate": 0.03,
              "task_type": "GPU"
             }
            ],
            "passed_time": 1961.115945,
            "remaining_time": 3211.057975,
            "test": [
             1.369307615
            ]
           },
           {
            "iteration": 182,
            "learn": [
             0.9155705059
            ],
            "parameters": [
             {
              "depth": 6,
              "iterations": 100,
              "l2_leaf_reg": 0,
              "learning_rate": 0.1,
              "task_type": "GPU"
             }
            ],
            "passed_time": 1965.547035,
            "remaining_time": 3189.986172,
            "test": [
             1.340721004
            ]
           },
           {
            "iteration": 183,
            "learn": [
             0.8964610873
            ],
            "parameters": [
             {
              "depth": 6,
              "iterations": 100,
              "l2_leaf_reg": 0,
              "learning_rate": 0.3,
              "task_type": "GPU"
             }
            ],
            "passed_time": 1969.88814,
            "remaining_time": 3168.950486,
            "test": [
             1.31356868
            ]
           },
           {
            "iteration": 184,
            "learn": [
             1.038081582
            ],
            "parameters": [
             {
              "depth": 6,
              "iterations": 100,
              "l2_leaf_reg": 0.3,
              "learning_rate": 0.01,
              "task_type": "GPU"
             }
            ],
            "passed_time": 1974.240561,
            "remaining_time": 3148.113327,
            "test": [
             1.406390878
            ]
           },
           {
            "iteration": 185,
            "learn": [
             0.9677702976
            ],
            "parameters": [
             {
              "depth": 6,
              "iterations": 100,
              "l2_leaf_reg": 0.3,
              "learning_rate": 0.03,
              "task_type": "GPU"
             }
            ],
            "passed_time": 1978.658897,
            "remaining_time": 3127.557612,
            "test": [
             1.368147779
            ]
           },
           {
            "iteration": 186,
            "learn": [
             0.9205335584
            ],
            "parameters": [
             {
              "depth": 6,
              "iterations": 100,
              "l2_leaf_reg": 0.3,
              "learning_rate": 0.1,
              "task_type": "GPU"
             }
            ],
            "passed_time": 1982.967812,
            "remaining_time": 3107.003042,
            "test": [
             1.345098082
            ]
           },
           {
            "iteration": 187,
            "learn": [
             0.9070656062
            ],
            "parameters": [
             {
              "depth": 6,
              "iterations": 100,
              "l2_leaf_reg": 0.3,
              "learning_rate": 0.3,
              "task_type": "GPU"
             }
            ],
            "passed_time": 1987.177364,
            "remaining_time": 3086.46697,
            "test": [
             1.328598854
            ]
           },
           {
            "iteration": 188,
            "learn": [
             1.041596267
            ],
            "parameters": [
             {
              "depth": 6,
              "iterations": 100,
              "l2_leaf_reg": 1,
              "learning_rate": 0.01,
              "task_type": "GPU"
             }
            ],
            "passed_time": 1991.638899,
            "remaining_time": 3066.491639,
            "test": [
             1.407536794
            ]
           },
           {
            "iteration": 189,
            "learn": [
             0.9640472335
            ],
            "parameters": [
             {
              "depth": 6,
              "iterations": 100,
              "l2_leaf_reg": 1,
              "learning_rate": 0.03,
              "task_type": "GPU"
             }
            ],
            "passed_time": 1996.064854,
            "remaining_time": 3046.625303,
            "test": [
             1.368370616
            ]
           },
           {
            "iteration": 190,
            "learn": [
             0.9092939246
            ],
            "parameters": [
             {
              "depth": 6,
              "iterations": 100,
              "l2_leaf_reg": 1,
              "learning_rate": 0.1,
              "task_type": "GPU"
             }
            ],
            "passed_time": 2000.466661,
            "remaining_time": 3026.88411,
            "test": [
             1.32407941
            ]
           },
           {
            "iteration": 191,
            "learn": [
             0.9054399089
            ],
            "parameters": [
             {
              "depth": 6,
              "iterations": 100,
              "l2_leaf_reg": 1,
              "learning_rate": 0.3,
              "task_type": "GPU"
             }
            ],
            "passed_time": 2004.887121,
            "remaining_time": 3007.330681,
            "test": [
             1.322777591
            ]
           },
           {
            "iteration": 192,
            "learn": [
             1.041972635
            ],
            "parameters": [
             {
              "depth": 6,
              "iterations": 100,
              "l2_leaf_reg": 3,
              "learning_rate": 0.01,
              "task_type": "GPU"
             }
            ],
            "passed_time": 2009.388559,
            "remaining_time": 2988.05449,
            "test": [
             1.407643169
            ]
           },
           {
            "iteration": 193,
            "learn": [
             0.9703843588
            ],
            "parameters": [
             {
              "depth": 6,
              "iterations": 100,
              "l2_leaf_reg": 3,
              "learning_rate": 0.03,
              "task_type": "GPU"
             }
            ],
            "passed_time": 2013.776843,
            "remaining_time": 2968.7638,
            "test": [
             1.3701109
            ]
           },
           {
            "iteration": 194,
            "learn": [
             0.9201850766
            ],
            "parameters": [
             {
              "depth": 6,
              "iterations": 100,
              "l2_leaf_reg": 3,
              "learning_rate": 0.1,
              "task_type": "GPU"
             }
            ],
            "passed_time": 2018.126996,
            "remaining_time": 2949.570225,
            "test": [
             1.342351733
            ]
           },
           {
            "iteration": 195,
            "learn": [
             0.9022048292
            ],
            "parameters": [
             {
              "depth": 6,
              "iterations": 100,
              "l2_leaf_reg": 3,
              "learning_rate": 0.3,
              "task_type": "GPU"
             }
            ],
            "passed_time": 2022.453038,
            "remaining_time": 2930.493178,
            "test": [
             1.317419375
            ]
           },
           {
            "iteration": 196,
            "learn": [
             1.03740012
            ],
            "parameters": [
             {
              "depth": 6,
              "iterations": 100,
              "l2_leaf_reg": 10,
              "learning_rate": 0.01,
              "task_type": "GPU"
             }
            ],
            "passed_time": 2026.850002,
            "remaining_time": 2911.66777,
            "test": [
             1.406150585
            ]
           },
           {
            "iteration": 197,
            "learn": [
             0.9622930424
            ],
            "parameters": [
             {
              "depth": 6,
              "iterations": 100,
              "l2_leaf_reg": 10,
              "learning_rate": 0.03,
              "task_type": "GPU"
             }
            ],
            "passed_time": 2031.270098,
            "remaining_time": 2893.021048,
            "test": [
             1.36866854
            ]
           },
           {
            "iteration": 198,
            "learn": [
             0.9163865589
            ],
            "parameters": [
             {
              "depth": 6,
              "iterations": 100,
              "l2_leaf_reg": 10,
              "learning_rate": 0.1,
              "task_type": "GPU"
             }
            ],
            "passed_time": 2035.643684,
            "remaining_time": 2874.451635,
            "test": [
             1.337636068
            ]
           },
           {
            "iteration": 199,
            "learn": [
             0.8994419727
            ],
            "parameters": [
             {
              "depth": 6,
              "iterations": 100,
              "l2_leaf_reg": 10,
              "learning_rate": 0.3,
              "task_type": "GPU"
             }
            ],
            "passed_time": 2039.870944,
            "remaining_time": 2855.819322,
            "test": [
             1.317669981
            ]
           },
           {
            "iteration": 200,
            "learn": [
             0.9603448253
            ],
            "parameters": [
             {
              "depth": 6,
              "iterations": 300,
              "l2_leaf_reg": 0,
              "learning_rate": 0.01,
              "task_type": "GPU"
             }
            ],
            "passed_time": 2051.355033,
            "remaining_time": 2847.403255,
            "test": [
             1.366256635
            ]
           },
           {
            "iteration": 201,
            "learn": [
             0.9179040844
            ],
            "parameters": [
             {
              "depth": 6,
              "iterations": 300,
              "l2_leaf_reg": 0,
              "learning_rate": 0.03,
              "task_type": "GPU"
             }
            ],
            "passed_time": 2062.732285,
            "remaining_time": 2838.809779,
            "test": [
             1.33895688
            ]
           },
           {
            "iteration": 202,
            "learn": [
             0.9020850975
            ],
            "parameters": [
             {
              "depth": 6,
              "iterations": 300,
              "l2_leaf_reg": 0,
              "learning_rate": 0.1,
              "task_type": "GPU"
             }
            ],
            "passed_time": 2073.896358,
            "remaining_time": 2829.897986,
            "test": [
             1.322470039
            ]
           },
           {
            "iteration": 203,
            "learn": [
             0.8792600884
            ],
            "parameters": [
             {
              "depth": 6,
              "iterations": 300,
              "l2_leaf_reg": 0,
              "learning_rate": 0.3,
              "task_type": "GPU"
             }
            ],
            "passed_time": 2085.085425,
            "remaining_time": 2820.997928,
            "test": [
             1.306809986
            ]
           },
           {
            "iteration": 204,
            "learn": [
             0.9615034272
            ],
            "parameters": [
             {
              "depth": 6,
              "iterations": 300,
              "l2_leaf_reg": 0.3,
              "learning_rate": 0.01,
              "task_type": "GPU"
             }
            ],
            "passed_time": 2096.541475,
            "remaining_time": 2812.433687,
            "test": [
             1.367803143
            ]
           },
           {
            "iteration": 205,
            "learn": [
             0.9197816515
            ],
            "parameters": [
             {
              "depth": 6,
              "iterations": 300,
              "l2_leaf_reg": 0.3,
              "learning_rate": 0.03,
              "task_type": "GPU"
             }
            ],
            "passed_time": 2107.967961,
            "remaining_time": 2803.802045,
            "test": [
             1.340879124
            ]
           },
           {
            "iteration": 206,
            "learn": [
             0.9002377678
            ],
            "parameters": [
             {
              "depth": 6,
              "iterations": 300,
              "l2_leaf_reg": 0.3,
              "learning_rate": 0.1,
              "task_type": "GPU"
             }
            ],
            "passed_time": 2119.178029,
            "remaining_time": 2794.85798,
            "test": [
             1.319184895
            ]
           },
           {
            "iteration": 207,
            "learn": [
             0.8901836384
            ],
            "parameters": [
             {
              "depth": 6,
              "iterations": 300,
              "l2_leaf_reg": 0.3,
              "learning_rate": 0.3,
              "task_type": "GPU"
             }
            ],
            "passed_time": 2130.535666,
            "remaining_time": 2786.085101,
            "test": [
             1.310494496
            ]
           },
           {
            "iteration": 208,
            "learn": [
             0.9644823577
            ],
            "parameters": [
             {
              "depth": 6,
              "iterations": 300,
              "l2_leaf_reg": 1,
              "learning_rate": 0.01,
              "task_type": "GPU"
             }
            ],
            "passed_time": 2142.034802,
            "remaining_time": 2777.470964,
            "test": [
             1.369309141
            ]
           },
           {
            "iteration": 209,
            "learn": [
             0.9192938296
            ],
            "parameters": [
             {
              "depth": 6,
              "iterations": 300,
              "l2_leaf_reg": 1,
              "learning_rate": 0.03,
              "task_type": "GPU"
             }
            ],
            "passed_time": 2153.493014,
            "remaining_time": 2768.776733,
            "test": [
             1.342293585
            ]
           },
           {
            "iteration": 210,
            "learn": [
             0.8968767498
            ],
            "parameters": [
             {
              "depth": 6,
              "iterations": 300,
              "l2_leaf_reg": 1,
              "learning_rate": 0.1,
              "task_type": "GPU"
             }
            ],
            "passed_time": 2164.917945,
            "remaining_time": 2760.013873,
            "test": [
             1.313785186
            ]
           },
           {
            "iteration": 211,
            "learn": [
             0.8802478732
            ],
            "parameters": [
             {
              "depth": 6,
              "iterations": 300,
              "l2_leaf_reg": 1,
              "learning_rate": 0.3,
              "task_type": "GPU"
             }
            ],
            "passed_time": 2176.222253,
            "remaining_time": 2751.073414,
            "test": [
             1.295311934
            ]
           },
           {
            "iteration": 212,
            "learn": [
             0.9587626621
            ],
            "parameters": [
             {
              "depth": 6,
              "iterations": 300,
              "l2_leaf_reg": 3,
              "learning_rate": 0.01,
              "task_type": "GPU"
             }
            ],
            "passed_time": 2187.662357,
            "remaining_time": 2742.280983,
            "test": [
             1.366827043
            ]
           },
           {
            "iteration": 213,
            "learn": [
             0.9186692148
            ],
            "parameters": [
             {
              "depth": 6,
              "iterations": 300,
              "l2_leaf_reg": 3,
              "learning_rate": 0.03,
              "task_type": "GPU"
             }
            ],
            "passed_time": 2199.23149,
            "remaining_time": 2733.624189,
            "test": [
             1.342844526
            ]
           },
           {
            "iteration": 214,
            "learn": [
             0.9022380386
            ],
            "parameters": [
             {
              "depth": 6,
              "iterations": 300,
              "l2_leaf_reg": 3,
              "learning_rate": 0.1,
              "task_type": "GPU"
             }
            ],
            "passed_time": 2210.428367,
            "remaining_time": 2724.481476,
            "test": [
             1.327285762
            ]
           },
           {
            "iteration": 215,
            "learn": [
             0.8854291538
            ],
            "parameters": [
             {
              "depth": 6,
              "iterations": 300,
              "l2_leaf_reg": 3,
              "learning_rate": 0.3,
              "task_type": "GPU"
             }
            ],
            "passed_time": 2221.665934,
            "remaining_time": 2715.369475,
            "test": [
             1.312634759
            ]
           },
           {
            "iteration": 216,
            "learn": [
             0.9640550373
            ],
            "parameters": [
             {
              "depth": 6,
              "iterations": 300,
              "l2_leaf_reg": 10,
              "learning_rate": 0.01,
              "task_type": "GPU"
             }
            ],
            "passed_time": 2233.192884,
            "remaining_time": 2706.588611,
            "test": [
             1.368839997
            ]
           },
           {
            "iteration": 217,
            "learn": [
             0.9213754669
            ],
            "parameters": [
             {
              "depth": 6,
              "iterations": 300,
              "l2_leaf_reg": 10,
              "learning_rate": 0.03,
              "task_type": "GPU"
             }
            ],
            "passed_time": 2244.593582,
            "remaining_time": 2697.630819,
            "test": [
             1.342610993
            ]
           },
           {
            "iteration": 218,
            "learn": [
             0.8985555888
            ],
            "parameters": [
             {
              "depth": 6,
              "iterations": 300,
              "l2_leaf_reg": 10,
              "learning_rate": 0.1,
              "task_type": "GPU"
             }
            ],
            "passed_time": 2255.797293,
            "remaining_time": 2688.415952,
            "test": [
             1.315128561
            ]
           },
           {
            "iteration": 219,
            "learn": [
             0.8883930995
            ],
            "parameters": [
             {
              "depth": 6,
              "iterations": 300,
              "l2_leaf_reg": 10,
              "learning_rate": 0.3,
              "task_type": "GPU"
             }
            ],
            "passed_time": 2267.151995,
            "remaining_time": 2679.361449,
            "test": [
             1.303424933
            ]
           },
           {
            "iteration": 220,
            "learn": [
             0.9164961282
            ],
            "parameters": [
             {
              "depth": 6,
              "iterations": 1000,
              "l2_leaf_reg": 0,
              "learning_rate": 0.01,
              "task_type": "GPU"
             }
            ],
            "passed_time": 2302.785158,
            "remaining_time": 2698.739167,
            "test": [
             1.337613414
            ]
           },
           {
            "iteration": 221,
            "learn": [
             0.9045829091
            ],
            "parameters": [
             {
              "depth": 6,
              "iterations": 1000,
              "l2_leaf_reg": 0,
              "learning_rate": 0.03,
              "task_type": "GPU"
             }
            ],
            "passed_time": 2338.062192,
            "remaining_time": 2717.207412,
            "test": [
             1.327106575
            ]
           },
           {
            "iteration": 222,
            "learn": [
             0.8843812015
            ],
            "parameters": [
             {
              "depth": 6,
              "iterations": 1000,
              "l2_leaf_reg": 0,
              "learning_rate": 0.1,
              "task_type": "GPU"
             }
            ],
            "passed_time": 2373.819519,
            "remaining_time": 2735.747159,
            "test": [
             1.311780387
            ]
           },
           {
            "iteration": 223,
            "learn": [
             0.8574003225
            ],
            "parameters": [
             {
              "depth": 6,
              "iterations": 1000,
              "l2_leaf_reg": 0,
              "learning_rate": 0.3,
              "task_type": "GPU"
             }
            ],
            "passed_time": 2408.214912,
            "remaining_time": 2752.245614,
            "test": [
             1.294209393
            ]
           },
           {
            "iteration": 224,
            "learn": [
             0.9167416138
            ],
            "parameters": [
             {
              "depth": 6,
              "iterations": 1000,
              "l2_leaf_reg": 0.3,
              "learning_rate": 0.01,
              "task_type": "GPU"
             }
            ],
            "passed_time": 2444.107935,
            "remaining_time": 2769.988993,
            "test": [
             1.339002843
            ]
           },
           {
            "iteration": 225,
            "learn": [
             0.9004510466
            ],
            "parameters": [
             {
              "depth": 6,
              "iterations": 1000,
              "l2_leaf_reg": 0.3,
              "learning_rate": 0.03,
              "task_type": "GPU"
             }
            ],
            "passed_time": 2479.141199,
            "remaining_time": 2786.291436,
            "test": [
             1.321178695
            ]
           },
           {
            "iteration": 226,
            "learn": [
             0.8797141968
            ],
            "parameters": [
             {
              "depth": 6,
              "iterations": 1000,
              "l2_leaf_reg": 0.3,
              "learning_rate": 0.1,
              "task_type": "GPU"
             }
            ],
            "passed_time": 2515.18952,
            "remaining_time": 2803.272901,
            "test": [
             1.303629577
            ]
           },
           {
            "iteration": 227,
            "learn": [
             0.8669339896
            ],
            "parameters": [
             {
              "depth": 6,
              "iterations": 1000,
              "l2_leaf_reg": 0.3,
              "learning_rate": 0.3,
              "task_type": "GPU"
             }
            ],
            "passed_time": 2550.788604,
            "remaining_time": 2819.292668,
            "test": [
             1.307229494
            ]
           },
           {
            "iteration": 228,
            "learn": [
             0.91395282
            ],
            "parameters": [
             {
              "depth": 6,
              "iterations": 1000,
              "l2_leaf_reg": 1,
              "learning_rate": 0.01,
              "task_type": "GPU"
             }
            ],
            "passed_time": 2587.210655,
            "remaining_time": 2835.763643,
            "test": [
             1.336156932
            ]
           },
           {
            "iteration": 229,
            "learn": [
             0.9034679498
            ],
            "parameters": [
             {
              "depth": 6,
              "iterations": 1000,
              "l2_leaf_reg": 1,
              "learning_rate": 0.03,
              "task_type": "GPU"
             }
            ],
            "passed_time": 2622.668257,
            "remaining_time": 2850.726367,
            "test": [
             1.32618333
            ]
           },
           {
            "iteration": 230,
            "learn": [
             0.8806200499
            ],
            "parameters": [
             {
              "depth": 6,
              "iterations": 1000,
              "l2_leaf_reg": 1,
              "learning_rate": 0.1,
              "task_type": "GPU"
             }
            ],
            "passed_time": 2658.576304,
            "remaining_time": 2865.738094,
            "test": [
             1.309477235
            ]
           },
           {
            "iteration": 231,
            "learn": [
             0.87013692
            ],
            "parameters": [
             {
              "depth": 6,
              "iterations": 1000,
              "l2_leaf_reg": 1,
              "learning_rate": 0.3,
              "task_type": "GPU"
             }
            ],
            "passed_time": 2693.806328,
            "remaining_time": 2879.586075,
            "test": [
             1.29457467
            ]
           },
           {
            "iteration": 232,
            "learn": [
             0.9157444148
            ],
            "parameters": [
             {
              "depth": 6,
              "iterations": 1000,
              "l2_leaf_reg": 3,
              "learning_rate": 0.01,
              "task_type": "GPU"
             }
            ],
            "passed_time": 2729.905136,
            "remaining_time": 2893.933771,
            "test": [
             1.338184242
            ]
           },
           {
            "iteration": 233,
            "learn": [
             0.9022954209
            ],
            "parameters": [
             {
              "depth": 6,
              "iterations": 1000,
              "l2_leaf_reg": 3,
              "learning_rate": 0.03,
              "task_type": "GPU"
             }
            ],
            "passed_time": 2765.515197,
            "remaining_time": 2907.33649,
            "test": [
             1.324349427
            ]
           },
           {
            "iteration": 234,
            "learn": [
             0.8854777428
            ],
            "parameters": [
             {
              "depth": 6,
              "iterations": 1000,
              "l2_leaf_reg": 3,
              "learning_rate": 0.1,
              "task_type": "GPU"
             }
            ],
            "passed_time": 2801.169575,
            "remaining_time": 2920.36828,
            "test": [
             1.311272374
            ]
           },
           {
            "iteration": 235,
            "learn": [
             0.8661574488
            ],
            "parameters": [
             {
              "depth": 6,
              "iterations": 1000,
              "l2_leaf_reg": 3,
              "learning_rate": 0.3,
              "task_type": "GPU"
             }
            ],
            "passed_time": 2836.289072,
            "remaining_time": 2932.434464,
            "test": [
             1.294357454
            ]
           },
           {
            "iteration": 236,
            "learn": [
             0.9182187819
            ],
            "parameters": [
             {
              "depth": 6,
              "iterations": 1000,
              "l2_leaf_reg": 10,
              "learning_rate": 0.01,
              "task_type": "GPU"
             }
            ],
            "passed_time": 2872.174834,
            "remaining_time": 2944.888121,
            "test": [
             1.340605655
            ]
           },
           {
            "iteration": 237,
            "learn": [
             0.9055634374
            ],
            "parameters": [
             {
              "depth": 6,
              "iterations": 1000,
              "l2_leaf_reg": 10,
              "learning_rate": 0.03,
              "task_type": "GPU"
             }
            ],
            "passed_time": 2908.060462,
            "remaining_time": 2956.935428,
            "test": [
             1.327121534
            ]
           },
           {
            "iteration": 238,
            "learn": [
             0.8827896894
            ],
            "parameters": [
             {
              "depth": 6,
              "iterations": 1000,
              "l2_leaf_reg": 10,
              "learning_rate": 0.1,
              "task_type": "GPU"
             }
            ],
            "passed_time": 2943.936661,
            "remaining_time": 2968.572115,
            "test": [
             1.30837517
            ]
           },
           {
            "iteration": 239,
            "learn": [
             0.870936727
            ],
            "parameters": [
             {
              "depth": 6,
              "iterations": 1000,
              "l2_leaf_reg": 10,
              "learning_rate": 0.3,
              "task_type": "GPU"
             }
            ],
            "passed_time": 2978.756968,
            "remaining_time": 2978.756968,
            "test": [
             1.29565682
            ]
           },
           {
            "iteration": 240,
            "learn": [
             1.116236381
            ],
            "parameters": [
             {
              "depth": 8,
              "iterations": 30,
              "l2_leaf_reg": 0,
              "learning_rate": 0.01,
              "task_type": "GPU"
             }
            ],
            "passed_time": 2981.089531,
            "remaining_time": 2956.350199,
            "test": [
             1.450630399
            ]
           },
           {
            "iteration": 241,
            "learn": [
             1.035357838
            ],
            "parameters": [
             {
              "depth": 8,
              "iterations": 30,
              "l2_leaf_reg": 0,
              "learning_rate": 0.03,
              "task_type": "GPU"
             }
            ],
            "passed_time": 2983.479177,
            "remaining_time": 2934.165472,
            "test": [
             1.406007608
            ]
           },
           {
            "iteration": 242,
            "learn": [
             0.9433303269
            ],
            "parameters": [
             {
              "depth": 8,
              "iterations": 30,
              "l2_leaf_reg": 0,
              "learning_rate": 0.1,
              "task_type": "GPU"
             }
            ],
            "passed_time": 2985.834638,
            "remaining_time": 2912.110326,
            "test": [
             1.357291509
            ]
           },
           {
            "iteration": 243,
            "learn": [
             0.9009588999
            ],
            "parameters": [
             {
              "depth": 8,
              "iterations": 30,
              "l2_leaf_reg": 0,
              "learning_rate": 0.3,
              "task_type": "GPU"
             }
            ],
            "passed_time": 2988.05764,
            "remaining_time": 2890.088537,
            "test": [
             1.314738238
            ]
           },
           {
            "iteration": 244,
            "learn": [
             1.119018365
            ],
            "parameters": [
             {
              "depth": 8,
              "iterations": 30,
              "l2_leaf_reg": 0.3,
              "learning_rate": 0.01,
              "task_type": "GPU"
             }
            ],
            "passed_time": 2990.415356,
            "remaining_time": 2868.357586,
            "test": [
             1.451613203
            ]
           },
           {
            "iteration": 245,
            "learn": [
             1.035334172
            ],
            "parameters": [
             {
              "depth": 8,
              "iterations": 30,
              "l2_leaf_reg": 0.3,
              "learning_rate": 0.03,
              "task_type": "GPU"
             }
            ],
            "passed_time": 2992.810524,
            "remaining_time": 2846.819766,
            "test": [
             1.406557439
            ]
           },
           {
            "iteration": 246,
            "learn": [
             0.9474448363
            ],
            "parameters": [
             {
              "depth": 8,
              "iterations": 30,
              "l2_leaf_reg": 0.3,
              "learning_rate": 0.1,
              "task_type": "GPU"
             }
            ],
            "passed_time": 2995.182153,
            "remaining_time": 2825.414743,
            "test": [
             1.358104518
            ]
           },
           {
            "iteration": 247,
            "learn": [
             0.904070417
            ],
            "parameters": [
             {
              "depth": 8,
              "iterations": 30,
              "l2_leaf_reg": 0.3,
              "learning_rate": 0.3,
              "task_type": "GPU"
             }
            ],
            "passed_time": 2997.413408,
            "remaining_time": 2804.031897,
            "test": [
             1.32261778
            ]
           },
           {
            "iteration": 248,
            "learn": [
             1.114202576
            ],
            "parameters": [
             {
              "depth": 8,
              "iterations": 30,
              "l2_leaf_reg": 1,
              "learning_rate": 0.01,
              "task_type": "GPU"
             }
            ],
            "passed_time": 2999.78983,
            "remaining_time": 2782.937553,
            "test": [
             1.449667183
            ]
           },
           {
            "iteration": 249,
            "learn": [
             1.035591443
            ],
            "parameters": [
             {
              "depth": 8,
              "iterations": 30,
              "l2_leaf_reg": 1,
              "learning_rate": 0.03,
              "task_type": "GPU"
             }
            ],
            "passed_time": 3002.162212,
            "remaining_time": 2761.989235,
            "test": [
             1.406324976
            ]
           },
           {
            "iteration": 250,
            "learn": [
             0.9525924056
            ],
            "parameters": [
             {
              "depth": 8,
              "iterations": 30,
              "l2_leaf_reg": 1,
              "learning_rate": 0.1,
              "task_type": "GPU"
             }
            ],
            "passed_time": 3004.520598,
            "remaining_time": 2741.176163,
            "test": [
             1.358023193
            ]
           },
           {
            "iteration": 251,
            "learn": [
             0.9080172459
            ],
            "parameters": [
             {
              "depth": 8,
              "iterations": 30,
              "l2_leaf_reg": 1,
              "learning_rate": 0.3,
              "task_type": "GPU"
             }
            ],
            "passed_time": 3006.776094,
            "remaining_time": 2720.416466,
            "test": [
             1.331823747
            ]
           },
           {
            "iteration": 252,
            "learn": [
             1.117224773
            ],
            "parameters": [
             {
              "depth": 8,
              "iterations": 30,
              "l2_leaf_reg": 3,
              "learning_rate": 0.01,
              "task_type": "GPU"
             }
            ],
            "passed_time": 3009.213364,
            "remaining_time": 2699.966141,
            "test": [
             1.450907472
            ]
           },
           {
            "iteration": 253,
            "learn": [
             1.036317349
            ],
            "parameters": [
             {
              "depth": 8,
              "iterations": 30,
              "l2_leaf_reg": 3,
              "learning_rate": 0.03,
              "task_type": "GPU"
             }
            ],
            "passed_time": 3011.587222,
            "remaining_time": 2679.601229,
            "test": [
             1.407030344
            ]
           },
           {
            "iteration": 254,
            "learn": [
             0.9481494601
            ],
            "parameters": [
             {
              "depth": 8,
              "iterations": 30,
              "l2_leaf_reg": 3,
              "learning_rate": 0.1,
              "task_type": "GPU"
             }
            ],
            "passed_time": 3013.930313,
            "remaining_time": 2659.350276,
            "test": [
             1.358890205
            ]
           },
           {
            "iteration": 255,
            "learn": [
             0.9070367207
            ],
            "parameters": [
             {
              "depth": 8,
              "iterations": 30,
              "l2_leaf_reg": 3,
              "learning_rate": 0.3,
              "task_type": "GPU"
             }
            ],
            "passed_time": 3016.212344,
            "remaining_time": 2639.185801,
            "test": [
             1.322463797
            ]
           },
           {
            "iteration": 256,
            "learn": [
             1.117897626
            ],
            "parameters": [
             {
              "depth": 8,
              "iterations": 30,
              "l2_leaf_reg": 10,
              "learning_rate": 0.01,
              "task_type": "GPU"
             }
            ],
            "passed_time": 3018.579423,
            "remaining_time": 2619.234285,
            "test": [
             1.45127046
            ]
           },
           {
            "iteration": 257,
            "learn": [
             1.034963012
            ],
            "parameters": [
             {
              "depth": 8,
              "iterations": 30,
              "l2_leaf_reg": 10,
              "learning_rate": 0.03,
              "task_type": "GPU"
             }
            ],
            "passed_time": 3020.982641,
            "remaining_time": 2599.45018,
            "test": [
             1.405778919
            ]
           },
           {
            "iteration": 258,
            "learn": [
             0.9466909598
            ],
            "parameters": [
             {
              "depth": 8,
              "iterations": 30,
              "l2_leaf_reg": 10,
              "learning_rate": 0.1,
              "task_type": "GPU"
             }
            ],
            "passed_time": 3023.406532,
            "remaining_time": 2579.817929,
            "test": [
             1.358963635
            ]
           },
           {
            "iteration": 259,
            "learn": [
             0.9041757584
            ],
            "parameters": [
             {
              "depth": 8,
              "iterations": 30,
              "l2_leaf_reg": 10,
              "learning_rate": 0.3,
              "task_type": "GPU"
             }
            ],
            "passed_time": 3025.742996,
            "remaining_time": 2560.244073,
            "test": [
             1.327184205
            ]
           },
           {
            "iteration": 260,
            "learn": [
             1.029272259
            ],
            "parameters": [
             {
              "depth": 8,
              "iterations": 100,
              "l2_leaf_reg": 0,
              "learning_rate": 0.01,
              "task_type": "GPU"
             }
            ],
            "passed_time": 3031.651583,
            "remaining_time": 2543.799604,
            "test": [
             1.403326183
            ]
           },
           {
            "iteration": 261,
            "learn": [
             0.9550943602
            ],
            "parameters": [
             {
              "depth": 8,
              "iterations": 100,
              "l2_leaf_reg": 0,
              "learning_rate": 0.03,
              "task_type": "GPU"
             }
            ],
            "passed_time": 3037.489756,
            "remaining_time": 2527.376973,
            "test": [
             1.364571852
            ]
           },
           {
            "iteration": 262,
            "learn": [
             0.9089415072
            ],
            "parameters": [
             {
              "depth": 8,
              "iterations": 100,
              "l2_leaf_reg": 0,
              "learning_rate": 0.1,
              "task_type": "GPU"
             }
            ],
            "passed_time": 3042.971332,
            "remaining_time": 2510.740605,
            "test": [
             1.330986678
            ]
           },
           {
            "iteration": 263,
            "learn": [
             0.881272789
            ],
            "parameters": [
             {
              "depth": 8,
              "iterations": 100,
              "l2_leaf_reg": 0,
              "learning_rate": 0.3,
              "task_type": "GPU"
             }
            ],
            "passed_time": 3048.580265,
            "remaining_time": 2494.292944,
            "test": [
             1.307495919
            ]
           },
           {
            "iteration": 264,
            "learn": [
             1.03114958
            ],
            "parameters": [
             {
              "depth": 8,
              "iterations": 100,
              "l2_leaf_reg": 0.3,
              "learning_rate": 0.01,
              "task_type": "GPU"
             }
            ],
            "passed_time": 3054.493812,
            "remaining_time": 2478.174225,
            "test": [
             1.402217736
            ]
           },
           {
            "iteration": 265,
            "learn": [
             0.9543960134
            ],
            "parameters": [
             {
              "depth": 8,
              "iterations": 100,
              "l2_leaf_reg": 0.3,
              "learning_rate": 0.03,
              "task_type": "GPU"
             }
            ],
            "passed_time": 3060.334197,
            "remaining_time": 2462.073376,
            "test": [
             1.362425288
            ]
           },
           {
            "iteration": 266,
            "learn": [
             0.9072534399
            ],
            "parameters": [
             {
              "depth": 8,
              "iterations": 100,
              "l2_leaf_reg": 0.3,
              "learning_rate": 0.1,
              "task_type": "GPU"
             }
            ],
            "passed_time": 3065.960314,
            "remaining_time": 2445.878453,
            "test": [
             1.322254521
            ]
           },
           {
            "iteration": 267,
            "learn": [
             0.8812209742
            ],
            "parameters": [
             {
              "depth": 8,
              "iterations": 100,
              "l2_leaf_reg": 0.3,
              "learning_rate": 0.3,
              "task_type": "GPU"
             }
            ],
            "passed_time": 3071.606843,
            "remaining_time": 2429.778548,
            "test": [
             1.304734329
            ]
           },
           {
            "iteration": 268,
            "learn": [
             1.027599216
            ],
            "parameters": [
             {
              "depth": 8,
              "iterations": 100,
              "l2_leaf_reg": 1,
              "learning_rate": 0.01,
              "task_type": "GPU"
             }
            ],
            "passed_time": 3077.486737,
            "remaining_time": 2413.939411,
            "test": [
             1.401965697
            ]
           },
           {
            "iteration": 269,
            "learn": [
             0.952079362
            ],
            "parameters": [
             {
              "depth": 8,
              "iterations": 100,
              "l2_leaf_reg": 1,
              "learning_rate": 0.03,
              "task_type": "GPU"
             }
            ],
            "passed_time": 3083.302198,
            "remaining_time": 2398.123932,
            "test": [
             1.360607596
            ]
           },
           {
            "iteration": 270,
            "learn": [
             0.9033519423
            ],
            "parameters": [
             {
              "depth": 8,
              "iterations": 100,
              "l2_leaf_reg": 1,
              "learning_rate": 0.1,
              "task_type": "GPU"
             }
            ],
            "passed_time": 3089.04868,
            "remaining_time": 2382.329056,
            "test": [
             1.327434935
            ]
           },
           {
            "iteration": 271,
            "learn": [
             0.8856529006
            ],
            "parameters": [
             {
              "depth": 8,
              "iterations": 100,
              "l2_leaf_reg": 1,
              "learning_rate": 0.3,
              "task_type": "GPU"
             }
            ],
            "passed_time": 3094.640157,
            "remaining_time": 2366.489532,
            "test": [
             1.312611594
            ]
           },
           {
            "iteration": 272,
            "learn": [
             1.032725513
            ],
            "parameters": [
             {
              "depth": 8,
              "iterations": 100,
              "l2_leaf_reg": 3,
              "learning_rate": 0.01,
              "task_type": "GPU"
             }
            ],
            "passed_time": 3100.612183,
            "remaining_time": 2351.013634,
            "test": [
             1.404030676
            ]
           },
           {
            "iteration": 273,
            "learn": [
             0.9548547954
            ],
            "parameters": [
             {
              "depth": 8,
              "iterations": 100,
              "l2_leaf_reg": 3,
              "learning_rate": 0.03,
              "task_type": "GPU"
             }
            ],
            "passed_time": 3106.535425,
            "remaining_time": 2335.570429,
            "test": [
             1.364069827
            ]
           },
           {
            "iteration": 274,
            "learn": [
             0.9068802107
            ],
            "parameters": [
             {
              "depth": 8,
              "iterations": 100,
              "l2_leaf_reg": 3,
              "learning_rate": 0.1,
              "task_type": "GPU"
             }
            ],
            "passed_time": 3112.051152,
            "remaining_time": 2319.892677,
            "test": [
             1.329506039
            ]
           },
           {
            "iteration": 275,
            "learn": [
             0.8893660118
            ],
            "parameters": [
             {
              "depth": 8,
              "iterations": 100,
              "l2_leaf_reg": 3,
              "learning_rate": 0.3,
              "task_type": "GPU"
             }
            ],
            "passed_time": 3117.690595,
            "remaining_time": 2304.380005,
            "test": [
             1.314320411
            ]
           },
           {
            "iteration": 276,
            "learn": [
             1.032658936
            ],
            "parameters": [
             {
              "depth": 8,
              "iterations": 100,
              "l2_leaf_reg": 10,
              "learning_rate": 0.01,
              "task_type": "GPU"
             }
            ],
            "passed_time": 3123.516467,
            "remaining_time": 2289.075245,
            "test": [
             1.403694255
            ]
           },
           {
            "iteration": 277,
            "learn": [
             0.9516698589
            ],
            "parameters": [
             {
              "depth": 8,
              "iterations": 100,
              "l2_leaf_reg": 10,
              "learning_rate": 0.03,
              "task_type": "GPU"
             }
            ],
            "passed_time": 3129.338922,
            "remaining_time": 2273.836195,
            "test": [
             1.36190636
            ]
           },
           {
            "iteration": 278,
            "learn": [
             0.9095747551
            ],
            "parameters": [
             {
              "depth": 8,
              "iterations": 100,
              "l2_leaf_reg": 10,
              "learning_rate": 0.1,
              "task_type": "GPU"
             }
            ],
            "passed_time": 3135.021855,
            "remaining_time": 2258.564132,
            "test": [
             1.331667219
            ]
           },
           {
            "iteration": 279,
            "learn": [
             0.8888217929
            ],
            "parameters": [
             {
              "depth": 8,
              "iterations": 100,
              "l2_leaf_reg": 10,
              "learning_rate": 0.3,
              "task_type": "GPU"
             }
            ],
            "passed_time": 3140.683032,
            "remaining_time": 2243.345023,
            "test": [
             1.311791778
            ]
           },
           {
            "iteration": 280,
            "learn": [
             0.9559848023
            ],
            "parameters": [
             {
              "depth": 8,
              "iterations": 300,
              "l2_leaf_reg": 0,
              "learning_rate": 0.01,
              "task_type": "GPU"
             }
            ],
            "passed_time": 3156.241711,
            "remaining_time": 2235.203204,
            "test": [
             1.363697496
            ]
           },
           {
            "iteration": 281,
            "learn": [
             0.9082024668
            ],
            "parameters": [
             {
              "depth": 8,
              "iterations": 300,
              "l2_leaf_reg": 0,
              "learning_rate": 0.03,
              "task_type": "GPU"
             }
            ],
            "passed_time": 3171.847658,
            "remaining_time": 2227.041972,
            "test": [
             1.328749374
            ]
           },
           {
            "iteration": 282,
            "learn": [
             0.8910806367
            ],
            "parameters": [
             {
              "depth": 8,
              "iterations": 300,
              "l2_leaf_reg": 0,
              "learning_rate": 0.1,
              "task_type": "GPU"
             }
            ],
            "passed_time": 3186.111185,
            "remaining_time": 2217.893652,
            "test": [
             1.312229839
            ]
           },
           {
            "iteration": 283,
            "learn": [
             0.8662147183
            ],
            "parameters": [
             {
              "depth": 8,
              "iterations": 300,
              "l2_leaf_reg": 0,
              "learning_rate": 0.3,
              "task_type": "GPU"
             }
            ],
            "passed_time": 3200.711614,
            "remaining_time": 2208.941818,
            "test": [
             1.302863097
            ]
           },
           {
            "iteration": 284,
            "learn": [
             0.9534703899
            ],
            "parameters": [
             {
              "depth": 8,
              "iterations": 300,
              "l2_leaf_reg": 0.3,
              "learning_rate": 0.01,
              "task_type": "GPU"
             }
            ],
            "passed_time": 3216.487323,
            "remaining_time": 2200.754484,
            "test": [
             1.360991367
            ]
           },
           {
            "iteration": 285,
            "learn": [
             0.9081758898
            ],
            "parameters": [
             {
              "depth": 8,
              "iterations": 300,
              "l2_leaf_reg": 0.3,
              "learning_rate": 0.03,
              "task_type": "GPU"
             }
            ],
            "passed_time": 3232.129014,
            "remaining_time": 2192.423177,
            "test": [
             1.332798435
            ]
           },
           {
            "iteration": 286,
            "learn": [
             0.8803517329
            ],
            "parameters": [
             {
              "depth": 8,
              "iterations": 300,
              "l2_leaf_reg": 0.3,
              "learning_rate": 0.1,
              "task_type": "GPU"
             }
            ],
            "passed_time": 3247.082728,
            "remaining_time": 2183.578281,
            "test": [
             1.301849463
            ]
           },
           {
            "iteration": 287,
            "learn": [
             0.8623236305
            ],
            "parameters": [
             {
              "depth": 8,
              "iterations": 300,
              "l2_leaf_reg": 0.3,
              "learning_rate": 0.3,
              "task_type": "GPU"
             }
            ],
            "passed_time": 3261.612588,
            "remaining_time": 2174.408392,
            "test": [
             1.296852885
            ]
           },
           {
            "iteration": 288,
            "learn": [
             0.9512635297
            ],
            "parameters": [
             {
              "depth": 8,
              "iterations": 300,
              "l2_leaf_reg": 1,
              "learning_rate": 0.01,
              "task_type": "GPU"
             }
            ],
            "passed_time": 3277.479421,
            "remaining_time": 2166.085015,
            "test": [
             1.359848489
            ]
           },
           {
            "iteration": 289,
            "learn": [
             0.9094110125
            ],
            "parameters": [
             {
              "depth": 8,
              "iterations": 300,
              "l2_leaf_reg": 1,
              "learning_rate": 0.03,
              "task_type": "GPU"
             }
            ],
            "passed_time": 3292.792707,
            "remaining_time": 2157.346946,
            "test": [
             1.332379802
            ]
           },
           {
            "iteration": 290,
            "learn": [
             0.8842317598
            ],
            "parameters": [
             {
              "depth": 8,
              "iterations": 300,
              "l2_leaf_reg": 1,
              "learning_rate": 0.1,
              "task_type": "GPU"
             }
            ],
            "passed_time": 3307.989124,
            "remaining_time": 2148.487781,
            "test": [
             1.311126661
            ]
           },
           {
            "iteration": 291,
            "learn": [
             0.8709050835
            ],
            "parameters": [
             {
              "depth": 8,
              "iterations": 300,
              "l2_leaf_reg": 1,
              "learning_rate": 0.3,
              "task_type": "GPU"
             }
            ],
            "passed_time": 3322.606438,
            "remaining_time": 2139.212364,
            "test": [
             1.30660464
            ]
           },
           {
            "iteration": 292,
            "learn": [
             0.9522635563
            ],
            "parameters": [
             {
              "depth": 8,
              "iterations": 300,
              "l2_leaf_reg": 3,
              "learning_rate": 0.01,
              "task_type": "GPU"
             }
            ],
            "passed_time": 3338.350518,
            "remaining_time": 2130.619614,
            "test": [
             1.36200786
            ]
           },
           {
            "iteration": 293,
            "learn": [
             0.9062663524
            ],
            "parameters": [
             {
              "depth": 8,
              "iterations": 300,
              "l2_leaf_reg": 3,
              "learning_rate": 0.03,
              "task_type": "GPU"
             }
            ],
            "passed_time": 3353.902559,
            "remaining_time": 2121.856721,
            "test": [
             1.330322205
            ]
           },
           {
            "iteration": 294,
            "learn": [
             0.8915993649
            ],
            "parameters": [
             {
              "depth": 8,
              "iterations": 300,
              "l2_leaf_reg": 3,
              "learning_rate": 0.1,
              "task_type": "GPU"
             }
            ],
            "passed_time": 3368.418403,
            "remaining_time": 2112.397982,
            "test": [
             1.312256036
            ]
           },
           {
            "iteration": 295,
            "learn": [
             0.8700302496
            ],
            "parameters": [
             {
              "depth": 8,
              "iterations": 300,
              "l2_leaf_reg": 3,
              "learning_rate": 0.3,
              "task_type": "GPU"
             }
            ],
            "passed_time": 3383.41118,
            "remaining_time": 2103.201544,
            "test": [
             1.302747043
            ]
           },
           {
            "iteration": 296,
            "learn": [
             0.9516061755
            ],
            "parameters": [
             {
              "depth": 8,
              "iterations": 300,
              "l2_leaf_reg": 10,
              "learning_rate": 0.01,
              "task_type": "GPU"
             }
            ],
            "passed_time": 3399.158289,
            "remaining_time": 2094.430865,
            "test": [
             1.360291314
            ]
           },
           {
            "iteration": 297,
            "learn": [
             0.9109103635
            ],
            "parameters": [
             {
              "depth": 8,
              "iterations": 300,
              "l2_leaf_reg": 10,
              "learning_rate": 0.03,
              "task_type": "GPU"
             }
            ],
            "passed_time": 3414.635125,
            "remaining_time": 2085.448298,
            "test": [
             1.331582475
            ]
           },
           {
            "iteration": 298,
            "learn": [
             0.8873632783
            ],
            "parameters": [
             {
              "depth": 8,
              "iterations": 300,
              "l2_leaf_reg": 10,
              "learning_rate": 0.1,
              "task_type": "GPU"
             }
            ],
            "passed_time": 3430.122351,
            "remaining_time": 2076.42858,
            "test": [
             1.307323091
            ]
           },
           {
            "iteration": 299,
            "learn": [
             0.878085965
            ],
            "parameters": [
             {
              "depth": 8,
              "iterations": 300,
              "l2_leaf_reg": 10,
              "learning_rate": 0.3,
              "task_type": "GPU"
             }
            ],
            "passed_time": 3445.066502,
            "remaining_time": 2067.039901,
            "test": [
             1.29915622
            ]
           },
           {
            "iteration": 300,
            "learn": [
             0.9045436058
            ],
            "parameters": [
             {
              "depth": 8,
              "iterations": 1000,
              "l2_leaf_reg": 0,
              "learning_rate": 0.01,
              "task_type": "GPU"
             }
            ],
            "passed_time": 3494.0261,
            "remaining_time": 2077.842764,
            "test": [
             1.326381312
            ]
           },
           {
            "iteration": 301,
            "learn": [
             0.8879665231
            ],
            "parameters": [
             {
              "depth": 8,
              "iterations": 1000,
              "l2_leaf_reg": 0,
              "learning_rate": 0.03,
              "task_type": "GPU"
             }
            ],
            "passed_time": 3541.333014,
            "remaining_time": 2087.27575,
            "test": [
             1.309478112
            ]
           },
           {
            "iteration": 302,
            "learn": [
             0.8591339869
            ],
            "parameters": [
             {
              "depth": 8,
              "iterations": 1000,
              "l2_leaf_reg": 0,
              "learning_rate": 0.1,
              "task_type": "GPU"
             }
            ],
            "passed_time": 3588.006436,
            "remaining_time": 2095.964155,
            "test": [
             1.291495566
            ]
           },
           {
            "iteration": 303,
            "learn": [
             0.8392839936
            ],
            "parameters": [
             {
              "depth": 8,
              "iterations": 1000,
              "l2_leaf_reg": 0,
              "learning_rate": 0.3,
              "task_type": "GPU"
             }
            ],
            "passed_time": 3631.487291,
            "remaining_time": 2102.44001,
            "test": [
             1.287607391
            ]
           },
           {
            "iteration": 304,
            "learn": [
             0.9051070884
            ],
            "parameters": [
             {
              "depth": 8,
              "iterations": 1000,
              "l2_leaf_reg": 0.3,
              "learning_rate": 0.01,
              "task_type": "GPU"
             }
            ],
            "passed_time": 3680.40291,
            "remaining_time": 2111.706588,
            "test": [
             1.326854444
            ]
           },
           {
            "iteration": 305,
            "learn": [
             0.8895768758
            ],
            "parameters": [
             {
              "depth": 8,
              "iterations": 1000,
              "l2_leaf_reg": 0.3,
              "learning_rate": 0.03,
              "task_type": "GPU"
             }
            ],
            "passed_time": 3727.341245,
            "remaining_time": 2119.468551,
            "test": [
             1.30835796
            ]
           },
           {
            "iteration": 306,
            "learn": [
             0.8664844585
            ],
            "parameters": [
             {
              "depth": 8,
              "iterations": 1000,
              "l2_leaf_reg": 0.3,
              "learning_rate": 0.1,
              "task_type": "GPU"
             }
            ],
            "passed_time": 3775.913673,
            "remaining_time": 2127.795002,
            "test": [
             1.302592997
            ]
           },
           {
            "iteration": 307,
            "learn": [
             0.8487509939
            ],
            "parameters": [
             {
              "depth": 8,
              "iterations": 1000,
              "l2_leaf_reg": 0.3,
              "learning_rate": 0.3,
              "task_type": "GPU"
             }
            ],
            "passed_time": 3821.221427,
            "remaining_time": 2133.928849,
            "test": [
             1.287191635
            ]
           },
           {
            "iteration": 308,
            "learn": [
             0.9060681369
            ],
            "parameters": [
             {
              "depth": 8,
              "iterations": 1000,
              "l2_leaf_reg": 1,
              "learning_rate": 0.01,
              "task_type": "GPU"
             }
            ],
            "passed_time": 3871.299074,
            "remaining_time": 2142.36939,
            "test": [
             1.330104541
            ]
           },
           {
            "iteration": 309,
            "learn": [
             0.8835816204
            ],
            "parameters": [
             {
              "depth": 8,
              "iterations": 1000,
              "l2_leaf_reg": 1,
              "learning_rate": 0.03,
              "task_type": "GPU"
             }
            ],
            "passed_time": 3919.849335,
            "remaining_time": 2149.594796,
            "test": [
             1.308064352
            ]
           },
           {
            "iteration": 310,
            "learn": [
             0.8681907464
            ],
            "parameters": [
             {
              "depth": 8,
              "iterations": 1000,
              "l2_leaf_reg": 1,
              "learning_rate": 0.1,
              "task_type": "GPU"
             }
            ],
            "passed_time": 3967.217649,
            "remaining_time": 2155.819237,
            "test": [
             1.30268805
            ]
           },
           {
            "iteration": 311,
            "learn": [
             0.8500450519
            ],
            "parameters": [
             {
              "depth": 8,
              "iterations": 1000,
              "l2_leaf_reg": 1,
              "learning_rate": 0.3,
              "task_type": "GPU"
             }
            ],
            "passed_time": 4013.86764,
            "remaining_time": 2161.313344,
            "test": [
             1.284406198
            ]
           },
           {
            "iteration": 312,
            "learn": [
             0.9077217175
            ],
            "parameters": [
             {
              "depth": 8,
              "iterations": 1000,
              "l2_leaf_reg": 3,
              "learning_rate": 0.01,
              "task_type": "GPU"
             }
            ],
            "passed_time": 4063.031661,
            "remaining_time": 2167.815615,
            "test": [
             1.330835155
            ]
           },
           {
            "iteration": 313,
            "learn": [
             0.8856231103
            ],
            "parameters": [
             {
              "depth": 8,
              "iterations": 1000,
              "l2_leaf_reg": 3,
              "learning_rate": 0.03,
              "task_type": "GPU"
             }
            ],
            "passed_time": 4111.544308,
            "remaining_time": 2173.618965,
            "test": [
             1.308384035
            ]
           },
           {
            "iteration": 314,
            "learn": [
             0.8666802736
            ],
            "parameters": [
             {
              "depth": 8,
              "iterations": 1000,
              "l2_leaf_reg": 3,
              "learning_rate": 0.1,
              "task_type": "GPU"
             }
            ],
            "passed_time": 4159.439902,
            "remaining_time": 2178.754235,
            "test": [
             1.299694776
            ]
           },
           {
            "iteration": 315,
            "learn": [
             0.84391798
            ],
            "parameters": [
             {
              "depth": 8,
              "iterations": 1000,
              "l2_leaf_reg": 3,
              "learning_rate": 0.3,
              "task_type": "GPU"
             }
            ],
            "passed_time": 4206.533877,
            "remaining_time": 2183.137835,
            "test": [
             1.287665249
            ]
           },
           {
            "iteration": 316,
            "learn": [
             0.9115194895
            ],
            "parameters": [
             {
              "depth": 8,
              "iterations": 1000,
              "l2_leaf_reg": 10,
              "learning_rate": 0.01,
              "task_type": "GPU"
             }
            ],
            "passed_time": 4255.895544,
            "remaining_time": 2188.362693,
            "test": [
             1.335574207
            ]
           },
           {
            "iteration": 317,
            "learn": [
             0.8905984177
            ],
            "parameters": [
             {
              "depth": 8,
              "iterations": 1000,
              "l2_leaf_reg": 10,
              "learning_rate": 0.03,
              "task_type": "GPU"
             }
            ],
            "passed_time": 4303.668535,
            "remaining_time": 2192.434914,
            "test": [
             1.309506918
            ]
           },
           {
            "iteration": 318,
            "learn": [
             0.8653370443
            ],
            "parameters": [
             {
              "depth": 8,
              "iterations": 1000,
              "l2_leaf_reg": 10,
              "learning_rate": 0.1,
              "task_type": "GPU"
             }
            ],
            "passed_time": 4351.776617,
            "remaining_time": 2196.351208,
            "test": [
             1.296523428
            ]
           },
           {
            "iteration": 319,
            "learn": [
             0.8492726001
            ],
            "parameters": [
             {
              "depth": 8,
              "iterations": 1000,
              "l2_leaf_reg": 10,
              "learning_rate": 0.3,
              "task_type": "GPU"
             }
            ],
            "passed_time": 4398.579821,
            "remaining_time": 2199.28991,
            "test": [
             1.289779881
            ]
           },
           {
            "iteration": 320,
            "learn": [
             1.12082475
            ],
            "parameters": [
             {
              "depth": 10,
              "iterations": 30,
              "l2_leaf_reg": 0,
              "learning_rate": 0.01,
              "task_type": "GPU"
             }
            ],
            "passed_time": 4402.679937,
            "remaining_time": 2180.766698,
            "test": [
             1.451932548
            ]
           },
           {
            "iteration": 321,
            "learn": [
             1.043940673
            ],
            "parameters": [
             {
              "depth": 10,
              "iterations": 30,
              "l2_leaf_reg": 0,
              "learning_rate": 0.03,
              "task_type": "GPU"
             }
            ],
            "passed_time": 4406.581813,
            "remaining_time": 2162.235797,
            "test": [
             1.408386531
            ]
           },
           {
            "iteration": 322,
            "learn": [
             0.9609082619
            ],
            "parameters": [
             {
              "depth": 10,
              "iterations": 30,
              "l2_leaf_reg": 0,
              "learning_rate": 0.1,
              "task_type": "GPU"
             }
            ],
            "passed_time": 4409.914673,
            "remaining_time": 2143.518897,
            "test": [
             1.358773399
            ]
           },
           {
            "iteration": 323,
            "learn": [
             0.9057430459
            ],
            "parameters": [
             {
              "depth": 10,
              "iterations": 30,
              "l2_leaf_reg": 0,
              "learning_rate": 0.3,
              "task_type": "GPU"
             }
            ],
            "passed_time": 4413.274724,
            "remaining_time": 2124.910052,
            "test": [
             1.324071676
            ]
           },
           {
            "iteration": 324,
            "learn": [
             1.124772261
            ],
            "parameters": [
             {
              "depth": 10,
              "iterations": 30,
              "l2_leaf_reg": 0.3,
              "learning_rate": 0.01,
              "task_type": "GPU"
             }
            ],
            "passed_time": 4417.688661,
            "remaining_time": 2106.897669,
            "test": [
             1.454040395
            ]
           },
           {
            "iteration": 325,
            "learn": [
             1.052279711
            ],
            "parameters": [
             {
              "depth": 10,
              "iterations": 30,
              "l2_leaf_reg": 0.3,
              "learning_rate": 0.03,
              "task_type": "GPU"
             }
            ],
            "passed_time": 4421.174756,
            "remaining_time": 2088.530406,
            "test": [
             1.409816568
            ]
           },
           {
            "iteration": 326,
            "learn": [
             0.9421174913
            ],
            "parameters": [
             {
              "depth": 10,
              "iterations": 30,
              "l2_leaf_reg": 0.3,
              "learning_rate": 0.1,
              "task_type": "GPU"
             }
            ],
            "passed_time": 4424.530135,
            "remaining_time": 2070.192999,
            "test": [
             1.348723239
            ]
           },
           {
            "iteration": 327,
            "learn": [
             0.898232461
            ],
            "parameters": [
             {
              "depth": 10,
              "iterations": 30,
              "l2_leaf_reg": 0.3,
              "learning_rate": 0.3,
              "task_type": "GPU"
             }
            ],
            "passed_time": 4427.794765,
            "remaining_time": 2051.904891,
            "test": [
             1.30844365
            ]
           },
           {
            "iteration": 328,
            "learn": [
             1.122724695
            ],
            "parameters": [
             {
              "depth": 10,
              "iterations": 30,
              "l2_leaf_reg": 1,
              "learning_rate": 0.01,
              "task_type": "GPU"
             }
            ],
            "passed_time": 4431.298814,
            "remaining_time": 2033.817997,
            "test": [
             1.453242231
            ]
           },
           {
            "iteration": 329,
            "learn": [
             1.047774766
            ],
            "parameters": [
             {
              "depth": 10,
              "iterations": 30,
              "l2_leaf_reg": 1,
              "learning_rate": 0.03,
              "task_type": "GPU"
             }
            ],
            "passed_time": 4434.914164,
            "remaining_time": 2015.870075,
            "test": [
             1.409333921
            ]
           },
           {
            "iteration": 330,
            "learn": [
             0.94428697
            ],
            "parameters": [
             {
              "depth": 10,
              "iterations": 30,
              "l2_leaf_reg": 1,
              "learning_rate": 0.1,
              "task_type": "GPU"
             }
            ],
            "passed_time": 4438.537477,
            "remaining_time": 1998.012339,
            "test": [
             1.354610302
            ]
           },
           {
            "iteration": 331,
            "learn": [
             0.8901124452
            ],
            "parameters": [
             {
              "depth": 10,
              "iterations": 30,
              "l2_leaf_reg": 1,
              "learning_rate": 0.3,
              "task_type": "GPU"
             }
            ],
            "passed_time": 4442.000037,
            "remaining_time": 1980.168691,
            "test": [
             1.308686713
            ]
           },
           {
            "iteration": 332,
            "learn": [
             1.118544058
            ],
            "parameters": [
             {
              "depth": 10,
              "iterations": 30,
              "l2_leaf_reg": 3,
              "learning_rate": 0.01,
              "task_type": "GPU"
             }
            ],
            "passed_time": 4446.110192,
            "remaining_time": 1962.697292,
            "test": [
             1.45032568
            ]
           },
           {
            "iteration": 333,
            "learn": [
             1.055279782
            ],
            "parameters": [
             {
              "depth": 10,
              "iterations": 30,
              "l2_leaf_reg": 3,
              "learning_rate": 0.03,
              "task_type": "GPU"
             }
            ],
            "passed_time": 4449.593373,
            "remaining_time": 1945.031834,
            "test": [
             1.412064765
            ]
           },
           {
            "iteration": 334,
            "learn": [
             0.9664860763
            ],
            "parameters": [
             {
              "depth": 10,
              "iterations": 30,
              "l2_leaf_reg": 3,
              "learning_rate": 0.1,
              "task_type": "GPU"
             }
            ],
            "passed_time": 4453.246958,
            "remaining_time": 1927.524803,
            "test": [
             1.358977629
            ]
           },
           {
            "iteration": 335,
            "learn": [
             0.9071723562
            ],
            "parameters": [
             {
              "depth": 10,
              "iterations": 30,
              "l2_leaf_reg": 3,
              "learning_rate": 0.3,
              "task_type": "GPU"
             }
            ],
            "passed_time": 4456.259516,
            "remaining_time": 1909.825507,
            "test": [
             1.330058899
            ]
           },
           {
            "iteration": 336,
            "learn": [
             1.121751768
            ],
            "parameters": [
             {
              "depth": 10,
              "iterations": 30,
              "l2_leaf_reg": 10,
              "learning_rate": 0.01,
              "task_type": "GPU"
             }
            ],
            "passed_time": 4460.406297,
            "remaining_time": 1892.69466,
            "test": [
             1.45206683
            ]
           },
           {
            "iteration": 337,
            "learn": [
             1.053106634
            ],
            "parameters": [
             {
              "depth": 10,
              "iterations": 30,
              "l2_leaf_reg": 10,
              "learning_rate": 0.03,
              "task_type": "GPU"
             }
            ],
            "passed_time": 4463.889559,
            "remaining_time": 1875.361886,
            "test": [
             1.408841542
            ]
           },
           {
            "iteration": 338,
            "learn": [
             0.9499767922
            ],
            "parameters": [
             {
              "depth": 10,
              "iterations": 30,
              "l2_leaf_reg": 10,
              "learning_rate": 0.1,
              "task_type": "GPU"
             }
            ],
            "passed_time": 4467.562131,
            "remaining_time": 1858.189559,
            "test": [
             1.35562973
            ]
           },
           {
            "iteration": 339,
            "learn": [
             0.8935705918
            ],
            "parameters": [
             {
              "depth": 10,
              "iterations": 30,
              "l2_leaf_reg": 10,
              "learning_rate": 0.3,
              "task_type": "GPU"
             }
            ],
            "passed_time": 4470.877082,
            "remaining_time": 1840.949387,
            "test": [
             1.316827684
            ]
           },
           {
            "iteration": 340,
            "learn": [
             1.040712006
            ],
            "parameters": [
             {
              "depth": 10,
              "iterations": 100,
              "l2_leaf_reg": 0,
              "learning_rate": 0.01,
              "task_type": "GPU"
             }
            ],
            "passed_time": 4481.829855,
            "remaining_time": 1826.904252,
            "test": [
             1.406005304
            ]
           },
           {
            "iteration": 341,
            "learn": [
             0.9508802681
            ],
            "parameters": [
             {
              "depth": 10,
              "iterations": 100,
              "l2_leaf_reg": 0,
              "learning_rate": 0.03,
              "task_type": "GPU"
             }
            ],
            "passed_time": 4491.85881,
            "remaining_time": 1812.504432,
            "test": [
             1.35412318
            ]
           },
           {
            "iteration": 342,
            "learn": [
             0.9002852384
            ],
            "parameters": [
             {
              "depth": 10,
              "iterations": 100,
              "l2_leaf_reg": 0,
              "learning_rate": 0.1,
              "task_type": "GPU"
             }
            ],
            "passed_time": 4500.829414,
            "remaining_time": 1797.707375,
            "test": [
             1.316070875
            ]
           },
           {
            "iteration": 343,
            "learn": [
             0.8780712094
            ],
            "parameters": [
             {
              "depth": 10,
              "iterations": 100,
              "l2_leaf_reg": 0,
              "learning_rate": 0.3,
              "task_type": "GPU"
             }
            ],
            "passed_time": 4508.861752,
            "remaining_time": 1782.573251,
            "test": [
             1.301039208
            ]
           },
           {
            "iteration": 344,
            "learn": [
             1.04585021
            ],
            "parameters": [
             {
              "depth": 10,
              "iterations": 100,
              "l2_leaf_reg": 0.3,
              "learning_rate": 0.01,
              "task_type": "GPU"
             }
            ],
            "passed_time": 4519.174017,
            "remaining_time": 1768.372442,
            "test": [
             1.40850664
            ]
           },
           {
            "iteration": 345,
            "learn": [
             0.960092749
            ],
            "parameters": [
             {
              "depth": 10,
              "iterations": 100,
              "l2_leaf_reg": 0.3,
              "learning_rate": 0.03,
              "task_type": "GPU"
             }
            ],
            "passed_time": 4528.765189,
            "remaining_time": 1753.914842,
            "test": [
             1.361140684
            ]
           },
           {
            "iteration": 346,
            "learn": [
             0.9021048754
            ],
            "parameters": [
             {
              "depth": 10,
              "iterations": 100,
              "l2_leaf_reg": 0.3,
              "learning_rate": 0.1,
              "task_type": "GPU"
             }
            ],
            "passed_time": 4537.661279,
            "remaining_time": 1739.218876,
            "test": [
             1.317564788
            ]
           },
           {
            "iteration": 347,
            "learn": [
             0.8774743498
            ],
            "parameters": [
             {
              "depth": 10,
              "iterations": 100,
              "l2_leaf_reg": 0.3,
              "learning_rate": 0.3,
              "task_type": "GPU"
             }
            ],
            "passed_time": 4546.180106,
            "remaining_time": 1724.413144,
            "test": [
             1.297228735
            ]
           },
           {
            "iteration": 348,
            "learn": [
             1.041363006
            ],
            "parameters": [
             {
              "depth": 10,
              "iterations": 100,
              "l2_leaf_reg": 1,
              "learning_rate": 0.01,
              "task_type": "GPU"
             }
            ],
            "passed_time": 4556.179065,
            "remaining_time": 1710.199019,
            "test": [
             1.404200419
            ]
           },
           {
            "iteration": 349,
            "learn": [
             0.9632354629
            ],
            "parameters": [
             {
              "depth": 10,
              "iterations": 100,
              "l2_leaf_reg": 1,
              "learning_rate": 0.03,
              "task_type": "GPU"
             }
            ],
            "passed_time": 4565.321846,
            "remaining_time": 1695.690971,
            "test": [
             1.361620308
            ]
           },
           {
            "iteration": 350,
            "learn": [
             0.895375984
            ],
            "parameters": [
             {
              "depth": 10,
              "iterations": 100,
              "l2_leaf_reg": 1,
              "learning_rate": 0.1,
              "task_type": "GPU"
             }
            ],
            "passed_time": 4574.827106,
            "remaining_time": 1681.346714,
            "test": [
             1.314339411
            ]
           },
           {
            "iteration": 351,
            "learn": [
             0.8702822686
            ],
            "parameters": [
             {
              "depth": 10,
              "iterations": 100,
              "l2_leaf_reg": 1,
              "learning_rate": 0.3,
              "task_type": "GPU"
             }
            ],
            "passed_time": 4582.910709,
            "remaining_time": 1666.512985,
            "test": [
             1.291524893
            ]
           },
           {
            "iteration": 352,
            "learn": [
             1.038164418
            ],
            "parameters": [
             {
              "depth": 10,
              "iterations": 100,
              "l2_leaf_reg": 3,
              "learning_rate": 0.01,
              "task_type": "GPU"
             }
            ],
            "passed_time": 4593.654195,
            "remaining_time": 1652.674455,
            "test": [
             1.403783504
            ]
           },
           {
            "iteration": 353,
            "learn": [
             0.9641499234
            ],
            "parameters": [
             {
              "depth": 10,
              "iterations": 100,
              "l2_leaf_reg": 3,
              "learning_rate": 0.03,
              "task_type": "GPU"
             }
            ],
            "passed_time": 4603.199136,
            "remaining_time": 1638.426811,
            "test": [
             1.361352694
            ]
           },
           {
            "iteration": 354,
            "learn": [
             0.9001681243
            ],
            "parameters": [
             {
              "depth": 10,
              "iterations": 100,
              "l2_leaf_reg": 3,
              "learning_rate": 0.1,
              "task_type": "GPU"
             }
            ],
            "passed_time": 4611.896355,
            "remaining_time": 1623.907167,
            "test": [
             1.319607279
            ]
           },
           {
            "iteration": 355,
            "learn": [
             0.8803725924
            ],
            "parameters": [
             {
              "depth": 10,
              "iterations": 100,
              "l2_leaf_reg": 3,
              "learning_rate": 0.3,
              "task_type": "GPU"
             }
            ],
            "passed_time": 4621.124959,
            "remaining_time": 1609.605323,
            "test": [
             1.317241146
            ]
           },
           {
            "iteration": 356,
            "learn": [
             1.038060645
            ],
            "parameters": [
             {
              "depth": 10,
              "iterations": 100,
              "l2_leaf_reg": 10,
              "learning_rate": 0.01,
              "task_type": "GPU"
             }
            ],
            "passed_time": 4631.649809,
            "remaining_time": 1595.778506,
            "test": [
             1.402963823
            ]
           },
           {
            "iteration": 357,
            "learn": [
             0.9635748817
            ],
            "parameters": [
             {
              "depth": 10,
              "iterations": 100,
              "l2_leaf_reg": 10,
              "learning_rate": 0.03,
              "task_type": "GPU"
             }
            ],
            "passed_time": 4640.651259,
            "remaining_time": 1581.450988,
            "test": [
             1.364976249
            ]
           },
           {
            "iteration": 358,
            "learn": [
             0.9048620838
            ],
            "parameters": [
             {
              "depth": 10,
              "iterations": 100,
              "l2_leaf_reg": 10,
              "learning_rate": 0.1,
              "task_type": "GPU"
             }
            ],
            "passed_time": 4649.960454,
            "remaining_time": 1567.256866,
            "test": [
             1.328258037
            ]
           },
           {
            "iteration": 359,
            "learn": [
             0.8870639021
            ],
            "parameters": [
             {
              "depth": 10,
              "iterations": 100,
              "l2_leaf_reg": 10,
              "learning_rate": 0.3,
              "task_type": "GPU"
             }
            ],
            "passed_time": 4658.380379,
            "remaining_time": 1552.79346,
            "test": [
             1.31299117
            ]
           },
           {
            "iteration": 360,
            "learn": [
             0.9547143329
            ],
            "parameters": [
             {
              "depth": 10,
              "iterations": 300,
              "l2_leaf_reg": 0,
              "learning_rate": 0.01,
              "task_type": "GPU"
             }
            ],
            "passed_time": 4686.822349,
            "remaining_time": 1544.9636,
            "test": [
             1.35653409
            ]
           },
           {
            "iteration": 361,
            "learn": [
             0.9022875463
            ],
            "parameters": [
             {
              "depth": 10,
              "iterations": 300,
              "l2_leaf_reg": 0,
              "learning_rate": 0.03,
              "task_type": "GPU"
             }
            ],
            "passed_time": 4712.957321,
            "remaining_time": 1536.267856,
            "test": [
             1.321954001
            ]
           },
           {
            "iteration": 362,
            "learn": [
             0.8676205401
            ],
            "parameters": [
             {
              "depth": 10,
              "iterations": 300,
              "l2_leaf_reg": 0,
              "learning_rate": 0.1,
              "task_type": "GPU"
             }
            ],
            "passed_time": 4739.471354,
            "remaining_time": 1527.598205,
            "test": [
             1.293557733
            ]
           },
           {
            "iteration": 363,
            "learn": [
             0.8426616331
            ],
            "parameters": [
             {
              "depth": 10,
              "iterations": 300,
              "l2_leaf_reg": 0,
              "learning_rate": 0.3,
              "task_type": "GPU"
             }
            ],
            "passed_time": 4764.664885,
            "remaining_time": 1518.409689,
            "test": [
             1.279459019
            ]
           },
           {
            "iteration": 364,
            "learn": [
             0.9588466298
            ],
            "parameters": [
             {
              "depth": 10,
              "iterations": 300,
              "l2_leaf_reg": 0.3,
              "learning_rate": 0.01,
              "task_type": "GPU"
             }
            ],
            "passed_time": 4793.11079,
            "remaining_time": 1510.158194,
            "test": [
             1.360948833
            ]
           },
           {
            "iteration": 365,
            "learn": [
             0.9000818749
            ],
            "parameters": [
             {
              "depth": 10,
              "iterations": 300,
              "l2_leaf_reg": 0.3,
              "learning_rate": 0.03,
              "task_type": "GPU"
             }
            ],
            "passed_time": 4819.440265,
            "remaining_time": 1501.137132,
            "test": [
             1.319965646
            ]
           },
           {
            "iteration": 366,
            "learn": [
             0.8688530639
            ],
            "parameters": [
             {
              "depth": 10,
              "iterations": 300,
              "l2_leaf_reg": 0.3,
              "learning_rate": 0.1,
              "task_type": "GPU"
             }
            ],
            "passed_time": 4844.612743,
            "remaining_time": 1491.665504,
            "test": [
             1.299078283
            ]
           },
           {
            "iteration": 367,
            "learn": [
             0.8507455697
            ],
            "parameters": [
             {
              "depth": 10,
              "iterations": 300,
              "l2_leaf_reg": 0.3,
              "learning_rate": 0.3,
              "task_type": "GPU"
             }
            ],
            "passed_time": 4868.800343,
            "remaining_time": 1481.8088,
            "test": [
             1.298520802
            ]
           },
           {
            "iteration": 368,
            "learn": [
             0.9578378221
            ],
            "parameters": [
             {
              "depth": 10,
              "iterations": 300,
              "l2_leaf_reg": 1,
              "learning_rate": 0.01,
              "task_type": "GPU"
             }
            ],
            "passed_time": 4896.858879,
            "remaining_time": 1473.03885,
            "test": [
             1.360072148
            ]
           },
           {
            "iteration": 369,
            "learn": [
             0.8964228557
            ],
            "parameters": [
             {
              "depth": 10,
              "iterations": 300,
              "l2_leaf_reg": 1,
              "learning_rate": 0.03,
              "task_type": "GPU"
             }
            ],
            "passed_time": 4923.965801,
            "remaining_time": 1463.881725,
            "test": [
             1.314525625
            ]
           },
           {
            "iteration": 370,
            "learn": [
             0.8836557343
            ],
            "parameters": [
             {
              "depth": 10,
              "iterations": 300,
              "l2_leaf_reg": 1,
              "learning_rate": 0.1,
              "task_type": "GPU"
             }
            ],
            "passed_time": 4946.498784,
            "remaining_time": 1453.284009,
            "test": [
             1.310720956
            ]
           },
           {
            "iteration": 371,
            "learn": [
             0.8547655609
            ],
            "parameters": [
             {
              "depth": 10,
              "iterations": 300,
              "l2_leaf_reg": 1,
              "learning_rate": 0.3,
              "task_type": "GPU"
             }
            ],
            "passed_time": 4970.891557,
            "remaining_time": 1443.162065,
            "test": [
             1.291447952
            ]
           },
           {
            "iteration": 372,
            "learn": [
             0.9552769887
            ],
            "parameters": [
             {
              "depth": 10,
              "iterations": 300,
              "l2_leaf_reg": 3,
              "learning_rate": 0.01,
              "task_type": "GPU"
             }
            ],
            "passed_time": 4998.610864,
            "remaining_time": 1433.917862,
            "test": [
             1.358192762
            ]
           },
           {
            "iteration": 373,
            "learn": [
             0.8989049293
            ],
            "parameters": [
             {
              "depth": 10,
              "iterations": 300,
              "l2_leaf_reg": 3,
              "learning_rate": 0.03,
              "task_type": "GPU"
             }
            ],
            "passed_time": 5026.518155,
            "remaining_time": 1424.62814,
            "test": [
             1.321210211
            ]
           },
           {
            "iteration": 374,
            "learn": [
             0.8743959057
            ],
            "parameters": [
             {
              "depth": 10,
              "iterations": 300,
              "l2_leaf_reg": 3,
              "learning_rate": 0.1,
              "task_type": "GPU"
             }
            ],
            "passed_time": 5051.883172,
            "remaining_time": 1414.527288,
            "test": [
             1.309637771
            ]
           },
           {
            "iteration": 375,
            "learn": [
             0.8596767929
            ],
            "parameters": [
             {
              "depth": 10,
              "iterations": 300,
              "l2_leaf_reg": 3,
              "learning_rate": 0.3,
              "task_type": "GPU"
             }
            ],
            "passed_time": 5074.117269,
            "remaining_time": 1403.479245,
            "test": [
             1.29310066
            ]
           },
           {
            "iteration": 376,
            "learn": [
             0.9562120094
            ],
            "parameters": [
             {
              "depth": 10,
              "iterations": 300,
              "l2_leaf_reg": 10,
              "learning_rate": 0.01,
              "task_type": "GPU"
             }
            ],
            "passed_time": 5101.223836,
            "remaining_time": 1393.703064,
            "test": [
             1.35738581
            ]
           },
           {
            "iteration": 377,
            "learn": [
             0.9060082544
            ],
            "parameters": [
             {
              "depth": 10,
              "iterations": 300,
              "l2_leaf_reg": 10,
              "learning_rate": 0.03,
              "task_type": "GPU"
             }
            ],
            "passed_time": 5127.769807,
            "remaining_time": 1383.683916,
            "test": [
             1.329993614
            ]
           },
           {
            "iteration": 378,
            "learn": [
             0.8971275457
            ],
            "parameters": [
             {
              "depth": 10,
              "iterations": 300,
              "l2_leaf_reg": 10,
              "learning_rate": 0.1,
              "task_type": "GPU"
             }
            ],
            "passed_time": 5150.811302,
            "remaining_time": 1372.643645,
            "test": [
             1.320829952
            ]
           },
           {
            "iteration": 379,
            "learn": [
             0.8604792795
            ],
            "parameters": [
             {
              "depth": 10,
              "iterations": 300,
              "l2_leaf_reg": 10,
              "learning_rate": 0.3,
              "task_type": "GPU"
             }
            ],
            "passed_time": 5174.562148,
            "remaining_time": 1361.726881,
            "test": [
             1.303698707
            ]
           },
           {
            "iteration": 380,
            "learn": [
             0.8974616663
            ],
            "parameters": [
             {
              "depth": 10,
              "iterations": 1000,
              "l2_leaf_reg": 0,
              "learning_rate": 0.01,
              "task_type": "GPU"
             }
            ],
            "passed_time": 5257.366269,
            "remaining_time": 1366.087298,
            "test": [
             1.314915852
            ]
           },
           {
            "iteration": 381,
            "learn": [
             0.8701487782
            ],
            "parameters": [
             {
              "depth": 10,
              "iterations": 1000,
              "l2_leaf_reg": 0,
              "learning_rate": 0.03,
              "task_type": "GPU"
             }
            ],
            "passed_time": 5337.274906,
            "remaining_time": 1369.248536,
            "test": [
             1.300743587
            ]
           },
           {
            "iteration": 382,
            "learn": [
             0.8512729502
            ],
            "parameters": [
             {
              "depth": 10,
              "iterations": 1000,
              "l2_leaf_reg": 0,
              "learning_rate": 0.1,
              "task_type": "GPU"
             }
            ],
            "passed_time": 5414.579396,
            "remaining_time": 1371.316453,
            "test": [
             1.283261922
            ]
           },
           {
            "iteration": 383,
            "learn": [
             0.8199569316
            ],
            "parameters": [
             {
              "depth": 10,
              "iterations": 1000,
              "l2_leaf_reg": 0,
              "learning_rate": 0.3,
              "task_type": "GPU"
             }
            ],
            "passed_time": 5491.202092,
            "remaining_time": 1372.800523,
            "test": [
             1.273403333
            ]
           },
           {
            "iteration": 384,
            "learn": [
             0.8940828208
            ],
            "parameters": [
             {
              "depth": 10,
              "iterations": 1000,
              "l2_leaf_reg": 0.3,
              "learning_rate": 0.01,
              "task_type": "GPU"
             }
            ],
            "passed_time": 5576.077622,
            "remaining_time": 1375.915257,
            "test": [
             1.311966406
            ]
           },
           {
            "iteration": 385,
            "learn": [
             0.87572351
            ],
            "parameters": [
             {
              "depth": 10,
              "iterations": 1000,
              "l2_leaf_reg": 0.3,
              "learning_rate": 0.03,
              "task_type": "GPU"
             }
            ],
            "passed_time": 5657.123489,
            "remaining_time": 1377.641471,
            "test": [
             1.298776865
            ]
           },
           {
            "iteration": 386,
            "learn": [
             0.8536250703
            ],
            "parameters": [
             {
              "depth": 10,
              "iterations": 1000,
              "l2_leaf_reg": 0.3,
              "learning_rate": 0.1,
              "task_type": "GPU"
             }
            ],
            "passed_time": 5737.02724,
            "remaining_time": 1378.665461,
            "test": [
             1.293758365
            ]
           },
           {
            "iteration": 387,
            "learn": [
             0.8436871902
            ],
            "parameters": [
             {
              "depth": 10,
              "iterations": 1000,
              "l2_leaf_reg": 0.3,
              "learning_rate": 0.3,
              "task_type": "GPU"
             }
            ],
            "passed_time": 5809.528273,
            "remaining_time": 1377.517013,
            "test": [
             1.294366939
            ]
           },
           {
            "iteration": 388,
            "learn": [
             0.8934601408
            ],
            "parameters": [
             {
              "depth": 10,
              "iterations": 1000,
              "l2_leaf_reg": 1,
              "learning_rate": 0.01,
              "task_type": "GPU"
             }
            ],
            "passed_time": 5895.737265,
            "remaining_time": 1379.208461,
            "test": [
             1.310729486
            ]
           },
           {
            "iteration": 389,
            "learn": [
             0.8764102689
            ],
            "parameters": [
             {
              "depth": 10,
              "iterations": 1000,
              "l2_leaf_reg": 1,
              "learning_rate": 0.03,
              "task_type": "GPU"
             }
            ],
            "passed_time": 5971.430709,
            "remaining_time": 1378.022471,
            "test": [
             1.300074346
            ]
           },
           {
            "iteration": 390,
            "learn": [
             0.8517036121
            ],
            "parameters": [
             {
              "depth": 10,
              "iterations": 1000,
              "l2_leaf_reg": 1,
              "learning_rate": 0.1,
              "task_type": "GPU"
             }
            ],
            "passed_time": 6051.817825,
            "remaining_time": 1377.523751,
            "test": [
             1.293197864
            ]
           },
           {
            "iteration": 391,
            "learn": [
             0.8246412403
            ],
            "parameters": [
             {
              "depth": 10,
              "iterations": 1000,
              "l2_leaf_reg": 1,
              "learning_rate": 0.3,
              "task_type": "GPU"
             }
            ],
            "passed_time": 6129.164482,
            "remaining_time": 1375.934884,
            "test": [
             1.268057648
            ]
           },
           {
            "iteration": 392,
            "learn": [
             0.8971024751
            ],
            "parameters": [
             {
              "depth": 10,
              "iterations": 1000,
              "l2_leaf_reg": 3,
              "learning_rate": 0.01,
              "task_type": "GPU"
             }
            ],
            "passed_time": 6215.093754,
            "remaining_time": 1375.860449,
            "test": [
             1.317251062
            ]
           },
           {
            "iteration": 393,
            "learn": [
             0.8786624905
            ],
            "parameters": [
             {
              "depth": 10,
              "iterations": 1000,
              "l2_leaf_reg": 3,
              "learning_rate": 0.03,
              "task_type": "GPU"
             }
            ],
            "passed_time": 6293.318301,
            "remaining_time": 1373.668462,
            "test": [
             1.298214265
            ]
           },
           {
            "iteration": 394,
            "learn": [
             0.8605250577
            ],
            "parameters": [
             {
              "depth": 10,
              "iterations": 1000,
              "l2_leaf_reg": 3,
              "learning_rate": 0.1,
              "task_type": "GPU"
             }
            ],
            "passed_time": 6371.392738,
            "remaining_time": 1371.059197,
            "test": [
             1.293301485
            ]
           },
           {
            "iteration": 395,
            "learn": [
             0.8475096712
            ],
            "parameters": [
             {
              "depth": 10,
              "iterations": 1000,
              "l2_leaf_reg": 3,
              "learning_rate": 0.3,
              "task_type": "GPU"
             }
            ],
            "passed_time": 6446.813926,
            "remaining_time": 1367.505984,
            "test": [
             1.311878836
            ]
           },
           {
            "iteration": 396,
            "learn": [
             0.8999876935
            ],
            "parameters": [
             {
              "depth": 10,
              "iterations": 1000,
              "l2_leaf_reg": 10,
              "learning_rate": 0.01,
              "task_type": "GPU"
             }
            ],
            "passed_time": 6533.020191,
            "remaining_time": 1365.845531,
            "test": [
             1.322974937
            ]
           },
           {
            "iteration": 397,
            "learn": [
             0.878865163
            ],
            "parameters": [
             {
              "depth": 10,
              "iterations": 1000,
              "l2_leaf_reg": 10,
              "learning_rate": 0.03,
              "task_type": "GPU"
             }
            ],
            "passed_time": 6615.467935,
            "remaining_time": 1362.985856,
            "test": [
             1.307712431
            ]
           },
           {
            "iteration": 398,
            "learn": [
             0.8678913483
            ],
            "parameters": [
             {
              "depth": 10,
              "iterations": 1000,
              "l2_leaf_reg": 10,
              "learning_rate": 0.1,
              "task_type": "GPU"
             }
            ],
            "passed_time": 6691.449272,
            "remaining_time": 1358.414514,
            "test": [
             1.301296422
            ]
           },
           {
            "iteration": 399,
            "learn": [
             0.8469688752
            ],
            "parameters": [
             {
              "depth": 10,
              "iterations": 1000,
              "l2_leaf_reg": 10,
              "learning_rate": 0.3,
              "task_type": "GPU"
             }
            ],
            "passed_time": 6764.476399,
            "remaining_time": 1352.89528,
            "test": [
             1.292941788
            ]
           },
           {
            "iteration": 400,
            "learn": [
             1.118047633
            ],
            "parameters": [
             {
              "depth": 12,
              "iterations": 30,
              "l2_leaf_reg": 0,
              "learning_rate": 0.01,
              "task_type": "GPU"
             }
            ],
            "passed_time": 6772.726261,
            "remaining_time": 1334.277742,
            "test": [
             1.45199638
            ]
           },
           {
            "iteration": 401,
            "learn": [
             1.039483273
            ],
            "parameters": [
             {
              "depth": 12,
              "iterations": 30,
              "l2_leaf_reg": 0,
              "learning_rate": 0.03,
              "task_type": "GPU"
             }
            ],
            "passed_time": 6782.585583,
            "remaining_time": 1316.024068,
            "test": [
             1.405194505
            ]
           },
           {
            "iteration": 402,
            "learn": [
             0.9341152292
            ],
            "parameters": [
             {
              "depth": 12,
              "iterations": 30,
              "l2_leaf_reg": 0,
              "learning_rate": 0.1,
              "task_type": "GPU"
             }
            ],
            "passed_time": 6790.484924,
            "remaining_time": 1297.437566,
            "test": [
             1.343943088
            ]
           },
           {
            "iteration": 403,
            "learn": [
             0.8784319376
            ],
            "parameters": [
             {
              "depth": 12,
              "iterations": 30,
              "l2_leaf_reg": 0,
              "learning_rate": 0.3,
              "task_type": "GPU"
             }
            ],
            "passed_time": 6797.952602,
            "remaining_time": 1278.822767,
            "test": [
             1.311398748
            ]
           },
           {
            "iteration": 404,
            "learn": [
             1.116620202
            ],
            "parameters": [
             {
              "depth": 12,
              "iterations": 30,
              "l2_leaf_reg": 0.3,
              "learning_rate": 0.01,
              "task_type": "GPU"
             }
            ],
            "passed_time": 6806.87161,
            "remaining_time": 1260.53178,
            "test": [
             1.449676553
            ]
           },
           {
            "iteration": 405,
            "learn": [
             1.036270514
            ],
            "parameters": [
             {
              "depth": 12,
              "iterations": 30,
              "l2_leaf_reg": 0.3,
              "learning_rate": 0.03,
              "task_type": "GPU"
             }
            ],
            "passed_time": 6815.075168,
            "remaining_time": 1242.156558,
            "test": [
             1.402355138
            ]
           },
           {
            "iteration": 406,
            "learn": [
             0.9357869704
            ],
            "parameters": [
             {
              "depth": 12,
              "iterations": 30,
              "l2_leaf_reg": 0.3,
              "learning_rate": 0.1,
              "task_type": "GPU"
             }
            ],
            "passed_time": 6822.141882,
            "remaining_time": 1223.627414,
            "test": [
             1.345715117
            ]
           },
           {
            "iteration": 407,
            "learn": [
             0.8857745291
            ],
            "parameters": [
             {
              "depth": 12,
              "iterations": 30,
              "l2_leaf_reg": 0.3,
              "learning_rate": 0.3,
              "task_type": "GPU"
             }
            ],
            "passed_time": 6829.156829,
            "remaining_time": 1205.145323,
            "test": [
             1.306362389
            ]
           },
           {
            "iteration": 408,
            "learn": [
             1.118840798
            ],
            "parameters": [
             {
              "depth": 12,
              "iterations": 30,
              "l2_leaf_reg": 1,
              "learning_rate": 0.01,
              "task_type": "GPU"
             }
            ],
            "passed_time": 6838.140606,
            "remaining_time": 1187.061083,
            "test": [
             1.450531931
            ]
           },
           {
            "iteration": 409,
            "learn": [
             1.046311684
            ],
            "parameters": [
             {
              "depth": 12,
              "iterations": 30,
              "l2_leaf_reg": 1,
              "learning_rate": 0.03,
              "task_type": "GPU"
             }
            ],
            "passed_time": 6844.716188,
            "remaining_time": 1168.610081,
            "test": [
             1.405025179
            ]
           },
           {
            "iteration": 410,
            "learn": [
             0.9411702446
            ],
            "parameters": [
             {
              "depth": 12,
              "iterations": 30,
              "l2_leaf_reg": 1,
              "learning_rate": 0.1,
              "task_type": "GPU"
             }
            ],
            "passed_time": 6852.672865,
            "remaining_time": 1150.448729,
            "test": [
             1.348820541
            ]
           },
           {
            "iteration": 411,
            "learn": [
             0.8919317197
            ],
            "parameters": [
             {
              "depth": 12,
              "iterations": 30,
              "l2_leaf_reg": 1,
              "learning_rate": 0.3,
              "task_type": "GPU"
             }
            ],
            "passed_time": 6859.745101,
            "remaining_time": 1132.190939,
            "test": [
             1.317653963
            ]
           },
           {
            "iteration": 412,
            "learn": [
             1.121819578
            ],
            "parameters": [
             {
              "depth": 12,
              "iterations": 30,
              "l2_leaf_reg": 3,
              "learning_rate": 0.01,
              "task_type": "GPU"
             }
            ],
            "passed_time": 6867.203052,
            "remaining_time": 1114.04989,
            "test": [
             1.451174195
            ]
           },
           {
            "iteration": 413,
            "learn": [
             1.039121489
            ],
            "parameters": [
             {
              "depth": 12,
              "iterations": 30,
              "l2_leaf_reg": 3,
              "learning_rate": 0.03,
              "task_type": "GPU"
             }
            ],
            "passed_time": 6875.31594,
            "remaining_time": 1096.06486,
            "test": [
             1.400445126
            ]
           },
           {
            "iteration": 414,
            "learn": [
             0.9411548682
            ],
            "parameters": [
             {
              "depth": 12,
              "iterations": 30,
              "l2_leaf_reg": 3,
              "learning_rate": 0.1,
              "task_type": "GPU"
             }
            ],
            "passed_time": 6882.322819,
            "remaining_time": 1077.954176,
            "test": [
             1.349131534
            ]
           },
           {
            "iteration": 415,
            "learn": [
             0.8821890341
            ],
            "parameters": [
             {
              "depth": 12,
              "iterations": 30,
              "l2_leaf_reg": 3,
              "learning_rate": 0.3,
              "task_type": "GPU"
             }
            ],
            "passed_time": 6889.989453,
            "remaining_time": 1059.998377,
            "test": [
             1.30052712
            ]
           },
           {
            "iteration": 416,
            "learn": [
             1.119033679
            ],
            "parameters": [
             {
              "depth": 12,
              "iterations": 30,
              "l2_leaf_reg": 10,
              "learning_rate": 0.01,
              "task_type": "GPU"
             }
            ],
            "passed_time": 6898.625992,
            "remaining_time": 1042.238459,
            "test": [
             1.450313361
            ]
           },
           {
            "iteration": 417,
            "learn": [
             1.044477022
            ],
            "parameters": [
             {
              "depth": 12,
              "iterations": 30,
              "l2_leaf_reg": 10,
              "learning_rate": 0.03,
              "task_type": "GPU"
             }
            ],
            "passed_time": 6906.164665,
            "remaining_time": 1024.359352,
            "test": [
             1.404648455
            ]
           },
           {
            "iteration": 418,
            "learn": [
             0.9552102095
            ],
            "parameters": [
             {
              "depth": 12,
              "iterations": 30,
              "l2_leaf_reg": 10,
              "learning_rate": 0.1,
              "task_type": "GPU"
             }
            ],
            "passed_time": 6913.408807,
            "remaining_time": 1006.486724,
            "test": [
             1.35850061
            ]
           },
           {
            "iteration": 419,
            "learn": [
             0.8956989466
            ],
            "parameters": [
             {
              "depth": 12,
              "iterations": 30,
              "l2_leaf_reg": 10,
              "learning_rate": 0.3,
              "task_type": "GPU"
             }
            ],
            "passed_time": 6920.320961,
            "remaining_time": 988.6172801,
            "test": [
             1.319719316
            ]
           },
           {
            "iteration": 420,
            "learn": [
             1.037654512
            ],
            "parameters": [
             {
              "depth": 12,
              "iterations": 100,
              "l2_leaf_reg": 0,
              "learning_rate": 0.01,
              "task_type": "GPU"
             }
            ],
            "passed_time": 6942.599228,
            "remaining_time": 972.9533359,
            "test": [
             1.404756239
            ]
           },
           {
            "iteration": 421,
            "learn": [
             0.9509397698
            ],
            "parameters": [
             {
              "depth": 12,
              "iterations": 100,
              "l2_leaf_reg": 0,
              "learning_rate": 0.03,
              "task_type": "GPU"
             }
            ],
            "passed_time": 6966.395818,
            "remaining_time": 957.4667238,
            "test": [
             1.355183608
            ]
           },
           {
            "iteration": 422,
            "learn": [
             0.8913958074
            ],
            "parameters": [
             {
              "depth": 12,
              "iterations": 100,
              "l2_leaf_reg": 0,
              "learning_rate": 0.1,
              "task_type": "GPU"
             }
            ],
            "passed_time": 6989.013115,
            "remaining_time": 941.7819091,
            "test": [
             1.313393469
            ]
           },
           {
            "iteration": 423,
            "learn": [
             0.8643461516
            ],
            "parameters": [
             {
              "depth": 12,
              "iterations": 100,
              "l2_leaf_reg": 0,
              "learning_rate": 0.3,
              "task_type": "GPU"
             }
            ],
            "passed_time": 7006.036743,
            "remaining_time": 925.3256076,
            "test": [
             1.30621401
            ]
           },
           {
            "iteration": 424,
            "learn": [
             1.035471923
            ],
            "parameters": [
             {
              "depth": 12,
              "iterations": 100,
              "l2_leaf_reg": 0.3,
              "learning_rate": 0.01,
              "task_type": "GPU"
             }
            ],
            "passed_time": 7031.433305,
            "remaining_time": 909.9501925,
            "test": [
             1.403327746
            ]
           },
           {
            "iteration": 425,
            "learn": [
             0.9436911886
            ],
            "parameters": [
             {
              "depth": 12,
              "iterations": 100,
              "l2_leaf_reg": 0.3,
              "learning_rate": 0.03,
              "task_type": "GPU"
             }
            ],
            "passed_time": 7054.158716,
            "remaining_time": 894.189133,
            "test": [
             1.347846586
            ]
           },
           {
            "iteration": 426,
            "learn": [
             0.8898353068
            ],
            "parameters": [
             {
              "depth": 12,
              "iterations": 100,
              "l2_leaf_reg": 0.3,
              "learning_rate": 0.1,
              "task_type": "GPU"
             }
            ],
            "passed_time": 7074.095801,
            "remaining_time": 878.0493618,
            "test": [
             1.314773763
            ]
           },
           {
            "iteration": 427,
            "learn": [
             0.858294817
            ],
            "parameters": [
             {
              "depth": 12,
              "iterations": 100,
              "l2_leaf_reg": 0.3,
              "learning_rate": 0.3,
              "task_type": "GPU"
             }
            ],
            "passed_time": 7094.680006,
            "remaining_time": 861.970468,
            "test": [
             1.292528152
            ]
           },
           {
            "iteration": 428,
            "learn": [
             1.034731841
            ],
            "parameters": [
             {
              "depth": 12,
              "iterations": 100,
              "l2_leaf_reg": 1,
              "learning_rate": 0.01,
              "task_type": "GPU"
             }
            ],
            "passed_time": 7120.605692,
            "remaining_time": 846.5055717,
            "test": [
             1.401388938
            ]
           },
           {
            "iteration": 429,
            "learn": [
             0.9511490673
            ],
            "parameters": [
             {
              "depth": 12,
              "iterations": 100,
              "l2_leaf_reg": 1,
              "learning_rate": 0.03,
              "task_type": "GPU"
             }
            ],
            "passed_time": 7143.852085,
            "remaining_time": 830.680475,
            "test": [
             1.355047437
            ]
           },
           {
            "iteration": 430,
            "learn": [
             0.8896719244
            ],
            "parameters": [
             {
              "depth": 12,
              "iterations": 100,
              "l2_leaf_reg": 1,
              "learning_rate": 0.1,
              "task_type": "GPU"
             }
            ],
            "passed_time": 7165.397467,
            "remaining_time": 814.6275543,
            "test": [
             1.311933354
            ]
           },
           {
            "iteration": 431,
            "learn": [
             0.8719820538
            ],
            "parameters": [
             {
              "depth": 12,
              "iterations": 100,
              "l2_leaf_reg": 1,
              "learning_rate": 0.3,
              "task_type": "GPU"
             }
            ],
            "passed_time": 7183.53404,
            "remaining_time": 798.1704489,
            "test": [
             1.298626894
            ]
           },
           {
            "iteration": 432,
            "learn": [
             1.037282168
            ],
            "parameters": [
             {
              "depth": 12,
              "iterations": 100,
              "l2_leaf_reg": 3,
              "learning_rate": 0.01,
              "task_type": "GPU"
             }
            ],
            "passed_time": 7205.942088,
            "remaining_time": 782.1692336,
            "test": [
             1.401818119
            ]
           },
           {
            "iteration": 433,
            "learn": [
             0.9432222132
            ],
            "parameters": [
             {
              "depth": 12,
              "iterations": 100,
              "l2_leaf_reg": 3,
              "learning_rate": 0.03,
              "task_type": "GPU"
             }
            ],
            "passed_time": 7229.470011,
            "remaining_time": 766.2571901,
            "test": [
             1.350158659
            ]
           },
           {
            "iteration": 434,
            "learn": [
             0.8877071948
            ],
            "parameters": [
             {
              "depth": 12,
              "iterations": 100,
              "l2_leaf_reg": 3,
              "learning_rate": 0.1,
              "task_type": "GPU"
             }
            ],
            "passed_time": 7250.419636,
            "remaining_time": 750.0434106,
            "test": [
             1.309647584
            ]
           },
           {
            "iteration": 435,
            "learn": [
             0.8764694615
            ],
            "parameters": [
             {
              "depth": 12,
              "iterations": 100,
              "l2_leaf_reg": 3,
              "learning_rate": 0.3,
              "task_type": "GPU"
             }
            ],
            "passed_time": 7270.355456,
            "remaining_time": 733.7055965,
            "test": [
             1.304362284
            ]
           },
           {
            "iteration": 436,
            "learn": [
             1.031947162
            ],
            "parameters": [
             {
              "depth": 12,
              "iterations": 100,
              "l2_leaf_reg": 10,
              "learning_rate": 0.01,
              "task_type": "GPU"
             }
            ],
            "passed_time": 7297.761749,
            "remaining_time": 718.0863964,
            "test": [
             1.397745256
            ]
           },
           {
            "iteration": 437,
            "learn": [
             0.9492925671
            ],
            "parameters": [
             {
              "depth": 12,
              "iterations": 100,
              "l2_leaf_reg": 10,
              "learning_rate": 0.03,
              "task_type": "GPU"
             }
            ],
            "passed_time": 7320.595697,
            "remaining_time": 701.9749299,
            "test": [
             1.349920896
            ]
           },
           {
            "iteration": 438,
            "learn": [
             0.8947907258
            ],
            "parameters": [
             {
              "depth": 12,
              "iterations": 100,
              "l2_leaf_reg": 10,
              "learning_rate": 0.1,
              "task_type": "GPU"
             }
            ],
            "passed_time": 7339.680929,
            "remaining_time": 685.4827292,
            "test": [
             1.314969728
            ]
           },
           {
            "iteration": 439,
            "learn": [
             0.8713411818
            ],
            "parameters": [
             {
              "depth": 12,
              "iterations": 100,
              "l2_leaf_reg": 10,
              "learning_rate": 0.3,
              "task_type": "GPU"
             }
            ],
            "passed_time": 7358.174661,
            "remaining_time": 668.9249691,
            "test": [
             1.303749159
            ]
           },
           {
            "iteration": 440,
            "learn": [
             0.9492583897
            ],
            "parameters": [
             {
              "depth": 12,
              "iterations": 300,
              "l2_leaf_reg": 0,
              "learning_rate": 0.01,
              "task_type": "GPU"
             }
            ],
            "passed_time": 7423.487512,
            "remaining_time": 656.4988956,
            "test": [
             1.353067558
            ]
           },
           {
            "iteration": 441,
            "learn": [
             0.8923977335
            ],
            "parameters": [
             {
              "depth": 12,
              "iterations": 300,
              "l2_leaf_reg": 0,
              "learning_rate": 0.03,
              "task_type": "GPU"
             }
            ],
            "passed_time": 7485.675269,
            "remaining_time": 643.5648421,
            "test": [
             1.311857809
            ]
           },
           {
            "iteration": 442,
            "learn": [
             0.8707073385
            ],
            "parameters": [
             {
              "depth": 12,
              "iterations": 300,
              "l2_leaf_reg": 0,
              "learning_rate": 0.1,
              "task_type": "GPU"
             }
            ],
            "passed_time": 7535.133364,
            "remaining_time": 629.3452246,
            "test": [
             1.298920423
            ]
           },
           {
            "iteration": 443,
            "learn": [
             0.851094001
            ],
            "parameters": [
             {
              "depth": 12,
              "iterations": 300,
              "l2_leaf_reg": 0,
              "learning_rate": 0.3,
              "task_type": "GPU"
             }
            ],
            "passed_time": 7590.982723,
            "remaining_time": 615.4850857,
            "test": [
             1.295672787
            ]
           },
           {
            "iteration": 444,
            "learn": [
             0.9475238521
            ],
            "parameters": [
             {
              "depth": 12,
              "iterations": 300,
              "l2_leaf_reg": 0.3,
              "learning_rate": 0.01,
              "task_type": "GPU"
             }
            ],
            "passed_time": 7659.16257,
            "remaining_time": 602.4060449,
            "test": [
             1.354549595
            ]
           },
           {
            "iteration": 445,
            "learn": [
             0.8912644534
            ],
            "parameters": [
             {
              "depth": 12,
              "iterations": 300,
              "l2_leaf_reg": 0.3,
              "learning_rate": 0.03,
              "task_type": "GPU"
             }
            ],
            "passed_time": 7721.828421,
            "remaining_time": 588.6595657,
            "test": [
             1.316179442
            ]
           },
           {
            "iteration": 446,
            "learn": [
             0.8556041317
            ],
            "parameters": [
             {
              "depth": 12,
              "iterations": 300,
              "l2_leaf_reg": 0.3,
              "learning_rate": 0.1,
              "task_type": "GPU"
             }
            ],
            "passed_time": 7785.307378,
            "remaining_time": 574.7542359,
            "test": [
             1.285971877
            ]
           },
           {
            "iteration": 447,
            "learn": [
             0.852943517
            ],
            "parameters": [
             {
              "depth": 12,
              "iterations": 300,
              "l2_leaf_reg": 0.3,
              "learning_rate": 0.3,
              "task_type": "GPU"
             }
            ],
            "passed_time": 7834.387368,
            "remaining_time": 559.5990977,
            "test": [
             1.293911444
            ]
           },
           {
            "iteration": 448,
            "learn": [
             0.9468195904
            ],
            "parameters": [
             {
              "depth": 12,
              "iterations": 300,
              "l2_leaf_reg": 1,
              "learning_rate": 0.01,
              "task_type": "GPU"
             }
            ],
            "passed_time": 7904.422967,
            "remaining_time": 545.7396703,
            "test": [
             1.352916886
            ]
           },
           {
            "iteration": 449,
            "learn": [
             0.888755546
            ],
            "parameters": [
             {
              "depth": 12,
              "iterations": 300,
              "l2_leaf_reg": 1,
              "learning_rate": 0.03,
              "task_type": "GPU"
             }
            ],
            "passed_time": 7969.044816,
            "remaining_time": 531.2696544,
            "test": [
             1.31093602
            ]
           },
           {
            "iteration": 450,
            "learn": [
             0.8677916564
            ],
            "parameters": [
             {
              "depth": 12,
              "iterations": 300,
              "l2_leaf_reg": 1,
              "learning_rate": 0.1,
              "task_type": "GPU"
             }
            ],
            "passed_time": 8018.021259,
            "remaining_time": 515.5712117,
            "test": [
             1.293931511
            ]
           },
           {
            "iteration": 451,
            "learn": [
             0.8535859607
            ],
            "parameters": [
             {
              "depth": 12,
              "iterations": 300,
              "l2_leaf_reg": 1,
              "learning_rate": 0.3,
              "task_type": "GPU"
             }
            ],
            "passed_time": 8062.17917,
            "remaining_time": 499.4270282,
            "test": [
             1.28264034
            ]
           },
           {
            "iteration": 452,
            "learn": [
             0.9515688968
            ],
            "parameters": [
             {
              "depth": 12,
              "iterations": 300,
              "l2_leaf_reg": 3,
              "learning_rate": 0.01,
              "task_type": "GPU"
             }
            ],
            "passed_time": 8127.084296,
            "remaining_time": 484.3957527,
            "test": [
             1.353785702
            ]
           },
           {
            "iteration": 453,
            "learn": [
             0.8918201284
            ],
            "parameters": [
             {
              "depth": 12,
              "iterations": 300,
              "l2_leaf_reg": 3,
              "learning_rate": 0.03,
              "task_type": "GPU"
             }
            ],
            "passed_time": 8188.559891,
            "remaining_time": 468.9483638,
            "test": [
             1.31735624
            ]
           },
           {
            "iteration": 454,
            "learn": [
             0.8656821374
            ],
            "parameters": [
             {
              "depth": 12,
              "iterations": 300,
              "l2_leaf_reg": 3,
              "learning_rate": 0.1,
              "task_type": "GPU"
             }
            ],
            "passed_time": 8242.223157,
            "remaining_time": 452.8694042,
            "test": [
             1.299682355
            ]
           },
           {
            "iteration": 455,
            "learn": [
             0.8539941671
            ],
            "parameters": [
             {
              "depth": 12,
              "iterations": 300,
              "l2_leaf_reg": 3,
              "learning_rate": 0.3,
              "task_type": "GPU"
             }
            ],
            "passed_time": 8299.42207,
            "remaining_time": 436.8116879,
            "test": [
             1.296733151
            ]
           },
           {
            "iteration": 456,
            "learn": [
             0.9510818334
            ],
            "parameters": [
             {
              "depth": 12,
              "iterations": 300,
              "l2_leaf_reg": 10,
              "learning_rate": 0.01,
              "task_type": "GPU"
             }
            ],
            "passed_time": 8369.129107,
            "remaining_time": 421.2034343,
            "test": [
             1.352594944
            ]
           },
           {
            "iteration": 457,
            "learn": [
             0.8973389729
            ],
            "parameters": [
             {
              "depth": 12,
              "iterations": 300,
              "l2_leaf_reg": 10,
              "learning_rate": 0.03,
              "task_type": "GPU"
             }
            ],
            "passed_time": 8433.283851,
            "remaining_time": 405.0922374,
            "test": [
             1.32304274
            ]
           },
           {
            "iteration": 458,
            "learn": [
             0.8794811276
            ],
            "parameters": [
             {
              "depth": 12,
              "iterations": 300,
              "l2_leaf_reg": 10,
              "learning_rate": 0.1,
              "task_type": "GPU"
             }
            ],
            "passed_time": 8490.009943,
            "remaining_time": 388.4318274,
            "test": [
             1.30242698
            ]
           },
           {
            "iteration": 459,
            "learn": [
             0.8693423869
            ],
            "parameters": [
             {
              "depth": 12,
              "iterations": 300,
              "l2_leaf_reg": 10,
              "learning_rate": 0.3,
              "task_type": "GPU"
             }
            ],
            "passed_time": 8540.449323,
            "remaining_time": 371.3238836,
            "test": [
             1.311704793
            ]
           },
           {
            "iteration": 460,
            "learn": [
             0.88775357
            ],
            "parameters": [
             {
              "depth": 12,
              "iterations": 1000,
              "l2_leaf_reg": 0,
              "learning_rate": 0.01,
              "task_type": "GPU"
             }
            ],
            "passed_time": 8743.879773,
            "remaining_time": 360.3768236,
            "test": [
             1.309599713
            ]
           },
           {
            "iteration": 461,
            "learn": [
             0.8721676194
            ],
            "parameters": [
             {
              "depth": 12,
              "iterations": 1000,
              "l2_leaf_reg": 0,
              "learning_rate": 0.03,
              "task_type": "GPU"
             }
            ],
            "passed_time": 8916.161329,
            "remaining_time": 347.3829089,
            "test": [
             1.29750732
            ]
           },
           {
            "iteration": 462,
            "learn": [
             0.8434103758
            ],
            "parameters": [
             {
              "depth": 12,
              "iterations": 1000,
              "l2_leaf_reg": 0,
              "learning_rate": 0.1,
              "task_type": "GPU"
             }
            ],
            "passed_time": 9100.800933,
            "remaining_time": 334.1546779,
            "test": [
             1.289343552
            ]
           },
           {
            "iteration": 463,
            "learn": [
             0.8302116536
            ],
            "parameters": [
             {
              "depth": 12,
              "iterations": 1000,
              "l2_leaf_reg": 0,
              "learning_rate": 0.3,
              "task_type": "GPU"
             }
            ],
            "passed_time": 9255.976519,
            "remaining_time": 319.1716041,
            "test": [
             1.304989413
            ]
           },
           {
            "iteration": 464,
            "learn": [
             0.8875190506
            ],
            "parameters": [
             {
              "depth": 12,
              "iterations": 1000,
              "l2_leaf_reg": 0.3,
              "learning_rate": 0.01,
              "task_type": "GPU"
             }
            ],
            "passed_time": 9463.309454,
            "remaining_time": 305.2680469,
            "test": [
             1.310459932
            ]
           },
           {
            "iteration": 465,
            "learn": [
             0.8622817649
            ],
            "parameters": [
             {
              "depth": 12,
              "iterations": 1000,
              "l2_leaf_reg": 0.3,
              "learning_rate": 0.03,
              "task_type": "GPU"
             }
            ],
            "passed_time": 9653.307435,
            "remaining_time": 290.0135281,
            "test": [
             1.292934959
            ]
           },
           {
            "iteration": 466,
            "learn": [
             0.8488571379
            ],
            "parameters": [
             {
              "depth": 12,
              "iterations": 1000,
              "l2_leaf_reg": 0.3,
              "learning_rate": 0.1,
              "task_type": "GPU"
             }
            ],
            "passed_time": 9820.905139,
            "remaining_time": 273.3870809,
            "test": [
             1.292654742
            ]
           },
           {
            "iteration": 467,
            "learn": [
             0.8321556468
            ],
            "parameters": [
             {
              "depth": 12,
              "iterations": 1000,
              "l2_leaf_reg": 0.3,
              "learning_rate": 0.3,
              "task_type": "GPU"
             }
            ],
            "passed_time": 9986.106958,
            "remaining_time": 256.0540246,
            "test": [
             1.284561245
            ]
           },
           {
            "iteration": 468,
            "learn": [
             0.887253615
            ],
            "parameters": [
             {
              "depth": 12,
              "iterations": 1000,
              "l2_leaf_reg": 1,
              "learning_rate": 0.01,
              "task_type": "GPU"
             }
            ],
            "passed_time": 10198.2422,
            "remaining_time": 239.1911818,
            "test": [
             1.309571468
            ]
           },
           {
            "iteration": 469,
            "learn": [
             0.8717571654
            ],
            "parameters": [
             {
              "depth": 12,
              "iterations": 1000,
              "l2_leaf_reg": 1,
              "learning_rate": 0.03,
              "task_type": "GPU"
             }
            ],
            "passed_time": 10352.36475,
            "remaining_time": 220.2630798,
            "test": [
             1.300605292
            ]
           },
           {
            "iteration": 470,
            "learn": [
             0.8444238561
            ],
            "parameters": [
             {
              "depth": 12,
              "iterations": 1000,
              "l2_leaf_reg": 1,
              "learning_rate": 0.1,
              "task_type": "GPU"
             }
            ],
            "passed_time": 10535.58534,
            "remaining_time": 201.3169173,
            "test": [
             1.292498159
            ]
           },
           {
            "iteration": 471,
            "learn": [
             0.82809804
            ],
            "parameters": [
             {
              "depth": 12,
              "iterations": 1000,
              "l2_leaf_reg": 1,
              "learning_rate": 0.3,
              "task_type": "GPU"
             }
            ],
            "passed_time": 10687.62489,
            "remaining_time": 181.1461845,
            "test": [
             1.285142506
            ]
           },
           {
            "iteration": 472,
            "learn": [
             0.8924150038
            ],
            "parameters": [
             {
              "depth": 12,
              "iterations": 1000,
              "l2_leaf_reg": 3,
              "learning_rate": 0.01,
              "task_type": "GPU"
             }
            ],
            "passed_time": 10892.64068,
            "remaining_time": 161.2018705,
            "test": [
             1.318431975
            ]
           },
           {
            "iteration": 473,
            "learn": [
             0.8652373902
            ],
            "parameters": [
             {
              "depth": 12,
              "iterations": 1000,
              "l2_leaf_reg": 3,
              "learning_rate": 0.03,
              "task_type": "GPU"
             }
            ],
            "passed_time": 11084.08733,
            "remaining_time": 140.3049029,
            "test": [
             1.296290417
            ]
           },
           {
            "iteration": 474,
            "learn": [
             0.8497995422
            ],
            "parameters": [
             {
              "depth": 12,
              "iterations": 1000,
              "l2_leaf_reg": 3,
              "learning_rate": 0.1,
              "task_type": "GPU"
             }
            ],
            "passed_time": 11249.4881,
            "remaining_time": 118.4156643,
            "test": [
             1.300726035
            ]
           },
           {
            "iteration": 475,
            "learn": [
             0.8300898769
            ],
            "parameters": [
             {
              "depth": 12,
              "iterations": 1000,
              "l2_leaf_reg": 3,
              "learning_rate": 0.3,
              "task_type": "GPU"
             }
            ],
            "passed_time": 11411.38072,
            "remaining_time": 95.89395566,
            "test": [
             1.290180104
            ]
           },
           {
            "iteration": 476,
            "learn": [
             0.8949600914
            ],
            "parameters": [
             {
              "depth": 12,
              "iterations": 1000,
              "l2_leaf_reg": 10,
              "learning_rate": 0.01,
              "task_type": "GPU"
             }
            ],
            "passed_time": 11614.29938,
            "remaining_time": 73.04590804,
            "test": [
             1.318898451
            ]
           },
           {
            "iteration": 477,
            "learn": [
             0.8883522859
            ],
            "parameters": [
             {
              "depth": 12,
              "iterations": 1000,
              "l2_leaf_reg": 10,
              "learning_rate": 0.03,
              "task_type": "GPU"
             }
            ],
            "passed_time": 11743.89601,
            "remaining_time": 49.1376402,
            "test": [
             1.312881224
            ]
           },
           {
            "iteration": 478,
            "learn": [
             0.8551749759
            ],
            "parameters": [
             {
              "depth": 12,
              "iterations": 1000,
              "l2_leaf_reg": 10,
              "learning_rate": 0.1,
              "task_type": "GPU"
             }
            ],
            "passed_time": 11924.75232,
            "remaining_time": 24.89509878,
            "test": [
             1.306949065
            ]
           },
           {
            "iteration": 479,
            "learn": [
             0.8387390151
            ],
            "parameters": [
             {
              "depth": 12,
              "iterations": 1000,
              "l2_leaf_reg": 10,
              "learning_rate": 0.3,
              "task_type": "GPU"
             }
            ],
            "passed_time": 12088.26567,
            "remaining_time": 0,
            "test": [
             1.292105367
            ]
           }
          ],
          "meta": {
           "iteration_count": 480,
           "launch_mode": "Train",
           "learn_metrics": [
            {
             "best_value": "Min",
             "name": "RMSE"
            }
           ],
           "learn_sets": [
            "learn"
           ],
           "name": "experiment",
           "parameters": "parameters",
           "test_metrics": [
            {
             "best_value": "Min",
             "name": "RMSE"
            }
           ],
           "test_sets": [
            "test"
           ]
          }
         },
         "passed_iterations": 479,
         "total_iterations": 480
        },
        "name": "catboost_info",
        "path": "catboost_info"
       }
      },
      "layout": "IPY_MODEL_374185ce4ee84c03a10b5d1768a7b173"
     }
    }
   }
  }
 },
 "nbformat": 4,
 "nbformat_minor": 4
}
