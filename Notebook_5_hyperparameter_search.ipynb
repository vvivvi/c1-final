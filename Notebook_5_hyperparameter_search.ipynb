{
 "cells": [
  {
   "cell_type": "markdown",
   "metadata": {},
   "source": [
    "\n",
    "# Hyperparameter search\n",
    "\n",
    "After having selected number of promising feature set candidates in Notebook 4, we perform similar validation experiments in order to select optimal hyperparameters for GBDT (CatBoost) and random forest regressors.\n",
    "\n",
    "In these validation experiments, we use the same training and vaidation sets as in Notebook 4: use December 2014 for validation when training with all the preceding months. Similarly, clipped RMSE is used as the performance metric.\n",
    "\n",
    "In the experiments grid searches are performed over plausible hyperparameter spaces of the respective classifiers. The search is performed separately for each of the five feature subsets with 9, 16 or 25 features selected.\n"
   ]
  },
  {
   "cell_type": "code",
   "execution_count": 1,
   "metadata": {},
   "outputs": [
    {
     "name": "stdout",
     "output_type": "stream",
     "text": [
      "Using DATA_DIR  C:\\Users\\ville\\easema\\repos\\c1-final\\datadir\n"
     ]
    }
   ],
   "source": [
    "import sys\n",
    "import os.path\n",
    "import json\n",
    "import numpy as np\n",
    "import pandas as pd \n",
    "import sklearn\n",
    "import scipy.sparse \n",
    "from itertools import product\n",
    "import gc\n",
    "from tqdm import tqdm_notebook\n",
    "import re\n",
    "from catboost import CatBoostRegressor, Pool\n",
    "from utils import load_feature_set, clipped_rmse, HoldOut\n",
    "import pickle\n",
    "\n",
    "IN_COLAB = 'google.colab' in sys.modules\n",
    "\n",
    "if IN_COLAB:\n",
    "  from google.colab import drive\n",
    "  drive.mount('/content/gdrive') \n",
    "  if not os.path.isfile('SETTINGS.json'):\n",
    "       # hard coded data directory in drive is used if SETTINGS.json not present \n",
    "       config={}\n",
    "       config['DATA_DIR'] = '/content/gdrive/My Drive/kaggle-c1'\n",
    "       with open('SETTINGS.json', 'w') as outfile:\n",
    "         json.dump(config, outfile)\n",
    "\n",
    "with open('SETTINGS.json') as config_file:\n",
    "    config = json.load(config_file)\n",
    "\n",
    "DATA_DIR = config['DATA_DIR']\n",
    "\n",
    "print('Using DATA_DIR ', DATA_DIR)\n",
    "\n",
    "DATA_FOLDER = DATA_DIR"
   ]
  },
  {
   "cell_type": "code",
   "execution_count": 2,
   "metadata": {},
   "outputs": [],
   "source": [
    "def iterate_parameter_combinations(options):\n",
    "    keys = options.keys()\n",
    "    values = (options[key] for key in keys)\n",
    "    return [dict(zip(keys, combination)) for combination in product(*values)]"
   ]
  },
  {
   "cell_type": "code",
   "execution_count": 3,
   "metadata": {},
   "outputs": [],
   "source": [
    "# read feature selection results from disk\n",
    "\n",
    "with open(os.path.join(DATA_FOLDER,'search_path_sfs.pickle'), 'rb') as fp:    \n",
    "            search_path_sfs = pickle.load(fp)"
   ]
  },
  {
   "cell_type": "code",
   "execution_count": 4,
   "metadata": {},
   "outputs": [
    {
     "data": {
      "text/plain": [
       "['target_lag_2', 'item_category_id', 'target_category_tfidf_unigram_256_lag_5']"
      ]
     },
     "execution_count": 4,
     "metadata": {},
     "output_type": "execute_result"
    }
   ],
   "source": [
    "numsel=3\n",
    "id = 'allfeat'\n",
    "list(search_path_sfs[id][numsel]['feature_names'])"
   ]
  },
  {
   "cell_type": "code",
   "execution_count": 2,
   "metadata": {},
   "outputs": [
    {
     "name": "stdout",
     "output_type": "stream",
     "text": [
      "Collecting catboost\n",
      "  Downloading https://files.pythonhosted.org/packages/07/f3/64cce16717aed7b122c9034706c1da40edec86d307995d04d2d818f7ec05/catboost-0.24.3-cp37-none-win_amd64.whl (65.4MB)\n",
      "Requirement already satisfied: numpy>=1.16.0 in e:\\anaconda3\\lib\\site-packages (from catboost) (1.16.2)\n",
      "Collecting plotly (from catboost)\n",
      "  Downloading https://files.pythonhosted.org/packages/4c/f3/93bc71d449828098efc7dda0a682937762d0c17f6140dcbc6fc6fa2a467d/plotly-4.13.0-py2.py3-none-any.whl (13.1MB)\n",
      "Requirement already satisfied: six in e:\\anaconda3\\lib\\site-packages (from catboost) (1.12.0)\n",
      "Collecting graphviz (from catboost)\n",
      "  Downloading https://files.pythonhosted.org/packages/64/72/f4f4205db2a58e7a49e8190c0b49e9669d7ecadf6385b5bcdcf910354a6d/graphviz-0.15-py2.py3-none-any.whl\n",
      "Requirement already satisfied: pandas>=0.24.0 in e:\\anaconda3\\lib\\site-packages (from catboost) (0.24.2)\n",
      "Requirement already satisfied: scipy in e:\\anaconda3\\lib\\site-packages (from catboost) (1.2.1)\n",
      "Requirement already satisfied: matplotlib in e:\\anaconda3\\lib\\site-packages (from catboost) (3.0.3)\n",
      "Collecting retrying>=1.3.3 (from plotly->catboost)\n",
      "  Using cached https://files.pythonhosted.org/packages/44/ef/beae4b4ef80902f22e3af073397f079c96969c69b2c7d52a57ea9ae61c9d/retrying-1.3.3.tar.gz\n",
      "Requirement already satisfied: python-dateutil>=2.5.0 in e:\\anaconda3\\lib\\site-packages (from pandas>=0.24.0->catboost) (2.8.0)\n",
      "Requirement already satisfied: pytz>=2011k in e:\\anaconda3\\lib\\site-packages (from pandas>=0.24.0->catboost) (2018.7)\n",
      "Requirement already satisfied: cycler>=0.10 in e:\\anaconda3\\lib\\site-packages (from matplotlib->catboost) (0.10.0)\n",
      "Requirement already satisfied: kiwisolver>=1.0.1 in e:\\anaconda3\\lib\\site-packages (from matplotlib->catboost) (1.0.1)\n",
      "Requirement already satisfied: pyparsing!=2.0.4,!=2.1.2,!=2.1.6,>=2.0.1 in e:\\anaconda3\\lib\\site-packages (from matplotlib->catboost) (2.3.1)\n",
      "Requirement already satisfied: setuptools in e:\\anaconda3\\lib\\site-packages (from kiwisolver>=1.0.1->matplotlib->catboost) (40.8.0)\n",
      "Building wheels for collected packages: retrying\n",
      "  Building wheel for retrying (setup.py): started\n",
      "  Building wheel for retrying (setup.py): finished with status 'done'\n",
      "  Stored in directory: C:\\Users\\ville\\AppData\\Local\\pip\\Cache\\wheels\\d7\\a9\\33\\acc7b709e2a35caa7d4cae442f6fe6fbf2c43f80823d46460c\n",
      "Successfully built retrying\n",
      "Installing collected packages: retrying, plotly, graphviz, catboost\n",
      "Successfully installed catboost-0.24.3 graphviz-0.15 plotly-4.13.0 retrying-1.3.3\n"
     ]
    }
   ],
   "source": [
    "!pip install catboost"
   ]
  },
  {
   "cell_type": "markdown",
   "metadata": {},
   "source": [
    "## CatBoost regression"
   ]
  },
  {
   "cell_type": "code",
   "execution_count": null,
   "metadata": {},
   "outputs": [
    {
     "name": "stdout",
     "output_type": "stream",
     "text": [
      "300:\tlearn: 0.8184550\ttotal: 25.4s\tremaining: 59.1s\n",
      "400:\tlearn: 0.8159064\ttotal: 33.6s\tremaining: 50.2s\n",
      "500:\tlearn: 0.8154781\ttotal: 42s\tremaining: 41.8s\n",
      "600:\tlearn: 0.8146326\ttotal: 50.3s\tremaining: 33.4s\n",
      "700:\tlearn: 0.8137579\ttotal: 58.5s\tremaining: 25s\n",
      "800:\tlearn: 0.8118350\ttotal: 1m 6s\tremaining: 16.6s\n",
      "900:\tlearn: 0.8106735\ttotal: 1m 14s\tremaining: 8.23s\n",
      "999:\tlearn: 0.8098315\ttotal: 1m 23s\tremaining: 0us\n",
      "Feature set basic params {'learning_rate': 0.3, 'iterations': 1000, 'depth': 14, 'l2_leaf_reg': 10, 'task_type': 'GPU'} Clipped RMSE 0.47350557042181085\n",
      "Feature set basic_sel25 combination 173/240\n",
      "keeping cols  ['target_item_lag_4', 'target_shop_lag_6', 'target_lag_2', 'target_shop_lag_5', 'target_lag_12', 'item_category_id', 'target_category_lag_3', 'target_category_lag_2', 'target_category_lag_6', 'target_lag_4', 'target_item_lag_2', 'target_lag_6', 'target_shop_lag_12', 'item_name_cyrillic_fraction', 'target_lag_5', 'target_category_lag_4', 'target_item_lag_5', 'target_item_lag_12', 'target_shop_lag_3', 'target_shop_lag_2', 'item_name_category_tfidf_bigram_256', 'is_internet_store', 'target_lag_3', 'target_item_lag_6', 'time_of_year']\n",
      "0:\tlearn: 1.0944025\ttotal: 215ms\tremaining: 3m 35s\n",
      "100:\tlearn: 0.7996568\ttotal: 12.1s\tremaining: 1m 48s\n",
      "200:\tlearn: 0.7937302\ttotal: 23.9s\tremaining: 1m 34s\n",
      "300:\tlearn: 0.7931539\ttotal: 35.7s\tremaining: 1m 22s\n",
      "400:\tlearn: 0.7918774\ttotal: 47.5s\tremaining: 1m 10s\n",
      "500:\tlearn: 0.7916338\ttotal: 59.8s\tremaining: 59.6s\n",
      "600:\tlearn: 0.7867794\ttotal: 1m 12s\tremaining: 47.9s\n",
      "700:\tlearn: 0.7808558\ttotal: 1m 24s\tremaining: 35.9s\n",
      "800:\tlearn: 0.7797857\ttotal: 1m 35s\tremaining: 23.8s\n",
      "900:\tlearn: 0.7796007\ttotal: 1m 47s\tremaining: 11.9s\n",
      "999:\tlearn: 0.7788361\ttotal: 1m 59s\tremaining: 0us\n",
      "Feature set basic params {'learning_rate': 0.3, 'iterations': 1000, 'depth': 15, 'l2_leaf_reg': 0.3, 'task_type': 'GPU'} Clipped RMSE 0.4804405425556978\n",
      "Feature set basic_sel25 combination 174/240\n",
      "keeping cols  ['target_item_lag_4', 'target_shop_lag_6', 'target_lag_2', 'target_shop_lag_5', 'target_lag_12', 'item_category_id', 'target_category_lag_3', 'target_category_lag_2', 'target_category_lag_6', 'target_lag_4', 'target_item_lag_2', 'target_lag_6', 'target_shop_lag_12', 'item_name_cyrillic_fraction', 'target_lag_5', 'target_category_lag_4', 'target_item_lag_5', 'target_item_lag_12', 'target_shop_lag_3', 'target_shop_lag_2', 'item_name_category_tfidf_bigram_256', 'is_internet_store', 'target_lag_3', 'target_item_lag_6', 'time_of_year']\n",
      "0:\tlearn: 1.0967560\ttotal: 216ms\tremaining: 3m 35s\n",
      "100:\tlearn: 0.8053891\ttotal: 12.1s\tremaining: 1m 47s\n",
      "200:\tlearn: 0.7914801\ttotal: 23.9s\tremaining: 1m 34s\n",
      "300:\tlearn: 0.7820939\ttotal: 35.9s\tremaining: 1m 23s\n",
      "400:\tlearn: 0.7757082\ttotal: 47.7s\tremaining: 1m 11s\n",
      "500:\tlearn: 0.7738779\ttotal: 59.7s\tremaining: 59.5s\n",
      "600:\tlearn: 0.7729600\ttotal: 1m 11s\tremaining: 47.7s\n",
      "700:\tlearn: 0.7718036\ttotal: 1m 23s\tremaining: 35.8s\n",
      "800:\tlearn: 0.7669474\ttotal: 1m 35s\tremaining: 23.8s\n",
      "900:\tlearn: 0.7640407\ttotal: 1m 47s\tremaining: 11.8s\n",
      "999:\tlearn: 0.7625988\ttotal: 1m 59s\tremaining: 0us\n",
      "Feature set basic params {'learning_rate': 0.3, 'iterations': 1000, 'depth': 15, 'l2_leaf_reg': 1, 'task_type': 'GPU'} Clipped RMSE 0.4792557879818407\n",
      "Feature set basic_sel25 combination 175/240\n",
      "keeping cols  ['target_item_lag_4', 'target_shop_lag_6', 'target_lag_2', 'target_shop_lag_5', 'target_lag_12', 'item_category_id', 'target_category_lag_3', 'target_category_lag_2', 'target_category_lag_6', 'target_lag_4', 'target_item_lag_2', 'target_lag_6', 'target_shop_lag_12', 'item_name_cyrillic_fraction', 'target_lag_5', 'target_category_lag_4', 'target_item_lag_5', 'target_item_lag_12', 'target_shop_lag_3', 'target_shop_lag_2', 'item_name_category_tfidf_bigram_256', 'is_internet_store', 'target_lag_3', 'target_item_lag_6', 'time_of_year']\n",
      "0:\tlearn: 1.0992219\ttotal: 219ms\tremaining: 3m 38s\n",
      "100:\tlearn: 0.8087961\ttotal: 12s\tremaining: 1m 46s\n",
      "200:\tlearn: 0.7922009\ttotal: 23.7s\tremaining: 1m 34s\n",
      "300:\tlearn: 0.7827804\ttotal: 35.6s\tremaining: 1m 22s\n",
      "400:\tlearn: 0.7816140\ttotal: 47.6s\tremaining: 1m 11s\n",
      "500:\tlearn: 0.7802635\ttotal: 59.5s\tremaining: 59.3s\n",
      "600:\tlearn: 0.7796912\ttotal: 1m 11s\tremaining: 47.5s\n",
      "700:\tlearn: 0.7793081\ttotal: 1m 23s\tremaining: 35.6s\n",
      "800:\tlearn: 0.7791386\ttotal: 1m 35s\tremaining: 23.7s\n",
      "900:\tlearn: 0.7785357\ttotal: 1m 47s\tremaining: 11.8s\n",
      "999:\tlearn: 0.7781239\ttotal: 1m 59s\tremaining: 0us\n",
      "Feature set basic params {'learning_rate': 0.3, 'iterations': 1000, 'depth': 15, 'l2_leaf_reg': 3, 'task_type': 'GPU'} Clipped RMSE 0.48532477912296346\n",
      "Feature set basic_sel25 combination 176/240\n",
      "keeping cols  ['target_item_lag_4', 'target_shop_lag_6', 'target_lag_2', 'target_shop_lag_5', 'target_lag_12', 'item_category_id', 'target_category_lag_3', 'target_category_lag_2', 'target_category_lag_6', 'target_lag_4', 'target_item_lag_2', 'target_lag_6', 'target_shop_lag_12', 'item_name_cyrillic_fraction', 'target_lag_5', 'target_category_lag_4', 'target_item_lag_5', 'target_item_lag_12', 'target_shop_lag_3', 'target_shop_lag_2', 'item_name_category_tfidf_bigram_256', 'is_internet_store', 'target_lag_3', 'target_item_lag_6', 'time_of_year']\n",
      "0:\tlearn: 1.1092561\ttotal: 209ms\tremaining: 3m 28s\n",
      "100:\tlearn: 0.8201135\ttotal: 12s\tremaining: 1m 46s\n",
      "200:\tlearn: 0.8050499\ttotal: 24s\tremaining: 1m 35s\n",
      "300:\tlearn: 0.7933166\ttotal: 36s\tremaining: 1m 23s\n",
      "400:\tlearn: 0.7888575\ttotal: 47.7s\tremaining: 1m 11s\n",
      "500:\tlearn: 0.7886650\ttotal: 59.5s\tremaining: 59.3s\n",
      "600:\tlearn: 0.7881741\ttotal: 1m 11s\tremaining: 47.4s\n",
      "700:\tlearn: 0.7874941\ttotal: 1m 23s\tremaining: 35.5s\n",
      "800:\tlearn: 0.7853051\ttotal: 1m 34s\tremaining: 23.6s\n",
      "900:\tlearn: 0.7826395\ttotal: 1m 46s\tremaining: 11.7s\n",
      "999:\tlearn: 0.7730555\ttotal: 1m 58s\tremaining: 0us\n",
      "Feature set basic params {'learning_rate': 0.3, 'iterations': 1000, 'depth': 15, 'l2_leaf_reg': 10, 'task_type': 'GPU'} Clipped RMSE 0.48554913140252\n",
      "Feature set basic_sel25 combination 177/240\n",
      "keeping cols  ['target_item_lag_4', 'target_shop_lag_6', 'target_lag_2', 'target_shop_lag_5', 'target_lag_12', 'item_category_id', 'target_category_lag_3', 'target_category_lag_2', 'target_category_lag_6', 'target_lag_4', 'target_item_lag_2', 'target_lag_6', 'target_shop_lag_12', 'item_name_cyrillic_fraction', 'target_lag_5', 'target_category_lag_4', 'target_item_lag_5', 'target_item_lag_12', 'target_shop_lag_3', 'target_shop_lag_2', 'item_name_category_tfidf_bigram_256', 'is_internet_store', 'target_lag_3', 'target_item_lag_6', 'time_of_year']\n",
      "0:\tlearn: 1.0919657\ttotal: 350ms\tremaining: 5m 49s\n",
      "100:\tlearn: 0.7843229\ttotal: 19.2s\tremaining: 2m 50s\n",
      "200:\tlearn: 0.7749483\ttotal: 38s\tremaining: 2m 30s\n",
      "300:\tlearn: 0.7717289\ttotal: 57s\tremaining: 2m 12s\n",
      "400:\tlearn: 0.7711044\ttotal: 1m 15s\tremaining: 1m 53s\n",
      "500:\tlearn: 0.7708087\ttotal: 1m 34s\tremaining: 1m 34s\n",
      "600:\tlearn: 0.7705769\ttotal: 1m 53s\tremaining: 1m 15s\n",
      "700:\tlearn: 0.7705091\ttotal: 2m 12s\tremaining: 56.7s\n",
      "800:\tlearn: 0.7703086\ttotal: 2m 31s\tremaining: 37.8s\n",
      "900:\tlearn: 0.7701272\ttotal: 2m 51s\tremaining: 18.8s\n",
      "999:\tlearn: 0.7654849\ttotal: 3m 9s\tremaining: 0us\n",
      "Feature set basic params {'learning_rate': 0.3, 'iterations': 1000, 'depth': 16, 'l2_leaf_reg': 0.3, 'task_type': 'GPU'} Clipped RMSE 0.4854573261570348\n",
      "Feature set basic_sel25 combination 178/240\n",
      "keeping cols  ['target_item_lag_4', 'target_shop_lag_6', 'target_lag_2', 'target_shop_lag_5', 'target_lag_12', 'item_category_id', 'target_category_lag_3', 'target_category_lag_2', 'target_category_lag_6', 'target_lag_4', 'target_item_lag_2', 'target_lag_6', 'target_shop_lag_12', 'item_name_cyrillic_fraction', 'target_lag_5', 'target_category_lag_4', 'target_item_lag_5', 'target_item_lag_12', 'target_shop_lag_3', 'target_shop_lag_2', 'item_name_category_tfidf_bigram_256', 'is_internet_store', 'target_lag_3', 'target_item_lag_6', 'time_of_year']\n",
      "0:\tlearn: 1.0942898\ttotal: 396ms\tremaining: 6m 35s\n",
      "100:\tlearn: 0.7962876\ttotal: 19.5s\tremaining: 2m 53s\n",
      "200:\tlearn: 0.7691883\ttotal: 38.4s\tremaining: 2m 32s\n",
      "300:\tlearn: 0.7524999\ttotal: 57.3s\tremaining: 2m 12s\n",
      "400:\tlearn: 0.7452068\ttotal: 1m 16s\tremaining: 1m 53s\n",
      "500:\tlearn: 0.7406956\ttotal: 1m 35s\tremaining: 1m 35s\n",
      "600:\tlearn: 0.7390821\ttotal: 1m 54s\tremaining: 1m 15s\n",
      "700:\tlearn: 0.7389107\ttotal: 2m 13s\tremaining: 56.7s\n",
      "800:\tlearn: 0.7381348\ttotal: 2m 32s\tremaining: 37.8s\n",
      "900:\tlearn: 0.7380759\ttotal: 2m 51s\tremaining: 18.9s\n",
      "999:\tlearn: 0.7359501\ttotal: 3m 10s\tremaining: 0us\n",
      "Feature set basic params {'learning_rate': 0.3, 'iterations': 1000, 'depth': 16, 'l2_leaf_reg': 1, 'task_type': 'GPU'} Clipped RMSE 0.48748410375439455\n",
      "Feature set basic_sel25 combination 179/240\n",
      "keeping cols  ['target_item_lag_4', 'target_shop_lag_6', 'target_lag_2', 'target_shop_lag_5', 'target_lag_12', 'item_category_id', 'target_category_lag_3', 'target_category_lag_2', 'target_category_lag_6', 'target_lag_4', 'target_item_lag_2', 'target_lag_6', 'target_shop_lag_12', 'item_name_cyrillic_fraction', 'target_lag_5', 'target_category_lag_4', 'target_item_lag_5', 'target_item_lag_12', 'target_shop_lag_3', 'target_shop_lag_2', 'item_name_category_tfidf_bigram_256', 'is_internet_store', 'target_lag_3', 'target_item_lag_6', 'time_of_year']\n",
      "0:\tlearn: 1.0997919\ttotal: 392ms\tremaining: 6m 31s\n",
      "100:\tlearn: 0.7993722\ttotal: 19.1s\tremaining: 2m 50s\n",
      "200:\tlearn: 0.7970823\ttotal: 37.9s\tremaining: 2m 30s\n",
      "300:\tlearn: 0.7778727\ttotal: 56.9s\tremaining: 2m 12s\n",
      "400:\tlearn: 0.7636763\ttotal: 1m 15s\tremaining: 1m 53s\n",
      "500:\tlearn: 0.7593789\ttotal: 1m 34s\tremaining: 1m 34s\n",
      "600:\tlearn: 0.7580930\ttotal: 1m 54s\tremaining: 1m 15s\n",
      "700:\tlearn: 0.7576086\ttotal: 2m 13s\tremaining: 56.8s\n",
      "800:\tlearn: 0.7513588\ttotal: 2m 32s\tremaining: 37.8s\n",
      "900:\tlearn: 0.7490380\ttotal: 2m 51s\tremaining: 18.8s\n",
      "999:\tlearn: 0.7488937\ttotal: 3m 10s\tremaining: 0us\n",
      "Feature set basic params {'learning_rate': 0.3, 'iterations': 1000, 'depth': 16, 'l2_leaf_reg': 3, 'task_type': 'GPU'} Clipped RMSE 0.4762003034933685\n",
      "Feature set basic_sel25 combination 180/240\n",
      "keeping cols  ['target_item_lag_4', 'target_shop_lag_6', 'target_lag_2', 'target_shop_lag_5', 'target_lag_12', 'item_category_id', 'target_category_lag_3', 'target_category_lag_2', 'target_category_lag_6', 'target_lag_4', 'target_item_lag_2', 'target_lag_6', 'target_shop_lag_12', 'item_name_cyrillic_fraction', 'target_lag_5', 'target_category_lag_4', 'target_item_lag_5', 'target_item_lag_12', 'target_shop_lag_3', 'target_shop_lag_2', 'item_name_category_tfidf_bigram_256', 'is_internet_store', 'target_lag_3', 'target_item_lag_6', 'time_of_year']\n",
      "0:\tlearn: 1.1072077\ttotal: 346ms\tremaining: 5m 45s\n",
      "100:\tlearn: 0.8063139\ttotal: 19.6s\tremaining: 2m 54s\n",
      "200:\tlearn: 0.7804688\ttotal: 38.7s\tremaining: 2m 33s\n",
      "300:\tlearn: 0.7734055\ttotal: 57.9s\tremaining: 2m 14s\n",
      "400:\tlearn: 0.7713889\ttotal: 1m 17s\tremaining: 1m 55s\n",
      "500:\tlearn: 0.7661204\ttotal: 1m 36s\tremaining: 1m 35s\n",
      "600:\tlearn: 0.7646914\ttotal: 1m 55s\tremaining: 1m 16s\n",
      "700:\tlearn: 0.7645751\ttotal: 2m 14s\tremaining: 57.2s\n",
      "800:\tlearn: 0.7644271\ttotal: 2m 33s\tremaining: 38s\n",
      "900:\tlearn: 0.7642650\ttotal: 2m 51s\tremaining: 18.9s\n",
      "999:\tlearn: 0.7637671\ttotal: 3m 10s\tremaining: 0us\n",
      "Feature set basic params {'learning_rate': 0.3, 'iterations': 1000, 'depth': 16, 'l2_leaf_reg': 10, 'task_type': 'GPU'} Clipped RMSE 0.4815728144415769\n",
      "Feature set basic_sel25 combination 181/240\n",
      "keeping cols  ['target_item_lag_4', 'target_shop_lag_6', 'target_lag_2', 'target_shop_lag_5', 'target_lag_12', 'item_category_id', 'target_category_lag_3', 'target_category_lag_2', 'target_category_lag_6', 'target_lag_4', 'target_item_lag_2', 'target_lag_6', 'target_shop_lag_12', 'item_name_cyrillic_fraction', 'target_lag_5', 'target_category_lag_4', 'target_item_lag_5', 'target_item_lag_12', 'target_shop_lag_3', 'target_shop_lag_2', 'item_name_category_tfidf_bigram_256', 'is_internet_store', 'target_lag_3', 'target_item_lag_6', 'time_of_year']\n",
      "0:\tlearn: 1.0679747\ttotal: 63.8ms\tremaining: 6.31s\n",
      "99:\tlearn: 0.8689869\ttotal: 5.89s\tremaining: 0us\n",
      "Feature set basic params {'learning_rate': 0.5, 'iterations': 100, 'depth': 10, 'l2_leaf_reg': 0.3, 'task_type': 'GPU'} Clipped RMSE 0.4813571931772167\n",
      "Feature set basic_sel25 combination 182/240\n",
      "keeping cols  ['target_item_lag_4', 'target_shop_lag_6', 'target_lag_2', 'target_shop_lag_5', 'target_lag_12', 'item_category_id', 'target_category_lag_3', 'target_category_lag_2', 'target_category_lag_6', 'target_lag_4', 'target_item_lag_2', 'target_lag_6', 'target_shop_lag_12', 'item_name_cyrillic_fraction', 'target_lag_5', 'target_category_lag_4', 'target_item_lag_5', 'target_item_lag_12', 'target_shop_lag_3', 'target_shop_lag_2', 'item_name_category_tfidf_bigram_256', 'is_internet_store', 'target_lag_3', 'target_item_lag_6', 'time_of_year']\n",
      "0:\tlearn: 1.0686928\ttotal: 63.3ms\tremaining: 6.27s\n",
      "99:\tlearn: 0.8612272\ttotal: 6s\tremaining: 0us\n",
      "Feature set basic params {'learning_rate': 0.5, 'iterations': 100, 'depth': 10, 'l2_leaf_reg': 1, 'task_type': 'GPU'} Clipped RMSE 0.4889821487907702\n",
      "Feature set basic_sel25 combination 183/240\n",
      "keeping cols  ['target_item_lag_4', 'target_shop_lag_6', 'target_lag_2', 'target_shop_lag_5', 'target_lag_12', 'item_category_id', 'target_category_lag_3', 'target_category_lag_2', 'target_category_lag_6', 'target_lag_4', 'target_item_lag_2', 'target_lag_6', 'target_shop_lag_12', 'item_name_cyrillic_fraction', 'target_lag_5', 'target_category_lag_4', 'target_item_lag_5', 'target_item_lag_12', 'target_shop_lag_3', 'target_shop_lag_2', 'item_name_category_tfidf_bigram_256', 'is_internet_store', 'target_lag_3', 'target_item_lag_6', 'time_of_year']\n",
      "0:\tlearn: 1.0704699\ttotal: 57.6ms\tremaining: 5.7s\n",
      "99:\tlearn: 0.8827582\ttotal: 5.88s\tremaining: 0us\n",
      "Feature set basic params {'learning_rate': 0.5, 'iterations': 100, 'depth': 10, 'l2_leaf_reg': 3, 'task_type': 'GPU'} Clipped RMSE 0.48665329218128267\n",
      "Feature set basic_sel25 combination 184/240\n",
      "keeping cols  ['target_item_lag_4', 'target_shop_lag_6', 'target_lag_2', 'target_shop_lag_5', 'target_lag_12', 'item_category_id', 'target_category_lag_3', 'target_category_lag_2', 'target_category_lag_6', 'target_lag_4', 'target_item_lag_2', 'target_lag_6', 'target_shop_lag_12', 'item_name_cyrillic_fraction', 'target_lag_5', 'target_category_lag_4', 'target_item_lag_5', 'target_item_lag_12', 'target_shop_lag_3', 'target_shop_lag_2', 'item_name_category_tfidf_bigram_256', 'is_internet_store', 'target_lag_3', 'target_item_lag_6', 'time_of_year']\n",
      "0:\tlearn: 1.0725644\ttotal: 57.5ms\tremaining: 5.7s\n",
      "99:\tlearn: 0.8794782\ttotal: 6.02s\tremaining: 0us\n",
      "Feature set basic params {'learning_rate': 0.5, 'iterations': 100, 'depth': 10, 'l2_leaf_reg': 10, 'task_type': 'GPU'} Clipped RMSE 0.49744207456049333\n",
      "Feature set basic_sel25 combination 185/240\n",
      "keeping cols  ['target_item_lag_4', 'target_shop_lag_6', 'target_lag_2', 'target_shop_lag_5', 'target_lag_12', 'item_category_id', 'target_category_lag_3', 'target_category_lag_2', 'target_category_lag_6', 'target_lag_4', 'target_item_lag_2', 'target_lag_6', 'target_shop_lag_12', 'item_name_cyrillic_fraction', 'target_lag_5', 'target_category_lag_4', 'target_item_lag_5', 'target_item_lag_12', 'target_shop_lag_3', 'target_shop_lag_2', 'item_name_category_tfidf_bigram_256', 'is_internet_store', 'target_lag_3', 'target_item_lag_6', 'time_of_year']\n",
      "0:\tlearn: 1.0586049\ttotal: 80.6ms\tremaining: 7.98s\n",
      "99:\tlearn: 0.8178320\ttotal: 7.67s\tremaining: 0us\n",
      "Feature set basic params {'learning_rate': 0.5, 'iterations': 100, 'depth': 12, 'l2_leaf_reg': 0.3, 'task_type': 'GPU'} Clipped RMSE 0.48729102942399044\n",
      "Feature set basic_sel25 combination 186/240\n",
      "keeping cols  ['target_item_lag_4', 'target_shop_lag_6', 'target_lag_2', 'target_shop_lag_5', 'target_lag_12', 'item_category_id', 'target_category_lag_3', 'target_category_lag_2', 'target_category_lag_6', 'target_lag_4', 'target_item_lag_2', 'target_lag_6', 'target_shop_lag_12', 'item_name_cyrillic_fraction', 'target_lag_5', 'target_category_lag_4', 'target_item_lag_5', 'target_item_lag_12', 'target_shop_lag_3', 'target_shop_lag_2', 'item_name_category_tfidf_bigram_256', 'is_internet_store', 'target_lag_3', 'target_item_lag_6', 'time_of_year']\n",
      "0:\tlearn: 1.0566098\ttotal: 80.6ms\tremaining: 7.98s\n",
      "99:\tlearn: 0.8244968\ttotal: 7.67s\tremaining: 0us\n",
      "Feature set basic params {'learning_rate': 0.5, 'iterations': 100, 'depth': 12, 'l2_leaf_reg': 1, 'task_type': 'GPU'} Clipped RMSE 0.4911080126275124\n",
      "Feature set basic_sel25 combination 187/240\n",
      "keeping cols  ['target_item_lag_4', 'target_shop_lag_6', 'target_lag_2', 'target_shop_lag_5', 'target_lag_12', 'item_category_id', 'target_category_lag_3', 'target_category_lag_2', 'target_category_lag_6', 'target_lag_4', 'target_item_lag_2', 'target_lag_6', 'target_shop_lag_12', 'item_name_cyrillic_fraction', 'target_lag_5', 'target_category_lag_4', 'target_item_lag_5', 'target_item_lag_12', 'target_shop_lag_3', 'target_shop_lag_2', 'item_name_category_tfidf_bigram_256', 'is_internet_store', 'target_lag_3', 'target_item_lag_6', 'time_of_year']\n",
      "0:\tlearn: 1.0577854\ttotal: 80.5ms\tremaining: 7.97s\n",
      "99:\tlearn: 0.8435519\ttotal: 7.95s\tremaining: 0us\n",
      "Feature set basic params {'learning_rate': 0.5, 'iterations': 100, 'depth': 12, 'l2_leaf_reg': 3, 'task_type': 'GPU'} Clipped RMSE 0.48886189840535116\n",
      "Feature set basic_sel25 combination 188/240\n",
      "keeping cols  ['target_item_lag_4', 'target_shop_lag_6', 'target_lag_2', 'target_shop_lag_5', 'target_lag_12', 'item_category_id', 'target_category_lag_3', 'target_category_lag_2', 'target_category_lag_6', 'target_lag_4', 'target_item_lag_2', 'target_lag_6', 'target_shop_lag_12', 'item_name_cyrillic_fraction', 'target_lag_5', 'target_category_lag_4', 'target_item_lag_5', 'target_item_lag_12', 'target_shop_lag_3', 'target_shop_lag_2', 'item_name_category_tfidf_bigram_256', 'is_internet_store', 'target_lag_3', 'target_item_lag_6', 'time_of_year']\n",
      "0:\tlearn: 1.0636177\ttotal: 78.4ms\tremaining: 7.76s\n",
      "99:\tlearn: 0.8375306\ttotal: 7.49s\tremaining: 0us\n",
      "Feature set basic params {'learning_rate': 0.5, 'iterations': 100, 'depth': 12, 'l2_leaf_reg': 10, 'task_type': 'GPU'} Clipped RMSE 0.4980444225769937\n",
      "Feature set basic_sel25 combination 189/240\n",
      "keeping cols  ['target_item_lag_4', 'target_shop_lag_6', 'target_lag_2', 'target_shop_lag_5', 'target_lag_12', 'item_category_id', 'target_category_lag_3', 'target_category_lag_2', 'target_category_lag_6', 'target_lag_4', 'target_item_lag_2', 'target_lag_6', 'target_shop_lag_12', 'item_name_cyrillic_fraction', 'target_lag_5', 'target_category_lag_4', 'target_item_lag_5', 'target_item_lag_12', 'target_shop_lag_3', 'target_shop_lag_2', 'item_name_category_tfidf_bigram_256', 'is_internet_store', 'target_lag_3', 'target_item_lag_6', 'time_of_year']\n",
      "0:\tlearn: 1.0470645\ttotal: 144ms\tremaining: 14.3s\n"
     ]
    }
   ],
   "source": [
    "grid = {'learning_rate': [0.03, 0.1,0.3,0.5],\n",
    "        'iterations': [100,300,1000],\n",
    "        'depth': [10,12,14,15,16],\n",
    "        'l2_leaf_reg': [0.3, 1, 3, 10],\n",
    "          'task_type': ['GPU']}\n",
    "\n",
    "best_params={}          \n",
    "\n",
    "X_train, y_train, X_trainval, y_trainval, X_val, y_val, X_test, submissionidx2testidx = load_feature_set('allfeat', data_folder=DATA_FOLDER)\n",
    "\n",
    "for id in ['basic','basicv2','allfeat','text','within']:\n",
    "  for numsel in [9,16,25]:  \n",
    "      comb_list=iterate_parameter_combinations(grid)\n",
    "      score_list=[]\n",
    "      for param in comb_list:\n",
    "        print('Feature set {}_sel{} combination {}/{}'.format(id,numsel,len(score_list)+1,len(comb_list))) \n",
    "        print('keeping cols ', list(search_path_sfs[id][numsel]['feature_names']))\n",
    "        to_drop_cols= [col for col in X_train.columns.values if not col in list(search_path_sfs[id][numsel]['feature_names'])]\n",
    "        reg=CatBoostRegressor(metric_period=100, **param)\n",
    "        reg.fit(X_train.drop(to_drop_cols,axis=1).to_numpy(), y_train)\n",
    "        pred_val = np.clip(reg.predict(X_val.drop(to_drop_cols,axis=1).to_numpy()), 0, 20)\n",
    "        rmse = clipped_rmse(y_val, pred_val)\n",
    "        print('Feature set {} params {} Clipped RMSE {}'.format(id,param,rmse))\n",
    "        score_list.append(rmse)\n",
    "        \n",
    "      print('** Best CatBoostRegressor params for feature set {}_{}: {}'.format(id,numsel,comb_list[np.argmin(score_list)]))      \n",
    "      best_params['{}_sel{}'.format(id,numsel)]=comb_list[np.argmin(score_list)]\n",
    "      with open(os.path.join(DATA_FOLDER,'best_params_catboost.json'), 'w') as fp:\n",
    "        json.dump(best_params, fp)  \n",
    "        "
   ]
  },
  {
   "cell_type": "markdown",
   "metadata": {},
   "source": [
    "## Random forest regression"
   ]
  },
  {
   "cell_type": "code",
   "execution_count": 5,
   "metadata": {},
   "outputs": [
    {
     "name": "stdout",
     "output_type": "stream",
     "text": [
      "building tree 9 of 50\n",
      "building tree 10 of 50\n",
      "building tree 11 of 50\n",
      "building tree 12 of 50\n",
      "building tree 13 of 50\n",
      "building tree 14 of 50\n",
      "building tree 15 of 50\n",
      "building tree 16 of 50\n",
      "building tree 17 of 50\n",
      "building tree 18 of 50building tree 19 of 50\n",
      "\n",
      "building tree 20 of 50\n",
      "building tree 21 of 50\n",
      "building tree 22 of 50\n",
      "building tree 23 of 50\n",
      "building tree 24 of 50\n",
      "building tree 25 of 50\n",
      "building tree 26 of 50\n",
      "building tree 27 of 50\n",
      "building tree 28 of 50\n",
      "building tree 29 of 50\n",
      "building tree 30 of 50\n",
      "building tree 31 of 50\n",
      "building tree 32 of 50\n",
      "building tree 33 of 50building tree 34 of 50\n",
      "\n",
      "building tree 35 of 50\n",
      "building tree 36 of 50\n"
     ]
    },
    {
     "name": "stderr",
     "output_type": "stream",
     "text": [
      "[Parallel(n_jobs=-1)]: Done  33 tasks      | elapsed:  3.1min\n"
     ]
    },
    {
     "name": "stdout",
     "output_type": "stream",
     "text": [
      "building tree 37 of 50\n",
      "building tree 38 of 50\n",
      "building tree 39 of 50\n",
      "building tree 40 of 50\n",
      "building tree 41 of 50\n",
      "building tree 42 of 50\n",
      "building tree 43 of 50\n",
      "building tree 44 of 50\n",
      "building tree 45 of 50\n",
      "building tree 46 of 50\n",
      "building tree 47 of 50\n",
      "building tree 48 of 50\n",
      "building tree 49 of 50\n",
      "building tree 50 of 50\n"
     ]
    },
    {
     "name": "stderr",
     "output_type": "stream",
     "text": [
      "[Parallel(n_jobs=-1)]: Done  50 out of  50 | elapsed:  4.4min finished\n",
      "[Parallel(n_jobs=4)]: Using backend ThreadingBackend with 4 concurrent workers.\n",
      "[Parallel(n_jobs=4)]: Done  33 tasks      | elapsed:    0.1s\n",
      "[Parallel(n_jobs=4)]: Done  50 out of  50 | elapsed:    0.2s finished\n"
     ]
    },
    {
     "name": "stdout",
     "output_type": "stream",
     "text": [
      "Feature set within params {'max_depth': 12, 'n_estimators': 50} Clipped RMSE 0.5493221283567645\n",
      "Feature set within_sel16 combination 6/12\n",
      "param dict:  {'max_depth': 12, 'n_estimators': 100}\n",
      "keeping cols  ['target_category_tfidf_bigram_256_within_shop_lag_12', 'target_category_within_shop_lag_4', 'date_block_num', 'item_category_id', 'target_category_tfidf_unigram_256_within_shop_lag_2', 'target_category_tfidf_bigram_256_within_shop_lag_4', 'target_category_tfidf_unigram_256_within_shop_lag_6', 'target_category_frequent_256_within_shop_lag_4', 'target_category_within_shop_lag_3', 'target_category_tfidf_bigram_256_within_shop_lag_5', 'target_category_tfidf_unigram_256_within_shop_lag_5', 'target_category_frequent_256_within_shop_lag_12', 'shop_id', 'target_category_frequent_256_within_shop_lag_3', 'target_category_tfidf_bigram_256_within_shop_lag_3', 'target_category_tfidf_unigram_256_within_shop_lag_3']\n"
     ]
    },
    {
     "name": "stderr",
     "output_type": "stream",
     "text": [
      "[Parallel(n_jobs=-1)]: Using backend ThreadingBackend with 4 concurrent workers.\n"
     ]
    },
    {
     "name": "stdout",
     "output_type": "stream",
     "text": [
      "building tree 1 of 100building tree 2 of 100building tree 3 of 100building tree 4 of 100\n",
      "\n",
      "\n",
      "\n",
      "building tree 5 of 100\n",
      "building tree 6 of 100\n",
      "building tree 7 of 100\n",
      "building tree 8 of 100\n",
      "building tree 9 of 100\n",
      "building tree 10 of 100\n",
      "building tree 11 of 100\n",
      "building tree 12 of 100\n",
      "building tree 13 of 100\n",
      "building tree 14 of 100\n",
      "building tree 15 of 100\n",
      "building tree 16 of 100\n",
      "building tree 17 of 100\n",
      "building tree 18 of 100\n",
      "building tree 19 of 100\n",
      "building tree 20 of 100\n",
      "building tree 21 of 100\n",
      "building tree 22 of 100\n",
      "building tree 23 of 100\n",
      "building tree 24 of 100\n",
      "building tree 25 of 100\n",
      "building tree 26 of 100\n",
      "building tree 27 of 100\n",
      "building tree 28 of 100\n",
      "building tree 29 of 100\n",
      "building tree 30 of 100\n",
      "building tree 31 of 100\n",
      "building tree 32 of 100\n",
      "building tree 33 of 100\n",
      "building tree 34 of 100\n",
      "building tree 35 of 100\n",
      "building tree 36 of 100\n"
     ]
    },
    {
     "name": "stderr",
     "output_type": "stream",
     "text": [
      "[Parallel(n_jobs=-1)]: Done  33 tasks      | elapsed:  3.0min\n"
     ]
    },
    {
     "name": "stdout",
     "output_type": "stream",
     "text": [
      "building tree 37 of 100\n",
      "building tree 38 of 100\n",
      "building tree 39 of 100\n",
      "building tree 40 of 100\n",
      "building tree 41 of 100\n",
      "building tree 42 of 100\n",
      "building tree 43 of 100\n",
      "building tree 44 of 100\n",
      "building tree 45 of 100\n",
      "building tree 46 of 100\n",
      "building tree 47 of 100\n",
      "building tree 48 of 100\n",
      "building tree 49 of 100\n",
      "building tree 50 of 100\n",
      "building tree 51 of 100\n",
      "building tree 52 of 100\n",
      "building tree 53 of 100\n",
      "building tree 54 of 100\n",
      "building tree 55 of 100\n",
      "building tree 56 of 100\n",
      "building tree 57 of 100\n",
      "building tree 58 of 100\n",
      "building tree 59 of 100\n",
      "building tree 60 of 100\n",
      "building tree 61 of 100\n",
      "building tree 62 of 100\n",
      "building tree 63 of 100\n",
      "building tree 64 of 100\n",
      "building tree 65 of 100\n",
      "building tree 66 of 100\n",
      "building tree 67 of 100\n",
      "building tree 68 of 100\n",
      "building tree 69 of 100\n",
      "building tree 70 of 100\n",
      "building tree 71 of 100\n",
      "building tree 72 of 100\n",
      "building tree 73 of 100\n",
      "building tree 74 of 100\n",
      "building tree 75 of 100\n",
      "building tree 76 of 100\n",
      "building tree 77 of 100\n",
      "building tree 78 of 100\n",
      "building tree 79 of 100\n",
      "building tree 80 of 100\n",
      "building tree 81 of 100\n",
      "building tree 82 of 100\n",
      "building tree 83 of 100\n",
      "building tree 84 of 100\n",
      "building tree 85 of 100\n",
      "building tree 86 of 100\n",
      "building tree 87 of 100\n",
      "building tree 88 of 100\n",
      "building tree 89 of 100\n",
      "building tree 90 of 100\n",
      "building tree 91 of 100\n",
      "building tree 92 of 100\n",
      "building tree 93 of 100\n",
      "building tree 94 of 100\n",
      "building tree 95 of 100\n",
      "building tree 96 of 100\n",
      "building tree 97 of 100\n",
      "building tree 98 of 100\n",
      "building tree 99 of 100\n",
      "building tree 100 of 100\n"
     ]
    },
    {
     "name": "stderr",
     "output_type": "stream",
     "text": [
      "[Parallel(n_jobs=-1)]: Done 100 out of 100 | elapsed:  8.2min finished\n",
      "[Parallel(n_jobs=4)]: Using backend ThreadingBackend with 4 concurrent workers.\n",
      "[Parallel(n_jobs=4)]: Done  33 tasks      | elapsed:    0.1s\n",
      "[Parallel(n_jobs=4)]: Done 100 out of 100 | elapsed:    0.5s finished\n"
     ]
    },
    {
     "name": "stdout",
     "output_type": "stream",
     "text": [
      "Feature set within params {'max_depth': 12, 'n_estimators': 100} Clipped RMSE 0.5478988589742637\n",
      "Feature set within_sel16 combination 7/12\n",
      "param dict:  {'max_depth': 14, 'n_estimators': 30}\n",
      "keeping cols  ['target_category_tfidf_bigram_256_within_shop_lag_12', 'target_category_within_shop_lag_4', 'date_block_num', 'item_category_id', 'target_category_tfidf_unigram_256_within_shop_lag_2', 'target_category_tfidf_bigram_256_within_shop_lag_4', 'target_category_tfidf_unigram_256_within_shop_lag_6', 'target_category_frequent_256_within_shop_lag_4', 'target_category_within_shop_lag_3', 'target_category_tfidf_bigram_256_within_shop_lag_5', 'target_category_tfidf_unigram_256_within_shop_lag_5', 'target_category_frequent_256_within_shop_lag_12', 'shop_id', 'target_category_frequent_256_within_shop_lag_3', 'target_category_tfidf_bigram_256_within_shop_lag_3', 'target_category_tfidf_unigram_256_within_shop_lag_3']\n"
     ]
    },
    {
     "name": "stderr",
     "output_type": "stream",
     "text": [
      "[Parallel(n_jobs=-1)]: Using backend ThreadingBackend with 4 concurrent workers.\n"
     ]
    },
    {
     "name": "stdout",
     "output_type": "stream",
     "text": [
      "building tree 1 of 30building tree 2 of 30building tree 3 of 30building tree 4 of 30\n",
      "\n",
      "\n",
      "\n",
      "building tree 5 of 30\n",
      "building tree 6 of 30\n",
      "building tree 7 of 30\n",
      "building tree 8 of 30\n",
      "building tree 9 of 30\n",
      "building tree 10 of 30\n",
      "building tree 11 of 30\n",
      "building tree 12 of 30\n",
      "building tree 13 of 30\n",
      "building tree 14 of 30\n",
      "building tree 15 of 30\n",
      "building tree 16 of 30\n",
      "building tree 17 of 30\n",
      "building tree 18 of 30\n",
      "building tree 19 of 30\n",
      "building tree 20 of 30\n",
      "building tree 21 of 30\n",
      "building tree 22 of 30\n",
      "building tree 23 of 30\n",
      "building tree 24 of 30\n",
      "building tree 25 of 30\n",
      "building tree 26 of 30\n",
      "building tree 27 of 30\n",
      "building tree 28 of 30\n",
      "building tree 29 of 30\n",
      "building tree 30 of 30\n"
     ]
    },
    {
     "name": "stderr",
     "output_type": "stream",
     "text": [
      "[Parallel(n_jobs=-1)]: Done  30 out of  30 | elapsed:  2.8min finished\n",
      "[Parallel(n_jobs=4)]: Using backend ThreadingBackend with 4 concurrent workers.\n",
      "[Parallel(n_jobs=4)]: Done  30 out of  30 | elapsed:    0.1s finished\n"
     ]
    },
    {
     "name": "stdout",
     "output_type": "stream",
     "text": [
      "Feature set within params {'max_depth': 14, 'n_estimators': 30} Clipped RMSE 0.5532557380982854\n",
      "Feature set within_sel16 combination 8/12\n",
      "param dict:  {'max_depth': 14, 'n_estimators': 50}\n",
      "keeping cols  ['target_category_tfidf_bigram_256_within_shop_lag_12', 'target_category_within_shop_lag_4', 'date_block_num', 'item_category_id', 'target_category_tfidf_unigram_256_within_shop_lag_2', 'target_category_tfidf_bigram_256_within_shop_lag_4', 'target_category_tfidf_unigram_256_within_shop_lag_6', 'target_category_frequent_256_within_shop_lag_4', 'target_category_within_shop_lag_3', 'target_category_tfidf_bigram_256_within_shop_lag_5', 'target_category_tfidf_unigram_256_within_shop_lag_5', 'target_category_frequent_256_within_shop_lag_12', 'shop_id', 'target_category_frequent_256_within_shop_lag_3', 'target_category_tfidf_bigram_256_within_shop_lag_3', 'target_category_tfidf_unigram_256_within_shop_lag_3']\n"
     ]
    },
    {
     "name": "stderr",
     "output_type": "stream",
     "text": [
      "[Parallel(n_jobs=-1)]: Using backend ThreadingBackend with 4 concurrent workers.\n"
     ]
    },
    {
     "name": "stdout",
     "output_type": "stream",
     "text": [
      "building tree 1 of 50building tree 2 of 50building tree 3 of 50building tree 4 of 50\n",
      "\n",
      "\n",
      "\n",
      "building tree 5 of 50\n",
      "building tree 6 of 50\n",
      "building tree 7 of 50\n",
      "building tree 8 of 50\n",
      "building tree 9 of 50\n",
      "building tree 10 of 50\n",
      "building tree 11 of 50\n",
      "building tree 12 of 50\n",
      "building tree 13 of 50\n",
      "building tree 14 of 50\n",
      "building tree 15 of 50\n",
      "building tree 16 of 50\n",
      "building tree 17 of 50\n",
      "building tree 18 of 50\n",
      "building tree 19 of 50\n",
      "building tree 20 of 50\n",
      "building tree 21 of 50\n",
      "building tree 22 of 50\n",
      "building tree 23 of 50\n",
      "building tree 24 of 50\n",
      "building tree 25 of 50\n",
      "building tree 26 of 50\n",
      "building tree 27 of 50\n",
      "building tree 28 of 50\n",
      "building tree 29 of 50\n",
      "building tree 30 of 50\n",
      "building tree 31 of 50\n",
      "building tree 32 of 50\n",
      "building tree 33 of 50\n",
      "building tree 34 of 50\n",
      "building tree 35 of 50\n",
      "building tree 36 of 50\n"
     ]
    },
    {
     "name": "stderr",
     "output_type": "stream",
     "text": [
      "[Parallel(n_jobs=-1)]: Done  33 tasks      | elapsed:  3.2min\n"
     ]
    },
    {
     "name": "stdout",
     "output_type": "stream",
     "text": [
      "building tree 37 of 50\n",
      "building tree 38 of 50\n",
      "building tree 39 of 50\n",
      "building tree 40 of 50\n",
      "building tree 41 of 50\n",
      "building tree 42 of 50\n",
      "building tree 43 of 50\n",
      "building tree 44 of 50\n",
      "building tree 45 of 50\n",
      "building tree 46 of 50\n",
      "building tree 47 of 50\n",
      "building tree 48 of 50\n",
      "building tree 49 of 50\n",
      "building tree 50 of 50\n"
     ]
    },
    {
     "name": "stderr",
     "output_type": "stream",
     "text": [
      "[Parallel(n_jobs=-1)]: Done  50 out of  50 | elapsed:  4.6min finished\n",
      "[Parallel(n_jobs=4)]: Using backend ThreadingBackend with 4 concurrent workers.\n",
      "[Parallel(n_jobs=4)]: Done  33 tasks      | elapsed:    0.1s\n",
      "[Parallel(n_jobs=4)]: Done  50 out of  50 | elapsed:    0.3s finished\n"
     ]
    },
    {
     "name": "stdout",
     "output_type": "stream",
     "text": [
      "Feature set within params {'max_depth': 14, 'n_estimators': 50} Clipped RMSE 0.553294557329196\n",
      "Feature set within_sel16 combination 9/12\n",
      "param dict:  {'max_depth': 14, 'n_estimators': 100}\n",
      "keeping cols  ['target_category_tfidf_bigram_256_within_shop_lag_12', 'target_category_within_shop_lag_4', 'date_block_num', 'item_category_id', 'target_category_tfidf_unigram_256_within_shop_lag_2', 'target_category_tfidf_bigram_256_within_shop_lag_4', 'target_category_tfidf_unigram_256_within_shop_lag_6', 'target_category_frequent_256_within_shop_lag_4', 'target_category_within_shop_lag_3', 'target_category_tfidf_bigram_256_within_shop_lag_5', 'target_category_tfidf_unigram_256_within_shop_lag_5', 'target_category_frequent_256_within_shop_lag_12', 'shop_id', 'target_category_frequent_256_within_shop_lag_3', 'target_category_tfidf_bigram_256_within_shop_lag_3', 'target_category_tfidf_unigram_256_within_shop_lag_3']\n"
     ]
    },
    {
     "name": "stderr",
     "output_type": "stream",
     "text": [
      "[Parallel(n_jobs=-1)]: Using backend ThreadingBackend with 4 concurrent workers.\n"
     ]
    },
    {
     "name": "stdout",
     "output_type": "stream",
     "text": [
      "building tree 1 of 100building tree 2 of 100building tree 3 of 100building tree 4 of 100\n",
      "\n",
      "\n",
      "\n",
      "building tree 5 of 100\n",
      "building tree 6 of 100\n",
      "building tree 7 of 100\n",
      "building tree 8 of 100\n",
      "building tree 9 of 100\n",
      "building tree 10 of 100\n",
      "building tree 11 of 100\n",
      "building tree 12 of 100\n",
      "building tree 13 of 100\n",
      "building tree 14 of 100\n",
      "building tree 15 of 100\n",
      "building tree 16 of 100\n",
      "building tree 17 of 100\n",
      "building tree 18 of 100\n",
      "building tree 19 of 100\n",
      "building tree 20 of 100\n",
      "building tree 21 of 100\n",
      "building tree 22 of 100\n",
      "building tree 23 of 100\n",
      "building tree 24 of 100\n",
      "building tree 25 of 100\n",
      "building tree 26 of 100\n",
      "building tree 27 of 100\n",
      "building tree 28 of 100\n",
      "building tree 29 of 100\n",
      "building tree 30 of 100\n",
      "building tree 31 of 100\n",
      "building tree 32 of 100\n",
      "building tree 33 of 100\n",
      "building tree 34 of 100\n",
      "building tree 35 of 100\n",
      "building tree 36 of 100\n"
     ]
    },
    {
     "name": "stderr",
     "output_type": "stream",
     "text": [
      "[Parallel(n_jobs=-1)]: Done  33 tasks      | elapsed:  3.2min\n"
     ]
    },
    {
     "name": "stdout",
     "output_type": "stream",
     "text": [
      "building tree 37 of 100\n",
      "building tree 38 of 100\n",
      "building tree 39 of 100\n",
      "building tree 40 of 100\n",
      "building tree 41 of 100\n",
      "building tree 42 of 100\n",
      "building tree 43 of 100\n",
      "building tree 44 of 100\n",
      "building tree 45 of 100\n",
      "building tree 46 of 100\n",
      "building tree 47 of 100\n",
      "building tree 48 of 100\n",
      "building tree 49 of 100\n",
      "building tree 50 of 100\n",
      "building tree 51 of 100\n",
      "building tree 52 of 100\n",
      "building tree 53 of 100\n",
      "building tree 54 of 100\n",
      "building tree 55 of 100\n",
      "building tree 56 of 100\n",
      "building tree 57 of 100\n",
      "building tree 58 of 100\n",
      "building tree 59 of 100\n",
      "building tree 60 of 100\n",
      "building tree 61 of 100\n",
      "building tree 62 of 100\n",
      "building tree 63 of 100\n",
      "building tree 64 of 100\n",
      "building tree 65 of 100\n",
      "building tree 66 of 100\n",
      "building tree 67 of 100\n",
      "building tree 68 of 100\n",
      "building tree 69 of 100\n",
      "building tree 70 of 100\n",
      "building tree 71 of 100\n",
      "building tree 72 of 100\n",
      "building tree 73 of 100\n",
      "building tree 74 of 100\n",
      "building tree 75 of 100\n",
      "building tree 76 of 100\n",
      "building tree 77 of 100\n",
      "building tree 78 of 100\n",
      "building tree 79 of 100\n",
      "building tree 80 of 100\n",
      "building tree 81 of 100\n",
      "building tree 82 of 100\n",
      "building tree 83 of 100\n",
      "building tree 84 of 100\n",
      "building tree 85 of 100\n",
      "building tree 86 of 100\n",
      "building tree 87 of 100\n",
      "building tree 88 of 100\n",
      "building tree 89 of 100\n",
      "building tree 90 of 100\n",
      "building tree 91 of 100\n",
      "building tree 92 of 100\n",
      "building tree 93 of 100\n",
      "building tree 94 of 100\n",
      "building tree 95 of 100\n",
      "building tree 96 of 100\n",
      "building tree 97 of 100\n",
      "building tree 98 of 100\n",
      "building tree 99 of 100\n",
      "building tree 100 of 100\n"
     ]
    },
    {
     "name": "stderr",
     "output_type": "stream",
     "text": [
      "[Parallel(n_jobs=-1)]: Done 100 out of 100 | elapsed:  9.0min finished\n",
      "[Parallel(n_jobs=4)]: Using backend ThreadingBackend with 4 concurrent workers.\n",
      "[Parallel(n_jobs=4)]: Done  33 tasks      | elapsed:    0.1s\n",
      "[Parallel(n_jobs=4)]: Done 100 out of 100 | elapsed:    0.6s finished\n"
     ]
    },
    {
     "name": "stdout",
     "output_type": "stream",
     "text": [
      "Feature set within params {'max_depth': 14, 'n_estimators': 100} Clipped RMSE 0.5529667272234768\n",
      "Feature set within_sel16 combination 10/12\n",
      "param dict:  {'max_depth': 16, 'n_estimators': 30}\n",
      "keeping cols  ['target_category_tfidf_bigram_256_within_shop_lag_12', 'target_category_within_shop_lag_4', 'date_block_num', 'item_category_id', 'target_category_tfidf_unigram_256_within_shop_lag_2', 'target_category_tfidf_bigram_256_within_shop_lag_4', 'target_category_tfidf_unigram_256_within_shop_lag_6', 'target_category_frequent_256_within_shop_lag_4', 'target_category_within_shop_lag_3', 'target_category_tfidf_bigram_256_within_shop_lag_5', 'target_category_tfidf_unigram_256_within_shop_lag_5', 'target_category_frequent_256_within_shop_lag_12', 'shop_id', 'target_category_frequent_256_within_shop_lag_3', 'target_category_tfidf_bigram_256_within_shop_lag_3', 'target_category_tfidf_unigram_256_within_shop_lag_3']\n"
     ]
    },
    {
     "name": "stderr",
     "output_type": "stream",
     "text": [
      "[Parallel(n_jobs=-1)]: Using backend ThreadingBackend with 4 concurrent workers.\n"
     ]
    },
    {
     "name": "stdout",
     "output_type": "stream",
     "text": [
      "building tree 1 of 30building tree 2 of 30building tree 3 of 30building tree 4 of 30\n",
      "\n",
      "\n",
      "\n",
      "building tree 5 of 30building tree 6 of 30\n",
      "\n",
      "building tree 7 of 30\n",
      "building tree 8 of 30\n",
      "building tree 9 of 30\n",
      "building tree 10 of 30\n",
      "building tree 11 of 30\n",
      "building tree 12 of 30\n",
      "building tree 13 of 30\n",
      "building tree 14 of 30\n",
      "building tree 15 of 30\n",
      "building tree 16 of 30\n",
      "building tree 17 of 30\n",
      "building tree 18 of 30\n",
      "building tree 19 of 30\n",
      "building tree 20 of 30\n",
      "building tree 21 of 30\n",
      "building tree 22 of 30\n",
      "building tree 23 of 30\n",
      "building tree 24 of 30\n",
      "building tree 25 of 30\n",
      "building tree 26 of 30\n",
      "building tree 27 of 30\n",
      "building tree 28 of 30\n",
      "building tree 29 of 30\n",
      "building tree 30 of 30\n"
     ]
    },
    {
     "name": "stderr",
     "output_type": "stream",
     "text": [
      "[Parallel(n_jobs=-1)]: Done  30 out of  30 | elapsed:  3.0min finished\n",
      "[Parallel(n_jobs=4)]: Using backend ThreadingBackend with 4 concurrent workers.\n",
      "[Parallel(n_jobs=4)]: Done  30 out of  30 | elapsed:    0.2s finished\n"
     ]
    },
    {
     "name": "stdout",
     "output_type": "stream",
     "text": [
      "Feature set within params {'max_depth': 16, 'n_estimators': 30} Clipped RMSE 0.5588025545492592\n",
      "Feature set within_sel16 combination 11/12\n",
      "param dict:  {'max_depth': 16, 'n_estimators': 50}\n",
      "keeping cols  ['target_category_tfidf_bigram_256_within_shop_lag_12', 'target_category_within_shop_lag_4', 'date_block_num', 'item_category_id', 'target_category_tfidf_unigram_256_within_shop_lag_2', 'target_category_tfidf_bigram_256_within_shop_lag_4', 'target_category_tfidf_unigram_256_within_shop_lag_6', 'target_category_frequent_256_within_shop_lag_4', 'target_category_within_shop_lag_3', 'target_category_tfidf_bigram_256_within_shop_lag_5', 'target_category_tfidf_unigram_256_within_shop_lag_5', 'target_category_frequent_256_within_shop_lag_12', 'shop_id', 'target_category_frequent_256_within_shop_lag_3', 'target_category_tfidf_bigram_256_within_shop_lag_3', 'target_category_tfidf_unigram_256_within_shop_lag_3']\n"
     ]
    },
    {
     "name": "stderr",
     "output_type": "stream",
     "text": [
      "[Parallel(n_jobs=-1)]: Using backend ThreadingBackend with 4 concurrent workers.\n"
     ]
    },
    {
     "name": "stdout",
     "output_type": "stream",
     "text": [
      "building tree 1 of 50building tree 2 of 50building tree 3 of 50building tree 4 of 50\n",
      "\n",
      "\n",
      "\n",
      "building tree 5 of 50\n",
      "building tree 6 of 50\n",
      "building tree 7 of 50\n",
      "building tree 8 of 50\n",
      "building tree 9 of 50\n",
      "building tree 10 of 50\n",
      "building tree 11 of 50\n",
      "building tree 12 of 50\n",
      "building tree 13 of 50\n",
      "building tree 14 of 50\n",
      "building tree 15 of 50\n",
      "building tree 16 of 50\n",
      "building tree 17 of 50\n",
      "building tree 18 of 50\n",
      "building tree 19 of 50\n",
      "building tree 20 of 50\n",
      "building tree 21 of 50\n",
      "building tree 22 of 50\n",
      "building tree 23 of 50\n",
      "building tree 24 of 50\n",
      "building tree 25 of 50\n",
      "building tree 26 of 50building tree 27 of 50\n",
      "\n",
      "building tree 28 of 50\n",
      "building tree 29 of 50\n",
      "building tree 30 of 50\n",
      "building tree 31 of 50\n",
      "building tree 32 of 50\n",
      "building tree 33 of 50\n",
      "building tree 34 of 50\n",
      "building tree 35 of 50\n",
      "building tree 36 of 50\n"
     ]
    },
    {
     "name": "stderr",
     "output_type": "stream",
     "text": [
      "[Parallel(n_jobs=-1)]: Done  33 tasks      | elapsed:  3.5min\n"
     ]
    },
    {
     "name": "stdout",
     "output_type": "stream",
     "text": [
      "building tree 37 of 50\n",
      "building tree 38 of 50\n",
      "building tree 39 of 50\n",
      "building tree 40 of 50\n",
      "building tree 41 of 50\n",
      "building tree 42 of 50\n",
      "building tree 43 of 50\n",
      "building tree 44 of 50\n",
      "building tree 45 of 50\n",
      "building tree 46 of 50\n",
      "building tree 47 of 50\n",
      "building tree 48 of 50\n",
      "building tree 49 of 50\n",
      "building tree 50 of 50\n"
     ]
    },
    {
     "name": "stderr",
     "output_type": "stream",
     "text": [
      "[Parallel(n_jobs=-1)]: Done  50 out of  50 | elapsed:  5.0min finished\n",
      "[Parallel(n_jobs=4)]: Using backend ThreadingBackend with 4 concurrent workers.\n",
      "[Parallel(n_jobs=4)]: Done  33 tasks      | elapsed:    0.2s\n",
      "[Parallel(n_jobs=4)]: Done  50 out of  50 | elapsed:    0.3s finished\n"
     ]
    },
    {
     "name": "stdout",
     "output_type": "stream",
     "text": [
      "Feature set within params {'max_depth': 16, 'n_estimators': 50} Clipped RMSE 0.5615070796471108\n",
      "Feature set within_sel16 combination 12/12\n",
      "param dict:  {'max_depth': 16, 'n_estimators': 100}\n",
      "keeping cols  ['target_category_tfidf_bigram_256_within_shop_lag_12', 'target_category_within_shop_lag_4', 'date_block_num', 'item_category_id', 'target_category_tfidf_unigram_256_within_shop_lag_2', 'target_category_tfidf_bigram_256_within_shop_lag_4', 'target_category_tfidf_unigram_256_within_shop_lag_6', 'target_category_frequent_256_within_shop_lag_4', 'target_category_within_shop_lag_3', 'target_category_tfidf_bigram_256_within_shop_lag_5', 'target_category_tfidf_unigram_256_within_shop_lag_5', 'target_category_frequent_256_within_shop_lag_12', 'shop_id', 'target_category_frequent_256_within_shop_lag_3', 'target_category_tfidf_bigram_256_within_shop_lag_3', 'target_category_tfidf_unigram_256_within_shop_lag_3']\n"
     ]
    },
    {
     "name": "stderr",
     "output_type": "stream",
     "text": [
      "[Parallel(n_jobs=-1)]: Using backend ThreadingBackend with 4 concurrent workers.\n"
     ]
    },
    {
     "name": "stdout",
     "output_type": "stream",
     "text": [
      "building tree 1 of 100building tree 2 of 100building tree 3 of 100building tree 4 of 100\n",
      "\n",
      "\n",
      "\n",
      "building tree 5 of 100\n",
      "building tree 6 of 100\n",
      "building tree 7 of 100\n",
      "building tree 8 of 100\n",
      "building tree 9 of 100\n",
      "building tree 10 of 100\n",
      "building tree 11 of 100\n",
      "building tree 12 of 100\n",
      "building tree 13 of 100\n",
      "building tree 14 of 100\n",
      "building tree 15 of 100\n",
      "building tree 16 of 100\n",
      "building tree 17 of 100\n",
      "building tree 18 of 100\n",
      "building tree 19 of 100\n",
      "building tree 20 of 100\n",
      "building tree 21 of 100\n",
      "building tree 22 of 100\n",
      "building tree 23 of 100\n",
      "building tree 24 of 100\n",
      "building tree 25 of 100\n",
      "building tree 26 of 100\n",
      "building tree 27 of 100\n",
      "building tree 28 of 100\n",
      "building tree 29 of 100\n",
      "building tree 30 of 100\n",
      "building tree 31 of 100\n",
      "building tree 32 of 100\n",
      "building tree 33 of 100\n",
      "building tree 34 of 100\n",
      "building tree 35 of 100\n",
      "building tree 36 of 100\n"
     ]
    },
    {
     "name": "stderr",
     "output_type": "stream",
     "text": [
      "[Parallel(n_jobs=-1)]: Done  33 tasks      | elapsed:  3.6min\n"
     ]
    },
    {
     "name": "stdout",
     "output_type": "stream",
     "text": [
      "building tree 37 of 100\n",
      "building tree 38 of 100\n",
      "building tree 39 of 100\n",
      "building tree 40 of 100\n",
      "building tree 41 of 100\n",
      "building tree 42 of 100\n",
      "building tree 43 of 100\n",
      "building tree 44 of 100\n",
      "building tree 45 of 100\n",
      "building tree 46 of 100\n",
      "building tree 47 of 100\n",
      "building tree 48 of 100\n",
      "building tree 49 of 100\n",
      "building tree 50 of 100\n",
      "building tree 51 of 100\n",
      "building tree 52 of 100\n",
      "building tree 53 of 100\n",
      "building tree 54 of 100\n",
      "building tree 55 of 100\n",
      "building tree 56 of 100\n",
      "building tree 57 of 100\n",
      "building tree 58 of 100\n",
      "building tree 59 of 100\n",
      "building tree 60 of 100\n",
      "building tree 61 of 100\n",
      "building tree 62 of 100building tree 63 of 100\n",
      "\n",
      "building tree 64 of 100\n",
      "building tree 65 of 100\n",
      "building tree 66 of 100\n",
      "building tree 67 of 100\n",
      "building tree 68 of 100\n",
      "building tree 69 of 100\n",
      "building tree 70 of 100\n",
      "building tree 71 of 100\n",
      "building tree 72 of 100\n",
      "building tree 73 of 100\n",
      "building tree 74 of 100\n",
      "building tree 75 of 100\n",
      "building tree 76 of 100\n",
      "building tree 77 of 100\n",
      "building tree 78 of 100\n",
      "building tree 79 of 100\n",
      "building tree 80 of 100\n",
      "building tree 81 of 100\n",
      "building tree 82 of 100\n",
      "building tree 83 of 100\n",
      "building tree 84 of 100\n",
      "building tree 85 of 100\n",
      "building tree 86 of 100\n",
      "building tree 87 of 100\n",
      "building tree 88 of 100\n",
      "building tree 89 of 100\n",
      "building tree 90 of 100\n",
      "building tree 91 of 100\n",
      "building tree 92 of 100\n",
      "building tree 93 of 100\n",
      "building tree 94 of 100\n",
      "building tree 95 of 100\n",
      "building tree 96 of 100\n",
      "building tree 97 of 100\n",
      "building tree 98 of 100\n",
      "building tree 99 of 100\n",
      "building tree 100 of 100\n"
     ]
    },
    {
     "name": "stderr",
     "output_type": "stream",
     "text": [
      "[Parallel(n_jobs=-1)]: Done 100 out of 100 | elapsed: 10.1min finished\n",
      "[Parallel(n_jobs=4)]: Using backend ThreadingBackend with 4 concurrent workers.\n",
      "[Parallel(n_jobs=4)]: Done  33 tasks      | elapsed:    0.2s\n",
      "[Parallel(n_jobs=4)]: Done 100 out of 100 | elapsed:    0.7s finished\n"
     ]
    },
    {
     "name": "stdout",
     "output_type": "stream",
     "text": [
      "Feature set within params {'max_depth': 16, 'n_estimators': 100} Clipped RMSE 0.562770560581155\n",
      "** Best RandomForestRegressor params for feature set within_16: {'max_depth': 10, 'n_estimators': 30}\n",
      "Feature set within_sel25 combination 1/12\n",
      "param dict:  {'max_depth': 10, 'n_estimators': 30}\n",
      "keeping cols  ['target_category_tfidf_bigram_256_within_shop_lag_12', 'target_category_within_shop_lag_4', 'target_category_within_shop_lag_2', 'date_block_num', 'item_category_id', 'target_category_frequent_256_within_shop_lag_5', 'target_category_frequent_256_within_shop_lag_6', 'target_category_tfidf_unigram_256_within_shop_lag_2', 'target_category_tfidf_bigram_256_within_shop_lag_2', 'target_category_tfidf_bigram_256_within_shop_lag_4', 'target_category_tfidf_unigram_256_within_shop_lag_6', 'item_id', 'target_category_frequent_256_within_shop_lag_4', 'target_category_within_shop_lag_12', 'target_category_tfidf_bigram_256_within_shop_lag_6', 'target_category_within_shop_lag_3', 'target_category_tfidf_bigram_256_within_shop_lag_5', 'target_category_tfidf_unigram_256_within_shop_lag_5', 'target_category_within_shop_lag_5', 'target_category_frequent_256_within_shop_lag_12', 'shop_id', 'target_category_frequent_256_within_shop_lag_3', 'target_category_tfidf_bigram_256_within_shop_lag_3', 'target_category_tfidf_unigram_256_within_shop_lag_4', 'target_category_tfidf_unigram_256_within_shop_lag_3']\n"
     ]
    },
    {
     "name": "stderr",
     "output_type": "stream",
     "text": [
      "[Parallel(n_jobs=-1)]: Using backend ThreadingBackend with 4 concurrent workers.\n"
     ]
    },
    {
     "name": "stdout",
     "output_type": "stream",
     "text": [
      "building tree 1 of 30building tree 2 of 30building tree 3 of 30\n",
      "\n",
      "building tree 4 of 30\n",
      "\n",
      "building tree 5 of 30\n",
      "building tree 6 of 30\n",
      "building tree 7 of 30\n",
      "building tree 8 of 30\n",
      "building tree 9 of 30\n",
      "building tree 10 of 30\n",
      "building tree 11 of 30\n",
      "building tree 12 of 30\n",
      "building tree 13 of 30\n",
      "building tree 14 of 30\n",
      "building tree 15 of 30\n",
      "building tree 16 of 30\n",
      "building tree 17 of 30\n",
      "building tree 18 of 30\n",
      "building tree 19 of 30\n",
      "building tree 20 of 30\n",
      "building tree 21 of 30\n",
      "building tree 22 of 30\n",
      "building tree 23 of 30\n",
      "building tree 24 of 30\n",
      "building tree 25 of 30\n",
      "building tree 26 of 30\n",
      "building tree 27 of 30\n",
      "building tree 28 of 30\n",
      "building tree 29 of 30\n",
      "building tree 30 of 30\n"
     ]
    },
    {
     "name": "stderr",
     "output_type": "stream",
     "text": [
      "[Parallel(n_jobs=-1)]: Done  30 out of  30 | elapsed:  3.6min finished\n",
      "[Parallel(n_jobs=4)]: Using backend ThreadingBackend with 4 concurrent workers.\n",
      "[Parallel(n_jobs=4)]: Done  30 out of  30 | elapsed:    0.0s finished\n"
     ]
    },
    {
     "name": "stdout",
     "output_type": "stream",
     "text": [
      "Feature set within params {'max_depth': 10, 'n_estimators': 30} Clipped RMSE 0.5502824771651853\n",
      "Feature set within_sel25 combination 2/12\n",
      "param dict:  {'max_depth': 10, 'n_estimators': 50}\n",
      "keeping cols  ['target_category_tfidf_bigram_256_within_shop_lag_12', 'target_category_within_shop_lag_4', 'target_category_within_shop_lag_2', 'date_block_num', 'item_category_id', 'target_category_frequent_256_within_shop_lag_5', 'target_category_frequent_256_within_shop_lag_6', 'target_category_tfidf_unigram_256_within_shop_lag_2', 'target_category_tfidf_bigram_256_within_shop_lag_2', 'target_category_tfidf_bigram_256_within_shop_lag_4', 'target_category_tfidf_unigram_256_within_shop_lag_6', 'item_id', 'target_category_frequent_256_within_shop_lag_4', 'target_category_within_shop_lag_12', 'target_category_tfidf_bigram_256_within_shop_lag_6', 'target_category_within_shop_lag_3', 'target_category_tfidf_bigram_256_within_shop_lag_5', 'target_category_tfidf_unigram_256_within_shop_lag_5', 'target_category_within_shop_lag_5', 'target_category_frequent_256_within_shop_lag_12', 'shop_id', 'target_category_frequent_256_within_shop_lag_3', 'target_category_tfidf_bigram_256_within_shop_lag_3', 'target_category_tfidf_unigram_256_within_shop_lag_4', 'target_category_tfidf_unigram_256_within_shop_lag_3']\n"
     ]
    },
    {
     "name": "stderr",
     "output_type": "stream",
     "text": [
      "[Parallel(n_jobs=-1)]: Using backend ThreadingBackend with 4 concurrent workers.\n"
     ]
    },
    {
     "name": "stdout",
     "output_type": "stream",
     "text": [
      "building tree 1 of 50building tree 2 of 50building tree 3 of 50\n",
      "building tree 4 of 50\n",
      "\n",
      "\n",
      "building tree 5 of 50\n",
      "building tree 6 of 50\n",
      "building tree 7 of 50\n",
      "building tree 8 of 50\n",
      "building tree 9 of 50\n",
      "building tree 10 of 50\n",
      "building tree 11 of 50\n",
      "building tree 12 of 50\n",
      "building tree 13 of 50\n",
      "building tree 14 of 50\n",
      "building tree 15 of 50\n",
      "building tree 16 of 50\n",
      "building tree 17 of 50\n",
      "building tree 18 of 50\n",
      "building tree 19 of 50\n",
      "building tree 20 of 50\n",
      "building tree 21 of 50\n",
      "building tree 22 of 50\n",
      "building tree 23 of 50\n",
      "building tree 24 of 50\n",
      "building tree 25 of 50\n",
      "building tree 26 of 50\n",
      "building tree 27 of 50\n",
      "building tree 28 of 50\n",
      "building tree 29 of 50\n",
      "building tree 30 of 50\n",
      "building tree 31 of 50\n",
      "building tree 32 of 50\n",
      "building tree 33 of 50\n",
      "building tree 34 of 50\n",
      "building tree 35 of 50\n",
      "building tree 36 of 50\n"
     ]
    },
    {
     "name": "stderr",
     "output_type": "stream",
     "text": [
      "[Parallel(n_jobs=-1)]: Done  33 tasks      | elapsed:  4.3min\n"
     ]
    },
    {
     "name": "stdout",
     "output_type": "stream",
     "text": [
      "building tree 37 of 50\n",
      "building tree 38 of 50\n",
      "building tree 39 of 50\n",
      "building tree 40 of 50\n",
      "building tree 41 of 50\n",
      "building tree 42 of 50\n",
      "building tree 43 of 50\n",
      "building tree 44 of 50\n",
      "building tree 45 of 50\n",
      "building tree 46 of 50\n",
      "building tree 47 of 50\n",
      "building tree 48 of 50\n",
      "building tree 49 of 50\n",
      "building tree 50 of 50\n"
     ]
    },
    {
     "name": "stderr",
     "output_type": "stream",
     "text": [
      "[Parallel(n_jobs=-1)]: Done  50 out of  50 | elapsed:  6.2min finished\n",
      "[Parallel(n_jobs=4)]: Using backend ThreadingBackend with 4 concurrent workers.\n",
      "[Parallel(n_jobs=4)]: Done  33 tasks      | elapsed:    0.1s\n",
      "[Parallel(n_jobs=4)]: Done  50 out of  50 | elapsed:    0.1s finished\n"
     ]
    },
    {
     "name": "stdout",
     "output_type": "stream",
     "text": [
      "Feature set within params {'max_depth': 10, 'n_estimators': 50} Clipped RMSE 0.5508851904865881\n",
      "Feature set within_sel25 combination 3/12\n",
      "param dict:  {'max_depth': 10, 'n_estimators': 100}\n",
      "keeping cols  ['target_category_tfidf_bigram_256_within_shop_lag_12', 'target_category_within_shop_lag_4', 'target_category_within_shop_lag_2', 'date_block_num', 'item_category_id', 'target_category_frequent_256_within_shop_lag_5', 'target_category_frequent_256_within_shop_lag_6', 'target_category_tfidf_unigram_256_within_shop_lag_2', 'target_category_tfidf_bigram_256_within_shop_lag_2', 'target_category_tfidf_bigram_256_within_shop_lag_4', 'target_category_tfidf_unigram_256_within_shop_lag_6', 'item_id', 'target_category_frequent_256_within_shop_lag_4', 'target_category_within_shop_lag_12', 'target_category_tfidf_bigram_256_within_shop_lag_6', 'target_category_within_shop_lag_3', 'target_category_tfidf_bigram_256_within_shop_lag_5', 'target_category_tfidf_unigram_256_within_shop_lag_5', 'target_category_within_shop_lag_5', 'target_category_frequent_256_within_shop_lag_12', 'shop_id', 'target_category_frequent_256_within_shop_lag_3', 'target_category_tfidf_bigram_256_within_shop_lag_3', 'target_category_tfidf_unigram_256_within_shop_lag_4', 'target_category_tfidf_unigram_256_within_shop_lag_3']\n"
     ]
    },
    {
     "name": "stderr",
     "output_type": "stream",
     "text": [
      "[Parallel(n_jobs=-1)]: Using backend ThreadingBackend with 4 concurrent workers.\n"
     ]
    },
    {
     "name": "stdout",
     "output_type": "stream",
     "text": [
      "building tree 1 of 100building tree 2 of 100building tree 3 of 100building tree 4 of 100\n",
      "\n",
      "\n",
      "\n",
      "building tree 5 of 100\n",
      "building tree 6 of 100building tree 7 of 100\n",
      "\n",
      "building tree 8 of 100\n",
      "building tree 9 of 100\n",
      "building tree 10 of 100\n",
      "building tree 11 of 100\n",
      "building tree 12 of 100\n",
      "building tree 13 of 100\n",
      "building tree 14 of 100\n",
      "building tree 15 of 100\n",
      "building tree 16 of 100\n",
      "building tree 17 of 100\n",
      "building tree 18 of 100\n",
      "building tree 19 of 100\n",
      "building tree 20 of 100\n",
      "building tree 21 of 100\n",
      "building tree 22 of 100\n",
      "building tree 23 of 100\n",
      "building tree 24 of 100\n",
      "building tree 25 of 100\n",
      "building tree 26 of 100\n",
      "building tree 27 of 100\n",
      "building tree 28 of 100\n",
      "building tree 29 of 100\n",
      "building tree 30 of 100\n",
      "building tree 31 of 100\n",
      "building tree 32 of 100\n",
      "building tree 33 of 100\n",
      "building tree 34 of 100\n",
      "building tree 35 of 100\n",
      "building tree 36 of 100\n"
     ]
    },
    {
     "name": "stderr",
     "output_type": "stream",
     "text": [
      "[Parallel(n_jobs=-1)]: Done  33 tasks      | elapsed:  4.6min\n"
     ]
    },
    {
     "name": "stdout",
     "output_type": "stream",
     "text": [
      "building tree 37 of 100\n",
      "building tree 38 of 100\n",
      "building tree 39 of 100\n",
      "building tree 40 of 100\n",
      "building tree 41 of 100\n",
      "building tree 42 of 100\n",
      "building tree 43 of 100\n",
      "building tree 44 of 100\n",
      "building tree 45 of 100\n",
      "building tree 46 of 100\n",
      "building tree 47 of 100\n",
      "building tree 48 of 100\n",
      "building tree 49 of 100\n",
      "building tree 50 of 100\n",
      "building tree 51 of 100\n",
      "building tree 52 of 100\n",
      "building tree 53 of 100\n",
      "building tree 54 of 100\n",
      "building tree 55 of 100\n",
      "building tree 56 of 100\n",
      "building tree 57 of 100\n",
      "building tree 58 of 100\n",
      "building tree 59 of 100\n",
      "building tree 60 of 100\n",
      "building tree 61 of 100building tree 62 of 100\n",
      "\n",
      "building tree 63 of 100\n",
      "building tree 64 of 100\n",
      "building tree 65 of 100\n",
      "building tree 66 of 100\n",
      "building tree 67 of 100\n",
      "building tree 68 of 100\n",
      "building tree 69 of 100\n",
      "building tree 70 of 100\n",
      "building tree 71 of 100\n",
      "building tree 72 of 100\n",
      "building tree 73 of 100\n",
      "building tree 74 of 100\n",
      "building tree 75 of 100building tree 76 of 100\n",
      "\n",
      "building tree 77 of 100\n",
      "building tree 78 of 100\n",
      "building tree 79 of 100\n",
      "building tree 80 of 100\n",
      "building tree 81 of 100\n",
      "building tree 82 of 100\n",
      "building tree 83 of 100\n",
      "building tree 84 of 100\n",
      "building tree 85 of 100building tree 86 of 100\n",
      "\n",
      "building tree 87 of 100\n",
      "building tree 88 of 100\n",
      "building tree 89 of 100\n",
      "building tree 90 of 100\n",
      "building tree 91 of 100\n",
      "building tree 92 of 100\n",
      "building tree 93 of 100\n",
      "building tree 94 of 100\n",
      "building tree 95 of 100\n",
      "building tree 96 of 100\n",
      "building tree 97 of 100\n",
      "building tree 98 of 100\n",
      "building tree 99 of 100\n",
      "building tree 100 of 100\n"
     ]
    },
    {
     "name": "stderr",
     "output_type": "stream",
     "text": [
      "[Parallel(n_jobs=-1)]: Done 100 out of 100 | elapsed: 12.3min finished\n",
      "[Parallel(n_jobs=4)]: Using backend ThreadingBackend with 4 concurrent workers.\n",
      "[Parallel(n_jobs=4)]: Done  33 tasks      | elapsed:    0.1s\n",
      "[Parallel(n_jobs=4)]: Done 100 out of 100 | elapsed:    0.4s finished\n"
     ]
    },
    {
     "name": "stdout",
     "output_type": "stream",
     "text": [
      "Feature set within params {'max_depth': 10, 'n_estimators': 100} Clipped RMSE 0.5490756543439783\n",
      "Feature set within_sel25 combination 4/12\n",
      "param dict:  {'max_depth': 12, 'n_estimators': 30}\n",
      "keeping cols  ['target_category_tfidf_bigram_256_within_shop_lag_12', 'target_category_within_shop_lag_4', 'target_category_within_shop_lag_2', 'date_block_num', 'item_category_id', 'target_category_frequent_256_within_shop_lag_5', 'target_category_frequent_256_within_shop_lag_6', 'target_category_tfidf_unigram_256_within_shop_lag_2', 'target_category_tfidf_bigram_256_within_shop_lag_2', 'target_category_tfidf_bigram_256_within_shop_lag_4', 'target_category_tfidf_unigram_256_within_shop_lag_6', 'item_id', 'target_category_frequent_256_within_shop_lag_4', 'target_category_within_shop_lag_12', 'target_category_tfidf_bigram_256_within_shop_lag_6', 'target_category_within_shop_lag_3', 'target_category_tfidf_bigram_256_within_shop_lag_5', 'target_category_tfidf_unigram_256_within_shop_lag_5', 'target_category_within_shop_lag_5', 'target_category_frequent_256_within_shop_lag_12', 'shop_id', 'target_category_frequent_256_within_shop_lag_3', 'target_category_tfidf_bigram_256_within_shop_lag_3', 'target_category_tfidf_unigram_256_within_shop_lag_4', 'target_category_tfidf_unigram_256_within_shop_lag_3']\n"
     ]
    },
    {
     "name": "stderr",
     "output_type": "stream",
     "text": [
      "[Parallel(n_jobs=-1)]: Using backend ThreadingBackend with 4 concurrent workers.\n"
     ]
    },
    {
     "name": "stdout",
     "output_type": "stream",
     "text": [
      "building tree 1 of 30building tree 2 of 30building tree 3 of 30building tree 4 of 30\n",
      "\n",
      "\n",
      "\n",
      "building tree 5 of 30\n",
      "building tree 6 of 30\n",
      "building tree 7 of 30\n",
      "building tree 8 of 30\n",
      "building tree 9 of 30\n",
      "building tree 10 of 30\n",
      "building tree 11 of 30\n",
      "building tree 12 of 30\n",
      "building tree 13 of 30\n",
      "building tree 14 of 30\n",
      "building tree 15 of 30\n",
      "building tree 16 of 30\n",
      "building tree 17 of 30\n",
      "building tree 18 of 30\n",
      "building tree 19 of 30\n",
      "building tree 20 of 30\n",
      "building tree 21 of 30\n",
      "building tree 22 of 30\n",
      "building tree 23 of 30\n",
      "building tree 24 of 30\n",
      "building tree 25 of 30\n",
      "building tree 26 of 30\n",
      "building tree 27 of 30\n",
      "building tree 28 of 30\n",
      "building tree 29 of 30\n",
      "building tree 30 of 30\n"
     ]
    },
    {
     "name": "stderr",
     "output_type": "stream",
     "text": [
      "[Parallel(n_jobs=-1)]: Done  30 out of  30 | elapsed:  4.4min finished\n",
      "[Parallel(n_jobs=4)]: Using backend ThreadingBackend with 4 concurrent workers.\n",
      "[Parallel(n_jobs=4)]: Done  30 out of  30 | elapsed:    0.1s finished\n"
     ]
    },
    {
     "name": "stdout",
     "output_type": "stream",
     "text": [
      "Feature set within params {'max_depth': 12, 'n_estimators': 30} Clipped RMSE 0.5462125122810575\n",
      "Feature set within_sel25 combination 5/12\n",
      "param dict:  {'max_depth': 12, 'n_estimators': 50}\n",
      "keeping cols  ['target_category_tfidf_bigram_256_within_shop_lag_12', 'target_category_within_shop_lag_4', 'target_category_within_shop_lag_2', 'date_block_num', 'item_category_id', 'target_category_frequent_256_within_shop_lag_5', 'target_category_frequent_256_within_shop_lag_6', 'target_category_tfidf_unigram_256_within_shop_lag_2', 'target_category_tfidf_bigram_256_within_shop_lag_2', 'target_category_tfidf_bigram_256_within_shop_lag_4', 'target_category_tfidf_unigram_256_within_shop_lag_6', 'item_id', 'target_category_frequent_256_within_shop_lag_4', 'target_category_within_shop_lag_12', 'target_category_tfidf_bigram_256_within_shop_lag_6', 'target_category_within_shop_lag_3', 'target_category_tfidf_bigram_256_within_shop_lag_5', 'target_category_tfidf_unigram_256_within_shop_lag_5', 'target_category_within_shop_lag_5', 'target_category_frequent_256_within_shop_lag_12', 'shop_id', 'target_category_frequent_256_within_shop_lag_3', 'target_category_tfidf_bigram_256_within_shop_lag_3', 'target_category_tfidf_unigram_256_within_shop_lag_4', 'target_category_tfidf_unigram_256_within_shop_lag_3']\n"
     ]
    },
    {
     "name": "stderr",
     "output_type": "stream",
     "text": [
      "[Parallel(n_jobs=-1)]: Using backend ThreadingBackend with 4 concurrent workers.\n"
     ]
    },
    {
     "name": "stdout",
     "output_type": "stream",
     "text": [
      "building tree 1 of 50building tree 2 of 50building tree 3 of 50building tree 4 of 50\n",
      "\n",
      "\n",
      "\n",
      "building tree 5 of 50\n",
      "building tree 6 of 50\n",
      "building tree 7 of 50\n",
      "building tree 8 of 50\n",
      "building tree 9 of 50\n",
      "building tree 10 of 50\n",
      "building tree 11 of 50\n",
      "building tree 12 of 50\n",
      "building tree 13 of 50\n",
      "building tree 14 of 50\n",
      "building tree 15 of 50\n",
      "building tree 16 of 50\n",
      "building tree 17 of 50\n",
      "building tree 18 of 50\n",
      "building tree 19 of 50\n",
      "building tree 20 of 50\n",
      "building tree 21 of 50\n",
      "building tree 22 of 50\n",
      "building tree 23 of 50\n",
      "building tree 24 of 50\n",
      "building tree 25 of 50\n",
      "building tree 26 of 50\n",
      "building tree 27 of 50\n",
      "building tree 28 of 50\n",
      "building tree 29 of 50\n",
      "building tree 30 of 50\n",
      "building tree 31 of 50\n",
      "building tree 32 of 50\n",
      "building tree 33 of 50\n",
      "building tree 34 of 50\n",
      "building tree 35 of 50\n",
      "building tree 36 of 50\n"
     ]
    },
    {
     "name": "stderr",
     "output_type": "stream",
     "text": [
      "[Parallel(n_jobs=-1)]: Done  33 tasks      | elapsed:  5.1min\n"
     ]
    },
    {
     "name": "stdout",
     "output_type": "stream",
     "text": [
      "building tree 37 of 50\n",
      "building tree 38 of 50\n",
      "building tree 39 of 50\n",
      "building tree 40 of 50\n",
      "building tree 41 of 50\n",
      "building tree 42 of 50\n",
      "building tree 43 of 50\n",
      "building tree 44 of 50\n",
      "building tree 45 of 50\n",
      "building tree 46 of 50\n",
      "building tree 47 of 50\n",
      "building tree 48 of 50\n",
      "building tree 49 of 50\n",
      "building tree 50 of 50\n"
     ]
    },
    {
     "name": "stderr",
     "output_type": "stream",
     "text": [
      "[Parallel(n_jobs=-1)]: Done  50 out of  50 | elapsed:  7.3min finished\n",
      "[Parallel(n_jobs=4)]: Using backend ThreadingBackend with 4 concurrent workers.\n",
      "[Parallel(n_jobs=4)]: Done  33 tasks      | elapsed:    0.1s\n",
      "[Parallel(n_jobs=4)]: Done  50 out of  50 | elapsed:    0.2s finished\n"
     ]
    },
    {
     "name": "stdout",
     "output_type": "stream",
     "text": [
      "Feature set within params {'max_depth': 12, 'n_estimators': 50} Clipped RMSE 0.5424162447972135\n",
      "Feature set within_sel25 combination 6/12\n",
      "param dict:  {'max_depth': 12, 'n_estimators': 100}\n",
      "keeping cols  ['target_category_tfidf_bigram_256_within_shop_lag_12', 'target_category_within_shop_lag_4', 'target_category_within_shop_lag_2', 'date_block_num', 'item_category_id', 'target_category_frequent_256_within_shop_lag_5', 'target_category_frequent_256_within_shop_lag_6', 'target_category_tfidf_unigram_256_within_shop_lag_2', 'target_category_tfidf_bigram_256_within_shop_lag_2', 'target_category_tfidf_bigram_256_within_shop_lag_4', 'target_category_tfidf_unigram_256_within_shop_lag_6', 'item_id', 'target_category_frequent_256_within_shop_lag_4', 'target_category_within_shop_lag_12', 'target_category_tfidf_bigram_256_within_shop_lag_6', 'target_category_within_shop_lag_3', 'target_category_tfidf_bigram_256_within_shop_lag_5', 'target_category_tfidf_unigram_256_within_shop_lag_5', 'target_category_within_shop_lag_5', 'target_category_frequent_256_within_shop_lag_12', 'shop_id', 'target_category_frequent_256_within_shop_lag_3', 'target_category_tfidf_bigram_256_within_shop_lag_3', 'target_category_tfidf_unigram_256_within_shop_lag_4', 'target_category_tfidf_unigram_256_within_shop_lag_3']\n"
     ]
    },
    {
     "name": "stderr",
     "output_type": "stream",
     "text": [
      "[Parallel(n_jobs=-1)]: Using backend ThreadingBackend with 4 concurrent workers.\n"
     ]
    },
    {
     "name": "stdout",
     "output_type": "stream",
     "text": [
      "building tree 1 of 100building tree 2 of 100building tree 3 of 100building tree 4 of 100\n",
      "\n",
      "\n",
      "\n",
      "building tree 5 of 100\n",
      "building tree 6 of 100\n",
      "building tree 7 of 100\n",
      "building tree 8 of 100\n",
      "building tree 9 of 100\n",
      "building tree 10 of 100\n",
      "building tree 11 of 100\n",
      "building tree 12 of 100\n",
      "building tree 13 of 100\n",
      "building tree 14 of 100\n",
      "building tree 15 of 100\n",
      "building tree 16 of 100\n",
      "building tree 17 of 100\n",
      "building tree 18 of 100\n",
      "building tree 19 of 100\n",
      "building tree 20 of 100\n",
      "building tree 21 of 100\n",
      "building tree 22 of 100\n",
      "building tree 23 of 100\n",
      "building tree 24 of 100\n",
      "building tree 25 of 100\n",
      "building tree 26 of 100\n",
      "building tree 27 of 100\n",
      "building tree 28 of 100\n",
      "building tree 29 of 100\n",
      "building tree 30 of 100\n",
      "building tree 31 of 100\n",
      "building tree 32 of 100\n",
      "building tree 33 of 100\n",
      "building tree 34 of 100\n",
      "building tree 35 of 100\n",
      "building tree 36 of 100\n"
     ]
    },
    {
     "name": "stderr",
     "output_type": "stream",
     "text": [
      "[Parallel(n_jobs=-1)]: Done  33 tasks      | elapsed:  5.1min\n"
     ]
    },
    {
     "name": "stdout",
     "output_type": "stream",
     "text": [
      "building tree 37 of 100\n",
      "building tree 38 of 100\n",
      "building tree 39 of 100\n",
      "building tree 40 of 100\n",
      "building tree 41 of 100\n",
      "building tree 42 of 100\n",
      "building tree 43 of 100\n",
      "building tree 44 of 100\n",
      "building tree 45 of 100\n",
      "building tree 46 of 100\n",
      "building tree 47 of 100\n",
      "building tree 48 of 100\n",
      "building tree 49 of 100\n",
      "building tree 50 of 100\n",
      "building tree 51 of 100\n",
      "building tree 52 of 100\n",
      "building tree 53 of 100\n",
      "building tree 54 of 100\n",
      "building tree 55 of 100\n",
      "building tree 56 of 100\n",
      "building tree 57 of 100\n",
      "building tree 58 of 100\n",
      "building tree 59 of 100\n",
      "building tree 60 of 100\n",
      "building tree 61 of 100\n",
      "building tree 62 of 100\n",
      "building tree 63 of 100\n",
      "building tree 64 of 100\n",
      "building tree 65 of 100\n",
      "building tree 66 of 100\n",
      "building tree 67 of 100\n",
      "building tree 68 of 100\n",
      "building tree 69 of 100\n",
      "building tree 70 of 100\n",
      "building tree 71 of 100\n",
      "building tree 72 of 100\n",
      "building tree 73 of 100\n",
      "building tree 74 of 100\n",
      "building tree 75 of 100\n",
      "building tree 76 of 100\n",
      "building tree 77 of 100\n",
      "building tree 78 of 100\n",
      "building tree 79 of 100\n",
      "building tree 80 of 100\n",
      "building tree 81 of 100\n",
      "building tree 82 of 100\n",
      "building tree 83 of 100\n",
      "building tree 84 of 100\n",
      "building tree 85 of 100\n",
      "building tree 86 of 100\n",
      "building tree 87 of 100\n",
      "building tree 88 of 100\n",
      "building tree 89 of 100\n",
      "building tree 90 of 100\n",
      "building tree 91 of 100\n",
      "building tree 92 of 100\n",
      "building tree 93 of 100\n",
      "building tree 94 of 100\n",
      "building tree 95 of 100\n",
      "building tree 96 of 100\n",
      "building tree 97 of 100\n",
      "building tree 98 of 100\n",
      "building tree 99 of 100\n",
      "building tree 100 of 100\n"
     ]
    },
    {
     "name": "stderr",
     "output_type": "stream",
     "text": [
      "[Parallel(n_jobs=-1)]: Done 100 out of 100 | elapsed: 15.2min finished\n",
      "[Parallel(n_jobs=4)]: Using backend ThreadingBackend with 4 concurrent workers.\n",
      "[Parallel(n_jobs=4)]: Done  33 tasks      | elapsed:    0.1s\n",
      "[Parallel(n_jobs=4)]: Done 100 out of 100 | elapsed:    0.5s finished\n"
     ]
    },
    {
     "name": "stdout",
     "output_type": "stream",
     "text": [
      "Feature set within params {'max_depth': 12, 'n_estimators': 100} Clipped RMSE 0.5419954165554084\n",
      "Feature set within_sel25 combination 7/12\n",
      "param dict:  {'max_depth': 14, 'n_estimators': 30}\n",
      "keeping cols  ['target_category_tfidf_bigram_256_within_shop_lag_12', 'target_category_within_shop_lag_4', 'target_category_within_shop_lag_2', 'date_block_num', 'item_category_id', 'target_category_frequent_256_within_shop_lag_5', 'target_category_frequent_256_within_shop_lag_6', 'target_category_tfidf_unigram_256_within_shop_lag_2', 'target_category_tfidf_bigram_256_within_shop_lag_2', 'target_category_tfidf_bigram_256_within_shop_lag_4', 'target_category_tfidf_unigram_256_within_shop_lag_6', 'item_id', 'target_category_frequent_256_within_shop_lag_4', 'target_category_within_shop_lag_12', 'target_category_tfidf_bigram_256_within_shop_lag_6', 'target_category_within_shop_lag_3', 'target_category_tfidf_bigram_256_within_shop_lag_5', 'target_category_tfidf_unigram_256_within_shop_lag_5', 'target_category_within_shop_lag_5', 'target_category_frequent_256_within_shop_lag_12', 'shop_id', 'target_category_frequent_256_within_shop_lag_3', 'target_category_tfidf_bigram_256_within_shop_lag_3', 'target_category_tfidf_unigram_256_within_shop_lag_4', 'target_category_tfidf_unigram_256_within_shop_lag_3']\n"
     ]
    },
    {
     "name": "stderr",
     "output_type": "stream",
     "text": [
      "[Parallel(n_jobs=-1)]: Using backend ThreadingBackend with 4 concurrent workers.\n"
     ]
    },
    {
     "name": "stdout",
     "output_type": "stream",
     "text": [
      "building tree 1 of 30building tree 2 of 30building tree 3 of 30\n",
      "building tree 4 of 30\n",
      "\n",
      "\n",
      "building tree 5 of 30\n",
      "building tree 6 of 30\n",
      "building tree 7 of 30\n",
      "building tree 8 of 30\n",
      "building tree 9 of 30\n",
      "building tree 10 of 30\n",
      "building tree 11 of 30\n",
      "building tree 12 of 30\n",
      "building tree 13 of 30\n",
      "building tree 14 of 30\n",
      "building tree 15 of 30\n",
      "building tree 16 of 30\n",
      "building tree 17 of 30\n",
      "building tree 18 of 30\n",
      "building tree 19 of 30\n",
      "building tree 20 of 30\n",
      "building tree 21 of 30\n",
      "building tree 22 of 30\n",
      "building tree 23 of 30\n",
      "building tree 24 of 30\n",
      "building tree 25 of 30\n",
      "building tree 26 of 30\n",
      "building tree 27 of 30\n",
      "building tree 28 of 30\n",
      "building tree 29 of 30\n",
      "building tree 30 of 30\n"
     ]
    },
    {
     "name": "stderr",
     "output_type": "stream",
     "text": [
      "[Parallel(n_jobs=-1)]: Done  30 out of  30 | elapsed:  5.2min finished\n",
      "[Parallel(n_jobs=4)]: Using backend ThreadingBackend with 4 concurrent workers.\n",
      "[Parallel(n_jobs=4)]: Done  30 out of  30 | elapsed:    0.1s finished\n"
     ]
    },
    {
     "name": "stdout",
     "output_type": "stream",
     "text": [
      "Feature set within params {'max_depth': 14, 'n_estimators': 30} Clipped RMSE 0.544682118110211\n",
      "Feature set within_sel25 combination 8/12\n",
      "param dict:  {'max_depth': 14, 'n_estimators': 50}\n",
      "keeping cols  ['target_category_tfidf_bigram_256_within_shop_lag_12', 'target_category_within_shop_lag_4', 'target_category_within_shop_lag_2', 'date_block_num', 'item_category_id', 'target_category_frequent_256_within_shop_lag_5', 'target_category_frequent_256_within_shop_lag_6', 'target_category_tfidf_unigram_256_within_shop_lag_2', 'target_category_tfidf_bigram_256_within_shop_lag_2', 'target_category_tfidf_bigram_256_within_shop_lag_4', 'target_category_tfidf_unigram_256_within_shop_lag_6', 'item_id', 'target_category_frequent_256_within_shop_lag_4', 'target_category_within_shop_lag_12', 'target_category_tfidf_bigram_256_within_shop_lag_6', 'target_category_within_shop_lag_3', 'target_category_tfidf_bigram_256_within_shop_lag_5', 'target_category_tfidf_unigram_256_within_shop_lag_5', 'target_category_within_shop_lag_5', 'target_category_frequent_256_within_shop_lag_12', 'shop_id', 'target_category_frequent_256_within_shop_lag_3', 'target_category_tfidf_bigram_256_within_shop_lag_3', 'target_category_tfidf_unigram_256_within_shop_lag_4', 'target_category_tfidf_unigram_256_within_shop_lag_3']\n"
     ]
    },
    {
     "name": "stderr",
     "output_type": "stream",
     "text": [
      "[Parallel(n_jobs=-1)]: Using backend ThreadingBackend with 4 concurrent workers.\n"
     ]
    },
    {
     "name": "stdout",
     "output_type": "stream",
     "text": [
      "building tree 1 of 50building tree 2 of 50building tree 3 of 50building tree 4 of 50\n",
      "\n",
      "\n",
      "\n",
      "building tree 5 of 50\n",
      "building tree 6 of 50\n",
      "building tree 7 of 50\n",
      "building tree 8 of 50\n",
      "building tree 9 of 50\n",
      "building tree 10 of 50\n",
      "building tree 11 of 50\n",
      "building tree 12 of 50\n",
      "building tree 13 of 50\n",
      "building tree 14 of 50\n",
      "building tree 15 of 50\n",
      "building tree 16 of 50\n",
      "building tree 17 of 50\n",
      "building tree 18 of 50\n",
      "building tree 19 of 50\n",
      "building tree 20 of 50\n",
      "building tree 21 of 50\n",
      "building tree 22 of 50\n",
      "building tree 23 of 50\n",
      "building tree 24 of 50\n",
      "building tree 25 of 50\n",
      "building tree 26 of 50\n",
      "building tree 27 of 50\n",
      "building tree 28 of 50\n",
      "building tree 29 of 50\n",
      "building tree 30 of 50\n",
      "building tree 31 of 50building tree 32 of 50\n",
      "\n",
      "building tree 33 of 50\n",
      "building tree 34 of 50\n",
      "building tree 35 of 50\n",
      "building tree 36 of 50\n"
     ]
    },
    {
     "name": "stderr",
     "output_type": "stream",
     "text": [
      "[Parallel(n_jobs=-1)]: Done  33 tasks      | elapsed:  6.0min\n"
     ]
    },
    {
     "name": "stdout",
     "output_type": "stream",
     "text": [
      "building tree 37 of 50\n",
      "building tree 38 of 50\n",
      "building tree 39 of 50\n",
      "building tree 40 of 50\n",
      "building tree 41 of 50\n",
      "building tree 42 of 50\n",
      "building tree 43 of 50\n",
      "building tree 44 of 50\n",
      "building tree 45 of 50\n",
      "building tree 46 of 50\n",
      "building tree 47 of 50\n",
      "building tree 48 of 50\n",
      "building tree 49 of 50\n",
      "building tree 50 of 50\n"
     ]
    },
    {
     "name": "stderr",
     "output_type": "stream",
     "text": [
      "[Parallel(n_jobs=-1)]: Done  50 out of  50 | elapsed:  8.4min finished\n",
      "[Parallel(n_jobs=4)]: Using backend ThreadingBackend with 4 concurrent workers.\n",
      "[Parallel(n_jobs=4)]: Done  33 tasks      | elapsed:    0.1s\n",
      "[Parallel(n_jobs=4)]: Done  50 out of  50 | elapsed:    0.2s finished\n"
     ]
    },
    {
     "name": "stdout",
     "output_type": "stream",
     "text": [
      "Feature set within params {'max_depth': 14, 'n_estimators': 50} Clipped RMSE 0.5380772305213145\n",
      "Feature set within_sel25 combination 9/12\n",
      "param dict:  {'max_depth': 14, 'n_estimators': 100}\n",
      "keeping cols  ['target_category_tfidf_bigram_256_within_shop_lag_12', 'target_category_within_shop_lag_4', 'target_category_within_shop_lag_2', 'date_block_num', 'item_category_id', 'target_category_frequent_256_within_shop_lag_5', 'target_category_frequent_256_within_shop_lag_6', 'target_category_tfidf_unigram_256_within_shop_lag_2', 'target_category_tfidf_bigram_256_within_shop_lag_2', 'target_category_tfidf_bigram_256_within_shop_lag_4', 'target_category_tfidf_unigram_256_within_shop_lag_6', 'item_id', 'target_category_frequent_256_within_shop_lag_4', 'target_category_within_shop_lag_12', 'target_category_tfidf_bigram_256_within_shop_lag_6', 'target_category_within_shop_lag_3', 'target_category_tfidf_bigram_256_within_shop_lag_5', 'target_category_tfidf_unigram_256_within_shop_lag_5', 'target_category_within_shop_lag_5', 'target_category_frequent_256_within_shop_lag_12', 'shop_id', 'target_category_frequent_256_within_shop_lag_3', 'target_category_tfidf_bigram_256_within_shop_lag_3', 'target_category_tfidf_unigram_256_within_shop_lag_4', 'target_category_tfidf_unigram_256_within_shop_lag_3']\n"
     ]
    },
    {
     "name": "stderr",
     "output_type": "stream",
     "text": [
      "[Parallel(n_jobs=-1)]: Using backend ThreadingBackend with 4 concurrent workers.\n"
     ]
    },
    {
     "name": "stdout",
     "output_type": "stream",
     "text": [
      "building tree 1 of 100building tree 2 of 100building tree 3 of 100building tree 4 of 100\n",
      "\n",
      "\n",
      "\n",
      "building tree 5 of 100\n",
      "building tree 6 of 100\n",
      "building tree 7 of 100\n",
      "building tree 8 of 100\n",
      "building tree 9 of 100\n",
      "building tree 10 of 100\n",
      "building tree 11 of 100\n",
      "building tree 12 of 100\n",
      "building tree 13 of 100\n",
      "building tree 14 of 100\n",
      "building tree 15 of 100\n",
      "building tree 16 of 100\n",
      "building tree 17 of 100\n",
      "building tree 18 of 100\n",
      "building tree 19 of 100\n",
      "building tree 20 of 100\n",
      "building tree 21 of 100\n",
      "building tree 22 of 100\n",
      "building tree 23 of 100\n",
      "building tree 24 of 100\n",
      "building tree 25 of 100\n",
      "building tree 26 of 100\n",
      "building tree 27 of 100\n",
      "building tree 28 of 100\n",
      "building tree 29 of 100\n",
      "building tree 30 of 100\n",
      "building tree 31 of 100\n",
      "building tree 32 of 100\n",
      "building tree 33 of 100\n",
      "building tree 34 of 100\n",
      "building tree 35 of 100\n",
      "building tree 36 of 100\n"
     ]
    },
    {
     "name": "stderr",
     "output_type": "stream",
     "text": [
      "[Parallel(n_jobs=-1)]: Done  33 tasks      | elapsed:  5.7min\n"
     ]
    },
    {
     "name": "stdout",
     "output_type": "stream",
     "text": [
      "building tree 37 of 100\n",
      "building tree 38 of 100\n",
      "building tree 39 of 100\n",
      "building tree 40 of 100\n",
      "building tree 41 of 100\n",
      "building tree 42 of 100\n",
      "building tree 43 of 100\n",
      "building tree 44 of 100\n",
      "building tree 45 of 100\n",
      "building tree 46 of 100\n",
      "building tree 47 of 100\n",
      "building tree 48 of 100\n",
      "building tree 49 of 100\n",
      "building tree 50 of 100\n",
      "building tree 51 of 100building tree 52 of 100\n",
      "\n",
      "building tree 53 of 100building tree 54 of 100\n",
      "\n",
      "building tree 55 of 100\n",
      "building tree 56 of 100\n",
      "building tree 57 of 100\n",
      "building tree 58 of 100\n",
      "building tree 59 of 100\n",
      "building tree 60 of 100\n",
      "building tree 61 of 100building tree 62 of 100\n",
      "\n",
      "building tree 63 of 100\n",
      "building tree 64 of 100\n",
      "building tree 65 of 100\n",
      "building tree 66 of 100\n",
      "building tree 67 of 100\n",
      "building tree 68 of 100\n",
      "building tree 69 of 100\n",
      "building tree 70 of 100\n",
      "building tree 71 of 100\n",
      "building tree 72 of 100\n",
      "building tree 73 of 100\n",
      "building tree 74 of 100\n",
      "building tree 75 of 100\n",
      "building tree 76 of 100\n",
      "building tree 77 of 100\n",
      "building tree 78 of 100\n",
      "building tree 79 of 100\n",
      "building tree 80 of 100\n",
      "building tree 81 of 100\n",
      "building tree 82 of 100\n",
      "building tree 83 of 100\n",
      "building tree 84 of 100\n",
      "building tree 85 of 100\n",
      "building tree 86 of 100\n",
      "building tree 87 of 100\n",
      "building tree 88 of 100\n",
      "building tree 89 of 100\n",
      "building tree 90 of 100\n",
      "building tree 91 of 100\n",
      "building tree 92 of 100\n",
      "building tree 93 of 100\n",
      "building tree 94 of 100\n",
      "building tree 95 of 100\n",
      "building tree 96 of 100\n",
      "building tree 97 of 100\n",
      "building tree 98 of 100\n",
      "building tree 99 of 100\n",
      "building tree 100 of 100\n"
     ]
    },
    {
     "name": "stderr",
     "output_type": "stream",
     "text": [
      "[Parallel(n_jobs=-1)]: Done 100 out of 100 | elapsed: 16.1min finished\n",
      "[Parallel(n_jobs=4)]: Using backend ThreadingBackend with 4 concurrent workers.\n",
      "[Parallel(n_jobs=4)]: Done  33 tasks      | elapsed:    0.2s\n",
      "[Parallel(n_jobs=4)]: Done 100 out of 100 | elapsed:    0.6s finished\n"
     ]
    },
    {
     "name": "stdout",
     "output_type": "stream",
     "text": [
      "Feature set within params {'max_depth': 14, 'n_estimators': 100} Clipped RMSE 0.5415402179520897\n",
      "Feature set within_sel25 combination 10/12\n",
      "param dict:  {'max_depth': 16, 'n_estimators': 30}\n",
      "keeping cols  ['target_category_tfidf_bigram_256_within_shop_lag_12', 'target_category_within_shop_lag_4', 'target_category_within_shop_lag_2', 'date_block_num', 'item_category_id', 'target_category_frequent_256_within_shop_lag_5', 'target_category_frequent_256_within_shop_lag_6', 'target_category_tfidf_unigram_256_within_shop_lag_2', 'target_category_tfidf_bigram_256_within_shop_lag_2', 'target_category_tfidf_bigram_256_within_shop_lag_4', 'target_category_tfidf_unigram_256_within_shop_lag_6', 'item_id', 'target_category_frequent_256_within_shop_lag_4', 'target_category_within_shop_lag_12', 'target_category_tfidf_bigram_256_within_shop_lag_6', 'target_category_within_shop_lag_3', 'target_category_tfidf_bigram_256_within_shop_lag_5', 'target_category_tfidf_unigram_256_within_shop_lag_5', 'target_category_within_shop_lag_5', 'target_category_frequent_256_within_shop_lag_12', 'shop_id', 'target_category_frequent_256_within_shop_lag_3', 'target_category_tfidf_bigram_256_within_shop_lag_3', 'target_category_tfidf_unigram_256_within_shop_lag_4', 'target_category_tfidf_unigram_256_within_shop_lag_3']\n"
     ]
    },
    {
     "name": "stderr",
     "output_type": "stream",
     "text": [
      "[Parallel(n_jobs=-1)]: Using backend ThreadingBackend with 4 concurrent workers.\n"
     ]
    },
    {
     "name": "stdout",
     "output_type": "stream",
     "text": [
      "building tree 1 of 30building tree 2 of 30building tree 3 of 30building tree 4 of 30\n",
      "\n",
      "\n",
      "\n",
      "building tree 5 of 30\n",
      "building tree 6 of 30\n",
      "building tree 7 of 30\n",
      "building tree 8 of 30\n",
      "building tree 9 of 30\n",
      "building tree 10 of 30\n",
      "building tree 11 of 30\n",
      "building tree 12 of 30\n",
      "building tree 13 of 30\n",
      "building tree 14 of 30\n",
      "building tree 15 of 30\n",
      "building tree 16 of 30\n",
      "building tree 17 of 30\n",
      "building tree 18 of 30\n",
      "building tree 19 of 30\n",
      "building tree 20 of 30\n",
      "building tree 21 of 30\n",
      "building tree 22 of 30\n",
      "building tree 23 of 30\n",
      "building tree 24 of 30\n",
      "building tree 25 of 30\n",
      "building tree 26 of 30\n",
      "building tree 27 of 30\n",
      "building tree 28 of 30\n",
      "building tree 29 of 30\n",
      "building tree 30 of 30\n"
     ]
    },
    {
     "name": "stderr",
     "output_type": "stream",
     "text": [
      "[Parallel(n_jobs=-1)]: Done  30 out of  30 | elapsed:  5.2min finished\n",
      "[Parallel(n_jobs=4)]: Using backend ThreadingBackend with 4 concurrent workers.\n",
      "[Parallel(n_jobs=4)]: Done  30 out of  30 | elapsed:    0.1s finished\n"
     ]
    },
    {
     "name": "stdout",
     "output_type": "stream",
     "text": [
      "Feature set within params {'max_depth': 16, 'n_estimators': 30} Clipped RMSE 0.5459853424546567\n",
      "Feature set within_sel25 combination 11/12\n",
      "param dict:  {'max_depth': 16, 'n_estimators': 50}\n",
      "keeping cols  ['target_category_tfidf_bigram_256_within_shop_lag_12', 'target_category_within_shop_lag_4', 'target_category_within_shop_lag_2', 'date_block_num', 'item_category_id', 'target_category_frequent_256_within_shop_lag_5', 'target_category_frequent_256_within_shop_lag_6', 'target_category_tfidf_unigram_256_within_shop_lag_2', 'target_category_tfidf_bigram_256_within_shop_lag_2', 'target_category_tfidf_bigram_256_within_shop_lag_4', 'target_category_tfidf_unigram_256_within_shop_lag_6', 'item_id', 'target_category_frequent_256_within_shop_lag_4', 'target_category_within_shop_lag_12', 'target_category_tfidf_bigram_256_within_shop_lag_6', 'target_category_within_shop_lag_3', 'target_category_tfidf_bigram_256_within_shop_lag_5', 'target_category_tfidf_unigram_256_within_shop_lag_5', 'target_category_within_shop_lag_5', 'target_category_frequent_256_within_shop_lag_12', 'shop_id', 'target_category_frequent_256_within_shop_lag_3', 'target_category_tfidf_bigram_256_within_shop_lag_3', 'target_category_tfidf_unigram_256_within_shop_lag_4', 'target_category_tfidf_unigram_256_within_shop_lag_3']\n"
     ]
    },
    {
     "name": "stderr",
     "output_type": "stream",
     "text": [
      "[Parallel(n_jobs=-1)]: Using backend ThreadingBackend with 4 concurrent workers.\n"
     ]
    },
    {
     "name": "stdout",
     "output_type": "stream",
     "text": [
      "building tree 1 of 50building tree 2 of 50building tree 3 of 50building tree 4 of 50\n",
      "\n",
      "\n",
      "\n",
      "building tree 5 of 50\n",
      "building tree 6 of 50building tree 7 of 50\n",
      "\n",
      "building tree 8 of 50\n",
      "building tree 9 of 50\n",
      "building tree 10 of 50\n",
      "building tree 11 of 50\n",
      "building tree 12 of 50\n",
      "building tree 13 of 50\n",
      "building tree 14 of 50\n",
      "building tree 15 of 50\n",
      "building tree 16 of 50\n",
      "building tree 17 of 50\n",
      "building tree 18 of 50\n",
      "building tree 19 of 50\n",
      "building tree 20 of 50\n",
      "building tree 21 of 50\n",
      "building tree 22 of 50\n",
      "building tree 23 of 50\n",
      "building tree 24 of 50\n",
      "building tree 25 of 50\n",
      "building tree 26 of 50\n",
      "building tree 27 of 50\n",
      "building tree 28 of 50\n",
      "building tree 29 of 50\n",
      "building tree 30 of 50\n",
      "building tree 31 of 50\n",
      "building tree 32 of 50\n",
      "building tree 33 of 50\n",
      "building tree 34 of 50\n",
      "building tree 35 of 50\n",
      "building tree 36 of 50\n"
     ]
    },
    {
     "name": "stderr",
     "output_type": "stream",
     "text": [
      "[Parallel(n_jobs=-1)]: Done  33 tasks      | elapsed:  5.8min\n"
     ]
    },
    {
     "name": "stdout",
     "output_type": "stream",
     "text": [
      "building tree 37 of 50\n",
      "building tree 38 of 50\n",
      "building tree 39 of 50\n",
      "building tree 40 of 50\n",
      "building tree 41 of 50\n",
      "building tree 42 of 50\n",
      "building tree 43 of 50\n",
      "building tree 44 of 50\n",
      "building tree 45 of 50\n",
      "building tree 46 of 50\n",
      "building tree 47 of 50\n",
      "building tree 48 of 50\n",
      "building tree 49 of 50\n",
      "building tree 50 of 50\n"
     ]
    },
    {
     "name": "stderr",
     "output_type": "stream",
     "text": [
      "[Parallel(n_jobs=-1)]: Done  50 out of  50 | elapsed:  8.4min finished\n",
      "[Parallel(n_jobs=4)]: Using backend ThreadingBackend with 4 concurrent workers.\n",
      "[Parallel(n_jobs=4)]: Done  33 tasks      | elapsed:    0.2s\n",
      "[Parallel(n_jobs=4)]: Done  50 out of  50 | elapsed:    0.3s finished\n"
     ]
    },
    {
     "name": "stdout",
     "output_type": "stream",
     "text": [
      "Feature set within params {'max_depth': 16, 'n_estimators': 50} Clipped RMSE 0.5445496132804873\n",
      "Feature set within_sel25 combination 12/12\n",
      "param dict:  {'max_depth': 16, 'n_estimators': 100}\n",
      "keeping cols  ['target_category_tfidf_bigram_256_within_shop_lag_12', 'target_category_within_shop_lag_4', 'target_category_within_shop_lag_2', 'date_block_num', 'item_category_id', 'target_category_frequent_256_within_shop_lag_5', 'target_category_frequent_256_within_shop_lag_6', 'target_category_tfidf_unigram_256_within_shop_lag_2', 'target_category_tfidf_bigram_256_within_shop_lag_2', 'target_category_tfidf_bigram_256_within_shop_lag_4', 'target_category_tfidf_unigram_256_within_shop_lag_6', 'item_id', 'target_category_frequent_256_within_shop_lag_4', 'target_category_within_shop_lag_12', 'target_category_tfidf_bigram_256_within_shop_lag_6', 'target_category_within_shop_lag_3', 'target_category_tfidf_bigram_256_within_shop_lag_5', 'target_category_tfidf_unigram_256_within_shop_lag_5', 'target_category_within_shop_lag_5', 'target_category_frequent_256_within_shop_lag_12', 'shop_id', 'target_category_frequent_256_within_shop_lag_3', 'target_category_tfidf_bigram_256_within_shop_lag_3', 'target_category_tfidf_unigram_256_within_shop_lag_4', 'target_category_tfidf_unigram_256_within_shop_lag_3']\n"
     ]
    },
    {
     "name": "stderr",
     "output_type": "stream",
     "text": [
      "[Parallel(n_jobs=-1)]: Using backend ThreadingBackend with 4 concurrent workers.\n"
     ]
    },
    {
     "name": "stdout",
     "output_type": "stream",
     "text": [
      "building tree 1 of 100building tree 2 of 100building tree 3 of 100building tree 4 of 100\n",
      "\n",
      "\n",
      "\n",
      "building tree 5 of 100\n",
      "building tree 6 of 100\n",
      "building tree 7 of 100\n",
      "building tree 8 of 100\n",
      "building tree 9 of 100\n",
      "building tree 10 of 100\n",
      "building tree 11 of 100\n",
      "building tree 12 of 100\n",
      "building tree 13 of 100\n",
      "building tree 14 of 100\n",
      "building tree 15 of 100\n",
      "building tree 16 of 100\n",
      "building tree 17 of 100\n",
      "building tree 18 of 100\n",
      "building tree 19 of 100\n",
      "building tree 20 of 100\n",
      "building tree 21 of 100\n",
      "building tree 22 of 100\n",
      "building tree 23 of 100\n",
      "building tree 24 of 100\n",
      "building tree 25 of 100\n",
      "building tree 26 of 100\n",
      "building tree 27 of 100\n",
      "building tree 28 of 100\n",
      "building tree 29 of 100\n",
      "building tree 30 of 100\n",
      "building tree 31 of 100\n",
      "building tree 32 of 100\n",
      "building tree 33 of 100\n",
      "building tree 34 of 100\n",
      "building tree 35 of 100\n",
      "building tree 36 of 100\n"
     ]
    },
    {
     "name": "stderr",
     "output_type": "stream",
     "text": [
      "[Parallel(n_jobs=-1)]: Done  33 tasks      | elapsed:  6.3min\n"
     ]
    },
    {
     "name": "stdout",
     "output_type": "stream",
     "text": [
      "building tree 37 of 100\n",
      "building tree 38 of 100\n",
      "building tree 39 of 100\n",
      "building tree 40 of 100\n",
      "building tree 41 of 100\n",
      "building tree 42 of 100\n",
      "building tree 43 of 100\n",
      "building tree 44 of 100\n",
      "building tree 45 of 100\n",
      "building tree 46 of 100building tree 47 of 100\n",
      "\n",
      "building tree 48 of 100\n",
      "building tree 49 of 100\n",
      "building tree 50 of 100\n",
      "building tree 51 of 100\n",
      "building tree 52 of 100\n",
      "building tree 53 of 100building tree 54 of 100\n",
      "\n",
      "building tree 55 of 100\n",
      "building tree 56 of 100\n",
      "building tree 57 of 100\n",
      "building tree 58 of 100\n",
      "building tree 59 of 100\n",
      "building tree 60 of 100\n",
      "building tree 61 of 100\n",
      "building tree 62 of 100\n",
      "building tree 63 of 100\n",
      "building tree 64 of 100\n",
      "building tree 65 of 100\n",
      "building tree 66 of 100\n",
      "building tree 67 of 100\n",
      "building tree 68 of 100\n",
      "building tree 69 of 100\n",
      "building tree 70 of 100\n",
      "building tree 71 of 100\n",
      "building tree 72 of 100\n",
      "building tree 73 of 100\n",
      "building tree 74 of 100\n",
      "building tree 75 of 100\n",
      "building tree 76 of 100\n",
      "building tree 77 of 100\n",
      "building tree 78 of 100\n",
      "building tree 79 of 100\n",
      "building tree 80 of 100\n",
      "building tree 81 of 100\n",
      "building tree 82 of 100\n",
      "building tree 83 of 100\n",
      "building tree 84 of 100\n",
      "building tree 85 of 100\n",
      "building tree 86 of 100\n",
      "building tree 87 of 100\n",
      "building tree 88 of 100\n",
      "building tree 89 of 100\n",
      "building tree 90 of 100\n",
      "building tree 91 of 100\n",
      "building tree 92 of 100\n",
      "building tree 93 of 100\n",
      "building tree 94 of 100\n",
      "building tree 95 of 100\n",
      "building tree 96 of 100\n",
      "building tree 97 of 100\n",
      "building tree 98 of 100\n",
      "building tree 99 of 100\n",
      "building tree 100 of 100\n"
     ]
    },
    {
     "name": "stderr",
     "output_type": "stream",
     "text": [
      "[Parallel(n_jobs=-1)]: Done 100 out of 100 | elapsed: 17.8min finished\n",
      "[Parallel(n_jobs=4)]: Using backend ThreadingBackend with 4 concurrent workers.\n",
      "[Parallel(n_jobs=4)]: Done  33 tasks      | elapsed:    0.2s\n",
      "[Parallel(n_jobs=4)]: Done 100 out of 100 | elapsed:    0.7s finished\n"
     ]
    },
    {
     "name": "stdout",
     "output_type": "stream",
     "text": [
      "Feature set within params {'max_depth': 16, 'n_estimators': 100} Clipped RMSE 0.541868218579768\n",
      "** Best RandomForestRegressor params for feature set within_25: {'max_depth': 14, 'n_estimators': 50}\n"
     ]
    }
   ],
   "source": [
    "from sklearn.ensemble import RandomForestRegressor\n",
    "\n",
    "grid = {'max_depth': [10,12,14,16],\n",
    "       'n_estimators': [30,50,100]}\n",
    "\n",
    "best_params={}          \n",
    "\n",
    "X_train, y_train, X_trainval, y_trainval, X_val, y_val, X_test, submissionidx2testidx = load_feature_set('allfeat', data_folder=DATA_FOLDER)\n",
    "\n",
    "for id in ['basic','basicv2','allfeat','text','within']:\n",
    "  for numsel in [9,16,25]:  \n",
    "      comb_list=iterate_parameter_combinations(grid)\n",
    "      score_list=[]\n",
    "      for param in comb_list:\n",
    "        print('Feature set {}_sel{} combination {}/{}'.format(id,numsel,len(score_list)+1,len(comb_list))) \n",
    "        print('param dict: ', param)\n",
    "        print('keeping cols ', list(search_path_sfs[id][numsel]['feature_names']))\n",
    "        to_drop_cols= [col for col in X_train.columns.values if not col in list(search_path_sfs[id][numsel]['feature_names'])]\n",
    "        reg=RandomForestRegressor(verbose=2, n_jobs=-1, **param)\n",
    "        reg.fit(X_train.drop(to_drop_cols,axis=1).to_numpy(), y_train)\n",
    "        pred_val = np.clip(reg.predict(X_val.drop(to_drop_cols,axis=1).to_numpy()), 0, 20)\n",
    "        rmse = clipped_rmse(y_val, pred_val)\n",
    "        print('Feature set {} params {} Clipped RMSE {}'.format(id,param,rmse))\n",
    "        score_list.append(rmse)\n",
    "        \n",
    "      print('** Best RandomForestRegressor params for feature set {}_{}: {}'.format(id,numsel,comb_list[np.argmin(score_list)]))      \n",
    "      best_params['{}_sel{}'.format(id,numsel)]=comb_list[np.argmin(score_list)]\n",
    "      with open(os.path.join(DATA_FOLDER,'best_params_rf.json'), 'w') as fp:\n",
    "        json.dump(best_params, fp)  \n",
    "        "
   ]
  },
  {
   "cell_type": "code",
   "execution_count": null,
   "metadata": {},
   "outputs": [],
   "source": []
  }
 ],
 "metadata": {
  "kernelspec": {
   "display_name": "Python 3",
   "language": "python",
   "name": "python3"
  },
  "language_info": {
   "codemirror_mode": {
    "name": "ipython",
    "version": 3
   },
   "file_extension": ".py",
   "mimetype": "text/x-python",
   "name": "python",
   "nbconvert_exporter": "python",
   "pygments_lexer": "ipython3",
   "version": "3.7.3"
  }
 },
 "nbformat": 4,
 "nbformat_minor": 4
}
